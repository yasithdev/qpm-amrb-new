{
 "cells": [
  {
   "cell_type": "code",
   "execution_count": 1,
   "id": "e8b1ceb1-2a03-4ad4-a066-f0102d9c81b5",
   "metadata": {},
   "outputs": [],
   "source": [
    "import numpy as np\n",
    "import torch\n",
    "\n",
    "# initialize the RNG deterministically\n",
    "np.random.seed(42)\n",
    "torch.manual_seed(42)\n",
    "torch.set_float32_matmul_precision('medium')"
   ]
  },
  {
   "cell_type": "code",
   "execution_count": 2,
   "id": "ef46445c-d290-4645-b3e0-5ea8a050bb88",
   "metadata": {
    "tags": [
     "parameters"
    ]
   },
   "outputs": [],
   "source": [
    "# parameters\n",
    "dataset_name = \"QPM_species\"\n",
    "model_name = \"resnet\"\n",
    "ood = \"\""
   ]
  },
  {
   "cell_type": "code",
   "execution_count": 3,
   "id": "5811b2b1-ed7a-486b-9348-9f29fb5f3b7e",
   "metadata": {},
   "outputs": [],
   "source": [
    "# initialize data attributes and loaders\n",
    "from config import load_config\n",
    "\n",
    "config = load_config(\n",
    "    dataset_name = dataset_name,\n",
    "    model_name = model_name,\n",
    "    ood = ood,\n",
    ")\n",
    "config.load_data()\n",
    "config.print_labels()\n",
    "dm = config.datamodule\n",
    "\n",
    "assert dm"
   ]
  },
  {
   "cell_type": "code",
   "execution_count": 4,
   "id": "a5493260-073c-4c7d-8bd0-c02877854666",
   "metadata": {},
   "outputs": [
    {
     "name": "stdout",
     "output_type": "stream",
     "text": [
      "Dataset type train label type: species\n",
      "Loaded 375443 images\n",
      "Dataset type val label type: species\n",
      "Loaded 48562 images\n",
      "Dataset type test label type: species\n",
      "Loaded 48790 images\n",
      "Dataset type train label type: species\n",
      "Loaded 0 images\n",
      "Dataset type val label type: species\n",
      "Loaded 0 images\n",
      "Dataset type test label type: species\n",
      "Loaded 0 images\n"
     ]
    }
   ],
   "source": [
    "dm.setup(\"fit\")\n",
    "dm.setup(\"test\")\n",
    "dm.setup(\"predict\")"
   ]
  },
  {
   "cell_type": "code",
   "execution_count": 5,
   "id": "e2d03d9a-cb33-4ace-9e4a-e2d4b0dbe94f",
   "metadata": {},
   "outputs": [],
   "source": [
    "train_loader = dm.train_dataloader()\n",
    "val_loader = dm.val_dataloader()\n",
    "test_loader = dm.test_dataloader()\n",
    "predict_loader = dm.predict_dataloader()"
   ]
  },
  {
   "cell_type": "code",
   "execution_count": 16,
   "id": "5ef2017e-b03e-4a5e-ab7a-08108ad0a70d",
   "metadata": {},
   "outputs": [
    {
     "name": "stderr",
     "output_type": "stream",
     "text": [
      "  0%|          | 0/763 [00:00<?, ?it/s]"
     ]
    },
    {
     "name": "stdout",
     "output_type": "stream",
     "text": [
      "torch.Size([64, 60, 60, 1]) torch.Size([64])\n"
     ]
    },
    {
     "name": "stderr",
     "output_type": "stream",
     "text": [
      "\n"
     ]
    }
   ],
   "source": [
    "from models.common import edl_probs\n",
    "from tqdm.auto import tqdm\n",
    "\n",
    "# accuracy.reset()\n",
    "# classifier_loss = \"edl\"\n",
    "for batch_idx, batch in enumerate(tqdm(test_loader)):\n",
    "    x, y = batch\n",
    "    print(x.size(), y.size())\n",
    "    break"
   ]
  },
  {
   "cell_type": "code",
   "execution_count": null,
   "id": "ec766110-7e55-4d34-b8f9-6956b7f64865",
   "metadata": {},
   "outputs": [],
   "source": []
  }
 ],
 "metadata": {
  "kernelspec": {
   "display_name": "Python (qpm-amrb)",
   "language": "python",
   "name": "qpm-amrb"
  },
  "language_info": {
   "codemirror_mode": {
    "name": "ipython",
    "version": 3
   },
   "file_extension": ".py",
   "mimetype": "text/x-python",
   "name": "python",
   "nbconvert_exporter": "python",
   "pygments_lexer": "ipython3",
   "version": "3.10.13"
  },
  "toc-showtags": false
 },
 "nbformat": 4,
 "nbformat_minor": 5
}
