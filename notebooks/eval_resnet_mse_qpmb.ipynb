{
 "cells": [
  {
   "cell_type": "code",
   "execution_count": 1,
   "id": "1c8d4904-cfed-43f4-b71f-9cf70de63d54",
   "metadata": {
    "execution": {
     "iopub.execute_input": "2024-03-15T17:33:18.445258Z",
     "iopub.status.busy": "2024-03-15T17:33:18.445069Z",
     "iopub.status.idle": "2024-03-15T17:33:44.835228Z",
     "shell.execute_reply": "2024-03-15T17:33:44.834755Z"
    },
    "papermill": {
     "duration": 26.402304,
     "end_time": "2024-03-15T17:33:44.836313",
     "exception": false,
     "start_time": "2024-03-15T17:33:18.434009",
     "status": "completed"
    },
    "tags": []
   },
   "outputs": [],
   "source": [
    "import numpy as np\n",
    "import pandas as pd\n",
    "import torch\n",
    "from config import load_config\n",
    "from pathlib import Path\n",
    "from lightning.pytorch.loggers.wandb import WandbLogger\n",
    "from scipy.stats import wasserstein_distance, entropy\n",
    "from sklearn.metrics import roc_auc_score\n",
    "from tqdm import tqdm\n",
    "from umap import UMAP\n",
    "from matplotlib import pyplot as plt\n",
    "import seaborn as sns\n",
    "import faiss\n",
    "import os\n",
    "\n",
    "# initialize the RNG deterministically\n",
    "np.random.seed(42)\n",
    "torch.manual_seed(42)\n",
    "torch.set_float32_matmul_precision('medium')\n",
    "run_stats = {}"
   ]
  },
  {
   "cell_type": "code",
   "execution_count": 2,
   "id": "207f4f7a-1449-46b6-8215-c4aaf026379d",
   "metadata": {
    "execution": {
     "iopub.execute_input": "2024-03-15T17:33:44.859111Z",
     "iopub.status.busy": "2024-03-15T17:33:44.858822Z",
     "iopub.status.idle": "2024-03-15T17:33:44.861200Z",
     "shell.execute_reply": "2024-03-15T17:33:44.860894Z"
    },
    "papermill": {
     "duration": 0.013731,
     "end_time": "2024-03-15T17:33:44.861920",
     "exception": false,
     "start_time": "2024-03-15T17:33:44.848189",
     "status": "completed"
    },
    "tags": [
     "parameters"
    ]
   },
   "outputs": [],
   "source": [
    "# parameters\n",
    "dataset_name = \"\"\n",
    "model_name = \"resnet_mse\"\n",
    "ood = \"\""
   ]
  },
  {
   "cell_type": "code",
   "execution_count": 3,
   "id": "e60786ae",
   "metadata": {
    "execution": {
     "iopub.execute_input": "2024-03-15T17:33:44.882315Z",
     "iopub.status.busy": "2024-03-15T17:33:44.882099Z",
     "iopub.status.idle": "2024-03-15T17:33:44.919007Z",
     "shell.execute_reply": "2024-03-15T17:33:44.918708Z"
    },
    "papermill": {
     "duration": 0.047914,
     "end_time": "2024-03-15T17:33:44.919727",
     "exception": false,
     "start_time": "2024-03-15T17:33:44.871813",
     "status": "completed"
    },
    "tags": [
     "injected-parameters"
    ]
   },
   "outputs": [],
   "source": [
    "# Parameters\n",
    "dataset_name = \"QPM_species\"\n",
    "ood = \"\"\n"
   ]
  },
  {
   "cell_type": "code",
   "execution_count": 4,
   "id": "efa4ef11-ff10-4a92-92a1-e128b161c8d4",
   "metadata": {
    "execution": {
     "iopub.execute_input": "2024-03-15T17:33:44.940169Z",
     "iopub.status.busy": "2024-03-15T17:33:44.939956Z",
     "iopub.status.idle": "2024-03-15T17:33:50.038012Z",
     "shell.execute_reply": "2024-03-15T17:33:50.037622Z"
    },
    "papermill": {
     "duration": 5.109268,
     "end_time": "2024-03-15T17:33:50.038899",
     "exception": false,
     "start_time": "2024-03-15T17:33:44.929631",
     "status": "completed"
    },
    "tags": []
   },
   "outputs": [],
   "source": [
    "# initialize data attributes and loaders\n",
    "save_name = f\"assets/results/{dataset_name}/{model_name}/{ood}\"\n",
    "os.makedirs(os.path.dirname(save_name + \"_blank.file\"), exist_ok=True)\n",
    "config = load_config(\n",
    "    dataset_name = dataset_name,\n",
    "    model_name = model_name,\n",
    "    ood = ood,\n",
    ")\n",
    "config.load_data(shuffle_training_data=False)\n",
    "config.print_labels()\n",
    "dm = config.datamodule\n",
    "\n",
    "assert dm"
   ]
  },
  {
   "cell_type": "code",
   "execution_count": 5,
   "id": "2d13a424-6039-4fe1-a433-f242744d5819",
   "metadata": {
    "execution": {
     "iopub.execute_input": "2024-03-15T17:33:50.060762Z",
     "iopub.status.busy": "2024-03-15T17:33:50.060382Z",
     "iopub.status.idle": "2024-03-15T17:35:14.080841Z",
     "shell.execute_reply": "2024-03-15T17:35:14.080482Z"
    },
    "papermill": {
     "duration": 84.032178,
     "end_time": "2024-03-15T17:35:14.081622",
     "exception": false,
     "start_time": "2024-03-15T17:33:50.049444",
     "status": "completed"
    },
    "tags": []
   },
   "outputs": [
    {
     "name": "stdout",
     "output_type": "stream",
     "text": [
      "Dataset type train label type: species\n"
     ]
    },
    {
     "name": "stdout",
     "output_type": "stream",
     "text": [
      "Loaded 375443 images\n",
      "Dataset type val label type: species\n"
     ]
    },
    {
     "name": "stdout",
     "output_type": "stream",
     "text": [
      "Loaded 48562 images\n",
      "Dataset type test label type: species\n"
     ]
    },
    {
     "name": "stdout",
     "output_type": "stream",
     "text": [
      " - Min class count:  976\n",
      "Loaded 20496 images\n",
      "Dataset type test label type: species\n"
     ]
    },
    {
     "name": "stdout",
     "output_type": "stream",
     "text": [
      " - Min class count:  976\n",
      "Loaded 0 images\n"
     ]
    }
   ],
   "source": [
    "# initialize data modules\n",
    "dm.setup(\"fit\")\n",
    "dm.setup(\"test\")\n",
    "dm.setup(\"predict\")"
   ]
  },
  {
   "cell_type": "code",
   "execution_count": 6,
   "id": "3b0a4c59-0686-4d7e-880e-8aa1f86b24b3",
   "metadata": {
    "execution": {
     "iopub.execute_input": "2024-03-15T17:35:14.103509Z",
     "iopub.status.busy": "2024-03-15T17:35:14.103224Z",
     "iopub.status.idle": "2024-03-15T17:35:14.111319Z",
     "shell.execute_reply": "2024-03-15T17:35:14.110996Z"
    },
    "papermill": {
     "duration": 0.019736,
     "end_time": "2024-03-15T17:35:14.112028",
     "exception": false,
     "start_time": "2024-03-15T17:35:14.092292",
     "status": "completed"
    },
    "tags": []
   },
   "outputs": [
    {
     "name": "stdout",
     "output_type": "stream",
     "text": [
      " qsi4bt99\n"
     ]
    }
   ],
   "source": [
    "# model ids\n",
    "ood_str = \":\".join(map(str, config.ood))\n",
    "df = pd.read_csv(\"ids.csv\").fillna(\"\")\n",
    "model_id = df[(df.dataset_name == dataset_name) & (df.model_name == model_name) & (df.ood == ood)].id.item()\n",
    "print(ood_str, model_id)"
   ]
  },
  {
   "cell_type": "code",
   "execution_count": 7,
   "id": "4b53630b-269f-48f1-8cfa-8bc03bd5c7a8",
   "metadata": {
    "execution": {
     "iopub.execute_input": "2024-03-15T17:35:14.133273Z",
     "iopub.status.busy": "2024-03-15T17:35:14.133055Z",
     "iopub.status.idle": "2024-03-15T17:35:23.295281Z",
     "shell.execute_reply": "2024-03-15T17:35:23.294904Z"
    },
    "papermill": {
     "duration": 9.173857,
     "end_time": "2024-03-15T17:35:23.296159",
     "exception": false,
     "start_time": "2024-03-15T17:35:14.122302",
     "status": "completed"
    },
    "tags": []
   },
   "outputs": [
    {
     "name": "stderr",
     "output_type": "stream",
     "text": [
      "\u001b[34m\u001b[1mwandb\u001b[0m: Downloading large artifact model-qsi4bt99:best, 58.48MB. 1 files... \n"
     ]
    },
    {
     "name": "stderr",
     "output_type": "stream",
     "text": [
      "\u001b[34m\u001b[1mwandb\u001b[0m:   1 of 1 files downloaded.  \n"
     ]
    },
    {
     "name": "stderr",
     "output_type": "stream",
     "text": [
      "Done. 0:0:3.9\n"
     ]
    }
   ],
   "source": [
    "# load model and weights\n",
    "model = config.get_model()\n",
    "artifact_dir = WandbLogger.download_artifact(artifact=f\"yasith/robustml/model-{model_id}:best\")\n",
    "model = model.__class__.load_from_checkpoint(Path(artifact_dir) / \"model.ckpt\", config=config)\n",
    "model = model.cuda()\n",
    "model.eval();"
   ]
  },
  {
   "cell_type": "code",
   "execution_count": 8,
   "id": "70012880-6870-4eb5-9bb8-533a1e31ed04",
   "metadata": {
    "execution": {
     "iopub.execute_input": "2024-03-15T17:35:23.318341Z",
     "iopub.status.busy": "2024-03-15T17:35:23.318093Z",
     "iopub.status.idle": "2024-03-15T17:35:23.320656Z",
     "shell.execute_reply": "2024-03-15T17:35:23.320344Z"
    },
    "papermill": {
     "duration": 0.014345,
     "end_time": "2024-03-15T17:35:23.321362",
     "exception": false,
     "start_time": "2024-03-15T17:35:23.307017",
     "status": "completed"
    },
    "tags": []
   },
   "outputs": [],
   "source": [
    "# create data loaders\n",
    "train_loader = dm.train_dataloader()\n",
    "val_loader = dm.val_dataloader()\n",
    "test_loader = dm.test_dataloader()\n",
    "if ood_str:\n",
    "    predict_loader = dm.predict_dataloader()"
   ]
  },
  {
   "cell_type": "code",
   "execution_count": 9,
   "id": "56027155-3d85-4347-94c9-a075ab1e2d20",
   "metadata": {
    "execution": {
     "iopub.execute_input": "2024-03-15T17:35:23.342775Z",
     "iopub.status.busy": "2024-03-15T17:35:23.342573Z",
     "iopub.status.idle": "2024-03-15T17:36:43.719565Z",
     "shell.execute_reply": "2024-03-15T17:36:43.719136Z"
    },
    "papermill": {
     "duration": 80.388579,
     "end_time": "2024-03-15T17:36:43.720343",
     "exception": false,
     "start_time": "2024-03-15T17:35:23.331764",
     "status": "completed"
    },
    "tags": []
   },
   "outputs": [
    {
     "name": "stderr",
     "output_type": "stream",
     "text": [
      "\r",
      "  0%|                                                                                                                    | 0/2934 [00:00<?, ?it/s]"
     ]
    },
    {
     "name": "stderr",
     "output_type": "stream",
     "text": [
      "\r",
      "  0%|                                                                                                            | 1/2934 [00:00<28:03,  1.74it/s]"
     ]
    },
    {
     "name": "stderr",
     "output_type": "stream",
     "text": [
      "\r",
      "  0%|▏                                                                                                           | 6/2934 [00:00<04:24, 11.06it/s]"
     ]
    },
    {
     "name": "stderr",
     "output_type": "stream",
     "text": [
      "\r",
      "  0%|▍                                                                                                          | 11/2934 [00:00<02:33, 19.04it/s]"
     ]
    },
    {
     "name": "stderr",
     "output_type": "stream",
     "text": [
      "\r",
      "  1%|▌                                                                                                          | 16/2934 [00:00<01:54, 25.54it/s]"
     ]
    },
    {
     "name": "stderr",
     "output_type": "stream",
     "text": [
      "\r",
      "  1%|▊                                                                                                          | 21/2934 [00:01<01:35, 30.64it/s]"
     ]
    },
    {
     "name": "stderr",
     "output_type": "stream",
     "text": [
      "\r",
      "  1%|▉                                                                                                          | 26/2934 [00:01<01:24, 34.51it/s]"
     ]
    },
    {
     "name": "stderr",
     "output_type": "stream",
     "text": [
      "\r",
      "  1%|█▏                                                                                                         | 31/2934 [00:01<01:17, 37.45it/s]"
     ]
    },
    {
     "name": "stderr",
     "output_type": "stream",
     "text": [
      "\r",
      "  1%|█▎                                                                                                         | 36/2934 [00:01<01:13, 39.54it/s]"
     ]
    },
    {
     "name": "stderr",
     "output_type": "stream",
     "text": [
      "\r",
      "  1%|█▍                                                                                                         | 41/2934 [00:01<01:10, 41.06it/s]"
     ]
    },
    {
     "name": "stderr",
     "output_type": "stream",
     "text": [
      "\r",
      "  2%|█▋                                                                                                         | 46/2934 [00:01<01:08, 42.21it/s]"
     ]
    },
    {
     "name": "stderr",
     "output_type": "stream",
     "text": [
      "\r",
      "  2%|█▊                                                                                                         | 51/2934 [00:01<01:07, 42.96it/s]"
     ]
    },
    {
     "name": "stderr",
     "output_type": "stream",
     "text": [
      "\r",
      "  2%|██                                                                                                         | 56/2934 [00:01<01:06, 43.50it/s]"
     ]
    },
    {
     "name": "stderr",
     "output_type": "stream",
     "text": [
      "\r",
      "  2%|██▏                                                                                                        | 61/2934 [00:01<01:05, 43.86it/s]"
     ]
    },
    {
     "name": "stderr",
     "output_type": "stream",
     "text": [
      "\r",
      "  2%|██▍                                                                                                        | 66/2934 [00:02<01:04, 44.18it/s]"
     ]
    },
    {
     "name": "stderr",
     "output_type": "stream",
     "text": [
      "\r",
      "  2%|██▌                                                                                                        | 71/2934 [00:02<01:04, 44.35it/s]"
     ]
    },
    {
     "name": "stderr",
     "output_type": "stream",
     "text": [
      "\r",
      "  3%|██▊                                                                                                        | 76/2934 [00:02<01:04, 44.47it/s]"
     ]
    },
    {
     "name": "stderr",
     "output_type": "stream",
     "text": [
      "\r",
      "  3%|██▉                                                                                                        | 81/2934 [00:02<01:03, 44.63it/s]"
     ]
    },
    {
     "name": "stderr",
     "output_type": "stream",
     "text": [
      "\r",
      "  3%|███▏                                                                                                       | 86/2934 [00:02<01:03, 44.66it/s]"
     ]
    },
    {
     "name": "stderr",
     "output_type": "stream",
     "text": [
      "\r",
      "  3%|███▎                                                                                                       | 91/2934 [00:02<01:03, 44.66it/s]"
     ]
    },
    {
     "name": "stderr",
     "output_type": "stream",
     "text": [
      "\r",
      "  3%|███▌                                                                                                       | 96/2934 [00:02<01:03, 44.69it/s]"
     ]
    },
    {
     "name": "stderr",
     "output_type": "stream",
     "text": [
      "\r",
      "  3%|███▋                                                                                                      | 101/2934 [00:02<01:03, 44.79it/s]"
     ]
    },
    {
     "name": "stderr",
     "output_type": "stream",
     "text": [
      "\r",
      "  4%|███▊                                                                                                      | 106/2934 [00:02<01:03, 44.74it/s]"
     ]
    },
    {
     "name": "stderr",
     "output_type": "stream",
     "text": [
      "\r",
      "  4%|████                                                                                                      | 111/2934 [00:03<01:03, 44.75it/s]"
     ]
    },
    {
     "name": "stderr",
     "output_type": "stream",
     "text": [
      "\r",
      "  4%|████▏                                                                                                     | 116/2934 [00:03<01:02, 44.79it/s]"
     ]
    },
    {
     "name": "stderr",
     "output_type": "stream",
     "text": [
      "\r",
      "  4%|████▎                                                                                                     | 121/2934 [00:03<01:02, 44.73it/s]"
     ]
    },
    {
     "name": "stderr",
     "output_type": "stream",
     "text": [
      "\r",
      "  4%|████▌                                                                                                     | 126/2934 [00:03<01:02, 44.75it/s]"
     ]
    },
    {
     "name": "stderr",
     "output_type": "stream",
     "text": [
      "\r",
      "  4%|████▋                                                                                                     | 131/2934 [00:03<01:02, 44.78it/s]"
     ]
    },
    {
     "name": "stderr",
     "output_type": "stream",
     "text": [
      "\r",
      "  5%|████▉                                                                                                     | 136/2934 [00:03<01:02, 44.83it/s]"
     ]
    },
    {
     "name": "stderr",
     "output_type": "stream",
     "text": [
      "\r",
      "  5%|█████                                                                                                     | 141/2934 [00:03<01:02, 44.80it/s]"
     ]
    },
    {
     "name": "stderr",
     "output_type": "stream",
     "text": [
      "\r",
      "  5%|█████▎                                                                                                    | 146/2934 [00:03<01:02, 44.79it/s]"
     ]
    },
    {
     "name": "stderr",
     "output_type": "stream",
     "text": [
      "\r",
      "  5%|█████▍                                                                                                    | 151/2934 [00:03<01:02, 44.83it/s]"
     ]
    },
    {
     "name": "stderr",
     "output_type": "stream",
     "text": [
      "\r",
      "  5%|█████▋                                                                                                    | 156/2934 [00:04<01:02, 44.79it/s]"
     ]
    },
    {
     "name": "stderr",
     "output_type": "stream",
     "text": [
      "\r",
      "  5%|█████▊                                                                                                    | 161/2934 [00:04<01:02, 44.72it/s]"
     ]
    },
    {
     "name": "stderr",
     "output_type": "stream",
     "text": [
      "\r",
      "  6%|█████▉                                                                                                    | 166/2934 [00:04<01:01, 44.71it/s]"
     ]
    },
    {
     "name": "stderr",
     "output_type": "stream",
     "text": [
      "\r",
      "  6%|██████▏                                                                                                   | 171/2934 [00:04<01:01, 44.79it/s]"
     ]
    },
    {
     "name": "stderr",
     "output_type": "stream",
     "text": [
      "\r",
      "  6%|██████▎                                                                                                   | 176/2934 [00:04<01:01, 44.78it/s]"
     ]
    },
    {
     "name": "stderr",
     "output_type": "stream",
     "text": [
      "\r",
      "  6%|██████▌                                                                                                   | 181/2934 [00:04<01:01, 44.77it/s]"
     ]
    },
    {
     "name": "stderr",
     "output_type": "stream",
     "text": [
      "\r",
      "  6%|██████▋                                                                                                   | 186/2934 [00:04<01:01, 44.83it/s]"
     ]
    },
    {
     "name": "stderr",
     "output_type": "stream",
     "text": [
      "\r",
      "  7%|██████▉                                                                                                   | 191/2934 [00:04<01:01, 44.83it/s]"
     ]
    },
    {
     "name": "stderr",
     "output_type": "stream",
     "text": [
      "\r",
      "  7%|███████                                                                                                   | 196/2934 [00:04<01:01, 44.77it/s]"
     ]
    },
    {
     "name": "stderr",
     "output_type": "stream",
     "text": [
      "\r",
      "  7%|███████▎                                                                                                  | 201/2934 [00:05<01:01, 44.79it/s]"
     ]
    },
    {
     "name": "stderr",
     "output_type": "stream",
     "text": [
      "\r",
      "  7%|███████▍                                                                                                  | 206/2934 [00:05<01:00, 44.85it/s]"
     ]
    },
    {
     "name": "stderr",
     "output_type": "stream",
     "text": [
      "\r",
      "  7%|███████▌                                                                                                  | 211/2934 [00:05<01:00, 44.82it/s]"
     ]
    },
    {
     "name": "stderr",
     "output_type": "stream",
     "text": [
      "\r",
      "  7%|███████▊                                                                                                  | 216/2934 [00:05<01:00, 44.80it/s]"
     ]
    },
    {
     "name": "stderr",
     "output_type": "stream",
     "text": [
      "\r",
      "  8%|███████▉                                                                                                  | 221/2934 [00:05<01:00, 44.84it/s]"
     ]
    },
    {
     "name": "stderr",
     "output_type": "stream",
     "text": [
      "\r",
      "  8%|████████▏                                                                                                 | 226/2934 [00:05<01:00, 44.81it/s]"
     ]
    },
    {
     "name": "stderr",
     "output_type": "stream",
     "text": [
      "\r",
      "  8%|████████▎                                                                                                 | 231/2934 [00:05<01:00, 44.79it/s]"
     ]
    },
    {
     "name": "stderr",
     "output_type": "stream",
     "text": [
      "\r",
      "  8%|████████▌                                                                                                 | 236/2934 [00:05<01:00, 44.79it/s]"
     ]
    },
    {
     "name": "stderr",
     "output_type": "stream",
     "text": [
      "\r",
      "  8%|████████▋                                                                                                 | 241/2934 [00:05<01:00, 44.85it/s]"
     ]
    },
    {
     "name": "stderr",
     "output_type": "stream",
     "text": [
      "\r",
      "  8%|████████▉                                                                                                 | 246/2934 [00:06<00:59, 44.83it/s]"
     ]
    },
    {
     "name": "stderr",
     "output_type": "stream",
     "text": [
      "\r",
      "  9%|█████████                                                                                                 | 251/2934 [00:06<00:59, 44.79it/s]"
     ]
    },
    {
     "name": "stderr",
     "output_type": "stream",
     "text": [
      "\r",
      "  9%|█████████▏                                                                                                | 256/2934 [00:06<00:59, 44.76it/s]"
     ]
    },
    {
     "name": "stderr",
     "output_type": "stream",
     "text": [
      "\r",
      "  9%|█████████▍                                                                                                | 261/2934 [00:06<00:59, 44.75it/s]"
     ]
    },
    {
     "name": "stderr",
     "output_type": "stream",
     "text": [
      "\r",
      "  9%|█████████▌                                                                                                | 266/2934 [00:06<00:59, 44.84it/s]"
     ]
    },
    {
     "name": "stderr",
     "output_type": "stream",
     "text": [
      "\r",
      "  9%|█████████▊                                                                                                | 271/2934 [00:06<00:59, 44.82it/s]"
     ]
    },
    {
     "name": "stderr",
     "output_type": "stream",
     "text": [
      "\r",
      "  9%|█████████▉                                                                                                | 276/2934 [00:06<00:59, 44.81it/s]"
     ]
    },
    {
     "name": "stderr",
     "output_type": "stream",
     "text": [
      "\r",
      " 10%|██████████▏                                                                                               | 281/2934 [00:06<00:59, 44.79it/s]"
     ]
    },
    {
     "name": "stderr",
     "output_type": "stream",
     "text": [
      "\r",
      " 10%|██████████▎                                                                                               | 286/2934 [00:06<00:59, 44.86it/s]"
     ]
    },
    {
     "name": "stderr",
     "output_type": "stream",
     "text": [
      "\r",
      " 10%|██████████▌                                                                                               | 291/2934 [00:07<00:58, 44.85it/s]"
     ]
    },
    {
     "name": "stderr",
     "output_type": "stream",
     "text": [
      "\r",
      " 10%|██████████▋                                                                                               | 296/2934 [00:07<00:58, 44.81it/s]"
     ]
    },
    {
     "name": "stderr",
     "output_type": "stream",
     "text": [
      "\r",
      " 10%|██████████▊                                                                                               | 301/2934 [00:07<00:58, 44.86it/s]"
     ]
    },
    {
     "name": "stderr",
     "output_type": "stream",
     "text": [
      "\r",
      " 10%|███████████                                                                                               | 306/2934 [00:07<00:58, 44.84it/s]"
     ]
    },
    {
     "name": "stderr",
     "output_type": "stream",
     "text": [
      "\r",
      " 11%|███████████▏                                                                                              | 311/2934 [00:07<00:58, 44.79it/s]"
     ]
    },
    {
     "name": "stderr",
     "output_type": "stream",
     "text": [
      "\r",
      " 11%|███████████▍                                                                                              | 316/2934 [00:07<00:58, 44.78it/s]"
     ]
    },
    {
     "name": "stderr",
     "output_type": "stream",
     "text": [
      "\r",
      " 11%|███████████▌                                                                                              | 321/2934 [00:07<00:58, 44.82it/s]"
     ]
    },
    {
     "name": "stderr",
     "output_type": "stream",
     "text": [
      "\r",
      " 11%|███████████▊                                                                                              | 326/2934 [00:07<00:58, 44.81it/s]"
     ]
    },
    {
     "name": "stderr",
     "output_type": "stream",
     "text": [
      "\r",
      " 11%|███████████▉                                                                                              | 331/2934 [00:07<00:58, 44.78it/s]"
     ]
    },
    {
     "name": "stderr",
     "output_type": "stream",
     "text": [
      "\r",
      " 11%|████████████▏                                                                                             | 336/2934 [00:08<00:58, 44.78it/s]"
     ]
    },
    {
     "name": "stderr",
     "output_type": "stream",
     "text": [
      "\r",
      " 12%|████████████▎                                                                                             | 341/2934 [00:08<00:57, 44.83it/s]"
     ]
    },
    {
     "name": "stderr",
     "output_type": "stream",
     "text": [
      "\r",
      " 12%|████████████▌                                                                                             | 346/2934 [00:08<00:57, 44.81it/s]"
     ]
    },
    {
     "name": "stderr",
     "output_type": "stream",
     "text": [
      "\r",
      " 12%|████████████▋                                                                                             | 351/2934 [00:08<00:57, 44.79it/s]"
     ]
    },
    {
     "name": "stderr",
     "output_type": "stream",
     "text": [
      "\r",
      " 12%|████████████▊                                                                                             | 356/2934 [00:08<00:57, 44.85it/s]"
     ]
    },
    {
     "name": "stderr",
     "output_type": "stream",
     "text": [
      "\r",
      " 12%|█████████████                                                                                             | 361/2934 [00:08<00:57, 44.79it/s]"
     ]
    },
    {
     "name": "stderr",
     "output_type": "stream",
     "text": [
      "\r",
      " 12%|█████████████▏                                                                                            | 366/2934 [00:08<00:57, 44.79it/s]"
     ]
    },
    {
     "name": "stderr",
     "output_type": "stream",
     "text": [
      "\r",
      " 13%|█████████████▍                                                                                            | 371/2934 [00:08<00:57, 44.79it/s]"
     ]
    },
    {
     "name": "stderr",
     "output_type": "stream",
     "text": [
      "\r",
      " 13%|█████████████▌                                                                                            | 376/2934 [00:08<00:57, 44.83it/s]"
     ]
    },
    {
     "name": "stderr",
     "output_type": "stream",
     "text": [
      "\r",
      " 13%|█████████████▊                                                                                            | 381/2934 [00:09<00:56, 44.82it/s]"
     ]
    },
    {
     "name": "stderr",
     "output_type": "stream",
     "text": [
      "\r",
      " 13%|█████████████▉                                                                                            | 386/2934 [00:09<00:56, 44.82it/s]"
     ]
    },
    {
     "name": "stderr",
     "output_type": "stream",
     "text": [
      "\r",
      " 13%|██████████████▏                                                                                           | 391/2934 [00:09<00:56, 44.82it/s]"
     ]
    },
    {
     "name": "stderr",
     "output_type": "stream",
     "text": [
      "\r",
      " 13%|██████████████▎                                                                                           | 396/2934 [00:09<00:56, 44.83it/s]"
     ]
    },
    {
     "name": "stderr",
     "output_type": "stream",
     "text": [
      "\r",
      " 14%|██████████████▍                                                                                           | 401/2934 [00:09<00:56, 44.80it/s]"
     ]
    },
    {
     "name": "stderr",
     "output_type": "stream",
     "text": [
      "\r",
      " 14%|██████████████▋                                                                                           | 406/2934 [00:09<00:56, 44.76it/s]"
     ]
    },
    {
     "name": "stderr",
     "output_type": "stream",
     "text": [
      "\r",
      " 14%|██████████████▊                                                                                           | 411/2934 [00:09<00:56, 44.78it/s]"
     ]
    },
    {
     "name": "stderr",
     "output_type": "stream",
     "text": [
      "\r",
      " 14%|███████████████                                                                                           | 416/2934 [00:09<00:56, 44.82it/s]"
     ]
    },
    {
     "name": "stderr",
     "output_type": "stream",
     "text": [
      "\r",
      " 14%|███████████████▏                                                                                          | 421/2934 [00:09<00:56, 44.78it/s]"
     ]
    },
    {
     "name": "stderr",
     "output_type": "stream",
     "text": [
      "\r",
      " 15%|███████████████▍                                                                                          | 426/2934 [00:10<00:56, 44.77it/s]"
     ]
    },
    {
     "name": "stderr",
     "output_type": "stream",
     "text": [
      "\r",
      " 15%|███████████████▌                                                                                          | 431/2934 [00:10<00:55, 44.83it/s]"
     ]
    },
    {
     "name": "stderr",
     "output_type": "stream",
     "text": [
      "\r",
      " 15%|███████████████▊                                                                                          | 436/2934 [00:10<00:55, 44.79it/s]"
     ]
    },
    {
     "name": "stderr",
     "output_type": "stream",
     "text": [
      "\r",
      " 15%|███████████████▉                                                                                          | 441/2934 [00:10<00:55, 44.69it/s]"
     ]
    },
    {
     "name": "stderr",
     "output_type": "stream",
     "text": [
      "\r",
      " 15%|████████████████                                                                                          | 446/2934 [00:10<00:55, 44.73it/s]"
     ]
    },
    {
     "name": "stderr",
     "output_type": "stream",
     "text": [
      "\r",
      " 15%|████████████████▎                                                                                         | 451/2934 [00:10<00:55, 44.77it/s]"
     ]
    },
    {
     "name": "stderr",
     "output_type": "stream",
     "text": [
      "\r",
      " 16%|████████████████▍                                                                                         | 456/2934 [00:10<00:55, 44.68it/s]"
     ]
    },
    {
     "name": "stderr",
     "output_type": "stream",
     "text": [
      "\r",
      " 16%|████████████████▋                                                                                         | 461/2934 [00:10<00:55, 44.79it/s]"
     ]
    },
    {
     "name": "stderr",
     "output_type": "stream",
     "text": [
      "\r",
      " 16%|████████████████▊                                                                                         | 466/2934 [00:10<00:55, 44.79it/s]"
     ]
    },
    {
     "name": "stderr",
     "output_type": "stream",
     "text": [
      "\r",
      " 16%|█████████████████                                                                                         | 471/2934 [00:11<00:54, 44.84it/s]"
     ]
    },
    {
     "name": "stderr",
     "output_type": "stream",
     "text": [
      "\r",
      " 16%|█████████████████▏                                                                                        | 476/2934 [00:11<00:54, 44.81it/s]"
     ]
    },
    {
     "name": "stderr",
     "output_type": "stream",
     "text": [
      "\r",
      " 16%|█████████████████▍                                                                                        | 481/2934 [00:11<00:54, 44.78it/s]"
     ]
    },
    {
     "name": "stderr",
     "output_type": "stream",
     "text": [
      "\r",
      " 17%|█████████████████▌                                                                                        | 486/2934 [00:11<00:54, 44.83it/s]"
     ]
    },
    {
     "name": "stderr",
     "output_type": "stream",
     "text": [
      "\r",
      " 17%|█████████████████▋                                                                                        | 491/2934 [00:11<00:54, 44.80it/s]"
     ]
    },
    {
     "name": "stderr",
     "output_type": "stream",
     "text": [
      "\r",
      " 17%|█████████████████▉                                                                                        | 496/2934 [00:11<00:54, 44.78it/s]"
     ]
    },
    {
     "name": "stderr",
     "output_type": "stream",
     "text": [
      "\r",
      " 17%|██████████████████                                                                                        | 501/2934 [00:11<00:54, 44.76it/s]"
     ]
    },
    {
     "name": "stderr",
     "output_type": "stream",
     "text": [
      "\r",
      " 17%|██████████████████▎                                                                                       | 506/2934 [00:11<00:54, 44.81it/s]"
     ]
    },
    {
     "name": "stderr",
     "output_type": "stream",
     "text": [
      "\r",
      " 17%|██████████████████▍                                                                                       | 511/2934 [00:11<00:54, 44.77it/s]"
     ]
    },
    {
     "name": "stderr",
     "output_type": "stream",
     "text": [
      "\r",
      " 18%|██████████████████▋                                                                                       | 516/2934 [00:12<00:54, 44.75it/s]"
     ]
    },
    {
     "name": "stderr",
     "output_type": "stream",
     "text": [
      "\r",
      " 18%|██████████████████▊                                                                                       | 521/2934 [00:12<00:53, 44.74it/s]"
     ]
    },
    {
     "name": "stderr",
     "output_type": "stream",
     "text": [
      "\r",
      " 18%|███████████████████                                                                                       | 526/2934 [00:12<00:53, 44.82it/s]"
     ]
    },
    {
     "name": "stderr",
     "output_type": "stream",
     "text": [
      "\r",
      " 18%|███████████████████▏                                                                                      | 531/2934 [00:12<00:53, 44.79it/s]"
     ]
    },
    {
     "name": "stderr",
     "output_type": "stream",
     "text": [
      "\r",
      " 18%|███████████████████▎                                                                                      | 536/2934 [00:12<00:53, 44.79it/s]"
     ]
    },
    {
     "name": "stderr",
     "output_type": "stream",
     "text": [
      "\r",
      " 18%|███████████████████▌                                                                                      | 541/2934 [00:12<00:53, 44.78it/s]"
     ]
    },
    {
     "name": "stderr",
     "output_type": "stream",
     "text": [
      "\r",
      " 19%|███████████████████▋                                                                                      | 546/2934 [00:12<00:53, 44.82it/s]"
     ]
    },
    {
     "name": "stderr",
     "output_type": "stream",
     "text": [
      "\r",
      " 19%|███████████████████▉                                                                                      | 551/2934 [00:12<00:53, 44.79it/s]"
     ]
    },
    {
     "name": "stderr",
     "output_type": "stream",
     "text": [
      "\r",
      " 19%|████████████████████                                                                                      | 556/2934 [00:12<00:53, 44.76it/s]"
     ]
    },
    {
     "name": "stderr",
     "output_type": "stream",
     "text": [
      "\r",
      " 19%|████████████████████▎                                                                                     | 561/2934 [00:13<00:52, 44.80it/s]"
     ]
    },
    {
     "name": "stderr",
     "output_type": "stream",
     "text": [
      "\r",
      " 19%|████████████████████▍                                                                                     | 566/2934 [00:13<00:52, 44.75it/s]"
     ]
    },
    {
     "name": "stderr",
     "output_type": "stream",
     "text": [
      "\r",
      " 19%|████████████████████▋                                                                                     | 571/2934 [00:13<00:52, 44.71it/s]"
     ]
    },
    {
     "name": "stderr",
     "output_type": "stream",
     "text": [
      "\r",
      " 20%|████████████████████▊                                                                                     | 576/2934 [00:13<00:52, 44.65it/s]"
     ]
    },
    {
     "name": "stderr",
     "output_type": "stream",
     "text": [
      "\r",
      " 20%|████████████████████▉                                                                                     | 581/2934 [00:13<00:52, 44.64it/s]"
     ]
    },
    {
     "name": "stderr",
     "output_type": "stream",
     "text": [
      "\r",
      " 20%|█████████████████████▏                                                                                    | 586/2934 [00:13<00:52, 44.69it/s]"
     ]
    },
    {
     "name": "stderr",
     "output_type": "stream",
     "text": [
      "\r",
      " 20%|█████████████████████▎                                                                                    | 591/2934 [00:13<00:52, 44.67it/s]"
     ]
    },
    {
     "name": "stderr",
     "output_type": "stream",
     "text": [
      "\r",
      " 20%|█████████████████████▌                                                                                    | 596/2934 [00:13<00:52, 44.66it/s]"
     ]
    },
    {
     "name": "stderr",
     "output_type": "stream",
     "text": [
      "\r",
      " 20%|█████████████████████▋                                                                                    | 601/2934 [00:13<00:52, 44.69it/s]"
     ]
    },
    {
     "name": "stderr",
     "output_type": "stream",
     "text": [
      "\r",
      " 21%|█████████████████████▉                                                                                    | 606/2934 [00:14<00:52, 44.65it/s]"
     ]
    },
    {
     "name": "stderr",
     "output_type": "stream",
     "text": [
      "\r",
      " 21%|██████████████████████                                                                                    | 611/2934 [00:14<00:52, 44.65it/s]"
     ]
    },
    {
     "name": "stderr",
     "output_type": "stream",
     "text": [
      "\r",
      " 21%|██████████████████████▎                                                                                   | 616/2934 [00:14<00:51, 44.64it/s]"
     ]
    },
    {
     "name": "stderr",
     "output_type": "stream",
     "text": [
      "\r",
      " 21%|██████████████████████▍                                                                                   | 621/2934 [00:14<00:51, 44.69it/s]"
     ]
    },
    {
     "name": "stderr",
     "output_type": "stream",
     "text": [
      "\r",
      " 21%|██████████████████████▌                                                                                   | 626/2934 [00:14<00:51, 44.67it/s]"
     ]
    },
    {
     "name": "stderr",
     "output_type": "stream",
     "text": [
      "\r",
      " 22%|██████████████████████▊                                                                                   | 631/2934 [00:14<00:51, 44.64it/s]"
     ]
    },
    {
     "name": "stderr",
     "output_type": "stream",
     "text": [
      "\r",
      " 22%|██████████████████████▉                                                                                   | 636/2934 [00:14<00:51, 44.68it/s]"
     ]
    },
    {
     "name": "stderr",
     "output_type": "stream",
     "text": [
      "\r",
      " 22%|███████████████████████▏                                                                                  | 641/2934 [00:14<00:51, 44.66it/s]"
     ]
    },
    {
     "name": "stderr",
     "output_type": "stream",
     "text": [
      "\r",
      " 22%|███████████████████████▎                                                                                  | 646/2934 [00:14<00:51, 44.59it/s]"
     ]
    },
    {
     "name": "stderr",
     "output_type": "stream",
     "text": [
      "\r",
      " 22%|███████████████████████▌                                                                                  | 651/2934 [00:15<00:51, 44.60it/s]"
     ]
    },
    {
     "name": "stderr",
     "output_type": "stream",
     "text": [
      "\r",
      " 22%|███████████████████████▋                                                                                  | 656/2934 [00:15<00:51, 44.54it/s]"
     ]
    },
    {
     "name": "stderr",
     "output_type": "stream",
     "text": [
      "\r",
      " 23%|███████████████████████▉                                                                                  | 661/2934 [00:15<00:50, 44.57it/s]"
     ]
    },
    {
     "name": "stderr",
     "output_type": "stream",
     "text": [
      "\r",
      " 23%|████████████████████████                                                                                  | 666/2934 [00:15<00:50, 44.58it/s]"
     ]
    },
    {
     "name": "stderr",
     "output_type": "stream",
     "text": [
      "\r",
      " 23%|████████████████████████▏                                                                                 | 671/2934 [00:15<00:50, 44.58it/s]"
     ]
    },
    {
     "name": "stderr",
     "output_type": "stream",
     "text": [
      "\r",
      " 23%|████████████████████████▍                                                                                 | 676/2934 [00:15<00:50, 44.64it/s]"
     ]
    },
    {
     "name": "stderr",
     "output_type": "stream",
     "text": [
      "\r",
      " 23%|████████████████████████▌                                                                                 | 681/2934 [00:15<00:50, 44.64it/s]"
     ]
    },
    {
     "name": "stderr",
     "output_type": "stream",
     "text": [
      "\r",
      " 23%|████████████████████████▊                                                                                 | 686/2934 [00:15<00:50, 44.63it/s]"
     ]
    },
    {
     "name": "stderr",
     "output_type": "stream",
     "text": [
      "\r",
      " 24%|████████████████████████▉                                                                                 | 691/2934 [00:15<00:50, 44.70it/s]"
     ]
    },
    {
     "name": "stderr",
     "output_type": "stream",
     "text": [
      "\r",
      " 24%|█████████████████████████▏                                                                                | 696/2934 [00:16<00:50, 44.68it/s]"
     ]
    },
    {
     "name": "stderr",
     "output_type": "stream",
     "text": [
      "\r",
      " 24%|█████████████████████████▎                                                                                | 701/2934 [00:16<00:50, 44.66it/s]"
     ]
    },
    {
     "name": "stderr",
     "output_type": "stream",
     "text": [
      "\r",
      " 24%|█████████████████████████▌                                                                                | 706/2934 [00:16<00:49, 44.63it/s]"
     ]
    },
    {
     "name": "stderr",
     "output_type": "stream",
     "text": [
      "\r",
      " 24%|█████████████████████████▋                                                                                | 711/2934 [00:16<00:49, 44.68it/s]"
     ]
    },
    {
     "name": "stderr",
     "output_type": "stream",
     "text": [
      "\r",
      " 24%|█████████████████████████▊                                                                                | 716/2934 [00:16<00:49, 44.67it/s]"
     ]
    },
    {
     "name": "stderr",
     "output_type": "stream",
     "text": [
      "\r",
      " 25%|██████████████████████████                                                                                | 721/2934 [00:16<00:49, 44.66it/s]"
     ]
    },
    {
     "name": "stderr",
     "output_type": "stream",
     "text": [
      "\r",
      " 25%|██████████████████████████▏                                                                               | 726/2934 [00:16<00:49, 44.73it/s]"
     ]
    },
    {
     "name": "stderr",
     "output_type": "stream",
     "text": [
      "\r",
      " 25%|██████████████████████████▍                                                                               | 731/2934 [00:16<00:49, 44.59it/s]"
     ]
    },
    {
     "name": "stderr",
     "output_type": "stream",
     "text": [
      "\r",
      " 25%|██████████████████████████▌                                                                               | 736/2934 [00:16<00:49, 44.65it/s]"
     ]
    },
    {
     "name": "stderr",
     "output_type": "stream",
     "text": [
      "\r",
      " 25%|██████████████████████████▊                                                                               | 741/2934 [00:17<00:49, 44.63it/s]"
     ]
    },
    {
     "name": "stderr",
     "output_type": "stream",
     "text": [
      "\r",
      " 25%|██████████████████████████▉                                                                               | 746/2934 [00:17<00:49, 44.61it/s]"
     ]
    },
    {
     "name": "stderr",
     "output_type": "stream",
     "text": [
      "\r",
      " 26%|███████████████████████████▏                                                                              | 751/2934 [00:17<00:48, 44.66it/s]"
     ]
    },
    {
     "name": "stderr",
     "output_type": "stream",
     "text": [
      "\r",
      " 26%|███████████████████████████▎                                                                              | 756/2934 [00:17<00:48, 44.65it/s]"
     ]
    },
    {
     "name": "stderr",
     "output_type": "stream",
     "text": [
      "\r",
      " 26%|███████████████████████████▍                                                                              | 761/2934 [00:17<00:48, 44.65it/s]"
     ]
    },
    {
     "name": "stderr",
     "output_type": "stream",
     "text": [
      "\r",
      " 26%|███████████████████████████▋                                                                              | 766/2934 [00:17<00:48, 44.66it/s]"
     ]
    },
    {
     "name": "stderr",
     "output_type": "stream",
     "text": [
      "\r",
      " 26%|███████████████████████████▊                                                                              | 771/2934 [00:17<00:48, 44.68it/s]"
     ]
    },
    {
     "name": "stderr",
     "output_type": "stream",
     "text": [
      "\r",
      " 26%|████████████████████████████                                                                              | 776/2934 [00:17<00:48, 44.66it/s]"
     ]
    },
    {
     "name": "stderr",
     "output_type": "stream",
     "text": [
      "\r",
      " 27%|████████████████████████████▏                                                                             | 781/2934 [00:18<00:48, 44.64it/s]"
     ]
    },
    {
     "name": "stderr",
     "output_type": "stream",
     "text": [
      "\r",
      " 27%|████████████████████████████▍                                                                             | 786/2934 [00:18<00:48, 44.69it/s]"
     ]
    },
    {
     "name": "stderr",
     "output_type": "stream",
     "text": [
      "\r",
      " 27%|████████████████████████████▌                                                                             | 791/2934 [00:18<00:47, 44.65it/s]"
     ]
    },
    {
     "name": "stderr",
     "output_type": "stream",
     "text": [
      "\r",
      " 27%|████████████████████████████▊                                                                             | 796/2934 [00:18<00:47, 44.65it/s]"
     ]
    },
    {
     "name": "stderr",
     "output_type": "stream",
     "text": [
      "\r",
      " 27%|████████████████████████████▉                                                                             | 801/2934 [00:18<00:47, 44.51it/s]"
     ]
    },
    {
     "name": "stderr",
     "output_type": "stream",
     "text": [
      "\r",
      " 27%|█████████████████████████████                                                                             | 806/2934 [00:18<00:47, 44.59it/s]"
     ]
    },
    {
     "name": "stderr",
     "output_type": "stream",
     "text": [
      "\r",
      " 28%|█████████████████████████████▎                                                                            | 811/2934 [00:18<00:47, 44.60it/s]"
     ]
    },
    {
     "name": "stderr",
     "output_type": "stream",
     "text": [
      "\r",
      " 28%|█████████████████████████████▍                                                                            | 816/2934 [00:18<00:47, 44.59it/s]"
     ]
    },
    {
     "name": "stderr",
     "output_type": "stream",
     "text": [
      "\r",
      " 28%|█████████████████████████████▋                                                                            | 821/2934 [00:18<00:47, 44.58it/s]"
     ]
    },
    {
     "name": "stderr",
     "output_type": "stream",
     "text": [
      "\r",
      " 28%|█████████████████████████████▊                                                                            | 826/2934 [00:19<00:47, 44.64it/s]"
     ]
    },
    {
     "name": "stderr",
     "output_type": "stream",
     "text": [
      "\r",
      " 28%|██████████████████████████████                                                                            | 831/2934 [00:19<00:47, 44.63it/s]"
     ]
    },
    {
     "name": "stderr",
     "output_type": "stream",
     "text": [
      "\r",
      " 28%|██████████████████████████████▏                                                                           | 836/2934 [00:19<00:46, 44.67it/s]"
     ]
    },
    {
     "name": "stderr",
     "output_type": "stream",
     "text": [
      "\r",
      " 29%|██████████████████████████████▍                                                                           | 841/2934 [00:19<00:46, 44.66it/s]"
     ]
    },
    {
     "name": "stderr",
     "output_type": "stream",
     "text": [
      "\r",
      " 29%|██████████████████████████████▌                                                                           | 846/2934 [00:19<00:46, 44.66it/s]"
     ]
    },
    {
     "name": "stderr",
     "output_type": "stream",
     "text": [
      "\r",
      " 29%|██████████████████████████████▋                                                                           | 851/2934 [00:19<00:46, 44.72it/s]"
     ]
    },
    {
     "name": "stderr",
     "output_type": "stream",
     "text": [
      "\r",
      " 29%|██████████████████████████████▉                                                                           | 856/2934 [00:19<00:46, 44.70it/s]"
     ]
    },
    {
     "name": "stderr",
     "output_type": "stream",
     "text": [
      "\r",
      " 29%|███████████████████████████████                                                                           | 861/2934 [00:19<00:46, 44.65it/s]"
     ]
    },
    {
     "name": "stderr",
     "output_type": "stream",
     "text": [
      "\r",
      " 30%|███████████████████████████████▎                                                                          | 866/2934 [00:19<00:46, 44.64it/s]"
     ]
    },
    {
     "name": "stderr",
     "output_type": "stream",
     "text": [
      "\r",
      " 30%|███████████████████████████████▍                                                                          | 871/2934 [00:20<00:46, 44.68it/s]"
     ]
    },
    {
     "name": "stderr",
     "output_type": "stream",
     "text": [
      "\r",
      " 30%|███████████████████████████████▋                                                                          | 876/2934 [00:20<00:46, 44.67it/s]"
     ]
    },
    {
     "name": "stderr",
     "output_type": "stream",
     "text": [
      "\r",
      " 30%|███████████████████████████████▊                                                                          | 881/2934 [00:20<00:45, 44.66it/s]"
     ]
    },
    {
     "name": "stderr",
     "output_type": "stream",
     "text": [
      "\r",
      " 30%|████████████████████████████████                                                                          | 886/2934 [00:20<00:45, 44.73it/s]"
     ]
    },
    {
     "name": "stderr",
     "output_type": "stream",
     "text": [
      "\r",
      " 30%|████████████████████████████████▏                                                                         | 891/2934 [00:20<00:45, 44.70it/s]"
     ]
    },
    {
     "name": "stderr",
     "output_type": "stream",
     "text": [
      "\r",
      " 31%|████████████████████████████████▎                                                                         | 896/2934 [00:20<00:45, 44.66it/s]"
     ]
    },
    {
     "name": "stderr",
     "output_type": "stream",
     "text": [
      "\r",
      " 31%|████████████████████████████████▌                                                                         | 901/2934 [00:20<00:45, 44.65it/s]"
     ]
    },
    {
     "name": "stderr",
     "output_type": "stream",
     "text": [
      "\r",
      " 31%|████████████████████████████████▋                                                                         | 906/2934 [00:20<00:45, 44.69it/s]"
     ]
    },
    {
     "name": "stderr",
     "output_type": "stream",
     "text": [
      "\r",
      " 31%|████████████████████████████████▉                                                                         | 911/2934 [00:20<00:45, 44.68it/s]"
     ]
    },
    {
     "name": "stderr",
     "output_type": "stream",
     "text": [
      "\r",
      " 31%|█████████████████████████████████                                                                         | 916/2934 [00:21<00:45, 44.67it/s]"
     ]
    },
    {
     "name": "stderr",
     "output_type": "stream",
     "text": [
      "\r",
      " 31%|█████████████████████████████████▎                                                                        | 921/2934 [00:21<00:45, 44.61it/s]"
     ]
    },
    {
     "name": "stderr",
     "output_type": "stream",
     "text": [
      "\r",
      " 32%|█████████████████████████████████▍                                                                        | 926/2934 [00:21<00:45, 44.36it/s]"
     ]
    },
    {
     "name": "stderr",
     "output_type": "stream",
     "text": [
      "\r",
      " 32%|█████████████████████████████████▋                                                                        | 931/2934 [00:21<00:45, 44.21it/s]"
     ]
    },
    {
     "name": "stderr",
     "output_type": "stream",
     "text": [
      "\r",
      " 32%|█████████████████████████████████▊                                                                        | 936/2934 [00:21<00:45, 44.10it/s]"
     ]
    },
    {
     "name": "stderr",
     "output_type": "stream",
     "text": [
      "\r",
      " 32%|█████████████████████████████████▉                                                                        | 941/2934 [00:21<00:45, 44.02it/s]"
     ]
    },
    {
     "name": "stderr",
     "output_type": "stream",
     "text": [
      "\r",
      " 32%|██████████████████████████████████▏                                                                       | 946/2934 [00:21<00:45, 43.95it/s]"
     ]
    },
    {
     "name": "stderr",
     "output_type": "stream",
     "text": [
      "\r",
      " 32%|██████████████████████████████████▎                                                                       | 951/2934 [00:21<00:45, 43.93it/s]"
     ]
    },
    {
     "name": "stderr",
     "output_type": "stream",
     "text": [
      "\r",
      " 33%|██████████████████████████████████▌                                                                       | 956/2934 [00:21<00:45, 43.90it/s]"
     ]
    },
    {
     "name": "stderr",
     "output_type": "stream",
     "text": [
      "\r",
      " 33%|██████████████████████████████████▋                                                                       | 961/2934 [00:22<00:44, 43.90it/s]"
     ]
    },
    {
     "name": "stderr",
     "output_type": "stream",
     "text": [
      "\r",
      " 33%|██████████████████████████████████▉                                                                       | 966/2934 [00:22<00:44, 43.89it/s]"
     ]
    },
    {
     "name": "stderr",
     "output_type": "stream",
     "text": [
      "\r",
      " 33%|███████████████████████████████████                                                                       | 971/2934 [00:22<00:44, 43.90it/s]"
     ]
    },
    {
     "name": "stderr",
     "output_type": "stream",
     "text": [
      "\r",
      " 33%|███████████████████████████████████▎                                                                      | 976/2934 [00:22<00:44, 43.89it/s]"
     ]
    },
    {
     "name": "stderr",
     "output_type": "stream",
     "text": [
      "\r",
      " 33%|███████████████████████████████████▍                                                                      | 981/2934 [00:22<00:44, 43.88it/s]"
     ]
    },
    {
     "name": "stderr",
     "output_type": "stream",
     "text": [
      "\r",
      " 34%|███████████████████████████████████▌                                                                      | 986/2934 [00:22<00:44, 43.89it/s]"
     ]
    },
    {
     "name": "stderr",
     "output_type": "stream",
     "text": [
      "\r",
      " 34%|███████████████████████████████████▊                                                                      | 991/2934 [00:22<00:44, 43.89it/s]"
     ]
    },
    {
     "name": "stderr",
     "output_type": "stream",
     "text": [
      "\r",
      " 34%|███████████████████████████████████▉                                                                      | 996/2934 [00:22<00:44, 43.89it/s]"
     ]
    },
    {
     "name": "stderr",
     "output_type": "stream",
     "text": [
      "\r",
      " 34%|███████████████████████████████████▊                                                                     | 1001/2934 [00:22<00:44, 43.88it/s]"
     ]
    },
    {
     "name": "stderr",
     "output_type": "stream",
     "text": [
      "\r",
      " 34%|████████████████████████████████████                                                                     | 1006/2934 [00:23<00:43, 43.88it/s]"
     ]
    },
    {
     "name": "stderr",
     "output_type": "stream",
     "text": [
      "\r",
      " 34%|████████████████████████████████████▏                                                                    | 1011/2934 [00:23<00:43, 43.88it/s]"
     ]
    },
    {
     "name": "stderr",
     "output_type": "stream",
     "text": [
      "\r",
      " 35%|████████████████████████████████████▎                                                                    | 1016/2934 [00:23<00:43, 43.74it/s]"
     ]
    },
    {
     "name": "stderr",
     "output_type": "stream",
     "text": [
      "\r",
      " 35%|████████████████████████████████████▌                                                                    | 1021/2934 [00:23<00:43, 43.80it/s]"
     ]
    },
    {
     "name": "stderr",
     "output_type": "stream",
     "text": [
      "\r",
      " 35%|████████████████████████████████████▋                                                                    | 1026/2934 [00:23<00:43, 43.82it/s]"
     ]
    },
    {
     "name": "stderr",
     "output_type": "stream",
     "text": [
      "\r",
      " 35%|████████████████████████████████████▉                                                                    | 1031/2934 [00:23<00:43, 43.83it/s]"
     ]
    },
    {
     "name": "stderr",
     "output_type": "stream",
     "text": [
      "\r",
      " 35%|█████████████████████████████████████                                                                    | 1036/2934 [00:23<00:43, 43.84it/s]"
     ]
    },
    {
     "name": "stderr",
     "output_type": "stream",
     "text": [
      "\r",
      " 35%|█████████████████████████████████████▎                                                                   | 1041/2934 [00:23<00:43, 43.94it/s]"
     ]
    },
    {
     "name": "stderr",
     "output_type": "stream",
     "text": [
      "\r",
      " 36%|█████████████████████████████████████▍                                                                   | 1046/2934 [00:23<00:43, 43.89it/s]"
     ]
    },
    {
     "name": "stderr",
     "output_type": "stream",
     "text": [
      "\r",
      " 36%|█████████████████████████████████████▌                                                                   | 1051/2934 [00:24<00:42, 43.86it/s]"
     ]
    },
    {
     "name": "stderr",
     "output_type": "stream",
     "text": [
      "\r",
      " 36%|█████████████████████████████████████▊                                                                   | 1056/2934 [00:24<00:42, 43.89it/s]"
     ]
    },
    {
     "name": "stderr",
     "output_type": "stream",
     "text": [
      "\r",
      " 36%|█████████████████████████████████████▉                                                                   | 1061/2934 [00:24<00:42, 43.90it/s]"
     ]
    },
    {
     "name": "stderr",
     "output_type": "stream",
     "text": [
      "\r",
      " 36%|██████████████████████████████████████▏                                                                  | 1066/2934 [00:24<00:42, 43.90it/s]"
     ]
    },
    {
     "name": "stderr",
     "output_type": "stream",
     "text": [
      "\r",
      " 37%|██████████████████████████████████████▎                                                                  | 1071/2934 [00:24<00:42, 43.87it/s]"
     ]
    },
    {
     "name": "stderr",
     "output_type": "stream",
     "text": [
      "\r",
      " 37%|██████████████████████████████████████▌                                                                  | 1076/2934 [00:24<00:42, 43.86it/s]"
     ]
    },
    {
     "name": "stderr",
     "output_type": "stream",
     "text": [
      "\r",
      " 37%|██████████████████████████████████████▋                                                                  | 1081/2934 [00:24<00:42, 43.85it/s]"
     ]
    },
    {
     "name": "stderr",
     "output_type": "stream",
     "text": [
      "\r",
      " 37%|██████████████████████████████████████▊                                                                  | 1086/2934 [00:24<00:42, 43.85it/s]"
     ]
    },
    {
     "name": "stderr",
     "output_type": "stream",
     "text": [
      "\r",
      " 37%|███████████████████████████████████████                                                                  | 1091/2934 [00:25<00:42, 43.86it/s]"
     ]
    },
    {
     "name": "stderr",
     "output_type": "stream",
     "text": [
      "\r",
      " 37%|███████████████████████████████████████▏                                                                 | 1096/2934 [00:25<00:41, 43.87it/s]"
     ]
    },
    {
     "name": "stderr",
     "output_type": "stream",
     "text": [
      "\r",
      " 38%|███████████████████████████████████████▍                                                                 | 1101/2934 [00:25<00:41, 43.87it/s]"
     ]
    },
    {
     "name": "stderr",
     "output_type": "stream",
     "text": [
      "\r",
      " 38%|███████████████████████████████████████▌                                                                 | 1106/2934 [00:25<00:41, 43.87it/s]"
     ]
    },
    {
     "name": "stderr",
     "output_type": "stream",
     "text": [
      "\r",
      " 38%|███████████████████████████████████████▊                                                                 | 1111/2934 [00:25<00:41, 43.87it/s]"
     ]
    },
    {
     "name": "stderr",
     "output_type": "stream",
     "text": [
      "\r",
      " 38%|███████████████████████████████████████▉                                                                 | 1116/2934 [00:25<00:41, 43.87it/s]"
     ]
    },
    {
     "name": "stderr",
     "output_type": "stream",
     "text": [
      "\r",
      " 38%|████████████████████████████████████████                                                                 | 1121/2934 [00:25<00:41, 43.89it/s]"
     ]
    },
    {
     "name": "stderr",
     "output_type": "stream",
     "text": [
      "\r",
      " 38%|████████████████████████████████████████▎                                                                | 1126/2934 [00:25<00:41, 43.89it/s]"
     ]
    },
    {
     "name": "stderr",
     "output_type": "stream",
     "text": [
      "\r",
      " 39%|████████████████████████████████████████▍                                                                | 1131/2934 [00:25<00:41, 43.90it/s]"
     ]
    },
    {
     "name": "stderr",
     "output_type": "stream",
     "text": [
      "\r",
      " 39%|████████████████████████████████████████▋                                                                | 1136/2934 [00:26<00:40, 43.90it/s]"
     ]
    },
    {
     "name": "stderr",
     "output_type": "stream",
     "text": [
      "\r",
      " 39%|████████████████████████████████████████▊                                                                | 1141/2934 [00:26<00:40, 43.89it/s]"
     ]
    },
    {
     "name": "stderr",
     "output_type": "stream",
     "text": [
      "\r",
      " 39%|█████████████████████████████████████████                                                                | 1146/2934 [00:26<00:40, 44.04it/s]"
     ]
    },
    {
     "name": "stderr",
     "output_type": "stream",
     "text": [
      "\r",
      " 39%|█████████████████████████████████████████▏                                                               | 1151/2934 [00:26<00:39, 44.82it/s]"
     ]
    },
    {
     "name": "stderr",
     "output_type": "stream",
     "text": [
      "\r",
      " 39%|█████████████████████████████████████████▎                                                               | 1156/2934 [00:26<00:39, 45.38it/s]"
     ]
    },
    {
     "name": "stderr",
     "output_type": "stream",
     "text": [
      "\r",
      " 40%|█████████████████████████████████████████▌                                                               | 1161/2934 [00:26<00:38, 45.77it/s]"
     ]
    },
    {
     "name": "stderr",
     "output_type": "stream",
     "text": [
      "\r",
      " 40%|█████████████████████████████████████████▋                                                               | 1166/2934 [00:26<00:38, 46.05it/s]"
     ]
    },
    {
     "name": "stderr",
     "output_type": "stream",
     "text": [
      "\r",
      " 40%|█████████████████████████████████████████▉                                                               | 1171/2934 [00:26<00:38, 46.17it/s]"
     ]
    },
    {
     "name": "stderr",
     "output_type": "stream",
     "text": [
      "\r",
      " 40%|██████████████████████████████████████████                                                               | 1176/2934 [00:26<00:37, 46.35it/s]"
     ]
    },
    {
     "name": "stderr",
     "output_type": "stream",
     "text": [
      "\r",
      " 40%|██████████████████████████████████████████▎                                                              | 1181/2934 [00:27<00:37, 46.45it/s]"
     ]
    },
    {
     "name": "stderr",
     "output_type": "stream",
     "text": [
      "\r",
      " 40%|██████████████████████████████████████████▍                                                              | 1186/2934 [00:27<00:37, 46.52it/s]"
     ]
    },
    {
     "name": "stderr",
     "output_type": "stream",
     "text": [
      "\r",
      " 41%|██████████████████████████████████████████▌                                                              | 1191/2934 [00:27<00:37, 46.60it/s]"
     ]
    },
    {
     "name": "stderr",
     "output_type": "stream",
     "text": [
      "\r",
      " 41%|██████████████████████████████████████████▊                                                              | 1196/2934 [00:27<00:37, 46.64it/s]"
     ]
    },
    {
     "name": "stderr",
     "output_type": "stream",
     "text": [
      "\r",
      " 41%|██████████████████████████████████████████▉                                                              | 1201/2934 [00:27<00:37, 46.66it/s]"
     ]
    },
    {
     "name": "stderr",
     "output_type": "stream",
     "text": [
      "\r",
      " 41%|███████████████████████████████████████████▏                                                             | 1206/2934 [00:27<00:37, 46.68it/s]"
     ]
    },
    {
     "name": "stderr",
     "output_type": "stream",
     "text": [
      "\r",
      " 41%|███████████████████████████████████████████▎                                                             | 1211/2934 [00:27<00:36, 46.67it/s]"
     ]
    },
    {
     "name": "stderr",
     "output_type": "stream",
     "text": [
      "\r",
      " 41%|███████████████████████████████████████████▌                                                             | 1216/2934 [00:27<00:36, 46.69it/s]"
     ]
    },
    {
     "name": "stderr",
     "output_type": "stream",
     "text": [
      "\r",
      " 42%|███████████████████████████████████████████▋                                                             | 1221/2934 [00:27<00:36, 46.71it/s]"
     ]
    },
    {
     "name": "stderr",
     "output_type": "stream",
     "text": [
      "\r",
      " 42%|███████████████████████████████████████████▉                                                             | 1226/2934 [00:27<00:36, 46.72it/s]"
     ]
    },
    {
     "name": "stderr",
     "output_type": "stream",
     "text": [
      "\r",
      " 42%|████████████████████████████████████████████                                                             | 1231/2934 [00:28<00:36, 46.67it/s]"
     ]
    },
    {
     "name": "stderr",
     "output_type": "stream",
     "text": [
      "\r",
      " 42%|████████████████████████████████████████████▏                                                            | 1236/2934 [00:28<00:36, 46.68it/s]"
     ]
    },
    {
     "name": "stderr",
     "output_type": "stream",
     "text": [
      "\r",
      " 42%|████████████████████████████████████████████▍                                                            | 1241/2934 [00:28<00:36, 46.71it/s]"
     ]
    },
    {
     "name": "stderr",
     "output_type": "stream",
     "text": [
      "\r",
      " 42%|████████████████████████████████████████████▌                                                            | 1246/2934 [00:28<00:36, 46.69it/s]"
     ]
    },
    {
     "name": "stderr",
     "output_type": "stream",
     "text": [
      "\r",
      " 43%|████████████████████████████████████████████▊                                                            | 1251/2934 [00:28<00:36, 46.70it/s]"
     ]
    },
    {
     "name": "stderr",
     "output_type": "stream",
     "text": [
      "\r",
      " 43%|████████████████████████████████████████████▉                                                            | 1256/2934 [00:28<00:35, 46.71it/s]"
     ]
    },
    {
     "name": "stderr",
     "output_type": "stream",
     "text": [
      "\r",
      " 43%|█████████████████████████████████████████████▏                                                           | 1261/2934 [00:28<00:35, 46.73it/s]"
     ]
    },
    {
     "name": "stderr",
     "output_type": "stream",
     "text": [
      "\r",
      " 43%|█████████████████████████████████████████████▎                                                           | 1266/2934 [00:28<00:35, 46.73it/s]"
     ]
    },
    {
     "name": "stderr",
     "output_type": "stream",
     "text": [
      "\r",
      " 43%|█████████████████████████████████████████████▍                                                           | 1271/2934 [00:28<00:35, 46.75it/s]"
     ]
    },
    {
     "name": "stderr",
     "output_type": "stream",
     "text": [
      "\r",
      " 43%|█████████████████████████████████████████████▋                                                           | 1276/2934 [00:29<00:35, 46.73it/s]"
     ]
    },
    {
     "name": "stderr",
     "output_type": "stream",
     "text": [
      "\r",
      " 44%|█████████████████████████████████████████████▊                                                           | 1281/2934 [00:29<00:35, 46.74it/s]"
     ]
    },
    {
     "name": "stderr",
     "output_type": "stream",
     "text": [
      "\r",
      " 44%|██████████████████████████████████████████████                                                           | 1286/2934 [00:29<00:35, 46.74it/s]"
     ]
    },
    {
     "name": "stderr",
     "output_type": "stream",
     "text": [
      "\r",
      " 44%|██████████████████████████████████████████████▏                                                          | 1291/2934 [00:29<00:35, 46.73it/s]"
     ]
    },
    {
     "name": "stderr",
     "output_type": "stream",
     "text": [
      "\r",
      " 44%|██████████████████████████████████████████████▍                                                          | 1296/2934 [00:29<00:35, 46.72it/s]"
     ]
    },
    {
     "name": "stderr",
     "output_type": "stream",
     "text": [
      "\r",
      " 44%|██████████████████████████████████████████████▌                                                          | 1301/2934 [00:29<00:34, 46.73it/s]"
     ]
    },
    {
     "name": "stderr",
     "output_type": "stream",
     "text": [
      "\r",
      " 45%|██████████████████████████████████████████████▋                                                          | 1306/2934 [00:29<00:34, 46.71it/s]"
     ]
    },
    {
     "name": "stderr",
     "output_type": "stream",
     "text": [
      "\r",
      " 45%|██████████████████████████████████████████████▉                                                          | 1311/2934 [00:29<00:34, 46.73it/s]"
     ]
    },
    {
     "name": "stderr",
     "output_type": "stream",
     "text": [
      "\r",
      " 45%|███████████████████████████████████████████████                                                          | 1316/2934 [00:29<00:34, 46.67it/s]"
     ]
    },
    {
     "name": "stderr",
     "output_type": "stream",
     "text": [
      "\r",
      " 45%|███████████████████████████████████████████████▎                                                         | 1321/2934 [00:30<00:34, 46.69it/s]"
     ]
    },
    {
     "name": "stderr",
     "output_type": "stream",
     "text": [
      "\r",
      " 45%|███████████████████████████████████████████████▍                                                         | 1326/2934 [00:30<00:34, 46.72it/s]"
     ]
    },
    {
     "name": "stderr",
     "output_type": "stream",
     "text": [
      "\r",
      " 45%|███████████████████████████████████████████████▋                                                         | 1331/2934 [00:30<00:34, 46.72it/s]"
     ]
    },
    {
     "name": "stderr",
     "output_type": "stream",
     "text": [
      "\r",
      " 46%|███████████████████████████████████████████████▊                                                         | 1336/2934 [00:30<00:34, 46.73it/s]"
     ]
    },
    {
     "name": "stderr",
     "output_type": "stream",
     "text": [
      "\r",
      " 46%|███████████████████████████████████████████████▉                                                         | 1341/2934 [00:30<00:34, 46.71it/s]"
     ]
    },
    {
     "name": "stderr",
     "output_type": "stream",
     "text": [
      "\r",
      " 46%|████████████████████████████████████████████████▏                                                        | 1346/2934 [00:30<00:33, 46.72it/s]"
     ]
    },
    {
     "name": "stderr",
     "output_type": "stream",
     "text": [
      "\r",
      " 46%|████████████████████████████████████████████████▎                                                        | 1351/2934 [00:30<00:33, 46.72it/s]"
     ]
    },
    {
     "name": "stderr",
     "output_type": "stream",
     "text": [
      "\r",
      " 46%|████████████████████████████████████████████████▌                                                        | 1356/2934 [00:30<00:33, 46.73it/s]"
     ]
    },
    {
     "name": "stderr",
     "output_type": "stream",
     "text": [
      "\r",
      " 46%|████████████████████████████████████████████████▋                                                        | 1361/2934 [00:30<00:33, 46.73it/s]"
     ]
    },
    {
     "name": "stderr",
     "output_type": "stream",
     "text": [
      "\r",
      " 47%|████████████████████████████████████████████████▉                                                        | 1366/2934 [00:30<00:33, 46.74it/s]"
     ]
    },
    {
     "name": "stderr",
     "output_type": "stream",
     "text": [
      "\r",
      " 47%|█████████████████████████████████████████████████                                                        | 1371/2934 [00:31<00:33, 46.72it/s]"
     ]
    },
    {
     "name": "stderr",
     "output_type": "stream",
     "text": [
      "\r",
      " 47%|█████████████████████████████████████████████████▏                                                       | 1376/2934 [00:31<00:33, 46.74it/s]"
     ]
    },
    {
     "name": "stderr",
     "output_type": "stream",
     "text": [
      "\r",
      " 47%|█████████████████████████████████████████████████▍                                                       | 1381/2934 [00:31<00:33, 46.74it/s]"
     ]
    },
    {
     "name": "stderr",
     "output_type": "stream",
     "text": [
      "\r",
      " 47%|█████████████████████████████████████████████████▌                                                       | 1386/2934 [00:31<00:33, 46.74it/s]"
     ]
    },
    {
     "name": "stderr",
     "output_type": "stream",
     "text": [
      "\r",
      " 47%|█████████████████████████████████████████████████▊                                                       | 1391/2934 [00:31<00:33, 46.73it/s]"
     ]
    },
    {
     "name": "stderr",
     "output_type": "stream",
     "text": [
      "\r",
      " 48%|█████████████████████████████████████████████████▉                                                       | 1396/2934 [00:31<00:32, 46.73it/s]"
     ]
    },
    {
     "name": "stderr",
     "output_type": "stream",
     "text": [
      "\r",
      " 48%|██████████████████████████████████████████████████▏                                                      | 1401/2934 [00:31<00:32, 46.74it/s]"
     ]
    },
    {
     "name": "stderr",
     "output_type": "stream",
     "text": [
      "\r",
      " 48%|██████████████████████████████████████████████████▎                                                      | 1406/2934 [00:31<00:32, 46.72it/s]"
     ]
    },
    {
     "name": "stderr",
     "output_type": "stream",
     "text": [
      "\r",
      " 48%|██████████████████████████████████████████████████▍                                                      | 1411/2934 [00:31<00:32, 46.73it/s]"
     ]
    },
    {
     "name": "stderr",
     "output_type": "stream",
     "text": [
      "\r",
      " 48%|██████████████████████████████████████████████████▋                                                      | 1416/2934 [00:32<00:32, 46.75it/s]"
     ]
    },
    {
     "name": "stderr",
     "output_type": "stream",
     "text": [
      "\r",
      " 48%|██████████████████████████████████████████████████▊                                                      | 1421/2934 [00:32<00:32, 46.74it/s]"
     ]
    },
    {
     "name": "stderr",
     "output_type": "stream",
     "text": [
      "\r",
      " 49%|███████████████████████████████████████████████████                                                      | 1426/2934 [00:32<00:32, 46.72it/s]"
     ]
    },
    {
     "name": "stderr",
     "output_type": "stream",
     "text": [
      "\r",
      " 49%|███████████████████████████████████████████████████▏                                                     | 1431/2934 [00:32<00:32, 46.72it/s]"
     ]
    },
    {
     "name": "stderr",
     "output_type": "stream",
     "text": [
      "\r",
      " 49%|███████████████████████████████████████████████████▍                                                     | 1436/2934 [00:32<00:32, 46.71it/s]"
     ]
    },
    {
     "name": "stderr",
     "output_type": "stream",
     "text": [
      "\r",
      " 49%|███████████████████████████████████████████████████▌                                                     | 1441/2934 [00:32<00:31, 46.72it/s]"
     ]
    },
    {
     "name": "stderr",
     "output_type": "stream",
     "text": [
      "\r",
      " 49%|███████████████████████████████████████████████████▋                                                     | 1446/2934 [00:32<00:31, 46.73it/s]"
     ]
    },
    {
     "name": "stderr",
     "output_type": "stream",
     "text": [
      "\r",
      " 49%|███████████████████████████████████████████████████▉                                                     | 1451/2934 [00:32<00:31, 46.74it/s]"
     ]
    },
    {
     "name": "stderr",
     "output_type": "stream",
     "text": [
      "\r",
      " 50%|████████████████████████████████████████████████████                                                     | 1456/2934 [00:32<00:31, 46.74it/s]"
     ]
    },
    {
     "name": "stderr",
     "output_type": "stream",
     "text": [
      "\r",
      " 50%|████████████████████████████████████████████████████▎                                                    | 1461/2934 [00:33<00:31, 46.75it/s]"
     ]
    },
    {
     "name": "stderr",
     "output_type": "stream",
     "text": [
      "\r",
      " 50%|████████████████████████████████████████████████████▍                                                    | 1466/2934 [00:33<00:31, 46.74it/s]"
     ]
    },
    {
     "name": "stderr",
     "output_type": "stream",
     "text": [
      "\r",
      " 50%|████████████████████████████████████████████████████▋                                                    | 1471/2934 [00:33<00:31, 46.75it/s]"
     ]
    },
    {
     "name": "stderr",
     "output_type": "stream",
     "text": [
      "\r",
      " 50%|████████████████████████████████████████████████████▊                                                    | 1476/2934 [00:33<00:31, 46.74it/s]"
     ]
    },
    {
     "name": "stderr",
     "output_type": "stream",
     "text": [
      "\r",
      " 50%|█████████████████████████████████████████████████████                                                    | 1481/2934 [00:33<00:31, 46.66it/s]"
     ]
    },
    {
     "name": "stderr",
     "output_type": "stream",
     "text": [
      "\r",
      " 51%|█████████████████████████████████████████████████████▏                                                   | 1486/2934 [00:33<00:31, 46.68it/s]"
     ]
    },
    {
     "name": "stderr",
     "output_type": "stream",
     "text": [
      "\r",
      " 51%|█████████████████████████████████████████████████████▎                                                   | 1491/2934 [00:33<00:30, 46.70it/s]"
     ]
    },
    {
     "name": "stderr",
     "output_type": "stream",
     "text": [
      "\r",
      " 51%|█████████████████████████████████████████████████████▌                                                   | 1496/2934 [00:33<00:30, 46.71it/s]"
     ]
    },
    {
     "name": "stderr",
     "output_type": "stream",
     "text": [
      "\r",
      " 51%|█████████████████████████████████████████████████████▋                                                   | 1501/2934 [00:33<00:31, 46.00it/s]"
     ]
    },
    {
     "name": "stderr",
     "output_type": "stream",
     "text": [
      "\r",
      " 51%|█████████████████████████████████████████████████████▉                                                   | 1506/2934 [00:33<00:31, 45.30it/s]"
     ]
    },
    {
     "name": "stderr",
     "output_type": "stream",
     "text": [
      "\r",
      " 51%|██████████████████████████████████████████████████████                                                   | 1511/2934 [00:34<00:31, 44.73it/s]"
     ]
    },
    {
     "name": "stderr",
     "output_type": "stream",
     "text": [
      "\r",
      " 52%|██████████████████████████████████████████████████████▎                                                  | 1516/2934 [00:34<00:31, 44.48it/s]"
     ]
    },
    {
     "name": "stderr",
     "output_type": "stream",
     "text": [
      "\r",
      " 52%|██████████████████████████████████████████████████████▍                                                  | 1521/2934 [00:34<00:31, 44.29it/s]"
     ]
    },
    {
     "name": "stderr",
     "output_type": "stream",
     "text": [
      "\r",
      " 52%|██████████████████████████████████████████████████████▌                                                  | 1526/2934 [00:34<00:31, 44.15it/s]"
     ]
    },
    {
     "name": "stderr",
     "output_type": "stream",
     "text": [
      "\r",
      " 52%|██████████████████████████████████████████████████████▊                                                  | 1531/2934 [00:34<00:31, 44.05it/s]"
     ]
    },
    {
     "name": "stderr",
     "output_type": "stream",
     "text": [
      "\r",
      " 52%|██████████████████████████████████████████████████████▉                                                  | 1536/2934 [00:34<00:31, 44.00it/s]"
     ]
    },
    {
     "name": "stderr",
     "output_type": "stream",
     "text": [
      "\r",
      " 53%|███████████████████████████████████████████████████████▏                                                 | 1541/2934 [00:34<00:31, 43.95it/s]"
     ]
    },
    {
     "name": "stderr",
     "output_type": "stream",
     "text": [
      "\r",
      " 53%|███████████████████████████████████████████████████████▎                                                 | 1546/2934 [00:34<00:31, 43.92it/s]"
     ]
    },
    {
     "name": "stderr",
     "output_type": "stream",
     "text": [
      "\r",
      " 53%|███████████████████████████████████████████████████████▌                                                 | 1551/2934 [00:35<00:31, 43.90it/s]"
     ]
    },
    {
     "name": "stderr",
     "output_type": "stream",
     "text": [
      "\r",
      " 53%|███████████████████████████████████████████████████████▋                                                 | 1556/2934 [00:35<00:31, 43.89it/s]"
     ]
    },
    {
     "name": "stderr",
     "output_type": "stream",
     "text": [
      "\r",
      " 53%|███████████████████████████████████████████████████████▊                                                 | 1561/2934 [00:35<00:31, 43.88it/s]"
     ]
    },
    {
     "name": "stderr",
     "output_type": "stream",
     "text": [
      "\r",
      " 53%|████████████████████████████████████████████████████████                                                 | 1566/2934 [00:35<00:31, 43.87it/s]"
     ]
    },
    {
     "name": "stderr",
     "output_type": "stream",
     "text": [
      "\r",
      " 54%|████████████████████████████████████████████████████████▏                                                | 1571/2934 [00:35<00:31, 43.88it/s]"
     ]
    },
    {
     "name": "stderr",
     "output_type": "stream",
     "text": [
      "\r",
      " 54%|████████████████████████████████████████████████████████▍                                                | 1576/2934 [00:35<00:30, 43.88it/s]"
     ]
    },
    {
     "name": "stderr",
     "output_type": "stream",
     "text": [
      "\r",
      " 54%|████████████████████████████████████████████████████████▌                                                | 1581/2934 [00:35<00:30, 43.89it/s]"
     ]
    },
    {
     "name": "stderr",
     "output_type": "stream",
     "text": [
      "\r",
      " 54%|████████████████████████████████████████████████████████▊                                                | 1586/2934 [00:35<00:30, 43.89it/s]"
     ]
    },
    {
     "name": "stderr",
     "output_type": "stream",
     "text": [
      "\r",
      " 54%|████████████████████████████████████████████████████████▉                                                | 1591/2934 [00:35<00:30, 43.89it/s]"
     ]
    },
    {
     "name": "stderr",
     "output_type": "stream",
     "text": [
      "\r",
      " 54%|█████████████████████████████████████████████████████████                                                | 1596/2934 [00:36<00:30, 43.85it/s]"
     ]
    },
    {
     "name": "stderr",
     "output_type": "stream",
     "text": [
      "\r",
      " 55%|█████████████████████████████████████████████████████████▎                                               | 1601/2934 [00:36<00:30, 43.87it/s]"
     ]
    },
    {
     "name": "stderr",
     "output_type": "stream",
     "text": [
      "\r",
      " 55%|█████████████████████████████████████████████████████████▍                                               | 1606/2934 [00:36<00:30, 43.84it/s]"
     ]
    },
    {
     "name": "stderr",
     "output_type": "stream",
     "text": [
      "\r",
      " 55%|█████████████████████████████████████████████████████████▋                                               | 1611/2934 [00:36<00:30, 43.85it/s]"
     ]
    },
    {
     "name": "stderr",
     "output_type": "stream",
     "text": [
      "\r",
      " 55%|█████████████████████████████████████████████████████████▊                                               | 1616/2934 [00:36<00:30, 43.85it/s]"
     ]
    },
    {
     "name": "stderr",
     "output_type": "stream",
     "text": [
      "\r",
      " 55%|██████████████████████████████████████████████████████████                                               | 1621/2934 [00:36<00:29, 43.85it/s]"
     ]
    },
    {
     "name": "stderr",
     "output_type": "stream",
     "text": [
      "\r",
      " 55%|██████████████████████████████████████████████████████████▏                                              | 1626/2934 [00:36<00:29, 43.81it/s]"
     ]
    },
    {
     "name": "stderr",
     "output_type": "stream",
     "text": [
      "\r",
      " 56%|██████████████████████████████████████████████████████████▎                                              | 1631/2934 [00:36<00:29, 43.84it/s]"
     ]
    },
    {
     "name": "stderr",
     "output_type": "stream",
     "text": [
      "\r",
      " 56%|██████████████████████████████████████████████████████████▌                                              | 1636/2934 [00:36<00:29, 43.86it/s]"
     ]
    },
    {
     "name": "stderr",
     "output_type": "stream",
     "text": [
      "\r",
      " 56%|██████████████████████████████████████████████████████████▋                                              | 1641/2934 [00:37<00:29, 43.86it/s]"
     ]
    },
    {
     "name": "stderr",
     "output_type": "stream",
     "text": [
      "\r",
      " 56%|██████████████████████████████████████████████████████████▉                                              | 1646/2934 [00:37<00:29, 43.85it/s]"
     ]
    },
    {
     "name": "stderr",
     "output_type": "stream",
     "text": [
      "\r",
      " 56%|███████████████████████████████████████████████████████████                                              | 1651/2934 [00:37<00:29, 43.88it/s]"
     ]
    },
    {
     "name": "stderr",
     "output_type": "stream",
     "text": [
      "\r",
      " 56%|███████████████████████████████████████████████████████████▎                                             | 1656/2934 [00:37<00:29, 43.89it/s]"
     ]
    },
    {
     "name": "stderr",
     "output_type": "stream",
     "text": [
      "\r",
      " 57%|███████████████████████████████████████████████████████████▍                                             | 1661/2934 [00:37<00:29, 43.89it/s]"
     ]
    },
    {
     "name": "stderr",
     "output_type": "stream",
     "text": [
      "\r",
      " 57%|███████████████████████████████████████████████████████████▌                                             | 1666/2934 [00:37<00:29, 43.64it/s]"
     ]
    },
    {
     "name": "stderr",
     "output_type": "stream",
     "text": [
      "\r",
      " 57%|███████████████████████████████████████████████████████████▊                                             | 1671/2934 [00:37<00:28, 43.71it/s]"
     ]
    },
    {
     "name": "stderr",
     "output_type": "stream",
     "text": [
      "\r",
      " 57%|███████████████████████████████████████████████████████████▉                                             | 1676/2934 [00:37<00:28, 43.77it/s]"
     ]
    },
    {
     "name": "stderr",
     "output_type": "stream",
     "text": [
      "\r",
      " 57%|████████████████████████████████████████████████████████████▏                                            | 1681/2934 [00:37<00:28, 43.74it/s]"
     ]
    },
    {
     "name": "stderr",
     "output_type": "stream",
     "text": [
      "\r",
      " 57%|████████████████████████████████████████████████████████████▎                                            | 1686/2934 [00:38<00:28, 43.72it/s]"
     ]
    },
    {
     "name": "stderr",
     "output_type": "stream",
     "text": [
      "\r",
      " 58%|████████████████████████████████████████████████████████████▌                                            | 1691/2934 [00:38<00:28, 43.67it/s]"
     ]
    },
    {
     "name": "stderr",
     "output_type": "stream",
     "text": [
      "\r",
      " 58%|████████████████████████████████████████████████████████████▋                                            | 1696/2934 [00:38<00:28, 43.68it/s]"
     ]
    },
    {
     "name": "stderr",
     "output_type": "stream",
     "text": [
      "\r",
      " 58%|████████████████████████████████████████████████████████████▊                                            | 1701/2934 [00:38<00:28, 43.66it/s]"
     ]
    },
    {
     "name": "stderr",
     "output_type": "stream",
     "text": [
      "\r",
      " 58%|█████████████████████████████████████████████████████████████                                            | 1706/2934 [00:38<00:28, 43.65it/s]"
     ]
    },
    {
     "name": "stderr",
     "output_type": "stream",
     "text": [
      "\r",
      " 58%|█████████████████████████████████████████████████████████████▏                                           | 1711/2934 [00:38<00:28, 43.66it/s]"
     ]
    },
    {
     "name": "stderr",
     "output_type": "stream",
     "text": [
      "\r",
      " 58%|█████████████████████████████████████████████████████████████▍                                           | 1716/2934 [00:38<00:27, 43.66it/s]"
     ]
    },
    {
     "name": "stderr",
     "output_type": "stream",
     "text": [
      "\r",
      " 59%|█████████████████████████████████████████████████████████████▌                                           | 1721/2934 [00:38<00:27, 43.66it/s]"
     ]
    },
    {
     "name": "stderr",
     "output_type": "stream",
     "text": [
      "\r",
      " 59%|█████████████████████████████████████████████████████████████▊                                           | 1726/2934 [00:39<00:27, 43.64it/s]"
     ]
    },
    {
     "name": "stderr",
     "output_type": "stream",
     "text": [
      "\r",
      " 59%|█████████████████████████████████████████████████████████████▉                                           | 1731/2934 [00:39<00:27, 43.61it/s]"
     ]
    },
    {
     "name": "stderr",
     "output_type": "stream",
     "text": [
      "\r",
      " 59%|██████████████████████████████████████████████████████████████▏                                          | 1736/2934 [00:39<00:27, 43.64it/s]"
     ]
    },
    {
     "name": "stderr",
     "output_type": "stream",
     "text": [
      "\r",
      " 59%|██████████████████████████████████████████████████████████████▎                                          | 1741/2934 [00:39<00:27, 43.51it/s]"
     ]
    },
    {
     "name": "stderr",
     "output_type": "stream",
     "text": [
      "\r",
      " 60%|██████████████████████████████████████████████████████████████▍                                          | 1746/2934 [00:39<00:27, 43.54it/s]"
     ]
    },
    {
     "name": "stderr",
     "output_type": "stream",
     "text": [
      "\r",
      " 60%|██████████████████████████████████████████████████████████████▋                                          | 1751/2934 [00:39<00:27, 43.54it/s]"
     ]
    },
    {
     "name": "stderr",
     "output_type": "stream",
     "text": [
      "\r",
      " 60%|██████████████████████████████████████████████████████████████▊                                          | 1756/2934 [00:39<00:27, 43.58it/s]"
     ]
    },
    {
     "name": "stderr",
     "output_type": "stream",
     "text": [
      "\r",
      " 60%|███████████████████████████████████████████████████████████████                                          | 1761/2934 [00:39<00:26, 43.59it/s]"
     ]
    },
    {
     "name": "stderr",
     "output_type": "stream",
     "text": [
      "\r",
      " 60%|███████████████████████████████████████████████████████████████▏                                         | 1766/2934 [00:39<00:26, 43.63it/s]"
     ]
    },
    {
     "name": "stderr",
     "output_type": "stream",
     "text": [
      "\r",
      " 60%|███████████████████████████████████████████████████████████████▍                                         | 1771/2934 [00:40<00:26, 43.63it/s]"
     ]
    },
    {
     "name": "stderr",
     "output_type": "stream",
     "text": [
      "\r",
      " 61%|███████████████████████████████████████████████████████████████▌                                         | 1776/2934 [00:40<00:26, 43.61it/s]"
     ]
    },
    {
     "name": "stderr",
     "output_type": "stream",
     "text": [
      "\r",
      " 61%|███████████████████████████████████████████████████████████████▋                                         | 1781/2934 [00:40<00:26, 43.61it/s]"
     ]
    },
    {
     "name": "stderr",
     "output_type": "stream",
     "text": [
      "\r",
      " 61%|███████████████████████████████████████████████████████████████▉                                         | 1786/2934 [00:40<00:26, 43.59it/s]"
     ]
    },
    {
     "name": "stderr",
     "output_type": "stream",
     "text": [
      "\r",
      " 61%|████████████████████████████████████████████████████████████████                                         | 1791/2934 [00:40<00:26, 43.50it/s]"
     ]
    },
    {
     "name": "stderr",
     "output_type": "stream",
     "text": [
      "\r",
      " 61%|████████████████████████████████████████████████████████████████▎                                        | 1796/2934 [00:40<00:26, 43.37it/s]"
     ]
    },
    {
     "name": "stderr",
     "output_type": "stream",
     "text": [
      "\r",
      " 61%|████████████████████████████████████████████████████████████████▍                                        | 1801/2934 [00:40<00:26, 43.36it/s]"
     ]
    },
    {
     "name": "stderr",
     "output_type": "stream",
     "text": [
      "\r",
      " 62%|████████████████████████████████████████████████████████████████▋                                        | 1806/2934 [00:40<00:25, 43.42it/s]"
     ]
    },
    {
     "name": "stderr",
     "output_type": "stream",
     "text": [
      "\r",
      " 62%|████████████████████████████████████████████████████████████████▊                                        | 1811/2934 [00:40<00:25, 43.40it/s]"
     ]
    },
    {
     "name": "stderr",
     "output_type": "stream",
     "text": [
      "\r",
      " 62%|████████████████████████████████████████████████████████████████▉                                        | 1816/2934 [00:41<00:25, 43.50it/s]"
     ]
    },
    {
     "name": "stderr",
     "output_type": "stream",
     "text": [
      "\r",
      " 62%|█████████████████████████████████████████████████████████████████▏                                       | 1821/2934 [00:41<00:25, 43.54it/s]"
     ]
    },
    {
     "name": "stderr",
     "output_type": "stream",
     "text": [
      "\r",
      " 62%|█████████████████████████████████████████████████████████████████▎                                       | 1826/2934 [00:41<00:25, 43.59it/s]"
     ]
    },
    {
     "name": "stderr",
     "output_type": "stream",
     "text": [
      "\r",
      " 62%|█████████████████████████████████████████████████████████████████▌                                       | 1831/2934 [00:41<00:25, 43.55it/s]"
     ]
    },
    {
     "name": "stderr",
     "output_type": "stream",
     "text": [
      "\r",
      " 63%|█████████████████████████████████████████████████████████████████▋                                       | 1836/2934 [00:41<00:25, 43.56it/s]"
     ]
    },
    {
     "name": "stderr",
     "output_type": "stream",
     "text": [
      "\r",
      " 63%|█████████████████████████████████████████████████████████████████▉                                       | 1841/2934 [00:41<00:25, 43.55it/s]"
     ]
    },
    {
     "name": "stderr",
     "output_type": "stream",
     "text": [
      "\r",
      " 63%|██████████████████████████████████████████████████████████████████                                       | 1846/2934 [00:41<00:25, 43.48it/s]"
     ]
    },
    {
     "name": "stderr",
     "output_type": "stream",
     "text": [
      "\r",
      " 63%|██████████████████████████████████████████████████████████████████▏                                      | 1851/2934 [00:41<00:24, 43.43it/s]"
     ]
    },
    {
     "name": "stderr",
     "output_type": "stream",
     "text": [
      "\r",
      " 63%|██████████████████████████████████████████████████████████████████▍                                      | 1856/2934 [00:41<00:24, 43.39it/s]"
     ]
    },
    {
     "name": "stderr",
     "output_type": "stream",
     "text": [
      "\r",
      " 63%|██████████████████████████████████████████████████████████████████▌                                      | 1861/2934 [00:42<00:24, 43.44it/s]"
     ]
    },
    {
     "name": "stderr",
     "output_type": "stream",
     "text": [
      "\r",
      " 64%|██████████████████████████████████████████████████████████████████▊                                      | 1866/2934 [00:42<00:24, 43.54it/s]"
     ]
    },
    {
     "name": "stderr",
     "output_type": "stream",
     "text": [
      "\r",
      " 64%|██████████████████████████████████████████████████████████████████▉                                      | 1871/2934 [00:42<00:24, 43.20it/s]"
     ]
    },
    {
     "name": "stderr",
     "output_type": "stream",
     "text": [
      "\r",
      " 64%|███████████████████████████████████████████████████████████████████▏                                     | 1876/2934 [00:42<00:24, 43.30it/s]"
     ]
    },
    {
     "name": "stderr",
     "output_type": "stream",
     "text": [
      "\r",
      " 64%|███████████████████████████████████████████████████████████████████▎                                     | 1881/2934 [00:42<00:24, 43.45it/s]"
     ]
    },
    {
     "name": "stderr",
     "output_type": "stream",
     "text": [
      "\r",
      " 64%|███████████████████████████████████████████████████████████████████▍                                     | 1886/2934 [00:42<00:24, 43.50it/s]"
     ]
    },
    {
     "name": "stderr",
     "output_type": "stream",
     "text": [
      "\r",
      " 64%|███████████████████████████████████████████████████████████████████▋                                     | 1891/2934 [00:42<00:23, 43.54it/s]"
     ]
    },
    {
     "name": "stderr",
     "output_type": "stream",
     "text": [
      "\r",
      " 65%|███████████████████████████████████████████████████████████████████▊                                     | 1896/2934 [00:42<00:23, 43.60it/s]"
     ]
    },
    {
     "name": "stderr",
     "output_type": "stream",
     "text": [
      "\r",
      " 65%|████████████████████████████████████████████████████████████████████                                     | 1901/2934 [00:43<00:23, 43.62it/s]"
     ]
    },
    {
     "name": "stderr",
     "output_type": "stream",
     "text": [
      "\r",
      " 65%|████████████████████████████████████████████████████████████████████▏                                    | 1906/2934 [00:43<00:23, 43.62it/s]"
     ]
    },
    {
     "name": "stderr",
     "output_type": "stream",
     "text": [
      "\r",
      " 65%|████████████████████████████████████████████████████████████████████▍                                    | 1911/2934 [00:43<00:23, 43.60it/s]"
     ]
    },
    {
     "name": "stderr",
     "output_type": "stream",
     "text": [
      "\r",
      " 65%|████████████████████████████████████████████████████████████████████▌                                    | 1916/2934 [00:43<00:23, 43.61it/s]"
     ]
    },
    {
     "name": "stderr",
     "output_type": "stream",
     "text": [
      "\r",
      " 65%|████████████████████████████████████████████████████████████████████▋                                    | 1921/2934 [00:43<00:23, 43.60it/s]"
     ]
    },
    {
     "name": "stderr",
     "output_type": "stream",
     "text": [
      "\r",
      " 66%|████████████████████████████████████████████████████████████████████▉                                    | 1926/2934 [00:43<00:23, 43.52it/s]"
     ]
    },
    {
     "name": "stderr",
     "output_type": "stream",
     "text": [
      "\r",
      " 66%|█████████████████████████████████████████████████████████████████████                                    | 1931/2934 [00:43<00:23, 43.48it/s]"
     ]
    },
    {
     "name": "stderr",
     "output_type": "stream",
     "text": [
      "\r",
      " 66%|█████████████████████████████████████████████████████████████████████▎                                   | 1936/2934 [00:43<00:22, 43.46it/s]"
     ]
    },
    {
     "name": "stderr",
     "output_type": "stream",
     "text": [
      "\r",
      " 66%|█████████████████████████████████████████████████████████████████████▍                                   | 1941/2934 [00:43<00:22, 43.43it/s]"
     ]
    },
    {
     "name": "stderr",
     "output_type": "stream",
     "text": [
      "\r",
      " 66%|█████████████████████████████████████████████████████████████████████▋                                   | 1946/2934 [00:44<00:22, 43.51it/s]"
     ]
    },
    {
     "name": "stderr",
     "output_type": "stream",
     "text": [
      "\r",
      " 66%|█████████████████████████████████████████████████████████████████████▊                                   | 1951/2934 [00:44<00:22, 43.54it/s]"
     ]
    },
    {
     "name": "stderr",
     "output_type": "stream",
     "text": [
      "\r",
      " 67%|██████████████████████████████████████████████████████████████████████                                   | 1956/2934 [00:44<00:22, 43.56it/s]"
     ]
    },
    {
     "name": "stderr",
     "output_type": "stream",
     "text": [
      "\r",
      " 67%|██████████████████████████████████████████████████████████████████████▏                                  | 1961/2934 [00:44<00:22, 43.25it/s]"
     ]
    },
    {
     "name": "stderr",
     "output_type": "stream",
     "text": [
      "\r",
      " 67%|██████████████████████████████████████████████████████████████████████▎                                  | 1966/2934 [00:44<00:22, 43.36it/s]"
     ]
    },
    {
     "name": "stderr",
     "output_type": "stream",
     "text": [
      "\r",
      " 67%|██████████████████████████████████████████████████████████████████████▌                                  | 1971/2934 [00:44<00:22, 43.43it/s]"
     ]
    },
    {
     "name": "stderr",
     "output_type": "stream",
     "text": [
      "\r",
      " 67%|██████████████████████████████████████████████████████████████████████▋                                  | 1976/2934 [00:44<00:22, 43.53it/s]"
     ]
    },
    {
     "name": "stderr",
     "output_type": "stream",
     "text": [
      "\r",
      " 68%|██████████████████████████████████████████████████████████████████████▉                                  | 1981/2934 [00:44<00:21, 43.59it/s]"
     ]
    },
    {
     "name": "stderr",
     "output_type": "stream",
     "text": [
      "\r",
      " 68%|███████████████████████████████████████████████████████████████████████                                  | 1986/2934 [00:44<00:21, 43.64it/s]"
     ]
    },
    {
     "name": "stderr",
     "output_type": "stream",
     "text": [
      "\r",
      " 68%|███████████████████████████████████████████████████████████████████████▎                                 | 1991/2934 [00:45<00:21, 43.67it/s]"
     ]
    },
    {
     "name": "stderr",
     "output_type": "stream",
     "text": [
      "\r",
      " 68%|███████████████████████████████████████████████████████████████████████▍                                 | 1996/2934 [00:45<00:21, 43.69it/s]"
     ]
    },
    {
     "name": "stderr",
     "output_type": "stream",
     "text": [
      "\r",
      " 68%|███████████████████████████████████████████████████████████████████████▌                                 | 2001/2934 [00:45<00:21, 43.70it/s]"
     ]
    },
    {
     "name": "stderr",
     "output_type": "stream",
     "text": [
      "\r",
      " 68%|███████████████████████████████████████████████████████████████████████▊                                 | 2006/2934 [00:45<00:21, 43.73it/s]"
     ]
    },
    {
     "name": "stderr",
     "output_type": "stream",
     "text": [
      "\r",
      " 69%|███████████████████████████████████████████████████████████████████████▉                                 | 2011/2934 [00:45<00:21, 43.75it/s]"
     ]
    },
    {
     "name": "stderr",
     "output_type": "stream",
     "text": [
      "\r",
      " 69%|████████████████████████████████████████████████████████████████████████▏                                | 2016/2934 [00:45<00:20, 43.76it/s]"
     ]
    },
    {
     "name": "stderr",
     "output_type": "stream",
     "text": [
      "\r",
      " 69%|████████████████████████████████████████████████████████████████████████▎                                | 2021/2934 [00:45<00:20, 43.71it/s]"
     ]
    },
    {
     "name": "stderr",
     "output_type": "stream",
     "text": [
      "\r",
      " 69%|████████████████████████████████████████████████████████████████████████▌                                | 2026/2934 [00:45<00:20, 43.69it/s]"
     ]
    },
    {
     "name": "stderr",
     "output_type": "stream",
     "text": [
      "\r",
      " 69%|████████████████████████████████████████████████████████████████████████▋                                | 2031/2934 [00:46<00:20, 43.68it/s]"
     ]
    },
    {
     "name": "stderr",
     "output_type": "stream",
     "text": [
      "\r",
      " 69%|████████████████████████████████████████████████████████████████████████▊                                | 2036/2934 [00:46<00:20, 43.69it/s]"
     ]
    },
    {
     "name": "stderr",
     "output_type": "stream",
     "text": [
      "\r",
      " 70%|█████████████████████████████████████████████████████████████████████████                                | 2041/2934 [00:46<00:20, 43.73it/s]"
     ]
    },
    {
     "name": "stderr",
     "output_type": "stream",
     "text": [
      "\r",
      " 70%|█████████████████████████████████████████████████████████████████████████▏                               | 2046/2934 [00:46<00:20, 43.73it/s]"
     ]
    },
    {
     "name": "stderr",
     "output_type": "stream",
     "text": [
      "\r",
      " 70%|█████████████████████████████████████████████████████████████████████████▍                               | 2051/2934 [00:46<00:20, 43.75it/s]"
     ]
    },
    {
     "name": "stderr",
     "output_type": "stream",
     "text": [
      "\r",
      " 70%|█████████████████████████████████████████████████████████████████████████▌                               | 2056/2934 [00:46<00:20, 43.77it/s]"
     ]
    },
    {
     "name": "stderr",
     "output_type": "stream",
     "text": [
      "\r",
      " 70%|█████████████████████████████████████████████████████████████████████████▊                               | 2061/2934 [00:46<00:19, 43.80it/s]"
     ]
    },
    {
     "name": "stderr",
     "output_type": "stream",
     "text": [
      "\r",
      " 70%|█████████████████████████████████████████████████████████████████████████▉                               | 2066/2934 [00:46<00:19, 43.81it/s]"
     ]
    },
    {
     "name": "stderr",
     "output_type": "stream",
     "text": [
      "\r",
      " 71%|██████████████████████████████████████████████████████████████████████████                               | 2071/2934 [00:46<00:19, 43.82it/s]"
     ]
    },
    {
     "name": "stderr",
     "output_type": "stream",
     "text": [
      "\r",
      " 71%|██████████████████████████████████████████████████████████████████████████▎                              | 2076/2934 [00:47<00:19, 43.81it/s]"
     ]
    },
    {
     "name": "stderr",
     "output_type": "stream",
     "text": [
      "\r",
      " 71%|██████████████████████████████████████████████████████████████████████████▍                              | 2081/2934 [00:47<00:19, 43.82it/s]"
     ]
    },
    {
     "name": "stderr",
     "output_type": "stream",
     "text": [
      "\r",
      " 71%|██████████████████████████████████████████████████████████████████████████▋                              | 2086/2934 [00:47<00:19, 43.80it/s]"
     ]
    },
    {
     "name": "stderr",
     "output_type": "stream",
     "text": [
      "\r",
      " 71%|██████████████████████████████████████████████████████████████████████████▊                              | 2091/2934 [00:47<00:19, 43.81it/s]"
     ]
    },
    {
     "name": "stderr",
     "output_type": "stream",
     "text": [
      "\r",
      " 71%|███████████████████████████████████████████████████████████████████████████                              | 2096/2934 [00:47<00:19, 43.80it/s]"
     ]
    },
    {
     "name": "stderr",
     "output_type": "stream",
     "text": [
      "\r",
      " 72%|███████████████████████████████████████████████████████████████████████████▏                             | 2101/2934 [00:47<00:19, 43.81it/s]"
     ]
    },
    {
     "name": "stderr",
     "output_type": "stream",
     "text": [
      "\r",
      " 72%|███████████████████████████████████████████████████████████████████████████▎                             | 2106/2934 [00:47<00:18, 43.73it/s]"
     ]
    },
    {
     "name": "stderr",
     "output_type": "stream",
     "text": [
      "\r",
      " 72%|███████████████████████████████████████████████████████████████████████████▌                             | 2111/2934 [00:47<00:18, 43.91it/s]"
     ]
    },
    {
     "name": "stderr",
     "output_type": "stream",
     "text": [
      "\r",
      " 72%|███████████████████████████████████████████████████████████████████████████▋                             | 2116/2934 [00:47<00:18, 43.89it/s]"
     ]
    },
    {
     "name": "stderr",
     "output_type": "stream",
     "text": [
      "\r",
      " 72%|███████████████████████████████████████████████████████████████████████████▉                             | 2121/2934 [00:48<00:18, 43.87it/s]"
     ]
    },
    {
     "name": "stderr",
     "output_type": "stream",
     "text": [
      "\r",
      " 72%|████████████████████████████████████████████████████████████████████████████                             | 2126/2934 [00:48<00:18, 43.90it/s]"
     ]
    },
    {
     "name": "stderr",
     "output_type": "stream",
     "text": [
      "\r",
      " 73%|████████████████████████████████████████████████████████████████████████████▎                            | 2131/2934 [00:48<00:18, 43.88it/s]"
     ]
    },
    {
     "name": "stderr",
     "output_type": "stream",
     "text": [
      "\r",
      " 73%|████████████████████████████████████████████████████████████████████████████▍                            | 2136/2934 [00:48<00:18, 43.89it/s]"
     ]
    },
    {
     "name": "stderr",
     "output_type": "stream",
     "text": [
      "\r",
      " 73%|████████████████████████████████████████████████████████████████████████████▌                            | 2141/2934 [00:48<00:18, 43.89it/s]"
     ]
    },
    {
     "name": "stderr",
     "output_type": "stream",
     "text": [
      "\r",
      " 73%|████████████████████████████████████████████████████████████████████████████▊                            | 2146/2934 [00:48<00:17, 43.88it/s]"
     ]
    },
    {
     "name": "stderr",
     "output_type": "stream",
     "text": [
      "\r",
      " 73%|████████████████████████████████████████████████████████████████████████████▉                            | 2151/2934 [00:48<00:17, 43.86it/s]"
     ]
    },
    {
     "name": "stderr",
     "output_type": "stream",
     "text": [
      "\r",
      " 73%|█████████████████████████████████████████████████████████████████████████████▏                           | 2156/2934 [00:48<00:17, 43.86it/s]"
     ]
    },
    {
     "name": "stderr",
     "output_type": "stream",
     "text": [
      "\r",
      " 74%|█████████████████████████████████████████████████████████████████████████████▎                           | 2161/2934 [00:48<00:17, 43.85it/s]"
     ]
    },
    {
     "name": "stderr",
     "output_type": "stream",
     "text": [
      "\r",
      " 74%|█████████████████████████████████████████████████████████████████████████████▌                           | 2166/2934 [00:49<00:17, 43.84it/s]"
     ]
    },
    {
     "name": "stderr",
     "output_type": "stream",
     "text": [
      "\r",
      " 74%|█████████████████████████████████████████████████████████████████████████████▋                           | 2171/2934 [00:49<00:17, 43.81it/s]"
     ]
    },
    {
     "name": "stderr",
     "output_type": "stream",
     "text": [
      "\r",
      " 74%|█████████████████████████████████████████████████████████████████████████████▊                           | 2176/2934 [00:49<00:17, 43.80it/s]"
     ]
    },
    {
     "name": "stderr",
     "output_type": "stream",
     "text": [
      "\r",
      " 74%|██████████████████████████████████████████████████████████████████████████████                           | 2181/2934 [00:49<00:17, 43.80it/s]"
     ]
    },
    {
     "name": "stderr",
     "output_type": "stream",
     "text": [
      "\r",
      " 75%|██████████████████████████████████████████████████████████████████████████████▏                          | 2186/2934 [00:49<00:17, 43.79it/s]"
     ]
    },
    {
     "name": "stderr",
     "output_type": "stream",
     "text": [
      "\r",
      " 75%|██████████████████████████████████████████████████████████████████████████████▍                          | 2191/2934 [00:49<00:16, 43.80it/s]"
     ]
    },
    {
     "name": "stderr",
     "output_type": "stream",
     "text": [
      "\r",
      " 75%|██████████████████████████████████████████████████████████████████████████████▌                          | 2196/2934 [00:49<00:16, 43.81it/s]"
     ]
    },
    {
     "name": "stderr",
     "output_type": "stream",
     "text": [
      "\r",
      " 75%|██████████████████████████████████████████████████████████████████████████████▊                          | 2201/2934 [00:49<00:16, 43.81it/s]"
     ]
    },
    {
     "name": "stderr",
     "output_type": "stream",
     "text": [
      "\r",
      " 75%|██████████████████████████████████████████████████████████████████████████████▉                          | 2206/2934 [00:50<00:16, 43.80it/s]"
     ]
    },
    {
     "name": "stderr",
     "output_type": "stream",
     "text": [
      "\r",
      " 75%|███████████████████████████████████████████████████████████████████████████████▏                         | 2211/2934 [00:50<00:16, 43.79it/s]"
     ]
    },
    {
     "name": "stderr",
     "output_type": "stream",
     "text": [
      "\r",
      " 76%|███████████████████████████████████████████████████████████████████████████████▎                         | 2216/2934 [00:50<00:16, 43.78it/s]"
     ]
    },
    {
     "name": "stderr",
     "output_type": "stream",
     "text": [
      "\r",
      " 76%|███████████████████████████████████████████████████████████████████████████████▍                         | 2221/2934 [00:50<00:16, 43.78it/s]"
     ]
    },
    {
     "name": "stderr",
     "output_type": "stream",
     "text": [
      "\r",
      " 76%|███████████████████████████████████████████████████████████████████████████████▋                         | 2226/2934 [00:50<00:16, 43.79it/s]"
     ]
    },
    {
     "name": "stderr",
     "output_type": "stream",
     "text": [
      "\r",
      " 76%|███████████████████████████████████████████████████████████████████████████████▊                         | 2231/2934 [00:50<00:16, 43.81it/s]"
     ]
    },
    {
     "name": "stderr",
     "output_type": "stream",
     "text": [
      "\r",
      " 76%|████████████████████████████████████████████████████████████████████████████████                         | 2236/2934 [00:50<00:15, 43.80it/s]"
     ]
    },
    {
     "name": "stderr",
     "output_type": "stream",
     "text": [
      "\r",
      " 76%|████████████████████████████████████████████████████████████████████████████████▏                        | 2241/2934 [00:50<00:15, 43.80it/s]"
     ]
    },
    {
     "name": "stderr",
     "output_type": "stream",
     "text": [
      "\r",
      " 77%|████████████████████████████████████████████████████████████████████████████████▍                        | 2246/2934 [00:50<00:15, 43.80it/s]"
     ]
    },
    {
     "name": "stderr",
     "output_type": "stream",
     "text": [
      "\r",
      " 77%|████████████████████████████████████████████████████████████████████████████████▌                        | 2251/2934 [00:51<00:15, 43.79it/s]"
     ]
    },
    {
     "name": "stderr",
     "output_type": "stream",
     "text": [
      "\r",
      " 77%|████████████████████████████████████████████████████████████████████████████████▋                        | 2256/2934 [00:51<00:15, 43.78it/s]"
     ]
    },
    {
     "name": "stderr",
     "output_type": "stream",
     "text": [
      "\r",
      " 77%|████████████████████████████████████████████████████████████████████████████████▉                        | 2261/2934 [00:51<00:15, 43.80it/s]"
     ]
    },
    {
     "name": "stderr",
     "output_type": "stream",
     "text": [
      "\r",
      " 77%|█████████████████████████████████████████████████████████████████████████████████                        | 2266/2934 [00:51<00:15, 43.80it/s]"
     ]
    },
    {
     "name": "stderr",
     "output_type": "stream",
     "text": [
      "\r",
      " 77%|█████████████████████████████████████████████████████████████████████████████████▎                       | 2271/2934 [00:51<00:15, 43.79it/s]"
     ]
    },
    {
     "name": "stderr",
     "output_type": "stream",
     "text": [
      "\r",
      " 78%|█████████████████████████████████████████████████████████████████████████████████▍                       | 2276/2934 [00:51<00:15, 43.80it/s]"
     ]
    },
    {
     "name": "stderr",
     "output_type": "stream",
     "text": [
      "\r",
      " 78%|█████████████████████████████████████████████████████████████████████████████████▋                       | 2281/2934 [00:51<00:14, 43.77it/s]"
     ]
    },
    {
     "name": "stderr",
     "output_type": "stream",
     "text": [
      "\r",
      " 78%|█████████████████████████████████████████████████████████████████████████████████▊                       | 2286/2934 [00:51<00:14, 43.77it/s]"
     ]
    },
    {
     "name": "stderr",
     "output_type": "stream",
     "text": [
      "\r",
      " 78%|█████████████████████████████████████████████████████████████████████████████████▉                       | 2291/2934 [00:51<00:14, 43.78it/s]"
     ]
    },
    {
     "name": "stderr",
     "output_type": "stream",
     "text": [
      "\r",
      " 78%|██████████████████████████████████████████████████████████████████████████████████▏                      | 2296/2934 [00:52<00:14, 43.79it/s]"
     ]
    },
    {
     "name": "stderr",
     "output_type": "stream",
     "text": [
      "\r",
      " 78%|██████████████████████████████████████████████████████████████████████████████████▎                      | 2301/2934 [00:52<00:14, 43.79it/s]"
     ]
    },
    {
     "name": "stderr",
     "output_type": "stream",
     "text": [
      "\r",
      " 79%|██████████████████████████████████████████████████████████████████████████████████▌                      | 2306/2934 [00:52<00:14, 43.79it/s]"
     ]
    },
    {
     "name": "stderr",
     "output_type": "stream",
     "text": [
      "\r",
      " 79%|██████████████████████████████████████████████████████████████████████████████████▋                      | 2311/2934 [00:52<00:14, 43.78it/s]"
     ]
    },
    {
     "name": "stderr",
     "output_type": "stream",
     "text": [
      "\r",
      " 79%|██████████████████████████████████████████████████████████████████████████████████▉                      | 2316/2934 [00:52<00:14, 43.77it/s]"
     ]
    },
    {
     "name": "stderr",
     "output_type": "stream",
     "text": [
      "\r",
      " 79%|███████████████████████████████████████████████████████████████████████████████████                      | 2321/2934 [00:52<00:14, 43.77it/s]"
     ]
    },
    {
     "name": "stderr",
     "output_type": "stream",
     "text": [
      "\r",
      " 79%|███████████████████████████████████████████████████████████████████████████████████▏                     | 2326/2934 [00:52<00:13, 43.79it/s]"
     ]
    },
    {
     "name": "stderr",
     "output_type": "stream",
     "text": [
      "\r",
      " 79%|███████████████████████████████████████████████████████████████████████████████████▍                     | 2331/2934 [00:52<00:13, 43.80it/s]"
     ]
    },
    {
     "name": "stderr",
     "output_type": "stream",
     "text": [
      "\r",
      " 80%|███████████████████████████████████████████████████████████████████████████████████▌                     | 2336/2934 [00:52<00:13, 43.79it/s]"
     ]
    },
    {
     "name": "stderr",
     "output_type": "stream",
     "text": [
      "\r",
      " 80%|███████████████████████████████████████████████████████████████████████████████████▊                     | 2341/2934 [00:53<00:13, 43.78it/s]"
     ]
    },
    {
     "name": "stderr",
     "output_type": "stream",
     "text": [
      "\r",
      " 80%|███████████████████████████████████████████████████████████████████████████████████▉                     | 2346/2934 [00:53<00:13, 43.77it/s]"
     ]
    },
    {
     "name": "stderr",
     "output_type": "stream",
     "text": [
      "\r",
      " 80%|████████████████████████████████████████████████████████████████████████████████████▏                    | 2351/2934 [00:53<00:13, 43.77it/s]"
     ]
    },
    {
     "name": "stderr",
     "output_type": "stream",
     "text": [
      "\r",
      " 80%|████████████████████████████████████████████████████████████████████████████████████▎                    | 2356/2934 [00:53<00:13, 43.75it/s]"
     ]
    },
    {
     "name": "stderr",
     "output_type": "stream",
     "text": [
      "\r",
      " 80%|████████████████████████████████████████████████████████████████████████████████████▍                    | 2361/2934 [00:53<00:13, 43.78it/s]"
     ]
    },
    {
     "name": "stderr",
     "output_type": "stream",
     "text": [
      "\r",
      " 81%|████████████████████████████████████████████████████████████████████████████████████▋                    | 2366/2934 [00:53<00:12, 43.79it/s]"
     ]
    },
    {
     "name": "stderr",
     "output_type": "stream",
     "text": [
      "\r",
      " 81%|████████████████████████████████████████████████████████████████████████████████████▊                    | 2371/2934 [00:53<00:12, 43.68it/s]"
     ]
    },
    {
     "name": "stderr",
     "output_type": "stream",
     "text": [
      "\r",
      " 81%|█████████████████████████████████████████████████████████████████████████████████████                    | 2376/2934 [00:53<00:12, 43.82it/s]"
     ]
    },
    {
     "name": "stderr",
     "output_type": "stream",
     "text": [
      "\r",
      " 81%|█████████████████████████████████████████████████████████████████████████████████████▏                   | 2381/2934 [00:54<00:12, 43.82it/s]"
     ]
    },
    {
     "name": "stderr",
     "output_type": "stream",
     "text": [
      "\r",
      " 81%|█████████████████████████████████████████████████████████████████████████████████████▍                   | 2386/2934 [00:54<00:12, 43.83it/s]"
     ]
    },
    {
     "name": "stderr",
     "output_type": "stream",
     "text": [
      "\r",
      " 81%|█████████████████████████████████████████████████████████████████████████████████████▌                   | 2391/2934 [00:54<00:12, 43.84it/s]"
     ]
    },
    {
     "name": "stderr",
     "output_type": "stream",
     "text": [
      "\r",
      " 82%|█████████████████████████████████████████████████████████████████████████████████████▋                   | 2396/2934 [00:54<00:12, 43.84it/s]"
     ]
    },
    {
     "name": "stderr",
     "output_type": "stream",
     "text": [
      "\r",
      " 82%|█████████████████████████████████████████████████████████████████████████████████████▉                   | 2401/2934 [00:54<00:12, 43.85it/s]"
     ]
    },
    {
     "name": "stderr",
     "output_type": "stream",
     "text": [
      "\r",
      " 82%|██████████████████████████████████████████████████████████████████████████████████████                   | 2406/2934 [00:54<00:12, 43.87it/s]"
     ]
    },
    {
     "name": "stderr",
     "output_type": "stream",
     "text": [
      "\r",
      " 82%|██████████████████████████████████████████████████████████████████████████████████████▎                  | 2411/2934 [00:54<00:11, 43.87it/s]"
     ]
    },
    {
     "name": "stderr",
     "output_type": "stream",
     "text": [
      "\r",
      " 82%|██████████████████████████████████████████████████████████████████████████████████████▍                  | 2416/2934 [00:54<00:11, 43.86it/s]"
     ]
    },
    {
     "name": "stderr",
     "output_type": "stream",
     "text": [
      "\r",
      " 83%|██████████████████████████████████████████████████████████████████████████████████████▋                  | 2421/2934 [00:54<00:11, 43.84it/s]"
     ]
    },
    {
     "name": "stderr",
     "output_type": "stream",
     "text": [
      "\r",
      " 83%|██████████████████████████████████████████████████████████████████████████████████████▊                  | 2426/2934 [00:55<00:11, 43.82it/s]"
     ]
    },
    {
     "name": "stderr",
     "output_type": "stream",
     "text": [
      "\r",
      " 83%|██████████████████████████████████████████████████████████████████████████████████████▉                  | 2431/2934 [00:55<00:11, 43.82it/s]"
     ]
    },
    {
     "name": "stderr",
     "output_type": "stream",
     "text": [
      "\r",
      " 83%|███████████████████████████████████████████████████████████████████████████████████████▏                 | 2436/2934 [00:55<00:11, 43.81it/s]"
     ]
    },
    {
     "name": "stderr",
     "output_type": "stream",
     "text": [
      "\r",
      " 83%|███████████████████████████████████████████████████████████████████████████████████████▎                 | 2441/2934 [00:55<00:11, 43.81it/s]"
     ]
    },
    {
     "name": "stderr",
     "output_type": "stream",
     "text": [
      "\r",
      " 83%|███████████████████████████████████████████████████████████████████████████████████████▌                 | 2446/2934 [00:55<00:11, 43.80it/s]"
     ]
    },
    {
     "name": "stderr",
     "output_type": "stream",
     "text": [
      "\r",
      " 84%|███████████████████████████████████████████████████████████████████████████████████████▋                 | 2451/2934 [00:55<00:11, 43.82it/s]"
     ]
    },
    {
     "name": "stderr",
     "output_type": "stream",
     "text": [
      "\r",
      " 84%|███████████████████████████████████████████████████████████████████████████████████████▉                 | 2456/2934 [00:55<00:10, 43.82it/s]"
     ]
    },
    {
     "name": "stderr",
     "output_type": "stream",
     "text": [
      "\r",
      " 84%|████████████████████████████████████████████████████████████████████████████████████████                 | 2461/2934 [00:55<00:10, 43.82it/s]"
     ]
    },
    {
     "name": "stderr",
     "output_type": "stream",
     "text": [
      "\r",
      " 84%|████████████████████████████████████████████████████████████████████████████████████████▎                | 2466/2934 [00:55<00:10, 43.81it/s]"
     ]
    },
    {
     "name": "stderr",
     "output_type": "stream",
     "text": [
      "\r",
      " 84%|████████████████████████████████████████████████████████████████████████████████████████▍                | 2471/2934 [00:56<00:10, 43.79it/s]"
     ]
    },
    {
     "name": "stderr",
     "output_type": "stream",
     "text": [
      "\r",
      " 84%|████████████████████████████████████████████████████████████████████████████████████████▌                | 2476/2934 [00:56<00:10, 43.79it/s]"
     ]
    },
    {
     "name": "stderr",
     "output_type": "stream",
     "text": [
      "\r",
      " 85%|████████████████████████████████████████████████████████████████████████████████████████▊                | 2481/2934 [00:56<00:10, 43.79it/s]"
     ]
    },
    {
     "name": "stderr",
     "output_type": "stream",
     "text": [
      "\r",
      " 85%|████████████████████████████████████████████████████████████████████████████████████████▉                | 2486/2934 [00:56<00:10, 43.79it/s]"
     ]
    },
    {
     "name": "stderr",
     "output_type": "stream",
     "text": [
      "\r",
      " 85%|█████████████████████████████████████████████████████████████████████████████████████████▏               | 2491/2934 [00:56<00:10, 43.78it/s]"
     ]
    },
    {
     "name": "stderr",
     "output_type": "stream",
     "text": [
      "\r",
      " 85%|█████████████████████████████████████████████████████████████████████████████████████████▎               | 2496/2934 [00:56<00:10, 43.66it/s]"
     ]
    },
    {
     "name": "stderr",
     "output_type": "stream",
     "text": [
      "\r",
      " 85%|█████████████████████████████████████████████████████████████████████████████████████████▌               | 2501/2934 [00:56<00:09, 43.70it/s]"
     ]
    },
    {
     "name": "stderr",
     "output_type": "stream",
     "text": [
      "\r",
      " 85%|█████████████████████████████████████████████████████████████████████████████████████████▋               | 2506/2934 [00:56<00:09, 43.72it/s]"
     ]
    },
    {
     "name": "stderr",
     "output_type": "stream",
     "text": [
      "\r",
      " 86%|█████████████████████████████████████████████████████████████████████████████████████████▊               | 2511/2934 [00:56<00:09, 43.74it/s]"
     ]
    },
    {
     "name": "stderr",
     "output_type": "stream",
     "text": [
      "\r",
      " 86%|██████████████████████████████████████████████████████████████████████████████████████████               | 2516/2934 [00:57<00:09, 43.76it/s]"
     ]
    },
    {
     "name": "stderr",
     "output_type": "stream",
     "text": [
      "\r",
      " 86%|██████████████████████████████████████████████████████████████████████████████████████████▏              | 2521/2934 [00:57<00:09, 43.77it/s]"
     ]
    },
    {
     "name": "stderr",
     "output_type": "stream",
     "text": [
      "\r",
      " 86%|██████████████████████████████████████████████████████████████████████████████████████████▍              | 2526/2934 [00:57<00:09, 43.77it/s]"
     ]
    },
    {
     "name": "stderr",
     "output_type": "stream",
     "text": [
      "\r",
      " 86%|██████████████████████████████████████████████████████████████████████████████████████████▌              | 2531/2934 [00:57<00:09, 43.77it/s]"
     ]
    },
    {
     "name": "stderr",
     "output_type": "stream",
     "text": [
      "\r",
      " 86%|██████████████████████████████████████████████████████████████████████████████████████████▊              | 2536/2934 [00:57<00:09, 43.78it/s]"
     ]
    },
    {
     "name": "stderr",
     "output_type": "stream",
     "text": [
      "\r",
      " 87%|██████████████████████████████████████████████████████████████████████████████████████████▉              | 2541/2934 [00:57<00:08, 43.77it/s]"
     ]
    },
    {
     "name": "stderr",
     "output_type": "stream",
     "text": [
      "\r",
      " 87%|███████████████████████████████████████████████████████████████████████████████████████████              | 2546/2934 [00:57<00:08, 43.79it/s]"
     ]
    },
    {
     "name": "stderr",
     "output_type": "stream",
     "text": [
      "\r",
      " 87%|███████████████████████████████████████████████████████████████████████████████████████████▎             | 2551/2934 [00:57<00:08, 43.80it/s]"
     ]
    },
    {
     "name": "stderr",
     "output_type": "stream",
     "text": [
      "\r",
      " 87%|███████████████████████████████████████████████████████████████████████████████████████████▍             | 2556/2934 [00:58<00:08, 43.82it/s]"
     ]
    },
    {
     "name": "stderr",
     "output_type": "stream",
     "text": [
      "\r",
      " 87%|███████████████████████████████████████████████████████████████████████████████████████████▋             | 2561/2934 [00:58<00:08, 43.81it/s]"
     ]
    },
    {
     "name": "stderr",
     "output_type": "stream",
     "text": [
      "\r",
      " 87%|███████████████████████████████████████████████████████████████████████████████████████████▊             | 2566/2934 [00:58<00:08, 43.79it/s]"
     ]
    },
    {
     "name": "stderr",
     "output_type": "stream",
     "text": [
      "\r",
      " 88%|████████████████████████████████████████████████████████████████████████████████████████████             | 2571/2934 [00:58<00:08, 43.80it/s]"
     ]
    },
    {
     "name": "stderr",
     "output_type": "stream",
     "text": [
      "\r",
      " 88%|████████████████████████████████████████████████████████████████████████████████████████████▏            | 2576/2934 [00:58<00:08, 43.79it/s]"
     ]
    },
    {
     "name": "stderr",
     "output_type": "stream",
     "text": [
      "\r",
      " 88%|████████████████████████████████████████████████████████████████████████████████████████████▎            | 2581/2934 [00:58<00:08, 43.79it/s]"
     ]
    },
    {
     "name": "stderr",
     "output_type": "stream",
     "text": [
      "\r",
      " 88%|████████████████████████████████████████████████████████████████████████████████████████████▌            | 2586/2934 [00:58<00:07, 43.81it/s]"
     ]
    },
    {
     "name": "stderr",
     "output_type": "stream",
     "text": [
      "\r",
      " 88%|████████████████████████████████████████████████████████████████████████████████████████████▋            | 2591/2934 [00:58<00:07, 43.81it/s]"
     ]
    },
    {
     "name": "stderr",
     "output_type": "stream",
     "text": [
      "\r",
      " 88%|████████████████████████████████████████████████████████████████████████████████████████████▉            | 2596/2934 [00:58<00:07, 43.81it/s]"
     ]
    },
    {
     "name": "stderr",
     "output_type": "stream",
     "text": [
      "\r",
      " 89%|█████████████████████████████████████████████████████████████████████████████████████████████            | 2601/2934 [00:59<00:07, 43.79it/s]"
     ]
    },
    {
     "name": "stderr",
     "output_type": "stream",
     "text": [
      "\r",
      " 89%|█████████████████████████████████████████████████████████████████████████████████████████████▎           | 2606/2934 [00:59<00:07, 43.78it/s]"
     ]
    },
    {
     "name": "stderr",
     "output_type": "stream",
     "text": [
      "\r",
      " 89%|█████████████████████████████████████████████████████████████████████████████████████████████▍           | 2611/2934 [00:59<00:07, 43.78it/s]"
     ]
    },
    {
     "name": "stderr",
     "output_type": "stream",
     "text": [
      "\r",
      " 89%|█████████████████████████████████████████████████████████████████████████████████████████████▌           | 2616/2934 [00:59<00:07, 43.80it/s]"
     ]
    },
    {
     "name": "stderr",
     "output_type": "stream",
     "text": [
      "\r",
      " 89%|█████████████████████████████████████████████████████████████████████████████████████████████▊           | 2621/2934 [00:59<00:07, 43.78it/s]"
     ]
    },
    {
     "name": "stderr",
     "output_type": "stream",
     "text": [
      "\r",
      " 90%|█████████████████████████████████████████████████████████████████████████████████████████████▉           | 2626/2934 [00:59<00:07, 43.79it/s]"
     ]
    },
    {
     "name": "stderr",
     "output_type": "stream",
     "text": [
      "\r",
      " 90%|██████████████████████████████████████████████████████████████████████████████████████████████▏          | 2631/2934 [00:59<00:06, 43.79it/s]"
     ]
    },
    {
     "name": "stderr",
     "output_type": "stream",
     "text": [
      "\r",
      " 90%|██████████████████████████████████████████████████████████████████████████████████████████████▎          | 2636/2934 [00:59<00:06, 43.78it/s]"
     ]
    },
    {
     "name": "stderr",
     "output_type": "stream",
     "text": [
      "\r",
      " 90%|██████████████████████████████████████████████████████████████████████████████████████████████▌          | 2641/2934 [00:59<00:06, 43.77it/s]"
     ]
    },
    {
     "name": "stderr",
     "output_type": "stream",
     "text": [
      "\r",
      " 90%|██████████████████████████████████████████████████████████████████████████████████████████████▋          | 2646/2934 [01:00<00:06, 43.78it/s]"
     ]
    },
    {
     "name": "stderr",
     "output_type": "stream",
     "text": [
      "\r",
      " 90%|██████████████████████████████████████████████████████████████████████████████████████████████▊          | 2651/2934 [01:00<00:06, 43.78it/s]"
     ]
    },
    {
     "name": "stderr",
     "output_type": "stream",
     "text": [
      "\r",
      " 91%|███████████████████████████████████████████████████████████████████████████████████████████████          | 2656/2934 [01:00<00:06, 43.79it/s]"
     ]
    },
    {
     "name": "stderr",
     "output_type": "stream",
     "text": [
      "\r",
      " 91%|███████████████████████████████████████████████████████████████████████████████████████████████▏         | 2661/2934 [01:00<00:06, 43.78it/s]"
     ]
    },
    {
     "name": "stderr",
     "output_type": "stream",
     "text": [
      "\r",
      " 91%|███████████████████████████████████████████████████████████████████████████████████████████████▍         | 2666/2934 [01:00<00:06, 43.55it/s]"
     ]
    },
    {
     "name": "stderr",
     "output_type": "stream",
     "text": [
      "\r",
      " 91%|███████████████████████████████████████████████████████████████████████████████████████████████▌         | 2671/2934 [01:00<00:06, 43.79it/s]"
     ]
    },
    {
     "name": "stderr",
     "output_type": "stream",
     "text": [
      "\r",
      " 91%|███████████████████████████████████████████████████████████████████████████████████████████████▊         | 2676/2934 [01:00<00:05, 43.82it/s]"
     ]
    },
    {
     "name": "stderr",
     "output_type": "stream",
     "text": [
      "\r",
      " 91%|███████████████████████████████████████████████████████████████████████████████████████████████▉         | 2681/2934 [01:00<00:05, 43.84it/s]"
     ]
    },
    {
     "name": "stderr",
     "output_type": "stream",
     "text": [
      "\r",
      " 92%|████████████████████████████████████████████████████████████████████████████████████████████████         | 2686/2934 [01:00<00:05, 43.85it/s]"
     ]
    },
    {
     "name": "stderr",
     "output_type": "stream",
     "text": [
      "\r",
      " 92%|████████████████████████████████████████████████████████████████████████████████████████████████▎        | 2691/2934 [01:01<00:05, 43.86it/s]"
     ]
    },
    {
     "name": "stderr",
     "output_type": "stream",
     "text": [
      "\r",
      " 92%|████████████████████████████████████████████████████████████████████████████████████████████████▍        | 2696/2934 [01:01<00:05, 43.85it/s]"
     ]
    },
    {
     "name": "stderr",
     "output_type": "stream",
     "text": [
      "\r",
      " 92%|████████████████████████████████████████████████████████████████████████████████████████████████▋        | 2701/2934 [01:01<00:05, 43.87it/s]"
     ]
    },
    {
     "name": "stderr",
     "output_type": "stream",
     "text": [
      "\r",
      " 92%|████████████████████████████████████████████████████████████████████████████████████████████████▊        | 2706/2934 [01:01<00:05, 43.87it/s]"
     ]
    },
    {
     "name": "stderr",
     "output_type": "stream",
     "text": [
      "\r",
      " 92%|█████████████████████████████████████████████████████████████████████████████████████████████████        | 2711/2934 [01:01<00:05, 43.89it/s]"
     ]
    },
    {
     "name": "stderr",
     "output_type": "stream",
     "text": [
      "\r",
      " 93%|█████████████████████████████████████████████████████████████████████████████████████████████████▏       | 2716/2934 [01:01<00:04, 43.88it/s]"
     ]
    },
    {
     "name": "stderr",
     "output_type": "stream",
     "text": [
      "\r",
      " 93%|█████████████████████████████████████████████████████████████████████████████████████████████████▍       | 2721/2934 [01:01<00:04, 43.84it/s]"
     ]
    },
    {
     "name": "stderr",
     "output_type": "stream",
     "text": [
      "\r",
      " 93%|█████████████████████████████████████████████████████████████████████████████████████████████████▌       | 2726/2934 [01:01<00:04, 43.81it/s]"
     ]
    },
    {
     "name": "stderr",
     "output_type": "stream",
     "text": [
      "\r",
      " 93%|█████████████████████████████████████████████████████████████████████████████████████████████████▋       | 2731/2934 [01:01<00:04, 43.85it/s]"
     ]
    },
    {
     "name": "stderr",
     "output_type": "stream",
     "text": [
      "\r",
      " 93%|█████████████████████████████████████████████████████████████████████████████████████████████████▉       | 2736/2934 [01:02<00:04, 43.86it/s]"
     ]
    },
    {
     "name": "stderr",
     "output_type": "stream",
     "text": [
      "\r",
      " 93%|██████████████████████████████████████████████████████████████████████████████████████████████████       | 2741/2934 [01:02<00:04, 43.87it/s]"
     ]
    },
    {
     "name": "stderr",
     "output_type": "stream",
     "text": [
      "\r",
      " 94%|██████████████████████████████████████████████████████████████████████████████████████████████████▎      | 2746/2934 [01:02<00:04, 43.86it/s]"
     ]
    },
    {
     "name": "stderr",
     "output_type": "stream",
     "text": [
      "\r",
      " 94%|██████████████████████████████████████████████████████████████████████████████████████████████████▍      | 2751/2934 [01:02<00:04, 43.86it/s]"
     ]
    },
    {
     "name": "stderr",
     "output_type": "stream",
     "text": [
      "\r",
      " 94%|██████████████████████████████████████████████████████████████████████████████████████████████████▋      | 2756/2934 [01:02<00:04, 43.86it/s]"
     ]
    },
    {
     "name": "stderr",
     "output_type": "stream",
     "text": [
      "\r",
      " 94%|██████████████████████████████████████████████████████████████████████████████████████████████████▊      | 2761/2934 [01:02<00:03, 43.83it/s]"
     ]
    },
    {
     "name": "stderr",
     "output_type": "stream",
     "text": [
      "\r",
      " 94%|██████████████████████████████████████████████████████████████████████████████████████████████████▉      | 2766/2934 [01:02<00:03, 43.85it/s]"
     ]
    },
    {
     "name": "stderr",
     "output_type": "stream",
     "text": [
      "\r",
      " 94%|███████████████████████████████████████████████████████████████████████████████████████████████████▏     | 2771/2934 [01:02<00:03, 43.86it/s]"
     ]
    },
    {
     "name": "stderr",
     "output_type": "stream",
     "text": [
      "\r",
      " 95%|███████████████████████████████████████████████████████████████████████████████████████████████████▎     | 2776/2934 [01:03<00:03, 43.86it/s]"
     ]
    },
    {
     "name": "stderr",
     "output_type": "stream",
     "text": [
      "\r",
      " 95%|███████████████████████████████████████████████████████████████████████████████████████████████████▌     | 2781/2934 [01:03<00:03, 43.87it/s]"
     ]
    },
    {
     "name": "stderr",
     "output_type": "stream",
     "text": [
      "\r",
      " 95%|███████████████████████████████████████████████████████████████████████████████████████████████████▋     | 2786/2934 [01:03<00:03, 43.86it/s]"
     ]
    },
    {
     "name": "stderr",
     "output_type": "stream",
     "text": [
      "\r",
      " 95%|███████████████████████████████████████████████████████████████████████████████████████████████████▉     | 2791/2934 [01:03<00:03, 43.86it/s]"
     ]
    },
    {
     "name": "stderr",
     "output_type": "stream",
     "text": [
      "\r",
      " 95%|████████████████████████████████████████████████████████████████████████████████████████████████████     | 2796/2934 [01:03<00:03, 43.87it/s]"
     ]
    },
    {
     "name": "stderr",
     "output_type": "stream",
     "text": [
      "\r",
      " 95%|████████████████████████████████████████████████████████████████████████████████████████████████████▏    | 2801/2934 [01:03<00:03, 43.86it/s]"
     ]
    },
    {
     "name": "stderr",
     "output_type": "stream",
     "text": [
      "\r",
      " 96%|████████████████████████████████████████████████████████████████████████████████████████████████████▍    | 2806/2934 [01:03<00:02, 43.85it/s]"
     ]
    },
    {
     "name": "stderr",
     "output_type": "stream",
     "text": [
      "\r",
      " 96%|████████████████████████████████████████████████████████████████████████████████████████████████████▌    | 2811/2934 [01:03<00:02, 43.87it/s]"
     ]
    },
    {
     "name": "stderr",
     "output_type": "stream",
     "text": [
      "\r",
      " 96%|████████████████████████████████████████████████████████████████████████████████████████████████████▊    | 2816/2934 [01:03<00:02, 43.86it/s]"
     ]
    },
    {
     "name": "stderr",
     "output_type": "stream",
     "text": [
      "\r",
      " 96%|████████████████████████████████████████████████████████████████████████████████████████████████████▉    | 2821/2934 [01:04<00:02, 43.85it/s]"
     ]
    },
    {
     "name": "stderr",
     "output_type": "stream",
     "text": [
      "\r",
      " 96%|█████████████████████████████████████████████████████████████████████████████████████████████████████▏   | 2826/2934 [01:04<00:02, 43.85it/s]"
     ]
    },
    {
     "name": "stderr",
     "output_type": "stream",
     "text": [
      "\r",
      " 96%|█████████████████████████████████████████████████████████████████████████████████████████████████████▎   | 2831/2934 [01:04<00:02, 43.85it/s]"
     ]
    },
    {
     "name": "stderr",
     "output_type": "stream",
     "text": [
      "\r",
      " 97%|█████████████████████████████████████████████████████████████████████████████████████████████████████▍   | 2836/2934 [01:04<00:02, 43.87it/s]"
     ]
    },
    {
     "name": "stderr",
     "output_type": "stream",
     "text": [
      "\r",
      " 97%|█████████████████████████████████████████████████████████████████████████████████████████████████████▋   | 2841/2934 [01:04<00:02, 43.89it/s]"
     ]
    },
    {
     "name": "stderr",
     "output_type": "stream",
     "text": [
      "\r",
      " 97%|█████████████████████████████████████████████████████████████████████████████████████████████████████▊   | 2846/2934 [01:04<00:02, 43.87it/s]"
     ]
    },
    {
     "name": "stderr",
     "output_type": "stream",
     "text": [
      "\r",
      " 97%|██████████████████████████████████████████████████████████████████████████████████████████████████████   | 2851/2934 [01:04<00:01, 43.86it/s]"
     ]
    },
    {
     "name": "stderr",
     "output_type": "stream",
     "text": [
      "\r",
      " 97%|██████████████████████████████████████████████████████████████████████████████████████████████████████▏  | 2856/2934 [01:04<00:01, 43.87it/s]"
     ]
    },
    {
     "name": "stderr",
     "output_type": "stream",
     "text": [
      "\r",
      " 98%|██████████████████████████████████████████████████████████████████████████████████████████████████████▍  | 2861/2934 [01:04<00:01, 43.87it/s]"
     ]
    },
    {
     "name": "stderr",
     "output_type": "stream",
     "text": [
      "\r",
      " 98%|██████████████████████████████████████████████████████████████████████████████████████████████████████▌  | 2866/2934 [01:05<00:01, 43.87it/s]"
     ]
    },
    {
     "name": "stderr",
     "output_type": "stream",
     "text": [
      "\r",
      " 98%|██████████████████████████████████████████████████████████████████████████████████████████████████████▋  | 2871/2934 [01:05<00:01, 43.87it/s]"
     ]
    },
    {
     "name": "stderr",
     "output_type": "stream",
     "text": [
      "\r",
      " 98%|██████████████████████████████████████████████████████████████████████████████████████████████████████▉  | 2876/2934 [01:05<00:01, 43.88it/s]"
     ]
    },
    {
     "name": "stderr",
     "output_type": "stream",
     "text": [
      "\r",
      " 98%|███████████████████████████████████████████████████████████████████████████████████████████████████████  | 2881/2934 [01:05<00:01, 43.87it/s]"
     ]
    },
    {
     "name": "stderr",
     "output_type": "stream",
     "text": [
      "\r",
      " 98%|███████████████████████████████████████████████████████████████████████████████████████████████████████▎ | 2886/2934 [01:05<00:01, 43.86it/s]"
     ]
    },
    {
     "name": "stderr",
     "output_type": "stream",
     "text": [
      "\r",
      " 99%|███████████████████████████████████████████████████████████████████████████████████████████████████████▍ | 2891/2934 [01:05<00:00, 43.86it/s]"
     ]
    },
    {
     "name": "stderr",
     "output_type": "stream",
     "text": [
      "\r",
      " 99%|███████████████████████████████████████████████████████████████████████████████████████████████████████▋ | 2896/2934 [01:05<00:00, 43.86it/s]"
     ]
    },
    {
     "name": "stderr",
     "output_type": "stream",
     "text": [
      "\r",
      " 99%|███████████████████████████████████████████████████████████████████████████████████████████████████████▊ | 2901/2934 [01:05<00:00, 43.87it/s]"
     ]
    },
    {
     "name": "stderr",
     "output_type": "stream",
     "text": [
      "\r",
      " 99%|███████████████████████████████████████████████████████████████████████████████████████████████████████▉ | 2906/2934 [01:05<00:00, 43.89it/s]"
     ]
    },
    {
     "name": "stderr",
     "output_type": "stream",
     "text": [
      "\r",
      " 99%|████████████████████████████████████████████████████████████████████████████████████████████████████████▏| 2911/2934 [01:06<00:00, 43.89it/s]"
     ]
    },
    {
     "name": "stderr",
     "output_type": "stream",
     "text": [
      "\r",
      " 99%|████████████████████████████████████████████████████████████████████████████████████████████████████████▎| 2916/2934 [01:06<00:00, 43.87it/s]"
     ]
    },
    {
     "name": "stderr",
     "output_type": "stream",
     "text": [
      "\r",
      "100%|████████████████████████████████████████████████████████████████████████████████████████████████████████▌| 2921/2934 [01:06<00:00, 43.71it/s]"
     ]
    },
    {
     "name": "stderr",
     "output_type": "stream",
     "text": [
      "\r",
      "100%|████████████████████████████████████████████████████████████████████████████████████████████████████████▋| 2926/2934 [01:06<00:00, 43.67it/s]"
     ]
    },
    {
     "name": "stderr",
     "output_type": "stream",
     "text": [
      "\r",
      "100%|████████████████████████████████████████████████████████████████████████████████████████████████████████▉| 2931/2934 [01:06<00:00, 43.62it/s]"
     ]
    },
    {
     "name": "stderr",
     "output_type": "stream",
     "text": [
      "\r",
      "100%|█████████████████████████████████████████████████████████████████████████████████████████████████████████| 2934/2934 [01:06<00:00, 44.00it/s]"
     ]
    },
    {
     "name": "stderr",
     "output_type": "stream",
     "text": [
      "\n"
     ]
    },
    {
     "name": "stdout",
     "output_type": "stream",
     "text": [
      "train - OK\n"
     ]
    },
    {
     "name": "stderr",
     "output_type": "stream",
     "text": [
      "\r",
      "  0%|                                                                                                                     | 0/380 [00:00<?, ?it/s]"
     ]
    },
    {
     "name": "stderr",
     "output_type": "stream",
     "text": [
      "\r",
      "  0%|▎                                                                                                            | 1/380 [00:00<02:33,  2.47it/s]"
     ]
    },
    {
     "name": "stderr",
     "output_type": "stream",
     "text": [
      "\r",
      "  2%|█▋                                                                                                           | 6/380 [00:00<00:26, 14.27it/s]"
     ]
    },
    {
     "name": "stderr",
     "output_type": "stream",
     "text": [
      "\r",
      "  3%|███▏                                                                                                        | 11/380 [00:00<00:16, 22.76it/s]"
     ]
    },
    {
     "name": "stderr",
     "output_type": "stream",
     "text": [
      "\r",
      "  4%|████▌                                                                                                       | 16/380 [00:00<00:12, 28.83it/s]"
     ]
    },
    {
     "name": "stderr",
     "output_type": "stream",
     "text": [
      "\r",
      "  6%|█████▉                                                                                                      | 21/380 [00:00<00:10, 33.14it/s]"
     ]
    },
    {
     "name": "stderr",
     "output_type": "stream",
     "text": [
      "\r",
      "  7%|███████▍                                                                                                    | 26/380 [00:00<00:09, 36.20it/s]"
     ]
    },
    {
     "name": "stderr",
     "output_type": "stream",
     "text": [
      "\r",
      "  8%|████████▊                                                                                                   | 31/380 [00:01<00:09, 38.37it/s]"
     ]
    },
    {
     "name": "stderr",
     "output_type": "stream",
     "text": [
      "\r",
      "  9%|██████████▏                                                                                                 | 36/380 [00:01<00:08, 39.40it/s]"
     ]
    },
    {
     "name": "stderr",
     "output_type": "stream",
     "text": [
      "\r",
      " 11%|███████████▋                                                                                                | 41/380 [00:01<00:08, 40.60it/s]"
     ]
    },
    {
     "name": "stderr",
     "output_type": "stream",
     "text": [
      "\r",
      " 12%|█████████████                                                                                               | 46/380 [00:01<00:08, 41.45it/s]"
     ]
    },
    {
     "name": "stderr",
     "output_type": "stream",
     "text": [
      "\r",
      " 13%|██████████████▍                                                                                             | 51/380 [00:01<00:07, 42.03it/s]"
     ]
    },
    {
     "name": "stderr",
     "output_type": "stream",
     "text": [
      "\r",
      " 15%|███████████████▉                                                                                            | 56/380 [00:01<00:07, 42.47it/s]"
     ]
    },
    {
     "name": "stderr",
     "output_type": "stream",
     "text": [
      "\r",
      " 16%|█████████████████▎                                                                                          | 61/380 [00:01<00:07, 42.75it/s]"
     ]
    },
    {
     "name": "stderr",
     "output_type": "stream",
     "text": [
      "\r",
      " 17%|██████████████████▊                                                                                         | 66/380 [00:01<00:07, 42.95it/s]"
     ]
    },
    {
     "name": "stderr",
     "output_type": "stream",
     "text": [
      "\r",
      " 19%|████████████████████▏                                                                                       | 71/380 [00:02<00:07, 43.09it/s]"
     ]
    },
    {
     "name": "stderr",
     "output_type": "stream",
     "text": [
      "\r",
      " 20%|█████████████████████▌                                                                                      | 76/380 [00:02<00:07, 43.20it/s]"
     ]
    },
    {
     "name": "stderr",
     "output_type": "stream",
     "text": [
      "\r",
      " 21%|███████████████████████                                                                                     | 81/380 [00:02<00:06, 43.29it/s]"
     ]
    },
    {
     "name": "stderr",
     "output_type": "stream",
     "text": [
      "\r",
      " 23%|████████████████████████▍                                                                                   | 86/380 [00:02<00:06, 43.33it/s]"
     ]
    },
    {
     "name": "stderr",
     "output_type": "stream",
     "text": [
      "\r",
      " 24%|█████████████████████████▊                                                                                  | 91/380 [00:02<00:06, 43.35it/s]"
     ]
    },
    {
     "name": "stderr",
     "output_type": "stream",
     "text": [
      "\r",
      " 25%|███████████████████████████▎                                                                                | 96/380 [00:02<00:06, 43.40it/s]"
     ]
    },
    {
     "name": "stderr",
     "output_type": "stream",
     "text": [
      "\r",
      " 27%|████████████████████████████▍                                                                              | 101/380 [00:02<00:06, 43.43it/s]"
     ]
    },
    {
     "name": "stderr",
     "output_type": "stream",
     "text": [
      "\r",
      " 28%|█████████████████████████████▊                                                                             | 106/380 [00:02<00:06, 43.41it/s]"
     ]
    },
    {
     "name": "stderr",
     "output_type": "stream",
     "text": [
      "\r",
      " 29%|███████████████████████████████▎                                                                           | 111/380 [00:02<00:06, 43.43it/s]"
     ]
    },
    {
     "name": "stderr",
     "output_type": "stream",
     "text": [
      "\r",
      " 31%|████████████████████████████████▋                                                                          | 116/380 [00:03<00:06, 43.46it/s]"
     ]
    },
    {
     "name": "stderr",
     "output_type": "stream",
     "text": [
      "\r",
      " 32%|██████████████████████████████████                                                                         | 121/380 [00:03<00:05, 43.43it/s]"
     ]
    },
    {
     "name": "stderr",
     "output_type": "stream",
     "text": [
      "\r",
      " 33%|███████████████████████████████████▍                                                                       | 126/380 [00:03<00:05, 43.44it/s]"
     ]
    },
    {
     "name": "stderr",
     "output_type": "stream",
     "text": [
      "\r",
      " 34%|████████████████████████████████████▉                                                                      | 131/380 [00:03<00:05, 43.42it/s]"
     ]
    },
    {
     "name": "stderr",
     "output_type": "stream",
     "text": [
      "\r",
      " 36%|██████████████████████████████████████▎                                                                    | 136/380 [00:03<00:05, 43.37it/s]"
     ]
    },
    {
     "name": "stderr",
     "output_type": "stream",
     "text": [
      "\r",
      " 37%|███████████████████████████████████████▋                                                                   | 141/380 [00:03<00:05, 43.34it/s]"
     ]
    },
    {
     "name": "stderr",
     "output_type": "stream",
     "text": [
      "\r",
      " 38%|█████████████████████████████████████████                                                                  | 146/380 [00:03<00:05, 43.32it/s]"
     ]
    },
    {
     "name": "stderr",
     "output_type": "stream",
     "text": [
      "\r",
      " 40%|██████████████████████████████████████████▌                                                                | 151/380 [00:03<00:05, 43.34it/s]"
     ]
    },
    {
     "name": "stderr",
     "output_type": "stream",
     "text": [
      "\r",
      " 41%|███████████████████████████████████████████▉                                                               | 156/380 [00:03<00:05, 43.28it/s]"
     ]
    },
    {
     "name": "stderr",
     "output_type": "stream",
     "text": [
      "\r",
      " 42%|█████████████████████████████████████████████▎                                                             | 161/380 [00:04<00:05, 43.25it/s]"
     ]
    },
    {
     "name": "stderr",
     "output_type": "stream",
     "text": [
      "\r",
      " 44%|██████████████████████████████████████████████▋                                                            | 166/380 [00:04<00:04, 43.26it/s]"
     ]
    },
    {
     "name": "stderr",
     "output_type": "stream",
     "text": [
      "\r",
      " 45%|████████████████████████████████████████████████▏                                                          | 171/380 [00:04<00:04, 43.27it/s]"
     ]
    },
    {
     "name": "stderr",
     "output_type": "stream",
     "text": [
      "\r",
      " 46%|█████████████████████████████████████████████████▌                                                         | 176/380 [00:04<00:04, 43.25it/s]"
     ]
    },
    {
     "name": "stderr",
     "output_type": "stream",
     "text": [
      "\r",
      " 48%|██████████████████████████████████████████████████▉                                                        | 181/380 [00:04<00:04, 42.89it/s]"
     ]
    },
    {
     "name": "stderr",
     "output_type": "stream",
     "text": [
      "\r",
      " 49%|████████████████████████████████████████████████████▎                                                      | 186/380 [00:04<00:04, 43.04it/s]"
     ]
    },
    {
     "name": "stderr",
     "output_type": "stream",
     "text": [
      "\r",
      " 50%|█████████████████████████████████████████████████████▊                                                     | 191/380 [00:04<00:04, 43.15it/s]"
     ]
    },
    {
     "name": "stderr",
     "output_type": "stream",
     "text": [
      "\r",
      " 52%|███████████████████████████████████████████████████████▏                                                   | 196/380 [00:04<00:04, 43.16it/s]"
     ]
    },
    {
     "name": "stderr",
     "output_type": "stream",
     "text": [
      "\r",
      " 53%|████████████████████████████████████████████████████████▌                                                  | 201/380 [00:05<00:04, 43.19it/s]"
     ]
    },
    {
     "name": "stderr",
     "output_type": "stream",
     "text": [
      "\r",
      " 54%|██████████████████████████████████████████████████████████                                                 | 206/380 [00:05<00:04, 43.18it/s]"
     ]
    },
    {
     "name": "stderr",
     "output_type": "stream",
     "text": [
      "\r",
      " 56%|███████████████████████████████████████████████████████████▍                                               | 211/380 [00:05<00:03, 43.21it/s]"
     ]
    },
    {
     "name": "stderr",
     "output_type": "stream",
     "text": [
      "\r",
      " 57%|████████████████████████████████████████████████████████████▊                                              | 216/380 [00:05<00:03, 43.27it/s]"
     ]
    },
    {
     "name": "stderr",
     "output_type": "stream",
     "text": [
      "\r",
      " 58%|██████████████████████████████████████████████████████████████▏                                            | 221/380 [00:05<00:03, 43.25it/s]"
     ]
    },
    {
     "name": "stderr",
     "output_type": "stream",
     "text": [
      "\r",
      " 59%|███████████████████████████████████████████████████████████████▋                                           | 226/380 [00:05<00:03, 43.30it/s]"
     ]
    },
    {
     "name": "stderr",
     "output_type": "stream",
     "text": [
      "\r",
      " 61%|█████████████████████████████████████████████████████████████████                                          | 231/380 [00:05<00:03, 43.33it/s]"
     ]
    },
    {
     "name": "stderr",
     "output_type": "stream",
     "text": [
      "\r",
      " 62%|██████████████████████████████████████████████████████████████████▍                                        | 236/380 [00:05<00:03, 43.35it/s]"
     ]
    },
    {
     "name": "stderr",
     "output_type": "stream",
     "text": [
      "\r",
      " 63%|███████████████████████████████████████████████████████████████████▊                                       | 241/380 [00:05<00:03, 43.35it/s]"
     ]
    },
    {
     "name": "stderr",
     "output_type": "stream",
     "text": [
      "\r",
      " 65%|█████████████████████████████████████████████████████████████████████▎                                     | 246/380 [00:06<00:03, 43.35it/s]"
     ]
    },
    {
     "name": "stderr",
     "output_type": "stream",
     "text": [
      "\r",
      " 66%|██████████████████████████████████████████████████████████████████████▋                                    | 251/380 [00:06<00:02, 43.26it/s]"
     ]
    },
    {
     "name": "stderr",
     "output_type": "stream",
     "text": [
      "\r",
      " 67%|████████████████████████████████████████████████████████████████████████                                   | 256/380 [00:06<00:02, 42.84it/s]"
     ]
    },
    {
     "name": "stderr",
     "output_type": "stream",
     "text": [
      "\r",
      " 69%|█████████████████████████████████████████████████████████████████████████▍                                 | 261/380 [00:06<00:02, 42.98it/s]"
     ]
    },
    {
     "name": "stderr",
     "output_type": "stream",
     "text": [
      "\r",
      " 70%|██████████████████████████████████████████████████████████████████████████▉                                | 266/380 [00:06<00:02, 43.09it/s]"
     ]
    },
    {
     "name": "stderr",
     "output_type": "stream",
     "text": [
      "\r",
      " 71%|████████████████████████████████████████████████████████████████████████████▎                              | 271/380 [00:06<00:02, 43.15it/s]"
     ]
    },
    {
     "name": "stderr",
     "output_type": "stream",
     "text": [
      "\r",
      " 73%|█████████████████████████████████████████████████████████████████████████████▋                             | 276/380 [00:06<00:02, 43.20it/s]"
     ]
    },
    {
     "name": "stderr",
     "output_type": "stream",
     "text": [
      "\r",
      " 74%|███████████████████████████████████████████████████████████████████████████████                            | 281/380 [00:06<00:02, 43.24it/s]"
     ]
    },
    {
     "name": "stderr",
     "output_type": "stream",
     "text": [
      "\r",
      " 75%|████████████████████████████████████████████████████████████████████████████████▌                          | 286/380 [00:06<00:02, 43.32it/s]"
     ]
    },
    {
     "name": "stderr",
     "output_type": "stream",
     "text": [
      "\r",
      " 77%|█████████████████████████████████████████████████████████████████████████████████▉                         | 291/380 [00:07<00:02, 43.35it/s]"
     ]
    },
    {
     "name": "stderr",
     "output_type": "stream",
     "text": [
      "\r",
      " 78%|███████████████████████████████████████████████████████████████████████████████████▎                       | 296/380 [00:07<00:01, 43.37it/s]"
     ]
    },
    {
     "name": "stderr",
     "output_type": "stream",
     "text": [
      "\r",
      " 79%|████████████████████████████████████████████████████████████████████████████████████▊                      | 301/380 [00:07<00:01, 43.39it/s]"
     ]
    },
    {
     "name": "stderr",
     "output_type": "stream",
     "text": [
      "\r",
      " 81%|██████████████████████████████████████████████████████████████████████████████████████▏                    | 306/380 [00:07<00:01, 43.37it/s]"
     ]
    },
    {
     "name": "stderr",
     "output_type": "stream",
     "text": [
      "\r",
      " 82%|███████████████████████████████████████████████████████████████████████████████████████▌                   | 311/380 [00:07<00:01, 43.39it/s]"
     ]
    },
    {
     "name": "stderr",
     "output_type": "stream",
     "text": [
      "\r",
      " 83%|████████████████████████████████████████████████████████████████████████████████████████▉                  | 316/380 [00:07<00:01, 43.40it/s]"
     ]
    },
    {
     "name": "stderr",
     "output_type": "stream",
     "text": [
      "\r",
      " 84%|██████████████████████████████████████████████████████████████████████████████████████████▍                | 321/380 [00:07<00:01, 43.39it/s]"
     ]
    },
    {
     "name": "stderr",
     "output_type": "stream",
     "text": [
      "\r",
      " 86%|███████████████████████████████████████████████████████████████████████████████████████████▊               | 326/380 [00:07<00:01, 43.41it/s]"
     ]
    },
    {
     "name": "stderr",
     "output_type": "stream",
     "text": [
      "\r",
      " 87%|█████████████████████████████████████████████████████████████████████████████████████████████▏             | 331/380 [00:08<00:01, 43.41it/s]"
     ]
    },
    {
     "name": "stderr",
     "output_type": "stream",
     "text": [
      "\r",
      " 88%|██████████████████████████████████████████████████████████████████████████████████████████████▌            | 336/380 [00:08<00:01, 43.42it/s]"
     ]
    },
    {
     "name": "stderr",
     "output_type": "stream",
     "text": [
      "\r",
      " 90%|████████████████████████████████████████████████████████████████████████████████████████████████           | 341/380 [00:08<00:00, 43.41it/s]"
     ]
    },
    {
     "name": "stderr",
     "output_type": "stream",
     "text": [
      "\r",
      " 91%|█████████████████████████████████████████████████████████████████████████████████████████████████▍         | 346/380 [00:08<00:00, 43.42it/s]"
     ]
    },
    {
     "name": "stderr",
     "output_type": "stream",
     "text": [
      "\r",
      " 92%|██████████████████████████████████████████████████████████████████████████████████████████████████▊        | 351/380 [00:08<00:00, 43.42it/s]"
     ]
    },
    {
     "name": "stderr",
     "output_type": "stream",
     "text": [
      "\r",
      " 94%|████████████████████████████████████████████████████████████████████████████████████████████████████▏      | 356/380 [00:08<00:00, 43.42it/s]"
     ]
    },
    {
     "name": "stderr",
     "output_type": "stream",
     "text": [
      "\r",
      " 95%|█████████████████████████████████████████████████████████████████████████████████████████████████████▋     | 361/380 [00:08<00:00, 43.40it/s]"
     ]
    },
    {
     "name": "stderr",
     "output_type": "stream",
     "text": [
      "\r",
      " 96%|███████████████████████████████████████████████████████████████████████████████████████████████████████    | 366/380 [00:08<00:00, 43.41it/s]"
     ]
    },
    {
     "name": "stderr",
     "output_type": "stream",
     "text": [
      "\r",
      " 98%|████████████████████████████████████████████████████████████████████████████████████████████████████████▍  | 371/380 [00:08<00:00, 43.41it/s]"
     ]
    },
    {
     "name": "stderr",
     "output_type": "stream",
     "text": [
      "\r",
      " 99%|█████████████████████████████████████████████████████████████████████████████████████████████████████████▊ | 376/380 [00:09<00:00, 43.32it/s]"
     ]
    },
    {
     "name": "stderr",
     "output_type": "stream",
     "text": [
      "\r",
      "100%|███████████████████████████████████████████████████████████████████████████████████████████████████████████| 380/380 [00:09<00:00, 40.70it/s]"
     ]
    },
    {
     "name": "stderr",
     "output_type": "stream",
     "text": [
      "\n"
     ]
    },
    {
     "name": "stdout",
     "output_type": "stream",
     "text": [
      "val - OK\n"
     ]
    },
    {
     "name": "stderr",
     "output_type": "stream",
     "text": [
      "\r",
      "  0%|                                                                                                                     | 0/161 [00:00<?, ?it/s]"
     ]
    },
    {
     "name": "stderr",
     "output_type": "stream",
     "text": [
      "\r",
      "  1%|▋                                                                                                            | 1/161 [00:00<01:12,  2.21it/s]"
     ]
    },
    {
     "name": "stderr",
     "output_type": "stream",
     "text": [
      "\r",
      "  4%|████                                                                                                         | 6/161 [00:00<00:11, 13.17it/s]"
     ]
    },
    {
     "name": "stderr",
     "output_type": "stream",
     "text": [
      "\r",
      "  7%|███████▍                                                                                                    | 11/161 [00:00<00:06, 21.52it/s]"
     ]
    },
    {
     "name": "stderr",
     "output_type": "stream",
     "text": [
      "\r",
      " 10%|██████████▋                                                                                                 | 16/161 [00:00<00:05, 27.75it/s]"
     ]
    },
    {
     "name": "stderr",
     "output_type": "stream",
     "text": [
      "\r",
      " 13%|██████████████                                                                                              | 21/161 [00:00<00:04, 32.31it/s]"
     ]
    },
    {
     "name": "stderr",
     "output_type": "stream",
     "text": [
      "\r",
      " 16%|█████████████████▍                                                                                          | 26/161 [00:01<00:03, 35.61it/s]"
     ]
    },
    {
     "name": "stderr",
     "output_type": "stream",
     "text": [
      "\r",
      " 19%|████████████████████▊                                                                                       | 31/161 [00:01<00:03, 37.97it/s]"
     ]
    },
    {
     "name": "stderr",
     "output_type": "stream",
     "text": [
      "\r",
      " 22%|████████████████████████▏                                                                                   | 36/161 [00:01<00:03, 39.65it/s]"
     ]
    },
    {
     "name": "stderr",
     "output_type": "stream",
     "text": [
      "\r",
      " 25%|███████████████████████████▌                                                                                | 41/161 [00:01<00:02, 40.86it/s]"
     ]
    },
    {
     "name": "stderr",
     "output_type": "stream",
     "text": [
      "\r",
      " 29%|██████████████████████████████▊                                                                             | 46/161 [00:01<00:02, 41.73it/s]"
     ]
    },
    {
     "name": "stderr",
     "output_type": "stream",
     "text": [
      "\r",
      " 32%|██████████████████████████████████▏                                                                         | 51/161 [00:01<00:02, 42.33it/s]"
     ]
    },
    {
     "name": "stderr",
     "output_type": "stream",
     "text": [
      "\r",
      " 35%|█████████████████████████████████████▌                                                                      | 56/161 [00:01<00:02, 42.71it/s]"
     ]
    },
    {
     "name": "stderr",
     "output_type": "stream",
     "text": [
      "\r",
      " 38%|████████████████████████████████████████▉                                                                   | 61/161 [00:01<00:02, 43.02it/s]"
     ]
    },
    {
     "name": "stderr",
     "output_type": "stream",
     "text": [
      "\r",
      " 41%|████████████████████████████████████████████▎                                                               | 66/161 [00:01<00:02, 43.22it/s]"
     ]
    },
    {
     "name": "stderr",
     "output_type": "stream",
     "text": [
      "\r",
      " 44%|███████████████████████████████████████████████▋                                                            | 71/161 [00:02<00:02, 43.39it/s]"
     ]
    },
    {
     "name": "stderr",
     "output_type": "stream",
     "text": [
      "\r",
      " 47%|██████████████████████████████████████████████████▉                                                         | 76/161 [00:02<00:01, 43.48it/s]"
     ]
    },
    {
     "name": "stderr",
     "output_type": "stream",
     "text": [
      "\r",
      " 50%|██████████████████████████████████████████████████████▎                                                     | 81/161 [00:02<00:01, 43.56it/s]"
     ]
    },
    {
     "name": "stderr",
     "output_type": "stream",
     "text": [
      "\r",
      " 53%|█████████████████████████████████████████████████████████▋                                                  | 86/161 [00:02<00:01, 43.58it/s]"
     ]
    },
    {
     "name": "stderr",
     "output_type": "stream",
     "text": [
      "\r",
      " 57%|█████████████████████████████████████████████████████████████                                               | 91/161 [00:02<00:01, 43.62it/s]"
     ]
    },
    {
     "name": "stderr",
     "output_type": "stream",
     "text": [
      "\r",
      " 60%|████████████████████████████████████████████████████████████████▍                                           | 96/161 [00:02<00:01, 43.66it/s]"
     ]
    },
    {
     "name": "stderr",
     "output_type": "stream",
     "text": [
      "\r",
      " 63%|███████████████████████████████████████████████████████████████████                                        | 101/161 [00:02<00:01, 43.68it/s]"
     ]
    },
    {
     "name": "stderr",
     "output_type": "stream",
     "text": [
      "\r",
      " 66%|██████████████████████████████████████████████████████████████████████▍                                    | 106/161 [00:02<00:01, 43.69it/s]"
     ]
    },
    {
     "name": "stderr",
     "output_type": "stream",
     "text": [
      "\r",
      " 69%|█████████████████████████████████████████████████████████████████████████▊                                 | 111/161 [00:02<00:01, 43.71it/s]"
     ]
    },
    {
     "name": "stderr",
     "output_type": "stream",
     "text": [
      "\r",
      " 72%|█████████████████████████████████████████████████████████████████████████████                              | 116/161 [00:03<00:01, 43.72it/s]"
     ]
    },
    {
     "name": "stderr",
     "output_type": "stream",
     "text": [
      "\r",
      " 75%|████████████████████████████████████████████████████████████████████████████████▍                          | 121/161 [00:03<00:00, 43.69it/s]"
     ]
    },
    {
     "name": "stderr",
     "output_type": "stream",
     "text": [
      "\r",
      " 78%|███████████████████████████████████████████████████████████████████████████████████▋                       | 126/161 [00:03<00:00, 43.70it/s]"
     ]
    },
    {
     "name": "stderr",
     "output_type": "stream",
     "text": [
      "\r",
      " 81%|███████████████████████████████████████████████████████████████████████████████████████                    | 131/161 [00:03<00:00, 43.73it/s]"
     ]
    },
    {
     "name": "stderr",
     "output_type": "stream",
     "text": [
      "\r",
      " 84%|██████████████████████████████████████████████████████████████████████████████████████████▍                | 136/161 [00:03<00:00, 43.71it/s]"
     ]
    },
    {
     "name": "stderr",
     "output_type": "stream",
     "text": [
      "\r",
      " 88%|█████████████████████████████████████████████████████████████████████████████████████████████▋             | 141/161 [00:03<00:00, 43.70it/s]"
     ]
    },
    {
     "name": "stderr",
     "output_type": "stream",
     "text": [
      "\r",
      " 91%|█████████████████████████████████████████████████████████████████████████████████████████████████          | 146/161 [00:03<00:00, 43.71it/s]"
     ]
    },
    {
     "name": "stderr",
     "output_type": "stream",
     "text": [
      "\r",
      " 94%|████████████████████████████████████████████████████████████████████████████████████████████████████▎      | 151/161 [00:03<00:00, 43.71it/s]"
     ]
    },
    {
     "name": "stderr",
     "output_type": "stream",
     "text": [
      "\r",
      " 97%|███████████████████████████████████████████████████████████████████████████████████████████████████████▋   | 156/161 [00:04<00:00, 43.60it/s]"
     ]
    },
    {
     "name": "stderr",
     "output_type": "stream",
     "text": [
      "\r",
      "100%|███████████████████████████████████████████████████████████████████████████████████████████████████████████| 161/161 [00:04<00:00, 40.93it/s]"
     ]
    },
    {
     "name": "stderr",
     "output_type": "stream",
     "text": [
      "\r",
      "100%|███████████████████████████████████████████████████████████████████████████████████████████████████████████| 161/161 [00:04<00:00, 37.26it/s]"
     ]
    },
    {
     "name": "stdout",
     "output_type": "stream",
     "text": [
      "test InD - OK\n"
     ]
    },
    {
     "name": "stderr",
     "output_type": "stream",
     "text": [
      "\n"
     ]
    }
   ],
   "source": [
    "# forward pass\n",
    "with torch.no_grad():\n",
    "    trn_inp = []\n",
    "    trn_rcn = []\n",
    "    trn_emb = []\n",
    "    trn_tgt = []\n",
    "\n",
    "    val_inp = []\n",
    "    val_rcn = []\n",
    "    val_emb = []\n",
    "    val_tgt = []\n",
    "\n",
    "    ind_inp = []\n",
    "    ind_rcn = []\n",
    "    ind_emb = []\n",
    "    ind_tgt = []\n",
    "\n",
    "    if ood_str:\n",
    "        ood_inp = []\n",
    "        ood_rcn = []\n",
    "        ood_emb = []\n",
    "        ood_tgt = []\n",
    "\n",
    "    # train set (ind)\n",
    "    for batch_idx, batch in enumerate(tqdm(train_loader)):\n",
    "        x, y, *_ = batch\n",
    "        x = x.float().cuda()\n",
    "        emb, lgt, rcn = model(x)\n",
    "        trn_inp.extend(x.detach().cpu().numpy())\n",
    "        trn_rcn.extend(rcn.detach().cpu().numpy())\n",
    "        trn_emb.extend(emb.detach().cpu().numpy())\n",
    "        trn_tgt.extend(y.detach().cpu().numpy())\n",
    "    print(\"train - OK\")\n",
    "\n",
    "    # val set (ind)\n",
    "    for batch_idx, batch in enumerate(tqdm(val_loader)):\n",
    "        x, y, *_ = batch\n",
    "        x = x.float().cuda()\n",
    "        emb, lgt, rcn = model(x)\n",
    "        val_inp.extend(x.detach().cpu().numpy())\n",
    "        val_rcn.extend(rcn.detach().cpu().numpy())\n",
    "        val_emb.extend(emb.detach().cpu().numpy())\n",
    "        val_tgt.extend(y.detach().cpu().numpy())\n",
    "    print(\"val - OK\")\n",
    "\n",
    "    # test set (ind)\n",
    "    for batch_idx, batch in enumerate(tqdm(test_loader)):\n",
    "        x, y, *_ = batch\n",
    "        x = x.float().cuda()\n",
    "        emb, lgt, rcn = model(x)\n",
    "        ind_inp.extend(x.detach().cpu().numpy())\n",
    "        ind_rcn.extend(rcn.detach().cpu().numpy())\n",
    "        ind_emb.extend(emb.detach().cpu().numpy())\n",
    "        ind_tgt.extend(y.detach().cpu().numpy())\n",
    "    print(\"test InD - OK\")\n",
    "\n",
    "    # predict set (ood)\n",
    "    if ood_str:\n",
    "        for batch_idx, batch in enumerate(tqdm(predict_loader)):\n",
    "            x, y, *_ = batch\n",
    "            x = x.float().cuda()\n",
    "            emb, lgt, rcn = model(x)\n",
    "            ood_inp.extend(x.detach().cpu().numpy())\n",
    "            ood_rcn.extend(rcn.detach().cpu().numpy())\n",
    "            ood_emb.extend(emb.detach().cpu().numpy())\n",
    "            ood_tgt.extend(y.detach().cpu().numpy())\n",
    "        print(\"test OoD - OK\")"
   ]
  },
  {
   "cell_type": "code",
   "execution_count": 10,
   "id": "0ce2f20c-a3f7-4df4-9198-0ab9778db13c",
   "metadata": {
    "execution": {
     "iopub.execute_input": "2024-03-15T17:36:43.801815Z",
     "iopub.status.busy": "2024-03-15T17:36:43.801609Z",
     "iopub.status.idle": "2024-03-15T17:47:22.937470Z",
     "shell.execute_reply": "2024-03-15T17:47:22.936955Z"
    },
    "papermill": {
     "duration": 639.209279,
     "end_time": "2024-03-15T17:47:22.973616",
     "exception": false,
     "start_time": "2024-03-15T17:36:43.764337",
     "status": "completed"
    },
    "tags": []
   },
   "outputs": [
    {
     "name": "stdout",
     "output_type": "stream",
     "text": [
      "(375443, 1, 64, 64) (375443, 1, 64, 64) (375443, 512) (375443,)\n",
      "(48562, 1, 64, 64) (48562, 1, 64, 64) (48562, 512) (48562,)\n",
      "(20496, 1, 64, 64) (20496, 1, 64, 64) (20496, 512) (20496,)\n"
     ]
    }
   ],
   "source": [
    "# create numpy arrays\n",
    "trn_inp = np.array(trn_inp)\n",
    "trn_rcn = np.array(trn_rcn)\n",
    "trn_emb = np.array(trn_emb).squeeze()\n",
    "trn_tgt = np.array(trn_tgt)\n",
    "np.savez_compressed(f\"{save_name}_trn.npz\", inp=trn_inp, rcn=trn_rcn, emb=trn_emb, tgt=trn_tgt)\n",
    "\n",
    "val_inp = np.array(val_inp)\n",
    "val_rcn = np.array(val_rcn)\n",
    "val_emb = np.array(val_emb).squeeze()\n",
    "val_tgt = np.array(val_tgt)\n",
    "np.savez_compressed(f\"{save_name}_val.npz\", inp=val_inp, rcn=val_rcn, emb=val_emb, tgt=val_tgt)\n",
    "\n",
    "ind_inp = np.array(ind_inp)\n",
    "ind_rcn = np.array(ind_rcn)\n",
    "ind_emb = np.array(ind_emb).squeeze()\n",
    "ind_tgt = np.array(ind_tgt)\n",
    "np.savez_compressed(f\"{save_name}_ind.npz\", inp=ind_inp, rcn=ind_rcn, emb=ind_emb, tgt=ind_tgt)\n",
    "\n",
    "if ood_str:\n",
    "    ood_inp = np.array(ood_inp)\n",
    "    ood_rcn = np.array(ood_rcn)\n",
    "    ood_emb = np.array(ood_emb).squeeze()\n",
    "    ood_tgt = np.array(ood_tgt)\n",
    "    np.savez_compressed(f\"{save_name}_ood.npz\", inp=ood_inp, rcn=ood_rcn, emb=ood_emb, tgt=ood_tgt)\n",
    "\n",
    "ind_labels = [config.labels[i] for i in ind_tgt]\n",
    "if ood_str:\n",
    "    ood_labels = [config.labels[i] for i in ood_tgt]\n",
    "\n",
    "print(trn_inp.shape, trn_rcn.shape, trn_emb.shape, trn_tgt.shape)\n",
    "print(val_inp.shape, val_rcn.shape, val_emb.shape, val_tgt.shape)\n",
    "print(ind_inp.shape, ind_rcn.shape, ind_emb.shape, ind_tgt.shape)\n",
    "if ood_str:\n",
    "    print(ood_inp.shape, ood_rcn.shape, ood_emb.shape, ood_tgt.shape)"
   ]
  },
  {
   "cell_type": "code",
   "execution_count": 11,
   "id": "53741152-de1f-41a0-9173-2ac4f6c212d8",
   "metadata": {
    "execution": {
     "iopub.execute_input": "2024-03-15T17:47:23.046717Z",
     "iopub.status.busy": "2024-03-15T17:47:23.046488Z",
     "iopub.status.idle": "2024-03-15T17:47:50.490917Z",
     "shell.execute_reply": "2024-03-15T17:47:50.490396Z"
    },
    "papermill": {
     "duration": 27.482009,
     "end_time": "2024-03-15T17:47:50.491757",
     "exception": false,
     "start_time": "2024-03-15T17:47:23.009748",
     "status": "completed"
    },
    "tags": []
   },
   "outputs": [
    {
     "name": "stderr",
     "output_type": "stream",
     "text": [
      "/n/home12/yasith/.conda/envs/robustml/lib/python3.11/site-packages/umap/umap_.py:1943: UserWarning: n_jobs value -1 overridden to 1 by setting random_state. Use no seed for parallelism.\n",
      "  warn(f\"n_jobs value {self.n_jobs} overridden to 1 by setting random_state. Use no seed for parallelism.\")\n"
     ]
    },
    {
     "name": "stdout",
     "output_type": "stream",
     "text": [
      "(20496, 2) (0, 2)\n"
     ]
    }
   ],
   "source": [
    "# create 2d embeddings\n",
    "n = ind_emb.shape[0]\n",
    "all_emb = ind_emb\n",
    "if ood_str:\n",
    "    all_emb = np.concatenate([all_emb, ood_emb], axis=0)\n",
    "\n",
    "umap = UMAP(n_components=2, random_state=42)\n",
    "all_emb2d = umap.fit_transform(all_emb)\n",
    "ind_emb2d = np.array(all_emb2d[:n], order='C').astype(np.float32)\n",
    "ood_emb2d = np.array(all_emb2d[n:], order='C').astype(np.float32)\n",
    "print(ind_emb2d.shape, ood_emb2d.shape)"
   ]
  },
  {
   "cell_type": "code",
   "execution_count": 12,
   "id": "3902e49f-9536-4f42-a307-b3ce66c89181",
   "metadata": {
    "execution": {
     "iopub.execute_input": "2024-03-15T17:47:50.590776Z",
     "iopub.status.busy": "2024-03-15T17:47:50.590512Z",
     "iopub.status.idle": "2024-03-15T17:47:51.228419Z",
     "shell.execute_reply": "2024-03-15T17:47:51.228078Z"
    },
    "papermill": {
     "duration": 0.676895,
     "end_time": "2024-03-15T17:47:51.230511",
     "exception": false,
     "start_time": "2024-03-15T17:47:50.553616",
     "status": "completed"
    },
    "tags": []
   },
   "outputs": [
    {
     "data": {
      "image/png": "[encoded data removed]",
      "text/plain": [
       "<Figure size 2000x1000 with 2 Axes>"
      ]
     },
     "metadata": {},
     "output_type": "display_data"
    }
   ],
   "source": [
    "# plot feature space\n",
    "df_emb2d = pd.DataFrame()\n",
    "d1, d2 = ind_emb2d.T\n",
    "df_emb2d = pd.concat([df_emb2d, pd.DataFrame(dict(d1=d1, d2=d2, label=ind_labels, source=\"ind\"))])\n",
    "\n",
    "if ood_str:\n",
    "    d1, d2 = ood_emb2d.T\n",
    "    df_emb2d = pd.concat([df_emb2d, pd.DataFrame(dict(d1=d1, d2=d2, label=ood_labels, source=\"ood\"))])\n",
    "\n",
    "fig, [ax1, ax2] = plt.subplots(1, 2, figsize=(20, 10))\n",
    "fig.suptitle(f\"Feature Space - {dataset_name} - {model_name} - {ood_str}\")\n",
    "sns.scatterplot(data=df_emb2d[(df_emb2d['source'] == \"ind\")], x=\"d1\", y=\"d2\", hue=\"label\", s=5, ax=ax1)\n",
    "ax1.set_title(\"InD Data\")\n",
    "sns.scatterplot(data=df_emb2d[(df_emb2d['source'] == \"ood\")], x=\"d1\", y=\"d2\", hue=\"label\", s=5, ax=ax2)\n",
    "ax2.set_title(\"OoD Data\")\n",
    "plt.show()"
   ]
  },
  {
   "cell_type": "code",
   "execution_count": 13,
   "id": "4f147cfe-6a83-444d-84b2-78228262f666",
   "metadata": {
    "execution": {
     "iopub.execute_input": "2024-03-15T17:47:51.327406Z",
     "iopub.status.busy": "2024-03-15T17:47:51.327072Z",
     "iopub.status.idle": "2024-03-15T17:53:50.525487Z",
     "shell.execute_reply": "2024-03-15T17:53:50.525060Z"
    },
    "papermill": {
     "duration": 359.305646,
     "end_time": "2024-03-15T17:53:50.585055",
     "exception": false,
     "start_time": "2024-03-15T17:47:51.279409",
     "status": "completed"
    },
    "tags": []
   },
   "outputs": [
    {
     "data": {
      "image/png": "[encoded data removed]",
      "text/plain": [
       "<Figure size 1000x500 with 2 Axes>"
      ]
     },
     "metadata": {},
     "output_type": "display_data"
    }
   ],
   "source": [
    "# plot knn distance from ind/ood to val data\n",
    "def plot_knn_dists(index_fn, ax, trn_data, val_data, ind_data, ood_data=None, k=5, scale=\"linspace\"):\n",
    "    stats = {}\n",
    "    index = index_fn(trn_data.shape[-1])\n",
    "    index.add(trn_data)\n",
    "    Dv = index.search(val_data, k)[0].mean(-1)\n",
    "    Di = index.search(ind_data, k)[0].mean(-1)\n",
    "    D = [Di]\n",
    "    T = [[0] * Di.shape[0]]\n",
    "    if ood_str:\n",
    "        Do = index.search(ood_data, k)[0].mean(-1)\n",
    "        D.append(Do)\n",
    "        T.append([1] * Do.shape[0]) \n",
    "    D = np.concatenate(D, axis=0)\n",
    "    T = np.concatenate(T, axis=0)\n",
    "    if scale == \"linspace\":\n",
    "        s, e = D.min(), D.max()\n",
    "        bins = np.linspace(s, e, 100)\n",
    "    if scale == \"logspace\":\n",
    "        s, e = np.log10(D.min() + 1e-7), np.log10(D.max())\n",
    "        bins = np.logspace(s, e, 100)\n",
    "    sns.histplot(Di, fill=True, label='ind', stat='probability', ax=ax, bins=bins)\n",
    "    prefix = \"\"\n",
    "    if ood_str:\n",
    "        Ci = np.histogram(Di, bins, density=True)[0]\n",
    "        Co = np.histogram(Do, bins, density=True)[0]\n",
    "        kld = entropy(Co + 1e-7, Ci + 1e-7)\n",
    "        emd = wasserstein_distance(Do, Di)\n",
    "        auc = roc_auc_score(T, D)\n",
    "        auc = max(auc, 1-auc)\n",
    "        sns.histplot(Do, fill=True, label='ood', stat='probability', ax=ax, bins=bins)\n",
    "        ax.set_title(f\"KL={kld:.4f} EMD={emd:.4f}, AUC={auc:.4f}\")\n",
    "        stats.update(dict(kld=kld, emd=emd, auc=auc, val_data=Dv.tolist(), ind_data=Di.tolist(), ood_data=Do.tolist()))\n",
    "        \n",
    "    if scale == \"logspace\":\n",
    "        ax.set_xscale('log')\n",
    "    ax.legend()\n",
    "    return stats\n",
    "\n",
    "fig, axs = plt.subplots(nrows=1, ncols=2, figsize=(10, 5))\n",
    "fig.suptitle(f\"KNN Distance (K=5) - {dataset_name} - {model_name} - {ood_str}\")\n",
    "run_stats[\"knn_f_l2\"] = plot_knn_dists(faiss.IndexFlatL2, axs[0], trn_emb, val_emb, ind_emb, ood_emb if ood_str else None, scale=\"logspace\")\n",
    "axs[0].set_xlabel(\"Feature Space - L2\")\n",
    "run_stats[\"knn_f_ip\"] = plot_knn_dists(faiss.IndexFlatIP, axs[1], trn_emb, val_emb, ind_emb, ood_emb if ood_str else None, scale=\"linspace\")\n",
    "axs[1].set_xlabel(\"Feature Space - IP\")\n",
    "plt.tight_layout()\n",
    "plt.show()"
   ]
  },
  {
   "cell_type": "code",
   "execution_count": 14,
   "id": "cf02d295-02a6-44fc-89aa-cc5a011d4fd3",
   "metadata": {
    "execution": {
     "iopub.execute_input": "2024-03-15T17:53:50.682335Z",
     "iopub.status.busy": "2024-03-15T17:53:50.682132Z",
     "iopub.status.idle": "2024-03-15T17:53:54.321410Z",
     "shell.execute_reply": "2024-03-15T17:53:54.321064Z"
    },
    "papermill": {
     "duration": 3.688924,
     "end_time": "2024-03-15T17:53:54.322186",
     "exception": false,
     "start_time": "2024-03-15T17:53:50.633262",
     "status": "completed"
    },
    "tags": []
   },
   "outputs": [
    {
     "data": {
      "image/png": "[encoded data removed]",
      "text/plain": [
       "<Figure size 1000x500 with 2 Axes>"
      ]
     },
     "metadata": {},
     "output_type": "display_data"
    }
   ],
   "source": [
    "# plot reconstruction error of ind and ood data\n",
    "def plot_rcn(val_rcn, ind_rcn, ood_rcn, ax, scale=\"linspace\"):\n",
    "    stats = {}\n",
    "    D = ind_rcn\n",
    "    if ood_str:\n",
    "        D = np.concatenate([ind_rcn, ood_rcn], axis=0)\n",
    "    if scale == \"linspace\":\n",
    "        s, e = D.min(), D.max()\n",
    "        bins = np.linspace(s, e, 100)\n",
    "    if scale == \"logspace\":\n",
    "        s, e = np.log10(D.min() + 1e-7), np.log10(D.max())\n",
    "        bins = np.logspace(s, e, 100)\n",
    "    sns.histplot(ind_rcn, label=\"ind\", stat=\"probability\", bins=bins, ax=ax)\n",
    "    if ood_str:\n",
    "        sns.histplot(ood_rcn, label=\"ood\", stat=\"probability\", bins=bins, ax=ax)\n",
    "        T = np.concatenate([[0]*ind_rcn.shape[0],[1]*ood_rcn.shape[0]], axis=0)\n",
    "        Ci = np.histogram(ind_rcn, bins, density=True)[0]\n",
    "        Co = np.histogram(ood_rcn, bins, density=True)[0]\n",
    "        kld = entropy(Co + 1e-7, Ci + 1e-7)\n",
    "        emd = wasserstein_distance(ood_rcn, ind_rcn)\n",
    "        auc = roc_auc_score(T, D)\n",
    "        auc = max(auc, 1-auc)\n",
    "        ax.set_title(f\"KL={kld:.4f}, EMD={emd:.4f}, AUC={auc:.4f}\")\n",
    "        stats.update(dict(kld=kld, emd=emd, auc=auc, val_data=val_rcn.tolist(), ind_data=ind_rcn.tolist(), ood_data=ood_rcn.tolist()))\n",
    "    if scale == \"logspace\":\n",
    "        ax.set_xscale(\"log\")\n",
    "    ax.legend()\n",
    "    return stats\n",
    "\n",
    "flatten = lambda x: x.reshape((x.shape[0], -1))\n",
    "unit = lambda x: x / (np.linalg.norm(x, axis=-1, keepdims=True) + 1e-7)\n",
    "\n",
    "# training data\n",
    "_val_inp, _val_rcn = flatten(val_inp), flatten(val_rcn)\n",
    "_val_inp_unit, _val_rcn_unit = unit(_val_inp), unit(_val_rcn)\n",
    "# metrics\n",
    "val_rcn_l2 = ((_val_inp - _val_rcn) ** 2).mean(-1)\n",
    "val_rcn_ip = (_val_inp_unit * _val_rcn_unit).sum(-1)\n",
    "\n",
    "# ind test data\n",
    "_ind_inp, _ind_rcn = flatten(ind_inp), flatten(ind_rcn)\n",
    "_ind_inp_unit, _ind_rcn_unit = unit(_ind_inp), unit(_ind_rcn)\n",
    "# metrics\n",
    "ind_rcn_l2 = ((_ind_inp - _ind_rcn) ** 2).mean(-1)\n",
    "ind_rcn_ip = (_ind_inp_unit * _ind_rcn_unit).sum(-1)\n",
    "\n",
    "if ood_str:\n",
    "    # ood test data\n",
    "    _ood_inp, _ood_rcn = flatten(ood_inp), flatten(ood_rcn)\n",
    "    _ood_inp_unit, _ood_rcn_unit = unit(_ood_inp), unit(_ood_rcn)\n",
    "    # metrics\n",
    "    ood_rcn_l2 = ((_ood_inp - _ood_rcn) ** 2).mean(-1)\n",
    "    ood_rcn_ip = (_ood_inp_unit * _ood_rcn_unit).sum(-1)\n",
    "\n",
    "fig, (ax1, ax2) = plt.subplots(nrows=1, ncols=2, figsize=(10, 5))\n",
    "run_stats[\"rcn_l2\"] = plot_rcn(val_rcn_l2, ind_rcn_l2, ood_rcn_l2 if ood_str else None, ax1, scale=\"logspace\")\n",
    "ax1.set_xlabel(\"L2\")\n",
    "run_stats[\"rcn_ip\"] = plot_rcn(val_rcn_ip, ind_rcn_ip, ood_rcn_ip if ood_str else None, ax2, scale=\"linspace\")\n",
    "ax2.set_xlabel(\"IP\")\n",
    "plt.suptitle(f\"Reconstruction L2 and IP (InD vs OoD) - {dataset_name} - {model_name} - {ood_str}\")\n",
    "plt.tight_layout()\n",
    "plt.show()"
   ]
  },
  {
   "cell_type": "code",
   "execution_count": 15,
   "id": "cc65dfba-a112-407d-9edb-29b3043af5b6",
   "metadata": {
    "execution": {
     "iopub.execute_input": "2024-03-15T17:53:54.431995Z",
     "iopub.status.busy": "2024-03-15T17:53:54.431730Z",
     "iopub.status.idle": "2024-03-15T17:54:09.044569Z",
     "shell.execute_reply": "2024-03-15T17:54:09.044211Z"
    },
    "papermill": {
     "duration": 14.662925,
     "end_time": "2024-03-15T17:54:09.045425",
     "exception": false,
     "start_time": "2024-03-15T17:53:54.382500",
     "status": "completed"
    },
    "tags": []
   },
   "outputs": [],
   "source": [
    "run_stats.update(dict(dataset_name=dataset_name, model_name=model_name, ood=ood))\n",
    "import gzip\n",
    "import pickle\n",
    "with gzip.open(f\"{save_name}_stats.gz\", \"wb\") as f:\n",
    "    pickle.dump(run_stats, f)"
   ]
  },
  {
   "cell_type": "code",
   "execution_count": null,
   "id": "01a335a6-5972-4084-8e51-9b8e3a383b76",
   "metadata": {
    "papermill": {
     "duration": 0.048593,
     "end_time": "2024-03-15T17:54:09.153721",
     "exception": false,
     "start_time": "2024-03-15T17:54:09.105128",
     "status": "completed"
    },
    "tags": []
   },
   "outputs": [],
   "source": []
  }
 ],
 "metadata": {
  "kernelspec": {
   "display_name": "robustml",
   "language": "python",
   "name": "robustml"
  },
  "language_info": {
   "codemirror_mode": {
    "name": "ipython",
    "version": 3
   },
   "file_extension": ".py",
   "mimetype": "text/x-python",
   "name": "python",
   "nbconvert_exporter": "python",
   "pygments_lexer": "ipython3",
   "version": "3.11.8"
  },
  "papermill": {
   "default_parameters": {},
   "duration": 1259.601802,
   "end_time": "2024-03-15T17:54:12.073359",
   "environment_variables": {},
   "exception": null,
   "input_path": "templates/resnet_mse.ipynb",
   "output_path": "notebooks/eval_resnet_mse_qpmb.ipynb",
   "parameters": {
    "dataset_name": "QPM_species",
    "ood": ""
   },
   "start_time": "2024-03-15T17:33:12.471557",
   "version": "2.5.0"
  },
  "toc-showtags": false
 },
 "nbformat": 4,
 "nbformat_minor": 5
}