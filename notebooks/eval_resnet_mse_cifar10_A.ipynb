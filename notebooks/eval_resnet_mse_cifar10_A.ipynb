{
 "cells": [
  {
   "cell_type": "code",
   "execution_count": 1,
   "id": "1c8d4904-cfed-43f4-b71f-9cf70de63d54",
   "metadata": {
    "execution": {
     "iopub.execute_input": "2024-03-15T17:27:13.861186Z",
     "iopub.status.busy": "2024-03-15T17:27:13.860990Z",
     "iopub.status.idle": "2024-03-15T17:27:39.840953Z",
     "shell.execute_reply": "2024-03-15T17:27:39.840482Z"
    },
    "papermill": {
     "duration": 25.991765,
     "end_time": "2024-03-15T17:27:39.841988",
     "exception": false,
     "start_time": "2024-03-15T17:27:13.850223",
     "status": "completed"
    },
    "tags": []
   },
   "outputs": [],
   "source": [
    "import numpy as np\n",
    "import pandas as pd\n",
    "import torch\n",
    "from config import load_config\n",
    "from pathlib import Path\n",
    "from lightning.pytorch.loggers.wandb import WandbLogger\n",
    "from scipy.stats import wasserstein_distance, entropy\n",
    "from sklearn.metrics import roc_auc_score\n",
    "from tqdm import tqdm\n",
    "from umap import UMAP\n",
    "from matplotlib import pyplot as plt\n",
    "import seaborn as sns\n",
    "import faiss\n",
    "import os\n",
    "\n",
    "# initialize the RNG deterministically\n",
    "np.random.seed(42)\n",
    "torch.manual_seed(42)\n",
    "torch.set_float32_matmul_precision('medium')\n",
    "run_stats = {}"
   ]
  },
  {
   "cell_type": "code",
   "execution_count": 2,
   "id": "207f4f7a-1449-46b6-8215-c4aaf026379d",
   "metadata": {
    "execution": {
     "iopub.execute_input": "2024-03-15T17:27:39.863212Z",
     "iopub.status.busy": "2024-03-15T17:27:39.862940Z",
     "iopub.status.idle": "2024-03-15T17:27:39.865303Z",
     "shell.execute_reply": "2024-03-15T17:27:39.864991Z"
    },
    "papermill": {
     "duration": 0.014006,
     "end_time": "2024-03-15T17:27:39.866014",
     "exception": false,
     "start_time": "2024-03-15T17:27:39.852008",
     "status": "completed"
    },
    "tags": [
     "parameters"
    ]
   },
   "outputs": [],
   "source": [
    "# parameters\n",
    "dataset_name = \"\"\n",
    "model_name = \"resnet_mse\"\n",
    "ood = \"\""
   ]
  },
  {
   "cell_type": "code",
   "execution_count": 3,
   "id": "4d7164a9",
   "metadata": {
    "execution": {
     "iopub.execute_input": "2024-03-15T17:27:39.886794Z",
     "iopub.status.busy": "2024-03-15T17:27:39.886575Z",
     "iopub.status.idle": "2024-03-15T17:27:40.336711Z",
     "shell.execute_reply": "2024-03-15T17:27:40.336418Z"
    },
    "papermill": {
     "duration": 0.461347,
     "end_time": "2024-03-15T17:27:40.337436",
     "exception": false,
     "start_time": "2024-03-15T17:27:39.876089",
     "status": "completed"
    },
    "tags": [
     "injected-parameters"
    ]
   },
   "outputs": [],
   "source": [
    "# Parameters\n",
    "dataset_name = \"CIFAR10\"\n",
    "ood = \"0:1:2:3:4\"\n"
   ]
  },
  {
   "cell_type": "code",
   "execution_count": 4,
   "id": "efa4ef11-ff10-4a92-92a1-e128b161c8d4",
   "metadata": {
    "execution": {
     "iopub.execute_input": "2024-03-15T17:27:40.358232Z",
     "iopub.status.busy": "2024-03-15T17:27:40.358012Z",
     "iopub.status.idle": "2024-03-15T17:27:47.842247Z",
     "shell.execute_reply": "2024-03-15T17:27:47.841761Z"
    },
    "papermill": {
     "duration": 7.495396,
     "end_time": "2024-03-15T17:27:47.843031",
     "exception": false,
     "start_time": "2024-03-15T17:27:40.347635",
     "status": "completed"
    },
    "tags": []
   },
   "outputs": [
    {
     "name": "stdout",
     "output_type": "stream",
     "text": [
      "Files already downloaded and verified\n"
     ]
    },
    {
     "name": "stderr",
     "output_type": "stream",
     "text": [
      "\r",
      "  0%|                                                                                                                   | 0/50000 [00:00<?, ?it/s]"
     ]
    },
    {
     "name": "stderr",
     "output_type": "stream",
     "text": [
      "\r",
      " 10%|█████████▌                                                                                           | 4763/50000 [00:00<00:00, 47625.73it/s]"
     ]
    },
    {
     "name": "stderr",
     "output_type": "stream",
     "text": [
      "\r",
      " 19%|███████████████████▏                                                                                 | 9526/50000 [00:00<00:00, 47620.79it/s]"
     ]
    },
    {
     "name": "stderr",
     "output_type": "stream",
     "text": [
      "\r",
      " 29%|████████████████████████████▋                                                                       | 14328/50000 [00:00<00:00, 47800.11it/s]"
     ]
    },
    {
     "name": "stderr",
     "output_type": "stream",
     "text": [
      "\r",
      " 38%|██████████████████████████████████████▏                                                             | 19111/50000 [00:00<00:00, 47808.33it/s]"
     ]
    },
    {
     "name": "stderr",
     "output_type": "stream",
     "text": [
      "\r",
      " 48%|███████████████████████████████████████████████▊                                                    | 23908/50000 [00:00<00:00, 47864.87it/s]"
     ]
    },
    {
     "name": "stderr",
     "output_type": "stream",
     "text": [
      "\r",
      " 57%|█████████████████████████████████████████████████████████▍                                          | 28705/50000 [00:00<00:00, 47898.84it/s]"
     ]
    },
    {
     "name": "stderr",
     "output_type": "stream",
     "text": [
      "\r",
      " 67%|██████████████████████████████████████████████████████████████████▉                                 | 33495/50000 [00:00<00:00, 47893.45it/s]"
     ]
    },
    {
     "name": "stderr",
     "output_type": "stream",
     "text": [
      "\r",
      " 77%|████████████████████████████████████████████████████████████████████████████▌                       | 38295/50000 [00:00<00:00, 47924.36it/s]"
     ]
    },
    {
     "name": "stderr",
     "output_type": "stream",
     "text": [
      "\r",
      " 86%|██████████████████████████████████████████████████████████████████████████████████████▏             | 43089/50000 [00:00<00:00, 47928.98it/s]"
     ]
    },
    {
     "name": "stderr",
     "output_type": "stream",
     "text": [
      "\r",
      " 96%|███████████████████████████████████████████████████████████████████████████████████████████████▊    | 47882/50000 [00:01<00:00, 47913.86it/s]"
     ]
    },
    {
     "name": "stderr",
     "output_type": "stream",
     "text": [
      "\r",
      "100%|████████████████████████████████████████████████████████████████████████████████████████████████████| 50000/50000 [00:01<00:00, 47861.69it/s]"
     ]
    },
    {
     "name": "stderr",
     "output_type": "stream",
     "text": [
      "\n"
     ]
    },
    {
     "name": "stdout",
     "output_type": "stream",
     "text": [
      "Files already downloaded and verified\n"
     ]
    },
    {
     "name": "stderr",
     "output_type": "stream",
     "text": [
      "\r",
      "  0%|                                                                                                                   | 0/10000 [00:00<?, ?it/s]"
     ]
    },
    {
     "name": "stderr",
     "output_type": "stream",
     "text": [
      "\r",
      " 47%|███████████████████████████████████████████████▎                                                     | 4687/10000 [00:00<00:00, 46862.00it/s]"
     ]
    },
    {
     "name": "stderr",
     "output_type": "stream",
     "text": [
      "\r",
      " 94%|██████████████████████████████████████████████████████████████████████████████████████████████▉      | 9401/10000 [00:00<00:00, 47022.84it/s]"
     ]
    },
    {
     "name": "stderr",
     "output_type": "stream",
     "text": [
      "\r",
      "100%|████████████████████████████████████████████████████████████████████████████████████████████████████| 10000/10000 [00:00<00:00, 46932.01it/s]"
     ]
    },
    {
     "name": "stderr",
     "output_type": "stream",
     "text": [
      "\n"
     ]
    }
   ],
   "source": [
    "# initialize data attributes and loaders\n",
    "save_name = f\"assets/results/{dataset_name}/{model_name}/{ood}\"\n",
    "os.makedirs(os.path.dirname(save_name + \"_blank.file\"), exist_ok=True)\n",
    "config = load_config(\n",
    "    dataset_name = dataset_name,\n",
    "    model_name = model_name,\n",
    "    ood = ood,\n",
    ")\n",
    "config.load_data(shuffle_training_data=False)\n",
    "config.print_labels()\n",
    "dm = config.datamodule\n",
    "\n",
    "assert dm"
   ]
  },
  {
   "cell_type": "code",
   "execution_count": 5,
   "id": "2d13a424-6039-4fe1-a433-f242744d5819",
   "metadata": {
    "execution": {
     "iopub.execute_input": "2024-03-15T17:27:47.867296Z",
     "iopub.status.busy": "2024-03-15T17:27:47.866798Z",
     "iopub.status.idle": "2024-03-15T17:27:49.439206Z",
     "shell.execute_reply": "2024-03-15T17:27:49.438831Z"
    },
    "papermill": {
     "duration": 1.585342,
     "end_time": "2024-03-15T17:27:49.440056",
     "exception": false,
     "start_time": "2024-03-15T17:27:47.854714",
     "status": "completed"
    },
    "tags": []
   },
   "outputs": [],
   "source": [
    "# initialize data modules\n",
    "dm.setup(\"fit\")\n",
    "dm.setup(\"test\")\n",
    "dm.setup(\"predict\")"
   ]
  },
  {
   "cell_type": "code",
   "execution_count": 6,
   "id": "3b0a4c59-0686-4d7e-880e-8aa1f86b24b3",
   "metadata": {
    "execution": {
     "iopub.execute_input": "2024-03-15T17:27:49.462774Z",
     "iopub.status.busy": "2024-03-15T17:27:49.462471Z",
     "iopub.status.idle": "2024-03-15T17:27:49.471864Z",
     "shell.execute_reply": "2024-03-15T17:27:49.471524Z"
    },
    "papermill": {
     "duration": 0.02145,
     "end_time": "2024-03-15T17:27:49.472602",
     "exception": false,
     "start_time": "2024-03-15T17:27:49.451152",
     "status": "completed"
    },
    "tags": []
   },
   "outputs": [
    {
     "name": "stdout",
     "output_type": "stream",
     "text": [
      "0:1:2:3:4 nroa2ncb\n"
     ]
    }
   ],
   "source": [
    "# model ids\n",
    "ood_str = \":\".join(map(str, config.ood))\n",
    "df = pd.read_csv(\"ids.csv\").fillna(\"\")\n",
    "model_id = df[(df.dataset_name == dataset_name) & (df.model_name == model_name) & (df.ood == ood)].id.item()\n",
    "print(ood_str, model_id)"
   ]
  },
  {
   "cell_type": "code",
   "execution_count": 7,
   "id": "4b53630b-269f-48f1-8cfa-8bc03bd5c7a8",
   "metadata": {
    "execution": {
     "iopub.execute_input": "2024-03-15T17:27:49.495723Z",
     "iopub.status.busy": "2024-03-15T17:27:49.495512Z",
     "iopub.status.idle": "2024-03-15T17:27:57.360376Z",
     "shell.execute_reply": "2024-03-15T17:27:57.360001Z"
    },
    "papermill": {
     "duration": 7.876938,
     "end_time": "2024-03-15T17:27:57.361245",
     "exception": false,
     "start_time": "2024-03-15T17:27:49.484307",
     "status": "completed"
    },
    "tags": []
   },
   "outputs": [
    {
     "name": "stderr",
     "output_type": "stream",
     "text": [
      "\u001b[34m\u001b[1mwandb\u001b[0m: Downloading large artifact model-nroa2ncb:best, 58.51MB. 1 files... \n"
     ]
    },
    {
     "name": "stderr",
     "output_type": "stream",
     "text": [
      "\u001b[34m\u001b[1mwandb\u001b[0m:   1 of 1 files downloaded.  \n"
     ]
    },
    {
     "name": "stderr",
     "output_type": "stream",
     "text": [
      "Done. 0:0:4.5\n"
     ]
    }
   ],
   "source": [
    "# load model and weights\n",
    "model = config.get_model()\n",
    "artifact_dir = WandbLogger.download_artifact(artifact=f\"yasith/robustml/model-{model_id}:best\")\n",
    "model = model.__class__.load_from_checkpoint(Path(artifact_dir) / \"model.ckpt\", config=config)\n",
    "model = model.cuda()\n",
    "model.eval();"
   ]
  },
  {
   "cell_type": "code",
   "execution_count": 8,
   "id": "70012880-6870-4eb5-9bb8-533a1e31ed04",
   "metadata": {
    "execution": {
     "iopub.execute_input": "2024-03-15T17:27:57.384487Z",
     "iopub.status.busy": "2024-03-15T17:27:57.384203Z",
     "iopub.status.idle": "2024-03-15T17:27:57.386842Z",
     "shell.execute_reply": "2024-03-15T17:27:57.386527Z"
    },
    "papermill": {
     "duration": 0.014894,
     "end_time": "2024-03-15T17:27:57.387539",
     "exception": false,
     "start_time": "2024-03-15T17:27:57.372645",
     "status": "completed"
    },
    "tags": []
   },
   "outputs": [],
   "source": [
    "# create data loaders\n",
    "train_loader = dm.train_dataloader()\n",
    "val_loader = dm.val_dataloader()\n",
    "test_loader = dm.test_dataloader()\n",
    "if ood_str:\n",
    "    predict_loader = dm.predict_dataloader()"
   ]
  },
  {
   "cell_type": "code",
   "execution_count": 9,
   "id": "56027155-3d85-4347-94c9-a075ab1e2d20",
   "metadata": {
    "execution": {
     "iopub.execute_input": "2024-03-15T17:27:57.410499Z",
     "iopub.status.busy": "2024-03-15T17:27:57.410291Z",
     "iopub.status.idle": "2024-03-15T17:28:00.666087Z",
     "shell.execute_reply": "2024-03-15T17:28:00.665635Z"
    },
    "papermill": {
     "duration": 3.268233,
     "end_time": "2024-03-15T17:28:00.666851",
     "exception": false,
     "start_time": "2024-03-15T17:27:57.398618",
     "status": "completed"
    },
    "tags": []
   },
   "outputs": [
    {
     "name": "stderr",
     "output_type": "stream",
     "text": [
      "\r",
      "  0%|                                                                                                                     | 0/157 [00:00<?, ?it/s]"
     ]
    },
    {
     "name": "stderr",
     "output_type": "stream",
     "text": [
      "\r",
      "  1%|▋                                                                                                            | 1/157 [00:00<01:36,  1.62it/s]"
     ]
    },
    {
     "name": "stderr",
     "output_type": "stream",
     "text": [
      "\r",
      "  8%|████████▉                                                                                                   | 13/157 [00:00<00:06, 23.83it/s]"
     ]
    },
    {
     "name": "stderr",
     "output_type": "stream",
     "text": [
      "\r",
      " 17%|█████████████████▉                                                                                          | 26/157 [00:00<00:02, 45.66it/s]"
     ]
    },
    {
     "name": "stderr",
     "output_type": "stream",
     "text": [
      "\r",
      " 25%|██████████████████████████▊                                                                                 | 39/157 [00:00<00:01, 64.64it/s]"
     ]
    },
    {
     "name": "stderr",
     "output_type": "stream",
     "text": [
      "\r",
      " 33%|███████████████████████████████████▊                                                                        | 52/157 [00:01<00:01, 80.29it/s]"
     ]
    },
    {
     "name": "stderr",
     "output_type": "stream",
     "text": [
      "\r",
      " 41%|████████████████████████████████████████████▋                                                               | 65/157 [00:01<00:00, 92.69it/s]"
     ]
    },
    {
     "name": "stderr",
     "output_type": "stream",
     "text": [
      "\r",
      " 50%|█████████████████████████████████████████████████████▏                                                     | 78/157 [00:01<00:00, 102.31it/s]"
     ]
    },
    {
     "name": "stderr",
     "output_type": "stream",
     "text": [
      "\r",
      " 58%|██████████████████████████████████████████████████████████████                                             | 91/157 [00:01<00:00, 109.51it/s]"
     ]
    },
    {
     "name": "stderr",
     "output_type": "stream",
     "text": [
      "\r",
      " 66%|██████████████████████████████████████████████████████████████████████▏                                   | 104/157 [00:01<00:00, 114.83it/s]"
     ]
    },
    {
     "name": "stderr",
     "output_type": "stream",
     "text": [
      "\r",
      " 75%|██████████████████████████████████████████████████████████████████████████████▉                           | 117/157 [00:01<00:00, 118.67it/s]"
     ]
    },
    {
     "name": "stderr",
     "output_type": "stream",
     "text": [
      "\r",
      " 83%|███████████████████████████████████████████████████████████████████████████████████████▊                  | 130/157 [00:01<00:00, 120.62it/s]"
     ]
    },
    {
     "name": "stderr",
     "output_type": "stream",
     "text": [
      "\r",
      " 91%|████████████████████████████████████████████████████████████████████████████████████████████████▌         | 143/157 [00:01<00:00, 122.64it/s]"
     ]
    },
    {
     "name": "stderr",
     "output_type": "stream",
     "text": [
      "\r",
      " 99%|█████████████████████████████████████████████████████████████████████████████████████████████████████████▎| 156/157 [00:01<00:00, 124.43it/s]"
     ]
    },
    {
     "name": "stderr",
     "output_type": "stream",
     "text": [
      "\r",
      "100%|███████████████████████████████████████████████████████████████████████████████████████████████████████████| 157/157 [00:01<00:00, 81.85it/s]"
     ]
    },
    {
     "name": "stderr",
     "output_type": "stream",
     "text": [
      "\n"
     ]
    },
    {
     "name": "stdout",
     "output_type": "stream",
     "text": [
      "train - OK\n"
     ]
    },
    {
     "name": "stderr",
     "output_type": "stream",
     "text": [
      "\r",
      "  0%|                                                                                                                      | 0/40 [00:00<?, ?it/s]"
     ]
    },
    {
     "name": "stderr",
     "output_type": "stream",
     "text": [
      "\r",
      " 10%|███████████                                                                                                   | 4/40 [00:00<00:00, 38.25it/s]"
     ]
    },
    {
     "name": "stderr",
     "output_type": "stream",
     "text": [
      "\r",
      " 42%|██████████████████████████████████████████████▎                                                              | 17/40 [00:00<00:00, 89.38it/s]"
     ]
    },
    {
     "name": "stderr",
     "output_type": "stream",
     "text": [
      "\r",
      " 75%|█████████████████████████████████████████████████████████████████████████████████                           | 30/40 [00:00<00:00, 106.22it/s]"
     ]
    },
    {
     "name": "stderr",
     "output_type": "stream",
     "text": [
      "\r",
      "100%|█████████████████████████████████████████████████████████████████████████████████████████████████████████████| 40/40 [00:00<00:00, 88.22it/s]"
     ]
    },
    {
     "name": "stderr",
     "output_type": "stream",
     "text": [
      "\n"
     ]
    },
    {
     "name": "stdout",
     "output_type": "stream",
     "text": [
      "val - OK\n"
     ]
    },
    {
     "name": "stderr",
     "output_type": "stream",
     "text": [
      "\r",
      "  0%|                                                                                                                      | 0/40 [00:00<?, ?it/s]"
     ]
    },
    {
     "name": "stderr",
     "output_type": "stream",
     "text": [
      "\r",
      "  8%|████████▎                                                                                                     | 3/40 [00:00<00:01, 29.82it/s]"
     ]
    },
    {
     "name": "stderr",
     "output_type": "stream",
     "text": [
      "\r",
      " 40%|███████████████████████████████████████████▌                                                                 | 16/40 [00:00<00:00, 85.80it/s]"
     ]
    },
    {
     "name": "stderr",
     "output_type": "stream",
     "text": [
      "\r",
      " 72%|██████████████████████████████████████████████████████████████████████████████▎                             | 29/40 [00:00<00:00, 104.75it/s]"
     ]
    },
    {
     "name": "stderr",
     "output_type": "stream",
     "text": [
      "\r",
      "100%|█████████████████████████████████████████████████████████████████████████████████████████████████████████████| 40/40 [00:00<00:00, 95.77it/s]"
     ]
    },
    {
     "name": "stderr",
     "output_type": "stream",
     "text": [
      "\n"
     ]
    },
    {
     "name": "stdout",
     "output_type": "stream",
     "text": [
      "test InD - OK\n"
     ]
    },
    {
     "name": "stderr",
     "output_type": "stream",
     "text": [
      "\r",
      "  0%|                                                                                                                      | 0/40 [00:00<?, ?it/s]"
     ]
    },
    {
     "name": "stderr",
     "output_type": "stream",
     "text": [
      "\r",
      "  8%|████████▎                                                                                                     | 3/40 [00:00<00:01, 29.34it/s]"
     ]
    },
    {
     "name": "stderr",
     "output_type": "stream",
     "text": [
      "\r",
      " 40%|███████████████████████████████████████████▌                                                                 | 16/40 [00:00<00:00, 86.32it/s]"
     ]
    },
    {
     "name": "stderr",
     "output_type": "stream",
     "text": [
      "\r",
      " 72%|██████████████████████████████████████████████████████████████████████████████▎                             | 29/40 [00:00<00:00, 104.00it/s]"
     ]
    },
    {
     "name": "stderr",
     "output_type": "stream",
     "text": [
      "\r",
      "100%|█████████████████████████████████████████████████████████████████████████████████████████████████████████████| 40/40 [00:00<00:00, 94.19it/s]"
     ]
    },
    {
     "name": "stdout",
     "output_type": "stream",
     "text": [
      "test OoD - OK\n"
     ]
    },
    {
     "name": "stderr",
     "output_type": "stream",
     "text": [
      "\n"
     ]
    }
   ],
   "source": [
    "# forward pass\n",
    "with torch.no_grad():\n",
    "    trn_inp = []\n",
    "    trn_rcn = []\n",
    "    trn_emb = []\n",
    "    trn_tgt = []\n",
    "\n",
    "    val_inp = []\n",
    "    val_rcn = []\n",
    "    val_emb = []\n",
    "    val_tgt = []\n",
    "\n",
    "    ind_inp = []\n",
    "    ind_rcn = []\n",
    "    ind_emb = []\n",
    "    ind_tgt = []\n",
    "\n",
    "    if ood_str:\n",
    "        ood_inp = []\n",
    "        ood_rcn = []\n",
    "        ood_emb = []\n",
    "        ood_tgt = []\n",
    "\n",
    "    # train set (ind)\n",
    "    for batch_idx, batch in enumerate(tqdm(train_loader)):\n",
    "        x, y, *_ = batch\n",
    "        x = x.float().cuda()\n",
    "        emb, lgt, rcn = model(x)\n",
    "        trn_inp.extend(x.detach().cpu().numpy())\n",
    "        trn_rcn.extend(rcn.detach().cpu().numpy())\n",
    "        trn_emb.extend(emb.detach().cpu().numpy())\n",
    "        trn_tgt.extend(y.detach().cpu().numpy())\n",
    "    print(\"train - OK\")\n",
    "\n",
    "    # val set (ind)\n",
    "    for batch_idx, batch in enumerate(tqdm(val_loader)):\n",
    "        x, y, *_ = batch\n",
    "        x = x.float().cuda()\n",
    "        emb, lgt, rcn = model(x)\n",
    "        val_inp.extend(x.detach().cpu().numpy())\n",
    "        val_rcn.extend(rcn.detach().cpu().numpy())\n",
    "        val_emb.extend(emb.detach().cpu().numpy())\n",
    "        val_tgt.extend(y.detach().cpu().numpy())\n",
    "    print(\"val - OK\")\n",
    "\n",
    "    # test set (ind)\n",
    "    for batch_idx, batch in enumerate(tqdm(test_loader)):\n",
    "        x, y, *_ = batch\n",
    "        x = x.float().cuda()\n",
    "        emb, lgt, rcn = model(x)\n",
    "        ind_inp.extend(x.detach().cpu().numpy())\n",
    "        ind_rcn.extend(rcn.detach().cpu().numpy())\n",
    "        ind_emb.extend(emb.detach().cpu().numpy())\n",
    "        ind_tgt.extend(y.detach().cpu().numpy())\n",
    "    print(\"test InD - OK\")\n",
    "\n",
    "    # predict set (ood)\n",
    "    if ood_str:\n",
    "        for batch_idx, batch in enumerate(tqdm(predict_loader)):\n",
    "            x, y, *_ = batch\n",
    "            x = x.float().cuda()\n",
    "            emb, lgt, rcn = model(x)\n",
    "            ood_inp.extend(x.detach().cpu().numpy())\n",
    "            ood_rcn.extend(rcn.detach().cpu().numpy())\n",
    "            ood_emb.extend(emb.detach().cpu().numpy())\n",
    "            ood_tgt.extend(y.detach().cpu().numpy())\n",
    "        print(\"test OoD - OK\")"
   ]
  },
  {
   "cell_type": "code",
   "execution_count": null,
   "id": "0ce2f20c-a3f7-4df4-9198-0ab9778db13c",
   "metadata": {
    "papermill": {
     "duration": null,
     "end_time": null,
     "exception": false,
     "start_time": "2024-03-15T17:28:00.681954",
     "status": "running"
    },
    "tags": []
   },
   "outputs": [],
   "source": [
    "# create numpy arrays\n",
    "trn_inp = np.array(trn_inp)\n",
    "trn_rcn = np.array(trn_rcn)\n",
    "trn_emb = np.array(trn_emb).squeeze()\n",
    "trn_tgt = np.array(trn_tgt)\n",
    "np.savez_compressed(f\"{save_name}_trn.npz\", inp=trn_inp, rcn=trn_rcn, emb=trn_emb, tgt=trn_tgt)\n",
    "\n",
    "val_inp = np.array(val_inp)\n",
    "val_rcn = np.array(val_rcn)\n",
    "val_emb = np.array(val_emb).squeeze()\n",
    "val_tgt = np.array(val_tgt)\n",
    "np.savez_compressed(f\"{save_name}_val.npz\", inp=val_inp, rcn=val_rcn, emb=val_emb, tgt=val_tgt)\n",
    "\n",
    "ind_inp = np.array(ind_inp)\n",
    "ind_rcn = np.array(ind_rcn)\n",
    "ind_emb = np.array(ind_emb).squeeze()\n",
    "ind_tgt = np.array(ind_tgt)\n",
    "np.savez_compressed(f\"{save_name}_ind.npz\", inp=ind_inp, rcn=ind_rcn, emb=ind_emb, tgt=ind_tgt)\n",
    "\n",
    "if ood_str:\n",
    "    ood_inp = np.array(ood_inp)\n",
    "    ood_rcn = np.array(ood_rcn)\n",
    "    ood_emb = np.array(ood_emb).squeeze()\n",
    "    ood_tgt = np.array(ood_tgt)\n",
    "    np.savez_compressed(f\"{save_name}_ood.npz\", inp=ood_inp, rcn=ood_rcn, emb=ood_emb, tgt=ood_tgt)\n",
    "\n",
    "ind_labels = [config.labels[i] for i in ind_tgt]\n",
    "if ood_str:\n",
    "    ood_labels = [config.labels[i] for i in ood_tgt]\n",
    "\n",
    "print(trn_inp.shape, trn_rcn.shape, trn_emb.shape, trn_tgt.shape)\n",
    "print(val_inp.shape, val_rcn.shape, val_emb.shape, val_tgt.shape)\n",
    "print(ind_inp.shape, ind_rcn.shape, ind_emb.shape, ind_tgt.shape)\n",
    "if ood_str:\n",
    "    print(ood_inp.shape, ood_rcn.shape, ood_emb.shape, ood_tgt.shape)"
   ]
  },
  {
   "cell_type": "code",
   "execution_count": null,
   "id": "53741152-de1f-41a0-9173-2ac4f6c212d8",
   "metadata": {
    "papermill": {
     "duration": null,
     "end_time": null,
     "exception": null,
     "start_time": null,
     "status": "pending"
    },
    "tags": []
   },
   "outputs": [],
   "source": [
    "# create 2d embeddings\n",
    "n = ind_emb.shape[0]\n",
    "all_emb = ind_emb\n",
    "if ood_str:\n",
    "    all_emb = np.concatenate([all_emb, ood_emb], axis=0)\n",
    "\n",
    "umap = UMAP(n_components=2, random_state=42)\n",
    "all_emb2d = umap.fit_transform(all_emb)\n",
    "ind_emb2d = np.array(all_emb2d[:n], order='C').astype(np.float32)\n",
    "ood_emb2d = np.array(all_emb2d[n:], order='C').astype(np.float32)\n",
    "print(ind_emb2d.shape, ood_emb2d.shape)"
   ]
  },
  {
   "cell_type": "code",
   "execution_count": null,
   "id": "3902e49f-9536-4f42-a307-b3ce66c89181",
   "metadata": {
    "papermill": {
     "duration": null,
     "end_time": null,
     "exception": null,
     "start_time": null,
     "status": "pending"
    },
    "tags": []
   },
   "outputs": [],
   "source": [
    "# plot feature space\n",
    "df_emb2d = pd.DataFrame()\n",
    "d1, d2 = ind_emb2d.T\n",
    "df_emb2d = pd.concat([df_emb2d, pd.DataFrame(dict(d1=d1, d2=d2, label=ind_labels, source=\"ind\"))])\n",
    "\n",
    "if ood_str:\n",
    "    d1, d2 = ood_emb2d.T\n",
    "    df_emb2d = pd.concat([df_emb2d, pd.DataFrame(dict(d1=d1, d2=d2, label=ood_labels, source=\"ood\"))])\n",
    "\n",
    "fig, [ax1, ax2] = plt.subplots(1, 2, figsize=(20, 10))\n",
    "fig.suptitle(f\"Feature Space - {dataset_name} - {model_name} - {ood_str}\")\n",
    "sns.scatterplot(data=df_emb2d[(df_emb2d['source'] == \"ind\")], x=\"d1\", y=\"d2\", hue=\"label\", s=5, ax=ax1)\n",
    "ax1.set_title(\"InD Data\")\n",
    "sns.scatterplot(data=df_emb2d[(df_emb2d['source'] == \"ood\")], x=\"d1\", y=\"d2\", hue=\"label\", s=5, ax=ax2)\n",
    "ax2.set_title(\"OoD Data\")\n",
    "plt.show()"
   ]
  },
  {
   "cell_type": "code",
   "execution_count": null,
   "id": "4f147cfe-6a83-444d-84b2-78228262f666",
   "metadata": {
    "papermill": {
     "duration": null,
     "end_time": null,
     "exception": null,
     "start_time": null,
     "status": "pending"
    },
    "tags": []
   },
   "outputs": [],
   "source": [
    "# plot knn distance from ind/ood to val data\n",
    "def plot_knn_dists(index_fn, ax, trn_data, val_data, ind_data, ood_data=None, k=5, scale=\"linspace\"):\n",
    "    stats = {}\n",
    "    index = index_fn(trn_data.shape[-1])\n",
    "    index.add(trn_data)\n",
    "    Dv = index.search(val_data, k)[0].mean(-1)\n",
    "    Di = index.search(ind_data, k)[0].mean(-1)\n",
    "    D = [Di]\n",
    "    T = [[0] * Di.shape[0]]\n",
    "    if ood_str:\n",
    "        Do = index.search(ood_data, k)[0].mean(-1)\n",
    "        D.append(Do)\n",
    "        T.append([1] * Do.shape[0]) \n",
    "    D = np.concatenate(D, axis=0)\n",
    "    T = np.concatenate(T, axis=0)\n",
    "    if scale == \"linspace\":\n",
    "        s, e = D.min(), D.max()\n",
    "        bins = np.linspace(s, e, 100)\n",
    "    if scale == \"logspace\":\n",
    "        s, e = np.log10(D.min() + 1e-7), np.log10(D.max())\n",
    "        bins = np.logspace(s, e, 100)\n",
    "    sns.histplot(Di, fill=True, label='ind', stat='probability', ax=ax, bins=bins)\n",
    "    prefix = \"\"\n",
    "    if ood_str:\n",
    "        Ci = np.histogram(Di, bins, density=True)[0]\n",
    "        Co = np.histogram(Do, bins, density=True)[0]\n",
    "        kld = entropy(Co + 1e-7, Ci + 1e-7)\n",
    "        emd = wasserstein_distance(Do, Di)\n",
    "        auc = roc_auc_score(T, D)\n",
    "        auc = max(auc, 1-auc)\n",
    "        sns.histplot(Do, fill=True, label='ood', stat='probability', ax=ax, bins=bins)\n",
    "        ax.set_title(f\"KL={kld:.4f} EMD={emd:.4f}, AUC={auc:.4f}\")\n",
    "        stats.update(dict(kld=kld, emd=emd, auc=auc, val_data=Dv.tolist(), ind_data=Di.tolist(), ood_data=Do.tolist()))\n",
    "        \n",
    "    if scale == \"logspace\":\n",
    "        ax.set_xscale('log')\n",
    "    ax.legend()\n",
    "    return stats\n",
    "\n",
    "fig, axs = plt.subplots(nrows=1, ncols=2, figsize=(10, 5))\n",
    "fig.suptitle(f\"KNN Distance (K=5) - {dataset_name} - {model_name} - {ood_str}\")\n",
    "run_stats[\"knn_f_l2\"] = plot_knn_dists(faiss.IndexFlatL2, axs[0], trn_emb, val_emb, ind_emb, ood_emb if ood_str else None, scale=\"logspace\")\n",
    "axs[0].set_xlabel(\"Feature Space - L2\")\n",
    "run_stats[\"knn_f_ip\"] = plot_knn_dists(faiss.IndexFlatIP, axs[1], trn_emb, val_emb, ind_emb, ood_emb if ood_str else None, scale=\"linspace\")\n",
    "axs[1].set_xlabel(\"Feature Space - IP\")\n",
    "plt.tight_layout()\n",
    "plt.show()"
   ]
  },
  {
   "cell_type": "code",
   "execution_count": null,
   "id": "cf02d295-02a6-44fc-89aa-cc5a011d4fd3",
   "metadata": {
    "papermill": {
     "duration": null,
     "end_time": null,
     "exception": null,
     "start_time": null,
     "status": "pending"
    },
    "tags": []
   },
   "outputs": [],
   "source": [
    "# plot reconstruction error of ind and ood data\n",
    "def plot_rcn(val_rcn, ind_rcn, ood_rcn, ax, scale=\"linspace\"):\n",
    "    stats = {}\n",
    "    D = ind_rcn\n",
    "    if ood_str:\n",
    "        D = np.concatenate([ind_rcn, ood_rcn], axis=0)\n",
    "    if scale == \"linspace\":\n",
    "        s, e = D.min(), D.max()\n",
    "        bins = np.linspace(s, e, 100)\n",
    "    if scale == \"logspace\":\n",
    "        s, e = np.log10(D.min() + 1e-7), np.log10(D.max())\n",
    "        bins = np.logspace(s, e, 100)\n",
    "    sns.histplot(ind_rcn, label=\"ind\", stat=\"probability\", bins=bins, ax=ax)\n",
    "    if ood_str:\n",
    "        sns.histplot(ood_rcn, label=\"ood\", stat=\"probability\", bins=bins, ax=ax)\n",
    "        T = np.concatenate([[0]*ind_rcn.shape[0],[1]*ood_rcn.shape[0]], axis=0)\n",
    "        Ci = np.histogram(ind_rcn, bins, density=True)[0]\n",
    "        Co = np.histogram(ood_rcn, bins, density=True)[0]\n",
    "        kld = entropy(Co + 1e-7, Ci + 1e-7)\n",
    "        emd = wasserstein_distance(ood_rcn, ind_rcn)\n",
    "        auc = roc_auc_score(T, D)\n",
    "        auc = max(auc, 1-auc)\n",
    "        ax.set_title(f\"KL={kld:.4f}, EMD={emd:.4f}, AUC={auc:.4f}\")\n",
    "        stats.update(dict(kld=kld, emd=emd, auc=auc, val_data=val_rcn.tolist(), ind_data=ind_rcn.tolist(), ood_data=ood_rcn.tolist()))\n",
    "    if scale == \"logspace\":\n",
    "        ax.set_xscale(\"log\")\n",
    "    ax.legend()\n",
    "    return stats\n",
    "\n",
    "flatten = lambda x: x.reshape((x.shape[0], -1))\n",
    "unit = lambda x: x / (np.linalg.norm(x, axis=-1, keepdims=True) + 1e-7)\n",
    "\n",
    "# training data\n",
    "_val_inp, _val_rcn = flatten(val_inp), flatten(val_rcn)\n",
    "_val_inp_unit, _val_rcn_unit = unit(_val_inp), unit(_val_rcn)\n",
    "# metrics\n",
    "val_rcn_l2 = ((_val_inp - _val_rcn) ** 2).mean(-1)\n",
    "val_rcn_ip = (_val_inp_unit * _val_rcn_unit).sum(-1)\n",
    "\n",
    "# ind test data\n",
    "_ind_inp, _ind_rcn = flatten(ind_inp), flatten(ind_rcn)\n",
    "_ind_inp_unit, _ind_rcn_unit = unit(_ind_inp), unit(_ind_rcn)\n",
    "# metrics\n",
    "ind_rcn_l2 = ((_ind_inp - _ind_rcn) ** 2).mean(-1)\n",
    "ind_rcn_ip = (_ind_inp_unit * _ind_rcn_unit).sum(-1)\n",
    "\n",
    "if ood_str:\n",
    "    # ood test data\n",
    "    _ood_inp, _ood_rcn = flatten(ood_inp), flatten(ood_rcn)\n",
    "    _ood_inp_unit, _ood_rcn_unit = unit(_ood_inp), unit(_ood_rcn)\n",
    "    # metrics\n",
    "    ood_rcn_l2 = ((_ood_inp - _ood_rcn) ** 2).mean(-1)\n",
    "    ood_rcn_ip = (_ood_inp_unit * _ood_rcn_unit).sum(-1)\n",
    "\n",
    "fig, (ax1, ax2) = plt.subplots(nrows=1, ncols=2, figsize=(10, 5))\n",
    "run_stats[\"rcn_l2\"] = plot_rcn(val_rcn_l2, ind_rcn_l2, ood_rcn_l2 if ood_str else None, ax1, scale=\"logspace\")\n",
    "ax1.set_xlabel(\"L2\")\n",
    "run_stats[\"rcn_ip\"] = plot_rcn(val_rcn_ip, ind_rcn_ip, ood_rcn_ip if ood_str else None, ax2, scale=\"linspace\")\n",
    "ax2.set_xlabel(\"IP\")\n",
    "plt.suptitle(f\"Reconstruction L2 and IP (InD vs OoD) - {dataset_name} - {model_name} - {ood_str}\")\n",
    "plt.tight_layout()\n",
    "plt.show()"
   ]
  },
  {
   "cell_type": "code",
   "execution_count": null,
   "id": "cc65dfba-a112-407d-9edb-29b3043af5b6",
   "metadata": {
    "papermill": {
     "duration": null,
     "end_time": null,
     "exception": null,
     "start_time": null,
     "status": "pending"
    },
    "tags": []
   },
   "outputs": [],
   "source": [
    "run_stats.update(dict(dataset_name=dataset_name, model_name=model_name, ood=ood))\n",
    "import gzip\n",
    "import pickle\n",
    "with gzip.open(f\"{save_name}_stats.gz\", \"wb\") as f:\n",
    "    pickle.dump(run_stats, f)"
   ]
  },
  {
   "cell_type": "code",
   "execution_count": null,
   "id": "01a335a6-5972-4084-8e51-9b8e3a383b76",
   "metadata": {
    "papermill": {
     "duration": null,
     "end_time": null,
     "exception": null,
     "start_time": null,
     "status": "pending"
    },
    "tags": []
   },
   "outputs": [],
   "source": []
  }
 ],
 "metadata": {
  "kernelspec": {
   "display_name": "robustml",
   "language": "python",
   "name": "robustml"
  },
  "language_info": {
   "codemirror_mode": {
    "name": "ipython",
    "version": 3
   },
   "file_extension": ".py",
   "mimetype": "text/x-python",
   "name": "python",
   "nbconvert_exporter": "python",
   "pygments_lexer": "ipython3",
   "version": "3.11.8"
  },
  "papermill": {
   "default_parameters": {},
   "duration": null,
   "end_time": null,
   "environment_variables": {},
   "exception": null,
   "input_path": "templates/resnet_mse.ipynb",
   "output_path": "notebooks/eval_resnet_mse_cifar10_A.ipynb",
   "parameters": {
    "dataset_name": "CIFAR10",
    "ood": "0:1:2:3:4"
   },
   "start_time": "2024-03-15T17:27:07.921708",
   "version": "2.5.0"
  },
  "toc-showtags": false
 },
 "nbformat": 4,
 "nbformat_minor": 5
}