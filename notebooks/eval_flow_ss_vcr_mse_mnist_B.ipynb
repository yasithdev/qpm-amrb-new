{
 "cells": [
  {
   "cell_type": "code",
   "execution_count": 1,
   "id": "1c8d4904-cfed-43f4-b71f-9cf70de63d54",
   "metadata": {
    "execution": {
     "iopub.execute_input": "2024-03-15T17:27:13.984929Z",
     "iopub.status.busy": "2024-03-15T17:27:13.984679Z",
     "iopub.status.idle": "2024-03-15T17:27:39.840781Z",
     "shell.execute_reply": "2024-03-15T17:27:39.840379Z"
    },
    "papermill": {
     "duration": 25.868599,
     "end_time": "2024-03-15T17:27:39.841837",
     "exception": false,
     "start_time": "2024-03-15T17:27:13.973238",
     "status": "completed"
    },
    "tags": []
   },
   "outputs": [],
   "source": [
    "import numpy as np\n",
    "import pandas as pd\n",
    "import torch\n",
    "from config import load_config\n",
    "from pathlib import Path\n",
    "from lightning.pytorch.loggers.wandb import WandbLogger\n",
    "from scipy.stats import wasserstein_distance, entropy\n",
    "from sklearn.metrics import roc_auc_score\n",
    "from tqdm import tqdm\n",
    "from umap import UMAP\n",
    "from matplotlib import pyplot as plt\n",
    "import seaborn as sns\n",
    "import faiss\n",
    "import os\n",
    "\n",
    "# initialize the RNG deterministically\n",
    "np.random.seed(42)\n",
    "torch.manual_seed(42)\n",
    "torch.set_float32_matmul_precision('medium')\n",
    "run_stats = {}"
   ]
  },
  {
   "cell_type": "code",
   "execution_count": 2,
   "id": "207f4f7a-1449-46b6-8215-c4aaf026379d",
   "metadata": {
    "execution": {
     "iopub.execute_input": "2024-03-15T17:27:39.865844Z",
     "iopub.status.busy": "2024-03-15T17:27:39.865534Z",
     "iopub.status.idle": "2024-03-15T17:27:39.867867Z",
     "shell.execute_reply": "2024-03-15T17:27:39.867550Z"
    },
    "papermill": {
     "duration": 0.014351,
     "end_time": "2024-03-15T17:27:39.868587",
     "exception": false,
     "start_time": "2024-03-15T17:27:39.854236",
     "status": "completed"
    },
    "tags": [
     "parameters"
    ]
   },
   "outputs": [],
   "source": [
    "# parameters\n",
    "dataset_name = \"\"\n",
    "model_name = \"flow_ss_vcr_mse\"\n",
    "ood = \"\""
   ]
  },
  {
   "cell_type": "code",
   "execution_count": 3,
   "id": "a246a64d",
   "metadata": {
    "execution": {
     "iopub.execute_input": "2024-03-15T17:27:39.890869Z",
     "iopub.status.busy": "2024-03-15T17:27:39.890643Z",
     "iopub.status.idle": "2024-03-15T17:27:39.925843Z",
     "shell.execute_reply": "2024-03-15T17:27:39.925540Z"
    },
    "papermill": {
     "duration": 0.047108,
     "end_time": "2024-03-15T17:27:39.926553",
     "exception": false,
     "start_time": "2024-03-15T17:27:39.879445",
     "status": "completed"
    },
    "tags": [
     "injected-parameters"
    ]
   },
   "outputs": [],
   "source": [
    "# Parameters\n",
    "dataset_name = \"MNIST\"\n",
    "ood = \"5:6:7:8:9\"\n"
   ]
  },
  {
   "cell_type": "code",
   "execution_count": 4,
   "id": "efa4ef11-ff10-4a92-92a1-e128b161c8d4",
   "metadata": {
    "execution": {
     "iopub.execute_input": "2024-03-15T17:27:39.949228Z",
     "iopub.status.busy": "2024-03-15T17:27:39.949006Z",
     "iopub.status.idle": "2024-03-15T17:27:46.001689Z",
     "shell.execute_reply": "2024-03-15T17:27:46.001257Z"
    },
    "papermill": {
     "duration": 6.064903,
     "end_time": "2024-03-15T17:27:46.002489",
     "exception": false,
     "start_time": "2024-03-15T17:27:39.937586",
     "status": "completed"
    },
    "tags": []
   },
   "outputs": [
    {
     "name": "stderr",
     "output_type": "stream",
     "text": [
      "\r",
      "  0%|                                                                                                                            | 0/60000 [00:00<?, ?it/s]"
     ]
    },
    {
     "name": "stderr",
     "output_type": "stream",
     "text": [
      "\r",
      " 15%|████████████████▌                                                                                             | 9012/60000 [00:00<00:00, 90115.14it/s]"
     ]
    },
    {
     "name": "stderr",
     "output_type": "stream",
     "text": [
      "\r",
      " 30%|████████████████████████████████▋                                                                            | 18024/60000 [00:00<00:00, 86757.37it/s]"
     ]
    },
    {
     "name": "stderr",
     "output_type": "stream",
     "text": [
      "\r",
      " 45%|████████████████████████████████████████████████▌                                                            | 26709/60000 [00:00<00:00, 85787.29it/s]"
     ]
    },
    {
     "name": "stderr",
     "output_type": "stream",
     "text": [
      "\r",
      " 60%|████████████████████████████████████████████████████████████████▉                                            | 35739/60000 [00:00<00:00, 87528.41it/s]"
     ]
    },
    {
     "name": "stderr",
     "output_type": "stream",
     "text": [
      "\r",
      " 75%|█████████████████████████████████████████████████████████████████████████████████▍                           | 44849/60000 [00:00<00:00, 88795.22it/s]"
     ]
    },
    {
     "name": "stderr",
     "output_type": "stream",
     "text": [
      "\r",
      " 90%|█████████████████████████████████████████████████████████████████████████████████████████████████▉           | 53944/60000 [00:00<00:00, 89518.88it/s]"
     ]
    },
    {
     "name": "stderr",
     "output_type": "stream",
     "text": [
      "\r",
      "100%|█████████████████████████████████████████████████████████████████████████████████████████████████████████████| 60000/60000 [00:00<00:00, 88609.90it/s]"
     ]
    },
    {
     "name": "stderr",
     "output_type": "stream",
     "text": [
      "\n"
     ]
    },
    {
     "name": "stderr",
     "output_type": "stream",
     "text": [
      "\r",
      "  0%|                                                                                                                            | 0/10000 [00:00<?, ?it/s]"
     ]
    },
    {
     "name": "stderr",
     "output_type": "stream",
     "text": [
      "\r",
      " 88%|████████████████████████████████████████████████████████████████████████████████████████████████▌             | 8777/10000 [00:00<00:00, 87762.55it/s]"
     ]
    },
    {
     "name": "stderr",
     "output_type": "stream",
     "text": [
      "\r",
      "100%|█████████████████████████████████████████████████████████████████████████████████████████████████████████████| 10000/10000 [00:00<00:00, 84490.18it/s]"
     ]
    },
    {
     "name": "stderr",
     "output_type": "stream",
     "text": [
      "\n"
     ]
    }
   ],
   "source": [
    "# initialize data attributes and loaders\n",
    "save_name = f\"assets/results/{dataset_name}/{model_name}/{ood}\"\n",
    "os.makedirs(os.path.dirname(save_name + \"_blank.file\"), exist_ok=True)\n",
    "config = load_config(\n",
    "    dataset_name = dataset_name,\n",
    "    model_name = model_name,\n",
    "    ood = ood,\n",
    ")\n",
    "config.load_data(shuffle_training_data=False)\n",
    "config.print_labels()\n",
    "dm = config.datamodule\n",
    "\n",
    "assert dm"
   ]
  },
  {
   "cell_type": "code",
   "execution_count": 5,
   "id": "2d13a424-6039-4fe1-a433-f242744d5819",
   "metadata": {
    "execution": {
     "iopub.execute_input": "2024-03-15T17:27:46.028117Z",
     "iopub.status.busy": "2024-03-15T17:27:46.027519Z",
     "iopub.status.idle": "2024-03-15T17:27:46.097277Z",
     "shell.execute_reply": "2024-03-15T17:27:46.096891Z"
    },
    "papermill": {
     "duration": 0.083319,
     "end_time": "2024-03-15T17:27:46.098105",
     "exception": false,
     "start_time": "2024-03-15T17:27:46.014786",
     "status": "completed"
    },
    "tags": []
   },
   "outputs": [],
   "source": [
    "# initialize data modules\n",
    "dm.setup(\"fit\")\n",
    "dm.setup(\"test\")\n",
    "dm.setup(\"predict\")"
   ]
  },
  {
   "cell_type": "code",
   "execution_count": 6,
   "id": "3b0a4c59-0686-4d7e-880e-8aa1f86b24b3",
   "metadata": {
    "execution": {
     "iopub.execute_input": "2024-03-15T17:27:46.124214Z",
     "iopub.status.busy": "2024-03-15T17:27:46.123847Z",
     "iopub.status.idle": "2024-03-15T17:27:46.133389Z",
     "shell.execute_reply": "2024-03-15T17:27:46.133028Z"
    },
    "papermill": {
     "duration": 0.022846,
     "end_time": "2024-03-15T17:27:46.134170",
     "exception": false,
     "start_time": "2024-03-15T17:27:46.111324",
     "status": "completed"
    },
    "tags": []
   },
   "outputs": [
    {
     "name": "stdout",
     "output_type": "stream",
     "text": [
      "5:6:7:8:9 umry49p9\n"
     ]
    }
   ],
   "source": [
    "# model ids\n",
    "ood_str = \":\".join(map(str, config.ood))\n",
    "df = pd.read_csv(\"ids.csv\").fillna(\"\")\n",
    "model_id = df[(df.dataset_name == dataset_name) & (df.model_name == model_name) & (df.ood == ood)].id.item()\n",
    "print(ood_str, model_id)"
   ]
  },
  {
   "cell_type": "code",
   "execution_count": 7,
   "id": "e3f96af0-b105-48a9-977c-3946b16f2a40",
   "metadata": {
    "execution": {
     "iopub.execute_input": "2024-03-15T17:27:46.158698Z",
     "iopub.status.busy": "2024-03-15T17:27:46.158348Z",
     "iopub.status.idle": "2024-03-15T17:27:51.498590Z",
     "shell.execute_reply": "2024-03-15T17:27:51.498215Z"
    },
    "papermill": {
     "duration": 5.353423,
     "end_time": "2024-03-15T17:27:51.499471",
     "exception": false,
     "start_time": "2024-03-15T17:27:46.146048",
     "status": "completed"
    },
    "tags": []
   },
   "outputs": [
    {
     "name": "stderr",
     "output_type": "stream",
     "text": [
      "\u001b[34m\u001b[1mwandb\u001b[0m:   1 of 1 files downloaded.  \n"
     ]
    }
   ],
   "source": [
    "# load model and weights\n",
    "model = config.get_model()\n",
    "artifact_dir = WandbLogger.download_artifact(artifact=f\"yasith/robustml/model-{model_id}:best\")\n",
    "model = model.__class__.load_from_checkpoint(Path(artifact_dir) / \"model.ckpt\", config=config)\n",
    "model = model.cuda()\n",
    "model.eval();"
   ]
  },
  {
   "cell_type": "code",
   "execution_count": 8,
   "id": "70012880-6870-4eb5-9bb8-533a1e31ed04",
   "metadata": {
    "execution": {
     "iopub.execute_input": "2024-03-15T17:27:51.524192Z",
     "iopub.status.busy": "2024-03-15T17:27:51.523909Z",
     "iopub.status.idle": "2024-03-15T17:27:51.526526Z",
     "shell.execute_reply": "2024-03-15T17:27:51.526214Z"
    },
    "papermill": {
     "duration": 0.015606,
     "end_time": "2024-03-15T17:27:51.527209",
     "exception": false,
     "start_time": "2024-03-15T17:27:51.511603",
     "status": "completed"
    },
    "tags": []
   },
   "outputs": [],
   "source": [
    "# create data loaders\n",
    "train_loader = dm.train_dataloader()\n",
    "val_loader = dm.val_dataloader()\n",
    "test_loader = dm.test_dataloader()\n",
    "if ood_str:\n",
    "    predict_loader = dm.predict_dataloader()"
   ]
  },
  {
   "cell_type": "code",
   "execution_count": 9,
   "id": "56027155-3d85-4347-94c9-a075ab1e2d20",
   "metadata": {
    "execution": {
     "iopub.execute_input": "2024-03-15T17:27:51.551329Z",
     "iopub.status.busy": "2024-03-15T17:27:51.551122Z",
     "iopub.status.idle": "2024-03-15T17:28:10.190656Z",
     "shell.execute_reply": "2024-03-15T17:28:10.190225Z"
    },
    "papermill": {
     "duration": 18.652506,
     "end_time": "2024-03-15T17:28:10.191416",
     "exception": false,
     "start_time": "2024-03-15T17:27:51.538910",
     "status": "completed"
    },
    "tags": []
   },
   "outputs": [
    {
     "name": "stderr",
     "output_type": "stream",
     "text": [
      "\r",
      "  0%|                                                                                                                              | 0/192 [00:00<?, ?it/s]"
     ]
    },
    {
     "name": "stderr",
     "output_type": "stream",
     "text": [
      "\r",
      "  1%|▌                                                                                                                     | 1/192 [00:01<03:24,  1.07s/it]"
     ]
    },
    {
     "name": "stderr",
     "output_type": "stream",
     "text": [
      "\r",
      "  2%|█▊                                                                                                                    | 3/192 [00:01<01:00,  3.13it/s]"
     ]
    },
    {
     "name": "stderr",
     "output_type": "stream",
     "text": [
      "\r",
      "  3%|███                                                                                                                   | 5/192 [00:01<00:34,  5.47it/s]"
     ]
    },
    {
     "name": "stderr",
     "output_type": "stream",
     "text": [
      "\r",
      "  4%|████▎                                                                                                                 | 7/192 [00:01<00:23,  7.78it/s]"
     ]
    },
    {
     "name": "stderr",
     "output_type": "stream",
     "text": [
      "\r",
      "  5%|█████▌                                                                                                                | 9/192 [00:01<00:18,  9.95it/s]"
     ]
    },
    {
     "name": "stderr",
     "output_type": "stream",
     "text": [
      "\r",
      "  6%|██████▋                                                                                                              | 11/192 [00:01<00:15, 11.87it/s]"
     ]
    },
    {
     "name": "stderr",
     "output_type": "stream",
     "text": [
      "\r",
      "  7%|███████▉                                                                                                             | 13/192 [00:01<00:13, 13.46it/s]"
     ]
    },
    {
     "name": "stderr",
     "output_type": "stream",
     "text": [
      "\r",
      "  8%|█████████▏                                                                                                           | 15/192 [00:01<00:12, 14.73it/s]"
     ]
    },
    {
     "name": "stderr",
     "output_type": "stream",
     "text": [
      "\r",
      "  9%|██████████▎                                                                                                          | 17/192 [00:01<00:11, 15.71it/s]"
     ]
    },
    {
     "name": "stderr",
     "output_type": "stream",
     "text": [
      "\r",
      " 10%|███████████▌                                                                                                         | 19/192 [00:02<00:10, 16.47it/s]"
     ]
    },
    {
     "name": "stderr",
     "output_type": "stream",
     "text": [
      "\r",
      " 11%|████████████▊                                                                                                        | 21/192 [00:02<00:10, 17.04it/s]"
     ]
    },
    {
     "name": "stderr",
     "output_type": "stream",
     "text": [
      "\r",
      " 12%|██████████████                                                                                                       | 23/192 [00:02<00:09, 17.47it/s]"
     ]
    },
    {
     "name": "stderr",
     "output_type": "stream",
     "text": [
      "\r",
      " 13%|███████████████▏                                                                                                     | 25/192 [00:02<00:09, 17.78it/s]"
     ]
    },
    {
     "name": "stderr",
     "output_type": "stream",
     "text": [
      "\r",
      " 14%|████████████████▍                                                                                                    | 27/192 [00:02<00:09, 18.00it/s]"
     ]
    },
    {
     "name": "stderr",
     "output_type": "stream",
     "text": [
      "\r",
      " 15%|█████████████████▋                                                                                                   | 29/192 [00:02<00:08, 18.15it/s]"
     ]
    },
    {
     "name": "stderr",
     "output_type": "stream",
     "text": [
      "\r",
      " 16%|██████████████████▉                                                                                                  | 31/192 [00:02<00:08, 18.25it/s]"
     ]
    },
    {
     "name": "stderr",
     "output_type": "stream",
     "text": [
      "\r",
      " 17%|████████████████████                                                                                                 | 33/192 [00:02<00:08, 18.33it/s]"
     ]
    },
    {
     "name": "stderr",
     "output_type": "stream",
     "text": [
      "\r",
      " 18%|█████████████████████▎                                                                                               | 35/192 [00:02<00:08, 18.41it/s]"
     ]
    },
    {
     "name": "stderr",
     "output_type": "stream",
     "text": [
      "\r",
      " 19%|██████████████████████▌                                                                                              | 37/192 [00:03<00:08, 18.44it/s]"
     ]
    },
    {
     "name": "stderr",
     "output_type": "stream",
     "text": [
      "\r",
      " 20%|███████████████████████▊                                                                                             | 39/192 [00:03<00:08, 18.47it/s]"
     ]
    },
    {
     "name": "stderr",
     "output_type": "stream",
     "text": [
      "\r",
      " 21%|████████████████████████▉                                                                                            | 41/192 [00:03<00:08, 18.48it/s]"
     ]
    },
    {
     "name": "stderr",
     "output_type": "stream",
     "text": [
      "\r",
      " 22%|██████████████████████████▏                                                                                          | 43/192 [00:03<00:08, 18.50it/s]"
     ]
    },
    {
     "name": "stderr",
     "output_type": "stream",
     "text": [
      "\r",
      " 23%|███████████████████████████▍                                                                                         | 45/192 [00:03<00:07, 18.51it/s]"
     ]
    },
    {
     "name": "stderr",
     "output_type": "stream",
     "text": [
      "\r",
      " 24%|████████████████████████████▋                                                                                        | 47/192 [00:03<00:07, 18.51it/s]"
     ]
    },
    {
     "name": "stderr",
     "output_type": "stream",
     "text": [
      "\r",
      " 26%|█████████████████████████████▊                                                                                       | 49/192 [00:03<00:07, 18.50it/s]"
     ]
    },
    {
     "name": "stderr",
     "output_type": "stream",
     "text": [
      "\r",
      " 27%|███████████████████████████████                                                                                      | 51/192 [00:03<00:07, 18.51it/s]"
     ]
    },
    {
     "name": "stderr",
     "output_type": "stream",
     "text": [
      "\r",
      " 28%|████████████████████████████████▎                                                                                    | 53/192 [00:03<00:07, 18.52it/s]"
     ]
    },
    {
     "name": "stderr",
     "output_type": "stream",
     "text": [
      "\r",
      " 29%|█████████████████████████████████▌                                                                                   | 55/192 [00:03<00:07, 18.53it/s]"
     ]
    },
    {
     "name": "stderr",
     "output_type": "stream",
     "text": [
      "\r",
      " 30%|██████████████████████████████████▋                                                                                  | 57/192 [00:04<00:07, 18.52it/s]"
     ]
    },
    {
     "name": "stderr",
     "output_type": "stream",
     "text": [
      "\r",
      " 31%|███████████████████████████████████▉                                                                                 | 59/192 [00:04<00:07, 18.52it/s]"
     ]
    },
    {
     "name": "stderr",
     "output_type": "stream",
     "text": [
      "\r",
      " 32%|█████████████████████████████████████▏                                                                               | 61/192 [00:04<00:07, 18.51it/s]"
     ]
    },
    {
     "name": "stderr",
     "output_type": "stream",
     "text": [
      "\r",
      " 33%|██████████████████████████████████████▍                                                                              | 63/192 [00:04<00:06, 18.51it/s]"
     ]
    },
    {
     "name": "stderr",
     "output_type": "stream",
     "text": [
      "\r",
      " 34%|███████████████████████████████████████▌                                                                             | 65/192 [00:04<00:06, 18.51it/s]"
     ]
    },
    {
     "name": "stderr",
     "output_type": "stream",
     "text": [
      "\r",
      " 35%|████████████████████████████████████████▊                                                                            | 67/192 [00:04<00:06, 18.51it/s]"
     ]
    },
    {
     "name": "stderr",
     "output_type": "stream",
     "text": [
      "\r",
      " 36%|██████████████████████████████████████████                                                                           | 69/192 [00:04<00:06, 18.50it/s]"
     ]
    },
    {
     "name": "stderr",
     "output_type": "stream",
     "text": [
      "\r",
      " 37%|███████████████████████████████████████████▎                                                                         | 71/192 [00:04<00:06, 18.51it/s]"
     ]
    },
    {
     "name": "stderr",
     "output_type": "stream",
     "text": [
      "\r",
      " 38%|████████████████████████████████████████████▍                                                                        | 73/192 [00:04<00:06, 18.50it/s]"
     ]
    },
    {
     "name": "stderr",
     "output_type": "stream",
     "text": [
      "\r",
      " 39%|█████████████████████████████████████████████▋                                                                       | 75/192 [00:05<00:06, 18.52it/s]"
     ]
    },
    {
     "name": "stderr",
     "output_type": "stream",
     "text": [
      "\r",
      " 40%|██████████████████████████████████████████████▉                                                                      | 77/192 [00:05<00:06, 18.51it/s]"
     ]
    },
    {
     "name": "stderr",
     "output_type": "stream",
     "text": [
      "\r",
      " 41%|████████████████████████████████████████████████▏                                                                    | 79/192 [00:05<00:06, 18.52it/s]"
     ]
    },
    {
     "name": "stderr",
     "output_type": "stream",
     "text": [
      "\r",
      " 42%|█████████████████████████████████████████████████▎                                                                   | 81/192 [00:05<00:06, 18.44it/s]"
     ]
    },
    {
     "name": "stderr",
     "output_type": "stream",
     "text": [
      "\r",
      " 43%|██████████████████████████████████████████████████▌                                                                  | 83/192 [00:05<00:05, 18.46it/s]"
     ]
    },
    {
     "name": "stderr",
     "output_type": "stream",
     "text": [
      "\r",
      " 44%|███████████████████████████████████████████████████▊                                                                 | 85/192 [00:05<00:05, 18.48it/s]"
     ]
    },
    {
     "name": "stderr",
     "output_type": "stream",
     "text": [
      "\r",
      " 45%|█████████████████████████████████████████████████████                                                                | 87/192 [00:05<00:05, 18.49it/s]"
     ]
    },
    {
     "name": "stderr",
     "output_type": "stream",
     "text": [
      "\r",
      " 46%|██████████████████████████████████████████████████████▏                                                              | 89/192 [00:05<00:05, 18.50it/s]"
     ]
    },
    {
     "name": "stderr",
     "output_type": "stream",
     "text": [
      "\r",
      " 47%|███████████████████████████████████████████████████████▍                                                             | 91/192 [00:05<00:05, 18.52it/s]"
     ]
    },
    {
     "name": "stderr",
     "output_type": "stream",
     "text": [
      "\r",
      " 48%|████████████████████████████████████████████████████████▋                                                            | 93/192 [00:06<00:05, 18.53it/s]"
     ]
    },
    {
     "name": "stderr",
     "output_type": "stream",
     "text": [
      "\r",
      " 49%|█████████████████████████████████████████████████████████▉                                                           | 95/192 [00:06<00:05, 18.52it/s]"
     ]
    },
    {
     "name": "stderr",
     "output_type": "stream",
     "text": [
      "\r",
      " 51%|███████████████████████████████████████████████████████████                                                          | 97/192 [00:06<00:05, 18.52it/s]"
     ]
    },
    {
     "name": "stderr",
     "output_type": "stream",
     "text": [
      "\r",
      " 52%|████████████████████████████████████████████████████████████▎                                                        | 99/192 [00:06<00:05, 18.53it/s]"
     ]
    },
    {
     "name": "stderr",
     "output_type": "stream",
     "text": [
      "\r",
      " 53%|█████████████████████████████████████████████████████████████                                                       | 101/192 [00:06<00:04, 18.53it/s]"
     ]
    },
    {
     "name": "stderr",
     "output_type": "stream",
     "text": [
      "\r",
      " 54%|██████████████████████████████████████████████████████████████▏                                                     | 103/192 [00:06<00:04, 18.55it/s]"
     ]
    },
    {
     "name": "stderr",
     "output_type": "stream",
     "text": [
      "\r",
      " 55%|███████████████████████████████████████████████████████████████▍                                                    | 105/192 [00:06<00:04, 18.53it/s]"
     ]
    },
    {
     "name": "stderr",
     "output_type": "stream",
     "text": [
      "\r",
      " 56%|████████████████████████████████████████████████████████████████▋                                                   | 107/192 [00:06<00:04, 18.52it/s]"
     ]
    },
    {
     "name": "stderr",
     "output_type": "stream",
     "text": [
      "\r",
      " 57%|█████████████████████████████████████████████████████████████████▊                                                  | 109/192 [00:06<00:04, 18.51it/s]"
     ]
    },
    {
     "name": "stderr",
     "output_type": "stream",
     "text": [
      "\r",
      " 58%|███████████████████████████████████████████████████████████████████                                                 | 111/192 [00:07<00:04, 18.46it/s]"
     ]
    },
    {
     "name": "stderr",
     "output_type": "stream",
     "text": [
      "\r",
      " 59%|████████████████████████████████████████████████████████████████████▎                                               | 113/192 [00:07<00:04, 18.48it/s]"
     ]
    },
    {
     "name": "stderr",
     "output_type": "stream",
     "text": [
      "\r",
      " 60%|█████████████████████████████████████████████████████████████████████▍                                              | 115/192 [00:07<00:04, 18.50it/s]"
     ]
    },
    {
     "name": "stderr",
     "output_type": "stream",
     "text": [
      "\r",
      " 61%|██████████████████████████████████████████████████████████████████████▋                                             | 117/192 [00:07<00:04, 18.50it/s]"
     ]
    },
    {
     "name": "stderr",
     "output_type": "stream",
     "text": [
      "\r",
      " 62%|███████████████████████████████████████████████████████████████████████▉                                            | 119/192 [00:07<00:03, 18.51it/s]"
     ]
    },
    {
     "name": "stderr",
     "output_type": "stream",
     "text": [
      "\r",
      " 63%|█████████████████████████████████████████████████████████████████████████                                           | 121/192 [00:07<00:03, 18.45it/s]"
     ]
    },
    {
     "name": "stderr",
     "output_type": "stream",
     "text": [
      "\r",
      " 64%|██████████████████████████████████████████████████████████████████████████▎                                         | 123/192 [00:07<00:03, 18.43it/s]"
     ]
    },
    {
     "name": "stderr",
     "output_type": "stream",
     "text": [
      "\r",
      " 65%|███████████████████████████████████████████████████████████████████████████▌                                        | 125/192 [00:07<00:03, 18.45it/s]"
     ]
    },
    {
     "name": "stderr",
     "output_type": "stream",
     "text": [
      "\r",
      " 66%|████████████████████████████████████████████████████████████████████████████▋                                       | 127/192 [00:07<00:03, 18.47it/s]"
     ]
    },
    {
     "name": "stderr",
     "output_type": "stream",
     "text": [
      "\r",
      " 67%|█████████████████████████████████████████████████████████████████████████████▉                                      | 129/192 [00:07<00:03, 18.48it/s]"
     ]
    },
    {
     "name": "stderr",
     "output_type": "stream",
     "text": [
      "\r",
      " 68%|███████████████████████████████████████████████████████████████████████████████▏                                    | 131/192 [00:08<00:03, 18.50it/s]"
     ]
    },
    {
     "name": "stderr",
     "output_type": "stream",
     "text": [
      "\r",
      " 69%|████████████████████████████████████████████████████████████████████████████████▎                                   | 133/192 [00:08<00:03, 18.50it/s]"
     ]
    },
    {
     "name": "stderr",
     "output_type": "stream",
     "text": [
      "\r",
      " 70%|█████████████████████████████████████████████████████████████████████████████████▌                                  | 135/192 [00:08<00:03, 18.51it/s]"
     ]
    },
    {
     "name": "stderr",
     "output_type": "stream",
     "text": [
      "\r",
      " 71%|██████████████████████████████████████████████████████████████████████████████████▊                                 | 137/192 [00:08<00:02, 18.49it/s]"
     ]
    },
    {
     "name": "stderr",
     "output_type": "stream",
     "text": [
      "\r",
      " 72%|███████████████████████████████████████████████████████████████████████████████████▉                                | 139/192 [00:08<00:02, 18.51it/s]"
     ]
    },
    {
     "name": "stderr",
     "output_type": "stream",
     "text": [
      "\r",
      " 73%|█████████████████████████████████████████████████████████████████████████████████████▏                              | 141/192 [00:08<00:02, 18.48it/s]"
     ]
    },
    {
     "name": "stderr",
     "output_type": "stream",
     "text": [
      "\r",
      " 74%|██████████████████████████████████████████████████████████████████████████████████████▍                             | 143/192 [00:08<00:02, 18.49it/s]"
     ]
    },
    {
     "name": "stderr",
     "output_type": "stream",
     "text": [
      "\r",
      " 76%|███████████████████████████████████████████████████████████████████████████████████████▌                            | 145/192 [00:08<00:02, 18.48it/s]"
     ]
    },
    {
     "name": "stderr",
     "output_type": "stream",
     "text": [
      "\r",
      " 77%|████████████████████████████████████████████████████████████████████████████████████████▊                           | 147/192 [00:08<00:02, 18.51it/s]"
     ]
    },
    {
     "name": "stderr",
     "output_type": "stream",
     "text": [
      "\r",
      " 78%|██████████████████████████████████████████████████████████████████████████████████████████                          | 149/192 [00:09<00:02, 18.47it/s]"
     ]
    },
    {
     "name": "stderr",
     "output_type": "stream",
     "text": [
      "\r",
      " 79%|███████████████████████████████████████████████████████████████████████████████████████████▏                        | 151/192 [00:09<00:02, 18.45it/s]"
     ]
    },
    {
     "name": "stderr",
     "output_type": "stream",
     "text": [
      "\r",
      " 80%|████████████████████████████████████████████████████████████████████████████████████████████▍                       | 153/192 [00:09<00:02, 18.47it/s]"
     ]
    },
    {
     "name": "stderr",
     "output_type": "stream",
     "text": [
      "\r",
      " 81%|█████████████████████████████████████████████████████████████████████████████████████████████▋                      | 155/192 [00:09<00:02, 18.46it/s]"
     ]
    },
    {
     "name": "stderr",
     "output_type": "stream",
     "text": [
      "\r",
      " 82%|██████████████████████████████████████████████████████████████████████████████████████████████▊                     | 157/192 [00:09<00:01, 18.48it/s]"
     ]
    },
    {
     "name": "stderr",
     "output_type": "stream",
     "text": [
      "\r",
      " 83%|████████████████████████████████████████████████████████████████████████████████████████████████                    | 159/192 [00:09<00:01, 18.49it/s]"
     ]
    },
    {
     "name": "stderr",
     "output_type": "stream",
     "text": [
      "\r",
      " 84%|█████████████████████████████████████████████████████████████████████████████████████████████████▎                  | 161/192 [00:09<00:01, 18.49it/s]"
     ]
    },
    {
     "name": "stderr",
     "output_type": "stream",
     "text": [
      "\r",
      " 85%|██████████████████████████████████████████████████████████████████████████████████████████████████▍                 | 163/192 [00:09<00:01, 18.50it/s]"
     ]
    },
    {
     "name": "stderr",
     "output_type": "stream",
     "text": [
      "\r",
      " 86%|███████████████████████████████████████████████████████████████████████████████████████████████████▋                | 165/192 [00:09<00:01, 18.50it/s]"
     ]
    },
    {
     "name": "stderr",
     "output_type": "stream",
     "text": [
      "\r",
      " 87%|████████████████████████████████████████████████████████████████████████████████████████████████████▉               | 167/192 [00:10<00:01, 18.50it/s]"
     ]
    },
    {
     "name": "stderr",
     "output_type": "stream",
     "text": [
      "\r",
      " 88%|██████████████████████████████████████████████████████████████████████████████████████████████████████              | 169/192 [00:10<00:01, 18.50it/s]"
     ]
    },
    {
     "name": "stderr",
     "output_type": "stream",
     "text": [
      "\r",
      " 89%|███████████████████████████████████████████████████████████████████████████████████████████████████████▎            | 171/192 [00:10<00:01, 18.51it/s]"
     ]
    },
    {
     "name": "stderr",
     "output_type": "stream",
     "text": [
      "\r",
      " 90%|████████████████████████████████████████████████████████████████████████████████████████████████████████▌           | 173/192 [00:10<00:01, 18.47it/s]"
     ]
    },
    {
     "name": "stderr",
     "output_type": "stream",
     "text": [
      "\r",
      " 91%|█████████████████████████████████████████████████████████████████████████████████████████████████████████▋          | 175/192 [00:10<00:00, 18.43it/s]"
     ]
    },
    {
     "name": "stderr",
     "output_type": "stream",
     "text": [
      "\r",
      " 92%|██████████████████████████████████████████████████████████████████████████████████████████████████████████▉         | 177/192 [00:10<00:00, 18.45it/s]"
     ]
    },
    {
     "name": "stderr",
     "output_type": "stream",
     "text": [
      "\r",
      " 93%|████████████████████████████████████████████████████████████████████████████████████████████████████████████▏       | 179/192 [00:10<00:00, 18.47it/s]"
     ]
    },
    {
     "name": "stderr",
     "output_type": "stream",
     "text": [
      "\r",
      " 94%|█████████████████████████████████████████████████████████████████████████████████████████████████████████████▎      | 181/192 [00:10<00:00, 18.48it/s]"
     ]
    },
    {
     "name": "stderr",
     "output_type": "stream",
     "text": [
      "\r",
      " 95%|██████████████████████████████████████████████████████████████████████████████████████████████████████████████▌     | 183/192 [00:10<00:00, 18.50it/s]"
     ]
    },
    {
     "name": "stderr",
     "output_type": "stream",
     "text": [
      "\r",
      " 96%|███████████████████████████████████████████████████████████████████████████████████████████████████████████████▊    | 185/192 [00:11<00:00, 18.52it/s]"
     ]
    },
    {
     "name": "stderr",
     "output_type": "stream",
     "text": [
      "\r",
      " 97%|████████████████████████████████████████████████████████████████████████████████████████████████████████████████▉   | 187/192 [00:11<00:00, 18.56it/s]"
     ]
    },
    {
     "name": "stderr",
     "output_type": "stream",
     "text": [
      "\r",
      " 98%|██████████████████████████████████████████████████████████████████████████████████████████████████████████████████▏ | 189/192 [00:11<00:00, 18.57it/s]"
     ]
    },
    {
     "name": "stderr",
     "output_type": "stream",
     "text": [
      "\r",
      " 99%|███████████████████████████████████████████████████████████████████████████████████████████████████████████████████▍| 191/192 [00:11<00:00, 18.60it/s]"
     ]
    },
    {
     "name": "stderr",
     "output_type": "stream",
     "text": [
      "\r",
      "100%|████████████████████████████████████████████████████████████████████████████████████████████████████████████████████| 192/192 [00:11<00:00, 16.82it/s]"
     ]
    },
    {
     "name": "stderr",
     "output_type": "stream",
     "text": [
      "\n"
     ]
    },
    {
     "name": "stdout",
     "output_type": "stream",
     "text": [
      "train - OK\n"
     ]
    },
    {
     "name": "stderr",
     "output_type": "stream",
     "text": [
      "\r",
      "  0%|                                                                                                                               | 0/48 [00:00<?, ?it/s]"
     ]
    },
    {
     "name": "stderr",
     "output_type": "stream",
     "text": [
      "\r",
      "  2%|██▍                                                                                                                    | 1/48 [00:00<00:05,  8.03it/s]"
     ]
    },
    {
     "name": "stderr",
     "output_type": "stream",
     "text": [
      "\r",
      "  6%|███████▍                                                                                                               | 3/48 [00:00<00:03, 13.74it/s]"
     ]
    },
    {
     "name": "stderr",
     "output_type": "stream",
     "text": [
      "\r",
      " 10%|████████████▍                                                                                                          | 5/48 [00:00<00:02, 15.78it/s]"
     ]
    },
    {
     "name": "stderr",
     "output_type": "stream",
     "text": [
      "\r",
      " 15%|█████████████████▎                                                                                                     | 7/48 [00:00<00:02, 16.84it/s]"
     ]
    },
    {
     "name": "stderr",
     "output_type": "stream",
     "text": [
      "\r",
      " 19%|██████████████████████▎                                                                                                | 9/48 [00:00<00:02, 17.45it/s]"
     ]
    },
    {
     "name": "stderr",
     "output_type": "stream",
     "text": [
      "\r",
      " 23%|███████████████████████████                                                                                           | 11/48 [00:00<00:02, 17.83it/s]"
     ]
    },
    {
     "name": "stderr",
     "output_type": "stream",
     "text": [
      "\r",
      " 27%|███████████████████████████████▉                                                                                      | 13/48 [00:00<00:01, 18.08it/s]"
     ]
    },
    {
     "name": "stderr",
     "output_type": "stream",
     "text": [
      "\r",
      " 31%|████████████████████████████████████▉                                                                                 | 15/48 [00:00<00:01, 18.24it/s]"
     ]
    },
    {
     "name": "stderr",
     "output_type": "stream",
     "text": [
      "\r",
      " 35%|█████████████████████████████████████████▊                                                                            | 17/48 [00:00<00:01, 18.34it/s]"
     ]
    },
    {
     "name": "stderr",
     "output_type": "stream",
     "text": [
      "\r",
      " 40%|██████████████████████████████████████████████▋                                                                       | 19/48 [00:01<00:01, 18.42it/s]"
     ]
    },
    {
     "name": "stderr",
     "output_type": "stream",
     "text": [
      "\r",
      " 44%|███████████████████████████████████████████████████▋                                                                  | 21/48 [00:01<00:01, 18.48it/s]"
     ]
    },
    {
     "name": "stderr",
     "output_type": "stream",
     "text": [
      "\r",
      " 48%|████████████████████████████████████████████████████████▌                                                             | 23/48 [00:01<00:01, 18.52it/s]"
     ]
    },
    {
     "name": "stderr",
     "output_type": "stream",
     "text": [
      "\r",
      " 52%|█████████████████████████████████████████████████████████████▍                                                        | 25/48 [00:01<00:01, 18.53it/s]"
     ]
    },
    {
     "name": "stderr",
     "output_type": "stream",
     "text": [
      "\r",
      " 56%|██████████████████████████████████████████████████████████████████▍                                                   | 27/48 [00:01<00:01, 18.55it/s]"
     ]
    },
    {
     "name": "stderr",
     "output_type": "stream",
     "text": [
      "\r",
      " 60%|███████████████████████████████████████████████████████████████████████▎                                              | 29/48 [00:01<00:01, 18.56it/s]"
     ]
    },
    {
     "name": "stderr",
     "output_type": "stream",
     "text": [
      "\r",
      " 65%|████████████████████████████████████████████████████████████████████████████▏                                         | 31/48 [00:01<00:00, 18.58it/s]"
     ]
    },
    {
     "name": "stderr",
     "output_type": "stream",
     "text": [
      "\r",
      " 69%|█████████████████████████████████████████████████████████████████████████████████▏                                    | 33/48 [00:01<00:00, 18.57it/s]"
     ]
    },
    {
     "name": "stderr",
     "output_type": "stream",
     "text": [
      "\r",
      " 73%|██████████████████████████████████████████████████████████████████████████████████████                                | 35/48 [00:01<00:00, 18.58it/s]"
     ]
    },
    {
     "name": "stderr",
     "output_type": "stream",
     "text": [
      "\r",
      " 77%|██████████████████████████████████████████████████████████████████████████████████████████▉                           | 37/48 [00:02<00:00, 18.58it/s]"
     ]
    },
    {
     "name": "stderr",
     "output_type": "stream",
     "text": [
      "\r",
      " 81%|███████████████████████████████████████████████████████████████████████████████████████████████▉                      | 39/48 [00:02<00:00, 18.58it/s]"
     ]
    },
    {
     "name": "stderr",
     "output_type": "stream",
     "text": [
      "\r",
      " 85%|████████████████████████████████████████████████████████████████████████████████████████████████████▊                 | 41/48 [00:02<00:00, 18.61it/s]"
     ]
    },
    {
     "name": "stderr",
     "output_type": "stream",
     "text": [
      "\r",
      " 90%|█████████████████████████████████████████████████████████████████████████████████████████████████████████▋            | 43/48 [00:02<00:00, 18.62it/s]"
     ]
    },
    {
     "name": "stderr",
     "output_type": "stream",
     "text": [
      "\r",
      " 94%|██████████████████████████████████████████████████████████████████████████████████████████████████████████████▋       | 45/48 [00:02<00:00, 18.65it/s]"
     ]
    },
    {
     "name": "stderr",
     "output_type": "stream",
     "text": [
      "\r",
      " 98%|███████████████████████████████████████████████████████████████████████████████████████████████████████████████████▌  | 47/48 [00:02<00:00, 18.68it/s]"
     ]
    },
    {
     "name": "stderr",
     "output_type": "stream",
     "text": [
      "\r",
      "100%|██████████████████████████████████████████████████████████████████████████████████████████████████████████████████████| 48/48 [00:02<00:00, 17.78it/s]"
     ]
    },
    {
     "name": "stderr",
     "output_type": "stream",
     "text": [
      "\n"
     ]
    },
    {
     "name": "stdout",
     "output_type": "stream",
     "text": [
      "val - OK\n"
     ]
    },
    {
     "name": "stderr",
     "output_type": "stream",
     "text": [
      "\r",
      "  0%|                                                                                                                               | 0/41 [00:00<?, ?it/s]"
     ]
    },
    {
     "name": "stderr",
     "output_type": "stream",
     "text": [
      "\r",
      "  2%|██▉                                                                                                                    | 1/41 [00:00<00:04,  8.07it/s]"
     ]
    },
    {
     "name": "stderr",
     "output_type": "stream",
     "text": [
      "\r",
      "  7%|████████▋                                                                                                              | 3/41 [00:00<00:02, 13.81it/s]"
     ]
    },
    {
     "name": "stderr",
     "output_type": "stream",
     "text": [
      "\r",
      " 12%|██████████████▌                                                                                                        | 5/41 [00:00<00:02, 15.85it/s]"
     ]
    },
    {
     "name": "stderr",
     "output_type": "stream",
     "text": [
      "\r",
      " 17%|████████████████████▎                                                                                                  | 7/41 [00:00<00:02, 16.88it/s]"
     ]
    },
    {
     "name": "stderr",
     "output_type": "stream",
     "text": [
      "\r",
      " 22%|██████████████████████████                                                                                             | 9/41 [00:00<00:01, 17.44it/s]"
     ]
    },
    {
     "name": "stderr",
     "output_type": "stream",
     "text": [
      "\r",
      " 27%|███████████████████████████████▋                                                                                      | 11/41 [00:00<00:01, 17.81it/s]"
     ]
    },
    {
     "name": "stderr",
     "output_type": "stream",
     "text": [
      "\r",
      " 32%|█████████████████████████████████████▍                                                                                | 13/41 [00:00<00:01, 18.05it/s]"
     ]
    },
    {
     "name": "stderr",
     "output_type": "stream",
     "text": [
      "\r",
      " 37%|███████████████████████████████████████████▏                                                                          | 15/41 [00:00<00:01, 18.20it/s]"
     ]
    },
    {
     "name": "stderr",
     "output_type": "stream",
     "text": [
      "\r",
      " 41%|████████████████████████████████████████████████▉                                                                     | 17/41 [00:00<00:01, 18.30it/s]"
     ]
    },
    {
     "name": "stderr",
     "output_type": "stream",
     "text": [
      "\r",
      " 46%|██████████████████████████████████████████████████████▋                                                               | 19/41 [00:01<00:01, 18.37it/s]"
     ]
    },
    {
     "name": "stderr",
     "output_type": "stream",
     "text": [
      "\r",
      " 51%|████████████████████████████████████████████████████████████▍                                                         | 21/41 [00:01<00:01, 18.43it/s]"
     ]
    },
    {
     "name": "stderr",
     "output_type": "stream",
     "text": [
      "\r",
      " 56%|██████████████████████████████████████████████████████████████████▏                                                   | 23/41 [00:01<00:00, 18.48it/s]"
     ]
    },
    {
     "name": "stderr",
     "output_type": "stream",
     "text": [
      "\r",
      " 61%|███████████████████████████████████████████████████████████████████████▉                                              | 25/41 [00:01<00:00, 18.51it/s]"
     ]
    },
    {
     "name": "stderr",
     "output_type": "stream",
     "text": [
      "\r",
      " 66%|█████████████████████████████████████████████████████████████████████████████▋                                        | 27/41 [00:01<00:00, 18.53it/s]"
     ]
    },
    {
     "name": "stderr",
     "output_type": "stream",
     "text": [
      "\r",
      " 71%|███████████████████████████████████████████████████████████████████████████████████▍                                  | 29/41 [00:01<00:00, 18.54it/s]"
     ]
    },
    {
     "name": "stderr",
     "output_type": "stream",
     "text": [
      "\r",
      " 76%|█████████████████████████████████████████████████████████████████████████████████████████▏                            | 31/41 [00:01<00:00, 18.55it/s]"
     ]
    },
    {
     "name": "stderr",
     "output_type": "stream",
     "text": [
      "\r",
      " 80%|██████████████████████████████████████████████████████████████████████████████████████████████▉                       | 33/41 [00:01<00:00, 18.60it/s]"
     ]
    },
    {
     "name": "stderr",
     "output_type": "stream",
     "text": [
      "\r",
      " 85%|████████████████████████████████████████████████████████████████████████████████████████████████████▋                 | 35/41 [00:01<00:00, 18.64it/s]"
     ]
    },
    {
     "name": "stderr",
     "output_type": "stream",
     "text": [
      "\r",
      " 90%|██████████████████████████████████████████████████████████████████████████████████████████████████████████▍           | 37/41 [00:02<00:00, 18.68it/s]"
     ]
    },
    {
     "name": "stderr",
     "output_type": "stream",
     "text": [
      "\r",
      " 95%|████████████████████████████████████████████████████████████████████████████████████████████████████████████████▏     | 39/41 [00:02<00:00, 18.68it/s]"
     ]
    },
    {
     "name": "stderr",
     "output_type": "stream",
     "text": [
      "\r",
      "100%|██████████████████████████████████████████████████████████████████████████████████████████████████████████████████████| 41/41 [00:02<00:00, 18.87it/s]"
     ]
    },
    {
     "name": "stderr",
     "output_type": "stream",
     "text": [
      "\r",
      "100%|██████████████████████████████████████████████████████████████████████████████████████████████████████████████████████| 41/41 [00:02<00:00, 17.81it/s]"
     ]
    },
    {
     "name": "stderr",
     "output_type": "stream",
     "text": [
      "\n"
     ]
    },
    {
     "name": "stdout",
     "output_type": "stream",
     "text": [
      "test InD - OK\n"
     ]
    },
    {
     "name": "stderr",
     "output_type": "stream",
     "text": [
      "\r",
      "  0%|                                                                                                                               | 0/38 [00:00<?, ?it/s]"
     ]
    },
    {
     "name": "stderr",
     "output_type": "stream",
     "text": [
      "\r",
      "  3%|███▏                                                                                                                   | 1/38 [00:00<00:04,  7.63it/s]"
     ]
    },
    {
     "name": "stderr",
     "output_type": "stream",
     "text": [
      "\r",
      "  8%|█████████▍                                                                                                             | 3/38 [00:00<00:02, 13.46it/s]"
     ]
    },
    {
     "name": "stderr",
     "output_type": "stream",
     "text": [
      "\r",
      " 13%|███████████████▋                                                                                                       | 5/38 [00:00<00:02, 15.67it/s]"
     ]
    },
    {
     "name": "stderr",
     "output_type": "stream",
     "text": [
      "\r",
      " 18%|█████████████████████▉                                                                                                 | 7/38 [00:00<00:01, 16.77it/s]"
     ]
    },
    {
     "name": "stderr",
     "output_type": "stream",
     "text": [
      "\r",
      " 24%|████████████████████████████▏                                                                                          | 9/38 [00:00<00:01, 17.40it/s]"
     ]
    },
    {
     "name": "stderr",
     "output_type": "stream",
     "text": [
      "\r",
      " 29%|██████████████████████████████████▏                                                                                   | 11/38 [00:00<00:01, 17.78it/s]"
     ]
    },
    {
     "name": "stderr",
     "output_type": "stream",
     "text": [
      "\r",
      " 34%|████████████████████████████████████████▎                                                                             | 13/38 [00:00<00:01, 18.02it/s]"
     ]
    },
    {
     "name": "stderr",
     "output_type": "stream",
     "text": [
      "\r",
      " 39%|██████████████████████████████████████████████▌                                                                       | 15/38 [00:00<00:01, 18.18it/s]"
     ]
    },
    {
     "name": "stderr",
     "output_type": "stream",
     "text": [
      "\r",
      " 45%|████████████████████████████████████████████████████▊                                                                 | 17/38 [00:00<00:01, 18.30it/s]"
     ]
    },
    {
     "name": "stderr",
     "output_type": "stream",
     "text": [
      "\r",
      " 50%|███████████████████████████████████████████████████████████                                                           | 19/38 [00:01<00:01, 18.38it/s]"
     ]
    },
    {
     "name": "stderr",
     "output_type": "stream",
     "text": [
      "\r",
      " 55%|█████████████████████████████████████████████████████████████████▏                                                    | 21/38 [00:01<00:00, 18.44it/s]"
     ]
    },
    {
     "name": "stderr",
     "output_type": "stream",
     "text": [
      "\r",
      " 61%|███████████████████████████████████████████████████████████████████████▍                                              | 23/38 [00:01<00:00, 18.48it/s]"
     ]
    },
    {
     "name": "stderr",
     "output_type": "stream",
     "text": [
      "\r",
      " 66%|█████████████████████████████████████████████████████████████████████████████▋                                        | 25/38 [00:01<00:00, 18.52it/s]"
     ]
    },
    {
     "name": "stderr",
     "output_type": "stream",
     "text": [
      "\r",
      " 71%|███████████████████████████████████████████████████████████████████████████████████▊                                  | 27/38 [00:01<00:00, 18.53it/s]"
     ]
    },
    {
     "name": "stderr",
     "output_type": "stream",
     "text": [
      "\r",
      " 76%|██████████████████████████████████████████████████████████████████████████████████████████                            | 29/38 [00:01<00:00, 18.54it/s]"
     ]
    },
    {
     "name": "stderr",
     "output_type": "stream",
     "text": [
      "\r",
      " 82%|████████████████████████████████████████████████████████████████████████████████████████████████▎                     | 31/38 [00:01<00:00, 18.58it/s]"
     ]
    },
    {
     "name": "stderr",
     "output_type": "stream",
     "text": [
      "\r",
      " 87%|██████████████████████████████████████████████████████████████████████████████████████████████████████▍               | 33/38 [00:01<00:00, 18.61it/s]"
     ]
    },
    {
     "name": "stderr",
     "output_type": "stream",
     "text": [
      "\r",
      " 92%|████████████████████████████████████████████████████████████████████████████████████████████████████████████▋         | 35/38 [00:01<00:00, 18.64it/s]"
     ]
    },
    {
     "name": "stderr",
     "output_type": "stream",
     "text": [
      "\r",
      " 97%|██████████████████████████████████████████████████████████████████████████████████████████████████████████████████▉   | 37/38 [00:02<00:00, 18.64it/s]"
     ]
    },
    {
     "name": "stderr",
     "output_type": "stream",
     "text": [
      "\r",
      "100%|██████████████████████████████████████████████████████████████████████████████████████████████████████████████████████| 38/38 [00:02<00:00, 17.44it/s]"
     ]
    },
    {
     "name": "stdout",
     "output_type": "stream",
     "text": [
      "test OoD - OK\n"
     ]
    },
    {
     "name": "stderr",
     "output_type": "stream",
     "text": [
      "\n"
     ]
    }
   ],
   "source": [
    "# forward pass\n",
    "with torch.no_grad():\n",
    "    trn_inp = []\n",
    "    trn_e_u = []\n",
    "    trn_e_v = []\n",
    "    trn_rcn = []\n",
    "    trn_tgt = []\n",
    "\n",
    "    val_inp = []\n",
    "    val_e_u = []\n",
    "    val_e_v = []\n",
    "    val_rcn = []\n",
    "    val_tgt = []\n",
    "\n",
    "    ind_inp = []\n",
    "    ind_e_u = []\n",
    "    ind_e_v = []\n",
    "    ind_rcn = []\n",
    "    ind_tgt = []\n",
    "\n",
    "    if ood_str:\n",
    "        ood_inp = []\n",
    "        ood_e_u = []\n",
    "        ood_e_v = []\n",
    "        ood_rcn = []\n",
    "        ood_tgt = []\n",
    "\n",
    "    # train set (ind)\n",
    "    for batch_idx, batch in enumerate(tqdm(train_loader)):\n",
    "        x, y, *_ = batch\n",
    "        x = x.float().cuda()\n",
    "        (e_u, e_v), (n_u, n_v), rcn, _ = model(x)\n",
    "        trn_inp.extend(x.detach().cpu().numpy())\n",
    "        trn_e_u.extend(e_u.detach().cpu().numpy())\n",
    "        trn_e_v.extend(e_v.detach().cpu().numpy())\n",
    "        trn_rcn.extend(rcn.detach().cpu().numpy())\n",
    "        trn_tgt.extend(y.detach().cpu().numpy())\n",
    "    print(\"train - OK\")\n",
    "\n",
    "    # val set (ind)\n",
    "    for batch_idx, batch in enumerate(tqdm(val_loader)):\n",
    "        x, y, *_ = batch\n",
    "        x = x.float().cuda()\n",
    "        (e_u, e_v), (n_u, n_v), rcn, _ = model(x)\n",
    "        val_inp.extend(x.detach().cpu().numpy())\n",
    "        val_e_u.extend(e_u.detach().cpu().numpy())\n",
    "        val_e_v.extend(e_v.detach().cpu().numpy())\n",
    "        val_rcn.extend(rcn.detach().cpu().numpy())\n",
    "        val_tgt.extend(y.detach().cpu().numpy())\n",
    "    print(\"val - OK\")\n",
    "\n",
    "    # test set (ind)\n",
    "    for batch_idx, batch in enumerate(tqdm(test_loader)):\n",
    "        x, y, *_ = batch\n",
    "        x = x.float().cuda()\n",
    "        (e_u, e_v), (n_u, n_v), rcn, _ = model(x)\n",
    "        ind_inp.extend(x.detach().cpu().numpy())\n",
    "        ind_e_u.extend(e_u.detach().cpu().numpy())\n",
    "        ind_e_v.extend(e_v.detach().cpu().numpy())\n",
    "        ind_rcn.extend(rcn.detach().cpu().numpy())\n",
    "        ind_tgt.extend(y.detach().cpu().numpy())\n",
    "    print(\"test InD - OK\")\n",
    "\n",
    "    # predict set (ood)\n",
    "    if ood_str:\n",
    "        for batch_idx, batch in enumerate(tqdm(predict_loader)):\n",
    "            x, y, *_ = batch\n",
    "            x = x.float().cuda()\n",
    "            (e_u, e_v), (n_u, n_v), rcn, _ = model(x)\n",
    "            ood_inp.extend(x.detach().cpu().numpy())\n",
    "            ood_e_u.extend(e_u.detach().cpu().numpy())\n",
    "            ood_e_v.extend(e_v.detach().cpu().numpy())\n",
    "            ood_rcn.extend(rcn.detach().cpu().numpy())\n",
    "            ood_tgt.extend(y.detach().cpu().numpy())\n",
    "        print(\"test OoD - OK\")"
   ]
  },
  {
   "cell_type": "code",
   "execution_count": null,
   "id": "0ce2f20c-a3f7-4df4-9198-0ab9778db13c",
   "metadata": {
    "papermill": {
     "duration": null,
     "end_time": null,
     "exception": false,
     "start_time": "2024-03-15T17:28:10.217272",
     "status": "running"
    },
    "tags": []
   },
   "outputs": [],
   "source": [
    "# create numpy arrays\n",
    "trn_inp = np.array(trn_inp)\n",
    "trn_e_u = np.array(trn_e_u).squeeze()\n",
    "trn_e_v = np.array(trn_e_v).squeeze()\n",
    "trn_rcn = np.array(trn_rcn)\n",
    "trn_tgt = np.array(trn_tgt)\n",
    "np.savez_compressed(f\"{save_name}_trn.npz\", inp=trn_inp, e_u=trn_e_u, e_v=trn_e_v, rcn=trn_rcn, tgt=trn_tgt)\n",
    "\n",
    "val_inp = np.array(val_inp)\n",
    "val_e_u = np.array(val_e_u).squeeze()\n",
    "val_e_v = np.array(val_e_v).squeeze()\n",
    "val_rcn = np.array(val_rcn)\n",
    "val_tgt = np.array(val_tgt)\n",
    "np.savez_compressed(f\"{save_name}_val.npz\", inp=val_inp, e_u=val_e_u, e_v=val_e_v, rcn=val_rcn, tgt=val_tgt)\n",
    "\n",
    "ind_inp = np.array(ind_inp)\n",
    "ind_e_u = np.array(ind_e_u).squeeze()\n",
    "ind_e_v = np.array(ind_e_v).squeeze()\n",
    "ind_rcn = np.array(ind_rcn)\n",
    "ind_tgt = np.array(ind_tgt)\n",
    "np.savez_compressed(f\"{save_name}_ind.npz\", inp=ind_inp, e_u=ind_e_u, e_v=ind_e_v, rcn=ind_rcn, tgt=ind_tgt)\n",
    "\n",
    "if ood_str:\n",
    "    ood_inp = np.array(ood_inp)\n",
    "    ood_e_u = np.array(ood_e_u).squeeze()\n",
    "    ood_e_v = np.array(ood_e_v).squeeze()\n",
    "    ood_rcn = np.array(ood_rcn)\n",
    "    ood_tgt = np.array(ood_tgt)\n",
    "    np.savez_compressed(f\"{save_name}_ood.npz\", inp=ood_inp, e_u=ood_e_u, e_v=ood_e_v, rcn=ood_rcn, tgt=ood_tgt)\n",
    "\n",
    "ind_labels = [config.labels[i] for i in ind_tgt]\n",
    "if ood_str:\n",
    "    ood_labels = [config.labels[i] for i in ood_tgt]\n",
    "\n",
    "print(trn_inp.shape, trn_e_u.shape, trn_e_v.shape, trn_rcn.shape, trn_tgt.shape)\n",
    "print(val_inp.shape, val_e_u.shape, val_e_v.shape, val_rcn.shape, val_tgt.shape)\n",
    "print(ind_inp.shape, ind_e_u.shape, ind_e_v.shape, ind_rcn.shape, ind_tgt.shape)\n",
    "if ood_str:\n",
    "    print(ood_inp.shape, ood_e_u.shape, ood_e_v.shape, ood_rcn.shape, ood_tgt.shape)"
   ]
  },
  {
   "cell_type": "code",
   "execution_count": null,
   "id": "53741152-de1f-41a0-9173-2ac4f6c212d8",
   "metadata": {
    "papermill": {
     "duration": null,
     "end_time": null,
     "exception": null,
     "start_time": null,
     "status": "pending"
    },
    "tags": []
   },
   "outputs": [],
   "source": [
    "# create 2d embeddings\n",
    "n = ind_inp.shape[0]\n",
    "if ood_str:\n",
    "    all_e_u = np.concatenate([ind_e_u, ood_e_u], axis=0)\n",
    "    all_e_v = np.concatenate([ind_e_v, ood_e_v], axis=0)\n",
    "else:\n",
    "    all_e_u = ind_e_u\n",
    "    all_e_v = ind_e_v\n",
    "\n",
    "umap = UMAP(n_components=2, random_state=42)\n",
    "e_u2d = umap.fit_transform(all_e_u)\n",
    "ind_e_u2d = np.array(e_u2d[:n], order='C').astype(np.float32)\n",
    "ood_e_u2d = np.array(e_u2d[n:], order='C').astype(np.float32)\n",
    "print(ind_e_u2d.shape, ood_e_u2d.shape)\n",
    "\n",
    "umap = UMAP(n_components=2, random_state=42)\n",
    "e_v2d = umap.fit_transform(all_e_v)\n",
    "ind_e_v2d = np.array(e_v2d[:n], order='C').astype(np.float32)\n",
    "ood_e_v2d = np.array(e_v2d[n:], order='C').astype(np.float32)\n",
    "print(ind_e_v2d.shape, ood_e_v2d.shape)"
   ]
  },
  {
   "cell_type": "code",
   "execution_count": null,
   "id": "6b8e75a4-c869-4739-9fa3-3b72116b6463",
   "metadata": {
    "papermill": {
     "duration": null,
     "end_time": null,
     "exception": null,
     "start_time": null,
     "status": "pending"
    },
    "tags": []
   },
   "outputs": [],
   "source": [
    "# plot feature space\n",
    "ind_labels = [config.labels[i] for i in ind_tgt]\n",
    "df_emb2d = pd.DataFrame()\n",
    "u1, u2 = ind_e_u2d.T\n",
    "v1, v2 = ind_e_v2d.T\n",
    "df_emb2d = pd.concat([df_emb2d, pd.DataFrame(dict(u1=u1, u2=u2, v1=v1, v2=v2, label=ind_labels, source=\"ind\"))])\n",
    "\n",
    "if ood_str:\n",
    "    ood_labels = [config.labels[i] for i in ood_tgt]\n",
    "    u1, u2 = ood_e_u2d.T\n",
    "    v1, v2 = ood_e_v2d.T\n",
    "    df_emb2d = pd.concat([df_emb2d, pd.DataFrame(dict(u1=u1, u2=u2, v1=v1, v2=v2, label=ood_labels, source=\"ood\"))])\n",
    "\n",
    "fig, ((ax1, ax2), (ax3, ax4)) = plt.subplots(2, 2, figsize=(10, 10))\n",
    "fig.suptitle(f\"Feature Space - {dataset_name} - {model_name} - {ood_str}\")\n",
    "ax1.set_title(\"U - InD\")\n",
    "ax2.set_title(\"V - InD\")\n",
    "ax3.set_title(\"U - OoD\")\n",
    "ax4.set_title(\"V - OoD\")\n",
    "sns.scatterplot(data=df_emb2d[(df_emb2d['source'] == \"ind\")], x=\"u1\", y=\"u2\", hue=\"label\", s=5, ax=ax1)\n",
    "sns.scatterplot(data=df_emb2d[(df_emb2d['source'] == \"ind\")], x=\"v1\", y=\"v2\", hue=\"label\", s=5, ax=ax2)\n",
    "sns.scatterplot(data=df_emb2d[(df_emb2d['source'] == \"ood\")], x=\"u1\", y=\"u2\", hue=\"label\", s=5, ax=ax3)\n",
    "sns.scatterplot(data=df_emb2d[(df_emb2d['source'] == \"ood\")], x=\"v1\", y=\"v2\", hue=\"label\", s=5, ax=ax4)\n",
    "plt.tight_layout()\n",
    "plt.show()"
   ]
  },
  {
   "cell_type": "code",
   "execution_count": null,
   "id": "4f147cfe-6a83-444d-84b2-78228262f666",
   "metadata": {
    "papermill": {
     "duration": null,
     "end_time": null,
     "exception": null,
     "start_time": null,
     "status": "pending"
    },
    "tags": []
   },
   "outputs": [],
   "source": [
    "# plot knn distance from ind/ood to val data\n",
    "def plot_knn_dists(index_fn, ax, trn_data, val_data, ind_data, ood_data=None, k=5, scale=\"linspace\"):\n",
    "    stats = {}\n",
    "    index = index_fn(trn_data.shape[-1])\n",
    "    index.add(trn_data)\n",
    "    Dv = index.search(val_data, k)[0].mean(-1)\n",
    "    Di = index.search(ind_data, k)[0].mean(-1)\n",
    "    D = [Di]\n",
    "    T = [[0] * Di.shape[0]]\n",
    "    if ood_str:\n",
    "        Do = index.search(ood_data, k)[0].mean(-1)\n",
    "        D.append(Do)\n",
    "        T.append([1] * Do.shape[0]) \n",
    "    D = np.concatenate(D, axis=0)\n",
    "    T = np.concatenate(T, axis=0)\n",
    "    if scale == \"linspace\":\n",
    "        s, e = D.min(), D.max()\n",
    "        bins = np.linspace(s, e, 100)\n",
    "    if scale == \"logspace\":\n",
    "        s, e = np.log10(D.min() + 1e-7), np.log10(D.max())\n",
    "        bins = np.logspace(s, e, 100)\n",
    "    sns.histplot(Di, fill=True, label='ind', stat='probability', ax=ax, bins=bins)\n",
    "    prefix = \"\"\n",
    "    if ood_str:\n",
    "        Ci = np.histogram(Di, bins, density=True)[0]\n",
    "        Co = np.histogram(Do, bins, density=True)[0]\n",
    "        kld = entropy(Co + 1e-7, Ci + 1e-7)\n",
    "        emd = wasserstein_distance(Do, Di)\n",
    "        auc = roc_auc_score(T, D)\n",
    "        auc = max(auc, 1-auc)\n",
    "        sns.histplot(Do, fill=True, label='ood', stat='probability', ax=ax, bins=bins)\n",
    "        ax.set_title(f\"KL={kld:.4f} EMD={emd:.4f}, AUC={auc:.4f}\")\n",
    "        stats.update(dict(kld=kld, emd=emd, auc=auc, val_data=Dv.tolist(), ind_data=Di.tolist(), ood_data=Do.tolist()))\n",
    "        \n",
    "    if scale == \"logspace\":\n",
    "        ax.set_xscale('log')\n",
    "    ax.legend()\n",
    "    return stats\n",
    "\n",
    "fig, axs = plt.subplots(nrows=1, ncols=4, figsize=(20, 5))\n",
    "fig.suptitle(f\"KNN Distance (K=5) - {dataset_name} - {model_name} - {ood_str}\")\n",
    "run_stats[\"knn_u_l2\"] = plot_knn_dists(faiss.IndexFlatL2, axs[0], trn_e_u, val_e_u, ind_e_u, ood_e_u if ood_str else None, scale=\"logspace\")\n",
    "axs[0].set_xlabel(\"U - L2\")\n",
    "run_stats[\"knn_u_ip\"] = plot_knn_dists(faiss.IndexFlatIP, axs[1], trn_e_u, val_e_u, ind_e_u, ood_e_u if ood_str else None, scale=\"linspace\")\n",
    "axs[1].set_xlabel(\"U - IP\")\n",
    "run_stats[\"knn_v_l2\"] = plot_knn_dists(faiss.IndexFlatL2, axs[2], trn_e_v, val_e_v, ind_e_v, ood_e_v if ood_str else None, scale=\"logspace\")\n",
    "axs[2].set_xlabel(\"V - L2\")\n",
    "run_stats[\"knn_v_ip\"] = plot_knn_dists(faiss.IndexFlatIP, axs[3], trn_e_v, val_e_v, ind_e_v, ood_e_v if ood_str else None, scale=\"linspace\")\n",
    "axs[3].set_xlabel(\"V - IP\")\n",
    "plt.tight_layout()\n",
    "plt.show()"
   ]
  },
  {
   "cell_type": "code",
   "execution_count": null,
   "id": "2dd8919d-b2cd-4f36-a310-4d163f430719",
   "metadata": {
    "papermill": {
     "duration": null,
     "end_time": null,
     "exception": null,
     "start_time": null,
     "status": "pending"
    },
    "tags": []
   },
   "outputs": [],
   "source": [
    "# plot reconstruction-based ood metrics\n",
    "def plot_rcn(val_rcn, ind_rcn, ood_rcn, ax, scale=\"linspace\"):\n",
    "    stats = {}\n",
    "    D = ind_rcn\n",
    "    if ood_str:\n",
    "        D = np.concatenate([ind_rcn, ood_rcn], axis=0)\n",
    "    if scale == \"linspace\":\n",
    "        s, e = D.min(), D.max()\n",
    "        bins = np.linspace(s, e, 100)\n",
    "    if scale == \"logspace\":\n",
    "        s, e = np.log10(D.min() + 1e-7), np.log10(D.max())\n",
    "        bins = np.logspace(s, e, 100)\n",
    "    sns.histplot(ind_rcn, label=\"ind\", stat=\"probability\", bins=bins, ax=ax)\n",
    "    if ood_str:\n",
    "        sns.histplot(ood_rcn, label=\"ood\", stat=\"probability\", bins=bins, ax=ax)\n",
    "        T = np.concatenate([[0]*ind_rcn.shape[0],[1]*ood_rcn.shape[0]], axis=0)\n",
    "        Ci = np.histogram(ind_rcn, bins, density=True)[0]\n",
    "        Co = np.histogram(ood_rcn, bins, density=True)[0]\n",
    "        kld = entropy(Co + 1e-7, Ci + 1e-7)\n",
    "        emd = wasserstein_distance(ood_rcn, ind_rcn)\n",
    "        auc = roc_auc_score(T, D)\n",
    "        auc = max(auc, 1-auc)\n",
    "        ax.set_title(f\"KL={kld:.4f}, EMD={emd:.4f}, AUC={auc:.4f}\")\n",
    "        stats.update(dict(kld=kld, emd=emd, auc=auc, val_data=val_rcn.tolist(), ind_data=ind_rcn.tolist(), ood_data=ood_rcn.tolist()))\n",
    "    if scale == \"logspace\":\n",
    "        ax.set_xscale(\"log\")\n",
    "    ax.legend()\n",
    "    return stats\n",
    "\n",
    "flatten = lambda x: x.reshape((x.shape[0], -1))\n",
    "unit = lambda x: x / (np.linalg.norm(x, axis=-1, keepdims=True) + 1e-7)\n",
    "\n",
    "\n",
    "# training data\n",
    "_val_inp, _val_rcn = flatten(val_inp), flatten(val_rcn)\n",
    "_val_inp_unit, _val_rcn_unit = unit(_val_inp), unit(_val_rcn)\n",
    "# metrics\n",
    "val_rcn_l2 = ((_val_inp - _val_rcn) ** 2).mean(-1)\n",
    "val_rcn_ip = (_val_inp_unit * _val_rcn_unit).sum(-1)\n",
    "\n",
    "# ind test data\n",
    "_ind_inp, _ind_rcn = flatten(ind_inp), flatten(ind_rcn)\n",
    "_ind_inp_unit, _ind_rcn_unit = unit(_ind_inp), unit(_ind_rcn)\n",
    "# metrics\n",
    "ind_rcn_l2 = ((_ind_inp - _ind_rcn) ** 2).mean(-1)\n",
    "ind_rcn_ip = (_ind_inp_unit * _ind_rcn_unit).sum(-1)\n",
    "\n",
    "if ood_str:\n",
    "    # ood test data\n",
    "    _ood_inp, _ood_rcn = flatten(ood_inp), flatten(ood_rcn)\n",
    "    _ood_inp_unit, _ood_rcn_unit = unit(_ood_inp), unit(_ood_rcn)\n",
    "    # metrics\n",
    "    ood_rcn_l2 = ((_ood_inp - _ood_rcn) ** 2).mean(-1)\n",
    "    ood_rcn_ip = (_ood_inp_unit * _ood_rcn_unit).sum(-1)\n",
    "\n",
    "fig, (ax1, ax2) = plt.subplots(nrows=1, ncols=2, figsize=(10, 5))\n",
    "run_stats[\"rcn_l2\"] = plot_rcn(val_rcn_l2, ind_rcn_l2, ood_rcn_l2 if ood_str else None, ax1, scale=\"logspace\")\n",
    "ax1.set_xlabel(\"L2\")\n",
    "run_stats[\"rcn_ip\"] = plot_rcn(val_rcn_ip, ind_rcn_ip, ood_rcn_ip if ood_str else None, ax2, scale=\"linspace\")\n",
    "ax2.set_xlabel(\"IP\")\n",
    "plt.suptitle(f\"Reconstruction L2 and IP (InD vs OoD) - {dataset_name} - {model_name} - {ood_str}\")\n",
    "plt.tight_layout()\n",
    "plt.show()"
   ]
  },
  {
   "cell_type": "code",
   "execution_count": null,
   "id": "cf02d295-02a6-44fc-89aa-cc5a011d4fd3",
   "metadata": {
    "papermill": {
     "duration": null,
     "end_time": null,
     "exception": null,
     "start_time": null,
     "status": "pending"
    },
    "tags": []
   },
   "outputs": [],
   "source": [
    "# compute vector norms\n",
    "trn_n_u = np.linalg.norm(trn_e_u, axis=-1)\n",
    "trn_n_v = np.linalg.norm(trn_e_v, axis=-1)\n",
    "val_n_u = np.linalg.norm(val_e_u, axis=-1)\n",
    "val_n_v = np.linalg.norm(val_e_v, axis=-1)\n",
    "ind_n_u = np.linalg.norm(ind_e_u, axis=-1)\n",
    "ind_n_v = np.linalg.norm(ind_e_v, axis=-1)\n",
    "\n",
    "if ood_str:\n",
    "    ood_n_u = np.linalg.norm(ood_e_u, axis=-1)\n",
    "    ood_n_v = np.linalg.norm(ood_e_v, axis=-1)\n",
    "\n",
    "run_stats[\"norm_u\"] = dict(val_data=val_n_u.tolist(), ind_data=ind_n_u.tolist(), ood_data=ood_n_u.tolist() if ood_str else None)\n",
    "run_stats[\"norm_v\"] = dict(val_data=val_n_v.tolist(), ind_data=ind_n_v.tolist(), ood_data=ood_n_v.tolist() if ood_str else None)"
   ]
  },
  {
   "cell_type": "code",
   "execution_count": null,
   "id": "d909ac7c-9c2d-4115-90b7-0fa6c58f9b09",
   "metadata": {
    "papermill": {
     "duration": null,
     "end_time": null,
     "exception": null,
     "start_time": null,
     "status": "pending"
    },
    "tags": []
   },
   "outputs": [],
   "source": [
    "# plot pointwise ood metrics\n",
    "df_trn = pd.DataFrame(dict(n_u=trn_n_u, n_v=trn_n_v, ratio=trn_n_v/trn_n_u, prod=trn_n_v*trn_n_u, target=trn_tgt))\n",
    "df_val = pd.DataFrame(dict(n_u=val_n_u, n_v=val_n_v, ratio=val_n_v/val_n_u, prod=val_n_v*val_n_u, target=val_tgt))\n",
    "df_ind = pd.DataFrame(dict(n_u=ind_n_u, n_v=ind_n_v, ratio=ind_n_v/ind_n_u, prod=ind_n_v*ind_n_u, target=ind_tgt))\n",
    "if ood_str:\n",
    "    df_ood = pd.DataFrame(dict(n_u=ood_n_u, n_v=ood_n_v, ratio=ood_n_v/ood_n_u, prod=ood_n_v*ood_n_u, target=ood_tgt))\n",
    "\n",
    "fig, (ax1, ax2, ax3, ax4) = plt.subplots(1, 4, figsize = (15, 5))\n",
    "fig.suptitle(f\"Point OOD - {dataset_name} - {model_name} - {ood_str}\")\n",
    "\n",
    "def plot_row(prop, ax):\n",
    "    sns.histplot(data=df_trn, x=prop, log_scale=True, fill=True, label='trn', stat='probability', ax=ax)\n",
    "    sns.histplot(data=df_val, x=prop, log_scale=True, fill=True, label='val', stat='probability', ax=ax)\n",
    "    sns.histplot(data=df_ind, x=prop, log_scale=True, fill=True, label='ind', stat='probability', ax=ax)\n",
    "    if ood_str:\n",
    "        sns.histplot(data=df_ood, x=prop, log_scale=True, fill=True, label='ood', stat='probability', ax=ax)\n",
    "    ax.legend()\n",
    "\n",
    "plot_row(\"n_u\", ax1)\n",
    "plot_row(\"n_v\", ax2)\n",
    "plot_row(\"ratio\", ax3)\n",
    "plot_row(\"prod\", ax4)\n",
    "ax1.title.set_text('||U||')\n",
    "ax2.title.set_text('||V||')\n",
    "ax3.title.set_text('||V||/||U||')\n",
    "ax4.title.set_text('||V||*||U||')\n",
    "\n",
    "plt.tight_layout()\n",
    "plt.show()"
   ]
  },
  {
   "cell_type": "code",
   "execution_count": null,
   "id": "ad2134c8-6ffa-4140-baee-fabdb56422aa",
   "metadata": {
    "papermill": {
     "duration": null,
     "end_time": null,
     "exception": null,
     "start_time": null,
     "status": "pending"
    },
    "tags": []
   },
   "outputs": [],
   "source": [
    "# organize data by class, aggregate groupwise\n",
    "if ood_str:\n",
    "    df_tst = pd.concat([df_ind, df_ood], axis=0)\n",
    "else:\n",
    "    df_tst = df_ind\n",
    "\n",
    "all_targets = list(df_tst['target'].unique())\n",
    "K = len(all_targets)\n",
    "N = 128\n",
    "rw, rh = 2, 0.75\n",
    "colors = sns.color_palette(n_colors=K)\n",
    "\n",
    "pointwise_trn = {}\n",
    "pointwise_val = {}\n",
    "pointwise_tst = {}\n",
    "\n",
    "groupwise_trn = {}\n",
    "groupwise_val = {}\n",
    "groupwise_tst = {}\n",
    "\n",
    "for i in range(K):\n",
    "    _trn = df_trn[df_trn['target'] == all_targets[i]]\n",
    "    _val = df_val[df_val['target'] == all_targets[i]]\n",
    "    _tst = df_tst[df_tst['target'] == all_targets[i]]\n",
    "    pointwise_trn[i] = _trn.copy()\n",
    "    pointwise_val[i] = _val.copy()\n",
    "    pointwise_tst[i] = _tst.copy()\n",
    "    groupwise_trn[i] = _trn.rolling(N).agg(['mean', 'std']).dropna().copy()\n",
    "    groupwise_val[i] = _val.rolling(N).agg(['mean', 'std']).dropna().copy()\n",
    "    groupwise_tst[i] = _tst.rolling(N).agg(['mean', 'std']).dropna().copy()\n"
   ]
  },
  {
   "cell_type": "code",
   "execution_count": null,
   "id": "93f75b79-9d54-4c1d-a77d-9510bf01b8a3",
   "metadata": {
    "papermill": {
     "duration": null,
     "end_time": null,
     "exception": null,
     "start_time": null,
     "status": "pending"
    },
    "tags": []
   },
   "outputs": [],
   "source": [
    "# plot per-class pointwise ood metrics\n",
    "fig, axs = plt.subplots(K, 6, figsize=(6*rw, K*rh+2), sharex='col', sharey='row')\n",
    "fig.suptitle(f\"Point OOD - Classwise - {dataset_name} - {model_name} - {ood_str}\")\n",
    "\n",
    "for i in range(K):\n",
    "    _trn = pointwise_trn[i]\n",
    "    _val = pointwise_val[i]\n",
    "    _tst = pointwise_tst[i]\n",
    "    _tgt = all_targets[i]\n",
    "    _label = config.labels[_tgt]\n",
    "    _hue = colors[i]\n",
    "    (ax1, ax2, ax3, ax4, ax5, ax6) = axs[i]\n",
    "    ax1.set_ylabel(_label)\n",
    "    if len(_trn) > 0:\n",
    "        sns.histplot(data=_trn, x=\"n_u\", fill=True, legend=False, color=_hue, stat='probability', ax=ax1)\n",
    "        sns.histplot(data=_trn, x=\"n_v\", fill=True, legend=False, color=_hue, stat='probability', ax=ax2)\n",
    "    if len(_val) > 0:\n",
    "        sns.histplot(data=_val, x=\"n_u\", fill=True, legend=False, color=_hue, stat='probability', ax=ax3)\n",
    "        sns.histplot(data=_val, x=\"n_v\", fill=True, legend=False, color=_hue, stat='probability', ax=ax4)\n",
    "    if len(_tst) > 0:\n",
    "        sns.histplot(data=_tst, x=\"n_u\", fill=True, legend=False, color=_hue, stat='probability', ax=ax5)\n",
    "        sns.histplot(data=_tst, x=\"n_v\", fill=True, legend=False, color=_hue, stat='probability', ax=ax6)\n",
    "\n",
    "axs[0][0].title.set_text('|U| (trn)')\n",
    "axs[0][1].title.set_text('|V| (trn)')\n",
    "axs[0][2].title.set_text('|U| (val)')\n",
    "axs[0][3].title.set_text('|V| (val)')\n",
    "axs[0][4].title.set_text('|U| (tst)')\n",
    "axs[0][5].title.set_text('|V| (tst)')\n",
    "\n",
    "plt.tight_layout()\n",
    "plt.show()"
   ]
  },
  {
   "cell_type": "code",
   "execution_count": null,
   "id": "bdfe9aeb-4120-43c4-bb50-34c132f9a643",
   "metadata": {
    "papermill": {
     "duration": null,
     "end_time": null,
     "exception": null,
     "start_time": null,
     "status": "pending"
    },
    "tags": []
   },
   "outputs": [],
   "source": [
    "# plot per-class groupwise ood metrics\n",
    "fig, axs = plt.subplots(K, 6, figsize = (6*rw, K*rh+2), sharex='col', sharey='row')\n",
    "fig.suptitle(f\"Group OOD - Classwise - {dataset_name} - {model_name} - {ood_str}\")\n",
    "\n",
    "for i in all_targets:\n",
    "    _trn = groupwise_trn[i]\n",
    "    _val = groupwise_val[i]\n",
    "    _tst = groupwise_tst[i]\n",
    "    _tgt = all_targets[i]\n",
    "    _label = config.labels[_tgt]\n",
    "    _hue = colors[i]\n",
    "    (ax1, ax2, ax3, ax4, ax5, ax6) = axs[i]\n",
    "    ax1.set_ylabel(_label)\n",
    "    if len(_trn) > 0:\n",
    "        sns.histplot(data=_trn.n_u, x=\"mean\", fill=True, legend=False, color=_hue, stat='probability', ax=ax1)\n",
    "        sns.histplot(data=_trn.n_v, x=\"mean\", fill=True, legend=False, color=_hue, stat='probability', ax=ax2)\n",
    "    if len(_val) > 0:\n",
    "        sns.histplot(data=_val.n_u, x=\"mean\", fill=True, legend=False, color=_hue, stat='probability', ax=ax3)\n",
    "        sns.histplot(data=_val.n_v, x=\"mean\", fill=True, legend=False, color=_hue, stat='probability', ax=ax4)\n",
    "    if len(_tst) > 0:\n",
    "        sns.histplot(data=_tst.n_u, x=\"mean\", fill=True, legend=False, color=_hue, stat='probability', ax=ax5)\n",
    "        sns.histplot(data=_tst.n_v, x=\"mean\", fill=True, legend=False, color=_hue, stat='probability', ax=ax6)\n",
    "\n",
    "axs[0][0].title.set_text('|U| (trn)')\n",
    "axs[0][1].title.set_text('|V| (trn)')\n",
    "axs[0][2].title.set_text('|U| (val)')\n",
    "axs[0][3].title.set_text('|V| (val)')\n",
    "axs[0][4].title.set_text('|U| (tst)')\n",
    "axs[0][5].title.set_text('|V| (tst)')\n",
    "\n",
    "plt.tight_layout()\n",
    "plt.show()"
   ]
  },
  {
   "cell_type": "code",
   "execution_count": null,
   "id": "9a427332-e3d7-4604-97f4-9622c52b51d1",
   "metadata": {
    "papermill": {
     "duration": null,
     "end_time": null,
     "exception": null,
     "start_time": null,
     "status": "pending"
    },
    "tags": []
   },
   "outputs": [],
   "source": [
    "run_stats.update(dict(dataset_name=dataset_name, model_name=model_name, ood=ood))\n",
    "import gzip\n",
    "import pickle\n",
    "with gzip.open(f\"{save_name}_stats.gz\", \"wb\") as f:\n",
    "    pickle.dump(run_stats, f)"
   ]
  },
  {
   "cell_type": "code",
   "execution_count": null,
   "id": "8f1af6bc-6114-459e-b80c-bfc0e8e1def8",
   "metadata": {
    "papermill": {
     "duration": null,
     "end_time": null,
     "exception": null,
     "start_time": null,
     "status": "pending"
    },
    "tags": []
   },
   "outputs": [],
   "source": []
  }
 ],
 "metadata": {
  "kernelspec": {
   "display_name": "robustml",
   "language": "python",
   "name": "robustml"
  },
  "language_info": {
   "codemirror_mode": {
    "name": "ipython",
    "version": 3
   },
   "file_extension": ".py",
   "mimetype": "text/x-python",
   "name": "python",
   "nbconvert_exporter": "python",
   "pygments_lexer": "ipython3",
   "version": "3.11.8"
  },
  "papermill": {
   "default_parameters": {},
   "duration": null,
   "end_time": null,
   "environment_variables": {},
   "exception": null,
   "input_path": "templates/flow_ss_vcr_mse.ipynb",
   "output_path": "notebooks/eval_flow_ss_vcr_mse_mnist_B.ipynb",
   "parameters": {
    "dataset_name": "MNIST",
    "ood": "5:6:7:8:9"
   },
   "start_time": "2024-03-15T17:27:07.922430",
   "version": "2.5.0"
  },
  "toc-showtags": false
 },
 "nbformat": 4,
 "nbformat_minor": 5
}