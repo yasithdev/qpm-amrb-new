{
 "cells": [
  {
   "cell_type": "code",
   "execution_count": 21,
   "id": "d7fb0bef-d915-457c-82d4-296fd2472d79",
   "metadata": {},
   "outputs": [],
   "source": [
    "import glob\n",
    "import numpy as np\n",
    "import gzip as gz\n",
    "import pickle\n",
    "from pathlib import Path\n",
    "from scipy.io import savemat\n",
    "import pandas as pd\n",
    "from tqdm import tqdm\n",
    "import h5py"
   ]
  },
  {
   "cell_type": "code",
   "execution_count": 22,
   "id": "668523df-c6b0-4ae2-b88a-23a064b4206c",
   "metadata": {},
   "outputs": [],
   "source": [
    "base_path = Path(\"assets/results\")\n",
    "cl = [\"resnet_ce_mse\", \"resnet_edl_mse\", \"resnet50_vicreg_ce\"]\n",
    "en = [\"flow_ss_vcr_mse\", \"resnet_mse\"]\n",
    "ood_maps = dict(\n",
    "    CIFAR10=     {\"F\": \"\", \"A\": \"5:6:7:8:9\", \"B\": \"0:1:2:3:4\"},\n",
    "    MNIST=       {\"F\": \"\", \"A\": \"5:6:7:8:9\", \"B\": \"0:1:2:3:4\"},\n",
    "    QPM_species= {\"F\": \"\", \"A\": \"1:4\",       \"B\": \"0:2:3\"    },\n",
    "    QPM2_species={\"F\": \"\", \"A\": \"2:3\",       \"B\": \"0:1\"      },\n",
    "    rbc_phase=   {\"F\": \"\", \"A\": \"1\",         \"B\": \"0\"        },\n",
    "    rbc2_phase=  {\"F\": \"\", \"A\": \"1\",         \"B\": \"0\"        },\n",
    ")\n",
    "datasets = dict(\n",
    "    CIFAR10=     [(\"F\", cl + en), (\"A\", cl + en), (\"B\", cl + en)],\n",
    "    MNIST=       [(\"F\", cl + en), (\"A\", cl + en), (\"B\", cl + en)],\n",
    "    QPM_species= [(\"F\", cl + en), (\"A\", cl + en), (\"B\", cl + en)],\n",
    "    QPM2_species=[(\"F\", cl + en), (\"A\", cl + en), (\"B\", cl + en)],\n",
    "    rbc_phase=   [(\"F\", cl + en), (\"A\", en), (\"B\", en)],\n",
    "    rbc2_phase=  [(\"F\", cl + en), (\"A\", en), (\"B\", en)],\n",
    ")"
   ]
  },
  {
   "cell_type": "code",
   "execution_count": 26,
   "id": "376d3c12-6b88-4acf-a2b5-082fb1dd117a",
   "metadata": {},
   "outputs": [],
   "source": [
    "def to_dict(npz):\n",
    "    cols = {}\n",
    "    for name in npz.files:\n",
    "        data = npz[name]\n",
    "        cols[name] = data\n",
    "    return cols\n",
    "\n",
    "def gen_dataframes(dataset: str, vartype: str):\n",
    "\n",
    "    ood_map = ood_maps[dataset]\n",
    "    runs = [(ood, model) for (ood, models) in datasets[dataset] for model in models]\n",
    "\n",
    "    if vartype == \"val\":\n",
    "        for (ood, model) in tqdm(runs):\n",
    "            data = np.load(base_path / dataset / model / f\"{ood_map[ood]}_val.npz\")\n",
    "            yield (ood, model, to_dict(data))\n",
    "\n",
    "    elif vartype == \"ind\":\n",
    "        for (ood, model) in tqdm(runs):\n",
    "            data = np.load(base_path / dataset / model / f\"{ood_map[ood]}_ind.npz\")\n",
    "            yield (ood, model, to_dict(data))\n",
    "\n",
    "    elif vartype == \"ood\":\n",
    "        for (ood, model) in tqdm(runs):\n",
    "            if not ood_map[ood]: continue\n",
    "            data = np.load(base_path / dataset / model / f\"{ood_map[ood]}_ood.npz\")\n",
    "            yield (ood, model, to_dict(data))\n",
    "\n",
    "    elif vartype == \"stat\":\n",
    "        for (ood, model) in tqdm(runs):\n",
    "            with gz.open(base_path / dataset / model / f\"{ood_map[ood]}_stats.gz\", \"rb\") as f:\n",
    "                data = pickle.load(f)\n",
    "            yield (ood, model, to_dict(data))\n",
    "\n",
    "    else:\n",
    "        raise ValueError(vartype)"
   ]
  },
  {
   "cell_type": "code",
   "execution_count": 27,
   "id": "aaa2f7d5-a7d9-4039-9220-0d58e98d5995",
   "metadata": {},
   "outputs": [
    {
     "name": "stdout",
     "output_type": "stream",
     "text": [
      "CIFAR10\n"
     ]
    },
    {
     "name": "stderr",
     "output_type": "stream",
     "text": [
      "100%|██████████| 15/15 [02:35<00:00, 10.34s/it]\n",
      "100%|██████████| 15/15 [02:34<00:00, 10.29s/it]\n",
      "100%|██████████| 15/15 [01:17<00:00,  5.14s/it]\n"
     ]
    },
    {
     "name": "stdout",
     "output_type": "stream",
     "text": [
      "MNIST\n"
     ]
    },
    {
     "name": "stderr",
     "output_type": "stream",
     "text": [
      "100%|██████████| 15/15 [02:15<00:00,  9.04s/it]\n",
      "100%|██████████| 15/15 [01:53<00:00,  7.57s/it]\n",
      "100%|██████████| 15/15 [00:46<00:00,  3.07s/it]\n"
     ]
    },
    {
     "name": "stdout",
     "output_type": "stream",
     "text": [
      "QPM_species\n"
     ]
    },
    {
     "name": "stderr",
     "output_type": "stream",
     "text": [
      "100%|██████████| 15/15 [22:23<00:00, 89.57s/it] \n",
      "100%|██████████| 15/15 [09:06<00:00, 36.43s/it]\n",
      "100%|██████████| 15/15 [04:48<00:00, 19.26s/it]\n"
     ]
    },
    {
     "name": "stdout",
     "output_type": "stream",
     "text": [
      "QPM2_species\n"
     ]
    },
    {
     "name": "stderr",
     "output_type": "stream",
     "text": [
      "100%|██████████| 15/15 [30:19<00:00, 121.27s/it]\n",
      "100%|██████████| 15/15 [49:44<00:00, 198.94s/it] \n",
      "100%|██████████| 15/15 [24:06<00:00, 96.44s/it] \n"
     ]
    },
    {
     "name": "stdout",
     "output_type": "stream",
     "text": [
      "rbc_phase\n"
     ]
    },
    {
     "name": "stderr",
     "output_type": "stream",
     "text": [
      "100%|██████████| 9/9 [00:25<00:00,  2.79s/it]\n",
      "100%|██████████| 9/9 [00:22<00:00,  2.54s/it]\n",
      "100%|██████████| 9/9 [00:30<00:00,  3.37s/it]\n"
     ]
    },
    {
     "name": "stdout",
     "output_type": "stream",
     "text": [
      "rbc2_phase\n"
     ]
    },
    {
     "name": "stderr",
     "output_type": "stream",
     "text": [
      "100%|██████████| 9/9 [00:18<00:00,  2.04s/it]\n",
      "100%|██████████| 9/9 [00:26<00:00,  2.95s/it]\n",
      "100%|██████████| 9/9 [00:28<00:00,  3.21s/it]\n"
     ]
    }
   ],
   "source": [
    "for dataset in datasets:\n",
    "    print(dataset)\n",
    "    \n",
    "    for (ood, model, data) in gen_dataframes(dataset, vartype=\"val\"):\n",
    "        with h5py.File(base_path / dataset / model / f\"val_{ood}.h5\", \"w\") as f:\n",
    "            for k, v in data.items():\n",
    "                dset = f.create_dataset(k, data=v, compression=\"gzip\", compression_opts=9)\n",
    "    \n",
    "    for (ood, model, data) in gen_dataframes(dataset, vartype=\"ind\"):\n",
    "        with h5py.File(base_path / dataset / model / f\"ind_{ood}.h5\", \"w\") as f:\n",
    "            for k, v in data.items():\n",
    "                dset = f.create_dataset(k, data=v, compression=\"gzip\", compression_opts=9)\n",
    "    \n",
    "    for (ood, model, data) in gen_dataframes(dataset, vartype=\"ood\"):\n",
    "        with h5py.File(base_path / dataset / model / f\"ood_{ood}.h5\", \"w\") as f:\n",
    "            for k, v in data.items():\n",
    "                dset = f.create_dataset(k, data=v, compression=\"gzip\", compression_opts=9)"
   ]
  },
  {
   "cell_type": "code",
   "execution_count": null,
   "id": "7e390c2e-c6f8-4875-8bf3-2bb99a266a3b",
   "metadata": {},
   "outputs": [],
   "source": []
  }
 ],
 "metadata": {
  "kernelspec": {
   "display_name": "robustml",
   "language": "python",
   "name": "robustml"
  },
  "language_info": {
   "codemirror_mode": {
    "name": "ipython",
    "version": 3
   },
   "file_extension": ".py",
   "mimetype": "text/x-python",
   "name": "python",
   "nbconvert_exporter": "python",
   "pygments_lexer": "ipython3",
   "version": "3.11.6"
  }
 },
 "nbformat": 4,
 "nbformat_minor": 5
}
