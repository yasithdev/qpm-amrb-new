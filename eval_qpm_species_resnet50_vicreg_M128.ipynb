{
 "cells": [
  {
   "cell_type": "code",
   "execution_count": 1,
   "id": "65170af1-f93c-47d0-8314-5f7d6a8f26de",
   "metadata": {},
   "outputs": [
    {
     "name": "stdout",
     "output_type": "stream",
     "text": [
      "env: DATA_DIR=$HOME/datasets\n",
      "env: LOG_LEVEL=INFO\n",
      "env: BATCH_SIZE=64\n",
      "env: OPTIM_LR=0.001\n",
      "env: OPTIM_M=0.8\n",
      "env: TRAIN_EPOCHS=100\n",
      "env: EXC_RESUME=1\n",
      "env: DATASET_NAME=QPM_species\n",
      "env: EMB_DIMS=128\n",
      "env: MODEL_NAME=resnet50_vicreg\n"
     ]
    }
   ],
   "source": [
    "%env DATA_DIR=$HOME/datasets\n",
    "%env LOG_LEVEL=INFO\n",
    "%env BATCH_SIZE=64\n",
    "%env OPTIM_LR=0.001\n",
    "%env OPTIM_M=0.8\n",
    "%env TRAIN_EPOCHS=100\n",
    "%env EXC_RESUME=1\n",
    "%env DATASET_NAME=QPM_species\n",
    "%env EMB_DIMS=128\n",
    "%env MODEL_NAME=resnet50_vicreg\n",
    "# %env OOD=4"
   ]
  },
  {
   "cell_type": "code",
   "execution_count": 2,
   "id": "8deaa0b2-f1b8-4260-93ac-a5200671e71a",
   "metadata": {},
   "outputs": [
    {
     "name": "stderr",
     "output_type": "stream",
     "text": [
      "/n/home12/yasith/.conda/envs/qpm-amrb/lib/python3.10/site-packages/tqdm/auto.py:21: TqdmWarning: IProgress not found. Please update jupyter and ipywidgets. See https://ipywidgets.readthedocs.io/en/stable/user_install.html\n",
      "  from .autonotebook import tqdm as notebook_tqdm\n"
     ]
    }
   ],
   "source": [
    "import lightning.pytorch as pl\n",
    "import numpy as np\n",
    "import torch\n",
    "from lightning.pytorch.callbacks import ModelCheckpoint\n",
    "from lightning.pytorch.loggers.wandb import WandbLogger\n",
    "\n",
    "from config import Config, load_config\n",
    "from datasets import get_data\n",
    "from models import get_model\n",
    "\n",
    "model_id = \"90yyjwtz\""
   ]
  },
  {
   "cell_type": "code",
   "execution_count": 3,
   "id": "b98946be-7579-4abc-a46d-64004a8b8a10",
   "metadata": {},
   "outputs": [],
   "source": [
    "# initialize the RNG deterministically\n",
    "np.random.seed(42)\n",
    "torch.manual_seed(42)\n",
    "torch.set_float32_matmul_precision('medium')\n",
    "\n",
    "config = load_config()"
   ]
  },
  {
   "cell_type": "code",
   "execution_count": 4,
   "id": "447115d8-a12b-499e-8753-41233af48c5b",
   "metadata": {},
   "outputs": [],
   "source": [
    "# initialize data attributes and loaders\n",
    "config.load_data()\n",
    "config.print_labels()\n",
    "dm = config.datamodule\n",
    "assert dm"
   ]
  },
  {
   "cell_type": "code",
   "execution_count": 5,
   "id": "be308725-f7d2-4dd8-bec1-ced167a60475",
   "metadata": {},
   "outputs": [
    {
     "name": "stdout",
     "output_type": "stream",
     "text": [
      "Dataset type test label type: species\n",
      "Loaded 48790 images\n"
     ]
    }
   ],
   "source": [
    "dm.setup(\"test\")"
   ]
  },
  {
   "cell_type": "code",
   "execution_count": 6,
   "id": "3440bd05-57de-4416-9974-488bb665ad95",
   "metadata": {},
   "outputs": [],
   "source": [
    "model = config.get_model()"
   ]
  },
  {
   "cell_type": "code",
   "execution_count": 7,
   "id": "77d956eb-a9c6-4adb-b5f3-a1efbce55036",
   "metadata": {},
   "outputs": [
    {
     "name": "stderr",
     "output_type": "stream",
     "text": [
      "\u001b[34m\u001b[1mwandb\u001b[0m: Downloading large artifact model-90yyjwtz:best, 300.27MB. 1 files... \n",
      "\u001b[34m\u001b[1mwandb\u001b[0m:   1 of 1 files downloaded.  \n",
      "Done. 0:0:10.5\n"
     ]
    },
    {
     "ename": "TypeError",
     "evalue": "Model.__init__() missing 1 required positional argument: 'input_shape'",
     "output_type": "error",
     "traceback": [
      "\u001b[0;31m---------------------------------------------------------------------------\u001b[0m",
      "\u001b[0;31mTypeError\u001b[0m                                 Traceback (most recent call last)",
      "Cell \u001b[0;32mIn[7], line 3\u001b[0m\n\u001b[1;32m      1\u001b[0m \u001b[38;5;28;01mfrom\u001b[39;00m \u001b[38;5;21;01mpathlib\u001b[39;00m \u001b[38;5;28;01mimport\u001b[39;00m Path\n\u001b[1;32m      2\u001b[0m artifact_dir \u001b[38;5;241m=\u001b[39m WandbLogger\u001b[38;5;241m.\u001b[39mdownload_artifact(artifact\u001b[38;5;241m=\u001b[39m\u001b[38;5;124mf\u001b[39m\u001b[38;5;124m\"\u001b[39m\u001b[38;5;124myasith/uq_project/model-\u001b[39m\u001b[38;5;132;01m{\u001b[39;00mmodel_id\u001b[38;5;132;01m}\u001b[39;00m\u001b[38;5;124m:best\u001b[39m\u001b[38;5;124m\"\u001b[39m)\n\u001b[0;32m----> 3\u001b[0m model \u001b[38;5;241m=\u001b[39m \u001b[43mmodel\u001b[49m\u001b[38;5;241;43m.\u001b[39;49m\u001b[43mload_from_checkpoint\u001b[49m\u001b[43m(\u001b[49m\u001b[43mPath\u001b[49m\u001b[43m(\u001b[49m\u001b[43martifact_dir\u001b[49m\u001b[43m)\u001b[49m\u001b[43m \u001b[49m\u001b[38;5;241;43m/\u001b[39;49m\u001b[43m \u001b[49m\u001b[38;5;124;43m\"\u001b[39;49m\u001b[38;5;124;43mmodel.ckpt\u001b[39;49m\u001b[38;5;124;43m\"\u001b[39;49m\u001b[43m,\u001b[49m\u001b[43m \u001b[49m\u001b[43mconfig\u001b[49m\u001b[38;5;241;43m=\u001b[39;49m\u001b[43mconfig\u001b[49m\u001b[43m)\u001b[49m\n\u001b[1;32m      4\u001b[0m model \u001b[38;5;241m=\u001b[39m model\u001b[38;5;241m.\u001b[39mcuda()\n\u001b[1;32m      5\u001b[0m model\u001b[38;5;241m.\u001b[39meval()\n",
      "File \u001b[0;32m~/.conda/envs/qpm-amrb/lib/python3.10/site-packages/lightning/pytorch/core/module.py:1537\u001b[0m, in \u001b[0;36mLightningModule.load_from_checkpoint\u001b[0;34m(cls, checkpoint_path, map_location, hparams_file, strict, **kwargs)\u001b[0m\n\u001b[1;32m   1457\u001b[0m \u001b[38;5;129m@classmethod\u001b[39m\n\u001b[1;32m   1458\u001b[0m \u001b[38;5;28;01mdef\u001b[39;00m \u001b[38;5;21mload_from_checkpoint\u001b[39m(\n\u001b[1;32m   1459\u001b[0m     \u001b[38;5;28mcls\u001b[39m,\n\u001b[0;32m   (...)\u001b[0m\n\u001b[1;32m   1464\u001b[0m     \u001b[38;5;241m*\u001b[39m\u001b[38;5;241m*\u001b[39mkwargs: Any,\n\u001b[1;32m   1465\u001b[0m ) \u001b[38;5;241m-\u001b[39m\u001b[38;5;241m>\u001b[39m Self:\n\u001b[1;32m   1466\u001b[0m \u001b[38;5;250m    \u001b[39m\u001b[38;5;124mr\u001b[39m\u001b[38;5;124;03m\"\"\"\u001b[39;00m\n\u001b[1;32m   1467\u001b[0m \u001b[38;5;124;03m    Primary way of loading a model from a checkpoint. When Lightning saves a checkpoint\u001b[39;00m\n\u001b[1;32m   1468\u001b[0m \u001b[38;5;124;03m    it stores the arguments passed to ``__init__``  in the checkpoint under ``\"hyper_parameters\"``.\u001b[39;00m\n\u001b[0;32m   (...)\u001b[0m\n\u001b[1;32m   1535\u001b[0m \u001b[38;5;124;03m        y_hat = pretrained_model(x)\u001b[39;00m\n\u001b[1;32m   1536\u001b[0m \u001b[38;5;124;03m    \"\"\"\u001b[39;00m\n\u001b[0;32m-> 1537\u001b[0m     loaded \u001b[38;5;241m=\u001b[39m \u001b[43m_load_from_checkpoint\u001b[49m\u001b[43m(\u001b[49m\n\u001b[1;32m   1538\u001b[0m \u001b[43m        \u001b[49m\u001b[38;5;28;43mcls\u001b[39;49m\u001b[43m,\u001b[49m\n\u001b[1;32m   1539\u001b[0m \u001b[43m        \u001b[49m\u001b[43mcheckpoint_path\u001b[49m\u001b[43m,\u001b[49m\n\u001b[1;32m   1540\u001b[0m \u001b[43m        \u001b[49m\u001b[43mmap_location\u001b[49m\u001b[43m,\u001b[49m\n\u001b[1;32m   1541\u001b[0m \u001b[43m        \u001b[49m\u001b[43mhparams_file\u001b[49m\u001b[43m,\u001b[49m\n\u001b[1;32m   1542\u001b[0m \u001b[43m        \u001b[49m\u001b[43mstrict\u001b[49m\u001b[43m,\u001b[49m\n\u001b[1;32m   1543\u001b[0m \u001b[43m        \u001b[49m\u001b[38;5;241;43m*\u001b[39;49m\u001b[38;5;241;43m*\u001b[39;49m\u001b[43mkwargs\u001b[49m\u001b[43m,\u001b[49m\n\u001b[1;32m   1544\u001b[0m \u001b[43m    \u001b[49m\u001b[43m)\u001b[49m\n\u001b[1;32m   1545\u001b[0m     \u001b[38;5;28;01mreturn\u001b[39;00m cast(Self, loaded)\n",
      "File \u001b[0;32m~/.conda/envs/qpm-amrb/lib/python3.10/site-packages/lightning/pytorch/core/saving.py:91\u001b[0m, in \u001b[0;36m_load_from_checkpoint\u001b[0;34m(cls, checkpoint_path, map_location, hparams_file, strict, **kwargs)\u001b[0m\n\u001b[1;32m     89\u001b[0m     \u001b[38;5;28;01mreturn\u001b[39;00m _load_state(\u001b[38;5;28mcls\u001b[39m, checkpoint, \u001b[38;5;241m*\u001b[39m\u001b[38;5;241m*\u001b[39mkwargs)\n\u001b[1;32m     90\u001b[0m \u001b[38;5;28;01mif\u001b[39;00m \u001b[38;5;28missubclass\u001b[39m(\u001b[38;5;28mcls\u001b[39m, pl\u001b[38;5;241m.\u001b[39mLightningModule):\n\u001b[0;32m---> 91\u001b[0m     model \u001b[38;5;241m=\u001b[39m \u001b[43m_load_state\u001b[49m\u001b[43m(\u001b[49m\u001b[38;5;28;43mcls\u001b[39;49m\u001b[43m,\u001b[49m\u001b[43m \u001b[49m\u001b[43mcheckpoint\u001b[49m\u001b[43m,\u001b[49m\u001b[43m \u001b[49m\u001b[43mstrict\u001b[49m\u001b[38;5;241;43m=\u001b[39;49m\u001b[43mstrict\u001b[49m\u001b[43m,\u001b[49m\u001b[43m \u001b[49m\u001b[38;5;241;43m*\u001b[39;49m\u001b[38;5;241;43m*\u001b[39;49m\u001b[43mkwargs\u001b[49m\u001b[43m)\u001b[49m\n\u001b[1;32m     92\u001b[0m     state_dict \u001b[38;5;241m=\u001b[39m checkpoint[\u001b[38;5;124m\"\u001b[39m\u001b[38;5;124mstate_dict\u001b[39m\u001b[38;5;124m\"\u001b[39m]\n\u001b[1;32m     93\u001b[0m     \u001b[38;5;28;01mif\u001b[39;00m \u001b[38;5;129;01mnot\u001b[39;00m state_dict:\n",
      "File \u001b[0;32m~/.conda/envs/qpm-amrb/lib/python3.10/site-packages/lightning/pytorch/core/saving.py:144\u001b[0m, in \u001b[0;36m_load_state\u001b[0;34m(cls, checkpoint, strict, **cls_kwargs_new)\u001b[0m\n\u001b[1;32m    140\u001b[0m \u001b[38;5;28;01mif\u001b[39;00m \u001b[38;5;129;01mnot\u001b[39;00m cls_spec\u001b[38;5;241m.\u001b[39mvarkw:\n\u001b[1;32m    141\u001b[0m     \u001b[38;5;66;03m# filter kwargs according to class init unless it allows any argument via kwargs\u001b[39;00m\n\u001b[1;32m    142\u001b[0m     _cls_kwargs \u001b[38;5;241m=\u001b[39m {k: v \u001b[38;5;28;01mfor\u001b[39;00m k, v \u001b[38;5;129;01min\u001b[39;00m _cls_kwargs\u001b[38;5;241m.\u001b[39mitems() \u001b[38;5;28;01mif\u001b[39;00m k \u001b[38;5;129;01min\u001b[39;00m cls_init_args_name}\n\u001b[0;32m--> 144\u001b[0m obj \u001b[38;5;241m=\u001b[39m \u001b[38;5;28;43mcls\u001b[39;49m\u001b[43m(\u001b[49m\u001b[38;5;241;43m*\u001b[39;49m\u001b[38;5;241;43m*\u001b[39;49m\u001b[43m_cls_kwargs\u001b[49m\u001b[43m)\u001b[49m\n\u001b[1;32m    146\u001b[0m \u001b[38;5;28;01mif\u001b[39;00m \u001b[38;5;28misinstance\u001b[39m(obj, pl\u001b[38;5;241m.\u001b[39mLightningModule):\n\u001b[1;32m    147\u001b[0m     \u001b[38;5;66;03m# give model a chance to load something\u001b[39;00m\n\u001b[1;32m    148\u001b[0m     obj\u001b[38;5;241m.\u001b[39mon_load_checkpoint(checkpoint)\n",
      "\u001b[0;31mTypeError\u001b[0m: Model.__init__() missing 1 required positional argument: 'input_shape'"
     ]
    }
   ],
   "source": [
    "from pathlib import Path\n",
    "artifact_dir = WandbLogger.download_artifact(artifact=f\"yasith/uq_project/model-{model_id}:best\")\n",
    "model = model.load_from_checkpoint(Path(artifact_dir) / \"model.ckpt\", config=config)\n",
    "model = model.cuda()\n",
    "model.eval();"
   ]
  },
  {
   "cell_type": "code",
   "execution_count": null,
   "id": "e2d03d9a-cb33-4ace-9e4a-e2d4b0dbe94f",
   "metadata": {},
   "outputs": [],
   "source": [
    "test_loader = dm.test_dataloader()"
   ]
  },
  {
   "cell_type": "code",
   "execution_count": null,
   "id": "5ef2017e-b03e-4a5e-ab7a-08108ad0a70d",
   "metadata": {},
   "outputs": [],
   "source": [
    "from models.common import edl_probs\n",
    "from tqdm.auto import tqdm\n",
    "\n",
    "embeddings = []\n",
    "labels = []\n",
    "strains = []\n",
    "\n",
    "for batch_idx, batch in enumerate(tqdm(test_loader)):\n",
    "    x, y, s = batch\n",
    "    x = x.float().cuda()\n",
    "    y = y.long().cpu()\n",
    "    s = s.long().cpu()\n",
    "    proj_a, proj_b, logits = model(x)\n",
    "    embedding = proj_a.detach().flatten(start_dim=1).cpu().numpy()\n",
    "    embeddings.extend(embedding)\n",
    "    labels.extend(y.detach().numpy())\n",
    "    strains.extend(s.detach().numpy())\n",
    "print(\"OK\")"
   ]
  },
  {
   "cell_type": "code",
   "execution_count": null,
   "id": "d5300103-4760-40cb-ba74-36a6a2ca555f",
   "metadata": {},
   "outputs": [],
   "source": [
    "embeddings = np.array(embeddings)\n",
    "labels = np.array(labels)\n",
    "strains = np.array(strains)\n",
    "print(embeddings.shape)\n",
    "print(labels.shape)\n",
    "print(strains.shape)"
   ]
  },
  {
   "cell_type": "code",
   "execution_count": null,
   "id": "bfff589f-a050-45c1-8d4d-87a0f64f87f0",
   "metadata": {},
   "outputs": [],
   "source": [
    "from sklearn.manifold import TSNE\n",
    "\n",
    "tsne_emb = TSNE(n_components=2, learning_rate='auto', init='random').fit_transform(embeddings)\n",
    "print(tsne_emb.shape)"
   ]
  },
  {
   "cell_type": "code",
   "execution_count": null,
   "id": "b47cb048-99c5-4471-ab30-47fbd96c69cb",
   "metadata": {},
   "outputs": [],
   "source": [
    "import numpy as np\n",
    "import pandas as pd\n",
    "from matplotlib import pyplot as plt\n",
    "import seaborn as sns\n",
    "\n",
    "emb_d1, emb_d2 = tsne_emb.T\n",
    "label = [config.labels[i] for i in labels]\n",
    "strain = [config.datamodule.strains[i] for i in strains]\n",
    "data = pd.DataFrame(dict(x=emb_d1, y=emb_d2, label=label, strain=strain))"
   ]
  },
  {
   "cell_type": "code",
   "execution_count": null,
   "id": "ee9e1468-81e1-4803-8cbc-eafcf6953320",
   "metadata": {},
   "outputs": [],
   "source": [
    "plt.figure(figsize=(10,10))\n",
    "sns.scatterplot(data=data, x=\"x\", y=\"y\", hue=\"label\")"
   ]
  },
  {
   "cell_type": "code",
   "execution_count": null,
   "id": "c8d584b8-9ce1-4c8a-ad1b-c580cf39570f",
   "metadata": {},
   "outputs": [],
   "source": [
    "plt.figure(figsize=(10,10))\n",
    "sns.scatterplot(data=data, x=\"x\", y=\"y\", hue=\"strain\")"
   ]
  },
  {
   "cell_type": "code",
   "execution_count": null,
   "id": "2f67af82-d233-45b1-b8a9-f9cc06ebf80e",
   "metadata": {},
   "outputs": [],
   "source": [
    "np.savez('QPM_species_resnet50_vicreg_M128.npz', { 'z': embeddings, 's': strains })"
   ]
  },
  {
   "cell_type": "code",
   "execution_count": null,
   "id": "b824f567-b090-463e-a7be-1c807e1d4c39",
   "metadata": {},
   "outputs": [],
   "source": [
    "import scipy\n",
    "scipy.io.savemat('QPM_species_resnet50_vicreg_M128.mat', { 'z': embeddings, 's': strains })"
   ]
  }
 ],
 "metadata": {
  "kernelspec": {
   "display_name": "Python (qpm-amrb)",
   "language": "python",
   "name": "qpm-amrb"
  },
  "language_info": {
   "codemirror_mode": {
    "name": "ipython",
    "version": 3
   },
   "file_extension": ".py",
   "mimetype": "text/x-python",
   "name": "python",
   "nbconvert_exporter": "python",
   "pygments_lexer": "ipython3",
   "version": "3.10.12"
  },
  "toc-showtags": false
 },
 "nbformat": 4,
 "nbformat_minor": 5
}
