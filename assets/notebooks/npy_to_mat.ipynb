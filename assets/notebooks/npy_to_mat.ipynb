{
 "cells": [
  {
   "cell_type": "code",
   "execution_count": 1,
   "id": "6f3c3809-10a4-4cee-bee6-eda474a923de",
   "metadata": {},
   "outputs": [],
   "source": [
    "import numpy as np\n",
    "import scipy.io as sio\n",
    "from pathlib import Path\n",
    "from glob import glob"
   ]
  },
  {
   "cell_type": "code",
   "execution_count": 2,
   "id": "821a783d-835d-42a8-98d4-d6c2bc62739c",
   "metadata": {},
   "outputs": [],
   "source": [
    "emb_dir = Path(\"assets/embeddings/\")\n",
    "emb_name = Path(\"QPM_species_resnet50_vicreg_M128\")"
   ]
  },
  {
   "cell_type": "code",
   "execution_count": 6,
   "id": "2c9ae106-f910-4e16-97b2-c28214b77446",
   "metadata": {},
   "outputs": [
    {
     "name": "stdout",
     "output_type": "stream",
     "text": [
      "(2894, 1024)\n",
      "(1668, 1024)\n",
      "(1560, 1024)\n",
      "(3482, 1024)\n",
      "(2135, 1024)\n",
      "(1937, 1024)\n",
      "(2639, 1024)\n",
      "(2213, 1024)\n",
      "(1343, 1024)\n",
      "(976, 1024)\n",
      "(3853, 1024)\n",
      "(3114, 1024)\n",
      "(2281, 1024)\n",
      "(1929, 1024)\n",
      "(2056, 1024)\n",
      "(2030, 1024)\n",
      "(2682, 1024)\n",
      "(2331, 1024)\n",
      "(4640, 1024)\n",
      "(1403, 1024)\n",
      "(1396, 1024)\n"
     ]
    }
   ],
   "source": [
    "mode = \"val\"\n",
    "dataset = {}\n",
    "count = 0\n",
    "pattern = str(emb_dir / emb_name / Path(f\"{mode}_*.npy\"))\n",
    "for fp in glob(str(pattern)):\n",
    "    strain = int(fp.rsplit(\"_\", maxsplit=1)[-1][:-4])\n",
    "    embeddings = np.load(fp)\n",
    "    shape = embeddings.shape\n",
    "    dataset[strain] = embeddings\n",
    "    print(shape)\n",
    "    count += shape[0]"
   ]
  },
  {
   "cell_type": "code",
   "execution_count": 7,
   "id": "8d2f08ad-3310-4b79-9bbe-d87c0785b103",
   "metadata": {},
   "outputs": [],
   "source": [
    "dtype = [('strain', 'f8'), ('embedding', 'f8', (1024,))]\n",
    "start_idx = 0\n",
    "data_mat = np.empty(count, dtype=dtype)\n",
    "for strain_id, embeddings in dataset.items():\n",
    "    dtype = [('strain', 'f8'), ('embedding', 'f8', (1024,))]\n",
    "    n = embeddings.shape[0]\n",
    "    data_mat[start_idx:start_idx+n]['strain'] = np.full(n, strain)\n",
    "    data_mat[start_idx:start_idx+n]['embedding'] = embeddings\n",
    "    start_idx += n"
   ]
  },
  {
   "cell_type": "code",
   "execution_count": 8,
   "id": "c9c414e9-abb0-4e2c-9b6f-675bb228a50a",
   "metadata": {},
   "outputs": [],
   "source": [
    "fp = emb_dir / f'{emb_name}_{mode}.mat'\n",
    "sio.savemat(fp, {'data': data_mat}, do_compression=True)"
   ]
  }
 ],
 "metadata": {
  "kernelspec": {
   "display_name": "Python (qpm-amrb)",
   "language": "python",
   "name": "qpm-amrb"
  },
  "language_info": {
   "codemirror_mode": {
    "name": "ipython",
    "version": 3
   },
   "file_extension": ".py",
   "mimetype": "text/x-python",
   "name": "python",
   "nbconvert_exporter": "python",
   "pygments_lexer": "ipython3",
   "version": "3.10.13"
  }
 },
 "nbformat": 4,
 "nbformat_minor": 5
}
