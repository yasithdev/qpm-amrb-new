{
 "cells": [
  {
   "cell_type": "code",
   "execution_count": 1,
   "id": "8deaa0b2-f1b8-4260-93ac-a5200671e71a",
   "metadata": {
    "execution": {
     "iopub.execute_input": "2023-11-03T12:44:49.656093Z",
     "iopub.status.busy": "2023-11-03T12:44:49.655406Z",
     "iopub.status.idle": "2023-11-03T12:44:59.052537Z",
     "shell.execute_reply": "2023-11-03T12:44:59.050788Z"
    },
    "papermill": {
     "duration": 9.423039,
     "end_time": "2023-11-03T12:44:59.056753",
     "exception": false,
     "start_time": "2023-11-03T12:44:49.633714",
     "status": "completed"
    },
    "tags": []
   },
   "outputs": [],
   "source": [
    "import numpy as np\n",
    "import torch\n",
    "\n",
    "# initialize the RNG deterministically\n",
    "np.random.seed(42)\n",
    "torch.manual_seed(42)\n",
    "torch.set_float32_matmul_precision('medium')"
   ]
  },
  {
   "cell_type": "code",
   "execution_count": 2,
   "id": "1cd74bc0-01e5-4fef-ae01-4630e7f160e3",
   "metadata": {
    "execution": {
     "iopub.execute_input": "2023-11-03T12:44:59.091927Z",
     "iopub.status.busy": "2023-11-03T12:44:59.091230Z",
     "iopub.status.idle": "2023-11-03T12:44:59.098918Z",
     "shell.execute_reply": "2023-11-03T12:44:59.097366Z"
    },
    "papermill": {
     "duration": 0.028109,
     "end_time": "2023-11-03T12:44:59.102316",
     "exception": false,
     "start_time": "2023-11-03T12:44:59.074207",
     "status": "completed"
    },
    "tags": [
     "parameters"
    ]
   },
   "outputs": [],
   "source": [
    "# parameters\n",
    "dataset_name = \"MNIST\"\n",
    "model_name = \"flow_vcr_mse\"\n",
    "ood = \"0\""
   ]
  },
  {
   "cell_type": "code",
   "execution_count": 3,
   "id": "dc2015d5",
   "metadata": {
    "execution": {
     "iopub.execute_input": "2023-11-03T12:44:59.134119Z",
     "iopub.status.busy": "2023-11-03T12:44:59.133549Z",
     "iopub.status.idle": "2023-11-03T12:44:59.151857Z",
     "shell.execute_reply": "2023-11-03T12:44:59.150228Z"
    },
    "papermill": {
     "duration": 0.037675,
     "end_time": "2023-11-03T12:44:59.155640",
     "exception": false,
     "start_time": "2023-11-03T12:44:59.117965",
     "status": "completed"
    },
    "tags": [
     "injected-parameters"
    ]
   },
   "outputs": [],
   "source": [
    "# Parameters\n",
    "ood = \"0:1:2:3:4\"\n"
   ]
  },
  {
   "cell_type": "code",
   "execution_count": 4,
   "id": "3879d770-c553-4cf3-82a9-03295b3857c0",
   "metadata": {
    "execution": {
     "iopub.execute_input": "2023-11-03T12:44:59.189832Z",
     "iopub.status.busy": "2023-11-03T12:44:59.189259Z",
     "iopub.status.idle": "2023-11-03T12:45:10.686720Z",
     "shell.execute_reply": "2023-11-03T12:45:10.686012Z"
    },
    "papermill": {
     "duration": 11.517548,
     "end_time": "2023-11-03T12:45:10.690124",
     "exception": false,
     "start_time": "2023-11-03T12:44:59.172576",
     "status": "completed"
    },
    "tags": []
   },
   "outputs": [
    {
     "name": "stderr",
     "output_type": "stream",
     "text": [
      "\r",
      "  0%|                                                                                                        | 0/60000 [00:00<?, ?it/s]"
     ]
    },
    {
     "name": "stderr",
     "output_type": "stream",
     "text": [
      "\r",
      " 11%|█████████▌                                                                                | 6339/60000 [00:00<00:00, 63381.60it/s]"
     ]
    },
    {
     "name": "stderr",
     "output_type": "stream",
     "text": [
      "\r",
      " 22%|███████████████████▍                                                                     | 13134/60000 [00:00<00:00, 66063.41it/s]"
     ]
    },
    {
     "name": "stderr",
     "output_type": "stream",
     "text": [
      "\r",
      " 33%|█████████████████████████████▌                                                           | 19964/60000 [00:00<00:00, 67082.74it/s]"
     ]
    },
    {
     "name": "stderr",
     "output_type": "stream",
     "text": [
      "\r",
      " 45%|███████████████████████████████████████▊                                                 | 26827/60000 [00:00<00:00, 67690.77it/s]"
     ]
    },
    {
     "name": "stderr",
     "output_type": "stream",
     "text": [
      "\r",
      " 56%|█████████████████████████████████████████████████▊                                       | 33607/60000 [00:00<00:00, 67726.28it/s]"
     ]
    },
    {
     "name": "stderr",
     "output_type": "stream",
     "text": [
      "\r",
      " 67%|███████████████████████████████████████████████████████████▉                             | 40421/60000 [00:00<00:00, 67865.74it/s]"
     ]
    },
    {
     "name": "stderr",
     "output_type": "stream",
     "text": [
      "\r",
      " 79%|██████████████████████████████████████████████████████████████████████                   | 47263/60000 [00:00<00:00, 68044.46it/s]"
     ]
    },
    {
     "name": "stderr",
     "output_type": "stream",
     "text": [
      "\r",
      " 90%|████████████████████████████████████████████████████████████████████████████████▎        | 54112/60000 [00:00<00:00, 68185.69it/s]"
     ]
    },
    {
     "name": "stderr",
     "output_type": "stream",
     "text": [
      "\r",
      "100%|█████████████████████████████████████████████████████████████████████████████████████████| 60000/60000 [00:00<00:00, 67582.48it/s]"
     ]
    },
    {
     "name": "stderr",
     "output_type": "stream",
     "text": [
      "\n"
     ]
    },
    {
     "name": "stderr",
     "output_type": "stream",
     "text": [
      "\r",
      "  0%|                                                                                                        | 0/10000 [00:00<?, ?it/s]"
     ]
    },
    {
     "name": "stderr",
     "output_type": "stream",
     "text": [
      "\r",
      " 69%|█████████████████████████████████████████████████████████████▉                            | 6884/10000 [00:00<00:00, 68829.56it/s]"
     ]
    },
    {
     "name": "stderr",
     "output_type": "stream",
     "text": [
      "\r",
      "100%|█████████████████████████████████████████████████████████████████████████████████████████| 10000/10000 [00:00<00:00, 67764.83it/s]"
     ]
    },
    {
     "name": "stderr",
     "output_type": "stream",
     "text": [
      "\n"
     ]
    }
   ],
   "source": [
    "# initialize data attributes and loaders\n",
    "from config import load_config\n",
    "\n",
    "config = load_config(\n",
    "    dataset_name = dataset_name,\n",
    "    model_name = model_name,\n",
    "    ood = ood,\n",
    ")\n",
    "config.load_data()\n",
    "config.print_labels()\n",
    "dm = config.datamodule\n",
    "\n",
    "assert dm"
   ]
  },
  {
   "cell_type": "code",
   "execution_count": 5,
   "id": "be308725-f7d2-4dd8-bec1-ced167a60475",
   "metadata": {
    "execution": {
     "iopub.execute_input": "2023-11-03T12:45:10.728611Z",
     "iopub.status.busy": "2023-11-03T12:45:10.727985Z",
     "iopub.status.idle": "2023-11-03T12:45:10.849938Z",
     "shell.execute_reply": "2023-11-03T12:45:10.849227Z"
    },
    "papermill": {
     "duration": 0.143958,
     "end_time": "2023-11-03T12:45:10.853496",
     "exception": false,
     "start_time": "2023-11-03T12:45:10.709538",
     "status": "completed"
    },
    "tags": []
   },
   "outputs": [],
   "source": [
    "dm.setup(\"fit\")\n",
    "dm.setup(\"test\")\n",
    "dm.setup(\"predict\")"
   ]
  },
  {
   "cell_type": "code",
   "execution_count": 6,
   "id": "d278a289-4ddb-4e1f-981f-3ca2302fd7d0",
   "metadata": {
    "execution": {
     "iopub.execute_input": "2023-11-03T12:45:10.887227Z",
     "iopub.status.busy": "2023-11-03T12:45:10.886492Z",
     "iopub.status.idle": "2023-11-03T12:45:10.897838Z",
     "shell.execute_reply": "2023-11-03T12:45:10.896461Z"
    },
    "papermill": {
     "duration": 0.031032,
     "end_time": "2023-11-03T12:45:10.901356",
     "exception": false,
     "start_time": "2023-11-03T12:45:10.870324",
     "status": "completed"
    },
    "tags": []
   },
   "outputs": [
    {
     "name": "stdout",
     "output_type": "stream",
     "text": [
      "0:1:2:3:4 59ftut3f\n"
     ]
    }
   ],
   "source": [
    "# model ids\n",
    "model_ids = {\n",
    "    \"0:1:2:3:4\": '59ftut3f',\n",
    "    \"5:6:7:8:9\": \"lz2g3fq1\",\n",
    "    \"0\": \"cpnxtpv2\",\n",
    "    \"1\": \"c6sohudf\",\n",
    "    \"2\": \"5qeniujh\",\n",
    "    \"3\": \"cto6ipr0\",\n",
    "}\n",
    "ood_str = \":\".join(map(str, config.ood))\n",
    "model_id = model_ids[ood_str]\n",
    "print(ood_str, model_id)"
   ]
  },
  {
   "cell_type": "code",
   "execution_count": 7,
   "id": "3440bd05-57de-4416-9974-488bb665ad95",
   "metadata": {
    "execution": {
     "iopub.execute_input": "2023-11-03T12:45:10.934760Z",
     "iopub.status.busy": "2023-11-03T12:45:10.934287Z",
     "iopub.status.idle": "2023-11-03T12:45:17.547996Z",
     "shell.execute_reply": "2023-11-03T12:45:17.546366Z"
    },
    "papermill": {
     "duration": 6.633407,
     "end_time": "2023-11-03T12:45:17.551748",
     "exception": false,
     "start_time": "2023-11-03T12:45:10.918341",
     "status": "completed"
    },
    "tags": []
   },
   "outputs": [],
   "source": [
    "model = config.get_model()"
   ]
  },
  {
   "cell_type": "code",
   "execution_count": 8,
   "id": "77d956eb-a9c6-4adb-b5f3-a1efbce55036",
   "metadata": {
    "execution": {
     "iopub.execute_input": "2023-11-03T12:45:17.590794Z",
     "iopub.status.busy": "2023-11-03T12:45:17.590169Z",
     "iopub.status.idle": "2023-11-03T12:45:22.819206Z",
     "shell.execute_reply": "2023-11-03T12:45:22.818174Z"
    },
    "papermill": {
     "duration": 5.252396,
     "end_time": "2023-11-03T12:45:22.822805",
     "exception": false,
     "start_time": "2023-11-03T12:45:17.570409",
     "status": "completed"
    },
    "tags": []
   },
   "outputs": [
    {
     "name": "stderr",
     "output_type": "stream",
     "text": [
      "\u001b[34m\u001b[1mwandb\u001b[0m:   1 of 1 files downloaded.  \n"
     ]
    }
   ],
   "source": [
    "from pathlib import Path\n",
    "from lightning.pytorch.loggers.wandb import WandbLogger\n",
    "\n",
    "artifact_dir = WandbLogger.download_artifact(artifact=f\"yasith/robust_ml/model-{model_id}:best\")\n",
    "model = model.__class__.load_from_checkpoint(Path(artifact_dir) / \"model.ckpt\", config=config)\n",
    "model = model.cuda()\n",
    "model.eval();"
   ]
  },
  {
   "cell_type": "code",
   "execution_count": 9,
   "id": "e2d03d9a-cb33-4ace-9e4a-e2d4b0dbe94f",
   "metadata": {
    "execution": {
     "iopub.execute_input": "2023-11-03T12:45:22.864530Z",
     "iopub.status.busy": "2023-11-03T12:45:22.863840Z",
     "iopub.status.idle": "2023-11-03T12:45:22.872728Z",
     "shell.execute_reply": "2023-11-03T12:45:22.871221Z"
    },
    "papermill": {
     "duration": 0.032682,
     "end_time": "2023-11-03T12:45:22.876257",
     "exception": false,
     "start_time": "2023-11-03T12:45:22.843575",
     "status": "completed"
    },
    "tags": []
   },
   "outputs": [],
   "source": [
    "train_loader = dm.train_dataloader()\n",
    "val_loader = dm.val_dataloader()\n",
    "test_loader = dm.test_dataloader()\n",
    "if ood_str:\n",
    "    predict_loader = dm.predict_dataloader()"
   ]
  },
  {
   "cell_type": "code",
   "execution_count": null,
   "id": "5ef2017e-b03e-4a5e-ab7a-08108ad0a70d",
   "metadata": {
    "papermill": {
     "duration": null,
     "end_time": null,
     "exception": false,
     "start_time": "2023-11-03T12:45:22.892787",
     "status": "running"
    },
    "tags": []
   },
   "outputs": [],
   "source": [
    "from models.common import edl_probs\n",
    "from tqdm import tqdm\n",
    "\n",
    "trn_targets = []\n",
    "val_targets = []\n",
    "ind_targets = []\n",
    "if ood_str:\n",
    "    ood_targets = []\n",
    "\n",
    "trn_u_norms = []\n",
    "val_u_norms = []\n",
    "ind_u_norms = []\n",
    "if ood_str:\n",
    "    ood_u_norms = []\n",
    "rnd_u_norms = []\n",
    "\n",
    "trn_v_norms = []\n",
    "val_v_norms = []\n",
    "ind_v_norms = []\n",
    "if ood_str:\n",
    "    ood_v_norms = []\n",
    "rnd_v_norms = []\n",
    "\n",
    "# train set (ind)\n",
    "for batch_idx, batch in enumerate(tqdm(train_loader)):\n",
    "    x, y, *_ = batch\n",
    "    x = x.float().cuda()\n",
    "    v, z, x_m, u_norm, v_norm, logits = model(x)\n",
    "    trn_u_norms.extend(u_norm.detach().cpu().numpy())\n",
    "    trn_v_norms.extend(v_norm.detach().cpu().numpy())\n",
    "    trn_targets.extend(y.detach().cpu().numpy())\n",
    "print(\"train - OK\")\n",
    "\n",
    "# val set (ind)\n",
    "for batch_idx, batch in enumerate(tqdm(val_loader)):\n",
    "    x, y, *_ = batch\n",
    "    x = x.float().cuda()\n",
    "    v, z, x_m, u_norm, v_norm, logits = model(x)\n",
    "    val_u_norms.extend(u_norm.detach().cpu().numpy())\n",
    "    val_v_norms.extend(v_norm.detach().cpu().numpy())\n",
    "    val_targets.extend(y.detach().cpu().numpy())\n",
    "print(\"val - OK\")\n",
    "\n",
    "# test set (ind)\n",
    "for batch_idx, batch in enumerate(tqdm(test_loader)):\n",
    "    x, y, *_ = batch\n",
    "    x = x.float().cuda()\n",
    "    v, z, x_m, u_norm, v_norm, logits = model(x)\n",
    "    ind_u_norms.extend(u_norm.detach().cpu().numpy())\n",
    "    ind_v_norms.extend(v_norm.detach().cpu().numpy())\n",
    "    ind_targets.extend(y.detach().cpu().numpy())\n",
    "print(\"test InD - OK\")\n",
    "\n",
    "# predict set (ood)\n",
    "if ood_str:\n",
    "    for batch_idx, batch in enumerate(tqdm(predict_loader)):\n",
    "        x, y, *_ = batch\n",
    "        x = x.float().cuda()\n",
    "        v, z, x_m, u_norm, v_norm, logits = model(x)\n",
    "        ood_u_norms.extend(u_norm.detach().cpu().numpy())\n",
    "        ood_v_norms.extend(v_norm.detach().cpu().numpy())\n",
    "        ood_targets.extend(y.detach().cpu().numpy())\n",
    "    print(\"test OoD - OK\")\n",
    "\n",
    "# random set\n",
    "rnd_set = torch.randn(100, config.batch_size, *config.input_shape)\n",
    "for batch_idx, batch in enumerate(tqdm(rnd_set)):\n",
    "    x = batch\n",
    "    x = x.float().cuda()\n",
    "    v, z, x_m, u_norm, v_norm, logits = model(x)\n",
    "    rnd_u_norms.extend(u_norm.detach().cpu().numpy())\n",
    "    rnd_v_norms.extend(v_norm.detach().cpu().numpy())\n",
    "print(\"test RnD - OK\")\n",
    "\n",
    "trn_targets = np.array(trn_targets).squeeze()\n",
    "val_targets = np.array(val_targets).squeeze()\n",
    "ind_targets = np.array(ind_targets).squeeze()\n",
    "if ood_str:\n",
    "    ood_targets = np.array(ood_targets).squeeze()\n",
    "\n",
    "trn_u_norms = np.array(trn_u_norms).squeeze()\n",
    "val_u_norms = np.array(val_u_norms).squeeze()\n",
    "ind_u_norms = np.array(ind_u_norms).squeeze()\n",
    "if ood_str:\n",
    "    ood_u_norms = np.array(ood_u_norms).squeeze()\n",
    "rnd_u_norms = np.array(rnd_u_norms).squeeze()\n",
    "\n",
    "trn_v_norms = np.array(trn_v_norms).squeeze()\n",
    "val_v_norms = np.array(val_v_norms).squeeze()\n",
    "ind_v_norms = np.array(ind_v_norms).squeeze()\n",
    "if ood_str:\n",
    "    ood_v_norms = np.array(ood_v_norms).squeeze()\n",
    "rnd_v_norms = np.array(rnd_v_norms).squeeze()\n",
    "\n",
    "print(trn_u_norms.shape, trn_v_norms.shape)\n",
    "print(val_u_norms.shape, val_v_norms.shape)\n",
    "print(ind_u_norms.shape, ind_v_norms.shape)\n",
    "if ood_str:\n",
    "    print(ood_u_norms.shape, ood_v_norms.shape)\n",
    "print(rnd_u_norms.shape, rnd_v_norms.shape)"
   ]
  },
  {
   "cell_type": "code",
   "execution_count": null,
   "id": "ffd78653-e6ab-4c48-973b-d137e8015974",
   "metadata": {
    "papermill": {
     "duration": null,
     "end_time": null,
     "exception": null,
     "start_time": null,
     "status": "pending"
    },
    "tags": []
   },
   "outputs": [],
   "source": [
    "trn_u_norms_scaled = np.tanh(trn_u_norms)\n",
    "val_u_norms_scaled = np.tanh(val_u_norms)\n",
    "ind_u_norms_scaled = np.tanh(ind_u_norms)\n",
    "if ood_str:\n",
    "    ood_u_norms_scaled = np.tanh(ood_u_norms)\n",
    "rnd_u_norms_scaled = np.tanh(rnd_u_norms)\n",
    "\n",
    "trn_v_norms_scaled = np.tanh(trn_v_norms)\n",
    "val_v_norms_scaled = np.tanh(val_v_norms)\n",
    "ind_v_norms_scaled = np.tanh(ind_v_norms)\n",
    "if ood_str:\n",
    "    ood_v_norms_scaled = np.tanh(ood_v_norms)\n",
    "rnd_v_norms_scaled = np.tanh(rnd_v_norms)\n",
    "\n",
    "print(trn_u_norms.mean(), trn_u_norms.std())\n",
    "print(val_u_norms.mean(), val_u_norms.std())\n",
    "print(ind_u_norms.mean(), ind_u_norms.std())\n",
    "if ood_str:\n",
    "    print(ood_u_norms.mean(), ood_u_norms.std())\n",
    "print(rnd_u_norms.mean(), rnd_u_norms.std())\n",
    "\n",
    "print(trn_v_norms.mean(), trn_v_norms.std())\n",
    "print(val_v_norms.mean(), val_v_norms.std())\n",
    "print(ind_v_norms.mean(), ind_v_norms.std())\n",
    "if ood_str:\n",
    "    print(ood_v_norms.mean(), ood_v_norms.std())\n",
    "print(rnd_v_norms.mean(), rnd_v_norms.std())"
   ]
  },
  {
   "cell_type": "code",
   "execution_count": null,
   "id": "bfff589f-a050-45c1-8d4d-87a0f64f87f0",
   "metadata": {
    "papermill": {
     "duration": null,
     "end_time": null,
     "exception": null,
     "start_time": null,
     "status": "pending"
    },
    "tags": []
   },
   "outputs": [],
   "source": [
    "from matplotlib import pyplot as plt\n",
    "import seaborn as sns\n",
    "import pandas as pd\n",
    "\n",
    "plt.rcParams['figure.figsize'] = (5, 5)\n",
    "plt.rcParams['figure.dpi'] = 150\n",
    "\n",
    "data_trn = pd.DataFrame(dict(u_norm=trn_u_norms, v_norm=trn_v_norms, ratio=trn_v_norms/trn_u_norms, prod=trn_v_norms*trn_u_norms, target=trn_targets))\n",
    "data_val = pd.DataFrame(dict(u_norm=val_u_norms, v_norm=val_v_norms, ratio=val_v_norms/val_u_norms, prod=val_v_norms*val_u_norms, target=val_targets))\n",
    "data_ind = pd.DataFrame(dict(u_norm=ind_u_norms, v_norm=ind_v_norms, ratio=ind_v_norms/ind_u_norms, prod=ind_v_norms*ind_u_norms, target=ind_targets))\n",
    "if ood_str:\n",
    "    data_ood = pd.DataFrame(dict(u_norm=ood_u_norms, v_norm=ood_v_norms, ratio=ood_v_norms/ood_u_norms, prod=ood_v_norms*ood_u_norms, target=ood_targets))\n",
    "data_rnd = pd.DataFrame(dict(u_norm=rnd_u_norms, v_norm=rnd_v_norms, ratio=rnd_v_norms/rnd_u_norms, prod=rnd_v_norms*rnd_u_norms))\n",
    "\n",
    "fig, (ax1, ax2, ax3, ax4) = plt.subplots(1, 4, figsize = (20, 5))\n",
    "fig.suptitle(\"Pointwise OOD Detection (Trn, Val, InD, OoD, RnD)\")\n",
    "\n",
    "sns.histplot(data=data_trn, x=\"u_norm\", log_scale=True, fill=True, label='trn', stat='density', ax=ax1)\n",
    "sns.histplot(data=data_val, x=\"u_norm\", log_scale=True, fill=True, label='val', stat='density', ax=ax1)\n",
    "sns.histplot(data=data_ind, x=\"u_norm\", log_scale=True, fill=True, label='ind', stat='density', ax=ax1)\n",
    "if ood_str:\n",
    "    sns.histplot(data=data_ood, x=\"u_norm\", log_scale=True, fill=True, label='ood', stat='density', ax=ax1)\n",
    "# sns.histplot(data=data_rnd, x=\"u_norm\", log_scale=True, fill=True, label='rnd', stat='density', ax=ax1)\n",
    "\n",
    "sns.histplot(data=data_trn, x=\"v_norm\", log_scale=True, fill=True, label='trn', stat='density', ax=ax2)\n",
    "sns.histplot(data=data_val, x=\"v_norm\", log_scale=True, fill=True, label='val', stat='density', ax=ax2)\n",
    "sns.histplot(data=data_ind, x=\"v_norm\", log_scale=True, fill=True, label='ind', stat='density', ax=ax2)\n",
    "if ood_str:\n",
    "    sns.histplot(data=data_ood, x=\"v_norm\", log_scale=True, fill=True, label='ood', stat='density', ax=ax2)\n",
    "# sns.histplot(data=data_rnd, x=\"v_norm\", log_scale=True, fill=True, label='rnd', stat='density', ax=ax2)\n",
    "\n",
    "sns.histplot(data=data_trn, x=\"ratio\", log_scale=True, fill=True, label='trn', stat='density', ax=ax3)\n",
    "sns.histplot(data=data_val, x=\"ratio\", log_scale=True, fill=True, label='val', stat='density', ax=ax3)\n",
    "sns.histplot(data=data_ind, x=\"ratio\", log_scale=True, fill=True, label='ind', stat='density', ax=ax3)\n",
    "if ood_str:\n",
    "    sns.histplot(data=data_ood, x=\"ratio\", log_scale=True, fill=True, label='ood', stat='density', ax=ax3)\n",
    "# sns.histplot(data=data_rnd, x=\"ratio\", log_scale=True, fill=True, label='rnd', stat='density', ax=ax3)\n",
    "\n",
    "sns.histplot(data=data_trn, x=\"prod\", log_scale=True, fill=True, label='trn', stat='density', ax=ax4)\n",
    "sns.histplot(data=data_val, x=\"prod\", log_scale=True, fill=True, label='val', stat='density', ax=ax4)\n",
    "sns.histplot(data=data_ind, x=\"prod\", log_scale=True, fill=True, label='ind', stat='density', ax=ax4)\n",
    "if ood_str:\n",
    "    sns.histplot(data=data_ood, x=\"prod\", log_scale=True, fill=True, label='ood', stat='density', ax=ax4)\n",
    "# sns.histplot(data=data_rnd, x=\"prod\", log_scale=True, fill=True, label='rnd', stat='density', ax=ax4)\n",
    "\n",
    "ax1.title.set_text('||U||')\n",
    "ax2.title.set_text('||V||')\n",
    "ax3.title.set_text('||V||/||U||')\n",
    "ax4.title.set_text('||V||*||U||')\n",
    "\n",
    "plt.legend()\n",
    "plt.show()"
   ]
  },
  {
   "cell_type": "code",
   "execution_count": null,
   "id": "9760293c-9ef2-4f1b-bd64-7c630d6df5c5",
   "metadata": {
    "papermill": {
     "duration": null,
     "end_time": null,
     "exception": null,
     "start_time": null,
     "status": "pending"
    },
    "tags": []
   },
   "outputs": [],
   "source": [
    "from scipy import stats\n",
    "print(\"Trn\", trn_v_norms.min(), trn_v_norms.max(), trn_v_norms.ptp())\n",
    "print(\"Val\", val_v_norms.min(), val_v_norms.max(), val_v_norms.ptp())\n",
    "print(\"Ind\", ind_v_norms.min(), ind_v_norms.max(), ind_v_norms.ptp())\n",
    "if ood_str:\n",
    "    print(\"Ood\", ood_v_norms.min(), ood_v_norms.max(), ood_v_norms.ptp())\n",
    "print(\"Rnd\", rnd_v_norms.min(), rnd_v_norms.max(), rnd_v_norms.ptp())\n",
    "\n",
    "if ood_str:\n",
    "    ks_ind_ood = stats.kstest(ind_v_norms, ood_v_norms)\n",
    "    print(ks_ind_ood)"
   ]
  },
  {
   "cell_type": "code",
   "execution_count": null,
   "id": "052b54bc-517c-4f22-918f-2a86d876f7c9",
   "metadata": {
    "papermill": {
     "duration": null,
     "end_time": null,
     "exception": null,
     "start_time": null,
     "status": "pending"
    },
    "tags": []
   },
   "outputs": [],
   "source": [
    "if ood_str:\n",
    "    data_tst = pd.concat([data_ind, data_ood], axis=0)\n",
    "else:\n",
    "    data_tst = data_ind\n",
    "all_targets = list(data_tst['target'].unique())\n",
    "print(all_targets)\n",
    "\n",
    "N = 128\n",
    "\n",
    "pointwise_trn = {}\n",
    "pointwise_val = {}\n",
    "pointwise_tst = {}\n",
    "\n",
    "groupwise_trn = {}\n",
    "groupwise_val = {}\n",
    "groupwise_tst = {}\n",
    "\n",
    "for i in all_targets:\n",
    "    df_trn = data_trn[data_trn['target'] == i]\n",
    "    df_val = data_val[data_val['target'] == i]\n",
    "    df_tst = data_tst[data_tst['target'] == i]\n",
    "    pointwise_trn[i] = df_trn.copy()\n",
    "    pointwise_val[i] = df_val.copy()\n",
    "    pointwise_tst[i] = df_tst.copy()\n",
    "    groupwise_trn[i] = df_trn.rolling(N).agg(['mean', 'std']).dropna().copy()\n",
    "    groupwise_val[i] = df_val.rolling(N).agg(['mean', 'std']).dropna().copy()\n",
    "    groupwise_tst[i] = df_tst.rolling(N).agg(['mean', 'std']).dropna().copy()\n",
    "\n",
    "# pointwise\n",
    "fig, ([ax1, ax2, ax3], [ax4, ax5, ax6]) = plt.subplots(2, 3, figsize = (15, 4))\n",
    "fig.suptitle(f\"OOD Metric Classwise ({ood_str})\")\n",
    "\n",
    "for i in all_targets:\n",
    "    df_trn = pointwise_trn[i]\n",
    "    df_val = pointwise_val[i]\n",
    "    df_tst = pointwise_tst[i]\n",
    "    if len(df_trn) > 0:\n",
    "        sns.kdeplot(data=df_trn, x=\"u_norm\", log_scale=True, fill=True, label=config.labels[i], ax=ax1)\n",
    "        sns.kdeplot(data=df_trn, x=\"v_norm\", log_scale=True, fill=True, label=config.labels[i], ax=ax4)\n",
    "    if len(df_val) > 0:\n",
    "        sns.kdeplot(data=df_val, x=\"u_norm\", log_scale=True, fill=True, label=config.labels[i], ax=ax2)\n",
    "        sns.kdeplot(data=df_val, x=\"v_norm\", log_scale=True, fill=True, label=config.labels[i], ax=ax5)\n",
    "    if len(df_tst) > 0:\n",
    "        sns.kdeplot(data=df_tst, x=\"u_norm\", log_scale=True, fill=True, label=config.labels[i], ax=ax3)\n",
    "        sns.kdeplot(data=df_tst, x=\"v_norm\", log_scale=True, fill=True, label=config.labels[i], ax=ax6)\n",
    "\n",
    "ax1.title.set_text('||U|| (trn)')\n",
    "ax2.title.set_text('||U|| (val)')\n",
    "ax3.title.set_text('||U|| (tst)')\n",
    "ax4.title.set_text('||V|| (trn)')\n",
    "ax5.title.set_text('||V|| (val)')\n",
    "ax6.title.set_text('||V|| (tst)')\n",
    "plt.legend()\n",
    "plt.show()\n",
    "    \n",
    "# groupwise\n",
    "fig, ([ax1, ax2, ax3, ax4], [ax5, ax6, ax7, ax8], [ax9, axA, axB, axC]) = plt.subplots(3, 4, figsize = (20, 6))\n",
    "fig.suptitle(f\"OOD Metric Classwise Grouped ({ood_str})\")\n",
    "\n",
    "for i in all_targets:\n",
    "    df_trn = groupwise_trn[i]\n",
    "    df_val = groupwise_val[i]\n",
    "    df_tst = groupwise_tst[i]\n",
    "    if len(df_trn) > 0:\n",
    "        sns.kdeplot(data=df_trn.u_norm, x=\"mean\", log_scale=True, fill=True, label=config.labels[i], ax=ax1)\n",
    "        sns.kdeplot(data=df_trn.u_norm, x=\"std\", log_scale=True, fill=True, label=config.labels[i], ax=ax2)\n",
    "        sns.kdeplot(data=df_trn.v_norm, x=\"mean\", log_scale=True, fill=True, label=config.labels[i], ax=ax3)\n",
    "        sns.kdeplot(data=df_trn.v_norm, x=\"std\", log_scale=True, fill=True, label=config.labels[i], ax=ax4)\n",
    "    if len(df_val) > 0:\n",
    "        sns.kdeplot(data=df_val.u_norm, x=\"mean\", log_scale=True, fill=True, label=config.labels[i], ax=ax5)\n",
    "        sns.kdeplot(data=df_val.u_norm, x=\"std\", log_scale=True, fill=True, label=config.labels[i], ax=ax6)\n",
    "        sns.kdeplot(data=df_val.v_norm, x=\"mean\", log_scale=True, fill=True, label=config.labels[i], ax=ax7)\n",
    "        sns.kdeplot(data=df_val.v_norm, x=\"std\", log_scale=True, fill=True, label=config.labels[i], ax=ax8)\n",
    "    if len(df_tst) > 0:\n",
    "        sns.kdeplot(data=df_tst.u_norm, x=\"mean\", log_scale=True, fill=True, label=config.labels[i], ax=ax9)\n",
    "        sns.kdeplot(data=df_tst.u_norm, x=\"std\", log_scale=True, fill=True, label=config.labels[i], ax=axA)\n",
    "        sns.kdeplot(data=df_tst.v_norm, x=\"mean\", log_scale=True, fill=True, label=config.labels[i], ax=axB)\n",
    "        sns.kdeplot(data=df_tst.v_norm, x=\"std\", log_scale=True, fill=True, label=config.labels[i], ax=axC)\n",
    "\n",
    "ax1.title.set_text('||U|| mean')\n",
    "ax2.title.set_text('||U|| std')\n",
    "ax3.title.set_text('||V|| mean')\n",
    "ax4.title.set_text('||V|| std')\n",
    "plt.legend()\n",
    "plt.show()"
   ]
  },
  {
   "cell_type": "code",
   "execution_count": null,
   "id": "fb069228-59ec-4838-bdef-994387512d1b",
   "metadata": {
    "papermill": {
     "duration": null,
     "end_time": null,
     "exception": null,
     "start_time": null,
     "status": "pending"
    },
    "tags": []
   },
   "outputs": [],
   "source": [
    "# save vector norms for hypothesis testing\n",
    "\n",
    "base_path = Path(f\"assets/embeddings/{config.dataset_name}_{config.model_name}_M{config.emb_dims}_{ood_str}\")\n",
    "base_path.mkdir(exist_ok=True)\n",
    "\n",
    "for i in range(5):\n",
    "    df_trn = pointwise_trn.get(i, None)\n",
    "    df_val = pointwise_val.get(i, None)\n",
    "    df_tst = pointwise_tst.get(i, None)\n",
    "    if df_trn is not None and len(df_trn) > 0:\n",
    "        np.save(base_path / f\"train_{i}.npy\", df_trn.v_norm.values)\n",
    "    if df_val is not None and len(df_val) > 0:\n",
    "        np.save(base_path / f\"val_{i}.npy\", df_val.v_norm.values)\n",
    "    if df_tst is not None and len(df_tst) > 0:\n",
    "        np.save(base_path / f\"test_{i}.npy\", df_tst.v_norm.values)"
   ]
  },
  {
   "cell_type": "code",
   "execution_count": null,
   "id": "c1af27e1-92df-4a50-b3b3-30fd964d2928",
   "metadata": {
    "papermill": {
     "duration": null,
     "end_time": null,
     "exception": null,
     "start_time": null,
     "status": "pending"
    },
    "tags": []
   },
   "outputs": [],
   "source": []
  }
 ],
 "metadata": {
  "kernelspec": {
   "display_name": "Python (qpm-amrb)",
   "language": "python",
   "name": "qpm-amrb"
  },
  "language_info": {
   "codemirror_mode": {
    "name": "ipython",
    "version": 3
   },
   "file_extension": ".py",
   "mimetype": "text/x-python",
   "name": "python",
   "nbconvert_exporter": "python",
   "pygments_lexer": "ipython3",
   "version": "3.10.13"
  },
  "papermill": {
   "default_parameters": {},
   "duration": null,
   "end_time": null,
   "environment_variables": {},
   "exception": null,
   "input_path": "eval_mnist_flow_vcr_mse_M128.ipynb",
   "output_path": "assets/runs/eval_mnist_flow_vcr_mse_M128_ood_01234.ipynb",
   "parameters": {
    "ood": "0:1:2:3:4"
   },
   "start_time": "2023-11-03T12:44:41.994925",
   "version": "2.4.0"
  },
  "toc-autonumbering": false,
  "toc-showcode": true,
  "toc-showmarkdowntxt": false,
  "toc-showtags": true
 },
 "nbformat": 4,
 "nbformat_minor": 5
}