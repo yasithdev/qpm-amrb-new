{
 "cells": [
  {
   "cell_type": "code",
   "execution_count": 1,
   "id": "8deaa0b2-f1b8-4260-93ac-a5200671e71a",
   "metadata": {
    "execution": {
     "iopub.execute_input": "2023-10-18T17:52:16.050343Z",
     "iopub.status.busy": "2023-10-18T17:52:16.049671Z",
     "iopub.status.idle": "2023-10-18T17:52:25.935581Z",
     "shell.execute_reply": "2023-10-18T17:52:25.933832Z"
    },
    "papermill": {
     "duration": 9.909522,
     "end_time": "2023-10-18T17:52:25.939813",
     "exception": false,
     "start_time": "2023-10-18T17:52:16.030291",
     "status": "completed"
    },
    "tags": []
   },
   "outputs": [],
   "source": [
    "import numpy as np\n",
    "import torch\n",
    "\n",
    "# initialize the RNG deterministically\n",
    "np.random.seed(42)\n",
    "torch.manual_seed(42)\n",
    "torch.set_float32_matmul_precision('medium')"
   ]
  },
  {
   "cell_type": "code",
   "execution_count": 2,
   "id": "1cd74bc0-01e5-4fef-ae01-4630e7f160e3",
   "metadata": {
    "execution": {
     "iopub.execute_input": "2023-10-18T17:52:25.971126Z",
     "iopub.status.busy": "2023-10-18T17:52:25.970430Z",
     "iopub.status.idle": "2023-10-18T17:52:25.977929Z",
     "shell.execute_reply": "2023-10-18T17:52:25.976539Z"
    },
    "papermill": {
     "duration": 0.025475,
     "end_time": "2023-10-18T17:52:25.981401",
     "exception": false,
     "start_time": "2023-10-18T17:52:25.955926",
     "status": "completed"
    },
    "tags": [
     "parameters"
    ]
   },
   "outputs": [],
   "source": [
    "# parameters\n",
    "dataset_name = \"QPM_species\"\n",
    "model_name = \"flow_mse\"\n",
    "ood = \"1\""
   ]
  },
  {
   "cell_type": "code",
   "execution_count": 3,
   "id": "45800f5a",
   "metadata": {
    "execution": {
     "iopub.execute_input": "2023-10-18T17:52:26.010471Z",
     "iopub.status.busy": "2023-10-18T17:52:26.009919Z",
     "iopub.status.idle": "2023-10-18T17:52:26.028224Z",
     "shell.execute_reply": "2023-10-18T17:52:26.026820Z"
    },
    "papermill": {
     "duration": 0.035827,
     "end_time": "2023-10-18T17:52:26.031967",
     "exception": false,
     "start_time": "2023-10-18T17:52:25.996140",
     "status": "completed"
    },
    "tags": [
     "injected-parameters"
    ]
   },
   "outputs": [],
   "source": [
    "# Parameters\n",
    "ood = 2\n"
   ]
  },
  {
   "cell_type": "code",
   "execution_count": 4,
   "id": "3879d770-c553-4cf3-82a9-03295b3857c0",
   "metadata": {
    "execution": {
     "iopub.execute_input": "2023-10-18T17:52:26.066743Z",
     "iopub.status.busy": "2023-10-18T17:52:26.066182Z",
     "iopub.status.idle": "2023-10-18T17:52:36.931134Z",
     "shell.execute_reply": "2023-10-18T17:52:36.928985Z"
    },
    "papermill": {
     "duration": 10.885926,
     "end_time": "2023-10-18T17:52:36.935330",
     "exception": false,
     "start_time": "2023-10-18T17:52:26.049404",
     "status": "completed"
    },
    "tags": []
   },
   "outputs": [],
   "source": [
    "# initialize data attributes and loaders\n",
    "from config import load_config\n",
    "\n",
    "config = load_config(\n",
    "    dataset_name = dataset_name,\n",
    "    model_name = model_name,\n",
    "    ood = ood,\n",
    ")\n",
    "config.load_data()\n",
    "config.print_labels()\n",
    "dm = config.datamodule\n",
    "\n",
    "assert dm"
   ]
  },
  {
   "cell_type": "code",
   "execution_count": 5,
   "id": "be308725-f7d2-4dd8-bec1-ced167a60475",
   "metadata": {
    "execution": {
     "iopub.execute_input": "2023-10-18T17:52:36.971574Z",
     "iopub.status.busy": "2023-10-18T17:52:36.970365Z",
     "iopub.status.idle": "2023-10-18T17:52:48.195257Z",
     "shell.execute_reply": "2023-10-18T17:52:48.194510Z"
    },
    "papermill": {
     "duration": 11.245061,
     "end_time": "2023-10-18T17:52:48.198943",
     "exception": false,
     "start_time": "2023-10-18T17:52:36.953882",
     "status": "completed"
    },
    "tags": []
   },
   "outputs": [
    {
     "name": "stdout",
     "output_type": "stream",
     "text": [
      "Dataset type train label type: species\n"
     ]
    },
    {
     "name": "stdout",
     "output_type": "stream",
     "text": [
      "Loaded 274157 images\n",
      "Dataset type val label type: species\n"
     ]
    },
    {
     "name": "stdout",
     "output_type": "stream",
     "text": [
      "Loaded 35900 images\n",
      "Dataset type test label type: species\n"
     ]
    },
    {
     "name": "stdout",
     "output_type": "stream",
     "text": [
      "Loaded 36128 images\n",
      "Dataset type train label type: species\n"
     ]
    },
    {
     "name": "stdout",
     "output_type": "stream",
     "text": [
      "Loaded 101286 images\n",
      "Dataset type val label type: species\n"
     ]
    },
    {
     "name": "stdout",
     "output_type": "stream",
     "text": [
      "Loaded 12662 images\n",
      "Dataset type test label type: species\n"
     ]
    },
    {
     "name": "stdout",
     "output_type": "stream",
     "text": [
      "Loaded 12662 images\n"
     ]
    }
   ],
   "source": [
    "dm.setup(\"fit\")\n",
    "dm.setup(\"test\")\n",
    "dm.setup(\"predict\")"
   ]
  },
  {
   "cell_type": "code",
   "execution_count": 6,
   "id": "d278a289-4ddb-4e1f-981f-3ca2302fd7d0",
   "metadata": {
    "execution": {
     "iopub.execute_input": "2023-10-18T17:52:48.235407Z",
     "iopub.status.busy": "2023-10-18T17:52:48.235007Z",
     "iopub.status.idle": "2023-10-18T17:52:48.241894Z",
     "shell.execute_reply": "2023-10-18T17:52:48.240633Z"
    },
    "papermill": {
     "duration": 0.026876,
     "end_time": "2023-10-18T17:52:48.244730",
     "exception": false,
     "start_time": "2023-10-18T17:52:48.217854",
     "status": "completed"
    },
    "tags": []
   },
   "outputs": [
    {
     "name": "stdout",
     "output_type": "stream",
     "text": [
      "72y7x1fk\n"
     ]
    }
   ],
   "source": [
    "# model id for each ood_k\n",
    "model_ids = ['3qdutcy1', 'czgx4bod', '72y7x1fk', 'cqp59iho', 'fwur6c78']\n",
    "model_id = model_ids[config.ood[0]]\n",
    "print(model_id)"
   ]
  },
  {
   "cell_type": "code",
   "execution_count": 7,
   "id": "3440bd05-57de-4416-9974-488bb665ad95",
   "metadata": {
    "execution": {
     "iopub.execute_input": "2023-10-18T17:52:48.275772Z",
     "iopub.status.busy": "2023-10-18T17:52:48.275196Z",
     "iopub.status.idle": "2023-10-18T17:52:55.160826Z",
     "shell.execute_reply": "2023-10-18T17:52:55.159281Z"
    },
    "papermill": {
     "duration": 6.906325,
     "end_time": "2023-10-18T17:52:55.164508",
     "exception": false,
     "start_time": "2023-10-18T17:52:48.258183",
     "status": "completed"
    },
    "tags": []
   },
   "outputs": [],
   "source": [
    "model = config.get_model()"
   ]
  },
  {
   "cell_type": "code",
   "execution_count": 8,
   "id": "77d956eb-a9c6-4adb-b5f3-a1efbce55036",
   "metadata": {
    "execution": {
     "iopub.execute_input": "2023-10-18T17:52:55.202351Z",
     "iopub.status.busy": "2023-10-18T17:52:55.201532Z",
     "iopub.status.idle": "2023-10-18T17:53:00.586982Z",
     "shell.execute_reply": "2023-10-18T17:53:00.586263Z"
    },
    "papermill": {
     "duration": 5.406903,
     "end_time": "2023-10-18T17:53:00.590439",
     "exception": false,
     "start_time": "2023-10-18T17:52:55.183536",
     "status": "completed"
    },
    "tags": []
   },
   "outputs": [
    {
     "name": "stderr",
     "output_type": "stream",
     "text": [
      "\u001b[34m\u001b[1mwandb\u001b[0m:   1 of 1 files downloaded.  \n"
     ]
    }
   ],
   "source": [
    "from pathlib import Path\n",
    "from lightning.pytorch.loggers.wandb import WandbLogger\n",
    "\n",
    "artifact_dir = WandbLogger.download_artifact(artifact=f\"yasith/robust_ml/model-{model_id}:best\")\n",
    "model = model.__class__.load_from_checkpoint(Path(artifact_dir) / \"model.ckpt\", config=config)\n",
    "model = model.cuda()\n",
    "model.eval();"
   ]
  },
  {
   "cell_type": "code",
   "execution_count": 9,
   "id": "e2d03d9a-cb33-4ace-9e4a-e2d4b0dbe94f",
   "metadata": {
    "execution": {
     "iopub.execute_input": "2023-10-18T17:53:00.628281Z",
     "iopub.status.busy": "2023-10-18T17:53:00.627882Z",
     "iopub.status.idle": "2023-10-18T17:53:00.632485Z",
     "shell.execute_reply": "2023-10-18T17:53:00.631839Z"
    },
    "papermill": {
     "duration": 0.026718,
     "end_time": "2023-10-18T17:53:00.636133",
     "exception": false,
     "start_time": "2023-10-18T17:53:00.609415",
     "status": "completed"
    },
    "tags": []
   },
   "outputs": [],
   "source": [
    "train_loader = dm.train_dataloader()\n",
    "val_loader = dm.val_dataloader()\n",
    "test_loader = dm.test_dataloader()\n",
    "predict_loader = dm.predict_dataloader()"
   ]
  },
  {
   "cell_type": "code",
   "execution_count": 10,
   "id": "5ef2017e-b03e-4a5e-ab7a-08108ad0a70d",
   "metadata": {
    "execution": {
     "iopub.execute_input": "2023-10-18T17:53:00.667201Z",
     "iopub.status.busy": "2023-10-18T17:53:00.666781Z",
     "iopub.status.idle": "2023-10-18T17:55:05.296479Z",
     "shell.execute_reply": "2023-10-18T17:55:05.295683Z"
    },
    "papermill": {
     "duration": 124.649551,
     "end_time": "2023-10-18T17:55:05.299822",
     "exception": false,
     "start_time": "2023-10-18T17:53:00.650271",
     "status": "completed"
    },
    "tags": []
   },
   "outputs": [
    {
     "name": "stderr",
     "output_type": "stream",
     "text": [
      "\r",
      "  0%|                                                                                                                                                                  | 0/283 [00:00<?, ?it/s]"
     ]
    },
    {
     "name": "stderr",
     "output_type": "stream",
     "text": [
      "\r",
      "  0%|▌                                                                                                                                                         | 1/283 [00:01<05:37,  1.20s/it]"
     ]
    },
    {
     "name": "stderr",
     "output_type": "stream",
     "text": [
      "\r",
      "  1%|█                                                                                                                                                         | 2/283 [00:01<02:38,  1.77it/s]"
     ]
    },
    {
     "name": "stderr",
     "output_type": "stream",
     "text": [
      "\r",
      "  1%|██▏                                                                                                                                                       | 4/283 [00:01<01:14,  3.75it/s]"
     ]
    },
    {
     "name": "stderr",
     "output_type": "stream",
     "text": [
      "\r",
      "  2%|███▎                                                                                                                                                      | 6/283 [00:01<00:50,  5.47it/s]"
     ]
    },
    {
     "name": "stderr",
     "output_type": "stream",
     "text": [
      "\r",
      "  3%|████▎                                                                                                                                                     | 8/283 [00:01<00:39,  6.90it/s]"
     ]
    },
    {
     "name": "stderr",
     "output_type": "stream",
     "text": [
      "\r",
      "  4%|█████▍                                                                                                                                                   | 10/283 [00:02<00:33,  8.03it/s]"
     ]
    },
    {
     "name": "stderr",
     "output_type": "stream",
     "text": [
      "\r",
      "  4%|██████▍                                                                                                                                                  | 12/283 [00:02<00:30,  8.90it/s]"
     ]
    },
    {
     "name": "stderr",
     "output_type": "stream",
     "text": [
      "\r",
      "  5%|███████▌                                                                                                                                                 | 14/283 [00:02<00:28,  9.56it/s]"
     ]
    },
    {
     "name": "stderr",
     "output_type": "stream",
     "text": [
      "\r",
      "  6%|████████▋                                                                                                                                                | 16/283 [00:02<00:26, 10.04it/s]"
     ]
    },
    {
     "name": "stderr",
     "output_type": "stream",
     "text": [
      "\r",
      "  6%|█████████▋                                                                                                                                               | 18/283 [00:02<00:25, 10.39it/s]"
     ]
    },
    {
     "name": "stderr",
     "output_type": "stream",
     "text": [
      "\r",
      "  7%|██████████▊                                                                                                                                              | 20/283 [00:02<00:24, 10.63it/s]"
     ]
    },
    {
     "name": "stderr",
     "output_type": "stream",
     "text": [
      "\r",
      "  8%|███████████▉                                                                                                                                             | 22/283 [00:03<00:24, 10.80it/s]"
     ]
    },
    {
     "name": "stderr",
     "output_type": "stream",
     "text": [
      "\r",
      "  8%|████████████▉                                                                                                                                            | 24/283 [00:03<00:23, 10.93it/s]"
     ]
    },
    {
     "name": "stderr",
     "output_type": "stream",
     "text": [
      "\r",
      "  9%|██████████████                                                                                                                                           | 26/283 [00:03<00:23, 11.02it/s]"
     ]
    },
    {
     "name": "stderr",
     "output_type": "stream",
     "text": [
      "\r",
      " 10%|███████████████▏                                                                                                                                         | 28/283 [00:03<00:23, 11.08it/s]"
     ]
    },
    {
     "name": "stderr",
     "output_type": "stream",
     "text": [
      "\r",
      " 11%|████████████████▏                                                                                                                                        | 30/283 [00:03<00:22, 11.12it/s]"
     ]
    },
    {
     "name": "stderr",
     "output_type": "stream",
     "text": [
      "\r",
      " 11%|█████████████████▎                                                                                                                                       | 32/283 [00:03<00:22, 11.16it/s]"
     ]
    },
    {
     "name": "stderr",
     "output_type": "stream",
     "text": [
      "\r",
      " 12%|██████████████████▍                                                                                                                                      | 34/283 [00:04<00:22, 11.18it/s]"
     ]
    },
    {
     "name": "stderr",
     "output_type": "stream",
     "text": [
      "\r",
      " 13%|███████████████████▍                                                                                                                                     | 36/283 [00:04<00:22, 11.19it/s]"
     ]
    },
    {
     "name": "stderr",
     "output_type": "stream",
     "text": [
      "\r",
      " 13%|████████████████████▌                                                                                                                                    | 38/283 [00:04<00:21, 11.20it/s]"
     ]
    },
    {
     "name": "stderr",
     "output_type": "stream",
     "text": [
      "\r",
      " 14%|█████████████████████▋                                                                                                                                   | 40/283 [00:04<00:21, 11.20it/s]"
     ]
    },
    {
     "name": "stderr",
     "output_type": "stream",
     "text": [
      "\r",
      " 15%|██████████████████████▋                                                                                                                                  | 42/283 [00:04<00:21, 11.21it/s]"
     ]
    },
    {
     "name": "stderr",
     "output_type": "stream",
     "text": [
      "\r",
      " 16%|███████████████████████▊                                                                                                                                 | 44/283 [00:05<00:21, 11.21it/s]"
     ]
    },
    {
     "name": "stderr",
     "output_type": "stream",
     "text": [
      "\r",
      " 16%|████████████████████████▊                                                                                                                                | 46/283 [00:05<00:21, 11.21it/s]"
     ]
    },
    {
     "name": "stderr",
     "output_type": "stream",
     "text": [
      "\r",
      " 17%|█████████████████████████▉                                                                                                                               | 48/283 [00:05<00:20, 11.21it/s]"
     ]
    },
    {
     "name": "stderr",
     "output_type": "stream",
     "text": [
      "\r",
      " 18%|███████████████████████████                                                                                                                              | 50/283 [00:05<00:20, 11.22it/s]"
     ]
    },
    {
     "name": "stderr",
     "output_type": "stream",
     "text": [
      "\r",
      " 18%|████████████████████████████                                                                                                                             | 52/283 [00:05<00:20, 11.22it/s]"
     ]
    },
    {
     "name": "stderr",
     "output_type": "stream",
     "text": [
      "\r",
      " 19%|█████████████████████████████▏                                                                                                                           | 54/283 [00:05<00:20, 11.22it/s]"
     ]
    },
    {
     "name": "stderr",
     "output_type": "stream",
     "text": [
      "\r",
      " 20%|██████████████████████████████▎                                                                                                                          | 56/283 [00:06<00:20, 11.22it/s]"
     ]
    },
    {
     "name": "stderr",
     "output_type": "stream",
     "text": [
      "\r",
      " 20%|███████████████████████████████▎                                                                                                                         | 58/283 [00:06<00:20, 11.22it/s]"
     ]
    },
    {
     "name": "stderr",
     "output_type": "stream",
     "text": [
      "\r",
      " 21%|████████████████████████████████▍                                                                                                                        | 60/283 [00:06<00:19, 11.22it/s]"
     ]
    },
    {
     "name": "stderr",
     "output_type": "stream",
     "text": [
      "\r",
      " 22%|█████████████████████████████████▌                                                                                                                       | 62/283 [00:06<00:19, 11.23it/s]"
     ]
    },
    {
     "name": "stderr",
     "output_type": "stream",
     "text": [
      "\r",
      " 23%|██████████████████████████████████▌                                                                                                                      | 64/283 [00:06<00:19, 11.22it/s]"
     ]
    },
    {
     "name": "stderr",
     "output_type": "stream",
     "text": [
      "\r",
      " 23%|███████████████████████████████████▋                                                                                                                     | 66/283 [00:07<00:19, 11.23it/s]"
     ]
    },
    {
     "name": "stderr",
     "output_type": "stream",
     "text": [
      "\r",
      " 24%|████████████████████████████████████▊                                                                                                                    | 68/283 [00:07<00:19, 11.22it/s]"
     ]
    },
    {
     "name": "stderr",
     "output_type": "stream",
     "text": [
      "\r",
      " 25%|█████████████████████████████████████▊                                                                                                                   | 70/283 [00:07<00:18, 11.23it/s]"
     ]
    },
    {
     "name": "stderr",
     "output_type": "stream",
     "text": [
      "\r",
      " 25%|██████████████████████████████████████▉                                                                                                                  | 72/283 [00:07<00:18, 11.22it/s]"
     ]
    },
    {
     "name": "stderr",
     "output_type": "stream",
     "text": [
      "\r",
      " 26%|████████████████████████████████████████                                                                                                                 | 74/283 [00:07<00:18, 11.21it/s]"
     ]
    },
    {
     "name": "stderr",
     "output_type": "stream",
     "text": [
      "\r",
      " 27%|█████████████████████████████████████████                                                                                                                | 76/283 [00:07<00:18, 11.21it/s]"
     ]
    },
    {
     "name": "stderr",
     "output_type": "stream",
     "text": [
      "\r",
      " 28%|██████████████████████████████████████████▏                                                                                                              | 78/283 [00:08<00:18, 11.21it/s]"
     ]
    },
    {
     "name": "stderr",
     "output_type": "stream",
     "text": [
      "\r",
      " 28%|███████████████████████████████████████████▎                                                                                                             | 80/283 [00:08<00:18, 11.21it/s]"
     ]
    },
    {
     "name": "stderr",
     "output_type": "stream",
     "text": [
      "\r",
      " 29%|████████████████████████████████████████████▎                                                                                                            | 82/283 [00:08<00:17, 11.21it/s]"
     ]
    },
    {
     "name": "stderr",
     "output_type": "stream",
     "text": [
      "\r",
      " 30%|█████████████████████████████████████████████▍                                                                                                           | 84/283 [00:08<00:17, 11.21it/s]"
     ]
    },
    {
     "name": "stderr",
     "output_type": "stream",
     "text": [
      "\r",
      " 30%|██████████████████████████████████████████████▍                                                                                                          | 86/283 [00:08<00:17, 11.21it/s]"
     ]
    },
    {
     "name": "stderr",
     "output_type": "stream",
     "text": [
      "\r",
      " 31%|███████████████████████████████████████████████▌                                                                                                         | 88/283 [00:08<00:17, 11.21it/s]"
     ]
    },
    {
     "name": "stderr",
     "output_type": "stream",
     "text": [
      "\r",
      " 32%|████████████████████████████████████████████████▋                                                                                                        | 90/283 [00:09<00:17, 11.21it/s]"
     ]
    },
    {
     "name": "stderr",
     "output_type": "stream",
     "text": [
      "\r",
      " 33%|█████████████████████████████████████████████████▋                                                                                                       | 92/283 [00:09<00:17, 11.20it/s]"
     ]
    },
    {
     "name": "stderr",
     "output_type": "stream",
     "text": [
      "\r",
      " 33%|██████████████████████████████████████████████████▊                                                                                                      | 94/283 [00:09<00:16, 11.20it/s]"
     ]
    },
    {
     "name": "stderr",
     "output_type": "stream",
     "text": [
      "\r",
      " 34%|███████████████████████████████████████████████████▉                                                                                                     | 96/283 [00:09<00:16, 11.20it/s]"
     ]
    },
    {
     "name": "stderr",
     "output_type": "stream",
     "text": [
      "\r",
      " 35%|████████████████████████████████████████████████████▉                                                                                                    | 98/283 [00:09<00:16, 11.21it/s]"
     ]
    },
    {
     "name": "stderr",
     "output_type": "stream",
     "text": [
      "\r",
      " 35%|█████████████████████████████████████████████████████▋                                                                                                  | 100/283 [00:10<00:16, 11.20it/s]"
     ]
    },
    {
     "name": "stderr",
     "output_type": "stream",
     "text": [
      "\r",
      " 36%|██████████████████████████████████████████████████████▊                                                                                                 | 102/283 [00:10<00:16, 11.21it/s]"
     ]
    },
    {
     "name": "stderr",
     "output_type": "stream",
     "text": [
      "\r",
      " 37%|███████████████████████████████████████████████████████▊                                                                                                | 104/283 [00:10<00:15, 11.21it/s]"
     ]
    },
    {
     "name": "stderr",
     "output_type": "stream",
     "text": [
      "\r",
      " 37%|████████████████████████████████████████████████████████▉                                                                                               | 106/283 [00:10<00:15, 11.21it/s]"
     ]
    },
    {
     "name": "stderr",
     "output_type": "stream",
     "text": [
      "\r",
      " 38%|██████████████████████████████████████████████████████████                                                                                              | 108/283 [00:10<00:15, 11.21it/s]"
     ]
    },
    {
     "name": "stderr",
     "output_type": "stream",
     "text": [
      "\r",
      " 39%|███████████████████████████████████████████████████████████                                                                                             | 110/283 [00:10<00:15, 11.21it/s]"
     ]
    },
    {
     "name": "stderr",
     "output_type": "stream",
     "text": [
      "\r",
      " 40%|████████████████████████████████████████████████████████████▏                                                                                           | 112/283 [00:11<00:15, 11.21it/s]"
     ]
    },
    {
     "name": "stderr",
     "output_type": "stream",
     "text": [
      "\r",
      " 40%|█████████████████████████████████████████████████████████████▏                                                                                          | 114/283 [00:11<00:15, 11.22it/s]"
     ]
    },
    {
     "name": "stderr",
     "output_type": "stream",
     "text": [
      "\r",
      " 41%|██████████████████████████████████████████████████████████████▎                                                                                         | 116/283 [00:11<00:14, 11.22it/s]"
     ]
    },
    {
     "name": "stderr",
     "output_type": "stream",
     "text": [
      "\r",
      " 42%|███████████████████████████████████████████████████████████████▍                                                                                        | 118/283 [00:11<00:14, 11.22it/s]"
     ]
    },
    {
     "name": "stderr",
     "output_type": "stream",
     "text": [
      "\r",
      " 42%|████████████████████████████████████████████████████████████████▍                                                                                       | 120/283 [00:11<00:14, 11.21it/s]"
     ]
    },
    {
     "name": "stderr",
     "output_type": "stream",
     "text": [
      "\r",
      " 43%|█████████████████████████████████████████████████████████████████▌                                                                                      | 122/283 [00:12<00:14, 11.21it/s]"
     ]
    },
    {
     "name": "stderr",
     "output_type": "stream",
     "text": [
      "\r",
      " 44%|██████████████████████████████████████████████████████████████████▌                                                                                     | 124/283 [00:12<00:14, 11.21it/s]"
     ]
    },
    {
     "name": "stderr",
     "output_type": "stream",
     "text": [
      "\r",
      " 45%|███████████████████████████████████████████████████████████████████▋                                                                                    | 126/283 [00:12<00:14, 11.21it/s]"
     ]
    },
    {
     "name": "stderr",
     "output_type": "stream",
     "text": [
      "\r",
      " 45%|████████████████████████████████████████████████████████████████████▋                                                                                   | 128/283 [00:12<00:13, 11.21it/s]"
     ]
    },
    {
     "name": "stderr",
     "output_type": "stream",
     "text": [
      "\r",
      " 46%|█████████████████████████████████████████████████████████████████████▊                                                                                  | 130/283 [00:12<00:13, 11.22it/s]"
     ]
    },
    {
     "name": "stderr",
     "output_type": "stream",
     "text": [
      "\r",
      " 47%|██████████████████████████████████████████████████████████████████████▉                                                                                 | 132/283 [00:12<00:13, 11.21it/s]"
     ]
    },
    {
     "name": "stderr",
     "output_type": "stream",
     "text": [
      "\r",
      " 47%|███████████████████████████████████████████████████████████████████████▉                                                                                | 134/283 [00:13<00:13, 11.22it/s]"
     ]
    },
    {
     "name": "stderr",
     "output_type": "stream",
     "text": [
      "\r",
      " 48%|█████████████████████████████████████████████████████████████████████████                                                                               | 136/283 [00:13<00:13, 11.21it/s]"
     ]
    },
    {
     "name": "stderr",
     "output_type": "stream",
     "text": [
      "\r",
      " 49%|██████████████████████████████████████████████████████████████████████████                                                                              | 138/283 [00:13<00:12, 11.22it/s]"
     ]
    },
    {
     "name": "stderr",
     "output_type": "stream",
     "text": [
      "\r",
      " 49%|███████████████████████████████████████████████████████████████████████████▏                                                                            | 140/283 [00:13<00:12, 11.21it/s]"
     ]
    },
    {
     "name": "stderr",
     "output_type": "stream",
     "text": [
      "\r",
      " 50%|████████████████████████████████████████████████████████████████████████████▎                                                                           | 142/283 [00:13<00:12, 11.18it/s]"
     ]
    },
    {
     "name": "stderr",
     "output_type": "stream",
     "text": [
      "\r",
      " 51%|█████████████████████████████████████████████████████████████████████████████▎                                                                          | 144/283 [00:13<00:12, 11.19it/s]"
     ]
    },
    {
     "name": "stderr",
     "output_type": "stream",
     "text": [
      "\r",
      " 52%|██████████████████████████████████████████████████████████████████████████████▍                                                                         | 146/283 [00:14<00:12, 11.20it/s]"
     ]
    },
    {
     "name": "stderr",
     "output_type": "stream",
     "text": [
      "\r",
      " 52%|███████████████████████████████████████████████████████████████████████████████▍                                                                        | 148/283 [00:14<00:12, 11.19it/s]"
     ]
    },
    {
     "name": "stderr",
     "output_type": "stream",
     "text": [
      "\r",
      " 53%|████████████████████████████████████████████████████████████████████████████████▌                                                                       | 150/283 [00:14<00:11, 11.20it/s]"
     ]
    },
    {
     "name": "stderr",
     "output_type": "stream",
     "text": [
      "\r",
      " 54%|█████████████████████████████████████████████████████████████████████████████████▋                                                                      | 152/283 [00:14<00:11, 11.19it/s]"
     ]
    },
    {
     "name": "stderr",
     "output_type": "stream",
     "text": [
      "\r",
      " 54%|██████████████████████████████████████████████████████████████████████████████████▋                                                                     | 154/283 [00:14<00:11, 11.19it/s]"
     ]
    },
    {
     "name": "stderr",
     "output_type": "stream",
     "text": [
      "\r",
      " 55%|███████████████████████████████████████████████████████████████████████████████████▊                                                                    | 156/283 [00:15<00:11, 11.20it/s]"
     ]
    },
    {
     "name": "stderr",
     "output_type": "stream",
     "text": [
      "\r",
      " 56%|████████████████████████████████████████████████████████████████████████████████████▊                                                                   | 158/283 [00:15<00:11, 11.20it/s]"
     ]
    },
    {
     "name": "stderr",
     "output_type": "stream",
     "text": [
      "\r",
      " 57%|█████████████████████████████████████████████████████████████████████████████████████▉                                                                  | 160/283 [00:15<00:10, 11.20it/s]"
     ]
    },
    {
     "name": "stderr",
     "output_type": "stream",
     "text": [
      "\r",
      " 57%|███████████████████████████████████████████████████████████████████████████████████████                                                                 | 162/283 [00:15<00:10, 11.18it/s]"
     ]
    },
    {
     "name": "stderr",
     "output_type": "stream",
     "text": [
      "\r",
      " 58%|████████████████████████████████████████████████████████████████████████████████████████                                                                | 164/283 [00:15<00:10, 11.18it/s]"
     ]
    },
    {
     "name": "stderr",
     "output_type": "stream",
     "text": [
      "\r",
      " 59%|█████████████████████████████████████████████████████████████████████████████████████████▏                                                              | 166/283 [00:15<00:10, 11.19it/s]"
     ]
    },
    {
     "name": "stderr",
     "output_type": "stream",
     "text": [
      "\r",
      " 59%|██████████████████████████████████████████████████████████████████████████████████████████▏                                                             | 168/283 [00:16<00:10, 11.17it/s]"
     ]
    },
    {
     "name": "stderr",
     "output_type": "stream",
     "text": [
      "\r",
      " 60%|███████████████████████████████████████████████████████████████████████████████████████████▎                                                            | 170/283 [00:16<00:10, 11.16it/s]"
     ]
    },
    {
     "name": "stderr",
     "output_type": "stream",
     "text": [
      "\r",
      " 61%|████████████████████████████████████████████████████████████████████████████████████████████▍                                                           | 172/283 [00:16<00:09, 11.17it/s]"
     ]
    },
    {
     "name": "stderr",
     "output_type": "stream",
     "text": [
      "\r",
      " 61%|█████████████████████████████████████████████████████████████████████████████████████████████▍                                                          | 174/283 [00:16<00:09, 11.16it/s]"
     ]
    },
    {
     "name": "stderr",
     "output_type": "stream",
     "text": [
      "\r",
      " 62%|██████████████████████████████████████████████████████████████████████████████████████████████▌                                                         | 176/283 [00:16<00:09, 11.16it/s]"
     ]
    },
    {
     "name": "stderr",
     "output_type": "stream",
     "text": [
      "\r",
      " 63%|███████████████████████████████████████████████████████████████████████████████████████████████▌                                                        | 178/283 [00:17<00:09, 11.17it/s]"
     ]
    },
    {
     "name": "stderr",
     "output_type": "stream",
     "text": [
      "\r",
      " 64%|████████████████████████████████████████████████████████████████████████████████████████████████▋                                                       | 180/283 [00:17<00:09, 11.17it/s]"
     ]
    },
    {
     "name": "stderr",
     "output_type": "stream",
     "text": [
      "\r",
      " 64%|█████████████████████████████████████████████████████████████████████████████████████████████████▊                                                      | 182/283 [00:17<00:09, 11.18it/s]"
     ]
    },
    {
     "name": "stderr",
     "output_type": "stream",
     "text": [
      "\r",
      " 65%|██████████████████████████████████████████████████████████████████████████████████████████████████▊                                                     | 184/283 [00:17<00:08, 11.18it/s]"
     ]
    },
    {
     "name": "stderr",
     "output_type": "stream",
     "text": [
      "\r",
      " 66%|███████████████████████████████████████████████████████████████████████████████████████████████████▉                                                    | 186/283 [00:17<00:08, 11.18it/s]"
     ]
    },
    {
     "name": "stderr",
     "output_type": "stream",
     "text": [
      "\r",
      " 66%|████████████████████████████████████████████████████████████████████████████████████████████████████▉                                                   | 188/283 [00:17<00:08, 11.19it/s]"
     ]
    },
    {
     "name": "stderr",
     "output_type": "stream",
     "text": [
      "\r",
      " 67%|██████████████████████████████████████████████████████████████████████████████████████████████████████                                                  | 190/283 [00:18<00:08, 11.18it/s]"
     ]
    },
    {
     "name": "stderr",
     "output_type": "stream",
     "text": [
      "\r",
      " 68%|███████████████████████████████████████████████████████████████████████████████████████████████████████                                                 | 192/283 [00:18<00:08, 11.18it/s]"
     ]
    },
    {
     "name": "stderr",
     "output_type": "stream",
     "text": [
      "\r",
      " 69%|████████████████████████████████████████████████████████████████████████████████████████████████████████▏                                               | 194/283 [00:18<00:07, 11.18it/s]"
     ]
    },
    {
     "name": "stderr",
     "output_type": "stream",
     "text": [
      "\r",
      " 69%|█████████████████████████████████████████████████████████████████████████████████████████████████████████▎                                              | 196/283 [00:18<00:07, 11.18it/s]"
     ]
    },
    {
     "name": "stderr",
     "output_type": "stream",
     "text": [
      "\r",
      " 70%|██████████████████████████████████████████████████████████████████████████████████████████████████████████▎                                             | 198/283 [00:18<00:07, 11.18it/s]"
     ]
    },
    {
     "name": "stderr",
     "output_type": "stream",
     "text": [
      "\r",
      " 71%|███████████████████████████████████████████████████████████████████████████████████████████████████████████▍                                            | 200/283 [00:18<00:07, 11.18it/s]"
     ]
    },
    {
     "name": "stderr",
     "output_type": "stream",
     "text": [
      "\r",
      " 71%|████████████████████████████████████████████████████████████████████████████████████████████████████████████▍                                           | 202/283 [00:19<00:07, 11.18it/s]"
     ]
    },
    {
     "name": "stderr",
     "output_type": "stream",
     "text": [
      "\r",
      " 72%|█████████████████████████████████████████████████████████████████████████████████████████████████████████████▌                                          | 204/283 [00:19<00:07, 11.18it/s]"
     ]
    },
    {
     "name": "stderr",
     "output_type": "stream",
     "text": [
      "\r",
      " 73%|██████████████████████████████████████████████████████████████████████████████████████████████████████████████▋                                         | 206/283 [00:19<00:06, 11.18it/s]"
     ]
    },
    {
     "name": "stderr",
     "output_type": "stream",
     "text": [
      "\r",
      " 73%|███████████████████████████████████████████████████████████████████████████████████████████████████████████████▋                                        | 208/283 [00:19<00:06, 11.16it/s]"
     ]
    },
    {
     "name": "stderr",
     "output_type": "stream",
     "text": [
      "\r",
      " 74%|████████████████████████████████████████████████████████████████████████████████████████████████████████████████▊                                       | 210/283 [00:19<00:06, 11.17it/s]"
     ]
    },
    {
     "name": "stderr",
     "output_type": "stream",
     "text": [
      "\r",
      " 75%|█████████████████████████████████████████████████████████████████████████████████████████████████████████████████▊                                      | 212/283 [00:20<00:06, 11.15it/s]"
     ]
    },
    {
     "name": "stderr",
     "output_type": "stream",
     "text": [
      "\r",
      " 76%|██████████████████████████████████████████████████████████████████████████████████████████████████████████████████▉                                     | 214/283 [00:20<00:06, 11.16it/s]"
     ]
    },
    {
     "name": "stderr",
     "output_type": "stream",
     "text": [
      "\r",
      " 76%|████████████████████████████████████████████████████████████████████████████████████████████████████████████████████                                    | 216/283 [00:20<00:06, 11.15it/s]"
     ]
    },
    {
     "name": "stderr",
     "output_type": "stream",
     "text": [
      "\r",
      " 77%|█████████████████████████████████████████████████████████████████████████████████████████████████████████████████████                                   | 218/283 [00:20<00:05, 11.15it/s]"
     ]
    },
    {
     "name": "stderr",
     "output_type": "stream",
     "text": [
      "\r",
      " 78%|██████████████████████████████████████████████████████████████████████████████████████████████████████████████████████▏                                 | 220/283 [00:20<00:05, 11.15it/s]"
     ]
    },
    {
     "name": "stderr",
     "output_type": "stream",
     "text": [
      "\r",
      " 78%|███████████████████████████████████████████████████████████████████████████████████████████████████████████████████████▏                                | 222/283 [00:20<00:05, 11.15it/s]"
     ]
    },
    {
     "name": "stderr",
     "output_type": "stream",
     "text": [
      "\r",
      " 79%|████████████████████████████████████████████████████████████████████████████████████████████████████████████████████████▎                               | 224/283 [00:21<00:05, 11.15it/s]"
     ]
    },
    {
     "name": "stderr",
     "output_type": "stream",
     "text": [
      "\r",
      " 80%|█████████████████████████████████████████████████████████████████████████████████████████████████████████████████████████▍                              | 226/283 [00:21<00:05, 11.15it/s]"
     ]
    },
    {
     "name": "stderr",
     "output_type": "stream",
     "text": [
      "\r",
      " 81%|██████████████████████████████████████████████████████████████████████████████████████████████████████████████████████████▍                             | 228/283 [00:21<00:04, 11.16it/s]"
     ]
    },
    {
     "name": "stderr",
     "output_type": "stream",
     "text": [
      "\r",
      " 81%|███████████████████████████████████████████████████████████████████████████████████████████████████████████████████████████▌                            | 230/283 [00:21<00:04, 11.16it/s]"
     ]
    },
    {
     "name": "stderr",
     "output_type": "stream",
     "text": [
      "\r",
      " 82%|████████████████████████████████████████████████████████████████████████████████████████████████████████████████████████████▌                           | 232/283 [00:21<00:04, 11.17it/s]"
     ]
    },
    {
     "name": "stderr",
     "output_type": "stream",
     "text": [
      "\r",
      " 83%|█████████████████████████████████████████████████████████████████████████████████████████████████████████████████████████████▋                          | 234/283 [00:22<00:04, 11.17it/s]"
     ]
    },
    {
     "name": "stderr",
     "output_type": "stream",
     "text": [
      "\r",
      " 83%|██████████████████████████████████████████████████████████████████████████████████████████████████████████████████████████████▊                         | 236/283 [00:22<00:04, 11.16it/s]"
     ]
    },
    {
     "name": "stderr",
     "output_type": "stream",
     "text": [
      "\r",
      " 84%|███████████████████████████████████████████████████████████████████████████████████████████████████████████████████████████████▊                        | 238/283 [00:22<00:04, 11.17it/s]"
     ]
    },
    {
     "name": "stderr",
     "output_type": "stream",
     "text": [
      "\r",
      " 85%|████████████████████████████████████████████████████████████████████████████████████████████████████████████████████████████████▉                       | 240/283 [00:22<00:03, 11.17it/s]"
     ]
    },
    {
     "name": "stderr",
     "output_type": "stream",
     "text": [
      "\r",
      " 86%|█████████████████████████████████████████████████████████████████████████████████████████████████████████████████████████████████▉                      | 242/283 [00:22<00:03, 11.17it/s]"
     ]
    },
    {
     "name": "stderr",
     "output_type": "stream",
     "text": [
      "\r",
      " 86%|███████████████████████████████████████████████████████████████████████████████████████████████████████████████████████████████████                     | 244/283 [00:22<00:03, 11.16it/s]"
     ]
    },
    {
     "name": "stderr",
     "output_type": "stream",
     "text": [
      "\r",
      " 87%|████████████████████████████████████████████████████████████████████████████████████████████████████████████████████████████████████▏                   | 246/283 [00:23<00:03, 11.16it/s]"
     ]
    },
    {
     "name": "stderr",
     "output_type": "stream",
     "text": [
      "\r",
      " 88%|█████████████████████████████████████████████████████████████████████████████████████████████████████████████████████████████████████▏                  | 248/283 [00:23<00:03, 11.16it/s]"
     ]
    },
    {
     "name": "stderr",
     "output_type": "stream",
     "text": [
      "\r",
      " 88%|██████████████████████████████████████████████████████████████████████████████████████████████████████████████████████████████████████▎                 | 250/283 [00:23<00:02, 11.17it/s]"
     ]
    },
    {
     "name": "stderr",
     "output_type": "stream",
     "text": [
      "\r",
      " 89%|███████████████████████████████████████████████████████████████████████████████████████████████████████████████████████████████████████▎                | 252/283 [00:23<00:02, 11.16it/s]"
     ]
    },
    {
     "name": "stderr",
     "output_type": "stream",
     "text": [
      "\r",
      " 90%|████████████████████████████████████████████████████████████████████████████████████████████████████████████████████████████████████████▍               | 254/283 [00:23<00:02, 11.17it/s]"
     ]
    },
    {
     "name": "stderr",
     "output_type": "stream",
     "text": [
      "\r",
      " 90%|█████████████████████████████████████████████████████████████████████████████████████████████████████████████████████████████████████████▍              | 256/283 [00:24<00:02, 11.16it/s]"
     ]
    },
    {
     "name": "stderr",
     "output_type": "stream",
     "text": [
      "\r",
      " 91%|██████████████████████████████████████████████████████████████████████████████████████████████████████████████████████████████████████████▌             | 258/283 [00:24<00:02, 11.15it/s]"
     ]
    },
    {
     "name": "stderr",
     "output_type": "stream",
     "text": [
      "\r",
      " 92%|███████████████████████████████████████████████████████████████████████████████████████████████████████████████████████████████████████████▋            | 260/283 [00:24<00:02, 11.14it/s]"
     ]
    },
    {
     "name": "stderr",
     "output_type": "stream",
     "text": [
      "\r",
      " 93%|████████████████████████████████████████████████████████████████████████████████████████████████████████████████████████████████████████████▋           | 262/283 [00:24<00:01, 11.13it/s]"
     ]
    },
    {
     "name": "stderr",
     "output_type": "stream",
     "text": [
      "\r",
      " 93%|█████████████████████████████████████████████████████████████████████████████████████████████████████████████████████████████████████████████▊          | 264/283 [00:24<00:01, 11.15it/s]"
     ]
    },
    {
     "name": "stderr",
     "output_type": "stream",
     "text": [
      "\r",
      " 94%|██████████████████████████████████████████████████████████████████████████████████████████████████████████████████████████████████████████████▊         | 266/283 [00:24<00:01, 11.15it/s]"
     ]
    },
    {
     "name": "stderr",
     "output_type": "stream",
     "text": [
      "\r",
      " 95%|███████████████████████████████████████████████████████████████████████████████████████████████████████████████████████████████████████████████▉        | 268/283 [00:25<00:01, 11.15it/s]"
     ]
    },
    {
     "name": "stderr",
     "output_type": "stream",
     "text": [
      "\r",
      " 95%|█████████████████████████████████████████████████████████████████████████████████████████████████████████████████████████████████████████████████       | 270/283 [00:25<00:01, 11.15it/s]"
     ]
    },
    {
     "name": "stderr",
     "output_type": "stream",
     "text": [
      "\r",
      " 96%|██████████████████████████████████████████████████████████████████████████████████████████████████████████████████████████████████████████████████      | 272/283 [00:25<00:00, 11.15it/s]"
     ]
    },
    {
     "name": "stderr",
     "output_type": "stream",
     "text": [
      "\r",
      " 97%|███████████████████████████████████████████████████████████████████████████████████████████████████████████████████████████████████████████████████▏    | 274/283 [00:25<00:00, 11.16it/s]"
     ]
    },
    {
     "name": "stderr",
     "output_type": "stream",
     "text": [
      "\r",
      " 98%|████████████████████████████████████████████████████████████████████████████████████████████████████████████████████████████████████████████████████▏   | 276/283 [00:25<00:00, 11.18it/s]"
     ]
    },
    {
     "name": "stderr",
     "output_type": "stream",
     "text": [
      "\r",
      " 98%|█████████████████████████████████████████████████████████████████████████████████████████████████████████████████████████████████████████████████████▎  | 278/283 [00:25<00:00, 11.19it/s]"
     ]
    },
    {
     "name": "stderr",
     "output_type": "stream",
     "text": [
      "\r",
      " 99%|██████████████████████████████████████████████████████████████████████████████████████████████████████████████████████████████████████████████████████▍ | 280/283 [00:26<00:00, 11.20it/s]"
     ]
    },
    {
     "name": "stderr",
     "output_type": "stream",
     "text": [
      "\r",
      "100%|███████████████████████████████████████████████████████████████████████████████████████████████████████████████████████████████████████████████████████▍| 282/283 [00:26<00:00, 11.21it/s]"
     ]
    },
    {
     "name": "stderr",
     "output_type": "stream",
     "text": [
      "\r",
      "100%|████████████████████████████████████████████████████████████████████████████████████████████████████████████████████████████████████████████████████████| 283/283 [00:26<00:00, 10.71it/s]"
     ]
    },
    {
     "name": "stderr",
     "output_type": "stream",
     "text": [
      "\n"
     ]
    },
    {
     "name": "stdout",
     "output_type": "stream",
     "text": [
      "test InD - OK\n"
     ]
    },
    {
     "name": "stderr",
     "output_type": "stream",
     "text": [
      "\r",
      "  0%|                                                                                                                                                                  | 0/990 [00:00<?, ?it/s]"
     ]
    },
    {
     "name": "stderr",
     "output_type": "stream",
     "text": [
      "\r",
      "  0%|▏                                                                                                                                                         | 1/990 [00:00<04:11,  3.94it/s]"
     ]
    },
    {
     "name": "stderr",
     "output_type": "stream",
     "text": [
      "\r",
      "  0%|▍                                                                                                                                                         | 3/990 [00:00<02:12,  7.48it/s]"
     ]
    },
    {
     "name": "stderr",
     "output_type": "stream",
     "text": [
      "\r",
      "  1%|▊                                                                                                                                                         | 5/990 [00:00<01:49,  9.01it/s]"
     ]
    },
    {
     "name": "stderr",
     "output_type": "stream",
     "text": [
      "\r",
      "  1%|█                                                                                                                                                         | 7/990 [00:00<01:40,  9.82it/s]"
     ]
    },
    {
     "name": "stderr",
     "output_type": "stream",
     "text": [
      "\r",
      "  1%|█▍                                                                                                                                                        | 9/990 [00:00<01:35, 10.31it/s]"
     ]
    },
    {
     "name": "stderr",
     "output_type": "stream",
     "text": [
      "\r",
      "  1%|█▋                                                                                                                                                       | 11/990 [00:01<01:32, 10.58it/s]"
     ]
    },
    {
     "name": "stderr",
     "output_type": "stream",
     "text": [
      "\r",
      "  1%|██                                                                                                                                                       | 13/990 [00:01<01:30, 10.78it/s]"
     ]
    },
    {
     "name": "stderr",
     "output_type": "stream",
     "text": [
      "\r",
      "  2%|██▎                                                                                                                                                      | 15/990 [00:01<01:29, 10.91it/s]"
     ]
    },
    {
     "name": "stderr",
     "output_type": "stream",
     "text": [
      "\r",
      "  2%|██▋                                                                                                                                                      | 17/990 [00:01<01:28, 10.99it/s]"
     ]
    },
    {
     "name": "stderr",
     "output_type": "stream",
     "text": [
      "\r",
      "  2%|██▉                                                                                                                                                      | 19/990 [00:01<01:28, 11.03it/s]"
     ]
    },
    {
     "name": "stderr",
     "output_type": "stream",
     "text": [
      "\r",
      "  2%|███▏                                                                                                                                                     | 21/990 [00:02<01:27, 11.09it/s]"
     ]
    },
    {
     "name": "stderr",
     "output_type": "stream",
     "text": [
      "\r",
      "  2%|███▌                                                                                                                                                     | 23/990 [00:02<01:26, 11.12it/s]"
     ]
    },
    {
     "name": "stderr",
     "output_type": "stream",
     "text": [
      "\r",
      "  3%|███▊                                                                                                                                                     | 25/990 [00:02<01:26, 11.13it/s]"
     ]
    },
    {
     "name": "stderr",
     "output_type": "stream",
     "text": [
      "\r",
      "  3%|████▏                                                                                                                                                    | 27/990 [00:02<01:26, 11.14it/s]"
     ]
    },
    {
     "name": "stderr",
     "output_type": "stream",
     "text": [
      "\r",
      "  3%|████▍                                                                                                                                                    | 29/990 [00:02<01:26, 11.15it/s]"
     ]
    },
    {
     "name": "stderr",
     "output_type": "stream",
     "text": [
      "\r",
      "  3%|████▊                                                                                                                                                    | 31/990 [00:02<01:25, 11.16it/s]"
     ]
    },
    {
     "name": "stderr",
     "output_type": "stream",
     "text": [
      "\r",
      "  3%|█████                                                                                                                                                    | 33/990 [00:03<01:25, 11.17it/s]"
     ]
    },
    {
     "name": "stderr",
     "output_type": "stream",
     "text": [
      "\r",
      "  4%|█████▍                                                                                                                                                   | 35/990 [00:03<01:25, 11.18it/s]"
     ]
    },
    {
     "name": "stderr",
     "output_type": "stream",
     "text": [
      "\r",
      "  4%|█████▋                                                                                                                                                   | 37/990 [00:03<01:25, 11.18it/s]"
     ]
    },
    {
     "name": "stderr",
     "output_type": "stream",
     "text": [
      "\r",
      "  4%|██████                                                                                                                                                   | 39/990 [00:03<01:25, 11.18it/s]"
     ]
    },
    {
     "name": "stderr",
     "output_type": "stream",
     "text": [
      "\r",
      "  4%|██████▎                                                                                                                                                  | 41/990 [00:03<01:24, 11.18it/s]"
     ]
    },
    {
     "name": "stderr",
     "output_type": "stream",
     "text": [
      "\r",
      "  4%|██████▋                                                                                                                                                  | 43/990 [00:04<01:24, 11.17it/s]"
     ]
    },
    {
     "name": "stderr",
     "output_type": "stream",
     "text": [
      "\r",
      "  5%|██████▉                                                                                                                                                  | 45/990 [00:04<01:24, 11.18it/s]"
     ]
    },
    {
     "name": "stderr",
     "output_type": "stream",
     "text": [
      "\r",
      "  5%|███████▎                                                                                                                                                 | 47/990 [00:04<01:24, 11.19it/s]"
     ]
    },
    {
     "name": "stderr",
     "output_type": "stream",
     "text": [
      "\r",
      "  5%|███████▌                                                                                                                                                 | 49/990 [00:04<01:24, 11.18it/s]"
     ]
    },
    {
     "name": "stderr",
     "output_type": "stream",
     "text": [
      "\r",
      "  5%|███████▉                                                                                                                                                 | 51/990 [00:04<01:23, 11.18it/s]"
     ]
    },
    {
     "name": "stderr",
     "output_type": "stream",
     "text": [
      "\r",
      "  5%|████████▏                                                                                                                                                | 53/990 [00:04<01:23, 11.19it/s]"
     ]
    },
    {
     "name": "stderr",
     "output_type": "stream",
     "text": [
      "\r",
      "  6%|████████▌                                                                                                                                                | 55/990 [00:05<01:23, 11.19it/s]"
     ]
    },
    {
     "name": "stderr",
     "output_type": "stream",
     "text": [
      "\r",
      "  6%|████████▊                                                                                                                                                | 57/990 [00:05<01:23, 11.19it/s]"
     ]
    },
    {
     "name": "stderr",
     "output_type": "stream",
     "text": [
      "\r",
      "  6%|█████████                                                                                                                                                | 59/990 [00:05<01:23, 11.19it/s]"
     ]
    },
    {
     "name": "stderr",
     "output_type": "stream",
     "text": [
      "\r",
      "  6%|█████████▍                                                                                                                                               | 61/990 [00:05<01:23, 11.19it/s]"
     ]
    },
    {
     "name": "stderr",
     "output_type": "stream",
     "text": [
      "\r",
      "  6%|█████████▋                                                                                                                                               | 63/990 [00:05<01:22, 11.20it/s]"
     ]
    },
    {
     "name": "stderr",
     "output_type": "stream",
     "text": [
      "\r",
      "  7%|██████████                                                                                                                                               | 65/990 [00:05<01:22, 11.19it/s]"
     ]
    },
    {
     "name": "stderr",
     "output_type": "stream",
     "text": [
      "\r",
      "  7%|██████████▎                                                                                                                                              | 67/990 [00:06<01:22, 11.19it/s]"
     ]
    },
    {
     "name": "stderr",
     "output_type": "stream",
     "text": [
      "\r",
      "  7%|██████████▋                                                                                                                                              | 69/990 [00:06<01:22, 11.19it/s]"
     ]
    },
    {
     "name": "stderr",
     "output_type": "stream",
     "text": [
      "\r",
      "  7%|██████████▉                                                                                                                                              | 71/990 [00:06<01:22, 11.19it/s]"
     ]
    },
    {
     "name": "stderr",
     "output_type": "stream",
     "text": [
      "\r",
      "  7%|███████████▎                                                                                                                                             | 73/990 [00:06<01:21, 11.19it/s]"
     ]
    },
    {
     "name": "stderr",
     "output_type": "stream",
     "text": [
      "\r",
      "  8%|███████████▌                                                                                                                                             | 75/990 [00:06<01:21, 11.19it/s]"
     ]
    },
    {
     "name": "stderr",
     "output_type": "stream",
     "text": [
      "\r",
      "  8%|███████████▉                                                                                                                                             | 77/990 [00:07<01:21, 11.20it/s]"
     ]
    },
    {
     "name": "stderr",
     "output_type": "stream",
     "text": [
      "\r",
      "  8%|████████████▏                                                                                                                                            | 79/990 [00:07<01:21, 11.20it/s]"
     ]
    },
    {
     "name": "stderr",
     "output_type": "stream",
     "text": [
      "\r",
      "  8%|████████████▌                                                                                                                                            | 81/990 [00:07<01:21, 11.20it/s]"
     ]
    },
    {
     "name": "stderr",
     "output_type": "stream",
     "text": [
      "\r",
      "  8%|████████████▊                                                                                                                                            | 83/990 [00:07<01:21, 11.18it/s]"
     ]
    },
    {
     "name": "stderr",
     "output_type": "stream",
     "text": [
      "\r",
      "  9%|█████████████▏                                                                                                                                           | 85/990 [00:07<01:20, 11.19it/s]"
     ]
    },
    {
     "name": "stderr",
     "output_type": "stream",
     "text": [
      "\r",
      "  9%|█████████████▍                                                                                                                                           | 87/990 [00:07<01:20, 11.18it/s]"
     ]
    },
    {
     "name": "stderr",
     "output_type": "stream",
     "text": [
      "\r",
      "  9%|█████████████▊                                                                                                                                           | 89/990 [00:08<01:20, 11.18it/s]"
     ]
    },
    {
     "name": "stderr",
     "output_type": "stream",
     "text": [
      "\r",
      "  9%|██████████████                                                                                                                                           | 91/990 [00:08<01:20, 11.19it/s]"
     ]
    },
    {
     "name": "stderr",
     "output_type": "stream",
     "text": [
      "\r",
      "  9%|██████████████▎                                                                                                                                          | 93/990 [00:08<01:20, 11.19it/s]"
     ]
    },
    {
     "name": "stderr",
     "output_type": "stream",
     "text": [
      "\r",
      " 10%|██████████████▋                                                                                                                                          | 95/990 [00:08<01:20, 11.18it/s]"
     ]
    },
    {
     "name": "stderr",
     "output_type": "stream",
     "text": [
      "\r",
      " 10%|██████████████▉                                                                                                                                          | 97/990 [00:08<01:19, 11.19it/s]"
     ]
    },
    {
     "name": "stderr",
     "output_type": "stream",
     "text": [
      "\r",
      " 10%|███████████████▎                                                                                                                                         | 99/990 [00:09<01:19, 11.19it/s]"
     ]
    },
    {
     "name": "stderr",
     "output_type": "stream",
     "text": [
      "\r",
      " 10%|███████████████▌                                                                                                                                        | 101/990 [00:09<01:19, 11.20it/s]"
     ]
    },
    {
     "name": "stderr",
     "output_type": "stream",
     "text": [
      "\r",
      " 10%|███████████████▊                                                                                                                                        | 103/990 [00:09<01:19, 11.19it/s]"
     ]
    },
    {
     "name": "stderr",
     "output_type": "stream",
     "text": [
      "\r",
      " 11%|████████████████                                                                                                                                        | 105/990 [00:09<01:19, 11.19it/s]"
     ]
    },
    {
     "name": "stderr",
     "output_type": "stream",
     "text": [
      "\r",
      " 11%|████████████████▍                                                                                                                                       | 107/990 [00:09<01:18, 11.18it/s]"
     ]
    },
    {
     "name": "stderr",
     "output_type": "stream",
     "text": [
      "\r",
      " 11%|████████████████▋                                                                                                                                       | 109/990 [00:09<01:18, 11.18it/s]"
     ]
    },
    {
     "name": "stderr",
     "output_type": "stream",
     "text": [
      "\r",
      " 11%|█████████████████                                                                                                                                       | 111/990 [00:10<01:18, 11.18it/s]"
     ]
    },
    {
     "name": "stderr",
     "output_type": "stream",
     "text": [
      "\r",
      " 11%|█████████████████▎                                                                                                                                      | 113/990 [00:10<01:18, 11.19it/s]"
     ]
    },
    {
     "name": "stderr",
     "output_type": "stream",
     "text": [
      "\r",
      " 12%|█████████████████▋                                                                                                                                      | 115/990 [00:10<01:18, 11.19it/s]"
     ]
    },
    {
     "name": "stderr",
     "output_type": "stream",
     "text": [
      "\r",
      " 12%|█████████████████▉                                                                                                                                      | 117/990 [00:10<01:17, 11.19it/s]"
     ]
    },
    {
     "name": "stderr",
     "output_type": "stream",
     "text": [
      "\r",
      " 12%|██████████████████▎                                                                                                                                     | 119/990 [00:10<01:17, 11.18it/s]"
     ]
    },
    {
     "name": "stderr",
     "output_type": "stream",
     "text": [
      "\r",
      " 12%|██████████████████▌                                                                                                                                     | 121/990 [00:10<01:17, 11.18it/s]"
     ]
    },
    {
     "name": "stderr",
     "output_type": "stream",
     "text": [
      "\r",
      " 12%|██████████████████▉                                                                                                                                     | 123/990 [00:11<01:17, 11.17it/s]"
     ]
    },
    {
     "name": "stderr",
     "output_type": "stream",
     "text": [
      "\r",
      " 13%|███████████████████▏                                                                                                                                    | 125/990 [00:11<01:17, 11.18it/s]"
     ]
    },
    {
     "name": "stderr",
     "output_type": "stream",
     "text": [
      "\r",
      " 13%|███████████████████▍                                                                                                                                    | 127/990 [00:11<01:17, 11.18it/s]"
     ]
    },
    {
     "name": "stderr",
     "output_type": "stream",
     "text": [
      "\r",
      " 13%|███████████████████▊                                                                                                                                    | 129/990 [00:11<01:16, 11.18it/s]"
     ]
    },
    {
     "name": "stderr",
     "output_type": "stream",
     "text": [
      "\r",
      " 13%|████████████████████                                                                                                                                    | 131/990 [00:11<01:16, 11.18it/s]"
     ]
    },
    {
     "name": "stderr",
     "output_type": "stream",
     "text": [
      "\r",
      " 13%|████████████████████▍                                                                                                                                   | 133/990 [00:12<01:16, 11.19it/s]"
     ]
    },
    {
     "name": "stderr",
     "output_type": "stream",
     "text": [
      "\r",
      " 14%|████████████████████▋                                                                                                                                   | 135/990 [00:12<01:16, 11.19it/s]"
     ]
    },
    {
     "name": "stderr",
     "output_type": "stream",
     "text": [
      "\r",
      " 14%|█████████████████████                                                                                                                                   | 137/990 [00:12<01:16, 11.19it/s]"
     ]
    },
    {
     "name": "stderr",
     "output_type": "stream",
     "text": [
      "\r",
      " 14%|█████████████████████▎                                                                                                                                  | 139/990 [00:12<01:16, 11.19it/s]"
     ]
    },
    {
     "name": "stderr",
     "output_type": "stream",
     "text": [
      "\r",
      " 14%|█████████████████████▋                                                                                                                                  | 141/990 [00:12<01:15, 11.19it/s]"
     ]
    },
    {
     "name": "stderr",
     "output_type": "stream",
     "text": [
      "\r",
      " 14%|█████████████████████▉                                                                                                                                  | 143/990 [00:12<01:15, 11.19it/s]"
     ]
    },
    {
     "name": "stderr",
     "output_type": "stream",
     "text": [
      "\r",
      " 15%|██████████████████████▎                                                                                                                                 | 145/990 [00:13<01:15, 11.19it/s]"
     ]
    },
    {
     "name": "stderr",
     "output_type": "stream",
     "text": [
      "\r",
      " 15%|██████████████████████▌                                                                                                                                 | 147/990 [00:13<01:15, 11.17it/s]"
     ]
    },
    {
     "name": "stderr",
     "output_type": "stream",
     "text": [
      "\r",
      " 15%|██████████████████████▉                                                                                                                                 | 149/990 [00:13<01:15, 11.16it/s]"
     ]
    },
    {
     "name": "stderr",
     "output_type": "stream",
     "text": [
      "\r",
      " 15%|███████████████████████▏                                                                                                                                | 151/990 [00:13<01:15, 11.16it/s]"
     ]
    },
    {
     "name": "stderr",
     "output_type": "stream",
     "text": [
      "\r",
      " 15%|███████████████████████▍                                                                                                                                | 153/990 [00:13<01:14, 11.16it/s]"
     ]
    },
    {
     "name": "stderr",
     "output_type": "stream",
     "text": [
      "\r",
      " 16%|███████████████████████▊                                                                                                                                | 155/990 [00:14<01:14, 11.16it/s]"
     ]
    },
    {
     "name": "stderr",
     "output_type": "stream",
     "text": [
      "\r",
      " 16%|████████████████████████                                                                                                                                | 157/990 [00:14<01:14, 11.17it/s]"
     ]
    },
    {
     "name": "stderr",
     "output_type": "stream",
     "text": [
      "\r",
      " 16%|████████████████████████▍                                                                                                                               | 159/990 [00:14<01:14, 11.16it/s]"
     ]
    },
    {
     "name": "stderr",
     "output_type": "stream",
     "text": [
      "\r",
      " 16%|████████████████████████▋                                                                                                                               | 161/990 [00:14<01:14, 11.16it/s]"
     ]
    },
    {
     "name": "stderr",
     "output_type": "stream",
     "text": [
      "\r",
      " 16%|█████████████████████████                                                                                                                               | 163/990 [00:14<01:14, 11.17it/s]"
     ]
    },
    {
     "name": "stderr",
     "output_type": "stream",
     "text": [
      "\r",
      " 17%|█████████████████████████▎                                                                                                                              | 165/990 [00:14<01:13, 11.17it/s]"
     ]
    },
    {
     "name": "stderr",
     "output_type": "stream",
     "text": [
      "\r",
      " 17%|█████████████████████████▋                                                                                                                              | 167/990 [00:15<01:13, 11.18it/s]"
     ]
    },
    {
     "name": "stderr",
     "output_type": "stream",
     "text": [
      "\r",
      " 17%|█████████████████████████▉                                                                                                                              | 169/990 [00:15<01:13, 11.18it/s]"
     ]
    },
    {
     "name": "stderr",
     "output_type": "stream",
     "text": [
      "\r",
      " 17%|██████████████████████████▎                                                                                                                             | 171/990 [00:15<01:13, 11.17it/s]"
     ]
    },
    {
     "name": "stderr",
     "output_type": "stream",
     "text": [
      "\r",
      " 17%|██████████████████████████▌                                                                                                                             | 173/990 [00:15<01:13, 11.17it/s]"
     ]
    },
    {
     "name": "stderr",
     "output_type": "stream",
     "text": [
      "\r",
      " 18%|██████████████████████████▊                                                                                                                             | 175/990 [00:15<01:12, 11.17it/s]"
     ]
    },
    {
     "name": "stderr",
     "output_type": "stream",
     "text": [
      "\r",
      " 18%|███████████████████████████▏                                                                                                                            | 177/990 [00:15<01:12, 11.18it/s]"
     ]
    },
    {
     "name": "stderr",
     "output_type": "stream",
     "text": [
      "\r",
      " 18%|███████████████████████████▍                                                                                                                            | 179/990 [00:16<01:12, 11.16it/s]"
     ]
    },
    {
     "name": "stderr",
     "output_type": "stream",
     "text": [
      "\r",
      " 18%|███████████████████████████▊                                                                                                                            | 181/990 [00:16<01:12, 11.17it/s]"
     ]
    },
    {
     "name": "stderr",
     "output_type": "stream",
     "text": [
      "\r",
      " 18%|████████████████████████████                                                                                                                            | 183/990 [00:16<01:12, 11.17it/s]"
     ]
    },
    {
     "name": "stderr",
     "output_type": "stream",
     "text": [
      "\r",
      " 19%|████████████████████████████▍                                                                                                                           | 185/990 [00:16<01:12, 11.17it/s]"
     ]
    },
    {
     "name": "stderr",
     "output_type": "stream",
     "text": [
      "\r",
      " 19%|████████████████████████████▋                                                                                                                           | 187/990 [00:16<01:11, 11.17it/s]"
     ]
    },
    {
     "name": "stderr",
     "output_type": "stream",
     "text": [
      "\r",
      " 19%|█████████████████████████████                                                                                                                           | 189/990 [00:17<01:11, 11.18it/s]"
     ]
    },
    {
     "name": "stderr",
     "output_type": "stream",
     "text": [
      "\r",
      " 19%|█████████████████████████████▎                                                                                                                          | 191/990 [00:17<01:11, 11.18it/s]"
     ]
    },
    {
     "name": "stderr",
     "output_type": "stream",
     "text": [
      "\r",
      " 19%|█████████████████████████████▋                                                                                                                          | 193/990 [00:17<01:11, 11.18it/s]"
     ]
    },
    {
     "name": "stderr",
     "output_type": "stream",
     "text": [
      "\r",
      " 20%|█████████████████████████████▉                                                                                                                          | 195/990 [00:17<01:11, 11.18it/s]"
     ]
    },
    {
     "name": "stderr",
     "output_type": "stream",
     "text": [
      "\r",
      " 20%|██████████████████████████████▏                                                                                                                         | 197/990 [00:17<01:10, 11.18it/s]"
     ]
    },
    {
     "name": "stderr",
     "output_type": "stream",
     "text": [
      "\r",
      " 20%|██████████████████████████████▌                                                                                                                         | 199/990 [00:17<01:10, 11.18it/s]"
     ]
    },
    {
     "name": "stderr",
     "output_type": "stream",
     "text": [
      "\r",
      " 20%|██████████████████████████████▊                                                                                                                         | 201/990 [00:18<01:10, 11.18it/s]"
     ]
    },
    {
     "name": "stderr",
     "output_type": "stream",
     "text": [
      "\r",
      " 21%|███████████████████████████████▏                                                                                                                        | 203/990 [00:18<01:10, 11.15it/s]"
     ]
    },
    {
     "name": "stderr",
     "output_type": "stream",
     "text": [
      "\r",
      " 21%|███████████████████████████████▍                                                                                                                        | 205/990 [00:18<01:10, 11.16it/s]"
     ]
    },
    {
     "name": "stderr",
     "output_type": "stream",
     "text": [
      "\r",
      " 21%|███████████████████████████████▊                                                                                                                        | 207/990 [00:18<01:10, 11.16it/s]"
     ]
    },
    {
     "name": "stderr",
     "output_type": "stream",
     "text": [
      "\r",
      " 21%|████████████████████████████████                                                                                                                        | 209/990 [00:18<01:09, 11.17it/s]"
     ]
    },
    {
     "name": "stderr",
     "output_type": "stream",
     "text": [
      "\r",
      " 21%|████████████████████████████████▍                                                                                                                       | 211/990 [00:19<01:09, 11.16it/s]"
     ]
    },
    {
     "name": "stderr",
     "output_type": "stream",
     "text": [
      "\r",
      " 22%|████████████████████████████████▋                                                                                                                       | 213/990 [00:19<01:09, 11.17it/s]"
     ]
    },
    {
     "name": "stderr",
     "output_type": "stream",
     "text": [
      "\r",
      " 22%|█████████████████████████████████                                                                                                                       | 215/990 [00:19<01:09, 11.17it/s]"
     ]
    },
    {
     "name": "stderr",
     "output_type": "stream",
     "text": [
      "\r",
      " 22%|█████████████████████████████████▎                                                                                                                      | 217/990 [00:19<01:09, 11.17it/s]"
     ]
    },
    {
     "name": "stderr",
     "output_type": "stream",
     "text": [
      "\r",
      " 22%|█████████████████████████████████▌                                                                                                                      | 219/990 [00:19<01:08, 11.18it/s]"
     ]
    },
    {
     "name": "stderr",
     "output_type": "stream",
     "text": [
      "\r",
      " 22%|█████████████████████████████████▉                                                                                                                      | 221/990 [00:19<01:08, 11.17it/s]"
     ]
    },
    {
     "name": "stderr",
     "output_type": "stream",
     "text": [
      "\r",
      " 23%|██████████████████████████████████▏                                                                                                                     | 223/990 [00:20<01:08, 11.17it/s]"
     ]
    },
    {
     "name": "stderr",
     "output_type": "stream",
     "text": [
      "\r",
      " 23%|██████████████████████████████████▌                                                                                                                     | 225/990 [00:20<01:08, 11.17it/s]"
     ]
    },
    {
     "name": "stderr",
     "output_type": "stream",
     "text": [
      "\r",
      " 23%|██████████████████████████████████▊                                                                                                                     | 227/990 [00:20<01:08, 11.15it/s]"
     ]
    },
    {
     "name": "stderr",
     "output_type": "stream",
     "text": [
      "\r",
      " 23%|███████████████████████████████████▏                                                                                                                    | 229/990 [00:20<01:08, 11.16it/s]"
     ]
    },
    {
     "name": "stderr",
     "output_type": "stream",
     "text": [
      "\r",
      " 23%|███████████████████████████████████▍                                                                                                                    | 231/990 [00:20<01:07, 11.17it/s]"
     ]
    },
    {
     "name": "stderr",
     "output_type": "stream",
     "text": [
      "\r",
      " 24%|███████████████████████████████████▊                                                                                                                    | 233/990 [00:21<01:07, 11.18it/s]"
     ]
    },
    {
     "name": "stderr",
     "output_type": "stream",
     "text": [
      "\r",
      " 24%|████████████████████████████████████                                                                                                                    | 235/990 [00:21<01:07, 11.17it/s]"
     ]
    },
    {
     "name": "stderr",
     "output_type": "stream",
     "text": [
      "\r",
      " 24%|████████████████████████████████████▍                                                                                                                   | 237/990 [00:21<01:07, 11.17it/s]"
     ]
    },
    {
     "name": "stderr",
     "output_type": "stream",
     "text": [
      "\r",
      " 24%|████████████████████████████████████▋                                                                                                                   | 239/990 [00:21<01:07, 11.17it/s]"
     ]
    },
    {
     "name": "stderr",
     "output_type": "stream",
     "text": [
      "\r",
      " 24%|█████████████████████████████████████                                                                                                                   | 241/990 [00:21<01:07, 11.18it/s]"
     ]
    },
    {
     "name": "stderr",
     "output_type": "stream",
     "text": [
      "\r",
      " 25%|█████████████████████████████████████▎                                                                                                                  | 243/990 [00:21<01:06, 11.17it/s]"
     ]
    },
    {
     "name": "stderr",
     "output_type": "stream",
     "text": [
      "\r",
      " 25%|█████████████████████████████████████▌                                                                                                                  | 245/990 [00:22<01:06, 11.18it/s]"
     ]
    },
    {
     "name": "stderr",
     "output_type": "stream",
     "text": [
      "\r",
      " 25%|█████████████████████████████████████▉                                                                                                                  | 247/990 [00:22<01:06, 11.18it/s]"
     ]
    },
    {
     "name": "stderr",
     "output_type": "stream",
     "text": [
      "\r",
      " 25%|██████████████████████████████████████▏                                                                                                                 | 249/990 [00:22<01:06, 11.17it/s]"
     ]
    },
    {
     "name": "stderr",
     "output_type": "stream",
     "text": [
      "\r",
      " 25%|██████████████████████████████████████▌                                                                                                                 | 251/990 [00:22<01:06, 11.16it/s]"
     ]
    },
    {
     "name": "stderr",
     "output_type": "stream",
     "text": [
      "\r",
      " 26%|██████████████████████████████████████▊                                                                                                                 | 253/990 [00:22<01:05, 11.17it/s]"
     ]
    },
    {
     "name": "stderr",
     "output_type": "stream",
     "text": [
      "\r",
      " 26%|███████████████████████████████████████▏                                                                                                                | 255/990 [00:22<01:05, 11.16it/s]"
     ]
    },
    {
     "name": "stderr",
     "output_type": "stream",
     "text": [
      "\r",
      " 26%|███████████████████████████████████████▍                                                                                                                | 257/990 [00:23<01:05, 11.17it/s]"
     ]
    },
    {
     "name": "stderr",
     "output_type": "stream",
     "text": [
      "\r",
      " 26%|███████████████████████████████████████▊                                                                                                                | 259/990 [00:23<01:05, 11.18it/s]"
     ]
    },
    {
     "name": "stderr",
     "output_type": "stream",
     "text": [
      "\r",
      " 26%|████████████████████████████████████████                                                                                                                | 261/990 [00:23<01:05, 11.18it/s]"
     ]
    },
    {
     "name": "stderr",
     "output_type": "stream",
     "text": [
      "\r",
      " 27%|████████████████████████████████████████▍                                                                                                               | 263/990 [00:23<01:05, 11.16it/s]"
     ]
    },
    {
     "name": "stderr",
     "output_type": "stream",
     "text": [
      "\r",
      " 27%|████████████████████████████████████████▋                                                                                                               | 265/990 [00:23<01:04, 11.17it/s]"
     ]
    },
    {
     "name": "stderr",
     "output_type": "stream",
     "text": [
      "\r",
      " 27%|████████████████████████████████████████▉                                                                                                               | 267/990 [00:24<01:04, 11.17it/s]"
     ]
    },
    {
     "name": "stderr",
     "output_type": "stream",
     "text": [
      "\r",
      " 27%|█████████████████████████████████████████▎                                                                                                              | 269/990 [00:24<01:04, 11.17it/s]"
     ]
    },
    {
     "name": "stderr",
     "output_type": "stream",
     "text": [
      "\r",
      " 27%|█████████████████████████████████████████▌                                                                                                              | 271/990 [00:24<01:04, 11.17it/s]"
     ]
    },
    {
     "name": "stderr",
     "output_type": "stream",
     "text": [
      "\r",
      " 28%|█████████████████████████████████████████▉                                                                                                              | 273/990 [00:24<01:04, 11.18it/s]"
     ]
    },
    {
     "name": "stderr",
     "output_type": "stream",
     "text": [
      "\r",
      " 28%|██████████████████████████████████████████▏                                                                                                             | 275/990 [00:24<01:03, 11.17it/s]"
     ]
    },
    {
     "name": "stderr",
     "output_type": "stream",
     "text": [
      "\r",
      " 28%|██████████████████████████████████████████▌                                                                                                             | 277/990 [00:24<01:03, 11.18it/s]"
     ]
    },
    {
     "name": "stderr",
     "output_type": "stream",
     "text": [
      "\r",
      " 28%|██████████████████████████████████████████▊                                                                                                             | 279/990 [00:25<01:03, 11.17it/s]"
     ]
    },
    {
     "name": "stderr",
     "output_type": "stream",
     "text": [
      "\r",
      " 28%|███████████████████████████████████████████▏                                                                                                            | 281/990 [00:25<01:03, 11.16it/s]"
     ]
    },
    {
     "name": "stderr",
     "output_type": "stream",
     "text": [
      "\r",
      " 29%|███████████████████████████████████████████▍                                                                                                            | 283/990 [00:25<01:03, 11.17it/s]"
     ]
    },
    {
     "name": "stderr",
     "output_type": "stream",
     "text": [
      "\r",
      " 29%|███████████████████████████████████████████▊                                                                                                            | 285/990 [00:25<01:03, 11.18it/s]"
     ]
    },
    {
     "name": "stderr",
     "output_type": "stream",
     "text": [
      "\r",
      " 29%|████████████████████████████████████████████                                                                                                            | 287/990 [00:25<01:02, 11.17it/s]"
     ]
    },
    {
     "name": "stderr",
     "output_type": "stream",
     "text": [
      "\r",
      " 29%|████████████████████████████████████████████▎                                                                                                           | 289/990 [00:26<01:02, 11.18it/s]"
     ]
    },
    {
     "name": "stderr",
     "output_type": "stream",
     "text": [
      "\r",
      " 29%|████████████████████████████████████████████▋                                                                                                           | 291/990 [00:26<01:02, 11.16it/s]"
     ]
    },
    {
     "name": "stderr",
     "output_type": "stream",
     "text": [
      "\r",
      " 30%|████████████████████████████████████████████▉                                                                                                           | 293/990 [00:26<01:02, 11.17it/s]"
     ]
    },
    {
     "name": "stderr",
     "output_type": "stream",
     "text": [
      "\r",
      " 30%|█████████████████████████████████████████████▎                                                                                                          | 295/990 [00:26<01:02, 11.17it/s]"
     ]
    },
    {
     "name": "stderr",
     "output_type": "stream",
     "text": [
      "\r",
      " 30%|█████████████████████████████████████████████▌                                                                                                          | 297/990 [00:26<01:02, 11.17it/s]"
     ]
    },
    {
     "name": "stderr",
     "output_type": "stream",
     "text": [
      "\r",
      " 30%|█████████████████████████████████████████████▉                                                                                                          | 299/990 [00:26<01:01, 11.16it/s]"
     ]
    },
    {
     "name": "stderr",
     "output_type": "stream",
     "text": [
      "\r",
      " 30%|██████████████████████████████████████████████▏                                                                                                         | 301/990 [00:27<01:01, 11.17it/s]"
     ]
    },
    {
     "name": "stderr",
     "output_type": "stream",
     "text": [
      "\r",
      " 31%|██████████████████████████████████████████████▌                                                                                                         | 303/990 [00:27<01:01, 11.16it/s]"
     ]
    },
    {
     "name": "stderr",
     "output_type": "stream",
     "text": [
      "\r",
      " 31%|██████████████████████████████████████████████▊                                                                                                         | 305/990 [00:27<01:01, 11.16it/s]"
     ]
    },
    {
     "name": "stderr",
     "output_type": "stream",
     "text": [
      "\r",
      " 31%|███████████████████████████████████████████████▏                                                                                                        | 307/990 [00:27<01:01, 11.15it/s]"
     ]
    },
    {
     "name": "stderr",
     "output_type": "stream",
     "text": [
      "\r",
      " 31%|███████████████████████████████████████████████▍                                                                                                        | 309/990 [00:27<01:01, 11.15it/s]"
     ]
    },
    {
     "name": "stderr",
     "output_type": "stream",
     "text": [
      "\r",
      " 31%|███████████████████████████████████████████████▋                                                                                                        | 311/990 [00:27<01:00, 11.16it/s]"
     ]
    },
    {
     "name": "stderr",
     "output_type": "stream",
     "text": [
      "\r",
      " 32%|████████████████████████████████████████████████                                                                                                        | 313/990 [00:28<01:00, 11.16it/s]"
     ]
    },
    {
     "name": "stderr",
     "output_type": "stream",
     "text": [
      "\r",
      " 32%|████████████████████████████████████████████████▎                                                                                                       | 315/990 [00:28<01:00, 11.16it/s]"
     ]
    },
    {
     "name": "stderr",
     "output_type": "stream",
     "text": [
      "\r",
      " 32%|████████████████████████████████████████████████▋                                                                                                       | 317/990 [00:28<01:00, 11.15it/s]"
     ]
    },
    {
     "name": "stderr",
     "output_type": "stream",
     "text": [
      "\r",
      " 32%|████████████████████████████████████████████████▉                                                                                                       | 319/990 [00:28<01:00, 11.15it/s]"
     ]
    },
    {
     "name": "stderr",
     "output_type": "stream",
     "text": [
      "\r",
      " 32%|█████████████████████████████████████████████████▎                                                                                                      | 321/990 [00:28<00:59, 11.15it/s]"
     ]
    },
    {
     "name": "stderr",
     "output_type": "stream",
     "text": [
      "\r",
      " 33%|█████████████████████████████████████████████████▌                                                                                                      | 323/990 [00:29<00:59, 11.15it/s]"
     ]
    },
    {
     "name": "stderr",
     "output_type": "stream",
     "text": [
      "\r",
      " 33%|█████████████████████████████████████████████████▉                                                                                                      | 325/990 [00:29<00:59, 11.16it/s]"
     ]
    },
    {
     "name": "stderr",
     "output_type": "stream",
     "text": [
      "\r",
      " 33%|██████████████████████████████████████████████████▏                                                                                                     | 327/990 [00:29<00:59, 11.16it/s]"
     ]
    },
    {
     "name": "stderr",
     "output_type": "stream",
     "text": [
      "\r",
      " 33%|██████████████████████████████████████████████████▌                                                                                                     | 329/990 [00:29<00:59, 11.17it/s]"
     ]
    },
    {
     "name": "stderr",
     "output_type": "stream",
     "text": [
      "\r",
      " 33%|██████████████████████████████████████████████████▊                                                                                                     | 331/990 [00:29<00:59, 11.17it/s]"
     ]
    },
    {
     "name": "stderr",
     "output_type": "stream",
     "text": [
      "\r",
      " 34%|███████████████████████████████████████████████████▏                                                                                                    | 333/990 [00:29<00:58, 11.17it/s]"
     ]
    },
    {
     "name": "stderr",
     "output_type": "stream",
     "text": [
      "\r",
      " 34%|███████████████████████████████████████████████████▍                                                                                                    | 335/990 [00:30<00:58, 11.16it/s]"
     ]
    },
    {
     "name": "stderr",
     "output_type": "stream",
     "text": [
      "\r",
      " 34%|███████████████████████████████████████████████████▋                                                                                                    | 337/990 [00:30<00:58, 11.16it/s]"
     ]
    },
    {
     "name": "stderr",
     "output_type": "stream",
     "text": [
      "\r",
      " 34%|████████████████████████████████████████████████████                                                                                                    | 339/990 [00:30<00:58, 11.17it/s]"
     ]
    },
    {
     "name": "stderr",
     "output_type": "stream",
     "text": [
      "\r",
      " 34%|████████████████████████████████████████████████████▎                                                                                                   | 341/990 [00:30<00:58, 11.17it/s]"
     ]
    },
    {
     "name": "stderr",
     "output_type": "stream",
     "text": [
      "\r",
      " 35%|████████████████████████████████████████████████████▋                                                                                                   | 343/990 [00:30<00:57, 11.17it/s]"
     ]
    },
    {
     "name": "stderr",
     "output_type": "stream",
     "text": [
      "\r",
      " 35%|████████████████████████████████████████████████████▉                                                                                                   | 345/990 [00:31<00:57, 11.17it/s]"
     ]
    },
    {
     "name": "stderr",
     "output_type": "stream",
     "text": [
      "\r",
      " 35%|█████████████████████████████████████████████████████▎                                                                                                  | 347/990 [00:31<00:57, 11.16it/s]"
     ]
    },
    {
     "name": "stderr",
     "output_type": "stream",
     "text": [
      "\r",
      " 35%|█████████████████████████████████████████████████████▌                                                                                                  | 349/990 [00:31<00:57, 11.17it/s]"
     ]
    },
    {
     "name": "stderr",
     "output_type": "stream",
     "text": [
      "\r",
      " 35%|█████████████████████████████████████████████████████▉                                                                                                  | 351/990 [00:31<00:57, 11.16it/s]"
     ]
    },
    {
     "name": "stderr",
     "output_type": "stream",
     "text": [
      "\r",
      " 36%|██████████████████████████████████████████████████████▏                                                                                                 | 353/990 [00:31<00:57, 11.15it/s]"
     ]
    },
    {
     "name": "stderr",
     "output_type": "stream",
     "text": [
      "\r",
      " 36%|██████████████████████████████████████████████████████▌                                                                                                 | 355/990 [00:31<00:56, 11.14it/s]"
     ]
    },
    {
     "name": "stderr",
     "output_type": "stream",
     "text": [
      "\r",
      " 36%|██████████████████████████████████████████████████████▊                                                                                                 | 357/990 [00:32<00:56, 11.13it/s]"
     ]
    },
    {
     "name": "stderr",
     "output_type": "stream",
     "text": [
      "\r",
      " 36%|███████████████████████████████████████████████████████                                                                                                 | 359/990 [00:32<00:56, 11.15it/s]"
     ]
    },
    {
     "name": "stderr",
     "output_type": "stream",
     "text": [
      "\r",
      " 36%|███████████████████████████████████████████████████████▍                                                                                                | 361/990 [00:32<00:56, 11.15it/s]"
     ]
    },
    {
     "name": "stderr",
     "output_type": "stream",
     "text": [
      "\r",
      " 37%|███████████████████████████████████████████████████████▋                                                                                                | 363/990 [00:32<00:56, 11.14it/s]"
     ]
    },
    {
     "name": "stderr",
     "output_type": "stream",
     "text": [
      "\r",
      " 37%|████████████████████████████████████████████████████████                                                                                                | 365/990 [00:32<00:56, 11.15it/s]"
     ]
    },
    {
     "name": "stderr",
     "output_type": "stream",
     "text": [
      "\r",
      " 37%|████████████████████████████████████████████████████████▎                                                                                               | 367/990 [00:33<00:55, 11.15it/s]"
     ]
    },
    {
     "name": "stderr",
     "output_type": "stream",
     "text": [
      "\r",
      " 37%|████████████████████████████████████████████████████████▋                                                                                               | 369/990 [00:33<00:55, 11.16it/s]"
     ]
    },
    {
     "name": "stderr",
     "output_type": "stream",
     "text": [
      "\r",
      " 37%|████████████████████████████████████████████████████████▉                                                                                               | 371/990 [00:33<00:55, 11.15it/s]"
     ]
    },
    {
     "name": "stderr",
     "output_type": "stream",
     "text": [
      "\r",
      " 38%|█████████████████████████████████████████████████████████▎                                                                                              | 373/990 [00:33<00:55, 11.16it/s]"
     ]
    },
    {
     "name": "stderr",
     "output_type": "stream",
     "text": [
      "\r",
      " 38%|█████████████████████████████████████████████████████████▌                                                                                              | 375/990 [00:33<00:55, 11.16it/s]"
     ]
    },
    {
     "name": "stderr",
     "output_type": "stream",
     "text": [
      "\r",
      " 38%|█████████████████████████████████████████████████████████▉                                                                                              | 377/990 [00:33<00:54, 11.15it/s]"
     ]
    },
    {
     "name": "stderr",
     "output_type": "stream",
     "text": [
      "\r",
      " 38%|██████████████████████████████████████████████████████████▏                                                                                             | 379/990 [00:34<00:54, 11.15it/s]"
     ]
    },
    {
     "name": "stderr",
     "output_type": "stream",
     "text": [
      "\r",
      " 38%|██████████████████████████████████████████████████████████▍                                                                                             | 381/990 [00:34<00:54, 11.16it/s]"
     ]
    },
    {
     "name": "stderr",
     "output_type": "stream",
     "text": [
      "\r",
      " 39%|██████████████████████████████████████████████████████████▊                                                                                             | 383/990 [00:34<00:54, 11.15it/s]"
     ]
    },
    {
     "name": "stderr",
     "output_type": "stream",
     "text": [
      "\r",
      " 39%|███████████████████████████████████████████████████████████                                                                                             | 385/990 [00:34<00:54, 11.15it/s]"
     ]
    },
    {
     "name": "stderr",
     "output_type": "stream",
     "text": [
      "\r",
      " 39%|███████████████████████████████████████████████████████████▍                                                                                            | 387/990 [00:34<00:54, 11.16it/s]"
     ]
    },
    {
     "name": "stderr",
     "output_type": "stream",
     "text": [
      "\r",
      " 39%|███████████████████████████████████████████████████████████▋                                                                                            | 389/990 [00:34<00:53, 11.16it/s]"
     ]
    },
    {
     "name": "stderr",
     "output_type": "stream",
     "text": [
      "\r",
      " 39%|████████████████████████████████████████████████████████████                                                                                            | 391/990 [00:35<00:53, 11.17it/s]"
     ]
    },
    {
     "name": "stderr",
     "output_type": "stream",
     "text": [
      "\r",
      " 40%|████████████████████████████████████████████████████████████▎                                                                                           | 393/990 [00:35<00:53, 11.17it/s]"
     ]
    },
    {
     "name": "stderr",
     "output_type": "stream",
     "text": [
      "\r",
      " 40%|████████████████████████████████████████████████████████████▋                                                                                           | 395/990 [00:35<00:53, 11.17it/s]"
     ]
    },
    {
     "name": "stderr",
     "output_type": "stream",
     "text": [
      "\r",
      " 40%|████████████████████████████████████████████████████████████▉                                                                                           | 397/990 [00:35<00:53, 11.16it/s]"
     ]
    },
    {
     "name": "stderr",
     "output_type": "stream",
     "text": [
      "\r",
      " 40%|█████████████████████████████████████████████████████████████▎                                                                                          | 399/990 [00:35<00:52, 11.16it/s]"
     ]
    },
    {
     "name": "stderr",
     "output_type": "stream",
     "text": [
      "\r",
      " 41%|█████████████████████████████████████████████████████████████▌                                                                                          | 401/990 [00:36<00:52, 11.16it/s]"
     ]
    },
    {
     "name": "stderr",
     "output_type": "stream",
     "text": [
      "\r",
      " 41%|█████████████████████████████████████████████████████████████▊                                                                                          | 403/990 [00:36<00:52, 11.15it/s]"
     ]
    },
    {
     "name": "stderr",
     "output_type": "stream",
     "text": [
      "\r",
      " 41%|██████████████████████████████████████████████████████████████▏                                                                                         | 405/990 [00:36<00:52, 11.15it/s]"
     ]
    },
    {
     "name": "stderr",
     "output_type": "stream",
     "text": [
      "\r",
      " 41%|██████████████████████████████████████████████████████████████▍                                                                                         | 407/990 [00:36<00:52, 11.15it/s]"
     ]
    },
    {
     "name": "stderr",
     "output_type": "stream",
     "text": [
      "\r",
      " 41%|██████████████████████████████████████████████████████████████▊                                                                                         | 409/990 [00:36<00:52, 11.15it/s]"
     ]
    },
    {
     "name": "stderr",
     "output_type": "stream",
     "text": [
      "\r",
      " 42%|███████████████████████████████████████████████████████████████                                                                                         | 411/990 [00:36<00:51, 11.16it/s]"
     ]
    },
    {
     "name": "stderr",
     "output_type": "stream",
     "text": [
      "\r",
      " 42%|███████████████████████████████████████████████████████████████▍                                                                                        | 413/990 [00:37<00:51, 11.16it/s]"
     ]
    },
    {
     "name": "stderr",
     "output_type": "stream",
     "text": [
      "\r",
      " 42%|███████████████████████████████████████████████████████████████▋                                                                                        | 415/990 [00:37<00:51, 11.16it/s]"
     ]
    },
    {
     "name": "stderr",
     "output_type": "stream",
     "text": [
      "\r",
      " 42%|████████████████████████████████████████████████████████████████                                                                                        | 417/990 [00:37<00:51, 11.16it/s]"
     ]
    },
    {
     "name": "stderr",
     "output_type": "stream",
     "text": [
      "\r",
      " 42%|████████████████████████████████████████████████████████████████▎                                                                                       | 419/990 [00:37<00:51, 11.17it/s]"
     ]
    },
    {
     "name": "stderr",
     "output_type": "stream",
     "text": [
      "\r",
      " 43%|████████████████████████████████████████████████████████████████▋                                                                                       | 421/990 [00:37<00:50, 11.16it/s]"
     ]
    },
    {
     "name": "stderr",
     "output_type": "stream",
     "text": [
      "\r",
      " 43%|████████████████████████████████████████████████████████████████▉                                                                                       | 423/990 [00:38<00:50, 11.15it/s]"
     ]
    },
    {
     "name": "stderr",
     "output_type": "stream",
     "text": [
      "\r",
      " 43%|█████████████████████████████████████████████████████████████████▎                                                                                      | 425/990 [00:38<00:50, 11.15it/s]"
     ]
    },
    {
     "name": "stderr",
     "output_type": "stream",
     "text": [
      "\r",
      " 43%|█████████████████████████████████████████████████████████████████▌                                                                                      | 427/990 [00:38<00:50, 11.15it/s]"
     ]
    },
    {
     "name": "stderr",
     "output_type": "stream",
     "text": [
      "\r",
      " 43%|█████████████████████████████████████████████████████████████████▊                                                                                      | 429/990 [00:38<00:50, 11.15it/s]"
     ]
    },
    {
     "name": "stderr",
     "output_type": "stream",
     "text": [
      "\r",
      " 44%|██████████████████████████████████████████████████████████████████▏                                                                                     | 431/990 [00:38<00:50, 11.16it/s]"
     ]
    },
    {
     "name": "stderr",
     "output_type": "stream",
     "text": [
      "\r",
      " 44%|██████████████████████████████████████████████████████████████████▍                                                                                     | 433/990 [00:38<00:49, 11.16it/s]"
     ]
    },
    {
     "name": "stderr",
     "output_type": "stream",
     "text": [
      "\r",
      " 44%|██████████████████████████████████████████████████████████████████▊                                                                                     | 435/990 [00:39<00:49, 11.15it/s]"
     ]
    },
    {
     "name": "stderr",
     "output_type": "stream",
     "text": [
      "\r",
      " 44%|███████████████████████████████████████████████████████████████████                                                                                     | 437/990 [00:39<00:49, 11.16it/s]"
     ]
    },
    {
     "name": "stderr",
     "output_type": "stream",
     "text": [
      "\r",
      " 44%|███████████████████████████████████████████████████████████████████▍                                                                                    | 439/990 [00:39<00:49, 11.15it/s]"
     ]
    },
    {
     "name": "stderr",
     "output_type": "stream",
     "text": [
      "\r",
      " 45%|███████████████████████████████████████████████████████████████████▋                                                                                    | 441/990 [00:39<00:49, 11.16it/s]"
     ]
    },
    {
     "name": "stderr",
     "output_type": "stream",
     "text": [
      "\r",
      " 45%|████████████████████████████████████████████████████████████████████                                                                                    | 443/990 [00:39<00:49, 11.15it/s]"
     ]
    },
    {
     "name": "stderr",
     "output_type": "stream",
     "text": [
      "\r",
      " 45%|████████████████████████████████████████████████████████████████████▎                                                                                   | 445/990 [00:40<00:48, 11.15it/s]"
     ]
    },
    {
     "name": "stderr",
     "output_type": "stream",
     "text": [
      "\r",
      " 45%|████████████████████████████████████████████████████████████████████▋                                                                                   | 447/990 [00:40<00:48, 11.15it/s]"
     ]
    },
    {
     "name": "stderr",
     "output_type": "stream",
     "text": [
      "\r",
      " 45%|████████████████████████████████████████████████████████████████████▉                                                                                   | 449/990 [00:40<00:48, 11.11it/s]"
     ]
    },
    {
     "name": "stderr",
     "output_type": "stream",
     "text": [
      "\r",
      " 46%|█████████████████████████████████████████████████████████████████████▏                                                                                  | 451/990 [00:40<00:48, 11.06it/s]"
     ]
    },
    {
     "name": "stderr",
     "output_type": "stream",
     "text": [
      "\r",
      " 46%|█████████████████████████████████████████████████████████████████████▌                                                                                  | 453/990 [00:40<00:48, 11.06it/s]"
     ]
    },
    {
     "name": "stderr",
     "output_type": "stream",
     "text": [
      "\r",
      " 46%|█████████████████████████████████████████████████████████████████████▊                                                                                  | 455/990 [00:40<00:48, 11.09it/s]"
     ]
    },
    {
     "name": "stderr",
     "output_type": "stream",
     "text": [
      "\r",
      " 46%|██████████████████████████████████████████████████████████████████████▏                                                                                 | 457/990 [00:41<00:47, 11.11it/s]"
     ]
    },
    {
     "name": "stderr",
     "output_type": "stream",
     "text": [
      "\r",
      " 46%|██████████████████████████████████████████████████████████████████████▍                                                                                 | 459/990 [00:41<00:47, 11.12it/s]"
     ]
    },
    {
     "name": "stderr",
     "output_type": "stream",
     "text": [
      "\r",
      " 47%|██████████████████████████████████████████████████████████████████████▊                                                                                 | 461/990 [00:41<00:47, 11.14it/s]"
     ]
    },
    {
     "name": "stderr",
     "output_type": "stream",
     "text": [
      "\r",
      " 47%|███████████████████████████████████████████████████████████████████████                                                                                 | 463/990 [00:41<00:47, 11.14it/s]"
     ]
    },
    {
     "name": "stderr",
     "output_type": "stream",
     "text": [
      "\r",
      " 47%|███████████████████████████████████████████████████████████████████████▍                                                                                | 465/990 [00:41<00:47, 11.14it/s]"
     ]
    },
    {
     "name": "stderr",
     "output_type": "stream",
     "text": [
      "\r",
      " 47%|███████████████████████████████████████████████████████████████████████▋                                                                                | 467/990 [00:41<00:46, 11.14it/s]"
     ]
    },
    {
     "name": "stderr",
     "output_type": "stream",
     "text": [
      "\r",
      " 47%|████████████████████████████████████████████████████████████████████████                                                                                | 469/990 [00:42<00:46, 11.15it/s]"
     ]
    },
    {
     "name": "stderr",
     "output_type": "stream",
     "text": [
      "\r",
      " 48%|████████████████████████████████████████████████████████████████████████▎                                                                               | 471/990 [00:42<00:46, 11.15it/s]"
     ]
    },
    {
     "name": "stderr",
     "output_type": "stream",
     "text": [
      "\r",
      " 48%|████████████████████████████████████████████████████████████████████████▌                                                                               | 473/990 [00:42<00:46, 11.15it/s]"
     ]
    },
    {
     "name": "stderr",
     "output_type": "stream",
     "text": [
      "\r",
      " 48%|████████████████████████████████████████████████████████████████████████▉                                                                               | 475/990 [00:42<00:46, 11.16it/s]"
     ]
    },
    {
     "name": "stderr",
     "output_type": "stream",
     "text": [
      "\r",
      " 48%|█████████████████████████████████████████████████████████████████████████▏                                                                              | 477/990 [00:42<00:45, 11.16it/s]"
     ]
    },
    {
     "name": "stderr",
     "output_type": "stream",
     "text": [
      "\r",
      " 48%|█████████████████████████████████████████████████████████████████████████▌                                                                              | 479/990 [00:43<00:45, 11.16it/s]"
     ]
    },
    {
     "name": "stderr",
     "output_type": "stream",
     "text": [
      "\r",
      " 49%|█████████████████████████████████████████████████████████████████████████▊                                                                              | 481/990 [00:43<00:45, 11.16it/s]"
     ]
    },
    {
     "name": "stderr",
     "output_type": "stream",
     "text": [
      "\r",
      " 49%|██████████████████████████████████████████████████████████████████████████▏                                                                             | 483/990 [00:43<00:45, 11.17it/s]"
     ]
    },
    {
     "name": "stderr",
     "output_type": "stream",
     "text": [
      "\r",
      " 49%|██████████████████████████████████████████████████████████████████████████▍                                                                             | 485/990 [00:43<00:45, 11.16it/s]"
     ]
    },
    {
     "name": "stderr",
     "output_type": "stream",
     "text": [
      "\r",
      " 49%|██████████████████████████████████████████████████████████████████████████▊                                                                             | 487/990 [00:43<00:45, 11.15it/s]"
     ]
    },
    {
     "name": "stderr",
     "output_type": "stream",
     "text": [
      "\r",
      " 49%|███████████████████████████████████████████████████████████████████████████                                                                             | 489/990 [00:43<00:44, 11.15it/s]"
     ]
    },
    {
     "name": "stderr",
     "output_type": "stream",
     "text": [
      "\r",
      " 50%|███████████████████████████████████████████████████████████████████████████▍                                                                            | 491/990 [00:44<00:44, 11.15it/s]"
     ]
    },
    {
     "name": "stderr",
     "output_type": "stream",
     "text": [
      "\r",
      " 50%|███████████████████████████████████████████████████████████████████████████▋                                                                            | 493/990 [00:44<00:44, 11.16it/s]"
     ]
    },
    {
     "name": "stderr",
     "output_type": "stream",
     "text": [
      "\r",
      " 50%|████████████████████████████████████████████████████████████████████████████                                                                            | 495/990 [00:44<00:44, 11.15it/s]"
     ]
    },
    {
     "name": "stderr",
     "output_type": "stream",
     "text": [
      "\r",
      " 50%|████████████████████████████████████████████████████████████████████████████▎                                                                           | 497/990 [00:44<00:44, 11.15it/s]"
     ]
    },
    {
     "name": "stderr",
     "output_type": "stream",
     "text": [
      "\r",
      " 50%|████████████████████████████████████████████████████████████████████████████▌                                                                           | 499/990 [00:44<00:44, 11.16it/s]"
     ]
    },
    {
     "name": "stderr",
     "output_type": "stream",
     "text": [
      "\r",
      " 51%|████████████████████████████████████████████████████████████████████████████▉                                                                           | 501/990 [00:45<00:43, 11.15it/s]"
     ]
    },
    {
     "name": "stderr",
     "output_type": "stream",
     "text": [
      "\r",
      " 51%|█████████████████████████████████████████████████████████████████████████████▏                                                                          | 503/990 [00:45<00:43, 11.16it/s]"
     ]
    },
    {
     "name": "stderr",
     "output_type": "stream",
     "text": [
      "\r",
      " 51%|█████████████████████████████████████████████████████████████████████████████▌                                                                          | 505/990 [00:45<00:43, 11.16it/s]"
     ]
    },
    {
     "name": "stderr",
     "output_type": "stream",
     "text": [
      "\r",
      " 51%|█████████████████████████████████████████████████████████████████████████████▊                                                                          | 507/990 [00:45<00:43, 11.16it/s]"
     ]
    },
    {
     "name": "stderr",
     "output_type": "stream",
     "text": [
      "\r",
      " 51%|██████████████████████████████████████████████████████████████████████████████▏                                                                         | 509/990 [00:45<00:43, 11.17it/s]"
     ]
    },
    {
     "name": "stderr",
     "output_type": "stream",
     "text": [
      "\r",
      " 52%|██████████████████████████████████████████████████████████████████████████████▍                                                                         | 511/990 [00:45<00:42, 11.15it/s]"
     ]
    },
    {
     "name": "stderr",
     "output_type": "stream",
     "text": [
      "\r",
      " 52%|██████████████████████████████████████████████████████████████████████████████▊                                                                         | 513/990 [00:46<00:42, 11.15it/s]"
     ]
    },
    {
     "name": "stderr",
     "output_type": "stream",
     "text": [
      "\r",
      " 52%|███████████████████████████████████████████████████████████████████████████████                                                                         | 515/990 [00:46<00:42, 11.14it/s]"
     ]
    },
    {
     "name": "stderr",
     "output_type": "stream",
     "text": [
      "\r",
      " 52%|███████████████████████████████████████████████████████████████████████████████▍                                                                        | 517/990 [00:46<00:42, 11.15it/s]"
     ]
    },
    {
     "name": "stderr",
     "output_type": "stream",
     "text": [
      "\r",
      " 52%|███████████████████████████████████████████████████████████████████████████████▋                                                                        | 519/990 [00:46<00:42, 11.15it/s]"
     ]
    },
    {
     "name": "stderr",
     "output_type": "stream",
     "text": [
      "\r",
      " 53%|███████████████████████████████████████████████████████████████████████████████▉                                                                        | 521/990 [00:46<00:42, 11.16it/s]"
     ]
    },
    {
     "name": "stderr",
     "output_type": "stream",
     "text": [
      "\r",
      " 53%|████████████████████████████████████████████████████████████████████████████████▎                                                                       | 523/990 [00:47<00:41, 11.16it/s]"
     ]
    },
    {
     "name": "stderr",
     "output_type": "stream",
     "text": [
      "\r",
      " 53%|████████████████████████████████████████████████████████████████████████████████▌                                                                       | 525/990 [00:47<00:41, 11.16it/s]"
     ]
    },
    {
     "name": "stderr",
     "output_type": "stream",
     "text": [
      "\r",
      " 53%|████████████████████████████████████████████████████████████████████████████████▉                                                                       | 527/990 [00:47<00:41, 11.16it/s]"
     ]
    },
    {
     "name": "stderr",
     "output_type": "stream",
     "text": [
      "\r",
      " 53%|█████████████████████████████████████████████████████████████████████████████████▏                                                                      | 529/990 [00:47<00:41, 11.15it/s]"
     ]
    },
    {
     "name": "stderr",
     "output_type": "stream",
     "text": [
      "\r",
      " 54%|█████████████████████████████████████████████████████████████████████████████████▌                                                                      | 531/990 [00:47<00:41, 11.16it/s]"
     ]
    },
    {
     "name": "stderr",
     "output_type": "stream",
     "text": [
      "\r",
      " 54%|█████████████████████████████████████████████████████████████████████████████████▊                                                                      | 533/990 [00:47<00:40, 11.16it/s]"
     ]
    },
    {
     "name": "stderr",
     "output_type": "stream",
     "text": [
      "\r",
      " 54%|██████████████████████████████████████████████████████████████████████████████████▏                                                                     | 535/990 [00:48<00:40, 11.16it/s]"
     ]
    },
    {
     "name": "stderr",
     "output_type": "stream",
     "text": [
      "\r",
      " 54%|██████████████████████████████████████████████████████████████████████████████████▍                                                                     | 537/990 [00:48<00:40, 11.16it/s]"
     ]
    },
    {
     "name": "stderr",
     "output_type": "stream",
     "text": [
      "\r",
      " 54%|██████████████████████████████████████████████████████████████████████████████████▊                                                                     | 539/990 [00:48<00:40, 11.16it/s]"
     ]
    },
    {
     "name": "stderr",
     "output_type": "stream",
     "text": [
      "\r",
      " 55%|███████████████████████████████████████████████████████████████████████████████████                                                                     | 541/990 [00:48<00:40, 11.16it/s]"
     ]
    },
    {
     "name": "stderr",
     "output_type": "stream",
     "text": [
      "\r",
      " 55%|███████████████████████████████████████████████████████████████████████████████████▎                                                                    | 543/990 [00:48<00:40, 11.15it/s]"
     ]
    },
    {
     "name": "stderr",
     "output_type": "stream",
     "text": [
      "\r",
      " 55%|███████████████████████████████████████████████████████████████████████████████████▋                                                                    | 545/990 [00:48<00:39, 11.16it/s]"
     ]
    },
    {
     "name": "stderr",
     "output_type": "stream",
     "text": [
      "\r",
      " 55%|███████████████████████████████████████████████████████████████████████████████████▉                                                                    | 547/990 [00:49<00:39, 11.15it/s]"
     ]
    },
    {
     "name": "stderr",
     "output_type": "stream",
     "text": [
      "\r",
      " 55%|████████████████████████████████████████████████████████████████████████████████████▎                                                                   | 549/990 [00:49<00:39, 11.15it/s]"
     ]
    },
    {
     "name": "stderr",
     "output_type": "stream",
     "text": [
      "\r",
      " 56%|████████████████████████████████████████████████████████████████████████████████████▌                                                                   | 551/990 [00:49<00:39, 11.16it/s]"
     ]
    },
    {
     "name": "stderr",
     "output_type": "stream",
     "text": [
      "\r",
      " 56%|████████████████████████████████████████████████████████████████████████████████████▉                                                                   | 553/990 [00:49<00:39, 11.17it/s]"
     ]
    },
    {
     "name": "stderr",
     "output_type": "stream",
     "text": [
      "\r",
      " 56%|█████████████████████████████████████████████████████████████████████████████████████▏                                                                  | 555/990 [00:49<00:38, 11.16it/s]"
     ]
    },
    {
     "name": "stderr",
     "output_type": "stream",
     "text": [
      "\r",
      " 56%|█████████████████████████████████████████████████████████████████████████████████████▌                                                                  | 557/990 [00:50<00:38, 11.17it/s]"
     ]
    },
    {
     "name": "stderr",
     "output_type": "stream",
     "text": [
      "\r",
      " 56%|█████████████████████████████████████████████████████████████████████████████████████▊                                                                  | 559/990 [00:50<00:38, 11.16it/s]"
     ]
    },
    {
     "name": "stderr",
     "output_type": "stream",
     "text": [
      "\r",
      " 57%|██████████████████████████████████████████████████████████████████████████████████████▏                                                                 | 561/990 [00:50<00:38, 11.17it/s]"
     ]
    },
    {
     "name": "stderr",
     "output_type": "stream",
     "text": [
      "\r",
      " 57%|██████████████████████████████████████████████████████████████████████████████████████▍                                                                 | 563/990 [00:50<00:38, 11.16it/s]"
     ]
    },
    {
     "name": "stderr",
     "output_type": "stream",
     "text": [
      "\r",
      " 57%|██████████████████████████████████████████████████████████████████████████████████████▋                                                                 | 565/990 [00:50<00:38, 11.16it/s]"
     ]
    },
    {
     "name": "stderr",
     "output_type": "stream",
     "text": [
      "\r",
      " 57%|███████████████████████████████████████████████████████████████████████████████████████                                                                 | 567/990 [00:50<00:37, 11.16it/s]"
     ]
    },
    {
     "name": "stderr",
     "output_type": "stream",
     "text": [
      "\r",
      " 57%|███████████████████████████████████████████████████████████████████████████████████████▎                                                                | 569/990 [00:51<00:37, 11.16it/s]"
     ]
    },
    {
     "name": "stderr",
     "output_type": "stream",
     "text": [
      "\r",
      " 58%|███████████████████████████████████████████████████████████████████████████████████████▋                                                                | 571/990 [00:51<00:37, 11.15it/s]"
     ]
    },
    {
     "name": "stderr",
     "output_type": "stream",
     "text": [
      "\r",
      " 58%|███████████████████████████████████████████████████████████████████████████████████████▉                                                                | 573/990 [00:51<00:37, 11.15it/s]"
     ]
    },
    {
     "name": "stderr",
     "output_type": "stream",
     "text": [
      "\r",
      " 58%|████████████████████████████████████████████████████████████████████████████████████████▎                                                               | 575/990 [00:51<00:37, 11.15it/s]"
     ]
    },
    {
     "name": "stderr",
     "output_type": "stream",
     "text": [
      "\r",
      " 58%|████████████████████████████████████████████████████████████████████████████████████████▌                                                               | 577/990 [00:51<00:37, 11.15it/s]"
     ]
    },
    {
     "name": "stderr",
     "output_type": "stream",
     "text": [
      "\r",
      " 58%|████████████████████████████████████████████████████████████████████████████████████████▉                                                               | 579/990 [00:52<00:36, 11.15it/s]"
     ]
    },
    {
     "name": "stderr",
     "output_type": "stream",
     "text": [
      "\r",
      " 59%|█████████████████████████████████████████████████████████████████████████████████████████▏                                                              | 581/990 [00:52<00:36, 11.16it/s]"
     ]
    },
    {
     "name": "stderr",
     "output_type": "stream",
     "text": [
      "\r",
      " 59%|█████████████████████████████████████████████████████████████████████████████████████████▌                                                              | 583/990 [00:52<00:36, 11.15it/s]"
     ]
    },
    {
     "name": "stderr",
     "output_type": "stream",
     "text": [
      "\r",
      " 59%|█████████████████████████████████████████████████████████████████████████████████████████▊                                                              | 585/990 [00:52<00:36, 11.16it/s]"
     ]
    },
    {
     "name": "stderr",
     "output_type": "stream",
     "text": [
      "\r",
      " 59%|██████████████████████████████████████████████████████████████████████████████████████████▏                                                             | 587/990 [00:52<00:36, 11.16it/s]"
     ]
    },
    {
     "name": "stderr",
     "output_type": "stream",
     "text": [
      "\r",
      " 59%|██████████████████████████████████████████████████████████████████████████████████████████▍                                                             | 589/990 [00:52<00:35, 11.16it/s]"
     ]
    },
    {
     "name": "stderr",
     "output_type": "stream",
     "text": [
      "\r",
      " 60%|██████████████████████████████████████████████████████████████████████████████████████████▋                                                             | 591/990 [00:53<00:35, 11.15it/s]"
     ]
    },
    {
     "name": "stderr",
     "output_type": "stream",
     "text": [
      "\r",
      " 60%|███████████████████████████████████████████████████████████████████████████████████████████                                                             | 593/990 [00:53<00:35, 11.16it/s]"
     ]
    },
    {
     "name": "stderr",
     "output_type": "stream",
     "text": [
      "\r",
      " 60%|███████████████████████████████████████████████████████████████████████████████████████████▎                                                            | 595/990 [00:53<00:35, 11.15it/s]"
     ]
    },
    {
     "name": "stderr",
     "output_type": "stream",
     "text": [
      "\r",
      " 60%|███████████████████████████████████████████████████████████████████████████████████████████▋                                                            | 597/990 [00:53<00:35, 11.15it/s]"
     ]
    },
    {
     "name": "stderr",
     "output_type": "stream",
     "text": [
      "\r",
      " 61%|███████████████████████████████████████████████████████████████████████████████████████████▉                                                            | 599/990 [00:53<00:35, 11.16it/s]"
     ]
    },
    {
     "name": "stderr",
     "output_type": "stream",
     "text": [
      "\r",
      " 61%|████████████████████████████████████████████████████████████████████████████████████████████▎                                                           | 601/990 [00:53<00:34, 11.16it/s]"
     ]
    },
    {
     "name": "stderr",
     "output_type": "stream",
     "text": [
      "\r",
      " 61%|████████████████████████████████████████████████████████████████████████████████████████████▌                                                           | 603/990 [00:54<00:34, 11.17it/s]"
     ]
    },
    {
     "name": "stderr",
     "output_type": "stream",
     "text": [
      "\r",
      " 61%|████████████████████████████████████████████████████████████████████████████████████████████▉                                                           | 605/990 [00:54<00:34, 11.16it/s]"
     ]
    },
    {
     "name": "stderr",
     "output_type": "stream",
     "text": [
      "\r",
      " 61%|█████████████████████████████████████████████████████████████████████████████████████████████▏                                                          | 607/990 [00:54<00:34, 11.16it/s]"
     ]
    },
    {
     "name": "stderr",
     "output_type": "stream",
     "text": [
      "\r",
      " 62%|█████████████████████████████████████████████████████████████████████████████████████████████▌                                                          | 609/990 [00:54<00:34, 11.17it/s]"
     ]
    },
    {
     "name": "stderr",
     "output_type": "stream",
     "text": [
      "\r",
      " 62%|█████████████████████████████████████████████████████████████████████████████████████████████▊                                                          | 611/990 [00:54<00:33, 11.17it/s]"
     ]
    },
    {
     "name": "stderr",
     "output_type": "stream",
     "text": [
      "\r",
      " 62%|██████████████████████████████████████████████████████████████████████████████████████████████                                                          | 613/990 [00:55<00:33, 11.17it/s]"
     ]
    },
    {
     "name": "stderr",
     "output_type": "stream",
     "text": [
      "\r",
      " 62%|██████████████████████████████████████████████████████████████████████████████████████████████▍                                                         | 615/990 [00:55<00:33, 11.16it/s]"
     ]
    },
    {
     "name": "stderr",
     "output_type": "stream",
     "text": [
      "\r",
      " 62%|██████████████████████████████████████████████████████████████████████████████████████████████▋                                                         | 617/990 [00:55<00:33, 11.16it/s]"
     ]
    },
    {
     "name": "stderr",
     "output_type": "stream",
     "text": [
      "\r",
      " 63%|███████████████████████████████████████████████████████████████████████████████████████████████                                                         | 619/990 [00:55<00:33, 11.16it/s]"
     ]
    },
    {
     "name": "stderr",
     "output_type": "stream",
     "text": [
      "\r",
      " 63%|███████████████████████████████████████████████████████████████████████████████████████████████▎                                                        | 621/990 [00:55<00:33, 11.16it/s]"
     ]
    },
    {
     "name": "stderr",
     "output_type": "stream",
     "text": [
      "\r",
      " 63%|███████████████████████████████████████████████████████████████████████████████████████████████▋                                                        | 623/990 [00:55<00:32, 11.16it/s]"
     ]
    },
    {
     "name": "stderr",
     "output_type": "stream",
     "text": [
      "\r",
      " 63%|███████████████████████████████████████████████████████████████████████████████████████████████▉                                                        | 625/990 [00:56<00:32, 11.16it/s]"
     ]
    },
    {
     "name": "stderr",
     "output_type": "stream",
     "text": [
      "\r",
      " 63%|████████████████████████████████████████████████████████████████████████████████████████████████▎                                                       | 627/990 [00:56<00:32, 11.16it/s]"
     ]
    },
    {
     "name": "stderr",
     "output_type": "stream",
     "text": [
      "\r",
      " 64%|████████████████████████████████████████████████████████████████████████████████████████████████▌                                                       | 629/990 [00:56<00:32, 11.16it/s]"
     ]
    },
    {
     "name": "stderr",
     "output_type": "stream",
     "text": [
      "\r",
      " 64%|████████████████████████████████████████████████████████████████████████████████████████████████▉                                                       | 631/990 [00:56<00:32, 11.15it/s]"
     ]
    },
    {
     "name": "stderr",
     "output_type": "stream",
     "text": [
      "\r",
      " 64%|█████████████████████████████████████████████████████████████████████████████████████████████████▏                                                      | 633/990 [00:56<00:32, 11.15it/s]"
     ]
    },
    {
     "name": "stderr",
     "output_type": "stream",
     "text": [
      "\r",
      " 64%|█████████████████████████████████████████████████████████████████████████████████████████████████▍                                                      | 635/990 [00:57<00:31, 11.16it/s]"
     ]
    },
    {
     "name": "stderr",
     "output_type": "stream",
     "text": [
      "\r",
      " 64%|█████████████████████████████████████████████████████████████████████████████████████████████████▊                                                      | 637/990 [00:57<00:31, 11.16it/s]"
     ]
    },
    {
     "name": "stderr",
     "output_type": "stream",
     "text": [
      "\r",
      " 65%|██████████████████████████████████████████████████████████████████████████████████████████████████                                                      | 639/990 [00:57<00:31, 11.16it/s]"
     ]
    },
    {
     "name": "stderr",
     "output_type": "stream",
     "text": [
      "\r",
      " 65%|██████████████████████████████████████████████████████████████████████████████████████████████████▍                                                     | 641/990 [00:57<00:31, 11.15it/s]"
     ]
    },
    {
     "name": "stderr",
     "output_type": "stream",
     "text": [
      "\r",
      " 65%|██████████████████████████████████████████████████████████████████████████████████████████████████▋                                                     | 643/990 [00:57<00:31, 11.16it/s]"
     ]
    },
    {
     "name": "stderr",
     "output_type": "stream",
     "text": [
      "\r",
      " 65%|███████████████████████████████████████████████████████████████████████████████████████████████████                                                     | 645/990 [00:57<00:30, 11.16it/s]"
     ]
    },
    {
     "name": "stderr",
     "output_type": "stream",
     "text": [
      "\r",
      " 65%|███████████████████████████████████████████████████████████████████████████████████████████████████▎                                                    | 647/990 [00:58<00:30, 11.14it/s]"
     ]
    },
    {
     "name": "stderr",
     "output_type": "stream",
     "text": [
      "\r",
      " 66%|███████████████████████████████████████████████████████████████████████████████████████████████████▋                                                    | 649/990 [00:58<00:30, 11.14it/s]"
     ]
    },
    {
     "name": "stderr",
     "output_type": "stream",
     "text": [
      "\r",
      " 66%|███████████████████████████████████████████████████████████████████████████████████████████████████▉                                                    | 651/990 [00:58<00:30, 11.13it/s]"
     ]
    },
    {
     "name": "stderr",
     "output_type": "stream",
     "text": [
      "\r",
      " 66%|████████████████████████████████████████████████████████████████████████████████████████████████████▎                                                   | 653/990 [00:58<00:30, 11.15it/s]"
     ]
    },
    {
     "name": "stderr",
     "output_type": "stream",
     "text": [
      "\r",
      " 66%|████████████████████████████████████████████████████████████████████████████████████████████████████▌                                                   | 655/990 [00:58<00:30, 11.14it/s]"
     ]
    },
    {
     "name": "stderr",
     "output_type": "stream",
     "text": [
      "\r",
      " 66%|████████████████████████████████████████████████████████████████████████████████████████████████████▊                                                   | 657/990 [00:59<00:29, 11.15it/s]"
     ]
    },
    {
     "name": "stderr",
     "output_type": "stream",
     "text": [
      "\r",
      " 67%|█████████████████████████████████████████████████████████████████████████████████████████████████████▏                                                  | 659/990 [00:59<00:29, 11.15it/s]"
     ]
    },
    {
     "name": "stderr",
     "output_type": "stream",
     "text": [
      "\r",
      " 67%|█████████████████████████████████████████████████████████████████████████████████████████████████████▍                                                  | 661/990 [00:59<00:29, 11.16it/s]"
     ]
    },
    {
     "name": "stderr",
     "output_type": "stream",
     "text": [
      "\r",
      " 67%|█████████████████████████████████████████████████████████████████████████████████████████████████████▊                                                  | 663/990 [00:59<00:29, 11.16it/s]"
     ]
    },
    {
     "name": "stderr",
     "output_type": "stream",
     "text": [
      "\r",
      " 67%|██████████████████████████████████████████████████████████████████████████████████████████████████████                                                  | 665/990 [00:59<00:29, 11.15it/s]"
     ]
    },
    {
     "name": "stderr",
     "output_type": "stream",
     "text": [
      "\r",
      " 67%|██████████████████████████████████████████████████████████████████████████████████████████████████████▍                                                 | 667/990 [00:59<00:28, 11.15it/s]"
     ]
    },
    {
     "name": "stderr",
     "output_type": "stream",
     "text": [
      "\r",
      " 68%|██████████████████████████████████████████████████████████████████████████████████████████████████████▋                                                 | 669/990 [01:00<00:28, 11.16it/s]"
     ]
    },
    {
     "name": "stderr",
     "output_type": "stream",
     "text": [
      "\r",
      " 68%|███████████████████████████████████████████████████████████████████████████████████████████████████████                                                 | 671/990 [01:00<00:28, 11.16it/s]"
     ]
    },
    {
     "name": "stderr",
     "output_type": "stream",
     "text": [
      "\r",
      " 68%|███████████████████████████████████████████████████████████████████████████████████████████████████████▎                                                | 673/990 [01:00<00:28, 11.16it/s]"
     ]
    },
    {
     "name": "stderr",
     "output_type": "stream",
     "text": [
      "\r",
      " 68%|███████████████████████████████████████████████████████████████████████████████████████████████████████▋                                                | 675/990 [01:00<00:28, 11.15it/s]"
     ]
    },
    {
     "name": "stderr",
     "output_type": "stream",
     "text": [
      "\r",
      " 68%|███████████████████████████████████████████████████████████████████████████████████████████████████████▉                                                | 677/990 [01:00<00:28, 11.16it/s]"
     ]
    },
    {
     "name": "stderr",
     "output_type": "stream",
     "text": [
      "\r",
      " 69%|████████████████████████████████████████████████████████████████████████████████████████████████████████▎                                               | 679/990 [01:00<00:27, 11.16it/s]"
     ]
    },
    {
     "name": "stderr",
     "output_type": "stream",
     "text": [
      "\r",
      " 69%|████████████████████████████████████████████████████████████████████████████████████████████████████████▌                                               | 681/990 [01:01<00:27, 11.16it/s]"
     ]
    },
    {
     "name": "stderr",
     "output_type": "stream",
     "text": [
      "\r",
      " 69%|████████████████████████████████████████████████████████████████████████████████████████████████████████▊                                               | 683/990 [01:01<00:27, 11.16it/s]"
     ]
    },
    {
     "name": "stderr",
     "output_type": "stream",
     "text": [
      "\r",
      " 69%|█████████████████████████████████████████████████████████████████████████████████████████████████████████▏                                              | 685/990 [01:01<00:27, 11.16it/s]"
     ]
    },
    {
     "name": "stderr",
     "output_type": "stream",
     "text": [
      "\r",
      " 69%|█████████████████████████████████████████████████████████████████████████████████████████████████████████▍                                              | 687/990 [01:01<00:27, 11.16it/s]"
     ]
    },
    {
     "name": "stderr",
     "output_type": "stream",
     "text": [
      "\r",
      " 70%|█████████████████████████████████████████████████████████████████████████████████████████████████████████▊                                              | 689/990 [01:01<00:26, 11.16it/s]"
     ]
    },
    {
     "name": "stderr",
     "output_type": "stream",
     "text": [
      "\r",
      " 70%|██████████████████████████████████████████████████████████████████████████████████████████████████████████                                              | 691/990 [01:02<00:26, 11.16it/s]"
     ]
    },
    {
     "name": "stderr",
     "output_type": "stream",
     "text": [
      "\r",
      " 70%|██████████████████████████████████████████████████████████████████████████████████████████████████████████▍                                             | 693/990 [01:02<00:26, 11.16it/s]"
     ]
    },
    {
     "name": "stderr",
     "output_type": "stream",
     "text": [
      "\r",
      " 70%|██████████████████████████████████████████████████████████████████████████████████████████████████████████▋                                             | 695/990 [01:02<00:26, 11.14it/s]"
     ]
    },
    {
     "name": "stderr",
     "output_type": "stream",
     "text": [
      "\r",
      " 70%|███████████████████████████████████████████████████████████████████████████████████████████████████████████                                             | 697/990 [01:02<00:26, 11.15it/s]"
     ]
    },
    {
     "name": "stderr",
     "output_type": "stream",
     "text": [
      "\r",
      " 71%|███████████████████████████████████████████████████████████████████████████████████████████████████████████▎                                            | 699/990 [01:02<00:26, 11.16it/s]"
     ]
    },
    {
     "name": "stderr",
     "output_type": "stream",
     "text": [
      "\r",
      " 71%|███████████████████████████████████████████████████████████████████████████████████████████████████████████▋                                            | 701/990 [01:02<00:25, 11.16it/s]"
     ]
    },
    {
     "name": "stderr",
     "output_type": "stream",
     "text": [
      "\r",
      " 71%|███████████████████████████████████████████████████████████████████████████████████████████████████████████▉                                            | 703/990 [01:03<00:25, 11.17it/s]"
     ]
    },
    {
     "name": "stderr",
     "output_type": "stream",
     "text": [
      "\r",
      " 71%|████████████████████████████████████████████████████████████████████████████████████████████████████████████▏                                           | 705/990 [01:03<00:25, 11.17it/s]"
     ]
    },
    {
     "name": "stderr",
     "output_type": "stream",
     "text": [
      "\r",
      " 71%|████████████████████████████████████████████████████████████████████████████████████████████████████████████▌                                           | 707/990 [01:03<00:25, 11.18it/s]"
     ]
    },
    {
     "name": "stderr",
     "output_type": "stream",
     "text": [
      "\r",
      " 72%|████████████████████████████████████████████████████████████████████████████████████████████████████████████▊                                           | 709/990 [01:03<00:25, 11.17it/s]"
     ]
    },
    {
     "name": "stderr",
     "output_type": "stream",
     "text": [
      "\r",
      " 72%|█████████████████████████████████████████████████████████████████████████████████████████████████████████████▏                                          | 711/990 [01:03<00:24, 11.18it/s]"
     ]
    },
    {
     "name": "stderr",
     "output_type": "stream",
     "text": [
      "\r",
      " 72%|█████████████████████████████████████████████████████████████████████████████████████████████████████████████▍                                          | 713/990 [01:04<00:24, 11.17it/s]"
     ]
    },
    {
     "name": "stderr",
     "output_type": "stream",
     "text": [
      "\r",
      " 72%|█████████████████████████████████████████████████████████████████████████████████████████████████████████████▊                                          | 715/990 [01:04<00:24, 11.17it/s]"
     ]
    },
    {
     "name": "stderr",
     "output_type": "stream",
     "text": [
      "\r",
      " 72%|██████████████████████████████████████████████████████████████████████████████████████████████████████████████                                          | 717/990 [01:04<00:24, 11.17it/s]"
     ]
    },
    {
     "name": "stderr",
     "output_type": "stream",
     "text": [
      "\r",
      " 73%|██████████████████████████████████████████████████████████████████████████████████████████████████████████████▍                                         | 719/990 [01:04<00:24, 11.17it/s]"
     ]
    },
    {
     "name": "stderr",
     "output_type": "stream",
     "text": [
      "\r",
      " 73%|██████████████████████████████████████████████████████████████████████████████████████████████████████████████▋                                         | 721/990 [01:04<00:24, 11.17it/s]"
     ]
    },
    {
     "name": "stderr",
     "output_type": "stream",
     "text": [
      "\r",
      " 73%|███████████████████████████████████████████████████████████████████████████████████████████████████████████████                                         | 723/990 [01:04<00:23, 11.17it/s]"
     ]
    },
    {
     "name": "stderr",
     "output_type": "stream",
     "text": [
      "\r",
      " 73%|███████████████████████████████████████████████████████████████████████████████████████████████████████████████▎                                        | 725/990 [01:05<00:23, 11.18it/s]"
     ]
    },
    {
     "name": "stderr",
     "output_type": "stream",
     "text": [
      "\r",
      " 73%|███████████████████████████████████████████████████████████████████████████████████████████████████████████████▌                                        | 727/990 [01:05<00:23, 11.17it/s]"
     ]
    },
    {
     "name": "stderr",
     "output_type": "stream",
     "text": [
      "\r",
      " 74%|███████████████████████████████████████████████████████████████████████████████████████████████████████████████▉                                        | 729/990 [01:05<00:23, 11.15it/s]"
     ]
    },
    {
     "name": "stderr",
     "output_type": "stream",
     "text": [
      "\r",
      " 74%|████████████████████████████████████████████████████████████████████████████████████████████████████████████████▏                                       | 731/990 [01:05<00:23, 11.15it/s]"
     ]
    },
    {
     "name": "stderr",
     "output_type": "stream",
     "text": [
      "\r",
      " 74%|████████████████████████████████████████████████████████████████████████████████████████████████████████████████▌                                       | 733/990 [01:05<00:23, 11.16it/s]"
     ]
    },
    {
     "name": "stderr",
     "output_type": "stream",
     "text": [
      "\r",
      " 74%|████████████████████████████████████████████████████████████████████████████████████████████████████████████████▊                                       | 735/990 [01:06<00:22, 11.17it/s]"
     ]
    },
    {
     "name": "stderr",
     "output_type": "stream",
     "text": [
      "\r",
      " 74%|█████████████████████████████████████████████████████████████████████████████████████████████████████████████████▏                                      | 737/990 [01:06<00:22, 11.18it/s]"
     ]
    },
    {
     "name": "stderr",
     "output_type": "stream",
     "text": [
      "\r",
      " 75%|█████████████████████████████████████████████████████████████████████████████████████████████████████████████████▍                                      | 739/990 [01:06<00:22, 11.18it/s]"
     ]
    },
    {
     "name": "stderr",
     "output_type": "stream",
     "text": [
      "\r",
      " 75%|█████████████████████████████████████████████████████████████████████████████████████████████████████████████████▊                                      | 741/990 [01:06<00:22, 11.17it/s]"
     ]
    },
    {
     "name": "stderr",
     "output_type": "stream",
     "text": [
      "\r",
      " 75%|██████████████████████████████████████████████████████████████████████████████████████████████████████████████████                                      | 743/990 [01:06<00:22, 11.16it/s]"
     ]
    },
    {
     "name": "stderr",
     "output_type": "stream",
     "text": [
      "\r",
      " 75%|██████████████████████████████████████████████████████████████████████████████████████████████████████████████████▍                                     | 745/990 [01:06<00:21, 11.17it/s]"
     ]
    },
    {
     "name": "stderr",
     "output_type": "stream",
     "text": [
      "\r",
      " 75%|██████████████████████████████████████████████████████████████████████████████████████████████████████████████████▋                                     | 747/990 [01:07<00:21, 11.18it/s]"
     ]
    },
    {
     "name": "stderr",
     "output_type": "stream",
     "text": [
      "\r",
      " 76%|██████████████████████████████████████████████████████████████████████████████████████████████████████████████████▉                                     | 749/990 [01:07<00:21, 11.17it/s]"
     ]
    },
    {
     "name": "stderr",
     "output_type": "stream",
     "text": [
      "\r",
      " 76%|███████████████████████████████████████████████████████████████████████████████████████████████████████████████████▎                                    | 751/990 [01:07<00:21, 11.16it/s]"
     ]
    },
    {
     "name": "stderr",
     "output_type": "stream",
     "text": [
      "\r",
      " 76%|███████████████████████████████████████████████████████████████████████████████████████████████████████████████████▌                                    | 753/990 [01:07<00:21, 11.17it/s]"
     ]
    },
    {
     "name": "stderr",
     "output_type": "stream",
     "text": [
      "\r",
      " 76%|███████████████████████████████████████████████████████████████████████████████████████████████████████████████████▉                                    | 755/990 [01:07<00:21, 11.16it/s]"
     ]
    },
    {
     "name": "stderr",
     "output_type": "stream",
     "text": [
      "\r",
      " 76%|████████████████████████████████████████████████████████████████████████████████████████████████████████████████████▏                                   | 757/990 [01:07<00:20, 11.17it/s]"
     ]
    },
    {
     "name": "stderr",
     "output_type": "stream",
     "text": [
      "\r",
      " 77%|████████████████████████████████████████████████████████████████████████████████████████████████████████████████████▌                                   | 759/990 [01:08<00:20, 11.17it/s]"
     ]
    },
    {
     "name": "stderr",
     "output_type": "stream",
     "text": [
      "\r",
      " 77%|████████████████████████████████████████████████████████████████████████████████████████████████████████████████████▊                                   | 761/990 [01:08<00:20, 11.18it/s]"
     ]
    },
    {
     "name": "stderr",
     "output_type": "stream",
     "text": [
      "\r",
      " 77%|█████████████████████████████████████████████████████████████████████████████████████████████████████████████████████▏                                  | 763/990 [01:08<00:20, 11.18it/s]"
     ]
    },
    {
     "name": "stderr",
     "output_type": "stream",
     "text": [
      "\r",
      " 77%|█████████████████████████████████████████████████████████████████████████████████████████████████████████████████████▍                                  | 765/990 [01:08<00:20, 11.18it/s]"
     ]
    },
    {
     "name": "stderr",
     "output_type": "stream",
     "text": [
      "\r",
      " 77%|█████████████████████████████████████████████████████████████████████████████████████████████████████████████████████▊                                  | 767/990 [01:08<00:19, 11.18it/s]"
     ]
    },
    {
     "name": "stderr",
     "output_type": "stream",
     "text": [
      "\r",
      " 78%|██████████████████████████████████████████████████████████████████████████████████████████████████████████████████████                                  | 769/990 [01:09<00:19, 11.19it/s]"
     ]
    },
    {
     "name": "stderr",
     "output_type": "stream",
     "text": [
      "\r",
      " 78%|██████████████████████████████████████████████████████████████████████████████████████████████████████████████████████▍                                 | 771/990 [01:09<00:19, 11.18it/s]"
     ]
    },
    {
     "name": "stderr",
     "output_type": "stream",
     "text": [
      "\r",
      " 78%|██████████████████████████████████████████████████████████████████████████████████████████████████████████████████████▋                                 | 773/990 [01:09<00:19, 11.18it/s]"
     ]
    },
    {
     "name": "stderr",
     "output_type": "stream",
     "text": [
      "\r",
      " 78%|██████████████████████████████████████████████████████████████████████████████████████████████████████████████████████▉                                 | 775/990 [01:09<00:19, 11.17it/s]"
     ]
    },
    {
     "name": "stderr",
     "output_type": "stream",
     "text": [
      "\r",
      " 78%|███████████████████████████████████████████████████████████████████████████████████████████████████████████████████████▎                                | 777/990 [01:09<00:19, 11.17it/s]"
     ]
    },
    {
     "name": "stderr",
     "output_type": "stream",
     "text": [
      "\r",
      " 79%|███████████████████████████████████████████████████████████████████████████████████████████████████████████████████████▌                                | 779/990 [01:09<00:18, 11.18it/s]"
     ]
    },
    {
     "name": "stderr",
     "output_type": "stream",
     "text": [
      "\r",
      " 79%|███████████████████████████████████████████████████████████████████████████████████████████████████████████████████████▉                                | 781/990 [01:10<00:18, 11.18it/s]"
     ]
    },
    {
     "name": "stderr",
     "output_type": "stream",
     "text": [
      "\r",
      " 79%|████████████████████████████████████████████████████████████████████████████████████████████████████████████████████████▏                               | 783/990 [01:10<00:18, 11.16it/s]"
     ]
    },
    {
     "name": "stderr",
     "output_type": "stream",
     "text": [
      "\r",
      " 79%|████████████████████████████████████████████████████████████████████████████████████████████████████████████████████████▌                               | 785/990 [01:10<00:18, 11.17it/s]"
     ]
    },
    {
     "name": "stderr",
     "output_type": "stream",
     "text": [
      "\r",
      " 79%|████████████████████████████████████████████████████████████████████████████████████████████████████████████████████████▊                               | 787/990 [01:10<00:18, 11.17it/s]"
     ]
    },
    {
     "name": "stderr",
     "output_type": "stream",
     "text": [
      "\r",
      " 80%|█████████████████████████████████████████████████████████████████████████████████████████████████████████████████████████▏                              | 789/990 [01:10<00:17, 11.17it/s]"
     ]
    },
    {
     "name": "stderr",
     "output_type": "stream",
     "text": [
      "\r",
      " 80%|█████████████████████████████████████████████████████████████████████████████████████████████████████████████████████████▍                              | 791/990 [01:11<00:17, 11.18it/s]"
     ]
    },
    {
     "name": "stderr",
     "output_type": "stream",
     "text": [
      "\r",
      " 80%|█████████████████████████████████████████████████████████████████████████████████████████████████████████████████████████▊                              | 793/990 [01:11<00:17, 11.18it/s]"
     ]
    },
    {
     "name": "stderr",
     "output_type": "stream",
     "text": [
      "\r",
      " 80%|██████████████████████████████████████████████████████████████████████████████████████████████████████████████████████████                              | 795/990 [01:11<00:17, 11.18it/s]"
     ]
    },
    {
     "name": "stderr",
     "output_type": "stream",
     "text": [
      "\r",
      " 81%|██████████████████████████████████████████████████████████████████████████████████████████████████████████████████████████▎                             | 797/990 [01:11<00:17, 11.18it/s]"
     ]
    },
    {
     "name": "stderr",
     "output_type": "stream",
     "text": [
      "\r",
      " 81%|██████████████████████████████████████████████████████████████████████████████████████████████████████████████████████████▋                             | 799/990 [01:11<00:17, 11.17it/s]"
     ]
    },
    {
     "name": "stderr",
     "output_type": "stream",
     "text": [
      "\r",
      " 81%|██████████████████████████████████████████████████████████████████████████████████████████████████████████████████████████▉                             | 801/990 [01:11<00:16, 11.18it/s]"
     ]
    },
    {
     "name": "stderr",
     "output_type": "stream",
     "text": [
      "\r",
      " 81%|███████████████████████████████████████████████████████████████████████████████████████████████████████████████████████████▎                            | 803/990 [01:12<00:16, 11.18it/s]"
     ]
    },
    {
     "name": "stderr",
     "output_type": "stream",
     "text": [
      "\r",
      " 81%|███████████████████████████████████████████████████████████████████████████████████████████████████████████████████████████▌                            | 805/990 [01:12<00:16, 11.18it/s]"
     ]
    },
    {
     "name": "stderr",
     "output_type": "stream",
     "text": [
      "\r",
      " 82%|███████████████████████████████████████████████████████████████████████████████████████████████████████████████████████████▉                            | 807/990 [01:12<00:16, 11.18it/s]"
     ]
    },
    {
     "name": "stderr",
     "output_type": "stream",
     "text": [
      "\r",
      " 82%|████████████████████████████████████████████████████████████████████████████████████████████████████████████████████████████▏                           | 809/990 [01:12<00:16, 11.18it/s]"
     ]
    },
    {
     "name": "stderr",
     "output_type": "stream",
     "text": [
      "\r",
      " 82%|████████████████████████████████████████████████████████████████████████████████████████████████████████████████████████████▌                           | 811/990 [01:12<00:16, 11.18it/s]"
     ]
    },
    {
     "name": "stderr",
     "output_type": "stream",
     "text": [
      "\r",
      " 82%|████████████████████████████████████████████████████████████████████████████████████████████████████████████████████████████▊                           | 813/990 [01:12<00:15, 11.18it/s]"
     ]
    },
    {
     "name": "stderr",
     "output_type": "stream",
     "text": [
      "\r",
      " 82%|█████████████████████████████████████████████████████████████████████████████████████████████████████████████████████████████▏                          | 815/990 [01:13<00:15, 11.18it/s]"
     ]
    },
    {
     "name": "stderr",
     "output_type": "stream",
     "text": [
      "\r",
      " 83%|█████████████████████████████████████████████████████████████████████████████████████████████████████████████████████████████▍                          | 817/990 [01:13<00:15, 11.18it/s]"
     ]
    },
    {
     "name": "stderr",
     "output_type": "stream",
     "text": [
      "\r",
      " 83%|█████████████████████████████████████████████████████████████████████████████████████████████████████████████████████████████▋                          | 819/990 [01:13<00:15, 11.15it/s]"
     ]
    },
    {
     "name": "stderr",
     "output_type": "stream",
     "text": [
      "\r",
      " 83%|██████████████████████████████████████████████████████████████████████████████████████████████████████████████████████████████                          | 821/990 [01:13<00:15, 11.16it/s]"
     ]
    },
    {
     "name": "stderr",
     "output_type": "stream",
     "text": [
      "\r",
      " 83%|██████████████████████████████████████████████████████████████████████████████████████████████████████████████████████████████▎                         | 823/990 [01:13<00:14, 11.16it/s]"
     ]
    },
    {
     "name": "stderr",
     "output_type": "stream",
     "text": [
      "\r",
      " 83%|██████████████████████████████████████████████████████████████████████████████████████████████████████████████████████████████▋                         | 825/990 [01:14<00:14, 11.16it/s]"
     ]
    },
    {
     "name": "stderr",
     "output_type": "stream",
     "text": [
      "\r",
      " 84%|██████████████████████████████████████████████████████████████████████████████████████████████████████████████████████████████▉                         | 827/990 [01:14<00:14, 11.17it/s]"
     ]
    },
    {
     "name": "stderr",
     "output_type": "stream",
     "text": [
      "\r",
      " 84%|███████████████████████████████████████████████████████████████████████████████████████████████████████████████████████████████▎                        | 829/990 [01:14<00:14, 11.17it/s]"
     ]
    },
    {
     "name": "stderr",
     "output_type": "stream",
     "text": [
      "\r",
      " 84%|███████████████████████████████████████████████████████████████████████████████████████████████████████████████████████████████▌                        | 831/990 [01:14<00:14, 11.17it/s]"
     ]
    },
    {
     "name": "stderr",
     "output_type": "stream",
     "text": [
      "\r",
      " 84%|███████████████████████████████████████████████████████████████████████████████████████████████████████████████████████████████▉                        | 833/990 [01:14<00:14, 11.17it/s]"
     ]
    },
    {
     "name": "stderr",
     "output_type": "stream",
     "text": [
      "\r",
      " 84%|████████████████████████████████████████████████████████████████████████████████████████████████████████████████████████████████▏                       | 835/990 [01:14<00:13, 11.17it/s]"
     ]
    },
    {
     "name": "stderr",
     "output_type": "stream",
     "text": [
      "\r",
      " 85%|████████████████████████████████████████████████████████████████████████████████████████████████████████████████████████████████▌                       | 837/990 [01:15<00:13, 11.17it/s]"
     ]
    },
    {
     "name": "stderr",
     "output_type": "stream",
     "text": [
      "\r",
      " 85%|████████████████████████████████████████████████████████████████████████████████████████████████████████████████████████████████▊                       | 839/990 [01:15<00:13, 11.17it/s]"
     ]
    },
    {
     "name": "stderr",
     "output_type": "stream",
     "text": [
      "\r",
      " 85%|█████████████████████████████████████████████████████████████████████████████████████████████████████████████████████████████████                       | 841/990 [01:15<00:13, 11.17it/s]"
     ]
    },
    {
     "name": "stderr",
     "output_type": "stream",
     "text": [
      "\r",
      " 85%|█████████████████████████████████████████████████████████████████████████████████████████████████████████████████████████████████▍                      | 843/990 [01:15<00:13, 11.17it/s]"
     ]
    },
    {
     "name": "stderr",
     "output_type": "stream",
     "text": [
      "\r",
      " 85%|█████████████████████████████████████████████████████████████████████████████████████████████████████████████████████████████████▋                      | 845/990 [01:15<00:12, 11.18it/s]"
     ]
    },
    {
     "name": "stderr",
     "output_type": "stream",
     "text": [
      "\r",
      " 86%|██████████████████████████████████████████████████████████████████████████████████████████████████████████████████████████████████                      | 847/990 [01:16<00:12, 11.18it/s]"
     ]
    },
    {
     "name": "stderr",
     "output_type": "stream",
     "text": [
      "\r",
      " 86%|██████████████████████████████████████████████████████████████████████████████████████████████████████████████████████████████████▎                     | 849/990 [01:16<00:12, 11.18it/s]"
     ]
    },
    {
     "name": "stderr",
     "output_type": "stream",
     "text": [
      "\r",
      " 86%|██████████████████████████████████████████████████████████████████████████████████████████████████████████████████████████████████▋                     | 851/990 [01:16<00:12, 11.18it/s]"
     ]
    },
    {
     "name": "stderr",
     "output_type": "stream",
     "text": [
      "\r",
      " 86%|██████████████████████████████████████████████████████████████████████████████████████████████████████████████████████████████████▉                     | 853/990 [01:16<00:12, 11.18it/s]"
     ]
    },
    {
     "name": "stderr",
     "output_type": "stream",
     "text": [
      "\r",
      " 86%|███████████████████████████████████████████████████████████████████████████████████████████████████████████████████████████████████▎                    | 855/990 [01:16<00:12, 11.18it/s]"
     ]
    },
    {
     "name": "stderr",
     "output_type": "stream",
     "text": [
      "\r",
      " 87%|███████████████████████████████████████████████████████████████████████████████████████████████████████████████████████████████████▌                    | 857/990 [01:16<00:11, 11.18it/s]"
     ]
    },
    {
     "name": "stderr",
     "output_type": "stream",
     "text": [
      "\r",
      " 87%|███████████████████████████████████████████████████████████████████████████████████████████████████████████████████████████████████▉                    | 859/990 [01:17<00:11, 11.18it/s]"
     ]
    },
    {
     "name": "stderr",
     "output_type": "stream",
     "text": [
      "\r",
      " 87%|████████████████████████████████████████████████████████████████████████████████████████████████████████████████████████████████████▏                   | 861/990 [01:17<00:11, 11.18it/s]"
     ]
    },
    {
     "name": "stderr",
     "output_type": "stream",
     "text": [
      "\r",
      " 87%|████████████████████████████████████████████████████████████████████████████████████████████████████████████████████████████████████▌                   | 863/990 [01:17<00:11, 11.17it/s]"
     ]
    },
    {
     "name": "stderr",
     "output_type": "stream",
     "text": [
      "\r",
      " 87%|████████████████████████████████████████████████████████████████████████████████████████████████████████████████████████████████████▊                   | 865/990 [01:17<00:11, 11.17it/s]"
     ]
    },
    {
     "name": "stderr",
     "output_type": "stream",
     "text": [
      "\r",
      " 88%|█████████████████████████████████████████████████████████████████████████████████████████████████████████████████████████████████████                   | 867/990 [01:17<00:11, 11.16it/s]"
     ]
    },
    {
     "name": "stderr",
     "output_type": "stream",
     "text": [
      "\r",
      " 88%|█████████████████████████████████████████████████████████████████████████████████████████████████████████████████████████████████████▍                  | 869/990 [01:17<00:10, 11.17it/s]"
     ]
    },
    {
     "name": "stderr",
     "output_type": "stream",
     "text": [
      "\r",
      " 88%|█████████████████████████████████████████████████████████████████████████████████████████████████████████████████████████████████████▋                  | 871/990 [01:18<00:10, 11.17it/s]"
     ]
    },
    {
     "name": "stderr",
     "output_type": "stream",
     "text": [
      "\r",
      " 88%|██████████████████████████████████████████████████████████████████████████████████████████████████████████████████████████████████████                  | 873/990 [01:18<00:10, 11.17it/s]"
     ]
    },
    {
     "name": "stderr",
     "output_type": "stream",
     "text": [
      "\r",
      " 88%|██████████████████████████████████████████████████████████████████████████████████████████████████████████████████████████████████████▎                 | 875/990 [01:18<00:10, 11.17it/s]"
     ]
    },
    {
     "name": "stderr",
     "output_type": "stream",
     "text": [
      "\r",
      " 89%|██████████████████████████████████████████████████████████████████████████████████████████████████████████████████████████████████████▋                 | 877/990 [01:18<00:10, 11.17it/s]"
     ]
    },
    {
     "name": "stderr",
     "output_type": "stream",
     "text": [
      "\r",
      " 89%|██████████████████████████████████████████████████████████████████████████████████████████████████████████████████████████████████████▉                 | 879/990 [01:18<00:09, 11.18it/s]"
     ]
    },
    {
     "name": "stderr",
     "output_type": "stream",
     "text": [
      "\r",
      " 89%|███████████████████████████████████████████████████████████████████████████████████████████████████████████████████████████████████████▎                | 881/990 [01:19<00:09, 11.18it/s]"
     ]
    },
    {
     "name": "stderr",
     "output_type": "stream",
     "text": [
      "\r",
      " 89%|███████████████████████████████████████████████████████████████████████████████████████████████████████████████████████████████████████▌                | 883/990 [01:19<00:09, 11.17it/s]"
     ]
    },
    {
     "name": "stderr",
     "output_type": "stream",
     "text": [
      "\r",
      " 89%|███████████████████████████████████████████████████████████████████████████████████████████████████████████████████████████████████████▉                | 885/990 [01:19<00:09, 11.17it/s]"
     ]
    },
    {
     "name": "stderr",
     "output_type": "stream",
     "text": [
      "\r",
      " 90%|████████████████████████████████████████████████████████████████████████████████████████████████████████████████████████████████████████▏               | 887/990 [01:19<00:09, 11.16it/s]"
     ]
    },
    {
     "name": "stderr",
     "output_type": "stream",
     "text": [
      "\r",
      " 90%|████████████████████████████████████████████████████████████████████████████████████████████████████████████████████████████████████████▍               | 889/990 [01:19<00:09, 11.17it/s]"
     ]
    },
    {
     "name": "stderr",
     "output_type": "stream",
     "text": [
      "\r",
      " 90%|████████████████████████████████████████████████████████████████████████████████████████████████████████████████████████████████████████▊               | 891/990 [01:19<00:08, 11.18it/s]"
     ]
    },
    {
     "name": "stderr",
     "output_type": "stream",
     "text": [
      "\r",
      " 90%|█████████████████████████████████████████████████████████████████████████████████████████████████████████████████████████████████████████               | 893/990 [01:20<00:08, 11.17it/s]"
     ]
    },
    {
     "name": "stderr",
     "output_type": "stream",
     "text": [
      "\r",
      " 90%|█████████████████████████████████████████████████████████████████████████████████████████████████████████████████████████████████████████▍              | 895/990 [01:20<00:08, 11.17it/s]"
     ]
    },
    {
     "name": "stderr",
     "output_type": "stream",
     "text": [
      "\r",
      " 91%|█████████████████████████████████████████████████████████████████████████████████████████████████████████████████████████████████████████▋              | 897/990 [01:20<00:08, 11.17it/s]"
     ]
    },
    {
     "name": "stderr",
     "output_type": "stream",
     "text": [
      "\r",
      " 91%|██████████████████████████████████████████████████████████████████████████████████████████████████████████████████████████████████████████              | 899/990 [01:20<00:08, 11.17it/s]"
     ]
    },
    {
     "name": "stderr",
     "output_type": "stream",
     "text": [
      "\r",
      " 91%|██████████████████████████████████████████████████████████████████████████████████████████████████████████████████████████████████████████▎             | 901/990 [01:20<00:07, 11.17it/s]"
     ]
    },
    {
     "name": "stderr",
     "output_type": "stream",
     "text": [
      "\r",
      " 91%|██████████████████████████████████████████████████████████████████████████████████████████████████████████████████████████████████████████▋             | 903/990 [01:21<00:07, 11.17it/s]"
     ]
    },
    {
     "name": "stderr",
     "output_type": "stream",
     "text": [
      "\r",
      " 91%|██████████████████████████████████████████████████████████████████████████████████████████████████████████████████████████████████████████▉             | 905/990 [01:21<00:07, 11.18it/s]"
     ]
    },
    {
     "name": "stderr",
     "output_type": "stream",
     "text": [
      "\r",
      " 92%|███████████████████████████████████████████████████████████████████████████████████████████████████████████████████████████████████████████▎            | 907/990 [01:21<00:07, 11.18it/s]"
     ]
    },
    {
     "name": "stderr",
     "output_type": "stream",
     "text": [
      "\r",
      " 92%|███████████████████████████████████████████████████████████████████████████████████████████████████████████████████████████████████████████▌            | 909/990 [01:21<00:07, 11.17it/s]"
     ]
    },
    {
     "name": "stderr",
     "output_type": "stream",
     "text": [
      "\r",
      " 92%|███████████████████████████████████████████████████████████████████████████████████████████████████████████████████████████████████████████▊            | 911/990 [01:21<00:07, 11.17it/s]"
     ]
    },
    {
     "name": "stderr",
     "output_type": "stream",
     "text": [
      "\r",
      " 92%|████████████████████████████████████████████████████████████████████████████████████████████████████████████████████████████████████████████▏           | 913/990 [01:21<00:06, 11.17it/s]"
     ]
    },
    {
     "name": "stderr",
     "output_type": "stream",
     "text": [
      "\r",
      " 92%|████████████████████████████████████████████████████████████████████████████████████████████████████████████████████████████████████████████▍           | 915/990 [01:22<00:06, 11.16it/s]"
     ]
    },
    {
     "name": "stderr",
     "output_type": "stream",
     "text": [
      "\r",
      " 93%|████████████████████████████████████████████████████████████████████████████████████████████████████████████████████████████████████████████▊           | 917/990 [01:22<00:06, 11.17it/s]"
     ]
    },
    {
     "name": "stderr",
     "output_type": "stream",
     "text": [
      "\r",
      " 93%|█████████████████████████████████████████████████████████████████████████████████████████████████████████████████████████████████████████████           | 919/990 [01:22<00:06, 11.17it/s]"
     ]
    },
    {
     "name": "stderr",
     "output_type": "stream",
     "text": [
      "\r",
      " 93%|█████████████████████████████████████████████████████████████████████████████████████████████████████████████████████████████████████████████▍          | 921/990 [01:22<00:06, 11.14it/s]"
     ]
    },
    {
     "name": "stderr",
     "output_type": "stream",
     "text": [
      "\r",
      " 93%|█████████████████████████████████████████████████████████████████████████████████████████████████████████████████████████████████████████████▋          | 923/990 [01:22<00:06, 11.13it/s]"
     ]
    },
    {
     "name": "stderr",
     "output_type": "stream",
     "text": [
      "\r",
      " 93%|██████████████████████████████████████████████████████████████████████████████████████████████████████████████████████████████████████████████          | 925/990 [01:23<00:05, 11.15it/s]"
     ]
    },
    {
     "name": "stderr",
     "output_type": "stream",
     "text": [
      "\r",
      " 94%|██████████████████████████████████████████████████████████████████████████████████████████████████████████████████████████████████████████████▎         | 927/990 [01:23<00:05, 11.16it/s]"
     ]
    },
    {
     "name": "stderr",
     "output_type": "stream",
     "text": [
      "\r",
      " 94%|██████████████████████████████████████████████████████████████████████████████████████████████████████████████████████████████████████████████▋         | 929/990 [01:23<00:05, 11.17it/s]"
     ]
    },
    {
     "name": "stderr",
     "output_type": "stream",
     "text": [
      "\r",
      " 94%|██████████████████████████████████████████████████████████████████████████████████████████████████████████████████████████████████████████████▉         | 931/990 [01:23<00:05, 11.17it/s]"
     ]
    },
    {
     "name": "stderr",
     "output_type": "stream",
     "text": [
      "\r",
      " 94%|███████████████████████████████████████████████████████████████████████████████████████████████████████████████████████████████████████████████▏        | 933/990 [01:23<00:05, 11.17it/s]"
     ]
    },
    {
     "name": "stderr",
     "output_type": "stream",
     "text": [
      "\r",
      " 94%|███████████████████████████████████████████████████████████████████████████████████████████████████████████████████████████████████████████████▌        | 935/990 [01:23<00:04, 11.16it/s]"
     ]
    },
    {
     "name": "stderr",
     "output_type": "stream",
     "text": [
      "\r",
      " 95%|███████████████████████████████████████████████████████████████████████████████████████████████████████████████████████████████████████████████▊        | 937/990 [01:24<00:04, 11.16it/s]"
     ]
    },
    {
     "name": "stderr",
     "output_type": "stream",
     "text": [
      "\r",
      " 95%|████████████████████████████████████████████████████████████████████████████████████████████████████████████████████████████████████████████████▏       | 939/990 [01:24<00:04, 11.17it/s]"
     ]
    },
    {
     "name": "stderr",
     "output_type": "stream",
     "text": [
      "\r",
      " 95%|████████████████████████████████████████████████████████████████████████████████████████████████████████████████████████████████████████████████▍       | 941/990 [01:24<00:04, 11.16it/s]"
     ]
    },
    {
     "name": "stderr",
     "output_type": "stream",
     "text": [
      "\r",
      " 95%|████████████████████████████████████████████████████████████████████████████████████████████████████████████████████████████████████████████████▊       | 943/990 [01:24<00:04, 11.15it/s]"
     ]
    },
    {
     "name": "stderr",
     "output_type": "stream",
     "text": [
      "\r",
      " 95%|█████████████████████████████████████████████████████████████████████████████████████████████████████████████████████████████████████████████████       | 945/990 [01:24<00:04, 11.15it/s]"
     ]
    },
    {
     "name": "stderr",
     "output_type": "stream",
     "text": [
      "\r",
      " 96%|█████████████████████████████████████████████████████████████████████████████████████████████████████████████████████████████████████████████████▍      | 947/990 [01:24<00:03, 11.15it/s]"
     ]
    },
    {
     "name": "stderr",
     "output_type": "stream",
     "text": [
      "\r",
      " 96%|█████████████████████████████████████████████████████████████████████████████████████████████████████████████████████████████████████████████████▋      | 949/990 [01:25<00:03, 11.15it/s]"
     ]
    },
    {
     "name": "stderr",
     "output_type": "stream",
     "text": [
      "\r",
      " 96%|██████████████████████████████████████████████████████████████████████████████████████████████████████████████████████████████████████████████████      | 951/990 [01:25<00:03, 11.14it/s]"
     ]
    },
    {
     "name": "stderr",
     "output_type": "stream",
     "text": [
      "\r",
      " 96%|██████████████████████████████████████████████████████████████████████████████████████████████████████████████████████████████████████████████████▎     | 953/990 [01:25<00:03, 11.14it/s]"
     ]
    },
    {
     "name": "stderr",
     "output_type": "stream",
     "text": [
      "\r",
      " 96%|██████████████████████████████████████████████████████████████████████████████████████████████████████████████████████████████████████████████████▋     | 955/990 [01:25<00:03, 11.14it/s]"
     ]
    },
    {
     "name": "stderr",
     "output_type": "stream",
     "text": [
      "\r",
      " 97%|██████████████████████████████████████████████████████████████████████████████████████████████████████████████████████████████████████████████████▉     | 957/990 [01:25<00:02, 11.13it/s]"
     ]
    },
    {
     "name": "stderr",
     "output_type": "stream",
     "text": [
      "\r",
      " 97%|███████████████████████████████████████████████████████████████████████████████████████████████████████████████████████████████████████████████████▏    | 959/990 [01:26<00:02, 11.15it/s]"
     ]
    },
    {
     "name": "stderr",
     "output_type": "stream",
     "text": [
      "\r",
      " 97%|███████████████████████████████████████████████████████████████████████████████████████████████████████████████████████████████████████████████████▌    | 961/990 [01:26<00:02, 11.15it/s]"
     ]
    },
    {
     "name": "stderr",
     "output_type": "stream",
     "text": [
      "\r",
      " 97%|███████████████████████████████████████████████████████████████████████████████████████████████████████████████████████████████████████████████████▊    | 963/990 [01:26<00:02, 11.15it/s]"
     ]
    },
    {
     "name": "stderr",
     "output_type": "stream",
     "text": [
      "\r",
      " 97%|████████████████████████████████████████████████████████████████████████████████████████████████████████████████████████████████████████████████████▏   | 965/990 [01:26<00:02, 11.15it/s]"
     ]
    },
    {
     "name": "stderr",
     "output_type": "stream",
     "text": [
      "\r",
      " 98%|████████████████████████████████████████████████████████████████████████████████████████████████████████████████████████████████████████████████████▍   | 967/990 [01:26<00:02, 11.15it/s]"
     ]
    },
    {
     "name": "stderr",
     "output_type": "stream",
     "text": [
      "\r",
      " 98%|████████████████████████████████████████████████████████████████████████████████████████████████████████████████████████████████████████████████████▊   | 969/990 [01:26<00:01, 11.15it/s]"
     ]
    },
    {
     "name": "stderr",
     "output_type": "stream",
     "text": [
      "\r",
      " 98%|█████████████████████████████████████████████████████████████████████████████████████████████████████████████████████████████████████████████████████   | 971/990 [01:27<00:01, 11.15it/s]"
     ]
    },
    {
     "name": "stderr",
     "output_type": "stream",
     "text": [
      "\r",
      " 98%|█████████████████████████████████████████████████████████████████████████████████████████████████████████████████████████████████████████████████████▍  | 973/990 [01:27<00:01, 11.15it/s]"
     ]
    },
    {
     "name": "stderr",
     "output_type": "stream",
     "text": [
      "\r",
      " 98%|█████████████████████████████████████████████████████████████████████████████████████████████████████████████████████████████████████████████████████▋  | 975/990 [01:27<00:01, 11.15it/s]"
     ]
    },
    {
     "name": "stderr",
     "output_type": "stream",
     "text": [
      "\r",
      " 99%|██████████████████████████████████████████████████████████████████████████████████████████████████████████████████████████████████████████████████████  | 977/990 [01:27<00:01, 11.15it/s]"
     ]
    },
    {
     "name": "stderr",
     "output_type": "stream",
     "text": [
      "\r",
      " 99%|██████████████████████████████████████████████████████████████████████████████████████████████████████████████████████████████████████████████████████▎ | 979/990 [01:27<00:00, 11.13it/s]"
     ]
    },
    {
     "name": "stderr",
     "output_type": "stream",
     "text": [
      "\r",
      " 99%|██████████████████████████████████████████████████████████████████████████████████████████████████████████████████████████████████████████████████████▌ | 981/990 [01:28<00:00, 11.14it/s]"
     ]
    },
    {
     "name": "stderr",
     "output_type": "stream",
     "text": [
      "\r",
      " 99%|██████████████████████████████████████████████████████████████████████████████████████████████████████████████████████████████████████████████████████▉ | 983/990 [01:28<00:00, 11.17it/s]"
     ]
    },
    {
     "name": "stderr",
     "output_type": "stream",
     "text": [
      "\r",
      " 99%|███████████████████████████████████████████████████████████████████████████████████████████████████████████████████████████████████████████████████████▏| 985/990 [01:28<00:00, 11.20it/s]"
     ]
    },
    {
     "name": "stderr",
     "output_type": "stream",
     "text": [
      "\r",
      "100%|███████████████████████████████████████████████████████████████████████████████████████████████████████████████████████████████████████████████████████▌| 987/990 [01:28<00:00, 11.23it/s]"
     ]
    },
    {
     "name": "stderr",
     "output_type": "stream",
     "text": [
      "\r",
      "100%|███████████████████████████████████████████████████████████████████████████████████████████████████████████████████████████████████████████████████████▊| 989/990 [01:28<00:00, 11.26it/s]"
     ]
    },
    {
     "name": "stderr",
     "output_type": "stream",
     "text": [
      "\r",
      "100%|████████████████████████████████████████████████████████████████████████████████████████████████████████████████████████████████████████████████████████| 990/990 [01:28<00:00, 11.14it/s]"
     ]
    },
    {
     "name": "stderr",
     "output_type": "stream",
     "text": [
      "\n"
     ]
    },
    {
     "name": "stdout",
     "output_type": "stream",
     "text": [
      "test OoD - OK\n"
     ]
    },
    {
     "name": "stderr",
     "output_type": "stream",
     "text": [
      "\r",
      "  0%|                                                                                                                                                                  | 0/100 [00:00<?, ?it/s]"
     ]
    },
    {
     "name": "stderr",
     "output_type": "stream",
     "text": [
      "\r",
      "  2%|███                                                                                                                                                       | 2/100 [00:00<00:08, 11.21it/s]"
     ]
    },
    {
     "name": "stderr",
     "output_type": "stream",
     "text": [
      "\r",
      "  4%|██████▏                                                                                                                                                   | 4/100 [00:00<00:08, 11.31it/s]"
     ]
    },
    {
     "name": "stderr",
     "output_type": "stream",
     "text": [
      "\r",
      "  6%|█████████▏                                                                                                                                                | 6/100 [00:00<00:08, 11.35it/s]"
     ]
    },
    {
     "name": "stderr",
     "output_type": "stream",
     "text": [
      "\r",
      "  8%|████████████▎                                                                                                                                             | 8/100 [00:00<00:08, 11.37it/s]"
     ]
    },
    {
     "name": "stderr",
     "output_type": "stream",
     "text": [
      "\r",
      " 10%|███████████████▎                                                                                                                                         | 10/100 [00:00<00:07, 11.39it/s]"
     ]
    },
    {
     "name": "stderr",
     "output_type": "stream",
     "text": [
      "\r",
      " 12%|██████████████████▎                                                                                                                                      | 12/100 [00:01<00:07, 11.40it/s]"
     ]
    },
    {
     "name": "stderr",
     "output_type": "stream",
     "text": [
      "\r",
      " 14%|█████████████████████▍                                                                                                                                   | 14/100 [00:01<00:07, 11.41it/s]"
     ]
    },
    {
     "name": "stderr",
     "output_type": "stream",
     "text": [
      "\r",
      " 16%|████████████████████████▍                                                                                                                                | 16/100 [00:01<00:07, 11.41it/s]"
     ]
    },
    {
     "name": "stderr",
     "output_type": "stream",
     "text": [
      "\r",
      " 18%|███████████████████████████▌                                                                                                                             | 18/100 [00:01<00:07, 11.42it/s]"
     ]
    },
    {
     "name": "stderr",
     "output_type": "stream",
     "text": [
      "\r",
      " 20%|██████████████████████████████▌                                                                                                                          | 20/100 [00:01<00:07, 11.42it/s]"
     ]
    },
    {
     "name": "stderr",
     "output_type": "stream",
     "text": [
      "\r",
      " 22%|█████████████████████████████████▋                                                                                                                       | 22/100 [00:01<00:06, 11.41it/s]"
     ]
    },
    {
     "name": "stderr",
     "output_type": "stream",
     "text": [
      "\r",
      " 24%|████████████████████████████████████▋                                                                                                                    | 24/100 [00:02<00:06, 11.43it/s]"
     ]
    },
    {
     "name": "stderr",
     "output_type": "stream",
     "text": [
      "\r",
      " 26%|███████████████████████████████████████▊                                                                                                                 | 26/100 [00:02<00:06, 11.42it/s]"
     ]
    },
    {
     "name": "stderr",
     "output_type": "stream",
     "text": [
      "\r",
      " 28%|██████████████████████████████████████████▊                                                                                                              | 28/100 [00:02<00:06, 11.42it/s]"
     ]
    },
    {
     "name": "stderr",
     "output_type": "stream",
     "text": [
      "\r",
      " 30%|█████████████████████████████████████████████▉                                                                                                           | 30/100 [00:02<00:06, 11.42it/s]"
     ]
    },
    {
     "name": "stderr",
     "output_type": "stream",
     "text": [
      "\r",
      " 32%|████████████████████████████████████████████████▉                                                                                                        | 32/100 [00:02<00:05, 11.42it/s]"
     ]
    },
    {
     "name": "stderr",
     "output_type": "stream",
     "text": [
      "\r",
      " 34%|████████████████████████████████████████████████████                                                                                                     | 34/100 [00:02<00:05, 11.42it/s]"
     ]
    },
    {
     "name": "stderr",
     "output_type": "stream",
     "text": [
      "\r",
      " 36%|███████████████████████████████████████████████████████                                                                                                  | 36/100 [00:03<00:05, 11.42it/s]"
     ]
    },
    {
     "name": "stderr",
     "output_type": "stream",
     "text": [
      "\r",
      " 38%|██████████████████████████████████████████████████████████▏                                                                                              | 38/100 [00:03<00:05, 11.41it/s]"
     ]
    },
    {
     "name": "stderr",
     "output_type": "stream",
     "text": [
      "\r",
      " 40%|█████████████████████████████████████████████████████████████▏                                                                                           | 40/100 [00:03<00:05, 11.41it/s]"
     ]
    },
    {
     "name": "stderr",
     "output_type": "stream",
     "text": [
      "\r",
      " 42%|████████████████████████████████████████████████████████████████▎                                                                                        | 42/100 [00:03<00:05, 11.41it/s]"
     ]
    },
    {
     "name": "stderr",
     "output_type": "stream",
     "text": [
      "\r",
      " 44%|███████████████████████████████████████████████████████████████████▎                                                                                     | 44/100 [00:03<00:04, 11.40it/s]"
     ]
    },
    {
     "name": "stderr",
     "output_type": "stream",
     "text": [
      "\r",
      " 46%|██████████████████████████████████████████████████████████████████████▍                                                                                  | 46/100 [00:04<00:04, 11.40it/s]"
     ]
    },
    {
     "name": "stderr",
     "output_type": "stream",
     "text": [
      "\r",
      " 48%|█████████████████████████████████████████████████████████████████████████▍                                                                               | 48/100 [00:04<00:04, 11.40it/s]"
     ]
    },
    {
     "name": "stderr",
     "output_type": "stream",
     "text": [
      "\r",
      " 50%|████████████████████████████████████████████████████████████████████████████▌                                                                            | 50/100 [00:04<00:04, 11.40it/s]"
     ]
    },
    {
     "name": "stderr",
     "output_type": "stream",
     "text": [
      "\r",
      " 52%|███████████████████████████████████████████████████████████████████████████████▌                                                                         | 52/100 [00:04<00:04, 11.40it/s]"
     ]
    },
    {
     "name": "stderr",
     "output_type": "stream",
     "text": [
      "\r",
      " 54%|██████████████████████████████████████████████████████████████████████████████████▌                                                                      | 54/100 [00:04<00:04, 11.40it/s]"
     ]
    },
    {
     "name": "stderr",
     "output_type": "stream",
     "text": [
      "\r",
      " 56%|█████████████████████████████████████████████████████████████████████████████████████▋                                                                   | 56/100 [00:04<00:03, 11.38it/s]"
     ]
    },
    {
     "name": "stderr",
     "output_type": "stream",
     "text": [
      "\r",
      " 58%|████████████████████████████████████████████████████████████████████████████████████████▋                                                                | 58/100 [00:05<00:03, 11.34it/s]"
     ]
    },
    {
     "name": "stderr",
     "output_type": "stream",
     "text": [
      "\r",
      " 60%|███████████████████████████████████████████████████████████████████████████████████████████▊                                                             | 60/100 [00:05<00:03, 11.31it/s]"
     ]
    },
    {
     "name": "stderr",
     "output_type": "stream",
     "text": [
      "\r",
      " 62%|██████████████████████████████████████████████████████████████████████████████████████████████▊                                                          | 62/100 [00:05<00:03, 11.26it/s]"
     ]
    },
    {
     "name": "stderr",
     "output_type": "stream",
     "text": [
      "\r",
      " 64%|█████████████████████████████████████████████████████████████████████████████████████████████████▉                                                       | 64/100 [00:05<00:03, 11.22it/s]"
     ]
    },
    {
     "name": "stderr",
     "output_type": "stream",
     "text": [
      "\r",
      " 66%|████████████████████████████████████████████████████████████████████████████████████████████████████▉                                                    | 66/100 [00:05<00:03, 11.20it/s]"
     ]
    },
    {
     "name": "stderr",
     "output_type": "stream",
     "text": [
      "\r",
      " 68%|████████████████████████████████████████████████████████████████████████████████████████████████████████                                                 | 68/100 [00:05<00:02, 11.18it/s]"
     ]
    },
    {
     "name": "stderr",
     "output_type": "stream",
     "text": [
      "\r",
      " 70%|███████████████████████████████████████████████████████████████████████████████████████████████████████████                                              | 70/100 [00:06<00:02, 11.17it/s]"
     ]
    },
    {
     "name": "stderr",
     "output_type": "stream",
     "text": [
      "\r",
      " 72%|██████████████████████████████████████████████████████████████████████████████████████████████████████████████▏                                          | 72/100 [00:06<00:02, 11.18it/s]"
     ]
    },
    {
     "name": "stderr",
     "output_type": "stream",
     "text": [
      "\r",
      " 74%|█████████████████████████████████████████████████████████████████████████████████████████████████████████████████▏                                       | 74/100 [00:06<00:02, 11.17it/s]"
     ]
    },
    {
     "name": "stderr",
     "output_type": "stream",
     "text": [
      "\r",
      " 76%|████████████████████████████████████████████████████████████████████████████████████████████████████████████████████▎                                    | 76/100 [00:06<00:02, 11.18it/s]"
     ]
    },
    {
     "name": "stderr",
     "output_type": "stream",
     "text": [
      "\r",
      " 78%|███████████████████████████████████████████████████████████████████████████████████████████████████████████████████████▎                                 | 78/100 [00:06<00:01, 11.21it/s]"
     ]
    },
    {
     "name": "stderr",
     "output_type": "stream",
     "text": [
      "\r",
      " 80%|██████████████████████████████████████████████████████████████████████████████████████████████████████████████████████████▍                              | 80/100 [00:07<00:01, 11.22it/s]"
     ]
    },
    {
     "name": "stderr",
     "output_type": "stream",
     "text": [
      "\r",
      " 82%|█████████████████████████████████████████████████████████████████████████████████████████████████████████████████████████████▍                           | 82/100 [00:07<00:01, 11.25it/s]"
     ]
    },
    {
     "name": "stderr",
     "output_type": "stream",
     "text": [
      "\r",
      " 84%|████████████████████████████████████████████████████████████████████████████████████████████████████████████████████████████████▌                        | 84/100 [00:07<00:01, 11.28it/s]"
     ]
    },
    {
     "name": "stderr",
     "output_type": "stream",
     "text": [
      "\r",
      " 86%|███████████████████████████████████████████████████████████████████████████████████████████████████████████████████████████████████▌                     | 86/100 [00:07<00:01, 11.29it/s]"
     ]
    },
    {
     "name": "stderr",
     "output_type": "stream",
     "text": [
      "\r",
      " 88%|██████████████████████████████████████████████████████████████████████████████████████████████████████████████████████████████████████▋                  | 88/100 [00:07<00:01, 11.26it/s]"
     ]
    },
    {
     "name": "stderr",
     "output_type": "stream",
     "text": [
      "\r",
      " 90%|█████████████████████████████████████████████████████████████████████████████████████████████████████████████████████████████████████████▋               | 90/100 [00:07<00:00, 11.24it/s]"
     ]
    },
    {
     "name": "stderr",
     "output_type": "stream",
     "text": [
      "\r",
      " 92%|████████████████████████████████████████████████████████████████████████████████████████████████████████████████████████████████████████████▊            | 92/100 [00:08<00:00, 11.21it/s]"
     ]
    },
    {
     "name": "stderr",
     "output_type": "stream",
     "text": [
      "\r",
      " 94%|███████████████████████████████████████████████████████████████████████████████████████████████████████████████████████████████████████████████▊         | 94/100 [00:08<00:00, 11.16it/s]"
     ]
    },
    {
     "name": "stderr",
     "output_type": "stream",
     "text": [
      "\r",
      " 96%|██████████████████████████████████████████████████████████████████████████████████████████████████████████████████████████████████████████████████▉      | 96/100 [00:08<00:00, 11.18it/s]"
     ]
    },
    {
     "name": "stderr",
     "output_type": "stream",
     "text": [
      "\r",
      " 98%|█████████████████████████████████████████████████████████████████████████████████████████████████████████████████████████████████████████████████████▉   | 98/100 [00:08<00:00, 11.18it/s]"
     ]
    },
    {
     "name": "stderr",
     "output_type": "stream",
     "text": [
      "\r",
      "100%|████████████████████████████████████████████████████████████████████████████████████████████████████████████████████████████████████████████████████████| 100/100 [00:08<00:00, 11.15it/s]"
     ]
    },
    {
     "name": "stderr",
     "output_type": "stream",
     "text": [
      "\r",
      "100%|████████████████████████████████████████████████████████████████████████████████████████████████████████████████████████████████████████████████████████| 100/100 [00:08<00:00, 11.31it/s]"
     ]
    },
    {
     "name": "stderr",
     "output_type": "stream",
     "text": [
      "\n"
     ]
    },
    {
     "name": "stdout",
     "output_type": "stream",
     "text": [
      "test RnD - OK\n",
      "(36128,) (36128,)\n",
      "(126610,) (126610,)\n",
      "(12800,) (12800,)\n"
     ]
    }
   ],
   "source": [
    "from models.common import edl_probs\n",
    "from tqdm import tqdm\n",
    "\n",
    "ind_targets = []\n",
    "ood_targets = []\n",
    "\n",
    "ind_u_norms = []\n",
    "ood_u_norms = []\n",
    "rnd_u_norms = []\n",
    "\n",
    "ind_v_norms = []\n",
    "ood_v_norms = []\n",
    "rnd_v_norms = []\n",
    "\n",
    "# test set (ind)\n",
    "for batch_idx, batch in enumerate(tqdm(test_loader)):\n",
    "    x, y, *_ = batch\n",
    "    x = x.float().cuda()\n",
    "    v, z, x_m, u_norm, v_norm, logits = model(x)\n",
    "    ind_u_norms.extend(u_norm.detach().cpu().numpy())\n",
    "    ind_v_norms.extend(v_norm.detach().cpu().numpy())\n",
    "    ind_targets.extend(y.detach().cpu().numpy())\n",
    "print(\"test InD - OK\")\n",
    "\n",
    "# predict set (ood)\n",
    "for batch_idx, batch in enumerate(tqdm(predict_loader)):\n",
    "    x, y, *_ = batch\n",
    "    x = x.float().cuda()\n",
    "    v, z, x_m, u_norm, v_norm, logits = model(x)\n",
    "    ood_u_norms.extend(u_norm.detach().cpu().numpy())\n",
    "    ood_v_norms.extend(v_norm.detach().cpu().numpy())\n",
    "    ood_targets.extend(y.detach().cpu().numpy())\n",
    "print(\"test OoD - OK\")\n",
    "\n",
    "# random set\n",
    "rnd_set = torch.randn(100, config.batch_size, *config.input_shape)\n",
    "for batch_idx, batch in enumerate(tqdm(rnd_set)):\n",
    "    x = batch\n",
    "    x = x.float().cuda()\n",
    "    v, z, x_m, u_norm, v_norm, logits = model(x)\n",
    "    rnd_u_norms.extend(u_norm.detach().cpu().numpy())\n",
    "    rnd_v_norms.extend(v_norm.detach().cpu().numpy())\n",
    "print(\"test RnD - OK\")\n",
    "\n",
    "ind_targets = np.array(ind_targets).squeeze()\n",
    "ood_targets = np.array(ood_targets).squeeze()\n",
    "    \n",
    "ind_u_norms = np.array(ind_u_norms).squeeze()\n",
    "ood_u_norms = np.array(ood_u_norms).squeeze()\n",
    "rnd_u_norms = np.array(rnd_u_norms).squeeze()\n",
    "\n",
    "ind_v_norms = np.array(ind_v_norms).squeeze()\n",
    "ood_v_norms = np.array(ood_v_norms).squeeze()\n",
    "rnd_v_norms = np.array(rnd_v_norms).squeeze()\n",
    "\n",
    "print(ind_u_norms.shape, ind_v_norms.shape)\n",
    "print(ood_u_norms.shape, ood_v_norms.shape)\n",
    "print(rnd_u_norms.shape, rnd_v_norms.shape)"
   ]
  },
  {
   "cell_type": "code",
   "execution_count": 11,
   "id": "ffd78653-e6ab-4c48-973b-d137e8015974",
   "metadata": {
    "execution": {
     "iopub.execute_input": "2023-10-18T17:55:05.404397Z",
     "iopub.status.busy": "2023-10-18T17:55:05.403756Z",
     "iopub.status.idle": "2023-10-18T17:55:05.419382Z",
     "shell.execute_reply": "2023-10-18T17:55:05.418629Z"
    },
    "papermill": {
     "duration": 0.067054,
     "end_time": "2023-10-18T17:55:05.421701",
     "exception": false,
     "start_time": "2023-10-18T17:55:05.354647",
     "status": "completed"
    },
    "tags": []
   },
   "outputs": [
    {
     "name": "stdout",
     "output_type": "stream",
     "text": [
      "3.3239138 0.01143428\n",
      "3.3257177 0.010062694\n",
      "5.5706396 0.2678959\n",
      "0.004844731 0.0011272224\n",
      "0.0051035 0.003986738\n",
      "10.842934 0.3759721\n"
     ]
    }
   ],
   "source": [
    "ind_u_norms_scaled = np.tanh(ind_u_norms)\n",
    "ood_u_norms_scaled = np.tanh(ood_u_norms)\n",
    "rnd_u_norms_scaled = np.tanh(rnd_u_norms)\n",
    "ind_v_norms_scaled = np.tanh(ind_v_norms)\n",
    "ood_v_norms_scaled = np.tanh(ood_v_norms)\n",
    "rnd_v_norms_scaled = np.tanh(rnd_v_norms)\n",
    "\n",
    "print(ind_u_norms.mean(), ind_u_norms.std())\n",
    "print(ood_u_norms.mean(), ood_u_norms.std())\n",
    "print(rnd_u_norms.mean(), rnd_u_norms.std())\n",
    "print(ind_v_norms.mean(), ind_v_norms.std())\n",
    "print(ood_v_norms.mean(), ood_v_norms.std())\n",
    "print(rnd_v_norms.mean(), rnd_v_norms.std())"
   ]
  },
  {
   "cell_type": "code",
   "execution_count": 12,
   "id": "bfff589f-a050-45c1-8d4d-87a0f64f87f0",
   "metadata": {
    "execution": {
     "iopub.execute_input": "2023-10-18T17:55:05.553477Z",
     "iopub.status.busy": "2023-10-18T17:55:05.552744Z",
     "iopub.status.idle": "2023-10-18T17:55:10.761603Z",
     "shell.execute_reply": "2023-10-18T17:55:10.760697Z"
    },
    "papermill": {
     "duration": 5.261234,
     "end_time": "2023-10-18T17:55:10.767426",
     "exception": false,
     "start_time": "2023-10-18T17:55:05.506192",
     "status": "completed"
    },
    "tags": []
   },
   "outputs": [
    {
     "data": {
      "image/png": "[encoded data removed]",
      "text/plain": [
       "<Figure size 3000x750 with 4 Axes>"
      ]
     },
     "metadata": {},
     "output_type": "display_data"
    }
   ],
   "source": [
    "from matplotlib import pyplot as plt\n",
    "import seaborn as sns\n",
    "import pandas as pd\n",
    "\n",
    "plt.rcParams['figure.figsize'] = (5, 5)\n",
    "plt.rcParams['figure.dpi'] = 150\n",
    "\n",
    "data_ind = pd.DataFrame(dict(u_norm=ind_u_norms, v_norm=ind_v_norms, ratio=ind_v_norms/ind_u_norms, prod=ind_v_norms*ind_u_norms, target=ind_targets))\n",
    "data_ood = pd.DataFrame(dict(u_norm=ood_u_norms, v_norm=ood_v_norms, ratio=ood_v_norms/ood_u_norms, prod=ood_v_norms*ood_u_norms, target=ood_targets))\n",
    "data_rnd = pd.DataFrame(dict(u_norm=rnd_u_norms, v_norm=rnd_v_norms, ratio=rnd_v_norms/rnd_u_norms, prod=rnd_v_norms*rnd_u_norms))\n",
    "\n",
    "fig, (ax1, ax2, ax3, ax4) = plt.subplots(1, 4, figsize = (20, 5))\n",
    "fig.suptitle(\"Pointwise OOD Detection (InD, OoD, RnD)\")\n",
    "\n",
    "sns.histplot(data=data_ind, x=\"u_norm\", log_scale=True, fill=True, label='ind', stat='density', ax=ax1)\n",
    "sns.histplot(data=data_ood, x=\"u_norm\", log_scale=True, fill=True, label='ood', stat='density', ax=ax1)\n",
    "sns.histplot(data=data_rnd, x=\"u_norm\", log_scale=True, fill=True, label='rnd', stat='density', ax=ax1)\n",
    "\n",
    "sns.histplot(data=data_ind, x=\"v_norm\", log_scale=True, fill=True, label='ind', stat='density', ax=ax2)\n",
    "sns.histplot(data=data_ood, x=\"v_norm\", log_scale=True, fill=True, label='ood', stat='density', ax=ax2)\n",
    "sns.histplot(data=data_rnd, x=\"v_norm\", log_scale=True, fill=True, label='rnd', stat='density', ax=ax2)\n",
    "\n",
    "sns.histplot(data=data_ind, x=\"ratio\", log_scale=True, fill=True, label='ind', stat='density', ax=ax3)\n",
    "sns.histplot(data=data_ood, x=\"ratio\", log_scale=True, fill=True, label='ood', stat='density', ax=ax3)\n",
    "sns.histplot(data=data_rnd, x=\"ratio\", log_scale=True, fill=True, label='rnd', stat='density', ax=ax3)\n",
    "\n",
    "sns.histplot(data=data_ind, x=\"prod\", log_scale=True, fill=True, label='ind', stat='density', ax=ax4)\n",
    "sns.histplot(data=data_ood, x=\"prod\", log_scale=True, fill=True, label='ood', stat='density', ax=ax4)\n",
    "sns.histplot(data=data_rnd, x=\"prod\", log_scale=True, fill=True, label='rnd', stat='density', ax=ax4)\n",
    "\n",
    "ax1.title.set_text('||U||')\n",
    "ax2.title.set_text('||V||')\n",
    "ax3.title.set_text('||V||/||U||')\n",
    "ax4.title.set_text('||V||*||U||')\n",
    "\n",
    "plt.legend()\n",
    "plt.show()"
   ]
  },
  {
   "cell_type": "code",
   "execution_count": 13,
   "id": "9760293c-9ef2-4f1b-bd64-7c630d6df5c5",
   "metadata": {
    "execution": {
     "iopub.execute_input": "2023-10-18T17:55:10.877611Z",
     "iopub.status.busy": "2023-10-18T17:55:10.876954Z",
     "iopub.status.idle": "2023-10-18T17:55:10.932564Z",
     "shell.execute_reply": "2023-10-18T17:55:10.931906Z"
    },
    "papermill": {
     "duration": 0.108589,
     "end_time": "2023-10-18T17:55:10.934928",
     "exception": false,
     "start_time": "2023-10-18T17:55:10.826339",
     "status": "completed"
    },
    "tags": []
   },
   "outputs": [
    {
     "name": "stdout",
     "output_type": "stream",
     "text": [
      "Ind 0.0026210467 0.044570167 0.04194912\n",
      "Ood 0.0026210467 1.3524563 1.3498353\n",
      "Rnd 9.380471 12.405969 3.0254974\n",
      "KstestResult(statistic=0.10716923378523241, pvalue=1.4055239111849826e-281, statistic_location=0.0047226055, statistic_sign=1)\n"
     ]
    }
   ],
   "source": [
    "from scipy import stats\n",
    "print(\"Ind\", ind_v_norms.min(), ind_v_norms.max(), ind_v_norms.ptp())\n",
    "print(\"Ood\", ood_v_norms.min(), ood_v_norms.max(), ood_v_norms.ptp())\n",
    "print(\"Rnd\", rnd_v_norms.min(), rnd_v_norms.max(), rnd_v_norms.ptp())\n",
    "\n",
    "ks_ind_ood = stats.kstest(ind_v_norms, ood_v_norms)\n",
    "print(ks_ind_ood)"
   ]
  },
  {
   "cell_type": "code",
   "execution_count": 14,
   "id": "052b54bc-517c-4f22-918f-2a86d876f7c9",
   "metadata": {
    "execution": {
     "iopub.execute_input": "2023-10-18T17:55:11.035652Z",
     "iopub.status.busy": "2023-10-18T17:55:11.035218Z",
     "iopub.status.idle": "2023-10-18T17:55:15.784888Z",
     "shell.execute_reply": "2023-10-18T17:55:15.784187Z"
    },
    "papermill": {
     "duration": 4.806301,
     "end_time": "2023-10-18T17:55:15.795455",
     "exception": false,
     "start_time": "2023-10-18T17:55:10.989154",
     "status": "completed"
    },
    "tags": []
   },
   "outputs": [
    {
     "name": "stdout",
     "output_type": "stream",
     "text": [
      "[0 1 3 2 4]\n"
     ]
    },
    {
     "data": {
      "image/png": "[encoded data removed]",
      "text/plain": [
       "<Figure size 1500x750 with 2 Axes>"
      ]
     },
     "metadata": {},
     "output_type": "display_data"
    },
    {
     "data": {
      "image/png": "[encoded data removed]",
      "text/plain": [
       "<Figure size 3000x750 with 4 Axes>"
      ]
     },
     "metadata": {},
     "output_type": "display_data"
    }
   ],
   "source": [
    "df = pd.concat([data_ind, data_ood], axis=0)\n",
    "print(df['target'].unique())\n",
    "\n",
    "N = 128\n",
    "\n",
    "pointwise = {}\n",
    "groupwise = {}\n",
    "\n",
    "for i in range(5):\n",
    "    df_slice = df[df['target'] == i]\n",
    "    pointwise[i] = df_slice.copy()\n",
    "    d = df_slice.rolling(N).agg(['mean', 'std']).dropna()\n",
    "    groupwise[i] = d.copy()\n",
    "\n",
    "# pointwise\n",
    "fig, (ax1, ax2) = plt.subplots(1, 2, figsize = (10, 5))\n",
    "fig.suptitle(f\"Pointwise OOD Detection ({':'.join(map(str,config.ood))})\")\n",
    "\n",
    "for i in range(5):\n",
    "    data = pointwise[i]\n",
    "    i = str(i)\n",
    "    sns.kdeplot(data=data, x=\"u_norm\", log_scale=True, fill=True, label=i, ax=ax1)\n",
    "    sns.kdeplot(data=data, x=\"v_norm\", log_scale=True, fill=True, label=i, ax=ax2)\n",
    "\n",
    "ax1.title.set_text('||U||')\n",
    "ax2.title.set_text('||V||')\n",
    "plt.legend()\n",
    "plt.show()\n",
    "\n",
    "    \n",
    "# groupwise\n",
    "fig, (ax1, ax2, ax3, ax4) = plt.subplots(1, 4, figsize = (20, 5))\n",
    "fig.suptitle(f\"Groupwise OOD Detection ({':'.join(map(str,config.ood))})\")\n",
    "\n",
    "for i in range(5):\n",
    "    data = groupwise[i]\n",
    "    i = str(i)\n",
    "    sns.kdeplot(data=data.u_norm, x=\"mean\", log_scale=True, fill=True, label=i, ax=ax1)\n",
    "    sns.kdeplot(data=data.u_norm, x=\"std\", log_scale=True, fill=True, label=i, ax=ax2)\n",
    "    sns.kdeplot(data=data.v_norm, x=\"mean\", log_scale=True, fill=True, label=i, ax=ax3)\n",
    "    sns.kdeplot(data=data.v_norm, x=\"std\", log_scale=True, fill=True, label=i, ax=ax4)\n",
    "\n",
    "ax1.title.set_text('||U|| mean')\n",
    "ax2.title.set_text('||U|| std')\n",
    "ax3.title.set_text('||V|| mean')\n",
    "ax4.title.set_text('||V|| std')\n",
    "plt.legend()\n",
    "plt.show()"
   ]
  }
 ],
 "metadata": {
  "kernelspec": {
   "display_name": "Python (qpm-amrb)",
   "language": "python",
   "name": "qpm-amrb"
  },
  "language_info": {
   "codemirror_mode": {
    "name": "ipython",
    "version": 3
   },
   "file_extension": ".py",
   "mimetype": "text/x-python",
   "name": "python",
   "nbconvert_exporter": "python",
   "pygments_lexer": "ipython3",
   "version": "3.10.13"
  },
  "papermill": {
   "default_parameters": {},
   "duration": 191.463459,
   "end_time": "2023-10-18T17:55:19.500624",
   "environment_variables": {},
   "exception": null,
   "input_path": "eval_qpm_species_flow_mse_M128_ood.ipynb",
   "output_path": "assets/runs/eval_qpm_species_flow_mse_M128_ood_2.ipynb",
   "parameters": {
    "ood": 2
   },
   "start_time": "2023-10-18T17:52:08.037165",
   "version": "2.4.0"
  },
  "toc-autonumbering": false,
  "toc-showcode": true,
  "toc-showmarkdowntxt": false,
  "toc-showtags": true
 },
 "nbformat": 4,
 "nbformat_minor": 5
}