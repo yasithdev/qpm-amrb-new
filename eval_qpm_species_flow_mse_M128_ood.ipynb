{
 "cells": [
  {
   "cell_type": "code",
   "execution_count": 1,
   "id": "8deaa0b2-f1b8-4260-93ac-a5200671e71a",
   "metadata": {},
   "outputs": [
    {
     "name": "stderr",
     "output_type": "stream",
     "text": [
      "/n/home12/yasith/.conda/envs/qpm-amrb/lib/python3.10/site-packages/tqdm/auto.py:21: TqdmWarning: IProgress not found. Please update jupyter and ipywidgets. See https://ipywidgets.readthedocs.io/en/stable/user_install.html\n",
      "  from .autonotebook import tqdm as notebook_tqdm\n"
     ]
    }
   ],
   "source": [
    "import lightning.pytorch as pl\n",
    "import numpy as np\n",
    "import torch\n",
    "from lightning.pytorch.callbacks import ModelCheckpoint\n",
    "from lightning.pytorch.loggers.wandb import WandbLogger\n",
    "\n",
    "from config import Config, load_config\n",
    "from datasets import get_data\n",
    "from models import get_model"
   ]
  },
  {
   "cell_type": "code",
   "execution_count": 2,
   "id": "b98946be-7579-4abc-a46d-64004a8b8a10",
   "metadata": {},
   "outputs": [],
   "source": [
    "# initialize the RNG deterministically\n",
    "np.random.seed(42)\n",
    "torch.manual_seed(42)\n",
    "torch.set_float32_matmul_precision('medium')"
   ]
  },
  {
   "cell_type": "code",
   "execution_count": 97,
   "id": "65170af1-f93c-47d0-8314-5f7d6a8f26de",
   "metadata": {},
   "outputs": [
    {
     "name": "stdout",
     "output_type": "stream",
     "text": [
      "env: BATCH_SIZE=256\n",
      "env: DATASET_NAME=QPM_species\n",
      "env: EMB_DIMS=128\n",
      "env: MODEL_NAME=flow_mse\n",
      "env: OOD=4\n"
     ]
    }
   ],
   "source": [
    "# initialize data attributes and loaders\n",
    "%env BATCH_SIZE=256\n",
    "%env DATASET_NAME=QPM_species\n",
    "%env EMB_DIMS=128\n",
    "%env MODEL_NAME=flow_mse\n",
    "%env OOD=4\n",
    "\n",
    "config = load_config()\n",
    "config.load_data()\n",
    "config.print_labels()\n",
    "dm = config.datamodule\n",
    "assert dm"
   ]
  },
  {
   "cell_type": "code",
   "execution_count": 98,
   "id": "be308725-f7d2-4dd8-bec1-ced167a60475",
   "metadata": {},
   "outputs": [
    {
     "name": "stdout",
     "output_type": "stream",
     "text": [
      "Dataset type train label type: species\n",
      "Loaded 344518 images\n",
      "Dataset type val label type: species\n",
      "Loaded 44696 images\n",
      "Dataset type test label type: species\n",
      "Loaded 44924 images\n",
      "Dataset type train label type: species\n",
      "Loaded 30925 images\n",
      "Dataset type val label type: species\n",
      "Loaded 3866 images\n",
      "Dataset type test label type: species\n",
      "Loaded 3866 images\n"
     ]
    }
   ],
   "source": [
    "dm.setup(\"fit\")\n",
    "dm.setup(\"test\")\n",
    "dm.setup(\"predict\")"
   ]
  },
  {
   "cell_type": "code",
   "execution_count": 99,
   "id": "3440bd05-57de-4416-9974-488bb665ad95",
   "metadata": {},
   "outputs": [],
   "source": [
    "model = config.get_model()"
   ]
  },
  {
   "cell_type": "code",
   "execution_count": 100,
   "id": "d278a289-4ddb-4e1f-981f-3ca2302fd7d0",
   "metadata": {},
   "outputs": [
    {
     "name": "stdout",
     "output_type": "stream",
     "text": [
      "fwur6c78\n"
     ]
    }
   ],
   "source": [
    "# model id for each ood_k\n",
    "model_ids = ['3qdutcy1', 'czgx4bod', '72y7x1fk', 'cqp59iho', 'fwur6c78']\n",
    "model_id = model_ids[config.ood[0]]\n",
    "print(model_id)"
   ]
  },
  {
   "cell_type": "code",
   "execution_count": 101,
   "id": "77d956eb-a9c6-4adb-b5f3-a1efbce55036",
   "metadata": {},
   "outputs": [
    {
     "name": "stderr",
     "output_type": "stream",
     "text": [
      "\u001b[34m\u001b[1mwandb\u001b[0m:   1 of 1 files downloaded.  \n"
     ]
    }
   ],
   "source": [
    "from pathlib import Path\n",
    "artifact_dir = WandbLogger.download_artifact(artifact=f\"yasith/robust_ml/model-{model_id}:best\")\n",
    "model = model.load_from_checkpoint(Path(artifact_dir) / \"model.ckpt\", config=config)\n",
    "model = model.cuda()\n",
    "model.eval();"
   ]
  },
  {
   "cell_type": "code",
   "execution_count": 102,
   "id": "e2d03d9a-cb33-4ace-9e4a-e2d4b0dbe94f",
   "metadata": {},
   "outputs": [],
   "source": [
    "train_loader = dm.train_dataloader()\n",
    "val_loader = dm.val_dataloader()\n",
    "test_loader = dm.test_dataloader()\n",
    "predict_loader = dm.predict_dataloader()"
   ]
  },
  {
   "cell_type": "code",
   "execution_count": 103,
   "id": "5ef2017e-b03e-4a5e-ab7a-08108ad0a70d",
   "metadata": {},
   "outputs": [
    {
     "name": "stderr",
     "output_type": "stream",
     "text": [
      "100%|██████████| 176/176 [00:06<00:00, 27.38it/s]\n"
     ]
    },
    {
     "name": "stdout",
     "output_type": "stream",
     "text": [
      "test InD - OK\n"
     ]
    },
    {
     "name": "stderr",
     "output_type": "stream",
     "text": [
      "100%|██████████| 152/152 [00:05<00:00, 27.15it/s]\n"
     ]
    },
    {
     "name": "stdout",
     "output_type": "stream",
     "text": [
      "test OoD - OK\n"
     ]
    },
    {
     "name": "stderr",
     "output_type": "stream",
     "text": [
      "100%|██████████| 100/100 [00:03<00:00, 30.93it/s]"
     ]
    },
    {
     "name": "stdout",
     "output_type": "stream",
     "text": [
      "test RnD - OK\n",
      "(44924,)\n",
      "(38657,)\n",
      "(32000,)\n"
     ]
    },
    {
     "name": "stderr",
     "output_type": "stream",
     "text": [
      "\n"
     ]
    }
   ],
   "source": [
    "from models.common import edl_probs\n",
    "from tqdm.auto import tqdm\n",
    "\n",
    "ind_v_norms = []\n",
    "ood_v_norms = []\n",
    "rnd_v_norms = []\n",
    "\n",
    "# test set (ind)\n",
    "for batch_idx, batch in enumerate(tqdm(test_loader)):\n",
    "    x, *_ = batch\n",
    "    x = x.float().cuda()\n",
    "    v, z, x_m, logits = model(x)\n",
    "    v_norms = v.detach().flatten(start_dim=1).norm(dim=-1).cpu().numpy()\n",
    "    ind_v_norms.extend(v_norms)\n",
    "print(\"test InD - OK\")\n",
    "\n",
    "# predict set (ood)\n",
    "for batch_idx, batch in enumerate(tqdm(predict_loader)):\n",
    "    x, *_ = batch\n",
    "    x = x.float().cuda()\n",
    "    v, z, x_m, logits = model(x)\n",
    "    v_norms = v.detach().flatten(start_dim=1).norm(dim=-1).cpu().numpy()\n",
    "    ood_v_norms.extend(v_norms)\n",
    "print(\"test OoD - OK\")\n",
    "\n",
    "# random set\n",
    "rnd_set = torch.randn(100, config.batch_size, *config.input_shape)\n",
    "for batch_idx, batch in enumerate(tqdm(rnd_set)):\n",
    "    x = batch\n",
    "    x = x.float().cuda()\n",
    "    v, z, x_m, logits = model(x)\n",
    "    v_norms = v.detach().flatten(start_dim=1).norm(dim=-1).cpu().numpy()\n",
    "    rnd_v_norms.extend(v_norms)\n",
    "print(\"test RnD - OK\")\n",
    "    \n",
    "ind_v_norms = np.array(ind_v_norms)\n",
    "ood_v_norms = np.array(ood_v_norms)\n",
    "rnd_v_norms = np.array(rnd_v_norms)\n",
    "\n",
    "print(ind_v_norms.shape)\n",
    "print(ood_v_norms.shape)\n",
    "print(rng_v_norms.shape)"
   ]
  },
  {
   "cell_type": "code",
   "execution_count": 104,
   "id": "ec766110-7e55-4d34-b8f9-6956b7f64865",
   "metadata": {},
   "outputs": [
    {
     "name": "stdout",
     "output_type": "stream",
     "text": [
      "0.0047694477 0.001904325\n",
      "0.0041454616 0.011519242\n",
      "10.991685 0.3497253\n"
     ]
    }
   ],
   "source": [
    "ind_v_norms_scaled = np.tanh(ind_v_norms)\n",
    "ood_v_norms_scaled = np.tanh(ood_v_norms)\n",
    "rnd_v_norms_scaled = np.tanh(rnd_v_norms)\n",
    "\n",
    "print(ind_v_norms.mean(), ind_v_norms.std())\n",
    "print(ood_v_norms.mean(), ood_v_norms.std())\n",
    "print(rnd_v_norms.mean(), rnd_v_norms.std())"
   ]
  },
  {
   "cell_type": "code",
   "execution_count": 105,
   "id": "bfff589f-a050-45c1-8d4d-87a0f64f87f0",
   "metadata": {},
   "outputs": [
    {
     "data": {
      "image/png": "[encoded data removed]",
      "text/plain": [
       "<Figure size 750x750 with 1 Axes>"
      ]
     },
     "metadata": {},
     "output_type": "display_data"
    }
   ],
   "source": [
    "from matplotlib import pyplot as plt\n",
    "import seaborn as sns\n",
    "import pandas as pd\n",
    "\n",
    "plt.rcParams['figure.figsize'] = (5, 5)\n",
    "plt.rcParams['figure.dpi'] = 150\n",
    "\n",
    "data_ind = pd.DataFrame(dict(v_norm=ind_v_norms))\n",
    "data_ood = pd.DataFrame(dict(v_norm=ood_v_norms))\n",
    "data_rnd = pd.DataFrame(dict(v_norm=rnd_v_norms))\n",
    "\n",
    "sns.kdeplot(data=data_ind, x=\"v_norm\", log_scale=True, fill=True, label='ind')\n",
    "sns.kdeplot(data=data_ood, x=\"v_norm\", log_scale=True, fill=True, label='ood')\n",
    "sns.kdeplot(data=data_rnd, x=\"v_norm\", log_scale=True, fill=True, label='rnd')\n",
    "\n",
    "plt.title(f\"||V|| of InD vs OOD {config.ood_labels}\")\n",
    "plt.legend()\n",
    "plt.savefig(f\"assets/figures/qpm_species_flow_mse_M128_ood_{config.ood[0]}.png\")"
   ]
  },
  {
   "cell_type": "code",
   "execution_count": null,
   "id": "b47cb048-99c5-4471-ab30-47fbd96c69cb",
   "metadata": {},
   "outputs": [],
   "source": []
  }
 ],
 "metadata": {
  "kernelspec": {
   "display_name": "Python (qpm-amrb)",
   "language": "python",
   "name": "qpm-amrb"
  },
  "language_info": {
   "codemirror_mode": {
    "name": "ipython",
    "version": 3
   },
   "file_extension": ".py",
   "mimetype": "text/x-python",
   "name": "python",
   "nbconvert_exporter": "python",
   "pygments_lexer": "ipython3",
   "version": "3.10.12"
  },
  "toc-showtags": false
 },
 "nbformat": 4,
 "nbformat_minor": 5
}
