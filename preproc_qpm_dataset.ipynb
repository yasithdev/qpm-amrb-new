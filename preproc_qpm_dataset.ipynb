{
 "cells": [
  {
   "cell_type": "code",
   "execution_count": 1,
   "id": "2c748763-cb51-4ead-bff3-0e1ad13fe9af",
   "metadata": {},
   "outputs": [],
   "source": [
    "import numpy as np\n",
    "from glob import glob\n",
    "from tqdm.auto import tqdm"
   ]
  },
  {
   "cell_type": "code",
   "execution_count": 2,
   "id": "df4e7d2e-11f2-4340-bdb7-10dea4e9d281",
   "metadata": {},
   "outputs": [],
   "source": [
    "type_ = \"val\""
   ]
  },
  {
   "cell_type": "code",
   "execution_count": 3,
   "id": "7f9eb0c4-95b9-465d-a6c0-ecff44209017",
   "metadata": {},
   "outputs": [
    {
     "name": "stdout",
     "output_type": "stream",
     "text": [
      "0\n"
     ]
    },
    {
     "name": "stderr",
     "output_type": "stream",
     "text": [
      "100%|██████████| 1560/1560 [01:16<00:00, 20.44it/s]\n"
     ]
    },
    {
     "name": "stdout",
     "output_type": "stream",
     "text": [
      "1\n"
     ]
    },
    {
     "name": "stderr",
     "output_type": "stream",
     "text": [
      "100%|██████████| 1403/1403 [01:08<00:00, 20.34it/s]\n"
     ]
    },
    {
     "name": "stdout",
     "output_type": "stream",
     "text": [
      "2\n"
     ]
    },
    {
     "name": "stderr",
     "output_type": "stream",
     "text": [
      "100%|██████████| 1668/1668 [01:25<00:00, 19.50it/s]\n"
     ]
    },
    {
     "name": "stdout",
     "output_type": "stream",
     "text": [
      "3\n"
     ]
    },
    {
     "name": "stderr",
     "output_type": "stream",
     "text": [
      "100%|██████████| 1937/1937 [01:54<00:00, 16.93it/s]\n"
     ]
    },
    {
     "name": "stdout",
     "output_type": "stream",
     "text": [
      "4\n"
     ]
    },
    {
     "name": "stderr",
     "output_type": "stream",
     "text": [
      "100%|██████████| 3114/3114 [03:28<00:00, 14.94it/s]\n"
     ]
    },
    {
     "name": "stdout",
     "output_type": "stream",
     "text": [
      "5\n"
     ]
    },
    {
     "name": "stderr",
     "output_type": "stream",
     "text": [
      "100%|██████████| 1396/1396 [03:08<00:00,  7.41it/s] \n"
     ]
    },
    {
     "name": "stdout",
     "output_type": "stream",
     "text": [
      "6\n"
     ]
    },
    {
     "name": "stderr",
     "output_type": "stream",
     "text": [
      "100%|██████████| 2030/2030 [02:14<00:00, 15.08it/s]\n"
     ]
    },
    {
     "name": "stdout",
     "output_type": "stream",
     "text": [
      "7\n"
     ]
    },
    {
     "name": "stderr",
     "output_type": "stream",
     "text": [
      "100%|██████████| 2894/2894 [02:52<00:00, 16.82it/s]\n"
     ]
    },
    {
     "name": "stdout",
     "output_type": "stream",
     "text": [
      "8\n"
     ]
    },
    {
     "name": "stderr",
     "output_type": "stream",
     "text": [
      "100%|██████████| 1929/1929 [01:50<00:00, 17.46it/s]\n"
     ]
    },
    {
     "name": "stdout",
     "output_type": "stream",
     "text": [
      "9\n"
     ]
    },
    {
     "name": "stderr",
     "output_type": "stream",
     "text": [
      "100%|██████████| 2135/2135 [02:11<00:00, 16.25it/s]\n"
     ]
    },
    {
     "name": "stdout",
     "output_type": "stream",
     "text": [
      "10\n"
     ]
    },
    {
     "name": "stderr",
     "output_type": "stream",
     "text": [
      "100%|██████████| 1343/1343 [01:26<00:00, 15.52it/s]\n"
     ]
    },
    {
     "name": "stdout",
     "output_type": "stream",
     "text": [
      "11\n"
     ]
    },
    {
     "name": "stderr",
     "output_type": "stream",
     "text": [
      "100%|██████████| 976/976 [01:00<00:00, 16.25it/s]\n"
     ]
    },
    {
     "name": "stdout",
     "output_type": "stream",
     "text": [
      "12\n"
     ]
    },
    {
     "name": "stderr",
     "output_type": "stream",
     "text": [
      "100%|██████████| 3482/3482 [03:40<00:00, 15.81it/s]\n"
     ]
    },
    {
     "name": "stdout",
     "output_type": "stream",
     "text": [
      "13\n"
     ]
    },
    {
     "name": "stderr",
     "output_type": "stream",
     "text": [
      "100%|██████████| 2639/2639 [02:43<00:00, 16.09it/s]\n"
     ]
    },
    {
     "name": "stdout",
     "output_type": "stream",
     "text": [
      "14\n"
     ]
    },
    {
     "name": "stderr",
     "output_type": "stream",
     "text": [
      "100%|██████████| 2281/2281 [02:21<00:00, 16.13it/s]\n"
     ]
    },
    {
     "name": "stdout",
     "output_type": "stream",
     "text": [
      "15\n"
     ]
    },
    {
     "name": "stderr",
     "output_type": "stream",
     "text": [
      "100%|██████████| 4640/4640 [04:45<00:00, 16.27it/s]\n"
     ]
    },
    {
     "name": "stdout",
     "output_type": "stream",
     "text": [
      "16\n"
     ]
    },
    {
     "name": "stderr",
     "output_type": "stream",
     "text": [
      "100%|██████████| 3853/3853 [04:01<00:00, 15.92it/s]\n"
     ]
    },
    {
     "name": "stdout",
     "output_type": "stream",
     "text": [
      "17\n"
     ]
    },
    {
     "name": "stderr",
     "output_type": "stream",
     "text": [
      "100%|██████████| 2213/2213 [02:22<00:00, 15.56it/s]\n"
     ]
    },
    {
     "name": "stdout",
     "output_type": "stream",
     "text": [
      "18\n"
     ]
    },
    {
     "name": "stderr",
     "output_type": "stream",
     "text": [
      "100%|██████████| 2331/2331 [02:09<00:00, 17.96it/s]\n"
     ]
    },
    {
     "name": "stdout",
     "output_type": "stream",
     "text": [
      "19\n"
     ]
    },
    {
     "name": "stderr",
     "output_type": "stream",
     "text": [
      "100%|██████████| 2056/2056 [02:19<00:00, 14.75it/s]\n"
     ]
    },
    {
     "name": "stdout",
     "output_type": "stream",
     "text": [
      "20\n"
     ]
    },
    {
     "name": "stderr",
     "output_type": "stream",
     "text": [
      "100%|██████████| 2682/2682 [02:46<00:00, 16.11it/s]\n"
     ]
    }
   ],
   "source": [
    "data_dict = {}\n",
    "for n in range(21):\n",
    "    print(n)\n",
    "    for f in tqdm(glob(f\"/n/home12/yasith/datasets/QPM/{type_}/{n}/{n}_*.npy\")):\n",
    "        img = np.load(f, allow_pickle=True)[0]\n",
    "        if n in data_dict:\n",
    "            data_dict[n].append(img)\n",
    "        else:\n",
    "            data_dict[n] = [img]"
   ]
  },
  {
   "cell_type": "code",
   "execution_count": 4,
   "id": "92ef37de-f126-41c9-9aa0-cf2aca592060",
   "metadata": {},
   "outputs": [
    {
     "name": "stdout",
     "output_type": "stream",
     "text": [
      "0 1560\n",
      "1 1403\n",
      "2 1668\n",
      "3 1937\n",
      "4 3114\n",
      "5 1396\n",
      "6 2030\n",
      "7 2894\n",
      "8 1929\n",
      "9 2135\n",
      "10 1343\n",
      "11 976\n",
      "12 3482\n",
      "13 2639\n",
      "14 2281\n",
      "15 4640\n",
      "16 3853\n",
      "17 2213\n",
      "18 2331\n",
      "19 2056\n",
      "20 2682\n"
     ]
    }
   ],
   "source": [
    "for n, arr in data_dict.items():\n",
    "    print(n, len(arr))"
   ]
  },
  {
   "cell_type": "code",
   "execution_count": 5,
   "id": "789fa99e-9998-4e94-895d-5ccfbc0362d6",
   "metadata": {},
   "outputs": [],
   "source": [
    "np_dict = {}\n",
    "for n in data_dict:\n",
    "    np_dict[n] = np.stack(data_dict[n], axis=0)"
   ]
  },
  {
   "cell_type": "code",
   "execution_count": 6,
   "id": "efb153c2-99a5-4493-a7c8-8deaa59b7ced",
   "metadata": {},
   "outputs": [
    {
     "name": "stdout",
     "output_type": "stream",
     "text": [
      "0 -0.13672731787515924 2.0815575762581497\n",
      "1 -0.049475642262671204 2.4405186231614295\n",
      "2 -0.0883698273788799 3.3173074397173794\n",
      "3 -0.13959223909579455 1.2558748229832823\n",
      "4 -0.13867732082024092 2.1535541225563395\n",
      "5 -0.05327408847760809 1.8744854296534514\n",
      "6 -0.08019495995576717 1.7183328706305474\n",
      "7 -0.06223536843110708 2.987313450367983\n",
      "8 -0.11160790259896676 2.1035729787273114\n",
      "9 -0.11021205561220149 2.5401774246461137\n",
      "10 -0.08478956973018541 3.137573982835247\n",
      "11 -0.15449121562005907 2.874327052969578\n",
      "12 -0.2012066939645562 1.7753417718816886\n",
      "13 -0.12343092570620134 3.4383383380972647\n",
      "14 -0.09293410231259244 2.927727237466938\n",
      "15 -0.05037248331653185 2.063572323396186\n",
      "16 -0.241133543331761 3.7572886699133297\n",
      "17 -0.03360992023521217 1.6704186871032085\n",
      "18 -0.051467760377525054 1.7537281695476248\n",
      "19 -0.08497487463264858 1.379763250015984\n",
      "20 -0.08046152642812611 1.580162159051777\n"
     ]
    }
   ],
   "source": [
    "for n, arr in np_dict.items():\n",
    "    print(n, arr.min(), arr.max())\n",
    "    np.save(f\"/n/home12/yasith/datasets/QPM_np/{type_}/{n}.npy\", arr)"
   ]
  }
 ],
 "metadata": {
  "kernelspec": {
   "display_name": "Python (qpm-amrb)",
   "language": "python",
   "name": "qpm-amrb"
  },
  "language_info": {
   "codemirror_mode": {
    "name": "ipython",
    "version": 3
   },
   "file_extension": ".py",
   "mimetype": "text/x-python",
   "name": "python",
   "nbconvert_exporter": "python",
   "pygments_lexer": "ipython3",
   "version": "3.10.12"
  }
 },
 "nbformat": 4,
 "nbformat_minor": 5
}
