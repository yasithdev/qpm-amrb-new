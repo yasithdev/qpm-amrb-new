{
 "cells": [
  {
   "cell_type": "code",
   "execution_count": null,
   "id": "65170af1-f93c-47d0-8314-5f7d6a8f26de",
   "metadata": {},
   "outputs": [],
   "source": [
    "%env DATA_DIR=$HOME/datasets\n",
    "%env LOG_LEVEL=INFO\n",
    "%env BATCH_SIZE=64\n",
    "%env OPTIM_LR=0.001\n",
    "%env OPTIM_M=0.8\n",
    "%env TRAIN_EPOCHS=100\n",
    "%env EXC_RESUME=1\n",
    "%env DATASET_NAME=AMRB2_species\n",
    "%env EMB_DIMS=512\n",
    "%env MODEL_NAME=resnet"
   ]
  },
  {
   "cell_type": "code",
   "execution_count": null,
   "id": "8deaa0b2-f1b8-4260-93ac-a5200671e71a",
   "metadata": {},
   "outputs": [],
   "source": [
    "import lightning.pytorch as pl\n",
    "import numpy as np\n",
    "import torch\n",
    "from lightning.pytorch.callbacks import ModelCheckpoint\n",
    "from lightning.pytorch.loggers.wandb import WandbLogger\n",
    "\n",
    "from config import Config, load_config\n",
    "from datasets import get_data\n",
    "from models import get_model"
   ]
  },
  {
   "cell_type": "code",
   "execution_count": null,
   "id": "b98946be-7579-4abc-a46d-64004a8b8a10",
   "metadata": {},
   "outputs": [],
   "source": [
    "# initialize the RNG deterministically\n",
    "np.random.seed(42)\n",
    "torch.manual_seed(42)\n",
    "torch.set_float32_matmul_precision('medium')\n",
    "\n",
    "config = load_config()\n",
    "\n",
    "# initialize data attributes and loaders\n",
    "get_data(config)\n",
    "config.print_labels()\n",
    "\n",
    "assert config.datamodule"
   ]
  },
  {
   "cell_type": "code",
   "execution_count": null,
   "id": "b58312d5-e486-48f8-a41c-05d7d43ff4b6",
   "metadata": {},
   "outputs": [],
   "source": [
    "model_randinit = get_model(config)"
   ]
  },
  {
   "cell_type": "code",
   "execution_count": null,
   "id": "4ffd2eee-f7e2-423f-ba46-162c9baa9ca6",
   "metadata": {},
   "outputs": [],
   "source": [
    "from pathlib import Path\n",
    "artifact_dir = WandbLogger.download_artifact(artifact=\"yasith/uq_project/model-33t7jols:best\")\n",
    "model_pretrain = model_randinit.load_from_checkpoint(Path(artifact_dir) / \"model.ckpt\", config=config)\n",
    "model_pretrain.eval()\n",
    "del model_randinit"
   ]
  },
  {
   "cell_type": "code",
   "execution_count": null,
   "id": "74398532-1736-46d7-9eb1-10df6337b9f5",
   "metadata": {},
   "outputs": [],
   "source": [
    "assert config.datamodule\n",
    "config.datamodule.setup(\"test\")"
   ]
  },
  {
   "cell_type": "code",
   "execution_count": null,
   "id": "f3ead97f-ea7c-42b6-ae0a-e60a42c3d730",
   "metadata": {},
   "outputs": [],
   "source": [
    "test_loader = config.datamodule.test_dataloader()"
   ]
  },
  {
   "cell_type": "code",
   "execution_count": null,
   "id": "1098f223-dad1-4b4c-bc29-f3ff0e19af2f",
   "metadata": {},
   "outputs": [],
   "source": [
    "from torchmetrics import Accuracy\n",
    "accuracy = Accuracy(task=\"multiclass\", num_classes=len(config.get_ind_labels())).cuda()"
   ]
  },
  {
   "cell_type": "code",
   "execution_count": null,
   "id": "f71087bb-7dfa-421f-a876-6a754bbb6790",
   "metadata": {},
   "outputs": [],
   "source": [
    "from models.common import edl_probs\n",
    "from tqdm.auto import tqdm\n",
    "\n",
    "# accuracy.reset()\n",
    "classifier_loss = \"edl\"\n",
    "for batch_idx, batch in enumerate(tqdm(test_loader)):\n",
    "    x, y = batch\n",
    "    print(x.size(), y.size())\n",
    "#     x = x.cuda().float()\n",
    "#     y = y.cuda().long()\n",
    "    \n",
    "#     z, logits, x_pred = model_pretrain(x)\n",
    "    \n",
    "#     # classifier loss\n",
    "#     if classifier_loss == \"edl\":\n",
    "#         pY, uY = edl_probs(logits)\n",
    "#     elif classifier_loss == \"crossent\":\n",
    "#         pY = logits.softmax(-1)\n",
    "#         uY = 1.0 - pY.max(-1)\n",
    "#     elif classifier_loss == \"margin\":\n",
    "#         pY = logits.sigmoid()\n",
    "#         uY = 1.0 - pY.max(-1)\n",
    "#     else:\n",
    "#         raise ValueError(classifier_loss)\n",
    "#     accuracy.update(pY, y)\n",
    "    \n",
    "# print(accuracy.compute())"
   ]
  },
  {
   "cell_type": "code",
   "execution_count": null,
   "id": "d695e6a0-95e2-4200-9255-8b0abf8f0652",
   "metadata": {},
   "outputs": [],
   "source": []
  }
 ],
 "metadata": {
  "kernelspec": {
   "display_name": "Python [conda env:.conda-qpm-amrb]",
   "language": "python",
   "name": "conda-env-.conda-qpm-amrb-py"
  },
  "language_info": {
   "codemirror_mode": {
    "name": "ipython",
    "version": 3
   },
   "file_extension": ".py",
   "mimetype": "text/x-python",
   "name": "python",
   "nbconvert_exporter": "python",
   "pygments_lexer": "ipython3",
   "version": "3.10.12"
  },
  "toc-showtags": false
 },
 "nbformat": 4,
 "nbformat_minor": 5
}
