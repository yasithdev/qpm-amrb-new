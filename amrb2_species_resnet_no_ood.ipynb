{
 "cells": [
  {
   "cell_type": "code",
   "execution_count": 1,
   "metadata": {},
   "outputs": [
    {
     "name": "stdout",
     "output_type": "stream",
     "text": [
      "env: DATASET_NAME=AMRB2_species\n",
      "env: MANIFOLD_D=512\n",
      "env: MODEL_NAME=resnet\n",
      "env: TRAIN_EPOCHS=50\n"
     ]
    }
   ],
   "source": [
    "%env DATASET_NAME=AMRB2_species\n",
    "%env MANIFOLD_D=512\n",
    "%env MODEL_NAME=resnet\n",
    "%env TRAIN_EPOCHS=50"
   ]
  },
  {
   "cell_type": "code",
   "execution_count": 2,
   "metadata": {},
   "outputs": [
    {
     "ename": "ModuleNotFoundError",
     "evalue": "No module named 'torch'",
     "output_type": "error",
     "traceback": [
      "\u001b[0;31m---------------------------------------------------------------------------\u001b[0m",
      "\u001b[0;31mModuleNotFoundError\u001b[0m                       Traceback (most recent call last)",
      "Cell \u001b[0;32mIn[2], line 6\u001b[0m\n\u001b[1;32m      3\u001b[0m \u001b[39mfrom\u001b[39;00m \u001b[39mtyping\u001b[39;00m \u001b[39mimport\u001b[39;00m Literal\n\u001b[1;32m      5\u001b[0m \u001b[39mimport\u001b[39;00m \u001b[39mnumpy\u001b[39;00m \u001b[39mas\u001b[39;00m \u001b[39mnp\u001b[39;00m\n\u001b[0;32m----> 6\u001b[0m \u001b[39mimport\u001b[39;00m \u001b[39mtorch\u001b[39;00m\n\u001b[1;32m      7\u001b[0m \u001b[39mimport\u001b[39;00m \u001b[39msklearn\u001b[39;00m\u001b[39m.\u001b[39;00m\u001b[39mmetrics\u001b[39;00m\n\u001b[1;32m      8\u001b[0m \u001b[39mfrom\u001b[39;00m \u001b[39mtqdm\u001b[39;00m \u001b[39mimport\u001b[39;00m tqdm\n",
      "\u001b[0;31mModuleNotFoundError\u001b[0m: No module named 'torch'"
     ]
    }
   ],
   "source": [
    "import logging\n",
    "import os\n",
    "from typing import Literal\n",
    "\n",
    "import numpy as np\n",
    "import torch\n",
    "import sklearn.metrics\n",
    "from tqdm import tqdm\n",
    "\n",
    "from config import Config, load_config\n",
    "from datasets import init_dataloaders, init_labels, init_shape\n",
    "from models import get_model_optimizer_and_step\n",
    "from models.common import gen_topk_accs, load_model_state, save_model_state\n",
    "from matplotlib import pyplot as plt\n",
    "from PIL import Image"
   ]
  },
  {
   "cell_type": "code",
   "execution_count": 3,
   "metadata": {},
   "outputs": [
    {
     "name": "stderr",
     "output_type": "stream",
     "text": [
      "INFO:root:LOG_LEVEL=INFO\n",
      "INFO:root:OOD_K=\n",
      "INFO:root:DATA_DIR=/home/pjaya001/datasets\n",
      "INFO:root:DATASET_NAME=AMRB2_species\n",
      "INFO:root:MODEL_NAME=resnet\n",
      "INFO:root:EXPERIMENT_BASE=/home/pjaya001/experiments/ood_flows\n",
      "INFO:root:MANIFOLD_D=512\n",
      "INFO:root:BATCH_SIZE=32\n",
      "INFO:root:OPTIM_LR=0.001\n",
      "INFO:root:OPTIM_M=0.8\n",
      "INFO:root:TRAIN_EPOCHS=50\n",
      "INFO:root:EXC_RESUME=1\n",
      "INFO:root:Using device: cuda\n",
      "INFO:root:Dataset file: /home/pjaya001/datasets/AMRB2/ctr_1_fit_f32.imag.npz\n",
      "INFO:root:[preparation] loaded target info\n",
      "INFO:root:[preparation] performed train/test split\n",
      "INFO:root:Prepared datasets in 17.589163303375244 s\n"
     ]
    },
    {
     "name": "stdout",
     "output_type": "stream",
     "text": [
      "Performing ind/ood split\n"
     ]
    },
    {
     "name": "stderr",
     "output_type": "stream",
     "text": [
      "INFO:root:Labels (train, test): ['Acinetobacter', 'B_subtilis', 'E_coli', 'K_pneumoniae', 'S_aureus']\n",
      "INFO:root:Labels (ood): []\n"
     ]
    },
    {
     "name": "stdout",
     "output_type": "stream",
     "text": [
      "Performed ind/ood split\n",
      "323968 215968 0\n"
     ]
    },
    {
     "name": "stderr",
     "output_type": "stream",
     "text": [
      "ERROR:wandb.jupyter:Failed to detect the name of this notebook, you can set it manually with the WANDB_NOTEBOOK_NAME environment variable to enable code saving.\n",
      "\u001b[34m\u001b[1mwandb\u001b[0m: Currently logged in as: \u001b[33myasith\u001b[0m. Use \u001b[1m`wandb login --relogin`\u001b[0m to force relogin\n"
     ]
    },
    {
     "data": {
      "text/html": [
       "Tracking run with wandb version 0.15.7"
      ],
      "text/plain": [
       "<IPython.core.display.HTML object>"
      ]
     },
     "metadata": {},
     "output_type": "display_data"
    },
    {
     "data": {
      "text/html": [
       "Run data is saved locally in <code>/home/pjaya001/projects/qpm-amrb-new/wandb/run-20230727_094559-vpyrejgm</code>"
      ],
      "text/plain": [
       "<IPython.core.display.HTML object>"
      ]
     },
     "metadata": {},
     "output_type": "display_data"
    },
    {
     "data": {
      "text/html": [
       "Syncing run <strong><a href='https://wandb.ai/yasith/uq_ood/runs/vpyrejgm' target=\"_blank\">AMRB2_species-M512</a></strong> to <a href='https://wandb.ai/yasith/uq_ood' target=\"_blank\">Weights & Biases</a> (<a href='https://wandb.me/run' target=\"_blank\">docs</a>)<br/>"
      ],
      "text/plain": [
       "<IPython.core.display.HTML object>"
      ]
     },
     "metadata": {},
     "output_type": "display_data"
    },
    {
     "data": {
      "text/html": [
       " View project at <a href='https://wandb.ai/yasith/uq_ood' target=\"_blank\">https://wandb.ai/yasith/uq_ood</a>"
      ],
      "text/plain": [
       "<IPython.core.display.HTML object>"
      ]
     },
     "metadata": {},
     "output_type": "display_data"
    },
    {
     "data": {
      "text/html": [
       " View run at <a href='https://wandb.ai/yasith/uq_ood/runs/vpyrejgm' target=\"_blank\">https://wandb.ai/yasith/uq_ood/runs/vpyrejgm</a>"
      ],
      "text/plain": [
       "<IPython.core.display.HTML object>"
      ]
     },
     "metadata": {},
     "output_type": "display_data"
    },
    {
     "data": {
      "text/html": [
       "<button onClick=\"this.nextSibling.style.display='block';this.style.display='none';\">Display W&B run</button><iframe src='https://wandb.ai/yasith/uq_ood/runs/vpyrejgm?jupyter=true' style='border:none;width:100%;height:420px;display:none;'></iframe>"
      ],
      "text/plain": [
       "<wandb.sdk.wandb_run.Run at 0x7ff045d6f550>"
      ]
     },
     "execution_count": 3,
     "metadata": {},
     "output_type": "execute_result"
    }
   ],
   "source": [
    "# initialize the RNG deterministically\n",
    "np.random.seed(42)\n",
    "torch.manual_seed(42)\n",
    "\n",
    "config = load_config()\n",
    "\n",
    "# initialize data attributes and loaders\n",
    "init_labels(config)\n",
    "init_shape(config)\n",
    "init_dataloaders(config)\n",
    "\n",
    "config.print_labels()\n",
    "\n",
    "import wandb.plot\n",
    "\n",
    "import wandb\n",
    "\n",
    "wandb.init(\n",
    "    project=\"uq_ood\",\n",
    "    name=config.run_name,\n",
    "    config=config.run_config,\n",
    ")"
   ]
  },
  {
   "cell_type": "code",
   "execution_count": 5,
   "metadata": {},
   "outputs": [],
   "source": [
    "def epoch_stats_to_wandb(\n",
    "    stats: dict[str, dict],\n",
    "    config: Config,\n",
    "    step: int,\n",
    ") -> dict:\n",
    "    # initialize metric dict\n",
    "    metrics = {}\n",
    "    metrics[\"trn/loss\"] = None\n",
    "    metrics[\"trn/acc\"] = dict(acc1=None, acc2=None, acc3=None)\n",
    "    metrics[\"tid/loss\"] = None\n",
    "    metrics[\"tid/acc\"] = dict(acc1=None, acc2=None, acc3=None)\n",
    "    metrics[\"tod/loss\"] = None\n",
    "\n",
    "    # get label information\n",
    "    ind_labels, ood_labels = config.get_ind_labels(), config.get_ood_labels()\n",
    "    Ki, Ko = len(ind_labels), len(ood_labels)\n",
    "\n",
    "    figs = {}\n",
    "    if \"trn\" in stats:\n",
    "        metrics[\"trn/loss\"] = stats[\"trn\"][\"loss\"]\n",
    "        y_true_trn: np.ndarray = stats[\"trn\"][\"y_true\"]\n",
    "        y_prob_trn: np.ndarray = stats[\"trn\"][\"y_prob\"]\n",
    "        metrics[\"trn/acc\"] = gen_topk_accs(y_true_trn, y_prob_trn, Ki)\n",
    "\n",
    "        cm = sklearn.metrics.confusion_matrix(\n",
    "            y_true_trn, y_prob_trn.argmax(-1), labels=list(range(Ki))\n",
    "        )\n",
    "        disp = sklearn.metrics.ConfusionMatrixDisplay(cm, display_labels=ind_labels)\n",
    "        disp.plot()\n",
    "        fp = os.path.join(config.experiment_path, f\"cm_trn_e{step}.png\")\n",
    "        plt.savefig(fp)\n",
    "        figs[\"trn/cm\"] = wandb.Image(Image.open(fp))\n",
    "\n",
    "    y_true_tst = []\n",
    "    y_prob_tst = []\n",
    "\n",
    "    if \"tid\" in stats:\n",
    "        y_true_tid: np.ndarray = stats[\"tid\"][\"y_true\"]\n",
    "        y_prob_tid: np.ndarray = stats[\"tid\"][\"y_prob\"]\n",
    "        if len(y_true_tid) > 0:\n",
    "            metrics[\"tid/loss\"] = stats[\"tid\"][\"loss\"]\n",
    "            metrics[\"tid/acc\"] = gen_topk_accs(y_true_tid, y_prob_tid, Ki)\n",
    "            y_true_tst.append(y_true_tid)\n",
    "            y_prob_tst.append(y_prob_tid)\n",
    "\n",
    "    if \"tod\" in stats:\n",
    "        y_true_tod: np.ndarray = stats[\"tod\"][\"y_true\"]\n",
    "        y_prob_tod: np.ndarray = stats[\"tod\"][\"y_prob\"]\n",
    "        if len(y_true_tod) > 0:\n",
    "            metrics[\"tod/loss\"] = stats[\"tod\"][\"loss\"]\n",
    "            y_true_tst.append(y_true_tod)\n",
    "            y_prob_tst.append(y_prob_tod)\n",
    "\n",
    "    # concatenate y of tid and tod datasets\n",
    "    y_true_tst = np.concatenate(y_true_tst, axis=0)\n",
    "    y_prob_tst = np.concatenate(y_prob_tst, axis=0)\n",
    "\n",
    "    # zero-pad y_prob_tst for ood targets\n",
    "    y_prob_tst = np.pad(y_prob_tst, pad_width=((0, 0), (0, Ko)))\n",
    "    perm_labels = ind_labels + ood_labels\n",
    "\n",
    "    cm = sklearn.metrics.confusion_matrix(\n",
    "        y_true_tst, y_prob_tst.argmax(-1), labels=list(range(Ki + Ko))\n",
    "    )\n",
    "    disp = sklearn.metrics.ConfusionMatrixDisplay(cm, display_labels=perm_labels)\n",
    "    disp.plot()\n",
    "    fp = os.path.join(config.experiment_path, f\"cm_tst_e{step}.png\")\n",
    "    plt.savefig(fp)\n",
    "    figs[\"tst/cm\"] = wandb.Image(Image.open(fp))\n",
    "\n",
    "    tqdm.write(f\"Epoch {step}: {metrics}\")\n",
    "\n",
    "    join = lambda x: \",\".join(map(perm_labels.__getitem__, x))\n",
    "    fig_row_lbl = []\n",
    "    fig_a_data = []\n",
    "    fig_a_col_lbl = []\n",
    "    fig_b_data = []\n",
    "    fig_b_col_lbl = []\n",
    "\n",
    "    if \"trn\" in stats:\n",
    "        fig_row_lbl.append(\"trn\")\n",
    "        (E_x_trn, E_y_trn, E_xp_trn, E_yp_trn) = zip(*stats[\"trn\"][\"samples\"])\n",
    "        E_x_trn = np.concatenate(E_x_trn, axis=1)\n",
    "        E_xp_trn = np.concatenate(E_xp_trn, axis=1)\n",
    "        fig_a_data.append(E_x_trn)\n",
    "        fig_a_col_lbl.append(join(E_y_trn))\n",
    "        fig_b_data.append(E_xp_trn)\n",
    "        fig_b_col_lbl.append(join(E_yp_trn))\n",
    "\n",
    "    if \"tid\" in stats and len(stats[\"tid\"][\"y_true\"]) > 0:\n",
    "        fig_row_lbl.append(\"tid\")\n",
    "        (E_x_tid, E_y_tid, E_xp_tid, E_yp_tid) = zip(*stats[\"tid\"][\"samples\"])\n",
    "        E_x_tid = np.concatenate(E_x_tid, axis=1)\n",
    "        E_xp_tid = np.concatenate(E_xp_tid, axis=1)\n",
    "        fig_a_data.append(E_x_tid)\n",
    "        fig_a_col_lbl.append(join(E_y_tid))\n",
    "        fig_b_data.append(E_xp_tid)\n",
    "        fig_b_col_lbl.append(join(E_yp_tid))\n",
    "\n",
    "    if \"tod\" in stats and len(stats[\"tod\"][\"y_true\"]) > 0:\n",
    "        fig_row_lbl.append(\"tod\")\n",
    "        (E_x_tod, E_y_tod, E_xp_tod, E_yp_tod) = zip(*stats[\"tod\"][\"samples\"])\n",
    "        E_x_tod = np.concatenate(E_x_tod, axis=1)\n",
    "        E_xp_tod = np.concatenate(E_xp_tod, axis=1)\n",
    "        fig_a_data.append(E_x_tod)\n",
    "        fig_a_col_lbl.append(join(E_y_tod))\n",
    "        fig_b_data.append(E_xp_tod)\n",
    "        fig_b_col_lbl.append(join(E_yp_tod))\n",
    "\n",
    "    fig_a_data = np.concatenate(fig_a_data, axis=0)\n",
    "    fig_b_data = np.concatenate(fig_b_data, axis=0)\n",
    "\n",
    "    fig_row_lbl = \", \".join([f\"R{i+1}={v}\" for i, v in enumerate(fig_row_lbl)])\n",
    "    fig_a_col_lbl = \", \".join([f\"R{i+1}={v}\" for i, v in enumerate(fig_a_col_lbl)])\n",
    "    fig_b_col_lbl = \", \".join([f\"R{i+1}={v}\" for i, v in enumerate(fig_b_col_lbl)])\n",
    "    fig_a_cap = f\"sample inputs - rows: [{fig_row_lbl}] - targets: [{fig_a_col_lbl}]\"\n",
    "    fig_b_cap = f\"sample output - rows: [{fig_row_lbl}] - targets: [{fig_b_col_lbl}]\"\n",
    "\n",
    "    figs[\"samples/input\"] = wandb.Image(fig_a_data, caption=fig_a_cap)\n",
    "    figs[\"samples/output\"] = wandb.Image(fig_b_data, caption=fig_b_cap)\n",
    "\n",
    "    done_keys = [\"y_true\", \"y_prob\", \"y_ucty\", \"samples\"]\n",
    "\n",
    "    for prefix in [\"trn\", \"tid\", \"tod\"]:\n",
    "        if prefix not in stats:\n",
    "            continue\n",
    "        prefix_stats: dict = stats[prefix]\n",
    "        for key in set(prefix_stats).difference(done_keys):\n",
    "            val = prefix_stats[key]\n",
    "            # unbounded histograms\n",
    "            if key in [\"u_norm\", \"v_norm\", \"z_norm\", \"z_nll\"]:\n",
    "                val = np.tanh(val)\n",
    "                # save v_norm for AUROC computation\n",
    "                if key in [\"v_norm\"]:\n",
    "                    figs[f\"{prefix}/{key}\"] = val\n",
    "                hist = np.histogram(val, bins=100, range=(0.0, 1.0))\n",
    "                figs[f\"{prefix}/{key}_hist\"] = wandb.Histogram(np_histogram=hist)\n",
    "            # bounded histograms\n",
    "            elif key == \"y_ucty\":\n",
    "                hist = np.histogram(val, bins=100, range=(0.0, 1.0))\n",
    "                figs[f\"{prefix}/{key}_hist\"] = wandb.Histogram(np_histogram=hist)\n",
    "            # log everything else\n",
    "            else:\n",
    "                figs[f\"{prefix}/{key}\"] = val\n",
    "\n",
    "    prefix = \"ood_detection\"\n",
    "    if \"v_norm\" in stats[\"tid\"] and \"v_norm\" in stats[\"tod\"]:\n",
    "        tid_v_norm = stats[\"tid\"][\"v_norm\"]\n",
    "        tod_v_norm = stats[\"tod\"][\"v_norm\"]\n",
    "        B_InD = tid_v_norm.shape[0]\n",
    "        B_OoD = tod_v_norm.shape[0]\n",
    "        # binary classification labels for ID and OOD\n",
    "        LABELS = [\"InD\", \"OoD\"]\n",
    "        values = np.concatenate([tid_v_norm, tod_v_norm], axis=0)\n",
    "        values_2d = np.stack([1.0 - values, values], axis=-1)\n",
    "        target = np.concatenate([np.zeros(B_InD), np.ones(B_OoD)], axis=0)\n",
    "        figs[f\"{prefix}/roc\"] = wandb.plot.roc_curve(target, values_2d, LABELS)\n",
    "        figs[f\"{prefix}/pr\"] = wandb.plot.pr_curve(target, values_2d, LABELS)\n",
    "        figs[f\"{prefix}/auroc\"] = sklearn.metrics.roc_auc_score(target, values)\n",
    "\n",
    "    data = {}\n",
    "    data.update(metrics)\n",
    "    data.update(figs)\n",
    "    return data"
   ]
  },
  {
   "cell_type": "code",
   "execution_count": 6,
   "metadata": {},
   "outputs": [
    {
     "name": "stderr",
     "output_type": "stream",
     "text": [
      "WARNING:root:no saved model state: /home/pjaya001/experiments/ood_flows/AMRB2_species-M512/resnet_model.pth\n",
      "INFO:root:Started Train/Test\n"
     ]
    },
    {
     "name": "stdout",
     "output_type": "stream",
     "text": [
      "[train] Epoch 1: 100%|██████████| 10124/10124, Loss(agg)=0.6204, Loss(y)=0.6181, Loss(x)=0.0023\n",
      "[test_ind] Epoch 1: 100%|██████████| 6749/6749, Loss(agg)=0.5445, Loss(y)=0.5422, Loss(x)=0.0023\n",
      "[test_ood] Epoch 1: |          | 0/0\n",
      "Epoch 1: {'trn/loss': {'agg': 0.5612607961090033, 'y': 0.5453838400339619, 'x': 0.015876956454431795}, 'trn/acc': {'acc1': 0.6273026965626235, 'acc2': 0.8643230195574871, 'acc3': 0.9442691870802055}, 'tid/loss': {'agg': 0.66398042114969, 'y': 0.6616743356894698, 'x': 0.002306085472225763}, 'tid/acc': {'acc1': 0.5404596977329975, 'acc2': 0.8051655800859386, 'acc3': 0.9140150392650763}, 'tod/loss': None}\n"
     ]
    },
    {
     "name": "stderr",
     "output_type": "stream",
     "text": [
      "INFO:root:saving model state - e1\n"
     ]
    },
    {
     "name": "stdout",
     "output_type": "stream",
     "text": [
      "[train] Epoch 2: 100%|██████████| 10124/10124, Loss(agg)=0.5143, Loss(y)=0.5138, Loss(x)=0.0005\n",
      "[test_ind] Epoch 2: 100%|██████████| 6749/6749, Loss(agg)=0.4925, Loss(y)=0.4921, Loss(x)=0.0004\n",
      "[test_ood] Epoch 2: |          | 0/0\n"
     ]
    },
    {
     "name": "stderr",
     "output_type": "stream",
     "text": [
      "INFO:root:saving model state - e2\n"
     ]
    },
    {
     "name": "stdout",
     "output_type": "stream",
     "text": [
      "Epoch 2: {'trn/loss': {'agg': 0.4355058079193181, 'y': 0.4343092540217948, 'x': 0.001196554096676366}, 'trn/acc': {'acc1': 0.6888766791781904, 'acc2': 0.8924307338996444, 'acc3': 0.9516032447649151}, 'tid/loss': {'agg': 0.6001431204633618, 'y': 0.5996138433082525, 'x': 0.0005292772748105996}, 'tid/acc': {'acc1': 0.5514520669728848, 'acc2': 0.7707715957919692, 'acc3': 0.9102320714179879}, 'tod/loss': None}\n",
      "[train] Epoch 3: 100%|██████████| 10124/10124, Loss(agg)=0.3798, Loss(y)=0.3795, Loss(x)=0.0003\n",
      "[test_ind] Epoch 3: 100%|██████████| 6749/6749, Loss(agg)=0.6332, Loss(y)=0.6329, Loss(x)=0.0003\n",
      "[test_ood] Epoch 3: |          | 0/0\n",
      "Epoch 3: {'trn/loss': {'agg': 0.39880969890083123, 'y': 0.39816303113022844, 'x': 0.0006466680570501282}, 'trn/acc': {'acc1': 0.7159596009482418, 'acc2': 0.9030243727775583, 'acc3': 0.9529521434215725}, 'tid/loss': {'agg': 0.5586045004625041, 'y': 0.5582807193351403, 'x': 0.0003237806781000567}, 'tid/acc': {'acc1': 0.5906847310712698, 'acc2': 0.8065315231886205, 'acc3': 0.9266696918061935}, 'tod/loss': None}\n"
     ]
    },
    {
     "name": "stderr",
     "output_type": "stream",
     "text": [
      "INFO:root:saving model state - e3\n"
     ]
    },
    {
     "name": "stdout",
     "output_type": "stream",
     "text": [
      "[train] Epoch 4: 100%|██████████| 10124/10124, Loss(agg)=0.2655, Loss(y)=0.2649, Loss(x)=0.0005\n",
      "[test_ind] Epoch 4: 100%|██████████| 6749/6749, Loss(agg)=0.3709, Loss(y)=0.3705, Loss(x)=0.0003\n",
      "[test_ood] Epoch 4: |          | 0/0\n"
     ]
    },
    {
     "name": "stderr",
     "output_type": "stream",
     "text": [
      "INFO:root:saving model state - e4\n"
     ]
    },
    {
     "name": "stdout",
     "output_type": "stream",
     "text": [
      "Epoch 4: {'trn/loss': {'agg': 0.3811357932092408, 'y': 0.3806730349592685, 'x': 0.0004627583800541003}, 'trn/acc': {'acc1': 0.7296615715132359, 'acc2': 0.9083952736072699, 'acc3': 0.9534336724614777}, 'tid/loss': {'agg': 0.5517826280623547, 'y': 0.551413424793288, 'x': 0.000369203447109223}, 'tid/acc': {'acc1': 0.6024040598607201, 'acc2': 0.8107404800711216, 'acc3': 0.9200900133353089}, 'tod/loss': None}\n",
      "[train] Epoch 5: 100%|██████████| 10124/10124, Loss(agg)=0.3389, Loss(y)=0.3386, Loss(x)=0.0002\n",
      "[test_ind] Epoch 5: 100%|██████████| 6749/6749, Loss(agg)=0.5264, Loss(y)=0.5257, Loss(x)=0.0007\n",
      "[test_ood] Epoch 5: |          | 0/0\n"
     ]
    },
    {
     "name": "stderr",
     "output_type": "stream",
     "text": [
      "INFO:root:saving model state - e5\n"
     ]
    },
    {
     "name": "stdout",
     "output_type": "stream",
     "text": [
      "Epoch 5: {'trn/loss': {'agg': 0.3681685710447266, 'y': 0.3677859623537074, 'x': 0.00038260894869763065}, 'trn/acc': {'acc1': 0.7397767680758593, 'acc2': 0.9114943451205058, 'acc3': 0.953649743184512}, 'tid/loss': {'agg': 0.5539977548541555, 'y': 0.5536961582019994, 'x': 0.00030159567279219483}, 'tid/acc': {'acc1': 0.5949122092161802, 'acc2': 0.806702844865906, 'acc3': 0.9204882204771078}, 'tod/loss': None}\n",
      "[train] Epoch 6: 100%|██████████| 10124/10124, Loss(agg)=0.5299, Loss(y)=0.5293, Loss(x)=0.0006\n",
      "[test_ind] Epoch 6: 100%|██████████| 6749/6749, Loss(agg)=0.6731, Loss(y)=0.6729, Loss(x)=0.0002\n",
      "[test_ood] Epoch 6: |          | 0/0\n"
     ]
    },
    {
     "name": "stderr",
     "output_type": "stream",
     "text": [
      "INFO:root:saving model state - e6\n"
     ]
    },
    {
     "name": "stdout",
     "output_type": "stream",
     "text": [
      "Epoch 6: {'trn/loss': {'agg': 0.35830552301894697, 'y': 0.357962874299727, 'x': 0.00034264867222807516}, 'trn/acc': {'acc1': 0.7474071513235875, 'acc2': 0.9142816574476491, 'acc3': 0.9538411201106282}, 'tid/loss': {'agg': 0.5597423179615231, 'y': 0.5594850177256367, 'x': 0.0002572998995493038}, 'tid/acc': {'acc1': 0.5928239368795377, 'acc2': 0.8099486961031264, 'acc3': 0.9210855311898059}, 'tod/loss': None}\n",
      "[train] Epoch 7: 100%|██████████| 10124/10124, Loss(agg)=0.3658, Loss(y)=0.3655, Loss(x)=0.0003\n",
      "[test_ind] Epoch 7: 100%|██████████| 6749/6749, Loss(agg)=0.5418, Loss(y)=0.5416, Loss(x)=0.0002\n",
      "[test_ood] Epoch 7: |          | 0/0\n",
      "Epoch 7: {'trn/loss': {'agg': 0.35014499912162816, 'y': 0.34980854656766613, 'x': 0.00033645237873247}, 'trn/acc': {'acc1': 0.7538151916238641, 'acc2': 0.9155348676412485, 'acc3': 0.9537269112998815}, 'tid/loss': {'agg': 0.5598566479940099, 'y': 0.5596223255451882, 'x': 0.00023432197315157634}, 'tid/acc': {'acc1': 0.5958799451770632, 'acc2': 0.8014150244480663, 'acc3': 0.9069399170247444}, 'tod/loss': None}\n"
     ]
    },
    {
     "name": "stderr",
     "output_type": "stream",
     "text": [
      "INFO:root:saving model state - e7\n"
     ]
    },
    {
     "name": "stdout",
     "output_type": "stream",
     "text": [
      "[train] Epoch 8: 100%|██████████| 10124/10124, Loss(agg)=0.3874, Loss(y)=0.3871, Loss(x)=0.0003\n",
      "[test_ind] Epoch 8: 100%|██████████| 6749/6749, Loss(agg)=0.5156, Loss(y)=0.5154, Loss(x)=0.0002\n",
      "[test_ood] Epoch 8: |          | 0/0\n"
     ]
    },
    {
     "name": "stderr",
     "output_type": "stream",
     "text": [
      "INFO:root:saving model state - e8\n"
     ]
    },
    {
     "name": "stdout",
     "output_type": "stream",
     "text": [
      "Epoch 8: {'trn/loss': {'agg': 0.3431101650866547, 'y': 0.3428013474256954, 'x': 0.0003088175589435146}, 'trn/acc': {'acc1': 0.7602973133148953, 'acc2': 0.9169794547609641, 'acc3': 0.9531219132753852}, 'tid/loss': {'agg': 0.5644848540586478, 'y': 0.5642378466657257, 'x': 0.0002470073346259552}, 'tid/acc': {'acc1': 0.5877028078233812, 'acc2': 0.796205919395466, 'acc3': 0.9116859905171136}, 'tod/loss': None}\n",
      "[train] Epoch 9: 100%|██████████| 10124/10124, Loss(agg)=0.3894, Loss(y)=0.3892, Loss(x)=0.0002\n",
      "[test_ind] Epoch 9: 100%|██████████| 6749/6749, Loss(agg)=0.4919, Loss(y)=0.4916, Loss(x)=0.0003\n",
      "[test_ood] Epoch 9: |          | 0/0\n"
     ]
    },
    {
     "name": "stderr",
     "output_type": "stream",
     "text": [
      "INFO:root:saving model state - e9\n"
     ]
    },
    {
     "name": "stdout",
     "output_type": "stream",
     "text": [
      "Epoch 9: {'trn/loss': {'agg': 0.3378465452994261, 'y': 0.33754992315634724, 'x': 0.00029662237209037703}, 'trn/acc': {'acc1': 0.7631617937574081, 'acc2': 0.9184610825760569, 'acc3': 0.9530385717107862}, 'tid/loss': {'agg': 0.5513868357520896, 'y': 0.5511578164540992, 'x': 0.00022901880738016242}, 'tid/acc': {'acc1': 0.6105811972144022, 'acc2': 0.811861016446881, 'acc3': 0.9094263965031857}, 'tod/loss': None}\n",
      "[train] Epoch 10: 100%|██████████| 10124/10124, Loss(agg)=0.1965, Loss(y)=0.1962, Loss(x)=0.0003\n",
      "[test_ind] Epoch 10: 100%|██████████| 6749/6749, Loss(agg)=0.7447, Loss(y)=0.7445, Loss(x)=0.0002\n",
      "[test_ood] Epoch 10: |          | 0/0\n"
     ]
    },
    {
     "name": "stderr",
     "output_type": "stream",
     "text": [
      "INFO:root:saving model state - e10\n"
     ]
    },
    {
     "name": "stdout",
     "output_type": "stream",
     "text": [
      "Epoch 10: {'trn/loss': {'agg': 0.33293744842203554, 'y': 0.33264927694103735, 'x': 0.0002881716666127161}, 'trn/acc': {'acc1': 0.768017211576452, 'acc2': 0.9199920979849862, 'acc3': 0.9531651274199922}, 'tid/loss': {'agg': 0.5551170460103724, 'y': 0.5548667920653176, 'x': 0.00025025348015674507}, 'tid/acc': {'acc1': 0.6054461772114388, 'acc2': 0.7994702918950956, 'acc3': 0.8991054230256335}, 'tod/loss': None}\n",
      "[train] Epoch 11: 100%|██████████| 10124/10124, Loss(agg)=0.4209, Loss(y)=0.4206, Loss(x)=0.0003\n",
      "[test_ind] Epoch 11: 100%|██████████| 6749/6749, Loss(agg)=0.7517, Loss(y)=0.7515, Loss(x)=0.0002\n",
      "[test_ood] Epoch 11: |          | 0/0\n"
     ]
    },
    {
     "name": "stderr",
     "output_type": "stream",
     "text": [
      "/home/pjaya001/.virtualenvs/qpm-amrb-new-py3.10/lib/python3.10/site-packages/sklearn/metrics/_plot/confusion_matrix.py:136: RuntimeWarning: More than 20 figures have been opened. Figures created through the pyplot interface (`matplotlib.pyplot.figure`) are retained until explicitly closed and may consume too much memory. (To control this warning, see the rcParam `figure.max_open_warning`). Consider using `matplotlib.pyplot.close()`.\n",
      "  fig, ax = plt.subplots()\n",
      "INFO:root:saving model state - e11\n"
     ]
    },
    {
     "name": "stdout",
     "output_type": "stream",
     "text": [
      "Epoch 11: {'trn/loss': {'agg': 0.46070951172005326, 'y': 0.4603517359068911, 'x': 0.00035777596186221}, 'trn/acc': {'acc1': 0.7561580156064797, 'acc2': 0.8319371048992493, 'acc3': 0.8836243085736862}, 'tid/loss': {'agg': 0.7100334044279284, 'y': 0.7098011009727413, 'x': 0.00023230476956859376}, 'tid/acc': {'acc1': 0.5952733738331605, 'acc2': 0.6818741665431916, 'acc3': 0.8483247518150837}, 'tod/loss': None}\n",
      "[train] Epoch 12: 100%|██████████| 10124/10124, Loss(agg)=0.5190, Loss(y)=0.5187, Loss(x)=0.0003\n",
      "[test_ind] Epoch 12: 100%|██████████| 6749/6749, Loss(agg)=0.6144, Loss(y)=0.6142, Loss(x)=0.0003\n",
      "[test_ood] Epoch 12: |          | 0/0\n"
     ]
    },
    {
     "name": "stderr",
     "output_type": "stream",
     "text": [
      "INFO:root:saving model state - e12\n"
     ]
    },
    {
     "name": "stdout",
     "output_type": "stream",
     "text": [
      "Epoch 12: {'trn/loss': {'agg': 0.4990681857474116, 'y': 0.4987656558304142, 'x': 0.0003025303705258538}, 'trn/acc': {'acc1': 0.7548029435005926, 'acc2': 0.8073359097194784, 'acc3': 0.869178437376531}, 'tid/loss': {'agg': 0.8014107881642957, 'y': 0.8011163883446623, 'x': 0.00029439991430599825}, 'tid/acc': {'acc1': 0.5744878870943844, 'acc2': 0.6317371092013632, 'acc3': 0.8508436435027411}, 'tod/loss': None}\n",
      "[train] Epoch 13:  49%|████▉     | 4938/10124, Loss(agg)=0.5733, Loss(y)=0.5730, Loss(x)=0.0003"
     ]
    },
    {
     "name": "stderr",
     "output_type": "stream",
     "text": [
      "wandb: Network error (ReadTimeout), entering retry loop.\n"
     ]
    },
    {
     "name": "stdout",
     "output_type": "stream",
     "text": [
      "[train] Epoch 13: 100%|██████████| 10124/10124, Loss(agg)=0.5029, Loss(y)=0.5027, Loss(x)=0.0002\n",
      "[test_ind] Epoch 13: 100%|██████████| 6749/6749, Loss(agg)=0.6155, Loss(y)=0.6153, Loss(x)=0.0002\n",
      "[test_ood] Epoch 13: |          | 0/0\n"
     ]
    },
    {
     "name": "stderr",
     "output_type": "stream",
     "text": [
      "INFO:root:saving model state - e13\n"
     ]
    },
    {
     "name": "stdout",
     "output_type": "stream",
     "text": [
      "Epoch 13: {'trn/loss': {'agg': 0.5306806649242947, 'y': 0.5303754496897035, 'x': 0.0003052151056419777}, 'trn/acc': {'acc1': 0.7458730491900435, 'acc2': 0.7895347688660609, 'acc3': 0.8596219379691822}, 'tid/loss': {'agg': 0.8235602450204754, 'y': 0.8233228259739089, 'x': 0.00023741929214431178}, 'tid/acc': {'acc1': 0.5529569195436361, 'acc2': 0.6142021040154096, 'acc3': 0.8464309527337384}, 'tod/loss': None}\n",
      "[train] Epoch 14: 100%|██████████| 10124/10124, Loss(agg)=0.3699, Loss(y)=0.3696, Loss(x)=0.0003\n",
      "[test_ind] Epoch 14: 100%|██████████| 6749/6749, Loss(agg)=0.8372, Loss(y)=0.8369, Loss(x)=0.0002\n",
      "[test_ood] Epoch 14: |          | 0/0\n"
     ]
    },
    {
     "name": "stderr",
     "output_type": "stream",
     "text": [
      "INFO:root:saving model state - e14\n"
     ]
    },
    {
     "name": "stdout",
     "output_type": "stream",
     "text": [
      "Epoch 14: {'trn/loss': {'agg': 0.5531477887435117, 'y': 0.5528407769770031, 'x': 0.00030701256922984984}, 'trn/acc': {'acc1': 0.7397582477281707, 'acc2': 0.7809691080600553, 'acc3': 0.8554054721453971}, 'tid/loss': {'agg': 0.8768723191667758, 'y': 0.8766368912544793, 'x': 0.00023542821889581826}, 'tid/acc': {'acc1': 0.5672136612831531, 'acc2': 0.6288061194251, 'acc3': 0.8419534375463031}, 'tod/loss': None}\n",
      "[train] Epoch 15: 100%|██████████| 10124/10124, Loss(agg)=0.7980, Loss(y)=0.7977, Loss(x)=0.0002\n",
      "[test_ind] Epoch 15: 100%|██████████| 6749/6749, Loss(agg)=0.8205, Loss(y)=0.8202, Loss(x)=0.0003\n",
      "[test_ood] Epoch 15: |          | 0/0\n"
     ]
    },
    {
     "name": "stderr",
     "output_type": "stream",
     "text": [
      "INFO:root:saving model state - e15\n"
     ]
    },
    {
     "name": "stdout",
     "output_type": "stream",
     "text": [
      "Epoch 15: {'trn/loss': {'agg': 0.5736775588154416, 'y': 0.5733748507674552, 'x': 0.0003027083232351756}, 'trn/acc': {'acc1': 0.7267168362307388, 'acc2': 0.7706594478467009, 'acc3': 0.8485745505728961}, 'tid/loss': {'agg': 0.8762515379439674, 'y': 0.8759689615874631, 'x': 0.0002825773657828061}, 'tid/acc': {'acc1': 0.5283236405393391, 'acc2': 0.6077567046969922, 'acc3': 0.8400966809897763}, 'tod/loss': None}\n",
      "[train] Epoch 16: 100%|██████████| 10124/10124, Loss(agg)=0.5510, Loss(y)=0.5508, Loss(x)=0.0003\n",
      "[test_ind] Epoch 16: 100%|██████████| 6749/6749, Loss(agg)=1.1972, Loss(y)=1.1970, Loss(x)=0.0002\n",
      "[test_ood] Epoch 16: |          | 0/0\n"
     ]
    },
    {
     "name": "stderr",
     "output_type": "stream",
     "text": [
      "INFO:root:saving model state - e16\n"
     ]
    },
    {
     "name": "stdout",
     "output_type": "stream",
     "text": [
      "Epoch 16: {'trn/loss': {'agg': 0.5896950708234889, 'y': 0.5893899212193578, 'x': 0.0003051499669458121}, 'trn/acc': {'acc1': 0.717339366851047, 'acc2': 0.7637081440142236, 'acc3': 0.8444012988937178}, 'tid/loss': {'agg': 0.9543684922265802, 'y': 0.9541126464469147, 'x': 0.00025584540911656933}, 'tid/acc': {'acc1': 0.5247860794191732, 'acc2': 0.6065343013779819, 'acc3': 0.8285255222996}, 'tod/loss': None}\n",
      "[train] Epoch 17: 100%|██████████| 10124/10124, Loss(agg)=0.7237, Loss(y)=0.7234, Loss(x)=0.0003\n",
      "[test_ind] Epoch 17: 100%|██████████| 6749/6749, Loss(agg)=1.0069, Loss(y)=1.0063, Loss(x)=0.0006\n",
      "[test_ood] Epoch 17: |          | 0/0\n"
     ]
    },
    {
     "name": "stderr",
     "output_type": "stream",
     "text": [
      "INFO:root:saving model state - e17\n"
     ]
    },
    {
     "name": "stdout",
     "output_type": "stream",
     "text": [
      "Epoch 17: {'trn/loss': {'agg': 0.6043583564018719, 'y': 0.6040467063030533, 'x': 0.00031165015886451764}, 'trn/acc': {'acc1': 0.7053937425918609, 'acc2': 0.7559913324772817, 'acc3': 0.8402681746345319}, 'tid/loss': {'agg': 0.8870764183749056, 'y': 0.8865713866123678, 'x': 0.00050503301094943}, 'tid/acc': {'acc1': 0.5118073047858942, 'acc2': 0.6145817898947993, 'acc3': 0.827307749296192}, 'tod/loss': None}\n",
      "[train] Epoch 18: 100%|██████████| 10124/10124, Loss(agg)=0.4869, Loss(y)=0.4867, Loss(x)=0.0002\n",
      "[test_ind] Epoch 18: 100%|██████████| 6749/6749, Loss(agg)=1.0813, Loss(y)=1.0809, Loss(x)=0.0004\n",
      "[test_ood] Epoch 18: |          | 0/0\n"
     ]
    },
    {
     "name": "stderr",
     "output_type": "stream",
     "text": [
      "INFO:root:saving model state - e18\n"
     ]
    },
    {
     "name": "stdout",
     "output_type": "stream",
     "text": [
      "Epoch 18: {'trn/loss': {'agg': 0.6175147715245062, 'y': 0.6172149784212431, 'x': 0.0002997931970384419}, 'trn/acc': {'acc1': 0.693198093638878, 'acc2': 0.7482590873172659, 'acc3': 0.8365394112998815}, 'tid/loss': {'agg': 0.9295115544453676, 'y': 0.9291858526976449, 'x': 0.00032570249904702975}, 'tid/acc': {'acc1': 0.4804415468958364, 'acc2': 0.5949214698473848, 'acc3': 0.7922053267150689}, 'tod/loss': None}\n",
      "[train] Epoch 19: 100%|██████████| 10124/10124, Loss(agg)=0.5625, Loss(y)=0.5623, Loss(x)=0.0002\n",
      "[test_ind] Epoch 19: 100%|██████████| 6749/6749, Loss(agg)=0.9657, Loss(y)=0.9654, Loss(x)=0.0003\n",
      "[test_ood] Epoch 19: |          | 0/0\n"
     ]
    },
    {
     "name": "stderr",
     "output_type": "stream",
     "text": [
      "INFO:root:saving model state - e19\n"
     ]
    },
    {
     "name": "stdout",
     "output_type": "stream",
     "text": [
      "Epoch 19: {'trn/loss': {'agg': 0.6295364463649593, 'y': 0.6292332280316828, 'x': 0.00030321856897473306}, 'trn/acc': {'acc1': 0.6786997481232714, 'acc2': 0.740514495258791, 'acc3': 0.8334156459897274}, 'tid/loss': {'agg': 0.9469963748254746, 'y': 0.9467113985452216, 'x': 0.0002849772964571736}, 'tid/acc': {'acc1': 0.4868499036894355, 'acc2': 0.6019317676692844, 'acc3': 0.811147947844125}, 'tod/loss': None}\n",
      "[train] Epoch 20: 100%|██████████| 10124/10124, Loss(agg)=0.6310, Loss(y)=0.6307, Loss(x)=0.0003\n",
      "[test_ind] Epoch 20: 100%|██████████| 6749/6749, Loss(agg)=1.0695, Loss(y)=1.0692, Loss(x)=0.0003\n",
      "[test_ood] Epoch 20: |          | 0/0\n"
     ]
    },
    {
     "name": "stderr",
     "output_type": "stream",
     "text": [
      "INFO:root:saving model state - e20\n"
     ]
    },
    {
     "name": "stdout",
     "output_type": "stream",
     "text": [
      "Epoch 20: {'trn/loss': {'agg': 0.6404557439212694, 'y': 0.6401503174343113, 'x': 0.0003054271441328503}, 'trn/acc': {'acc1': 0.663398854207823, 'acc2': 0.7321278644804425, 'acc3': 0.8275879099170288}, 'tid/loss': {'agg': 0.992801800403335, 'y': 0.9925361905632805, 'x': 0.00026561022052810945}, 'tid/acc': {'acc1': 0.4782884501407616, 'acc2': 0.5925414876277967, 'acc3': 0.7933536449844422}, 'tod/loss': None}\n",
      "[train] Epoch 21: 100%|██████████| 10124/10124, Loss(agg)=0.6513, Loss(y)=0.6510, Loss(x)=0.0003\n",
      "[test_ind] Epoch 21: 100%|██████████| 6749/6749, Loss(agg)=0.8233, Loss(y)=0.8230, Loss(x)=0.0003\n",
      "[test_ood] Epoch 21: |          | 0/0\n"
     ]
    },
    {
     "name": "stderr",
     "output_type": "stream",
     "text": [
      "INFO:root:saving model state - e21\n"
     ]
    },
    {
     "name": "stdout",
     "output_type": "stream",
     "text": [
      "Epoch 21: {'trn/loss': {'agg': 0.6398464264528453, 'y': 0.6395404151850941, 'x': 0.00030601177240105953}, 'trn/acc': {'acc1': 0.6592070821809561, 'acc2': 0.728470095811932, 'acc3': 0.8252697797313315}, 'tid/loss': {'agg': 0.9735503755758242, 'y': 0.9732843150534723, 'x': 0.00026606004624618563}, 'tid/acc': {'acc1': 0.5027967106237962, 'acc2': 0.6033116017187732, 'acc3': 0.8249185064453993}, 'tod/loss': None}\n",
      "[train] Epoch 22: 100%|██████████| 10124/10124, Loss(agg)=0.7049, Loss(y)=0.7046, Loss(x)=0.0003\n",
      "[test_ind] Epoch 22: 100%|██████████| 6749/6749, Loss(agg)=0.9397, Loss(y)=0.9393, Loss(x)=0.0005\n",
      "[test_ood] Epoch 22: |          | 0/0\n"
     ]
    },
    {
     "name": "stderr",
     "output_type": "stream",
     "text": [
      "INFO:root:saving model state - e22\n"
     ]
    },
    {
     "name": "stdout",
     "output_type": "stream",
     "text": [
      "Epoch 22: {'trn/loss': {'agg': 0.6383251790170705, 'y': 0.6380244368434848, 'x': 0.00030074239076351703}, 'trn/acc': {'acc1': 0.6593645051363097, 'acc2': 0.7277663225997629, 'acc3': 0.8265415102726196}, 'tid/loss': {'agg': 0.9071190996220561, 'y': 0.9067451089625006, 'x': 0.00037399005931970446}, 'tid/acc': {'acc1': 0.4819649207289969, 'acc2': 0.6136927692991554, 'acc3': 0.8335123722032893}, 'tod/loss': None}\n",
      "[train] Epoch 23: 100%|██████████| 10124/10124, Loss(agg)=0.8332, Loss(y)=0.8329, Loss(x)=0.0002\n",
      "[test_ind] Epoch 23: 100%|██████████| 6749/6749, Loss(agg)=0.6120, Loss(y)=0.6117, Loss(x)=0.0003\n",
      "[test_ood] Epoch 23: |          | 0/0\n"
     ]
    },
    {
     "name": "stderr",
     "output_type": "stream",
     "text": [
      "INFO:root:saving model state - e23\n"
     ]
    },
    {
     "name": "stdout",
     "output_type": "stream",
     "text": [
      "Epoch 23: {'trn/loss': {'agg': 0.6380473032140392, 'y': 0.6377484169209112, 'x': 0.0002988868151773317}, 'trn/acc': {'acc1': 0.654827019952588, 'acc2': 0.7272755333860135, 'acc3': 0.8245999604899249}, 'tid/loss': {'agg': 0.9924954941739399, 'y': 0.9921897278306819, 'x': 0.0003057659256380102}, 'tid/acc': {'acc1': 0.48610905319306563, 'acc2': 0.5991119054674766, 'acc3': 0.8034431026818788}, 'tod/loss': None}\n",
      "[train] Epoch 24: 100%|██████████| 10124/10124, Loss(agg)=0.5880, Loss(y)=0.5878, Loss(x)=0.0003\n",
      "[test_ind] Epoch 24: 100%|██████████| 6749/6749, Loss(agg)=0.9661, Loss(y)=0.9658, Loss(x)=0.0003\n",
      "[test_ood] Epoch 24: |          | 0/0\n"
     ]
    },
    {
     "name": "stderr",
     "output_type": "stream",
     "text": [
      "INFO:root:saving model state - e24\n"
     ]
    },
    {
     "name": "stdout",
     "output_type": "stream",
     "text": [
      "Epoch 24: {'trn/loss': {'agg': 0.6363040771068956, 'y': 0.63600602480191, 'x': 0.0002980522675937988}, 'trn/acc': {'acc1': 0.6561049239431055, 'acc2': 0.7258124259186093, 'acc3': 0.8247141693006717}, 'tid/loss': {'agg': 0.9457582668969147, 'y': 0.9454671019164699, 'x': 0.00029116487397153317}, 'tid/acc': {'acc1': 0.4866091272781153, 'acc2': 0.6022558897614462, 'acc3': 0.8184082827085494}, 'tod/loss': None}\n",
      "[train] Epoch 25: 100%|██████████| 10124/10124, Loss(agg)=0.7282, Loss(y)=0.7279, Loss(x)=0.0003\n",
      "[test_ind] Epoch 25: 100%|██████████| 6749/6749, Loss(agg)=0.8424, Loss(y)=0.8422, Loss(x)=0.0002\n",
      "[test_ood] Epoch 25: |          | 0/0\n"
     ]
    },
    {
     "name": "stderr",
     "output_type": "stream",
     "text": [
      "INFO:root:saving model state - e25\n"
     ]
    },
    {
     "name": "stdout",
     "output_type": "stream",
     "text": [
      "Epoch 25: {'trn/loss': {'agg': 0.6365946243693357, 'y': 0.6362972825188639, 'x': 0.0002973419703957355}, 'trn/acc': {'acc1': 0.654743678387989, 'acc2': 0.7254605393125247, 'acc3': 0.8250135815883051}, 'tid/loss': {'agg': 1.0259862004394689, 'y': 1.0257377249874138, 'x': 0.0002484763322702792}, 'tid/acc': {'acc1': 0.4591652467032153, 'acc2': 0.5778957993776855, 'acc3': 0.7701696547636687}, 'tod/loss': None}\n",
      "[train] Epoch 26: 100%|██████████| 10124/10124, Loss(agg)=0.5671, Loss(y)=0.5669, Loss(x)=0.0002\n",
      "[test_ind] Epoch 26: 100%|██████████| 6749/6749, Loss(agg)=0.9477, Loss(y)=0.9474, Loss(x)=0.0003\n",
      "[test_ood] Epoch 26: |          | 0/0\n"
     ]
    },
    {
     "name": "stderr",
     "output_type": "stream",
     "text": [
      "INFO:root:saving model state - e26\n"
     ]
    },
    {
     "name": "stdout",
     "output_type": "stream",
     "text": [
      "Epoch 26: {'trn/loss': {'agg': 0.6351846830116482, 'y': 0.6348918693685475, 'x': 0.0002928140011836555}, 'trn/acc': {'acc1': 0.6522218243777164, 'acc2': 0.7242906706835243, 'acc3': 0.823408484788621}, 'tid/loss': {'agg': 0.946782642186951, 'y': 0.9464760316992039, 'x': 0.000306610531355333}, 'tid/acc': {'acc1': 0.47534819973329384, 'acc2': 0.5994730700844569, 'acc3': 0.8211725811231293}, 'tod/loss': None}\n",
      "[train] Epoch 27: 100%|██████████| 10124/10124, Loss(agg)=0.5935, Loss(y)=0.5932, Loss(x)=0.0004\n",
      "[test_ind] Epoch 27: 100%|██████████| 6749/6749, Loss(agg)=1.0153, Loss(y)=1.0151, Loss(x)=0.0002\n",
      "[test_ood] Epoch 27: |          | 0/0\n"
     ]
    },
    {
     "name": "stderr",
     "output_type": "stream",
     "text": [
      "INFO:root:saving model state - e27\n"
     ]
    },
    {
     "name": "stdout",
     "output_type": "stream",
     "text": [
      "Epoch 27: {'trn/loss': {'agg': 0.6353551350542793, 'y': 0.6350625063539588, 'x': 0.0002926294095151659}, 'trn/acc': {'acc1': 0.6518915448439352, 'acc2': 0.7250191376926116, 'acc3': 0.8245660065191623}, 'tid/loss': {'agg': 0.9737498537357303, 'y': 0.9733864908298575, 'x': 0.0003633632619042207}, 'tid/acc': {'acc1': 0.43379574751815086, 'acc2': 0.581187953770929, 'acc3': 0.8066658023410875}, 'tod/loss': None}\n",
      "[train] Epoch 28: 100%|██████████| 10124/10124, Loss(agg)=0.5628, Loss(y)=0.5625, Loss(x)=0.0003\n",
      "[test_ind] Epoch 28: 100%|██████████| 6749/6749, Loss(agg)=0.8998, Loss(y)=0.8994, Loss(x)=0.0005\n",
      "[test_ood] Epoch 28: |          | 0/0\n"
     ]
    },
    {
     "name": "stderr",
     "output_type": "stream",
     "text": [
      "INFO:root:saving model state - e28\n"
     ]
    },
    {
     "name": "stdout",
     "output_type": "stream",
     "text": [
      "Epoch 28: {'trn/loss': {'agg': 0.6347452329139802, 'y': 0.6344502305988029, 'x': 0.0002950024278108304}, 'trn/acc': {'acc1': 0.6527187870406954, 'acc2': 0.7246888581588306, 'acc3': 0.8245814401422362}, 'tid/loss': {'agg': 0.9642547599243789, 'y': 0.9639555199585379, 'x': 0.0002992402686411501}, 'tid/acc': {'acc1': 0.4417043265668988, 'acc2': 0.5905180397095866, 'acc3': 0.8018086012742629}, 'tod/loss': None}\n",
      "[train] Epoch 29: 100%|██████████| 10124/10124, Loss(agg)=0.7861, Loss(y)=0.7858, Loss(x)=0.0003\n",
      "[test_ind] Epoch 29: 100%|██████████| 6749/6749, Loss(agg)=1.1780, Loss(y)=1.1777, Loss(x)=0.0002\n",
      "[test_ood] Epoch 29: |          | 0/0\n"
     ]
    },
    {
     "name": "stderr",
     "output_type": "stream",
     "text": [
      "INFO:root:saving model state - e29\n"
     ]
    },
    {
     "name": "stdout",
     "output_type": "stream",
     "text": [
      "Epoch 29: {'trn/loss': {'agg': 0.6341796328355229, 'y': 0.6338843963201316, 'x': 0.0002952363278420199}, 'trn/acc': {'acc1': 0.6537837070327933, 'acc2': 0.7258463798893718, 'acc3': 0.8256309265112604}, 'tid/loss': {'agg': 0.9564685035032737, 'y': 0.9562032696387912, 'x': 0.0002652339953721677}, 'tid/acc': {'acc1': 0.4501176100162987, 'acc2': 0.5958984664394725, 'acc3': 0.7954650688990962}, 'tod/loss': None}\n",
      "[train] Epoch 30: 100%|██████████| 10124/10124, Loss(agg)=0.8188, Loss(y)=0.8185, Loss(x)=0.0002\n",
      "[test_ind] Epoch 30: 100%|██████████| 6749/6749, Loss(agg)=0.9538, Loss(y)=0.9535, Loss(x)=0.0003\n",
      "[test_ood] Epoch 30: |          | 0/0\n"
     ]
    },
    {
     "name": "stderr",
     "output_type": "stream",
     "text": [
      "INFO:root:saving model state - e30\n"
     ]
    },
    {
     "name": "stdout",
     "output_type": "stream",
     "text": [
      "Epoch 30: {'trn/loss': {'agg': 0.6327484599401102, 'y': 0.632456493314101, 'x': 0.0002919663871545772}, 'trn/acc': {'acc1': 0.6514223627024891, 'acc2': 0.7251827340971948, 'acc3': 0.8253469478467009}, 'tid/loss': {'agg': 0.9452121257737824, 'y': 0.9449207771617513, 'x': 0.0002913498833304029}, 'tid/acc': {'acc1': 0.4878222699659209, 'acc2': 0.604691435768262, 'acc3': 0.8263816861757297}, 'tod/loss': None}\n",
      "[train] Epoch 31: 100%|██████████| 10124/10124, Loss(agg)=0.7962, Loss(y)=0.7959, Loss(x)=0.0003\n",
      "[test_ind] Epoch 31: 100%|██████████| 6749/6749, Loss(agg)=0.8128, Loss(y)=0.8124, Loss(x)=0.0004\n",
      "[test_ood] Epoch 31: |          | 0/0\n"
     ]
    },
    {
     "name": "stderr",
     "output_type": "stream",
     "text": [
      "INFO:root:saving model state - e31\n"
     ]
    },
    {
     "name": "stdout",
     "output_type": "stream",
     "text": [
      "Epoch 31: {'trn/loss': {'agg': 0.6308896402180407, 'y': 0.6305889642489423, 'x': 0.00030067611846826807}, 'trn/acc': {'acc1': 0.6537806203081786, 'acc2': 0.7258741604109048, 'acc3': 0.8249981479652312}, 'tid/loss': {'agg': 0.9426871069511991, 'y': 0.9423929922473679, 'x': 0.0002941151510399792}, 'tid/acc': {'acc1': 0.4408014150244481, 'acc2': 0.5942037709290265, 'acc3': 0.8065361535042228}, 'tod/loss': None}\n",
      "[train] Epoch 32: 100%|██████████| 10124/10124, Loss(agg)=0.8924, Loss(y)=0.8921, Loss(x)=0.0003\n",
      "[test_ind] Epoch 32: 100%|██████████| 6749/6749, Loss(agg)=0.6176, Loss(y)=0.6173, Loss(x)=0.0002\n",
      "[test_ood] Epoch 32: |          | 0/0\n"
     ]
    },
    {
     "name": "stderr",
     "output_type": "stream",
     "text": [
      "INFO:root:saving model state - e32\n"
     ]
    },
    {
     "name": "stdout",
     "output_type": "stream",
     "text": [
      "Epoch 32: {'trn/loss': {'agg': 0.63101991717286, 'y': 0.6307283734313257, 'x': 0.0002915445872385311}, 'trn/acc': {'acc1': 0.6499808623073884, 'acc2': 0.7234418214144607, 'acc3': 0.824751209996049}, 'tid/loss': {'agg': 0.908801782098518, 'y': 0.908499328824993, 'x': 0.00030245326887206946}, 'tid/acc': {'acc1': 0.4671432804859979, 'acc2': 0.6131371314268781, 'acc3': 0.8174035042228478}, 'tod/loss': None}\n",
      "[train] Epoch 33: 100%|██████████| 10124/10124, Loss(agg)=0.6046, Loss(y)=0.6044, Loss(x)=0.0002\n",
      "[test_ind] Epoch 33: 100%|██████████| 6749/6749, Loss(agg)=0.7780, Loss(y)=0.7778, Loss(x)=0.0003\n",
      "[test_ood] Epoch 33: |          | 0/0\n"
     ]
    },
    {
     "name": "stderr",
     "output_type": "stream",
     "text": [
      "INFO:root:saving model state - e33\n"
     ]
    },
    {
     "name": "stdout",
     "output_type": "stream",
     "text": [
      "Epoch 33: {'trn/loss': {'agg': 0.6295015200448573, 'y': 0.629209453555752, 'x': 0.0002920667499488192}, 'trn/acc': {'acc1': 0.649931474713552, 'acc2': 0.7238986566574477, 'acc3': 0.8254272026866851}, 'tid/loss': {'agg': 0.9661955021676143, 'y': 0.9658811523139273, 'x': 0.0003143510264733657}, 'tid/acc': {'acc1': 0.45955882352941174, 'acc2': 0.5921710623796118, 'acc3': 0.7888622388502}, 'tod/loss': None}\n",
      "[train] Epoch 34: 100%|██████████| 10124/10124, Loss(agg)=0.7175, Loss(y)=0.7172, Loss(x)=0.0003\n",
      "[test_ind] Epoch 34: 100%|██████████| 6749/6749, Loss(agg)=1.0560, Loss(y)=1.0558, Loss(x)=0.0002\n",
      "[test_ood] Epoch 34: |          | 0/0\n"
     ]
    },
    {
     "name": "stderr",
     "output_type": "stream",
     "text": [
      "INFO:root:saving model state - e34\n"
     ]
    },
    {
     "name": "stdout",
     "output_type": "stream",
     "text": [
      "Epoch 34: {'trn/loss': {'agg': 0.6285298718754033, 'y': 0.6282397304738477, 'x': 0.0002901416447510992}, 'trn/acc': {'acc1': 0.6478047214539707, 'acc2': 0.7221145298301067, 'acc3': 0.8239177943500593}, 'tid/loss': {'agg': 0.9878099956261986, 'y': 0.9875676343574897, 'x': 0.00024236049116143753}, 'tid/acc': {'acc1': 0.48733608682767815, 'acc2': 0.6088957623351607, 'acc3': 0.8185101496518002}, 'tod/loss': None}\n",
      "[train] Epoch 35: 100%|██████████| 10124/10124, Loss(agg)=0.6275, Loss(y)=0.6271, Loss(x)=0.0004\n",
      "[test_ind] Epoch 35: 100%|██████████| 6749/6749, Loss(agg)=1.0269, Loss(y)=1.0266, Loss(x)=0.0003\n",
      "[test_ood] Epoch 35: |          | 0/0\n"
     ]
    },
    {
     "name": "stderr",
     "output_type": "stream",
     "text": [
      "INFO:root:saving model state - e35\n"
     ]
    },
    {
     "name": "stdout",
     "output_type": "stream",
     "text": [
      "Epoch 35: {'trn/loss': {'agg': 0.6297477790809864, 'y': 0.6294536853068575, 'x': 0.0002940943452902129}, 'trn/acc': {'acc1': 0.6468570969972343, 'acc2': 0.7216546078625049, 'acc3': 0.8238622333069933}, 'tid/loss': {'agg': 0.9437513228813301, 'y': 0.9434087035708612, 'x': 0.00034262009662808744}, 'tid/acc': {'acc1': 0.47269039857756706, 'acc2': 0.6035292265520817, 'acc3': 0.8117823010816417}, 'tod/loss': None}\n",
      "[train] Epoch 36: 100%|██████████| 10124/10124, Loss(agg)=0.7219, Loss(y)=0.7217, Loss(x)=0.0003\n",
      "[test_ind] Epoch 36: 100%|██████████| 6749/6749, Loss(agg)=1.2002, Loss(y)=1.2000, Loss(x)=0.0002\n",
      "[test_ood] Epoch 36: |          | 0/0\n"
     ]
    },
    {
     "name": "stderr",
     "output_type": "stream",
     "text": [
      "INFO:root:saving model state - e36\n"
     ]
    },
    {
     "name": "stdout",
     "output_type": "stream",
     "text": [
      "Epoch 36: {'trn/loss': {'agg': 0.6287843515100756, 'y': 0.628496916061661, 'x': 0.00028743509656415}, 'trn/acc': {'acc1': 0.6499685154089293, 'acc2': 0.7249604899249309, 'acc3': 0.8242974614776768}, 'tid/loss': {'agg': 1.0265974942393294, 'y': 1.026316981021343, 'x': 0.0002805138325866117}, 'tid/acc': {'acc1': 0.4698983182693732, 'acc2': 0.5955002592976737, 'acc3': 0.8021790265224478}, 'tod/loss': None}\n",
      "[train] Epoch 37: 100%|██████████| 10124/10124, Loss(agg)=0.6442, Loss(y)=0.6439, Loss(x)=0.0003\n",
      "[test_ind] Epoch 37: 100%|██████████| 6749/6749, Loss(agg)=0.9373, Loss(y)=0.9369, Loss(x)=0.0004\n",
      "[test_ood] Epoch 37: |          | 0/0\n"
     ]
    },
    {
     "name": "stderr",
     "output_type": "stream",
     "text": [
      "INFO:root:saving model state - e37\n"
     ]
    },
    {
     "name": "stdout",
     "output_type": "stream",
     "text": [
      "Epoch 37: {'trn/loss': {'agg': 0.6261934936694221, 'y': 0.6259044253781396, 'x': 0.0002890681725213211}, 'trn/acc': {'acc1': 0.6530058524298696, 'acc2': 0.7254049782694587, 'acc3': 0.8253222540497827}, 'tid/loss': {'agg': 1.0082583403760441, 'y': 1.0079794834058962, 'x': 0.00027885774285052315}, 'tid/acc': {'acc1': 0.45224755519336196, 'acc2': 0.5893836123870203, 'acc3': 0.8068000814935546}, 'tod/loss': None}\n",
      "[train] Epoch 38: 100%|██████████| 10124/10124, Loss(agg)=0.8233, Loss(y)=0.8229, Loss(x)=0.0004\n",
      "[test_ind] Epoch 38: 100%|██████████| 6749/6749, Loss(agg)=0.6333, Loss(y)=0.6330, Loss(x)=0.0002\n",
      "[test_ood] Epoch 38: |          | 0/0\n"
     ]
    },
    {
     "name": "stderr",
     "output_type": "stream",
     "text": [
      "INFO:root:saving model state - e38\n"
     ]
    },
    {
     "name": "stdout",
     "output_type": "stream",
     "text": [
      "Epoch 38: {'trn/loss': {'agg': 0.6278234878485026, 'y': 0.627537017755125, 'x': 0.00028647013369005955}, 'trn/acc': {'acc1': 0.6479559709600948, 'acc2': 0.724170288423548, 'acc3': 0.8236832032793362}, 'tid/loss': {'agg': 0.9839165242738521, 'y': 0.9836572705242153, 'x': 0.0002592539230243699}, 'tid/acc': {'acc1': 0.4735886798044155, 'acc2': 0.5925137057341828, 'acc3': 0.8054341383908727}, 'tod/loss': None}\n",
      "[train] Epoch 39: 100%|██████████| 10124/10124, Loss(agg)=0.5511, Loss(y)=0.5508, Loss(x)=0.0003\n",
      "[test_ind] Epoch 39: 100%|██████████| 6749/6749, Loss(agg)=0.9317, Loss(y)=0.9314, Loss(x)=0.0003\n",
      "[test_ood] Epoch 39: |          | 0/0\n"
     ]
    },
    {
     "name": "stderr",
     "output_type": "stream",
     "text": [
      "INFO:root:saving model state - e39\n"
     ]
    },
    {
     "name": "stdout",
     "output_type": "stream",
     "text": [
      "Epoch 39: {'trn/loss': {'agg': 0.6266096715680322, 'y': 0.6263225641041252, 'x': 0.00028710803515154536}, 'trn/acc': {'acc1': 0.6520088403792967, 'acc2': 0.7250037040695377, 'acc3': 0.825192611615962}, 'tid/loss': {'agg': 1.0133790143870798, 'y': 1.0130954610672611, 'x': 0.00028355255238803946}, 'tid/acc': {'acc1': 0.48045080752704106, 'acc2': 0.5939676248333087, 'acc3': 0.8085920136316491}, 'tod/loss': None}\n",
      "[train] Epoch 40: 100%|██████████| 10124/10124, Loss(agg)=0.7933, Loss(y)=0.7930, Loss(x)=0.0002\n",
      "[test_ind] Epoch 40: 100%|██████████| 6749/6749, Loss(agg)=1.1124, Loss(y)=1.1121, Loss(x)=0.0003\n",
      "[test_ood] Epoch 40: |          | 0/0\n"
     ]
    },
    {
     "name": "stderr",
     "output_type": "stream",
     "text": [
      "INFO:root:saving model state - e40\n"
     ]
    },
    {
     "name": "stdout",
     "output_type": "stream",
     "text": [
      "Epoch 40: {'trn/loss': {'agg': 0.6268999565941739, 'y': 0.6266068503796371, 'x': 0.00029310587502602076}, 'trn/acc': {'acc1': 0.6453353417621494, 'acc2': 0.7223799881469775, 'acc3': 0.8232263680363493}, 'tid/loss': {'agg': 0.9740812670903695, 'y': 0.9738490988429626, 'x': 0.00023216823228789586}, 'tid/acc': {'acc1': 0.48215013335308937, 'acc2': 0.5949307304785895, 'acc3': 0.8067398873907246}, 'tod/loss': None}\n",
      "[train] Epoch 41: 100%|██████████| 10124/10124, Loss(agg)=0.6669, Loss(y)=0.6666, Loss(x)=0.0003\n",
      "[test_ind] Epoch 41: 100%|██████████| 6749/6749, Loss(agg)=1.0851, Loss(y)=1.0845, Loss(x)=0.0006\n",
      "[test_ood] Epoch 41: |          | 0/0\n"
     ]
    },
    {
     "name": "stderr",
     "output_type": "stream",
     "text": [
      "INFO:root:saving model state - e41\n"
     ]
    },
    {
     "name": "stdout",
     "output_type": "stream",
     "text": [
      "Epoch 41: {'trn/loss': {'agg': 0.6263543794933207, 'y': 0.6260470721512997, 'x': 0.00030730741230255054}, 'trn/acc': {'acc1': 0.6485949229553536, 'acc2': 0.7228831242591861, 'acc3': 0.8231368530225207}, 'tid/loss': {'agg': 0.998624093321663, 'y': 0.9983269012862797, 'x': 0.0002971919073248143}, 'tid/acc': {'acc1': 0.4792654467328493, 'acc2': 0.6057008445695659, 'acc3': 0.8049201733590161}, 'tod/loss': None}\n",
      "[train] Epoch 42: 100%|██████████| 10124/10124, Loss(agg)=0.7431, Loss(y)=0.7428, Loss(x)=0.0003\n",
      "[test_ind] Epoch 42: 100%|██████████| 6749/6749, Loss(agg)=1.4335, Loss(y)=1.4332, Loss(x)=0.0002\n",
      "[test_ood] Epoch 42: |          | 0/0\n"
     ]
    },
    {
     "name": "stderr",
     "output_type": "stream",
     "text": [
      "INFO:root:saving model state - e42\n"
     ]
    },
    {
     "name": "stdout",
     "output_type": "stream",
     "text": [
      "Epoch 42: {'trn/loss': {'agg': 0.6241018201100501, 'y': 0.6238099648394588, 'x': 0.0002918557169817776}, 'trn/acc': {'acc1': 0.6475454365863295, 'acc2': 0.7218737653101541, 'acc3': 0.8233930511655472}, 'tid/loss': {'agg': 0.9494973367665464, 'y': 0.9492403025591103, 'x': 0.0002570338665559758}, 'tid/acc': {'acc1': 0.46404559934805156, 'acc2': 0.6046543932434435, 'acc3': 0.818135094088013}, 'tod/loss': None}\n",
      "[train] Epoch 43: 100%|██████████| 10124/10124, Loss(agg)=0.9364, Loss(y)=0.9362, Loss(x)=0.0002\n",
      "[test_ind] Epoch 43:  53%|█████▎    | 3551/6749, Loss(agg)=0.8258, Loss(y)=0.8255, Loss(x)=0.0003"
     ]
    }
   ],
   "source": [
    "assert config.train_loader\n",
    "assert config.test_loader\n",
    "\n",
    "model, optim, step = get_model_optimizer_and_step(config)\n",
    "\n",
    "# load saved model and optimizer, if present\n",
    "load_model_state(model, config)\n",
    "model = model.float().to(config.device)\n",
    "\n",
    "wandb.watch(model, log_freq=100)\n",
    "\n",
    "# run train / test loops\n",
    "logging.info(\"Started Train/Test\")\n",
    "\n",
    "artifact = wandb.Artifact(f\"{config.run_name}-{config.model_name}\", type=\"model\")\n",
    "\n",
    "# loop over epochs\n",
    "for epoch in range(1, config.train_epochs + 1):\n",
    "    epoch_stats: dict = {}\n",
    "\n",
    "    # train\n",
    "    trn_stats = step(\n",
    "        prefix=\"train\",\n",
    "        model=model,\n",
    "        epoch=epoch,\n",
    "        config=config,\n",
    "        optim=optim,\n",
    "    )\n",
    "    epoch_stats[\"trn\"] = trn_stats\n",
    "\n",
    "    # test (InD)\n",
    "    tid_stats = step(\n",
    "        prefix=\"test_ind\",\n",
    "        model=model,\n",
    "        epoch=epoch,\n",
    "        config=config,\n",
    "    )\n",
    "    epoch_stats[\"tid\"] = tid_stats\n",
    "\n",
    "    # test (OoD)\n",
    "    tod_stats = step(\n",
    "        prefix=\"test_ood\",\n",
    "        model=model,\n",
    "        epoch=epoch,\n",
    "        config=config,\n",
    "    )\n",
    "    epoch_stats[\"tod\"] = tod_stats\n",
    "\n",
    "    wandb.log(epoch_stats_to_wandb(epoch_stats, config, epoch), step=epoch)\n",
    "\n",
    "    # save model and optimizer states\n",
    "    save_model_state(model, config, epoch)\n",
    "    fp = config.experiment_path\n",
    "    model_name = config.model_name\n",
    "    artifact.add_file(os.path.join(fp, f\"{model_name}_model_e{epoch}.pth\"))\n",
    "\n",
    "artifact.save()"
   ]
  }
 ],
 "metadata": {
  "kernelspec": {
   "display_name": "qpm-amrb-new-py3.10",
   "language": "python",
   "name": "python3"
  },
  "language_info": {
   "codemirror_mode": {
    "name": "ipython",
    "version": 3
   },
   "file_extension": ".py",
   "mimetype": "text/x-python",
   "name": "python",
   "nbconvert_exporter": "python",
   "pygments_lexer": "ipython3",
   "version": "3.10.12"
  },
  "orig_nbformat": 4
 },
 "nbformat": 4,
 "nbformat_minor": 2
}
