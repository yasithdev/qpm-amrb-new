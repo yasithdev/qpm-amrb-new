{
 "cells": [
  {
   "cell_type": "code",
   "execution_count": 1,
   "id": "581f63b6-c14d-4b87-aa85-8c43752d92ee",
   "metadata": {
    "tags": []
   },
   "outputs": [],
   "source": [
    "import torch\n",
    "import sys\n",
    "sys.path.append(\"../\")\n",
    "from config import *\n",
    "from models.common import load_saved_state\n",
    "from datasets import get_dataset_chw, get_dataset_info, get_dataset_loaders\n",
    "import matplotlib.pyplot as plt\n",
    "from models.common import (\n",
    "    Functional,\n",
    "    edl_loss,\n",
    "    edl_probs,\n",
    "    gather_samples,\n",
    "    margin_loss,\n",
    ")"
   ]
  },
  {
   "cell_type": "code",
   "execution_count": 6,
   "id": "d2e521b7-b4e0-4c1f-8b3c-a7179ec1a8b1",
   "metadata": {
    "tags": []
   },
   "outputs": [],
   "source": [
    "os.environ[\"CUDA_VISIBLE_DEVICES\"] = \"1\"\n",
    "\n",
    "os.environ[\"MODEL_NAME\"] = \"rescaps\"\n",
    "os.environ[\"MANIFOLD_D\"] = \"50\"\n",
    "os.environ[\"CV_MODE\"] = \"k-fold\"\n",
    "os.environ[\"CV_FOLDS\"] = \"10\"\n",
    "os.environ[\"DATASET_NAME\"] = \"AMRB2_species.4\""
   ]
  },
  {
   "cell_type": "code",
   "execution_count": 7,
   "id": "a79b0f03-114f-45d8-b060-26ab7b1d0aca",
   "metadata": {
    "tags": []
   },
   "outputs": [
    {
     "data": {
      "text/plain": [
       "0"
      ]
     },
     "execution_count": 7,
     "metadata": {},
     "output_type": "execute_result"
    }
   ],
   "source": [
    "torch.cuda.device_count()"
   ]
  },
  {
   "cell_type": "code",
   "execution_count": 8,
   "id": "53bc7436-8ade-455c-8531-5cba3be7c990",
   "metadata": {
    "tags": []
   },
   "outputs": [
    {
     "name": "stderr",
     "output_type": "stream",
     "text": [
      "INFO:root:LOG_LEVEL=INFO\n",
      "INFO:root:DATA_DIR=/n/holyscratch01/wadduwage_lab/yasith/datasets\n",
      "INFO:root:DATASET_NAME=AMRB2_species.4\n",
      "INFO:root:CV_FOLDS=10\n",
      "INFO:root:CV_MODE=k-fold\n",
      "INFO:root:MODEL_NAME=rescaps\n",
      "INFO:root:EXPERIMENT_BASE=/n/home12/ramith/experiments/ood_flows\n",
      "INFO:root:MANIFOLD_D=50\n",
      "INFO:root:BATCH_SIZE=128\n",
      "INFO:root:OPTIM_LR=0.001\n",
      "INFO:root:OPTIM_M=0.5\n",
      "INFO:root:TRAIN_EPOCHS=100\n",
      "INFO:root:EXC_RESUME=1\n",
      "INFO:root:Using device: cpu\n",
      "INFO:root:Dataset info: /n/holyscratch01/wadduwage_lab/yasith/datasets/AMRB2/info.json\n"
     ]
    }
   ],
   "source": [
    "config = load_config()\n",
    "\n",
    "config.image_chw = get_dataset_chw(\n",
    "        dataset_name=config.dataset_name,\n",
    ")\n",
    "\n",
    "config.dataset_info = get_dataset_info(\n",
    "    dataset_name=config.dataset_name,\n",
    "    data_root=config.data_dir,\n",
    "    cv_mode=config.cv_mode,\n",
    ")"
   ]
  },
  {
   "cell_type": "code",
   "execution_count": null,
   "id": "5ac42a61-362e-460e-8af0-cf1f32cc570e",
   "metadata": {
    "tags": []
   },
   "outputs": [],
   "source": []
  },
  {
   "cell_type": "code",
   "execution_count": 9,
   "id": "aa02e607-72fe-42b8-9202-dba632e2358c",
   "metadata": {
    "tags": []
   },
   "outputs": [
    {
     "name": "stderr",
     "output_type": "stream",
     "text": [
      "INFO:root:Dataset file: /n/holyscratch01/wadduwage_lab/yasith/datasets/AMRB2/proc_data.npz\n",
      "INFO:root:Dataset info: /n/holyscratch01/wadduwage_lab/yasith/datasets/AMRB2/info.json\n",
      "INFO:root:[preparation] selected labels for k-fold crossval: ['Acinetobacter', 'E_coli', 'K_pneumoniae', 'S_aureus']\n",
      "INFO:root:Preparing dataset for reading\n",
      "INFO:root:[preparation] gathered data and filtered outliers\n",
      "INFO:root:[preparation] selected the k-th crossval fold\n",
      "INFO:root:[preparation] balanced class distribution\n",
      "INFO:root:[preparation] generated data_x\n",
      "INFO:root:[preparation] generated data_y\n",
      "INFO:root:Prepared dataset in 29.87164306640625 s\n",
      "INFO:root:Dataset file: /n/holyscratch01/wadduwage_lab/yasith/datasets/AMRB2/proc_data.npz\n",
      "INFO:root:Dataset info: /n/holyscratch01/wadduwage_lab/yasith/datasets/AMRB2/info.json\n",
      "INFO:root:[preparation] selected labels for k-fold crossval: ['Acinetobacter', 'E_coli', 'K_pneumoniae', 'S_aureus']\n",
      "INFO:root:Preparing dataset for reading\n",
      "INFO:root:[preparation] gathered data and filtered outliers\n",
      "INFO:root:[preparation] selected the k-th crossval fold\n",
      "INFO:root:[preparation] balanced class distribution\n",
      "INFO:root:[preparation] generated data_x\n",
      "INFO:root:[preparation] generated data_y\n",
      "INFO:root:Prepared dataset in 27.828173398971558 s\n"
     ]
    }
   ],
   "source": [
    "train_loader, test_loader = get_dataset_loaders(\n",
    "        dataset_name = config.dataset_name,\n",
    "        batch_size_train = 32,\n",
    "        batch_size_test = 32,\n",
    "        data_root = \"/n/holyscratch01/wadduwage_lab/yasith/datasets\",\n",
    "        cv_k = config.cv_k,\n",
    "        cv_folds = config.cv_folds,\n",
    "        cv_mode = config.cv_mode,\n",
    "    )"
   ]
  },
  {
   "cell_type": "code",
   "execution_count": 13,
   "id": "43d7126d-e32d-40a2-9bf0-26b9ce86cc67",
   "metadata": {
    "tags": []
   },
   "outputs": [],
   "source": [
    "PATH = \"/n/home12/ramith/experiments/ood_flows/AMRB2_species/k-fold-N10-K4-M50_1-17-53.097923/rescaps_model_e100.pth\"\n",
    "\n",
    "device = torch.device('cpu')\n",
    "weights = torch.load(PATH, map_location=device)"
   ]
  },
  {
   "cell_type": "code",
   "execution_count": null,
   "id": "a35ee282-f42c-436b-9511-783c60c263ed",
   "metadata": {
    "tags": []
   },
   "outputs": [],
   "source": []
  },
  {
   "cell_type": "code",
   "execution_count": 14,
   "id": "732e3c25-d79e-4b20-83c2-4fb1eab064c6",
   "metadata": {
    "tags": []
   },
   "outputs": [],
   "source": [
    "from models import get_model_optimizer_and_step"
   ]
  },
  {
   "cell_type": "code",
   "execution_count": 15,
   "id": "1ad641ac-e208-4b74-9d77-e1a2bd6d9af2",
   "metadata": {
    "tags": []
   },
   "outputs": [],
   "source": [
    "model, _, _  = get_model_optimizer_and_step(config)"
   ]
  },
  {
   "cell_type": "code",
   "execution_count": null,
   "id": "ed506d61-0839-4e08-8617-7212e40733d0",
   "metadata": {
    "tags": []
   },
   "outputs": [],
   "source": []
  },
  {
   "cell_type": "code",
   "execution_count": 16,
   "id": "bccb76ef-ebb1-4eae-b571-e62b8a3e5d28",
   "metadata": {
    "tags": []
   },
   "outputs": [
    {
     "data": {
      "text/plain": [
       "ModuleDict(\n",
       "  (encoder): Sequential(\n",
       "    (0): ResidualBlock(\n",
       "      (conv1): Sequential(\n",
       "        (0): Conv2d(1, 4, kernel_size=(1, 1), stride=(1, 1), bias=False)\n",
       "        (1): GroupNorm(1, 4, eps=1e-05, affine=True)\n",
       "      )\n",
       "      (conv2): Sequential(\n",
       "        (0): Conv2d(4, 4, kernel_size=(3, 3), stride=(2, 2), padding=(1, 1), bias=False)\n",
       "        (1): GroupNorm(1, 4, eps=1e-05, affine=True)\n",
       "      )\n",
       "      (conv3): Sequential(\n",
       "        (0): Conv2d(4, 4, kernel_size=(1, 1), stride=(1, 1), bias=False)\n",
       "        (1): GroupNorm(1, 4, eps=1e-05, affine=True)\n",
       "      )\n",
       "      (convI): Sequential(\n",
       "        (0): Conv2d(1, 4, kernel_size=(2, 2), stride=(2, 2), bias=False)\n",
       "        (1): GroupNorm(1, 4, eps=1e-05, affine=True)\n",
       "      )\n",
       "    )\n",
       "    (1): ResidualBlock(\n",
       "      (conv1): Sequential(\n",
       "        (0): Conv2d(4, 8, kernel_size=(1, 1), stride=(1, 1), bias=False)\n",
       "        (1): GroupNorm(1, 8, eps=1e-05, affine=True)\n",
       "      )\n",
       "      (conv2): Sequential(\n",
       "        (0): Conv2d(8, 8, kernel_size=(3, 3), stride=(2, 2), padding=(1, 1), bias=False)\n",
       "        (1): GroupNorm(1, 8, eps=1e-05, affine=True)\n",
       "      )\n",
       "      (conv3): Sequential(\n",
       "        (0): Conv2d(8, 8, kernel_size=(1, 1), stride=(1, 1), bias=False)\n",
       "        (1): GroupNorm(1, 8, eps=1e-05, affine=True)\n",
       "      )\n",
       "      (convI): Sequential(\n",
       "        (0): Conv2d(4, 8, kernel_size=(2, 2), stride=(2, 2), bias=False)\n",
       "        (1): GroupNorm(1, 8, eps=1e-05, affine=True)\n",
       "      )\n",
       "    )\n",
       "    (2): ResidualBlock(\n",
       "      (conv1): Sequential(\n",
       "        (0): Conv2d(8, 16, kernel_size=(1, 1), stride=(1, 1), bias=False)\n",
       "        (1): GroupNorm(1, 16, eps=1e-05, affine=True)\n",
       "      )\n",
       "      (conv2): Sequential(\n",
       "        (0): Conv2d(16, 16, kernel_size=(3, 3), stride=(2, 2), padding=(1, 1), bias=False)\n",
       "        (1): GroupNorm(1, 16, eps=1e-05, affine=True)\n",
       "      )\n",
       "      (conv3): Sequential(\n",
       "        (0): Conv2d(16, 16, kernel_size=(1, 1), stride=(1, 1), bias=False)\n",
       "        (1): GroupNorm(1, 16, eps=1e-05, affine=True)\n",
       "      )\n",
       "      (convI): Sequential(\n",
       "        (0): Conv2d(8, 16, kernel_size=(2, 2), stride=(2, 2), bias=False)\n",
       "        (1): GroupNorm(1, 16, eps=1e-05, affine=True)\n",
       "      )\n",
       "    )\n",
       "    (3): Functional()\n",
       "    (4): FlattenCaps()\n",
       "    (5): LinearCapsDR()\n",
       "  )\n",
       "  (classifier): MaskCaps()\n",
       "  (decoder): Sequential(\n",
       "    (0): ConvTranspose2d(50, 50, kernel_size=(5, 5), stride=(1, 1), groups=50)\n",
       "    (1): ResidualBlock(\n",
       "      (conv1): Sequential(\n",
       "        (0): ConvTranspose2d(50, 25, kernel_size=(1, 1), stride=(1, 1), bias=False)\n",
       "        (1): GroupNorm(1, 25, eps=1e-05, affine=True)\n",
       "      )\n",
       "      (conv2): Sequential(\n",
       "        (0): ConvTranspose2d(25, 25, kernel_size=(3, 3), stride=(2, 2), padding=(1, 1), output_padding=(1, 1), bias=False)\n",
       "        (1): GroupNorm(1, 25, eps=1e-05, affine=True)\n",
       "      )\n",
       "      (conv3): Sequential(\n",
       "        (0): ConvTranspose2d(25, 25, kernel_size=(1, 1), stride=(1, 1), bias=False)\n",
       "        (1): GroupNorm(1, 25, eps=1e-05, affine=True)\n",
       "      )\n",
       "      (convI): Sequential(\n",
       "        (0): ConvTranspose2d(50, 25, kernel_size=(2, 2), stride=(2, 2), bias=False)\n",
       "        (1): GroupNorm(1, 25, eps=1e-05, affine=True)\n",
       "      )\n",
       "    )\n",
       "    (2): ResidualBlock(\n",
       "      (conv1): Sequential(\n",
       "        (0): ConvTranspose2d(25, 25, kernel_size=(1, 1), stride=(1, 1), bias=False)\n",
       "        (1): GroupNorm(1, 25, eps=1e-05, affine=True)\n",
       "      )\n",
       "      (conv2): Sequential(\n",
       "        (0): ConvTranspose2d(25, 25, kernel_size=(3, 3), stride=(1, 1), padding=(1, 1), bias=False)\n",
       "        (1): GroupNorm(1, 25, eps=1e-05, affine=True)\n",
       "      )\n",
       "      (conv3): Sequential(\n",
       "        (0): ConvTranspose2d(25, 25, kernel_size=(1, 1), stride=(1, 1), bias=False)\n",
       "        (1): GroupNorm(1, 25, eps=1e-05, affine=True)\n",
       "      )\n",
       "    )\n",
       "    (3): ResidualBlock(\n",
       "      (conv1): Sequential(\n",
       "        (0): ConvTranspose2d(25, 12, kernel_size=(1, 1), stride=(1, 1), bias=False)\n",
       "        (1): GroupNorm(1, 12, eps=1e-05, affine=True)\n",
       "      )\n",
       "      (conv2): Sequential(\n",
       "        (0): ConvTranspose2d(12, 12, kernel_size=(3, 3), stride=(2, 2), padding=(1, 1), output_padding=(1, 1), bias=False)\n",
       "        (1): GroupNorm(1, 12, eps=1e-05, affine=True)\n",
       "      )\n",
       "      (conv3): Sequential(\n",
       "        (0): ConvTranspose2d(12, 12, kernel_size=(1, 1), stride=(1, 1), bias=False)\n",
       "        (1): GroupNorm(1, 12, eps=1e-05, affine=True)\n",
       "      )\n",
       "      (convI): Sequential(\n",
       "        (0): ConvTranspose2d(25, 12, kernel_size=(2, 2), stride=(2, 2), bias=False)\n",
       "        (1): GroupNorm(1, 12, eps=1e-05, affine=True)\n",
       "      )\n",
       "    )\n",
       "    (4): ResidualBlock(\n",
       "      (conv1): Sequential(\n",
       "        (0): ConvTranspose2d(12, 12, kernel_size=(1, 1), stride=(1, 1), bias=False)\n",
       "        (1): GroupNorm(1, 12, eps=1e-05, affine=True)\n",
       "      )\n",
       "      (conv2): Sequential(\n",
       "        (0): ConvTranspose2d(12, 12, kernel_size=(3, 3), stride=(1, 1), padding=(1, 1), bias=False)\n",
       "        (1): GroupNorm(1, 12, eps=1e-05, affine=True)\n",
       "      )\n",
       "      (conv3): Sequential(\n",
       "        (0): ConvTranspose2d(12, 12, kernel_size=(1, 1), stride=(1, 1), bias=False)\n",
       "        (1): GroupNorm(1, 12, eps=1e-05, affine=True)\n",
       "      )\n",
       "    )\n",
       "    (5): ConvTranspose2d(12, 1, kernel_size=(7, 7), stride=(2, 2), padding=(3, 3), output_padding=(1, 1))\n",
       "  )\n",
       ")"
      ]
     },
     "execution_count": 16,
     "metadata": {},
     "output_type": "execute_result"
    }
   ],
   "source": [
    "model.load_state_dict(weights)\n",
    "\n",
    "model.to(device)"
   ]
  },
  {
   "cell_type": "code",
   "execution_count": 17,
   "id": "32082c60-f1b6-4f2f-864e-b29dc66bf5d9",
   "metadata": {
    "tags": []
   },
   "outputs": [],
   "source": [
    "encoder = model[\"encoder\"]\n",
    "classifier = model[\"classifier\"]\n",
    "decoder = model[\"decoder\"]"
   ]
  },
  {
   "cell_type": "code",
   "execution_count": null,
   "id": "4efd5074-0d3d-420c-b47f-59873d23b0a1",
   "metadata": {
    "tags": []
   },
   "outputs": [],
   "source": []
  },
  {
   "cell_type": "code",
   "execution_count": null,
   "id": "931d3f21-a864-4e7e-8e7f-f8da20248452",
   "metadata": {
    "tags": []
   },
   "outputs": [],
   "source": []
  },
  {
   "cell_type": "code",
   "execution_count": null,
   "id": "51e32411-7409-46ee-84d5-a6e6bb0993f8",
   "metadata": {
    "tags": []
   },
   "outputs": [],
   "source": []
  },
  {
   "cell_type": "code",
   "execution_count": null,
   "id": "597dbd97-0d4f-4caa-a6c6-ec2fce60d0ac",
   "metadata": {
    "tags": []
   },
   "outputs": [],
   "source": []
  },
  {
   "cell_type": "code",
   "execution_count": 18,
   "id": "95d01cb6-10d9-479a-bdf1-a8850cb8d695",
   "metadata": {
    "tags": []
   },
   "outputs": [],
   "source": [
    "# y_z, sel_z_x = classifier(z_x)"
   ]
  },
  {
   "cell_type": "code",
   "execution_count": 19,
   "id": "9a2b7fba-7525-4504-ac67-e959c291591f",
   "metadata": {
    "tags": []
   },
   "outputs": [],
   "source": [
    "# (B, D, K) = z_x.size()\n",
    "\n",
    "# logits = torch.as_tensor(z_x.norm(p=2, dim=1, keepdim=True))\n",
    "# print(logits.shape)\n",
    "\n",
    "# index = logits.argmax(dim=2, keepdim=True).repeat(1, D, 1)\n",
    "# print(index.shape)"
   ]
  },
  {
   "cell_type": "code",
   "execution_count": null,
   "id": "0deb0c3e-aae6-4c2f-aafc-752751ab9c16",
   "metadata": {},
   "outputs": [],
   "source": []
  },
  {
   "cell_type": "code",
   "execution_count": 24,
   "id": "8b641152-cb89-41e5-ad4b-942ea047d624",
   "metadata": {
    "tags": []
   },
   "outputs": [],
   "source": [
    "mode = 'train'\n",
    "filter_only_correct = False\n",
    "\n",
    "\n",
    "if(mode == 'train'):\n",
    "    loader = train_loader\n",
    "else:\n",
    "    loader = test_loader"
   ]
  },
  {
   "cell_type": "code",
   "execution_count": 25,
   "id": "18ec224e-3500-41a9-b7f5-04fb3ebcdd8e",
   "metadata": {
    "tags": []
   },
   "outputs": [],
   "source": [
    "tensors = [] \n",
    "ys = []\n",
    "\n",
    "for idx, (x,y) in enumerate(loader):\n",
    "\n",
    "    z_x = encoder(x.float())\n",
    "    y_z, sel_z_x = classifier(z_x)\n",
    "    pY, uY = edl_probs(y_z.detach())\n",
    "    \n",
    "    \n",
    "    pos_to_extract = y.argmax(dim = 1).unsqueeze(-1).unsqueeze(-1).expand(-1, 50, -1)\n",
    "    \n",
    "    target_prototypes = z_x.gather(dim = 2, index = pos_to_extract).detach().cpu()\n",
    "    \n",
    "    \n",
    "    #append\n",
    "    if(filter_only_correct):\n",
    "        correct_indices = pY.argmax(dim = 1) == y.argmax(dim = 1)\n",
    "        \n",
    "        tensors.append(target_prototypes[correct_indices])\n",
    "        ys.append(y[correct_indices])\n",
    "    else:\n",
    "        tensors.append(target_prototypes)\n",
    "        ys.append(y)\n",
    "            \n",
    "        \n",
    "    \n",
    "    if(idx > 2):\n",
    "        break\n",
    "    \n",
    "all_target_prototypes = torch.cat(tensors, dim=0)\n",
    "all_y = torch.cat(ys, dim = 0 )"
   ]
  },
  {
   "cell_type": "code",
   "execution_count": null,
   "id": "bada1d3e-96f8-4f9c-8357-fa53d8c7603e",
   "metadata": {
    "tags": []
   },
   "outputs": [],
   "source": []
  },
  {
   "cell_type": "code",
   "execution_count": null,
   "id": "f00df03e-4f7d-4595-a5ed-cc85cb52d85e",
   "metadata": {
    "tags": []
   },
   "outputs": [],
   "source": []
  },
  {
   "cell_type": "code",
   "execution_count": null,
   "id": "a50afaae-4966-4325-82ce-2c9fa019a3c7",
   "metadata": {
    "tags": []
   },
   "outputs": [],
   "source": []
  },
  {
   "cell_type": "code",
   "execution_count": null,
   "id": "704a2332-923f-4015-9903-bdb554f548ac",
   "metadata": {
    "tags": []
   },
   "outputs": [],
   "source": []
  },
  {
   "cell_type": "code",
   "execution_count": 26,
   "id": "328a319e-e5f3-4c61-9a41-e29a91248f51",
   "metadata": {
    "tags": []
   },
   "outputs": [],
   "source": [
    "# plt.imshow(x[example][0])"
   ]
  },
  {
   "cell_type": "code",
   "execution_count": 27,
   "id": "886f7907-b4e1-4109-a9e4-9c791d3ebb7b",
   "metadata": {
    "tags": []
   },
   "outputs": [
    {
     "data": {
      "image/png": "[encoded data removed]",
      "text/plain": [
       "<Figure size 500x500 with 2 Axes>"
      ]
     },
     "metadata": {},
     "output_type": "display_data"
    },
    {
     "data": {
      "image/png": "[encoded data removed]",
      "text/plain": [
       "<Figure size 500x500 with 2 Axes>"
      ]
     },
     "metadata": {},
     "output_type": "display_data"
    },
    {
     "data": {
      "image/png": "[encoded data removed]",
      "text/plain": [
       "<Figure size 500x500 with 2 Axes>"
      ]
     },
     "metadata": {},
     "output_type": "display_data"
    },
    {
     "data": {
      "image/png": "[encoded data removed]",
      "text/plain": [
       "<Figure size 500x500 with 2 Axes>"
      ]
     },
     "metadata": {},
     "output_type": "display_data"
    }
   ],
   "source": [
    "class_means = []\n",
    "\n",
    "for i in range(0,4):\n",
    "    mean_vector = all_target_prototypes[all_y.argmax(dim = 1) == i].mean(axis = 0)\n",
    "    \n",
    "    class_means.append(mean_vector)\n",
    "    \n",
    "    plt.figure(figsize=(5,5))\n",
    "    plt.imshow(all_target_prototypes[all_y.argmax(dim = 1) == i].detach().cpu())\n",
    "    plt.savefig(f\"mode_{mode}_class_{i}_only_correct_{filter_only_correct}.png\")\n",
    "    \n",
    "    plt.colorbar()\n",
    "    \n",
    "class_reps = torch.cat(class_means, dim=1).T"
   ]
  },
  {
   "cell_type": "code",
   "execution_count": null,
   "id": "95e42a9f-60c0-44f3-9df3-ae8ff08b6904",
   "metadata": {
    "tags": []
   },
   "outputs": [],
   "source": []
  },
  {
   "cell_type": "code",
   "execution_count": 28,
   "id": "c74967ec-cc3d-41f8-857c-f5675856aaf8",
   "metadata": {
    "tags": []
   },
   "outputs": [
    {
     "data": {
      "image/png": "[encoded data removed]",
      "text/plain": [
       "<Figure size 1000x1000 with 1 Axes>"
      ]
     },
     "metadata": {},
     "output_type": "display_data"
    }
   ],
   "source": [
    "plt.figure(figsize=(10,10))\n",
    "plt.imshow(class_reps)\n",
    "plt.savefig(\"class_reps.png\")"
   ]
  },
  {
   "cell_type": "code",
   "execution_count": 29,
   "id": "597305ae-d495-4afc-8e36-f965b4905c83",
   "metadata": {
    "tags": []
   },
   "outputs": [],
   "source": [
    "pos_variance = torch.var(class_reps, dim = 0).reshape(50,1)\n"
   ]
  },
  {
   "cell_type": "code",
   "execution_count": 30,
   "id": "3d811fb3-b68b-4559-afb8-d14c96c13554",
   "metadata": {
    "tags": []
   },
   "outputs": [
    {
     "data": {
      "text/plain": [
       "50"
      ]
     },
     "execution_count": 30,
     "metadata": {},
     "output_type": "execute_result"
    }
   ],
   "source": [
    "pos_variance.shape[0]"
   ]
  },
  {
   "cell_type": "code",
   "execution_count": 31,
   "id": "ea94f50f-7b6f-4975-a0b2-7c066c57e2ef",
   "metadata": {
    "tags": []
   },
   "outputs": [
    {
     "name": "stderr",
     "output_type": "stream",
     "text": [
      "/n/home12/ramith/.conda/envs/ood/lib/python3.9/site-packages/numpy/lib/stride_tricks.py:538: FutureWarning: The input object of type 'Tensor' is an array-like implementing one of the corresponding protocols (`__array__`, `__array_interface__` or `__array_struct__`); but not a sequence (or 0-D). In the future, this object will be coerced as if it was first converted using `np.array(obj)`. To retain the old behaviour, you have to either modify the type 'Tensor', or assign to an empty array created with `np.empty(correct_shape, dtype=object)`.\n",
      "  args = [np.array(_m, copy=False, subok=subok) for _m in args]\n",
      "/n/home12/ramith/.conda/envs/ood/lib/python3.9/site-packages/numpy/lib/stride_tricks.py:538: VisibleDeprecationWarning: Creating an ndarray from ragged nested sequences (which is a list-or-tuple of lists-or-tuples-or ndarrays with different lengths or shapes) is deprecated. If you meant to do this, you must specify 'dtype=object' when creating the ndarray.\n",
      "  args = [np.array(_m, copy=False, subok=subok) for _m in args]\n",
      "/n/home12/ramith/.conda/envs/ood/lib/python3.9/site-packages/numpy/core/fromnumeric.py:43: VisibleDeprecationWarning: Creating an ndarray from ragged nested sequences (which is a list-or-tuple of lists-or-tuples-or ndarrays with different lengths or shapes) is deprecated. If you meant to do this, you must specify 'dtype=object' when creating the ndarray.\n",
      "  result = getattr(asarray(obj), method)(*args, **kwds)\n"
     ]
    },
    {
     "data": {
      "image/png": "[encoded data removed]",
      "text/plain": [
       "<Figure size 2400x400 with 1 Axes>"
      ]
     },
     "metadata": {},
     "output_type": "display_data"
    }
   ],
   "source": [
    "plt.figure(figsize=(24,4))\n",
    "plt.bar(range(pos_variance.shape[0]),pos_variance)\n",
    "\n",
    "plt.xlabel('Position')\n",
    "plt.ylabel('Variance')\n",
    "plt.savefig(\"varience_plot.png\")"
   ]
  },
  {
   "cell_type": "code",
   "execution_count": 35,
   "id": "ff9a3bcc-c70d-4c51-bf9c-20119e3dc88b",
   "metadata": {
    "tags": []
   },
   "outputs": [
    {
     "data": {
      "text/plain": [
       "<matplotlib.image.AxesImage at 0x7f80fe13b490>"
      ]
     },
     "execution_count": 35,
     "metadata": {},
     "output_type": "execute_result"
    },
    {
     "data": {
      "image/png": "[encoded data removed]",
      "text/plain": [
       "<Figure size 640x480 with 1 Axes>"
      ]
     },
     "metadata": {},
     "output_type": "display_data"
    }
   ],
   "source": [
    "plt.imshow(y)"
   ]
  },
  {
   "cell_type": "code",
   "execution_count": null,
   "id": "bfe6f925-9f10-41f8-bf80-91c65e5d9a8a",
   "metadata": {},
   "outputs": [],
   "source": []
  },
  {
   "cell_type": "code",
   "execution_count": 16,
   "id": "bd8b6be9-30ab-4a3c-bb6c-c026ffdd1f7b",
   "metadata": {
    "tags": []
   },
   "outputs": [],
   "source": [
    "# pY, uY = edl_probs(y_z.detach())\n",
    "# pY.argmax(dim = 1) == y.argmax(dim = 1)"
   ]
  },
  {
   "cell_type": "code",
   "execution_count": 17,
   "id": "76a2907f-6328-4768-b02f-028d9cbb7029",
   "metadata": {
    "tags": []
   },
   "outputs": [
    {
     "data": {
      "text/plain": [
       "<matplotlib.colorbar.Colorbar at 0x7f0c680b9940>"
      ]
     },
     "execution_count": 17,
     "metadata": {},
     "output_type": "execute_result"
    },
    {
     "data": {
      "image/png": "[encoded data removed]",
      "text/plain": [
       "<Figure size 640x480 with 2 Axes>"
      ]
     },
     "metadata": {},
     "output_type": "display_data"
    }
   ],
   "source": [
    "plt.imshow(z_x[0].detach().cpu())\n",
    "plt.colorbar()"
   ]
  },
  {
   "cell_type": "code",
   "execution_count": 27,
   "id": "1b0b974b-b954-43ec-b369-a5e0bb928a22",
   "metadata": {
    "tags": []
   },
   "outputs": [
    {
     "data": {
      "text/plain": [
       "torch.Size([32, 50, 4])"
      ]
     },
     "execution_count": 27,
     "metadata": {},
     "output_type": "execute_result"
    }
   ],
   "source": [
    "z_x.shape"
   ]
  },
  {
   "cell_type": "code",
   "execution_count": 53,
   "id": "2d2e0b86-c693-42c8-a650-0a138a3c170a",
   "metadata": {
    "tags": []
   },
   "outputs": [],
   "source": []
  },
  {
   "cell_type": "code",
   "execution_count": null,
   "id": "2c662a42-b416-4d3d-a624-0303cb6e5b57",
   "metadata": {
    "tags": []
   },
   "outputs": [],
   "source": []
  },
  {
   "cell_type": "code",
   "execution_count": 92,
   "id": "1d1c73cc-901f-4f38-a1df-c3144f8fcb77",
   "metadata": {
    "tags": []
   },
   "outputs": [],
   "source": []
  },
  {
   "cell_type": "code",
   "execution_count": null,
   "id": "2886306a-e152-450a-967e-b74e9b28a72c",
   "metadata": {
    "tags": []
   },
   "outputs": [],
   "source": []
  },
  {
   "cell_type": "code",
   "execution_count": 94,
   "id": "5891bddc-1b26-45dd-b61a-33feea57be9c",
   "metadata": {
    "tags": []
   },
   "outputs": [],
   "source": []
  },
  {
   "cell_type": "code",
   "execution_count": 95,
   "id": "1f34e21d-4dfc-49db-8cf7-384ef400f179",
   "metadata": {
    "tags": []
   },
   "outputs": [
    {
     "data": {
      "text/plain": [
       "<matplotlib.colorbar.Colorbar at 0x7f0b01e55580>"
      ]
     },
     "execution_count": 95,
     "metadata": {},
     "output_type": "execute_result"
    },
    {
     "data": {
      "image/png": "[encoded data removed]",
      "text/plain": [
       "<Figure size 640x480 with 2 Axes>"
      ]
     },
     "metadata": {},
     "output_type": "display_data"
    }
   ],
   "source": []
  },
  {
   "cell_type": "code",
   "execution_count": null,
   "id": "15f284a5-f54a-42ff-bd63-982ef6b5c147",
   "metadata": {},
   "outputs": [],
   "source": []
  },
  {
   "cell_type": "code",
   "execution_count": 79,
   "id": "ec883ce0-2c1b-4448-9329-d43d2e59abbd",
   "metadata": {
    "tags": []
   },
   "outputs": [],
   "source": []
  },
  {
   "cell_type": "code",
   "execution_count": 91,
   "id": "d8e2d580-8aa6-4a8c-8922-77d424cf3ca2",
   "metadata": {
    "tags": []
   },
   "outputs": [
    {
     "data": {
      "text/plain": [
       "torch.Size([32, 50, 1])"
      ]
     },
     "execution_count": 91,
     "metadata": {},
     "output_type": "execute_result"
    }
   ],
   "source": [
    "target_prototypes.shape"
   ]
  },
  {
   "cell_type": "code",
   "execution_count": null,
   "id": "e121335f-f369-4ade-a3c1-80ceee443e42",
   "metadata": {
    "tags": []
   },
   "outputs": [],
   "source": []
  },
  {
   "cell_type": "code",
   "execution_count": 81,
   "id": "8cf62881-0719-47e4-b76b-e304a4e964fb",
   "metadata": {
    "tags": []
   },
   "outputs": [
    {
     "data": {
      "text/plain": [
       "<matplotlib.colorbar.Colorbar at 0x7f0b01f00b50>"
      ]
     },
     "execution_count": 81,
     "metadata": {},
     "output_type": "execute_result"
    },
    {
     "data": {
      "image/png": "[encoded data removed]",
      "text/plain": [
       "<Figure size 640x480 with 2 Axes>"
      ]
     },
     "metadata": {},
     "output_type": "display_data"
    }
   ],
   "source": [
    "plt.imshow(target_prototypes.detach().cpu())\n",
    "plt.colorbar()"
   ]
  },
  {
   "cell_type": "code",
   "execution_count": null,
   "id": "eb0c78d6-e67d-4c6b-918b-239a49beb4e4",
   "metadata": {
    "tags": []
   },
   "outputs": [],
   "source": []
  },
  {
   "cell_type": "code",
   "execution_count": null,
   "id": "2ac5e57f-d5d6-4625-995c-23c75d78b6ef",
   "metadata": {
    "tags": []
   },
   "outputs": [],
   "source": []
  },
  {
   "cell_type": "code",
   "execution_count": 89,
   "id": "7bde3f86-014d-43ba-ba00-40bb4cbe75c1",
   "metadata": {
    "tags": []
   },
   "outputs": [
    {
     "data": {
      "text/plain": [
       "True"
      ]
     },
     "execution_count": 89,
     "metadata": {},
     "output_type": "execute_result"
    }
   ],
   "source": [
    "torch.equal(target_prototypes[1], z_x[1,:,1].reshape(50,1))"
   ]
  },
  {
   "cell_type": "code",
   "execution_count": null,
   "id": "6a598dae-ced7-42aa-bb3a-736d4222984c",
   "metadata": {
    "tags": []
   },
   "outputs": [],
   "source": []
  },
  {
   "cell_type": "code",
   "execution_count": null,
   "id": "6a1e93b3-3d44-422c-8841-366ef63c8fc0",
   "metadata": {
    "tags": []
   },
   "outputs": [],
   "source": []
  },
  {
   "cell_type": "code",
   "execution_count": null,
   "id": "71b5020d-274b-4e44-81a8-48817fc52e40",
   "metadata": {
    "tags": []
   },
   "outputs": [],
   "source": []
  },
  {
   "cell_type": "code",
   "execution_count": null,
   "id": "acbab65d-9aa2-44b3-b88e-0776d5463767",
   "metadata": {},
   "outputs": [],
   "source": []
  }
 ],
 "metadata": {
  "kernelspec": {
   "display_name": "ood",
   "language": "python",
   "name": "ood"
  },
  "language_info": {
   "codemirror_mode": {
    "name": "ipython",
    "version": 3
   },
   "file_extension": ".py",
   "mimetype": "text/x-python",
   "name": "python",
   "nbconvert_exporter": "python",
   "pygments_lexer": "ipython3",
   "version": "3.9.16"
  }
 },
 "nbformat": 4,
 "nbformat_minor": 5
}
