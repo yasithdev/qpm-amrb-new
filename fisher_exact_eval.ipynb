{
 "cells": [
  {
   "cell_type": "code",
   "execution_count": 1,
   "id": "11c38bad-48c4-4236-bef3-b952800065d8",
   "metadata": {},
   "outputs": [
    {
     "name": "stdout",
     "output_type": "stream",
     "text": [
      "env: DATA_DIR=$HOME/datasets\n",
      "env: EXPERIMENT_BASE=$HOME/experiments/ood_flows\n",
      "env: LOG_LEVEL=INFO\n",
      "env: BATCH_SIZE=64\n",
      "env: OPTIM_LR=0.001\n",
      "env: OPTIM_M=0.8\n",
      "env: TRAIN_EPOCHS=100\n",
      "env: EXC_RESUME=1\n",
      "env: MANIFOLD_D=1024\n",
      "env: MODEL_NAME=fisher_exact_ce\n",
      "env: DATASET_NAME=QPM_species_resnet50_simclr_M128\n"
     ]
    }
   ],
   "source": [
    "%env DATA_DIR=$HOME/datasets\n",
    "%env EXPERIMENT_BASE=$HOME/experiments/ood_flows\n",
    "%env LOG_LEVEL=INFO\n",
    "%env BATCH_SIZE=64\n",
    "%env OPTIM_LR=0.001\n",
    "%env OPTIM_M=0.8\n",
    "%env TRAIN_EPOCHS=100\n",
    "%env EXC_RESUME=1\n",
    "%env MANIFOLD_D=1024\n",
    "%env MODEL_NAME=fisher_exact_ce\n",
    "%env DATASET_NAME=QPM_species_resnet50_simclr_M128\n",
    "# %env OOD=4"
   ]
  },
  {
   "cell_type": "code",
   "execution_count": 2,
   "id": "b517b238-7f7d-4d2a-ba66-f7a1eb547d4d",
   "metadata": {},
   "outputs": [],
   "source": [
    "import lightning.pytorch as pl\n",
    "import numpy as np\n",
    "import torch\n",
    "from lightning.pytorch.callbacks import ModelCheckpoint\n",
    "from lightning.pytorch.loggers.wandb import WandbLogger\n",
    "\n",
    "from config import load_config"
   ]
  },
  {
   "cell_type": "code",
   "execution_count": 3,
   "id": "355af65c-cf60-4481-ac18-b1894fe7b9da",
   "metadata": {},
   "outputs": [],
   "source": [
    "# initialize the RNG deterministically\n",
    "np.random.seed(42)\n",
    "torch.manual_seed(42)\n",
    "torch.set_float32_matmul_precision('medium')\n",
    "\n",
    "config = load_config()"
   ]
  },
  {
   "cell_type": "code",
   "execution_count": 4,
   "id": "ecea5177-12f3-44bd-9a79-6b1b62ba3295",
   "metadata": {},
   "outputs": [
    {
     "name": "stderr",
     "output_type": "stream",
     "text": [
      "/n/home12/yasith/.conda/envs/qpm-amrb/lib/python3.10/site-packages/tqdm/auto.py:21: TqdmWarning: IProgress not found. Please update jupyter and ipywidgets. See https://ipywidgets.readthedocs.io/en/stable/user_install.html\n",
      "  from .autonotebook import tqdm as notebook_tqdm\n"
     ]
    }
   ],
   "source": [
    "emb_path = f\"assets/embeddings/{config.dataset_name}.npz\"\n",
    "config.load_embedding(embedding_path=emb_path, num_dims=config.manifold_d, num_targets=21)"
   ]
  },
  {
   "cell_type": "code",
   "execution_count": 5,
   "id": "9b158646-509f-4825-912d-6bfbd701060f",
   "metadata": {},
   "outputs": [],
   "source": [
    "model = config.get_model(model_name=config.model_name, in_dims=config.manifold_d, rand_dims=1000)"
   ]
  },
  {
   "cell_type": "code",
   "execution_count": 6,
   "id": "6a4c26a8-0ac3-4494-a900-21cfe1588eef",
   "metadata": {},
   "outputs": [
    {
     "name": "stderr",
     "output_type": "stream",
     "text": [
      "ERROR:wandb.jupyter:Failed to detect the name of this notebook, you can set it manually with the WANDB_NOTEBOOK_NAME environment variable to enable code saving.\n",
      "\u001b[34m\u001b[1mwandb\u001b[0m: Currently logged in as: \u001b[33myasith\u001b[0m. Use \u001b[1m`wandb login --relogin`\u001b[0m to force relogin\n"
     ]
    },
    {
     "data": {
      "text/html": [
       "wandb version 0.15.9 is available!  To upgrade, please run:\n",
       " $ pip install wandb --upgrade"
      ],
      "text/plain": [
       "<IPython.core.display.HTML object>"
      ]
     },
     "metadata": {},
     "output_type": "display_data"
    },
    {
     "data": {
      "text/html": [
       "Tracking run with wandb version 0.15.8"
      ],
      "text/plain": [
       "<IPython.core.display.HTML object>"
      ]
     },
     "metadata": {},
     "output_type": "display_data"
    },
    {
     "data": {
      "text/html": [
       "Run data is saved locally in <code>./wandb/run-20230831_124508-puqzlqvj</code>"
      ],
      "text/plain": [
       "<IPython.core.display.HTML object>"
      ]
     },
     "metadata": {},
     "output_type": "display_data"
    },
    {
     "data": {
      "text/html": [
       "Syncing run <strong><a href='https://wandb.ai/yasith/uq_project/runs/puqzlqvj' target=\"_blank\">QPM_species_resnet50_simclr_M128_fisher_exact_ce</a></strong> to <a href='https://wandb.ai/yasith/uq_project' target=\"_blank\">Weights & Biases</a> (<a href='https://wandb.me/run' target=\"_blank\">docs</a>)<br/>"
      ],
      "text/plain": [
       "<IPython.core.display.HTML object>"
      ]
     },
     "metadata": {},
     "output_type": "display_data"
    },
    {
     "data": {
      "text/html": [
       " View project at <a href='https://wandb.ai/yasith/uq_project' target=\"_blank\">https://wandb.ai/yasith/uq_project</a>"
      ],
      "text/plain": [
       "<IPython.core.display.HTML object>"
      ]
     },
     "metadata": {},
     "output_type": "display_data"
    },
    {
     "data": {
      "text/html": [
       " View run at <a href='https://wandb.ai/yasith/uq_project/runs/puqzlqvj' target=\"_blank\">https://wandb.ai/yasith/uq_project/runs/puqzlqvj</a>"
      ],
      "text/plain": [
       "<IPython.core.display.HTML object>"
      ]
     },
     "metadata": {},
     "output_type": "display_data"
    },
    {
     "name": "stderr",
     "output_type": "stream",
     "text": [
      "\u001b[34m\u001b[1mwandb\u001b[0m: logging graph, to disable use `wandb.watch(log_graph=False)`\n"
     ]
    }
   ],
   "source": [
    "run_name = f\"{config.dataset_name}_{config.model_name}\"\n",
    "wandb_logger = WandbLogger(project=\"uq_project\", log_model=\"all\", name=run_name, config={**config.params, **model.hparams})\n",
    "wandb_logger.watch(model, log=\"all\")"
   ]
  },
  {
   "cell_type": "code",
   "execution_count": null,
   "id": "a46c335e-9270-4b98-99ef-849178078845",
   "metadata": {},
   "outputs": [
    {
     "name": "stderr",
     "output_type": "stream",
     "text": [
      "/n/home12/yasith/.conda/envs/qpm-amrb/lib/python3.10/site-packages/lightning/fabric/plugins/environments/slurm.py:168: PossibleUserWarning: The `srun` command is available on your system but is not used. HINT: If your intention is to run Lightning on SLURM, prepend your python command with `srun` like so: srun python /n/home12/yasith/.conda/envs/qpm-amrb/lib/python3.10 ...\n",
      "  rank_zero_warn(\n",
      "GPU available: True (cuda), used: True\n",
      "TPU available: False, using: 0 TPU cores\n",
      "IPU available: False, using: 0 IPUs\n",
      "HPU available: False, using: 0 HPUs\n",
      "/n/home12/yasith/.conda/envs/qpm-amrb/lib/python3.10/site-packages/lightning/fabric/plugins/environments/slurm.py:168: PossibleUserWarning: The `srun` command is available on your system but is not used. HINT: If your intention is to run Lightning on SLURM, prepend your python command with `srun` like so: srun python /n/home12/yasith/.conda/envs/qpm-amrb/lib/python3.10 ...\n",
      "  rank_zero_warn(\n",
      "Initializing distributed: GLOBAL_RANK: 1, MEMBER: 2/2\n",
      "/n/home12/yasith/.conda/envs/qpm-amrb/lib/python3.10/site-packages/lightning/fabric/plugins/environments/slurm.py:168: PossibleUserWarning: The `srun` command is available on your system but is not used. HINT: If your intention is to run Lightning on SLURM, prepend your python command with `srun` like so: srun python /n/home12/yasith/.conda/envs/qpm-amrb/lib/python3.10 ...\n",
      "  rank_zero_warn(\n",
      "Initializing distributed: GLOBAL_RANK: 0, MEMBER: 1/2\n",
      "----------------------------------------------------------------------------------------------------\n",
      "distributed_backend=nccl\n",
      "All distributed processes registered. Starting with 2 processes\n",
      "----------------------------------------------------------------------------------------------------\n",
      "\n",
      "LOCAL_RANK: 0 - CUDA_VISIBLE_DEVICES: [0,1]\n",
      "LOCAL_RANK: 1 - CUDA_VISIBLE_DEVICES: [0,1]\n",
      "\n",
      "   | Name                     | Type                      | Params\n",
      "------------------------------------------------------------------------\n",
      "0  | train_batch_x_true       | CatMetric                 | 0     \n",
      "1  | train_batch_y_true       | CatMetric                 | 0     \n",
      "2  | train_accuracy           | MulticlassAccuracy        | 0     \n",
      "3  | train_accuracy_top2      | MulticlassAccuracy        | 0     \n",
      "4  | train_confusion_matrix   | MulticlassConfusionMatrix | 0     \n",
      "5  | train_uncertainty        | CatMetric                 | 0     \n",
      "6  | train_correctness        | CatMetric                 | 0     \n",
      "7  | train_batch_y_pred       | CatMetric                 | 0     \n",
      "8  | train_batch_y_ucty       | CatMetric                 | 0     \n",
      "9  | val_batch_x_true         | CatMetric                 | 0     \n",
      "10 | val_batch_y_true         | CatMetric                 | 0     \n",
      "11 | val_accuracy             | MulticlassAccuracy        | 0     \n",
      "12 | val_accuracy_top2        | MulticlassAccuracy        | 0     \n",
      "13 | val_confusion_matrix     | MulticlassConfusionMatrix | 0     \n",
      "14 | val_uncertainty          | CatMetric                 | 0     \n",
      "15 | val_correctness          | CatMetric                 | 0     \n",
      "16 | val_batch_y_pred         | CatMetric                 | 0     \n",
      "17 | val_batch_y_ucty         | CatMetric                 | 0     \n",
      "18 | test_batch_x_true        | CatMetric                 | 0     \n",
      "19 | test_batch_y_true        | CatMetric                 | 0     \n",
      "20 | test_accuracy            | MulticlassAccuracy        | 0     \n",
      "21 | test_accuracy_top2       | MulticlassAccuracy        | 0     \n",
      "22 | test_confusion_matrix    | MulticlassConfusionMatrix | 0     \n",
      "23 | test_uncertainty         | CatMetric                 | 0     \n",
      "24 | test_correctness         | CatMetric                 | 0     \n",
      "25 | test_batch_y_pred        | CatMetric                 | 0     \n",
      "26 | test_batch_y_ucty        | CatMetric                 | 0     \n",
      "27 | predict_batch_x_true     | CatMetric                 | 0     \n",
      "28 | predict_batch_y_true     | CatMetric                 | 0     \n",
      "29 | predict_accuracy         | MulticlassAccuracy        | 0     \n",
      "30 | predict_accuracy_top2    | MulticlassAccuracy        | 0     \n",
      "31 | predict_confusion_matrix | MulticlassConfusionMatrix | 0     \n",
      "32 | predict_uncertainty      | CatMetric                 | 0     \n",
      "33 | predict_correctness      | CatMetric                 | 0     \n",
      "34 | predict_batch_y_pred     | CatMetric                 | 0     \n",
      "35 | predict_batch_y_ucty     | CatMetric                 | 0     \n",
      "------------------------------------------------------------------------\n",
      "21.5 M    Trainable params\n",
      "0         Non-trainable params\n",
      "21.5 M    Total params\n",
      "86.020    Total estimated model params size (MB)\n"
     ]
    },
    {
     "name": "stdout",
     "output_type": "stream",
     "text": [
      "Epoch 0: 100%|██████████| 229/229 [00:10<00:00, 21.55it/s, v_num=lqvj, train_loss_y_true=2.840, train_loss_y_rand=2.990, train_loss=5.830]\n",
      "Validation: 0it [00:00, ?it/s]\u001b[A\n",
      "Validation:   0%|          | 0/77 [00:00<?, ?it/s]\u001b[A\n",
      "Validation DataLoader 0:   0%|          | 0/77 [00:00<?, ?it/s]\u001b[A\n",
      "Validation DataLoader 0:   1%|▏         | 1/77 [00:00<00:06, 12.56it/s]\u001b[A\n",
      "Validation DataLoader 0:   3%|▎         | 2/77 [00:00<00:03, 19.87it/s]\u001b[A\n",
      "Validation DataLoader 0:   4%|▍         | 3/77 [00:00<00:03, 24.05it/s]\u001b[A\n",
      "Validation DataLoader 0:   5%|▌         | 4/77 [00:00<00:03, 23.27it/s]\u001b[A\n",
      "Validation DataLoader 0:   6%|▋         | 5/77 [00:00<00:02, 26.51it/s]\u001b[A\n",
      "Validation DataLoader 0:   8%|▊         | 6/77 [00:00<00:02, 28.02it/s]\u001b[A\n",
      "Validation DataLoader 0:   9%|▉         | 7/77 [00:00<00:02, 27.72it/s]\u001b[A\n",
      "Validation DataLoader 0:  10%|█         | 8/77 [00:00<00:02, 27.72it/s]\u001b[A\n",
      "Validation DataLoader 0:  12%|█▏        | 9/77 [00:00<00:02, 28.98it/s]\u001b[A\n",
      "Validation DataLoader 0:  13%|█▎        | 10/77 [00:00<00:02, 31.04it/s]\u001b[A\n",
      "Validation DataLoader 0:  14%|█▍        | 11/77 [00:00<00:02, 31.06it/s]\u001b[A\n",
      "Validation DataLoader 0:  16%|█▌        | 12/77 [00:00<00:02, 31.14it/s]\u001b[A\n",
      "Validation DataLoader 0:  17%|█▋        | 13/77 [00:00<00:02, 31.11it/s]\u001b[A\n",
      "Validation DataLoader 0:  18%|█▊        | 14/77 [00:00<00:02, 30.11it/s]\u001b[A\n",
      "Validation DataLoader 0:  19%|█▉        | 15/77 [00:00<00:01, 31.55it/s]\u001b[A\n",
      "Validation DataLoader 0:  21%|██        | 16/77 [00:00<00:01, 32.97it/s]\u001b[A\n",
      "Validation DataLoader 0:  22%|██▏       | 17/77 [00:00<00:01, 32.71it/s]\u001b[A\n",
      "Validation DataLoader 0:  23%|██▎       | 18/77 [00:00<00:01, 33.16it/s]\u001b[A\n",
      "Validation DataLoader 0:  25%|██▍       | 19/77 [00:00<00:01, 32.82it/s]\u001b[A\n",
      "Validation DataLoader 0:  26%|██▌       | 20/77 [00:00<00:01, 33.32it/s]\u001b[A\n",
      "Validation DataLoader 0:  27%|██▋       | 21/77 [00:00<00:01, 33.80it/s]\u001b[A\n",
      "Validation DataLoader 0:  29%|██▊       | 22/77 [00:00<00:01, 34.37it/s]\u001b[A\n",
      "Validation DataLoader 0:  30%|██▉       | 23/77 [00:00<00:01, 34.59it/s]\u001b[A\n",
      "Validation DataLoader 0:  31%|███       | 24/77 [00:00<00:01, 34.04it/s]\u001b[A\n",
      "Validation DataLoader 0:  32%|███▏      | 25/77 [00:00<00:01, 34.02it/s]\u001b[A\n",
      "Validation DataLoader 0:  34%|███▍      | 26/77 [00:00<00:01, 34.46it/s]\u001b[A\n",
      "Validation DataLoader 0:  35%|███▌      | 27/77 [00:00<00:01, 34.34it/s]\u001b[A\n",
      "Validation DataLoader 0:  36%|███▋      | 28/77 [00:00<00:01, 34.69it/s]\u001b[A\n",
      "Validation DataLoader 0:  38%|███▊      | 29/77 [00:00<00:01, 35.05it/s]\u001b[A\n",
      "Validation DataLoader 0:  39%|███▉      | 30/77 [00:00<00:01, 35.31it/s]\u001b[A\n",
      "Validation DataLoader 0:  40%|████      | 31/77 [00:00<00:01, 35.12it/s]\u001b[A\n",
      "Validation DataLoader 0:  42%|████▏     | 32/77 [00:00<00:01, 35.05it/s]\u001b[A\n",
      "Validation DataLoader 0:  43%|████▎     | 33/77 [00:00<00:01, 34.71it/s]\u001b[A\n",
      "Validation DataLoader 0:  44%|████▍     | 34/77 [00:00<00:01, 34.44it/s]\u001b[A\n",
      "Validation DataLoader 0:  45%|████▌     | 35/77 [00:01<00:01, 33.45it/s]\u001b[A\n",
      "Validation DataLoader 0:  47%|████▋     | 36/77 [00:01<00:01, 32.50it/s]\u001b[A\n",
      "Validation DataLoader 0:  48%|████▊     | 37/77 [00:01<00:01, 33.12it/s]\u001b[A\n",
      "Validation DataLoader 0:  49%|████▉     | 38/77 [00:01<00:01, 33.34it/s]\u001b[A\n",
      "Validation DataLoader 0:  51%|█████     | 39/77 [00:01<00:01, 32.91it/s]\u001b[A\n",
      "Validation DataLoader 0:  52%|█████▏    | 40/77 [00:01<00:01, 33.45it/s]\u001b[A\n",
      "Validation DataLoader 0:  53%|█████▎    | 41/77 [00:01<00:01, 33.16it/s]\u001b[A\n",
      "Validation DataLoader 0:  55%|█████▍    | 42/77 [00:01<00:01, 33.33it/s]\u001b[A\n",
      "Validation DataLoader 0:  56%|█████▌    | 43/77 [00:01<00:01, 33.81it/s]\u001b[A\n",
      "Validation DataLoader 0:  57%|█████▋    | 44/77 [00:01<00:00, 33.09it/s]\u001b[A\n",
      "Validation DataLoader 0:  58%|█████▊    | 45/77 [00:01<00:00, 33.57it/s]\u001b[A\n",
      "Validation DataLoader 0:  60%|█████▉    | 46/77 [00:01<00:00, 34.05it/s]\u001b[A\n",
      "Validation DataLoader 0:  61%|██████    | 47/77 [00:01<00:00, 34.25it/s]\u001b[A\n",
      "Validation DataLoader 0:  62%|██████▏   | 48/77 [00:01<00:00, 34.36it/s]\u001b[A\n",
      "Validation DataLoader 0:  64%|██████▎   | 49/77 [00:01<00:00, 34.27it/s]\u001b[A\n",
      "Validation DataLoader 0:  65%|██████▍   | 50/77 [00:01<00:00, 34.05it/s]\u001b[A\n",
      "Validation DataLoader 0:  66%|██████▌   | 51/77 [00:01<00:00, 34.14it/s]\u001b[A\n",
      "Validation DataLoader 0:  68%|██████▊   | 52/77 [00:01<00:00, 33.58it/s]\u001b[A\n",
      "Validation DataLoader 0:  69%|██████▉   | 53/77 [00:01<00:00, 33.96it/s]\u001b[A\n",
      "Validation DataLoader 0:  70%|███████   | 54/77 [00:01<00:00, 33.74it/s]\u001b[A\n",
      "Validation DataLoader 0:  71%|███████▏  | 55/77 [00:01<00:00, 33.76it/s]\u001b[A\n",
      "Validation DataLoader 0:  73%|███████▎  | 56/77 [00:01<00:00, 33.81it/s]\u001b[A\n",
      "Validation DataLoader 0:  74%|███████▍  | 57/77 [00:01<00:00, 33.81it/s]\u001b[A\n",
      "Validation DataLoader 0:  75%|███████▌  | 58/77 [00:01<00:00, 33.74it/s]\u001b[A\n",
      "Validation DataLoader 0:  77%|███████▋  | 59/77 [00:01<00:00, 33.24it/s]\u001b[A\n",
      "Validation DataLoader 0:  78%|███████▊  | 60/77 [00:01<00:00, 33.06it/s]\u001b[A\n",
      "Validation DataLoader 0:  79%|███████▉  | 61/77 [00:01<00:00, 32.99it/s]\u001b[A\n",
      "Validation DataLoader 0:  81%|████████  | 62/77 [00:01<00:00, 33.14it/s]\u001b[A\n",
      "Validation DataLoader 0:  82%|████████▏ | 63/77 [00:01<00:00, 33.35it/s]\u001b[A\n",
      "Validation DataLoader 0:  83%|████████▎ | 64/77 [00:01<00:00, 33.35it/s]\u001b[A\n",
      "Validation DataLoader 0:  84%|████████▍ | 65/77 [00:01<00:00, 33.59it/s]\u001b[A\n",
      "Validation DataLoader 0:  86%|████████▌ | 66/77 [00:01<00:00, 33.55it/s]\u001b[A\n",
      "Validation DataLoader 0:  87%|████████▋ | 67/77 [00:02<00:00, 33.40it/s]\u001b[A\n",
      "Validation DataLoader 0:  88%|████████▊ | 68/77 [00:02<00:00, 33.36it/s]\u001b[A\n",
      "Validation DataLoader 0:  90%|████████▉ | 69/77 [00:02<00:00, 29.05it/s]\u001b[A\n",
      "Validation DataLoader 0:  91%|█████████ | 70/77 [00:02<00:00, 29.04it/s]\u001b[A\n",
      "Validation DataLoader 0:  92%|█████████▏| 71/77 [00:02<00:00, 28.99it/s]\u001b[A\n",
      "Validation DataLoader 0:  94%|█████████▎| 72/77 [00:02<00:00, 29.30it/s]\u001b[A\n",
      "Validation DataLoader 0:  95%|█████████▍| 73/77 [00:02<00:00, 29.60it/s]\u001b[A\n",
      "Validation DataLoader 0:  96%|█████████▌| 74/77 [00:02<00:00, 29.60it/s]\u001b[A\n",
      "Validation DataLoader 0:  97%|█████████▋| 75/77 [00:02<00:00, 29.79it/s]\u001b[A\n",
      "Validation DataLoader 0:  99%|█████████▊| 76/77 [00:02<00:00, 30.08it/s]\u001b[A\n",
      "Epoch 0: 100%|██████████| 229/229 [00:14<00:00, 15.73it/s, v_num=lqvj, train_loss_y_true=2.840, train_loss_y_rand=2.990, train_loss=5.830, val_loss_y_true=2.980, val_loss_y_rand=3.020, val_loss=5.990]\n",
      "Epoch 1: 100%|██████████| 229/229 [00:09<00:00, 23.59it/s, v_num=lqvj, train_loss_y_true=2.870, train_loss_y_rand=2.800, train_loss=5.670, val_loss_y_true=2.980, val_loss_y_rand=3.020, val_loss=5.990]\n",
      "Validation: 0it [00:00, ?it/s]\u001b[A\n",
      "Validation:   0%|          | 0/77 [00:00<?, ?it/s]\u001b[A\n",
      "Validation DataLoader 0:   0%|          | 0/77 [00:00<?, ?it/s]\u001b[A\n",
      "Validation DataLoader 0:   1%|▏         | 1/77 [00:00<00:04, 16.16it/s]\u001b[A\n",
      "Validation DataLoader 0:   3%|▎         | 2/77 [00:00<00:03, 22.02it/s]\u001b[A\n",
      "Validation DataLoader 0:   4%|▍         | 3/77 [00:00<00:03, 23.47it/s]\u001b[A\n",
      "Validation DataLoader 0:   5%|▌         | 4/77 [00:00<00:02, 25.05it/s]\u001b[A\n",
      "Validation DataLoader 0:   6%|▋         | 5/77 [00:00<00:02, 26.42it/s]\u001b[A\n",
      "Validation DataLoader 0:   8%|▊         | 6/77 [00:00<00:02, 28.02it/s]\u001b[A\n",
      "Validation DataLoader 0:   9%|▉         | 7/77 [00:00<00:02, 29.94it/s]\u001b[A\n",
      "Validation DataLoader 0:  10%|█         | 8/77 [00:00<00:02, 29.54it/s]\u001b[A\n",
      "Validation DataLoader 0:  12%|█▏        | 9/77 [00:00<00:02, 29.15it/s]\u001b[A\n",
      "Validation DataLoader 0:  13%|█▎        | 10/77 [00:00<00:02, 29.96it/s]\u001b[A\n",
      "Validation DataLoader 0:  14%|█▍        | 11/77 [00:00<00:02, 25.72it/s]\u001b[A\n",
      "Validation DataLoader 0:  16%|█▌        | 12/77 [00:00<00:02, 24.90it/s]\u001b[A\n",
      "Validation DataLoader 0:  17%|█▋        | 13/77 [00:00<00:02, 26.51it/s]\u001b[A\n",
      "Validation DataLoader 0:  18%|█▊        | 14/77 [00:00<00:02, 27.99it/s]\u001b[A\n",
      "Validation DataLoader 0:  19%|█▉        | 15/77 [00:00<00:02, 28.91it/s]\u001b[A\n",
      "Validation DataLoader 0:  21%|██        | 16/77 [00:00<00:02, 30.08it/s]\u001b[A\n",
      "Validation DataLoader 0:  22%|██▏       | 17/77 [00:00<00:01, 30.98it/s]\u001b[A\n",
      "Validation DataLoader 0:  23%|██▎       | 18/77 [00:00<00:01, 31.56it/s]\u001b[A\n",
      "Validation DataLoader 0:  25%|██▍       | 19/77 [00:00<00:01, 32.38it/s]\u001b[A\n",
      "Validation DataLoader 0:  26%|██▌       | 20/77 [00:00<00:01, 33.39it/s]\u001b[A\n",
      "Validation DataLoader 0:  27%|██▋       | 21/77 [00:00<00:01, 34.14it/s]\u001b[A\n",
      "Validation DataLoader 0:  29%|██▊       | 22/77 [00:00<00:01, 34.32it/s]\u001b[A\n",
      "Validation DataLoader 0:  30%|██▉       | 23/77 [00:00<00:01, 34.93it/s]\u001b[A\n",
      "Validation DataLoader 0:  31%|███       | 24/77 [00:00<00:01, 35.04it/s]\u001b[A\n",
      "Validation DataLoader 0:  32%|███▏      | 25/77 [00:00<00:01, 34.81it/s]\u001b[A\n",
      "Validation DataLoader 0:  34%|███▍      | 26/77 [00:00<00:01, 34.83it/s]\u001b[A\n",
      "Validation DataLoader 0:  35%|███▌      | 27/77 [00:00<00:01, 33.65it/s]\u001b[A\n",
      "Validation DataLoader 0:  36%|███▋      | 28/77 [00:00<00:01, 34.10it/s]\u001b[A\n",
      "Validation DataLoader 0:  38%|███▊      | 29/77 [00:00<00:01, 34.64it/s]\u001b[A\n",
      "Validation DataLoader 0:  39%|███▉      | 30/77 [00:00<00:01, 34.93it/s]\u001b[A\n",
      "Validation DataLoader 0:  40%|████      | 31/77 [00:00<00:01, 35.32it/s]\u001b[A\n",
      "Validation DataLoader 0:  42%|████▏     | 32/77 [00:00<00:01, 35.33it/s]\u001b[A\n",
      "Validation DataLoader 0:  43%|████▎     | 33/77 [00:00<00:01, 35.13it/s]\u001b[A\n",
      "Validation DataLoader 0:  44%|████▍     | 34/77 [00:00<00:01, 35.45it/s]\u001b[A\n",
      "Validation DataLoader 0:  45%|████▌     | 35/77 [00:00<00:01, 35.70it/s]\u001b[A\n",
      "Validation DataLoader 0:  47%|████▋     | 36/77 [00:01<00:01, 35.90it/s]\u001b[A\n",
      "Validation DataLoader 0:  48%|████▊     | 37/77 [00:01<00:01, 35.21it/s]\u001b[A\n",
      "Validation DataLoader 0:  49%|████▉     | 38/77 [00:01<00:01, 35.17it/s]\u001b[A\n",
      "Validation DataLoader 0:  51%|█████     | 39/77 [00:01<00:01, 35.46it/s]\u001b[A\n",
      "Validation DataLoader 0:  52%|█████▏    | 40/77 [00:01<00:01, 35.59it/s]\u001b[A\n",
      "Validation DataLoader 0:  53%|█████▎    | 41/77 [00:01<00:01, 35.98it/s]\u001b[A\n",
      "Validation DataLoader 0:  55%|█████▍    | 42/77 [00:01<00:00, 36.18it/s]\u001b[A\n",
      "Validation DataLoader 0:  56%|█████▌    | 43/77 [00:01<00:00, 36.42it/s]\u001b[A\n",
      "Validation DataLoader 0:  57%|█████▋    | 44/77 [00:01<00:00, 36.76it/s]\u001b[A\n",
      "Validation DataLoader 0:  58%|█████▊    | 45/77 [00:01<00:00, 36.32it/s]\u001b[A\n",
      "Validation DataLoader 0:  60%|█████▉    | 46/77 [00:01<00:00, 36.59it/s]\u001b[A\n",
      "Validation DataLoader 0:  61%|██████    | 47/77 [00:01<00:00, 36.36it/s]\u001b[A\n",
      "Validation DataLoader 0:  62%|██████▏   | 48/77 [00:01<00:00, 36.60it/s]\u001b[A\n",
      "Validation DataLoader 0:  64%|██████▎   | 49/77 [00:01<00:00, 36.84it/s]\u001b[A\n",
      "Validation DataLoader 0:  65%|██████▍   | 50/77 [00:01<00:00, 37.22it/s]\u001b[A\n",
      "Validation DataLoader 0:  66%|██████▌   | 51/77 [00:01<00:00, 37.40it/s]\u001b[A\n",
      "Validation DataLoader 0:  68%|██████▊   | 52/77 [00:01<00:00, 36.95it/s]\u001b[A\n",
      "Validation DataLoader 0:  69%|██████▉   | 53/77 [00:01<00:00, 37.33it/s]\u001b[A\n",
      "Validation DataLoader 0:  70%|███████   | 54/77 [00:01<00:00, 37.59it/s]\u001b[A\n",
      "Validation DataLoader 0:  71%|███████▏  | 55/77 [00:01<00:00, 37.52it/s]\u001b[A\n",
      "Validation DataLoader 0:  73%|███████▎  | 56/77 [00:01<00:00, 37.89it/s]\u001b[A\n",
      "Validation DataLoader 0:  74%|███████▍  | 57/77 [00:01<00:00, 37.52it/s]\u001b[A\n",
      "Validation DataLoader 0:  75%|███████▌  | 58/77 [00:01<00:00, 37.21it/s]\u001b[A\n",
      "Validation DataLoader 0:  77%|███████▋  | 59/77 [00:01<00:00, 37.49it/s]\u001b[A\n",
      "Validation DataLoader 0:  78%|███████▊  | 60/77 [00:01<00:00, 37.18it/s]\u001b[A\n",
      "Validation DataLoader 0:  79%|███████▉  | 61/77 [00:01<00:00, 37.56it/s]\u001b[A\n",
      "Validation DataLoader 0:  81%|████████  | 62/77 [00:01<00:00, 37.09it/s]\u001b[A\n",
      "Validation DataLoader 0:  82%|████████▏ | 63/77 [00:02<00:00, 31.04it/s]\u001b[A\n",
      "Validation DataLoader 0:  83%|████████▎ | 64/77 [00:02<00:00, 31.22it/s]\u001b[A\n",
      "Validation DataLoader 0:  84%|████████▍ | 65/77 [00:02<00:00, 31.30it/s]\u001b[A\n",
      "Validation DataLoader 0:  86%|████████▌ | 66/77 [00:02<00:00, 31.49it/s]\u001b[A\n",
      "Validation DataLoader 0:  87%|████████▋ | 67/77 [00:02<00:00, 31.72it/s]\u001b[A\n",
      "Validation DataLoader 0:  88%|████████▊ | 68/77 [00:02<00:00, 31.87it/s]\u001b[A\n",
      "Validation DataLoader 0:  90%|████████▉ | 69/77 [00:02<00:00, 32.17it/s]\u001b[A\n",
      "Validation DataLoader 0:  91%|█████████ | 70/77 [00:02<00:00, 32.33it/s]\u001b[A\n",
      "Validation DataLoader 0:  92%|█████████▏| 71/77 [00:02<00:00, 32.26it/s]\u001b[A\n",
      "Validation DataLoader 0:  94%|█████████▎| 72/77 [00:02<00:00, 32.59it/s]\u001b[A\n",
      "Validation DataLoader 0:  95%|█████████▍| 73/77 [00:02<00:00, 32.92it/s]\u001b[A\n",
      "Validation DataLoader 0:  96%|█████████▌| 74/77 [00:02<00:00, 32.66it/s]\u001b[A\n",
      "Validation DataLoader 0:  97%|█████████▋| 75/77 [00:02<00:00, 32.77it/s]\u001b[A\n",
      "Validation DataLoader 0:  99%|█████████▊| 76/77 [00:02<00:00, 33.09it/s]\u001b[A\n",
      "Epoch 1: 100%|██████████| 229/229 [00:13<00:00, 16.85it/s, v_num=lqvj, train_loss_y_true=2.870, train_loss_y_rand=2.800, train_loss=5.670, val_loss_y_true=2.780, val_loss_y_rand=2.800, val_loss=5.580]\n",
      "Epoch 2: 100%|██████████| 229/229 [00:09<00:00, 23.38it/s, v_num=lqvj, train_loss_y_true=2.950, train_loss_y_rand=2.780, train_loss=5.730, val_loss_y_true=2.780, val_loss_y_rand=2.800, val_loss=5.580]\n",
      "Validation: 0it [00:00, ?it/s]\u001b[A\n",
      "Validation:   0%|          | 0/77 [00:00<?, ?it/s]\u001b[A\n",
      "Validation DataLoader 0:   0%|          | 0/77 [00:00<?, ?it/s]\u001b[A\n",
      "Validation DataLoader 0:   1%|▏         | 1/77 [00:00<00:03, 23.65it/s]\u001b[A\n",
      "Validation DataLoader 0:   3%|▎         | 2/77 [00:00<00:03, 21.84it/s]\u001b[A\n",
      "Validation DataLoader 0:   4%|▍         | 3/77 [00:00<00:02, 27.00it/s]\u001b[A\n",
      "Validation DataLoader 0:   5%|▌         | 4/77 [00:00<00:02, 27.22it/s]\u001b[A\n",
      "Validation DataLoader 0:   6%|▋         | 5/77 [00:00<00:02, 28.98it/s]\u001b[A\n",
      "Validation DataLoader 0:   8%|▊         | 6/77 [00:00<00:02, 27.60it/s]\u001b[A\n",
      "Validation DataLoader 0:   9%|▉         | 7/77 [00:00<00:02, 27.28it/s]\u001b[A\n",
      "Validation DataLoader 0:  10%|█         | 8/77 [00:00<00:02, 29.97it/s]\u001b[A\n",
      "Validation DataLoader 0:  12%|█▏        | 9/77 [00:00<00:02, 30.47it/s]\u001b[A\n",
      "Validation DataLoader 0:  13%|█▎        | 10/77 [00:00<00:02, 31.34it/s]\u001b[A\n",
      "Validation DataLoader 0:  14%|█▍        | 11/77 [00:00<00:02, 32.94it/s]\u001b[A\n",
      "Validation DataLoader 0:  16%|█▌        | 12/77 [00:00<00:01, 33.48it/s]\u001b[A\n",
      "Validation DataLoader 0:  17%|█▋        | 13/77 [00:00<00:01, 34.51it/s]\u001b[A\n",
      "Validation DataLoader 0:  18%|█▊        | 14/77 [00:00<00:01, 35.53it/s]\u001b[A\n",
      "Validation DataLoader 0:  19%|█▉        | 15/77 [00:00<00:01, 36.69it/s]\u001b[A\n",
      "Validation DataLoader 0:  21%|██        | 16/77 [00:00<00:01, 37.64it/s]\u001b[A\n",
      "Validation DataLoader 0:  22%|██▏       | 17/77 [00:00<00:01, 38.18it/s]\u001b[A\n",
      "Validation DataLoader 0:  23%|██▎       | 18/77 [00:00<00:01, 38.73it/s]\u001b[A\n",
      "Validation DataLoader 0:  25%|██▍       | 19/77 [00:00<00:01, 39.56it/s]\u001b[A\n",
      "Validation DataLoader 0:  26%|██▌       | 20/77 [00:00<00:01, 40.37it/s]\u001b[A\n",
      "Validation DataLoader 0:  27%|██▋       | 21/77 [00:00<00:01, 41.32it/s]\u001b[A\n",
      "Validation DataLoader 0:  29%|██▊       | 22/77 [00:00<00:01, 41.75it/s]\u001b[A\n",
      "Validation DataLoader 0:  30%|██▉       | 23/77 [00:00<00:01, 42.24it/s]\u001b[A\n",
      "Validation DataLoader 0:  31%|███       | 24/77 [00:00<00:01, 42.30it/s]\u001b[A\n",
      "Validation DataLoader 0:  32%|███▏      | 25/77 [00:00<00:01, 42.07it/s]\u001b[A\n",
      "Validation DataLoader 0:  34%|███▍      | 26/77 [00:00<00:01, 42.06it/s]\u001b[A\n",
      "Validation DataLoader 0:  35%|███▌      | 27/77 [00:00<00:01, 41.78it/s]\u001b[A\n",
      "Validation DataLoader 0:  36%|███▋      | 28/77 [00:00<00:01, 42.63it/s]\u001b[A\n",
      "Validation DataLoader 0:  38%|███▊      | 29/77 [00:00<00:01, 39.52it/s]\u001b[A\n",
      "Validation DataLoader 0:  39%|███▉      | 30/77 [00:00<00:01, 38.92it/s]\u001b[A\n",
      "Validation DataLoader 0:  40%|████      | 31/77 [00:00<00:01, 38.70it/s]\u001b[A\n",
      "Validation DataLoader 0:  42%|████▏     | 32/77 [00:00<00:01, 39.40it/s]\u001b[A\n",
      "Validation DataLoader 0:  43%|████▎     | 33/77 [00:00<00:01, 40.17it/s]\u001b[A\n",
      "Validation DataLoader 0:  44%|████▍     | 34/77 [00:00<00:01, 40.56it/s]\u001b[A\n",
      "Validation DataLoader 0:  45%|████▌     | 35/77 [00:00<00:01, 41.02it/s]\u001b[A\n",
      "Validation DataLoader 0:  47%|████▋     | 36/77 [00:00<00:00, 41.25it/s]\u001b[A\n",
      "Validation DataLoader 0:  48%|████▊     | 37/77 [00:00<00:00, 41.49it/s]\u001b[A\n",
      "Validation DataLoader 0:  49%|████▉     | 38/77 [00:00<00:00, 42.04it/s]\u001b[A\n",
      "Validation DataLoader 0:  51%|█████     | 39/77 [00:00<00:00, 41.78it/s]\u001b[A\n",
      "Validation DataLoader 0:  52%|█████▏    | 40/77 [00:00<00:00, 42.36it/s]\u001b[A\n",
      "Validation DataLoader 0:  53%|█████▎    | 41/77 [00:00<00:00, 41.53it/s]\u001b[A\n",
      "Validation DataLoader 0:  55%|█████▍    | 42/77 [00:01<00:00, 41.05it/s]\u001b[A\n",
      "Validation DataLoader 0:  56%|█████▌    | 43/77 [00:01<00:00, 41.53it/s]\u001b[A\n",
      "Validation DataLoader 0:  57%|█████▋    | 44/77 [00:01<00:00, 41.46it/s]\u001b[A\n",
      "Validation DataLoader 0:  58%|█████▊    | 45/77 [00:01<00:00, 41.17it/s]\u001b[A\n",
      "Validation DataLoader 0:  60%|█████▉    | 46/77 [00:01<00:00, 40.07it/s]\u001b[A\n",
      "Validation DataLoader 0:  61%|██████    | 47/77 [00:01<00:00, 40.57it/s]\u001b[A\n",
      "Validation DataLoader 0:  62%|██████▏   | 48/77 [00:01<00:00, 40.81it/s]\u001b[A\n",
      "Validation DataLoader 0:  64%|██████▎   | 49/77 [00:01<00:00, 41.27it/s]\u001b[A\n",
      "Validation DataLoader 0:  65%|██████▍   | 50/77 [00:01<00:00, 41.79it/s]\u001b[A\n",
      "Validation DataLoader 0:  66%|██████▌   | 51/77 [00:01<00:00, 42.24it/s]\u001b[A\n",
      "Validation DataLoader 0:  68%|██████▊   | 52/77 [00:01<00:00, 41.96it/s]\u001b[A\n",
      "Validation DataLoader 0:  69%|██████▉   | 53/77 [00:01<00:00, 42.02it/s]\u001b[A\n",
      "Validation DataLoader 0:  70%|███████   | 54/77 [00:01<00:00, 42.09it/s]\u001b[A\n",
      "Validation DataLoader 0:  71%|███████▏  | 55/77 [00:01<00:00, 42.03it/s]\u001b[A\n",
      "Validation DataLoader 0:  73%|███████▎  | 56/77 [00:01<00:00, 41.50it/s]\u001b[A\n",
      "Validation DataLoader 0:  74%|███████▍  | 57/77 [00:01<00:00, 33.26it/s]\u001b[A\n",
      "Validation DataLoader 0:  75%|███████▌  | 58/77 [00:01<00:00, 33.29it/s]\u001b[A\n",
      "Validation DataLoader 0:  77%|███████▋  | 59/77 [00:01<00:00, 32.87it/s]\u001b[A\n",
      "Validation DataLoader 0:  78%|███████▊  | 60/77 [00:01<00:00, 32.39it/s]\u001b[A\n",
      "Validation DataLoader 0:  79%|███████▉  | 61/77 [00:01<00:00, 32.35it/s]\u001b[A\n",
      "Validation DataLoader 0:  81%|████████  | 62/77 [00:01<00:00, 32.33it/s]\u001b[A\n",
      "Validation DataLoader 0:  82%|████████▏ | 63/77 [00:01<00:00, 32.25it/s]\u001b[A\n",
      "Validation DataLoader 0:  83%|████████▎ | 64/77 [00:02<00:00, 31.54it/s]\u001b[A\n",
      "Validation DataLoader 0:  84%|████████▍ | 65/77 [00:02<00:00, 31.85it/s]\u001b[A\n",
      "Validation DataLoader 0:  86%|████████▌ | 66/77 [00:02<00:00, 32.17it/s]\u001b[A\n",
      "Validation DataLoader 0:  87%|████████▋ | 67/77 [00:02<00:00, 31.51it/s]\u001b[A\n",
      "Validation DataLoader 0:  88%|████████▊ | 68/77 [00:02<00:00, 30.85it/s]\u001b[A\n",
      "Validation DataLoader 0:  90%|████████▉ | 69/77 [00:02<00:00, 30.02it/s]\u001b[A\n",
      "Validation DataLoader 0:  91%|█████████ | 70/77 [00:02<00:00, 30.11it/s]\u001b[A\n",
      "Validation DataLoader 0:  92%|█████████▏| 71/77 [00:02<00:00, 30.12it/s]\u001b[A\n",
      "Validation DataLoader 0:  94%|█████████▎| 72/77 [00:02<00:00, 30.13it/s]\u001b[A\n",
      "Validation DataLoader 0:  95%|█████████▍| 73/77 [00:02<00:00, 30.41it/s]\u001b[A\n",
      "Validation DataLoader 0:  96%|█████████▌| 74/77 [00:02<00:00, 30.64it/s]\u001b[A\n",
      "Validation DataLoader 0:  97%|█████████▋| 75/77 [00:02<00:00, 30.84it/s]\u001b[A\n",
      "Validation DataLoader 0:  99%|█████████▊| 76/77 [00:02<00:00, 30.90it/s]\u001b[A\n",
      "Epoch 2: 100%|██████████| 229/229 [00:13<00:00, 16.93it/s, v_num=lqvj, train_loss_y_true=2.950, train_loss_y_rand=2.780, train_loss=5.730, val_loss_y_true=2.650, val_loss_y_rand=2.670, val_loss=5.320]\n",
      "Epoch 2: 100%|██████████| 229/229 [00:13<00:00, 16.91it/s, v_num=lqvj, train_loss_y_true=2.950, train_loss_y_rand=2.780, train_loss=5.730, val_loss_y_true=2.650, val_loss_y_rand=2.670, val_loss=5.320]"
     ]
    }
   ],
   "source": [
    "checkpoint_callback = ModelCheckpoint(monitor=\"val_accuracy\", mode=\"max\")\n",
    "trainer = pl.Trainer(\n",
    "    logger=wandb_logger,\n",
    "    max_epochs=config.train_epochs,\n",
    "    callbacks=[checkpoint_callback],\n",
    "    reload_dataloaders_every_n_epochs=5,\n",
    ")\n",
    "\n",
    "trainer.fit(model=model, datamodule=config.datamodule)"
   ]
  },
  {
   "cell_type": "code",
   "execution_count": null,
   "id": "fb3b866e-5f4d-4ec6-9040-168574fcdd97",
   "metadata": {},
   "outputs": [],
   "source": []
  }
 ],
 "metadata": {
  "kernelspec": {
   "display_name": "Python (qpm-amrb)",
   "language": "python",
   "name": "qpm-amrb"
  },
  "language_info": {
   "codemirror_mode": {
    "name": "ipython",
    "version": 3
   },
   "file_extension": ".py",
   "mimetype": "text/x-python",
   "name": "python",
   "nbconvert_exporter": "python",
   "pygments_lexer": "ipython3",
   "version": "3.10.12"
  }
 },
 "nbformat": 4,
 "nbformat_minor": 5
}
