{
 "cells": [
  {
   "cell_type": "code",
   "execution_count": 1,
   "id": "20c4c7a0-e551-49ea-8f00-fc08802d8502",
   "metadata": {},
   "outputs": [],
   "source": [
    "import json\n",
    "import os\n",
    "from argparse import ArgumentParser\n",
    "from itertools import product\n",
    "from typing import Any, Callable\n",
    "\n",
    "import numpy as np\n",
    "import pandas as pd\n",
    "import seaborn as sns\n",
    "from matplotlib import pyplot as plt\n",
    "from matplotlib.colors import LogNorm\n",
    "from scipy.io import loadmat\n",
    "from scipy.spatial.distance import pdist\n",
    "from sklearn.linear_model import LinearRegression\n",
    "from sklearn.metrics import roc_auc_score\n",
    "from tqdm import tqdm\n",
    "from util import mat_to_df, parse_h5_v2, parse_stats"
   ]
  },
  {
   "cell_type": "code",
   "execution_count": 2,
   "id": "9f73b73f-9091-46d2-bfe6-27d0952ae6d6",
   "metadata": {},
   "outputs": [],
   "source": [
    "data = {}\n",
    "loadmat(\"assets/labels_summary.mat\", data)\n",
    "loadmat(\"assets/results_summary.mat\", data)\n",
    "dfl = mat_to_df(data[\"label\"])\n",
    "dfm = mat_to_df(data[\"result\"])"
   ]
  },
  {
   "cell_type": "code",
   "execution_count": 3,
   "id": "b6a5335a-db54-44b5-91c9-d57f7a7353bd",
   "metadata": {},
   "outputs": [],
   "source": [
    "dataset_name=\"MNIST\"\n",
    "model_name=\"resnet50_vicreg_ce\"\n",
    "ood=\"A\"\n",
    "val_pred = parse_h5_v2(f\"assets/results/{dataset_name}/{model_name}/val_{ood}.h5\", [\"lgt\"])[\"lgt\"].argmax(-1)\n",
    "ind_pred = parse_h5_v2(f\"assets/results/{dataset_name}/{model_name}/ind_{ood}.h5\", [\"lgt\"])[\"lgt\"].argmax(-1)\n",
    "ood_pred = parse_h5_v2(f\"assets/results/{dataset_name}/{model_name}/ood_{ood}.h5\", [\"lgt\"])[\"lgt\"].argmax(-1)\n",
    "stats = parse_stats(f\"assets/results/{dataset_name}/{model_name}/stats_{ood}.gz\")"
   ]
  },
  {
   "cell_type": "code",
   "execution_count": 5,
   "id": "f119a1f2-bdc2-4e63-ad5d-e5b1a578ef66",
   "metadata": {},
   "outputs": [
    {
     "ename": "NameError",
     "evalue": "name 'val_labels' is not defined",
     "output_type": "error",
     "traceback": [
      "\u001b[0;31m---------------------------------------------------------------------------\u001b[0m",
      "\u001b[0;31mNameError\u001b[0m                                 Traceback (most recent call last)",
      "Cell \u001b[0;32mIn[5], line 14\u001b[0m\n\u001b[1;32m     11\u001b[0m _ood_data\u001b[38;5;241m.\u001b[39mindex \u001b[38;5;241m=\u001b[39m pd\u001b[38;5;241m.\u001b[39mIndex(_ood_cols)\n\u001b[1;32m     12\u001b[0m \u001b[38;5;28;01massert\u001b[39;00m _val_cols \u001b[38;5;241m==\u001b[39m _ind_cols \u001b[38;5;241m==\u001b[39m _ood_cols\n\u001b[0;32m---> 14\u001b[0m df_val \u001b[38;5;241m=\u001b[39m pd\u001b[38;5;241m.\u001b[39mDataFrame({\u001b[38;5;241m*\u001b[39m\u001b[38;5;241m*\u001b[39m_val_data\u001b[38;5;241m.\u001b[39mto_dict(), \u001b[38;5;124m\"\u001b[39m\u001b[38;5;124mlabel\u001b[39m\u001b[38;5;124m\"\u001b[39m: \u001b[43mval_labels\u001b[49m})\n\u001b[1;32m     15\u001b[0m df_ind \u001b[38;5;241m=\u001b[39m pd\u001b[38;5;241m.\u001b[39mDataFrame({\u001b[38;5;241m*\u001b[39m\u001b[38;5;241m*\u001b[39m_ind_data\u001b[38;5;241m.\u001b[39mto_dict(), \u001b[38;5;124m\"\u001b[39m\u001b[38;5;124mlabel\u001b[39m\u001b[38;5;124m\"\u001b[39m: ind_labels})\n\u001b[1;32m     16\u001b[0m df_ood \u001b[38;5;241m=\u001b[39m pd\u001b[38;5;241m.\u001b[39mDataFrame({\u001b[38;5;241m*\u001b[39m\u001b[38;5;241m*\u001b[39m_ood_data\u001b[38;5;241m.\u001b[39mto_dict(), \u001b[38;5;124m\"\u001b[39m\u001b[38;5;124mlabel\u001b[39m\u001b[38;5;124m\"\u001b[39m: ood_labels})\n",
      "\u001b[0;31mNameError\u001b[0m: name 'val_labels' is not defined"
     ]
    }
   ],
   "source": [
    "rec = stats\n",
    "assert type(rec) == pd.Series\n",
    "_val_data = rec[rec.index.str.endswith(\"_val\")].dropna()\n",
    "_val_cols = sorted(_val_data.index.str[:-4])\n",
    "_val_data.index = pd.Index(_val_cols)\n",
    "_ind_data = rec[rec.index.str.endswith(\"_ind\")].dropna()\n",
    "_ind_cols = sorted(_ind_data.index.str[:-4])\n",
    "_ind_data.index = pd.Index(_ind_cols)\n",
    "_ood_data = rec[rec.index.str.endswith(\"_ood\")].dropna()\n",
    "_ood_cols = sorted(_ood_data.index.str[:-4])\n",
    "_ood_data.index = pd.Index(_ood_cols)\n",
    "assert _val_cols == _ind_cols == _ood_cols\n",
    "\n",
    "df_val = pd.DataFrame({**_val_data.to_dict(), \"label\": val_labels})\n",
    "df_ind = pd.DataFrame({**_ind_data.to_dict(), \"label\": ind_labels})\n",
    "df_ood = pd.DataFrame({**_ood_data.to_dict(), \"label\": ood_labels})\n",
    "metrics = _ind_cols"
   ]
  },
  {
   "cell_type": "code",
   "execution_count": null,
   "id": "18294216-b15c-4f96-909e-d8a74f12fad6",
   "metadata": {},
   "outputs": [],
   "source": []
  }
 ],
 "metadata": {
  "kernelspec": {
   "display_name": "robustml",
   "language": "python",
   "name": "robustml"
  },
  "language_info": {
   "codemirror_mode": {
    "name": "ipython",
    "version": 3
   },
   "file_extension": ".py",
   "mimetype": "text/x-python",
   "name": "python",
   "nbconvert_exporter": "python",
   "pygments_lexer": "ipython3",
   "version": "3.11.6"
  }
 },
 "nbformat": 4,
 "nbformat_minor": 5
}
