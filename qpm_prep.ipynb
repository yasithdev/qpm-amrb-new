{
 "cells": [
  {
   "cell_type": "code",
   "execution_count": 1,
   "id": "2c748763-cb51-4ead-bff3-0e1ad13fe9af",
   "metadata": {},
   "outputs": [],
   "source": [
    "import numpy as np\n",
    "from glob import glob\n",
    "from tqdm import tqdm"
   ]
  },
  {
   "cell_type": "code",
   "execution_count": 2,
   "id": "df4e7d2e-11f2-4340-bdb7-10dea4e9d281",
   "metadata": {},
   "outputs": [],
   "source": [
    "type_ = \"val\""
   ]
  },
  {
   "cell_type": "code",
   "execution_count": null,
   "id": "7f9eb0c4-95b9-465d-a6c0-ecff44209017",
   "metadata": {},
   "outputs": [
    {
     "name": "stdout",
     "output_type": "stream",
     "text": [
      "0\n"
     ]
    },
    {
     "name": "stderr",
     "output_type": "stream",
     "text": [
      "100%|██████████| 1560/1560 [01:16<00:00, 20.44it/s]\n"
     ]
    },
    {
     "name": "stdout",
     "output_type": "stream",
     "text": [
      "1\n"
     ]
    },
    {
     "name": "stderr",
     "output_type": "stream",
     "text": [
      "100%|██████████| 1403/1403 [01:08<00:00, 20.34it/s]\n"
     ]
    },
    {
     "name": "stdout",
     "output_type": "stream",
     "text": [
      "2\n"
     ]
    },
    {
     "name": "stderr",
     "output_type": "stream",
     "text": [
      "100%|██████████| 1668/1668 [01:25<00:00, 19.50it/s]\n"
     ]
    },
    {
     "name": "stdout",
     "output_type": "stream",
     "text": [
      "3\n"
     ]
    },
    {
     "name": "stderr",
     "output_type": "stream",
     "text": [
      "100%|██████████| 1937/1937 [01:54<00:00, 16.93it/s]\n"
     ]
    },
    {
     "name": "stdout",
     "output_type": "stream",
     "text": [
      "4\n"
     ]
    },
    {
     "name": "stderr",
     "output_type": "stream",
     "text": [
      "100%|██████████| 3114/3114 [03:28<00:00, 14.94it/s]\n"
     ]
    },
    {
     "name": "stdout",
     "output_type": "stream",
     "text": [
      "5\n"
     ]
    },
    {
     "name": "stderr",
     "output_type": "stream",
     "text": [
      " 59%|█████▉    | 830/1396 [02:28<00:43, 13.05it/s]  "
     ]
    }
   ],
   "source": [
    "data_dict = {}\n",
    "for n in range(21):\n",
    "    print(n)\n",
    "    for f in tqdm(glob(f\"/n/home12/yasith/datasets/QPM/{type_}/{n}/{n}_*.npy\")):\n",
    "        img = np.load(f, allow_pickle=True)[0]\n",
    "        if n in data_dict:\n",
    "            data_dict[n].append(img)\n",
    "        else:\n",
    "            data_dict[n] = [img]"
   ]
  },
  {
   "cell_type": "code",
   "execution_count": null,
   "id": "92ef37de-f126-41c9-9aa0-cf2aca592060",
   "metadata": {},
   "outputs": [],
   "source": [
    "for n, arr in data_dict.items():\n",
    "    print(n, len(arr))"
   ]
  },
  {
   "cell_type": "code",
   "execution_count": null,
   "id": "789fa99e-9998-4e94-895d-5ccfbc0362d6",
   "metadata": {},
   "outputs": [],
   "source": [
    "np_dict = {}\n",
    "for n in data_dict:\n",
    "    np_dict[n] = np.stack(data_dict[n], axis=0)"
   ]
  },
  {
   "cell_type": "code",
   "execution_count": null,
   "id": "efb153c2-99a5-4493-a7c8-8deaa59b7ced",
   "metadata": {},
   "outputs": [],
   "source": [
    "for n, arr in np_dict.items():\n",
    "    print(n, arr.min(), arr.max())\n",
    "    np.save(f\"/n/home12/yasith/datasets/QPM_np/{type_}/{n}.npy\", arr)"
   ]
  }
 ],
 "metadata": {
  "kernelspec": {
   "display_name": "Python [conda env:.conda-qpm-amrb]",
   "language": "python",
   "name": "conda-env-.conda-qpm-amrb-py"
  },
  "language_info": {
   "codemirror_mode": {
    "name": "ipython",
    "version": 3
   },
   "file_extension": ".py",
   "mimetype": "text/x-python",
   "name": "python",
   "nbconvert_exporter": "python",
   "pygments_lexer": "ipython3",
   "version": "3.10.12"
  }
 },
 "nbformat": 4,
 "nbformat_minor": 5
}
