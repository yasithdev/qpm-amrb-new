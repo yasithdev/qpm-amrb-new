{
 "cells": [
  {
   "cell_type": "code",
   "execution_count": null,
   "id": "65170af1-f93c-47d0-8314-5f7d6a8f26de",
   "metadata": {},
   "outputs": [],
   "source": [
    "%env DATA_DIR=$HOME/datasets\n",
    "%env LOG_LEVEL=INFO\n",
    "%env BATCH_SIZE=256\n",
    "%env OPTIM_LR=0.001\n",
    "%env OPTIM_M=0.8\n",
    "%env TRAIN_EPOCHS=100\n",
    "%env EXC_RESUME=1\n",
    "%env DATASET_NAME=QPM_species\n",
    "%env EMB_DIMS=512\n",
    "%env MODEL_NAME=flow_mse\n",
    "%env OOD=4"
   ]
  },
  {
   "cell_type": "code",
   "execution_count": 2,
   "id": "8deaa0b2-f1b8-4260-93ac-a5200671e71a",
   "metadata": {},
   "outputs": [
    {
     "name": "stderr",
     "output_type": "stream",
     "text": [
      "/n/home12/yasith/.conda/envs/qpm-amrb/lib/python3.10/site-packages/tqdm/auto.py:21: TqdmWarning: IProgress not found. Please update jupyter and ipywidgets. See https://ipywidgets.readthedocs.io/en/stable/user_install.html\n",
      "  from .autonotebook import tqdm as notebook_tqdm\n"
     ]
    }
   ],
   "source": [
    "import lightning.pytorch as pl\n",
    "import numpy as np\n",
    "import torch\n",
    "from lightning.pytorch.callbacks import ModelCheckpoint\n",
    "from lightning.pytorch.loggers.wandb import WandbLogger\n",
    "\n",
    "from config import Config, load_config\n",
    "from datasets import get_data\n",
    "from models import get_model"
   ]
  },
  {
   "cell_type": "code",
   "execution_count": 3,
   "id": "b98946be-7579-4abc-a46d-64004a8b8a10",
   "metadata": {},
   "outputs": [],
   "source": [
    "# initialize the RNG deterministically\n",
    "np.random.seed(42)\n",
    "torch.manual_seed(42)\n",
    "torch.set_float32_matmul_precision('medium')\n",
    "\n",
    "config = load_config()"
   ]
  },
  {
   "cell_type": "code",
   "execution_count": 4,
   "id": "447115d8-a12b-499e-8753-41233af48c5b",
   "metadata": {},
   "outputs": [],
   "source": [
    "# initialize data attributes and loaders\n",
    "config.load_data()\n",
    "config.print_labels()\n",
    "dm = config.datamodule\n",
    "assert dm"
   ]
  },
  {
   "cell_type": "code",
   "execution_count": 5,
   "id": "be308725-f7d2-4dd8-bec1-ced167a60475",
   "metadata": {},
   "outputs": [
    {
     "name": "stdout",
     "output_type": "stream",
     "text": [
      "Dataset type train label type: species\n",
      "Loaded 375443 images\n",
      "Dataset type val label type: species\n",
      "Loaded 48562 images\n",
      "Dataset type test label type: species\n",
      "Loaded 48790 images\n",
      "Performing ind/ood split\n"
     ]
    },
    {
     "name": "stderr",
     "output_type": "stream",
     "text": [
      "100%|██████████| 375443/375443 [00:06<00:00, 56278.35it/s]\n"
     ]
    },
    {
     "name": "stdout",
     "output_type": "stream",
     "text": [
      "Train - OK\n"
     ]
    },
    {
     "name": "stderr",
     "output_type": "stream",
     "text": [
      "100%|██████████| 48562/48562 [00:00<00:00, 55737.98it/s]\n"
     ]
    },
    {
     "name": "stdout",
     "output_type": "stream",
     "text": [
      "Val - OK\n"
     ]
    },
    {
     "name": "stderr",
     "output_type": "stream",
     "text": [
      "100%|██████████| 48790/48790 [00:00<00:00, 55774.47it/s]"
     ]
    },
    {
     "name": "stdout",
     "output_type": "stream",
     "text": [
      "Test - OK\n",
      "Performed ind/ood split\n",
      "344518 44696 44924 38657\n"
     ]
    },
    {
     "name": "stderr",
     "output_type": "stream",
     "text": [
      "\n"
     ]
    }
   ],
   "source": [
    "dm.setup(\"train\")\n",
    "dm.setup(\"val\")\n",
    "dm.setup(\"test\")"
   ]
  },
  {
   "cell_type": "code",
   "execution_count": 6,
   "id": "3440bd05-57de-4416-9974-488bb665ad95",
   "metadata": {},
   "outputs": [],
   "source": [
    "model = config.get_model()"
   ]
  },
  {
   "cell_type": "code",
   "execution_count": 7,
   "id": "d278a289-4ddb-4e1f-981f-3ca2302fd7d0",
   "metadata": {},
   "outputs": [
    {
     "name": "stdout",
     "output_type": "stream",
     "text": [
      "419mcv6g\n"
     ]
    }
   ],
   "source": [
    "# model id for each ood_k\n",
    "model_ids = ['yaqvd9bh', 'jk9mupnp', 'k9ssmq8z', 'q81qsrhl', '419mcv6g']\n",
    "model_id = model_ids[config.ood[0]]\n",
    "print(model_id)"
   ]
  },
  {
   "cell_type": "code",
   "execution_count": 8,
   "id": "77d956eb-a9c6-4adb-b5f3-a1efbce55036",
   "metadata": {},
   "outputs": [
    {
     "name": "stderr",
     "output_type": "stream",
     "text": [
      "\u001b[34m\u001b[1mwandb\u001b[0m:   1 of 1 files downloaded.  \n"
     ]
    }
   ],
   "source": [
    "from pathlib import Path\n",
    "artifact_dir = WandbLogger.download_artifact(artifact=f\"yasith/uq_project/model-{model_id}:best\")\n",
    "model = model.load_from_checkpoint(Path(artifact_dir) / \"model.ckpt\", config=config)\n",
    "model = model.cuda()\n",
    "model.eval();"
   ]
  },
  {
   "cell_type": "code",
   "execution_count": 9,
   "id": "e2d03d9a-cb33-4ace-9e4a-e2d4b0dbe94f",
   "metadata": {},
   "outputs": [],
   "source": [
    "train_loader = dm.train_dataloader()\n",
    "val_loader = dm.val_dataloader()\n",
    "test_loader = dm.test_dataloader()\n",
    "predict_loader = dm.predict_dataloader()"
   ]
  },
  {
   "cell_type": "code",
   "execution_count": 10,
   "id": "5ef2017e-b03e-4a5e-ab7a-08108ad0a70d",
   "metadata": {},
   "outputs": [
    {
     "name": "stderr",
     "output_type": "stream",
     "text": [
      "100%|██████████| 176/176 [00:10<00:00, 16.58it/s]\n"
     ]
    },
    {
     "name": "stdout",
     "output_type": "stream",
     "text": [
      "test InD - OK\n"
     ]
    },
    {
     "name": "stderr",
     "output_type": "stream",
     "text": [
      "100%|██████████| 152/152 [00:07<00:00, 19.43it/s]\n"
     ]
    },
    {
     "name": "stdout",
     "output_type": "stream",
     "text": [
      "test OoD - OK\n"
     ]
    }
   ],
   "source": [
    "from models.common import edl_probs\n",
    "from tqdm.auto import tqdm\n",
    "\n",
    "ind_v_norms = []\n",
    "ood_v_norms = []\n",
    "\n",
    "for batch_idx, batch in enumerate(tqdm(test_loader)):\n",
    "    x, y, *_ = batch\n",
    "    x = x.float().cuda()\n",
    "    y = y.long().cuda()\n",
    "    v, z, x_m, logits = model(x)\n",
    "    v_norms = v.detach().flatten(start_dim=1).norm(dim=-1).cpu().numpy()\n",
    "    ind_v_norms.extend(v_norms)\n",
    "print(\"test InD - OK\")\n",
    "\n",
    "for batch_idx, batch in enumerate(tqdm(predict_loader)):\n",
    "    x, y, *_ = batch\n",
    "    x = x.float().cuda()\n",
    "    y = y.long().cuda()\n",
    "    v, z, x_m, logits = model(x)\n",
    "    v_norms = v.detach().flatten(start_dim=1).norm(dim=-1).cpu().numpy()\n",
    "    ood_v_norms.extend(v_norms)\n",
    "print(\"test OoD - OK\")\n",
    "    \n",
    "ind_v_norms = np.array(ind_v_norms)\n",
    "ood_v_norms = np.array(ood_v_norms)"
   ]
  },
  {
   "cell_type": "code",
   "execution_count": 11,
   "id": "ec766110-7e55-4d34-b8f9-6956b7f64865",
   "metadata": {},
   "outputs": [
    {
     "name": "stdout",
     "output_type": "stream",
     "text": [
      "0.0025043928 0.0011648585\n",
      "0.0020130647 0.017276365\n"
     ]
    }
   ],
   "source": [
    "ind_v_norms_scaled = np.tanh(ind_v_norms)\n",
    "ood_v_norms_scaled = np.tanh(ood_v_norms)\n",
    "\n",
    "print(ind_v_norms.mean(), ind_v_norms.std())\n",
    "print(ood_v_norms.mean(), ood_v_norms.std())"
   ]
  },
  {
   "cell_type": "code",
   "execution_count": 12,
   "id": "bfff589f-a050-45c1-8d4d-87a0f64f87f0",
   "metadata": {},
   "outputs": [
    {
     "data": {
      "image/png": "[encoded data removed]",
      "text/plain": [
       "<Figure size 750x750 with 1 Axes>"
      ]
     },
     "metadata": {},
     "output_type": "display_data"
    }
   ],
   "source": [
    "from matplotlib import pyplot as plt\n",
    "import seaborn as sns\n",
    "import pandas as pd\n",
    "\n",
    "plt.rcParams['figure.figsize'] = (5, 5)\n",
    "plt.rcParams['figure.dpi'] = 150\n",
    "\n",
    "data_ind = pd.DataFrame(dict(v_norm=ind_v_norms))\n",
    "data_ood = pd.DataFrame(dict(v_norm=ood_v_norms))\n",
    "\n",
    "sns.kdeplot(data=data_ind, x=\"v_norm\", log_scale=True, fill=True, label='ind')\n",
    "sns.kdeplot(data=data_ood, x=\"v_norm\", log_scale=True, fill=True, label='ood')\n",
    "\n",
    "plt.title(f\"||V|| of InD vs OOD {config.get_ood_labels()}\")\n",
    "plt.legend()\n",
    "plt.savefig(f\"assets/figures/qpm_species_flow_mse_M512_ood_{config.ood[0]}.png\")"
   ]
  },
  {
   "cell_type": "code",
   "execution_count": null,
   "id": "b47cb048-99c5-4471-ab30-47fbd96c69cb",
   "metadata": {},
   "outputs": [],
   "source": []
  }
 ],
 "metadata": {
  "kernelspec": {
   "display_name": "Python (qpm-amrb)",
   "language": "python",
   "name": "qpm-amrb"
  },
  "language_info": {
   "codemirror_mode": {
    "name": "ipython",
    "version": 3
   },
   "file_extension": ".py",
   "mimetype": "text/x-python",
   "name": "python",
   "nbconvert_exporter": "python",
   "pygments_lexer": "ipython3",
   "version": "3.10.12"
  },
  "toc-showtags": false
 },
 "nbformat": 4,
 "nbformat_minor": 5
}
