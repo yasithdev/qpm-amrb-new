{
 "cells": [
  {
   "cell_type": "code",
   "execution_count": 1,
   "metadata": {},
   "outputs": [],
   "source": [
    "from itertools import product\n",
    "from typing import Any, Callable\n",
    "\n",
    "import numpy as np\n",
    "import pandas as pd\n",
    "import seaborn as sns\n",
    "from matplotlib import pyplot as plt\n",
    "from scipy.io import loadmat\n",
    "from scipy.spatial.distance import pdist\n",
    "from tqdm import tqdm"
   ]
  },
  {
   "cell_type": "code",
   "execution_count": 2,
   "metadata": {},
   "outputs": [
    {
     "name": "stdout",
     "output_type": "stream",
     "text": [
      "loaded data\n"
     ]
    }
   ],
   "source": [
    "data = {}\n",
    "loadmat(\"assets/labels_summary.mat\", data)\n",
    "loadmat(\"assets/results_summary.mat\", data)\n",
    "print(\"loaded data\")"
   ]
  },
  {
   "cell_type": "code",
   "execution_count": 3,
   "metadata": {},
   "outputs": [],
   "source": [
    "def mat_to_df(m):\n",
    "    mdtype = m.dtype\n",
    "    ndata = {}\n",
    "    for n in mdtype.names:\n",
    "        data = []\n",
    "        for x in m[n][0]:\n",
    "            try:\n",
    "                value = x[0].item()\n",
    "            except:\n",
    "                if len(x) == 1:\n",
    "                    value = x[0]\n",
    "                else:\n",
    "                    value = None\n",
    "            data.append(value)\n",
    "        ndata[n] = data\n",
    "    return pd.DataFrame({k: v for k, v in ndata.items() if k != \"index\"}, ndata[\"index\"])"
   ]
  },
  {
   "cell_type": "code",
   "execution_count": 4,
   "metadata": {},
   "outputs": [],
   "source": [
    "idx_dfm = [\"model_name\", \"dataset_name\", \"ood\"]\n",
    "idx_dfl = [\"dataset_name\", \"ood\"]\n",
    "\n",
    "dfl = mat_to_df(data[\"label\"])\n",
    "dfm_raw = mat_to_df(data[\"result\"])"
   ]
  },
  {
   "cell_type": "code",
   "execution_count": 5,
   "metadata": {},
   "outputs": [],
   "source": [
    "# flatten dataframe\n",
    "df_flat = dfm_raw.melt(id_vars=idx_dfm, var_name=\"metric\").copy()\n",
    "\n",
    "# rename fpi metrics and remove z_ prefix from their model_name\n",
    "query = df_flat.model_name.str.startswith(\"z_\")\n",
    "df_flat.loc[query, \"metric\"] = \"i_\" + df_flat.loc[query, \"metric\"]\n",
    "df_flat.loc[query, \"model_name\"] = df_flat.loc[query, \"model_name\"].str[2:]\n",
    "\n",
    "# recreate dfm-like structure\n",
    "dfm = df_flat.pivot(index=idx_dfm, columns=\"metric\", values=\"value\").reset_index()\n",
    "\n",
    "df_flat = df_flat.dropna()"
   ]
  },
  {
   "cell_type": "code",
   "execution_count": 6,
   "metadata": {},
   "outputs": [],
   "source": [
    "autoencoders = [\"resnet_mse\"]\n",
    "classifiers = [\"resnet50_vicreg_ce\"]\n",
    "classifiers_ae = [\"resnet_ce_mse\", \"resnet_edl_mse\"]\n",
    "flows = [\"flow_ss_vcr_mse\"]\n",
    "\n",
    "df_autoencoders = df_flat[df_flat.model_name.isin(autoencoders)]\n",
    "df_classifiers = df_flat[df_flat.model_name.isin(classifiers)]\n",
    "df_classifiers_ae = df_flat[df_flat.model_name.isin(classifiers_ae)]\n",
    "df_flows = df_flat[df_flat.model_name.isin(flows)]"
   ]
  },
  {
   "cell_type": "code",
   "execution_count": 7,
   "metadata": {},
   "outputs": [],
   "source": [
    "def permutation_test_2samp(sa: np.ndarray, sb: np.ndarray, stat: Callable, tail: str, n: int):\n",
    "    \"\"\"\n",
    "    Given two samples (sa, sb), compute the test statistic (stat) and approximate its p value through n permutations\n",
    "\n",
    "    Args:\n",
    "    sa: sample A\n",
    "    sb: sample B\n",
    "    stat: test statistic. invoked as f(sa, sb)\n",
    "    n: number of permutations\n",
    "\n",
    "    \"\"\"\n",
    "    op = lambda x: x(axis=0, keepdims=True)\n",
    "    svec = np.concatenate([sa, sb], axis=0)  # vectorize samples\n",
    "    svec = (svec - op(svec.mean)) / op(svec.std)  # vectorize samples\n",
    "    partition = [len(sa)]  # define partitions\n",
    "    rng = np.random.RandomState(42)\n",
    "\n",
    "    obs = stat(*np.split(svec, partition))  # compute statistic for true observation\n",
    "    stats = []\n",
    "    for i in range(n):  # compute statistic across n permutations\n",
    "        sp = rng.permutation(svec)\n",
    "        stats.append(stat(*np.split(sp, partition)))\n",
    "\n",
    "    # compute p value with\n",
    "    stats = np.array(stats)\n",
    "    if tail == \"left\":\n",
    "        c = (stats <= obs).sum()\n",
    "    elif tail == \"right\":\n",
    "        c = (stats >= obs).sum()\n",
    "    elif tail == \"both\":\n",
    "        aobs = abs(obs)\n",
    "        cl, cr = (stats <= -aobs).sum(), (stats >= aobs).sum()\n",
    "        c = 2 * min(cl, cr)\n",
    "    p = (c + 1) / (n + 1)  # +1 to count the true observation\n",
    "\n",
    "    # return statistic, p-value, and the n stats under the null\n",
    "    return obs, p, stats"
   ]
  },
  {
   "cell_type": "code",
   "execution_count": 8,
   "metadata": {},
   "outputs": [],
   "source": [
    "def mmd(x: np.ndarray, y: np.ndarray, **kwargs):\n",
    "    \"\"\"\n",
    "    Compute the mean of the difference of means\n",
    "\n",
    "    \"\"\"\n",
    "    return (x.mean(axis=0) - y.mean(axis=0)).mean()\n",
    "\n",
    "\n",
    "def auc(*s: np.ndarray):\n",
    "    sa, sb = s\n",
    "    na, nb = len(sa), len(sb)\n",
    "    S = np.concatenate([sa, sb], axis=0)\n",
    "\n",
    "    from sklearn.linear_model import LinearRegression\n",
    "    from sklearn.metrics import roc_auc_score\n",
    "\n",
    "    # find the optimal hyperplane which separates sa and sb\n",
    "    true = np.repeat([0, 1], [na, nb])\n",
    "    model = LinearRegression().fit(S, true)\n",
    "    pred = model.predict(S)\n",
    "\n",
    "    # compute auc of the predictions\n",
    "    auc = roc_auc_score(true, pred)\n",
    "\n",
    "    return max(auc, 1-auc)\n",
    "\n",
    "\n",
    "def mrpp(*s: np.ndarray, metric: Any = \"euclidean\", **kwargs):\n",
    "    \"\"\"\n",
    "    Compute the MRPP statistic for the given samples\n",
    "    Multi-Response Permutation Procedure\n",
    "\n",
    "    Idea - weighted sum of mean pairwise distance of each group\n",
    "    \"\"\"\n",
    "    sa, sb = s\n",
    "\n",
    "    # compute weights (wa, wb) and within-group pair counts (pa,pb)\n",
    "    na, nb = len(sa), len(sb)\n",
    "    n = na + nb\n",
    "    wa, wb = na / n, nb / n\n",
    "    assert wa + wb == 1.0\n",
    "\n",
    "    # compute mean L2 distance\n",
    "    da = pdist(sa, metric=metric).mean()\n",
    "    db = pdist(sb, metric=metric).mean()\n",
    "\n",
    "    # compute statistic\n",
    "    δ = da * wa + db * wb\n",
    "\n",
    "    return δ"
   ]
  },
  {
   "cell_type": "code",
   "execution_count": 9,
   "metadata": {},
   "outputs": [],
   "source": [
    "def get_metrics(dfm, dfl, model_name, dataset_name, ood):\n",
    "    # get ind and ood labels\n",
    "    rec = dfl[(dfl.dataset_name == dataset_name) & (dfl.ood == ood)].iloc[0]\n",
    "    ind_labels = ood_labels = []\n",
    "    if rec.ind_labels is not None:\n",
    "        ind_labels = rec.ind_labels\n",
    "    if rec.ood_labels is not None:\n",
    "        ood_labels = rec.ood_labels\n",
    "\n",
    "    # get ind and ood data\n",
    "    rec = dfm[(dfm.model_name == model_name) & (dfm.dataset_name == dataset_name) & (dfm.ood == ood)].iloc[0]\n",
    "    _ind_data = rec[rec.index.str.endswith(\"_ind_data\")].dropna()\n",
    "    _ind_cols = list(_ind_data.index.str[:-9])\n",
    "    _ind_data.index = _ind_cols\n",
    "    _ood_data = rec[rec.index.str.endswith(\"_ood_data\")].dropna()\n",
    "    _ood_cols = list(_ood_data.index.str[:-9])\n",
    "    _ood_data.index = _ood_cols\n",
    "    assert _ind_cols == _ood_cols\n",
    "\n",
    "    df_ind = pd.DataFrame({**_ind_data.to_dict(), \"label\": ind_labels})\n",
    "    df_ood = pd.DataFrame({**_ood_data.to_dict(), \"label\": ood_labels})\n",
    "\n",
    "    return _ind_cols, df_ind, df_ood"
   ]
  },
  {
   "cell_type": "code",
   "execution_count": 10,
   "metadata": {},
   "outputs": [],
   "source": [
    "def pairwise_hypothesis_test(dfm, dfl, model, dataset, ood, stat_name, sample_size, num_perms):\n",
    "    desc = f\"{model},{dataset}-{ood},{stat_name}\"\n",
    "    if stat_name == \"mrpp\":\n",
    "        stat, tail = mrpp, \"left\"\n",
    "    elif stat_name == \"mmd\":\n",
    "        stat, tail = mmd, \"both\"\n",
    "    elif stat_name == \"auc\":\n",
    "        stat, tail = auc, \"right\"\n",
    "    else:\n",
    "        raise ValueError(stat_name)\n",
    "    # get metric names and values\n",
    "    metrics, ind, ood = get_metrics(dfm, dfl, model, dataset, ood)\n",
    "    li, lo = np.unique(ind.label), np.unique(ood.label)\n",
    "    ni, no = len(li), len(lo)\n",
    "\n",
    "    L = np.concatenate([li, lo], axis=0).astype(int)\n",
    "    S = pd.concat([ind, ood], axis=0, ignore_index=True)\n",
    "\n",
    "    # compute normalizing hyperparameters\n",
    "    # FIXME precompute for each (model, dataset) from TRAIN data\n",
    "    S_arr = S[metrics].astype(float).to_numpy()\n",
    "    mu, sigma = S_arr.mean(axis=0, keepdims=True), S_arr.std(axis=0, keepdims=True)\n",
    "\n",
    "    # variables to store test results\n",
    "    δ = np.zeros((ni + no, ni))\n",
    "    P = np.zeros((ni + no, ni))\n",
    "    N = np.zeros((ni + no, ni, num_perms))\n",
    "\n",
    "    # compute (obs, p) for all label-label pairs\n",
    "    tests = list(product(range(ni + no), range(ni)))\n",
    "    for i, j in tqdm(tests, desc=desc):\n",
    "        sa = S.loc[S.label == L[i], metrics].astype(float).to_numpy()\n",
    "        sb = S.loc[S.label == L[j], metrics].astype(float).to_numpy()\n",
    "        if i == j:\n",
    "            assert len(sa) >= (2 * sample_size)\n",
    "        else:\n",
    "            assert len(sa) >= sample_size\n",
    "            assert len(sb) >= sample_size\n",
    "        # take a fixed sample from each observation\n",
    "        sa, sb = sa[:sample_size], sb[-sample_size:]\n",
    "        \n",
    "        # scale samples by hyperparameters\n",
    "        sa, sb = (sa - mu) / sigma , (sb - mu) / sigma\n",
    "        \n",
    "        δ[i, j], P[i, j], N[i, j] = permutation_test_2samp(sa, sb, stat=stat, tail=tail, n=num_perms)\n",
    "\n",
    "    # return δ and P as dataframes\n",
    "    δ = pd.DataFrame(data=δ, index=L, columns=L[:ni])\n",
    "    P = pd.DataFrame(data=P, index=L, columns=L[:ni])\n",
    "\n",
    "    return metrics, δ, P, N"
   ]
  },
  {
   "cell_type": "code",
   "execution_count": 11,
   "metadata": {},
   "outputs": [],
   "source": [
    "def infer_single_model(model: str, stat: str, sample_size: int, num_perms: int, basepath: str):\n",
    "    \n",
    "    import os\n",
    "    from matplotlib.colors import LogNorm\n",
    "\n",
    "    fig, axs = plt.subplots(nrows=2, ncols=8, figsize=(80, 15))\n",
    "    runs = [\n",
    "        (\"CIFAR10\", \"A\"),\n",
    "        (\"CIFAR10\", \"B\"),\n",
    "        (\"MNIST\", \"A\"),\n",
    "        (\"MNIST\", \"B\"),\n",
    "        (\"QPM_species\", \"A\"),\n",
    "        (\"QPM_species\", \"B\"),\n",
    "        (\"QPM2_species\", \"A\"),\n",
    "        (\"QPM2_species\", \"B\"),\n",
    "    ]\n",
    "    stats = {}\n",
    "    for i, (dataset, ood) in enumerate(runs):\n",
    "        m, δ, p, n = pairwise_hypothesis_test(dfm, dfl, model, dataset, ood, stat, sample_size, num_perms)\n",
    "        axa, axb = axs[0][i], axs[1][i]\n",
    "        sns.heatmap(δ, annot=True, fmt=\".3f\", ax=axa)\n",
    "        sns.heatmap(p, annot=True, fmt=\".3f\", ax=axb, norm=LogNorm(vmin=1/(num_perms+1), vmax=1.0))\n",
    "        axa.set_title(f\"δ_obs: {dataset}-{ood}\")\n",
    "        axa.set_xlabel(\"Test Label\")\n",
    "        axa.set_ylabel(\"Train Label\")\n",
    "        axb.set_title(f\"P(δ<=δ_obs|H0): {dataset}-{ood}\")\n",
    "        axb.set_xlabel(\"Test Label\")\n",
    "        axb.set_ylabel(\"Train Label\")\n",
    "        os.makedirs(f\"{basepath}/stats\", exist_ok=True)\n",
    "        np.savez_compressed(f\"{basepath}/stats/{model}_{stat}_{dataset}_{ood}.npz\", δ=δ.to_numpy(), p=p.to_numpy(), n=n)\n",
    "        stats[f\"{dataset}_{ood}\"] = {\"δ\": δ.to_dict(), \"p\": p.to_dict()}\n",
    "    plt.suptitle(f\"Test Statistic ({stat}) and P Value\\nModel={model}, Metrics={len(m)}\")\n",
    "    plt.tight_layout()\n",
    "    plt.savefig(f\"{basepath}/{model}_{stat}.pdf\")\n",
    "    plt.close()\n",
    "    return stats"
   ]
  },
  {
   "cell_type": "code",
   "execution_count": null,
   "metadata": {},
   "outputs": [
    {
     "name": "stdout",
     "output_type": "stream",
     "text": [
      "Experiment: resnet50_vicreg_ce_auc_s100_p1000\n"
     ]
    },
    {
     "name": "stderr",
     "output_type": "stream",
     "text": [
      "resnet50_vicreg_ce,CIFAR10-A,auc: 100%|██████████| 50/50 [01:07<00:00,  1.35s/it]\n",
      "resnet50_vicreg_ce,CIFAR10-B,auc: 100%|██████████| 50/50 [01:05<00:00,  1.31s/it]\n",
      "resnet50_vicreg_ce,MNIST-A,auc: 100%|██████████| 50/50 [01:03<00:00,  1.28s/it]\n",
      "resnet50_vicreg_ce,MNIST-B,auc: 100%|██████████| 50/50 [01:03<00:00,  1.27s/it]\n",
      "resnet50_vicreg_ce,QPM_species-A,auc: 100%|██████████| 378/378 [08:00<00:00,  1.27s/it]\n",
      "resnet50_vicreg_ce,QPM_species-B,auc: 100%|██████████| 63/63 [01:20<00:00,  1.28s/it]\n",
      "resnet50_vicreg_ce,QPM2_species-A,auc: 100%|██████████| 21/21 [00:26<00:00,  1.27s/it]\n",
      "resnet50_vicreg_ce,QPM2_species-B,auc: 100%|██████████| 28/28 [00:35<00:00,  1.27s/it]\n"
     ]
    },
    {
     "name": "stdout",
     "output_type": "stream",
     "text": [
      "Experiment: resnet50_vicreg_ce_mmd_s100_p1000\n"
     ]
    },
    {
     "name": "stderr",
     "output_type": "stream",
     "text": [
      "resnet50_vicreg_ce,CIFAR10-A,mmd: 100%|██████████| 50/50 [00:01<00:00, 27.35it/s]\n",
      "resnet50_vicreg_ce,CIFAR10-B,mmd: 100%|██████████| 50/50 [00:01<00:00, 27.20it/s]\n",
      "resnet50_vicreg_ce,MNIST-A,mmd: 100%|██████████| 50/50 [00:01<00:00, 27.71it/s]\n",
      "resnet50_vicreg_ce,MNIST-B,mmd: 100%|██████████| 50/50 [00:01<00:00, 27.23it/s]\n",
      "resnet50_vicreg_ce,QPM_species-A,mmd: 100%|██████████| 378/378 [00:13<00:00, 27.13it/s]\n",
      "resnet50_vicreg_ce,QPM_species-B,mmd: 100%|██████████| 63/63 [00:02<00:00, 27.50it/s]\n",
      "resnet50_vicreg_ce,QPM2_species-A,mmd: 100%|██████████| 21/21 [00:00<00:00, 26.76it/s]\n",
      "resnet50_vicreg_ce,QPM2_species-B,mmd: 100%|██████████| 28/28 [00:01<00:00, 27.13it/s]\n"
     ]
    },
    {
     "name": "stdout",
     "output_type": "stream",
     "text": [
      "Experiment: resnet50_vicreg_ce_mrpp_s100_p1000\n"
     ]
    },
    {
     "name": "stderr",
     "output_type": "stream",
     "text": [
      "resnet50_vicreg_ce,CIFAR10-A,mrpp: 100%|██████████| 50/50 [00:03<00:00, 16.13it/s]\n",
      "resnet50_vicreg_ce,CIFAR10-B,mrpp: 100%|██████████| 50/50 [00:03<00:00, 16.22it/s]\n",
      "resnet50_vicreg_ce,MNIST-A,mrpp: 100%|██████████| 50/50 [00:03<00:00, 16.17it/s]\n",
      "resnet50_vicreg_ce,MNIST-B,mrpp: 100%|██████████| 50/50 [00:03<00:00, 16.17it/s]\n",
      "resnet50_vicreg_ce,QPM_species-A,mrpp: 100%|██████████| 378/378 [00:23<00:00, 16.11it/s]\n",
      "resnet50_vicreg_ce,QPM_species-B,mrpp: 100%|██████████| 63/63 [00:03<00:00, 15.99it/s]\n",
      "resnet50_vicreg_ce,QPM2_species-A,mrpp: 100%|██████████| 21/21 [00:01<00:00, 16.07it/s]\n",
      "resnet50_vicreg_ce,QPM2_species-B,mrpp: 100%|██████████| 28/28 [00:01<00:00, 15.93it/s]\n"
     ]
    },
    {
     "name": "stdout",
     "output_type": "stream",
     "text": [
      "Experiment: resnet_ce_mse_auc_s100_p1000\n"
     ]
    },
    {
     "name": "stderr",
     "output_type": "stream",
     "text": [
      "resnet_ce_mse,CIFAR10-A,auc: 100%|██████████| 50/50 [01:12<00:00,  1.46s/it]\n",
      "resnet_ce_mse,CIFAR10-B,auc: 100%|██████████| 50/50 [01:12<00:00,  1.45s/it]\n",
      "resnet_ce_mse,MNIST-A,auc: 100%|██████████| 50/50 [01:12<00:00,  1.44s/it]\n",
      "resnet_ce_mse,MNIST-B,auc: 100%|██████████| 50/50 [01:12<00:00,  1.45s/it]\n",
      "resnet_ce_mse,QPM_species-A,auc: 100%|██████████| 378/378 [09:10<00:00,  1.46s/it]\n",
      "resnet_ce_mse,QPM_species-B,auc: 100%|██████████| 63/63 [01:30<00:00,  1.44s/it]\n",
      "resnet_ce_mse,QPM2_species-A,auc: 100%|██████████| 21/21 [00:30<00:00,  1.45s/it]\n",
      "resnet_ce_mse,QPM2_species-B,auc: 100%|██████████| 28/28 [00:40<00:00,  1.45s/it]\n"
     ]
    },
    {
     "name": "stdout",
     "output_type": "stream",
     "text": [
      "Experiment: resnet_ce_mse_mmd_s100_p1000\n"
     ]
    },
    {
     "name": "stderr",
     "output_type": "stream",
     "text": [
      "resnet_ce_mse,CIFAR10-A,mmd: 100%|██████████| 50/50 [00:02<00:00, 24.72it/s]\n",
      "resnet_ce_mse,CIFAR10-B,mmd: 100%|██████████| 50/50 [00:02<00:00, 24.71it/s]\n",
      "resnet_ce_mse,MNIST-A,mmd: 100%|██████████| 50/50 [00:02<00:00, 24.95it/s]\n",
      "resnet_ce_mse,MNIST-B,mmd: 100%|██████████| 50/50 [00:02<00:00, 24.74it/s]\n",
      "resnet_ce_mse,QPM_species-A,mmd: 100%|██████████| 378/378 [00:15<00:00, 24.73it/s]\n",
      "resnet_ce_mse,QPM_species-B,mmd: 100%|██████████| 63/63 [00:02<00:00, 24.92it/s]\n",
      "resnet_ce_mse,QPM2_species-A,mmd: 100%|██████████| 21/21 [00:00<00:00, 24.24it/s]\n",
      "resnet_ce_mse,QPM2_species-B,mmd: 100%|██████████| 28/28 [00:01<00:00, 24.13it/s]\n"
     ]
    },
    {
     "name": "stdout",
     "output_type": "stream",
     "text": [
      "Experiment: resnet_ce_mse_mrpp_s100_p1000\n"
     ]
    },
    {
     "name": "stderr",
     "output_type": "stream",
     "text": [
      "resnet_ce_mse,CIFAR10-A,mrpp: 100%|██████████| 50/50 [00:05<00:00,  8.34it/s]\n",
      "resnet_ce_mse,CIFAR10-B,mrpp: 100%|██████████| 50/50 [00:05<00:00,  8.34it/s]\n",
      "resnet_ce_mse,MNIST-A,mrpp: 100%|██████████| 50/50 [00:05<00:00,  8.38it/s]\n",
      "resnet_ce_mse,MNIST-B,mrpp: 100%|██████████| 50/50 [00:06<00:00,  8.31it/s]\n",
      "resnet_ce_mse,QPM_species-A,mrpp: 100%|██████████| 378/378 [00:45<00:00,  8.32it/s]\n",
      "resnet_ce_mse,QPM_species-B,mrpp: 100%|██████████| 63/63 [00:07<00:00,  8.33it/s]\n",
      "resnet_ce_mse,QPM2_species-A,mrpp: 100%|██████████| 21/21 [00:02<00:00,  8.18it/s]\n",
      "resnet_ce_mse,QPM2_species-B,mrpp: 100%|██████████| 28/28 [00:03<00:00,  8.18it/s]\n"
     ]
    },
    {
     "name": "stdout",
     "output_type": "stream",
     "text": [
      "Experiment: resnet_mse_auc_s100_p1000\n"
     ]
    },
    {
     "name": "stderr",
     "output_type": "stream",
     "text": [
      "resnet_mse,CIFAR10-A,auc: 100%|██████████| 50/50 [01:03<00:00,  1.27s/it]\n",
      "resnet_mse,CIFAR10-B,auc: 100%|██████████| 50/50 [01:03<00:00,  1.27s/it]\n",
      "resnet_mse,MNIST-A,auc: 100%|██████████| 50/50 [01:03<00:00,  1.27s/it]\n",
      "resnet_mse,MNIST-B,auc: 100%|██████████| 50/50 [01:03<00:00,  1.27s/it]\n",
      "resnet_mse,QPM_species-A,auc: 100%|██████████| 378/378 [07:59<00:00,  1.27s/it]\n",
      "resnet_mse,QPM_species-B,auc: 100%|██████████| 63/63 [01:20<00:00,  1.27s/it]\n",
      "resnet_mse,QPM2_species-A,auc: 100%|██████████| 21/21 [00:26<00:00,  1.28s/it]\n",
      "resnet_mse,QPM2_species-B,auc: 100%|██████████| 28/28 [00:35<00:00,  1.28s/it]\n"
     ]
    },
    {
     "name": "stdout",
     "output_type": "stream",
     "text": [
      "Experiment: resnet_mse_mmd_s100_p1000\n"
     ]
    },
    {
     "name": "stderr",
     "output_type": "stream",
     "text": [
      "resnet_mse,CIFAR10-A,mmd: 100%|██████████| 50/50 [00:01<00:00, 27.30it/s]\n",
      "resnet_mse,CIFAR10-B,mmd: 100%|██████████| 50/50 [00:01<00:00, 27.47it/s]\n",
      "resnet_mse,MNIST-A,mmd: 100%|██████████| 50/50 [00:01<00:00, 27.49it/s]\n",
      "resnet_mse,MNIST-B,mmd: 100%|██████████| 50/50 [00:01<00:00, 27.35it/s]\n",
      "resnet_mse,QPM_species-A,mmd: 100%|██████████| 378/378 [00:13<00:00, 27.22it/s]\n",
      "resnet_mse,QPM_species-B,mmd: 100%|██████████| 63/63 [00:02<00:00, 27.20it/s]\n",
      "resnet_mse,QPM2_species-A,mmd: 100%|██████████| 21/21 [00:00<00:00, 26.97it/s]\n",
      "resnet_mse,QPM2_species-B,mmd: 100%|██████████| 28/28 [00:01<00:00, 26.77it/s]\n"
     ]
    },
    {
     "name": "stdout",
     "output_type": "stream",
     "text": [
      "Experiment: resnet_mse_mrpp_s100_p1000\n"
     ]
    },
    {
     "name": "stderr",
     "output_type": "stream",
     "text": [
      "resnet_mse,CIFAR10-A,mrpp: 100%|██████████| 50/50 [00:03<00:00, 16.14it/s]\n",
      "resnet_mse,CIFAR10-B,mrpp: 100%|██████████| 50/50 [00:03<00:00, 16.11it/s]\n",
      "resnet_mse,MNIST-A,mrpp: 100%|██████████| 50/50 [00:03<00:00, 16.10it/s]\n",
      "resnet_mse,MNIST-B,mrpp: 100%|██████████| 50/50 [00:03<00:00, 15.90it/s]\n",
      "resnet_mse,QPM_species-A,mrpp: 100%|██████████| 378/378 [00:23<00:00, 16.05it/s]\n",
      "resnet_mse,QPM_species-B,mrpp: 100%|██████████| 63/63 [00:03<00:00, 16.21it/s]\n",
      "resnet_mse,QPM2_species-A,mrpp: 100%|██████████| 21/21 [00:01<00:00, 16.00it/s]\n",
      "resnet_mse,QPM2_species-B,mrpp: 100%|██████████| 28/28 [00:01<00:00, 15.93it/s]\n"
     ]
    },
    {
     "name": "stdout",
     "output_type": "stream",
     "text": [
      "Experiment: resnet50_vicreg_ce_auc_s200_p1000\n"
     ]
    },
    {
     "name": "stderr",
     "output_type": "stream",
     "text": [
      "resnet50_vicreg_ce,CIFAR10-A,auc: 100%|██████████| 50/50 [01:07<00:00,  1.34s/it]\n",
      "resnet50_vicreg_ce,CIFAR10-B,auc: 100%|██████████| 50/50 [01:06<00:00,  1.33s/it]\n",
      "resnet50_vicreg_ce,MNIST-A,auc: 100%|██████████| 50/50 [01:06<00:00,  1.34s/it]\n",
      "resnet50_vicreg_ce,MNIST-B,auc: 100%|██████████| 50/50 [01:06<00:00,  1.32s/it]\n",
      "resnet50_vicreg_ce,QPM_species-A,auc: 100%|██████████| 378/378 [08:24<00:00,  1.34s/it]\n",
      "resnet50_vicreg_ce,QPM_species-B,auc: 100%|██████████| 63/63 [01:23<00:00,  1.33s/it]\n",
      "resnet50_vicreg_ce,QPM2_species-A,auc: 100%|██████████| 21/21 [00:27<00:00,  1.33s/it]\n",
      "resnet50_vicreg_ce,QPM2_species-B,auc: 100%|██████████| 28/28 [00:37<00:00,  1.33s/it]\n"
     ]
    },
    {
     "name": "stdout",
     "output_type": "stream",
     "text": [
      "Experiment: resnet50_vicreg_ce_mmd_s200_p1000\n"
     ]
    },
    {
     "name": "stderr",
     "output_type": "stream",
     "text": [
      "resnet50_vicreg_ce,CIFAR10-A,mmd: 100%|██████████| 50/50 [00:02<00:00, 22.70it/s]\n",
      "resnet50_vicreg_ce,CIFAR10-B,mmd: 100%|██████████| 50/50 [00:02<00:00, 22.76it/s]\n",
      "resnet50_vicreg_ce,MNIST-A,mmd: 100%|██████████| 50/50 [00:02<00:00, 22.85it/s]\n",
      "resnet50_vicreg_ce,MNIST-B,mmd: 100%|██████████| 50/50 [00:02<00:00, 22.87it/s]\n",
      "resnet50_vicreg_ce,QPM_species-A,mmd: 100%|██████████| 378/378 [00:16<00:00, 22.61it/s]\n",
      "resnet50_vicreg_ce,QPM_species-B,mmd: 100%|██████████| 63/63 [00:02<00:00, 22.63it/s]\n",
      "resnet50_vicreg_ce,QPM2_species-A,mmd: 100%|██████████| 21/21 [00:00<00:00, 22.53it/s]\n",
      "resnet50_vicreg_ce,QPM2_species-B,mmd: 100%|██████████| 28/28 [00:01<00:00, 22.51it/s]\n"
     ]
    },
    {
     "name": "stdout",
     "output_type": "stream",
     "text": [
      "Experiment: resnet50_vicreg_ce_mrpp_s200_p1000\n"
     ]
    },
    {
     "name": "stderr",
     "output_type": "stream",
     "text": [
      "resnet50_vicreg_ce,CIFAR10-A,mrpp: 100%|██████████| 50/50 [00:07<00:00,  6.34it/s]\n",
      "resnet50_vicreg_ce,CIFAR10-B,mrpp: 100%|██████████| 50/50 [00:07<00:00,  6.34it/s]\n",
      "resnet50_vicreg_ce,MNIST-A,mrpp: 100%|██████████| 50/50 [00:07<00:00,  6.32it/s]\n",
      "resnet50_vicreg_ce,MNIST-B,mrpp: 100%|██████████| 50/50 [00:07<00:00,  6.33it/s]\n",
      "resnet50_vicreg_ce,QPM_species-A,mrpp: 100%|██████████| 378/378 [00:59<00:00,  6.31it/s]\n",
      "resnet50_vicreg_ce,QPM_species-B,mrpp: 100%|██████████| 63/63 [00:09<00:00,  6.36it/s]\n",
      "resnet50_vicreg_ce,QPM2_species-A,mrpp: 100%|██████████| 21/21 [00:03<00:00,  6.32it/s]\n",
      "resnet50_vicreg_ce,QPM2_species-B,mrpp: 100%|██████████| 28/28 [00:04<00:00,  6.30it/s]\n"
     ]
    },
    {
     "name": "stdout",
     "output_type": "stream",
     "text": [
      "Experiment: resnet_ce_mse_auc_s200_p1000\n"
     ]
    },
    {
     "name": "stderr",
     "output_type": "stream",
     "text": [
      "resnet_ce_mse,CIFAR10-A,auc: 100%|██████████| 50/50 [01:19<00:00,  1.59s/it]\n",
      "resnet_ce_mse,CIFAR10-B,auc: 100%|██████████| 50/50 [01:20<00:00,  1.61s/it]\n",
      "resnet_ce_mse,MNIST-A,auc: 100%|██████████| 50/50 [01:19<00:00,  1.59s/it]\n",
      "resnet_ce_mse,MNIST-B,auc: 100%|██████████| 50/50 [01:19<00:00,  1.59s/it]\n",
      "resnet_ce_mse,QPM_species-A,auc:  32%|███▏      | 120/378 [03:12<06:54,  1.61s/it]"
     ]
    }
   ],
   "source": [
    "import json\n",
    "\n",
    "# save test stats\n",
    "test_stats = {}\n",
    "\n",
    "perm_counts = [1000, 2000]\n",
    "sample_sizes = [100, 200, 300]\n",
    "model_names = [\"resnet50_vicreg_ce\", \"resnet_ce_mse\", \"resnet_mse\"]\n",
    "stat_names = [\"auc\", \"mmd\", \"mrpp\"]\n",
    "\n",
    "basepath = f\"tests_v4\"\n",
    "\n",
    "for num_perms in perm_counts:\n",
    "    for sample_size in sample_sizes:\n",
    "        for model_name in model_names:\n",
    "            for stat_name in stat_names:\n",
    "                print(f\"Experiment: {model_name}_{stat_name}_s{sample_size}_p{num_perms}\")\n",
    "                fp = f\"{basepath}/s{sample_size}/p{num_perms}\"\n",
    "                stats = infer_single_model(model_name, stat_name, sample_size, num_perms, fp)\n",
    "                test_stats[f\"{model_name}_{stat_name}_s{sample_size}_p{num_perms}\"] = stats\n",
    "\n",
    "with open(f\"{basepath}/summary.json\", \"w\") as f:\n",
    "    json.dump(test_stats, f)"
   ]
  },
  {
   "cell_type": "code",
   "execution_count": null,
   "metadata": {},
   "outputs": [],
   "source": []
  }
 ],
 "metadata": {
  "kernelspec": {
   "display_name": "qpm-amrb",
   "language": "python",
   "name": "qpm-amrb"
  },
  "language_info": {
   "codemirror_mode": {
    "name": "ipython",
    "version": 3
   },
   "file_extension": ".py",
   "mimetype": "text/x-python",
   "name": "python",
   "nbconvert_exporter": "python",
   "pygments_lexer": "ipython3",
   "version": "3.10.13"
  }
 },
 "nbformat": 4,
 "nbformat_minor": 4
}
