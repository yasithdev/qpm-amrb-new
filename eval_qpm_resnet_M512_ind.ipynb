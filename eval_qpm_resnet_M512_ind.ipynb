{
 "cells": [
  {
   "cell_type": "code",
   "execution_count": 1,
   "id": "65170af1-f93c-47d0-8314-5f7d6a8f26de",
   "metadata": {},
   "outputs": [
    {
     "name": "stdout",
     "output_type": "stream",
     "text": [
      "env: DATA_DIR=$HOME/datasets\n",
      "env: EXPERIMENT_BASE=$HOME/experiments/ood_flows\n",
      "env: LOG_LEVEL=INFO\n",
      "env: BATCH_SIZE=64\n",
      "env: OPTIM_LR=0.001\n",
      "env: OPTIM_M=0.8\n",
      "env: TRAIN_EPOCHS=100\n",
      "env: EXC_RESUME=1\n",
      "env: DATASET_NAME=QPM_species\n",
      "env: MANIFOLD_D=512\n",
      "env: MODEL_NAME=resnet\n"
     ]
    }
   ],
   "source": [
    "%env DATA_DIR=$HOME/datasets\n",
    "%env EXPERIMENT_BASE=$HOME/experiments/ood_flows\n",
    "%env LOG_LEVEL=INFO\n",
    "%env BATCH_SIZE=64\n",
    "%env OPTIM_LR=0.001\n",
    "%env OPTIM_M=0.8\n",
    "%env TRAIN_EPOCHS=100\n",
    "%env EXC_RESUME=1\n",
    "%env DATASET_NAME=QPM_species\n",
    "%env MANIFOLD_D=512\n",
    "%env MODEL_NAME=resnet"
   ]
  },
  {
   "cell_type": "code",
   "execution_count": 2,
   "id": "8deaa0b2-f1b8-4260-93ac-a5200671e71a",
   "metadata": {},
   "outputs": [],
   "source": [
    "import lightning.pytorch as pl\n",
    "import numpy as np\n",
    "import torch\n",
    "from lightning.pytorch.callbacks import ModelCheckpoint\n",
    "from lightning.pytorch.loggers.wandb import WandbLogger\n",
    "\n",
    "from config import Config, load_config\n",
    "from datasets import get_data\n",
    "from models import get_model"
   ]
  },
  {
   "cell_type": "code",
   "execution_count": 3,
   "id": "b98946be-7579-4abc-a46d-64004a8b8a10",
   "metadata": {},
   "outputs": [],
   "source": [
    "# initialize the RNG deterministically\n",
    "np.random.seed(42)\n",
    "torch.manual_seed(42)\n",
    "torch.set_float32_matmul_precision('medium')\n",
    "\n",
    "config = load_config()\n",
    "\n",
    "# initialize data attributes and loaders\n",
    "get_data(config)\n",
    "config.print_labels()\n",
    "\n",
    "assert config.datamodule\n",
    "model = get_model(config)"
   ]
  },
  {
   "cell_type": "code",
   "execution_count": 4,
   "id": "447115d8-a12b-499e-8753-41233af48c5b",
   "metadata": {},
   "outputs": [
    {
     "name": "stdout",
     "output_type": "stream",
     "text": [
      "Dataset type train label type: species\n",
      "Loaded 375443 images\n",
      "Dataset type val label type: species\n",
      "Loaded 48562 images\n",
      "Dataset type test label type: species\n",
      "Loaded 48790 images\n",
      "Performing ind/ood split\n"
     ]
    },
    {
     "name": "stderr",
     "output_type": "stream",
     "text": [
      "100%|██████████| 375443/375443 [00:00<00:00, 1753593.92it/s]\n"
     ]
    },
    {
     "name": "stdout",
     "output_type": "stream",
     "text": [
      "Train - OK\n"
     ]
    },
    {
     "name": "stderr",
     "output_type": "stream",
     "text": [
      "100%|██████████| 48562/48562 [00:00<00:00, 1645982.83it/s]\n"
     ]
    },
    {
     "name": "stdout",
     "output_type": "stream",
     "text": [
      "Val - OK\n"
     ]
    },
    {
     "name": "stderr",
     "output_type": "stream",
     "text": [
      "100%|██████████| 48790/48790 [00:00<00:00, 1629183.36it/s]"
     ]
    },
    {
     "name": "stdout",
     "output_type": "stream",
     "text": [
      "Test - OK\n",
      "Performed ind/ood split\n",
      "375443 48562 48790 0\n"
     ]
    },
    {
     "name": "stderr",
     "output_type": "stream",
     "text": [
      "\n"
     ]
    }
   ],
   "source": [
    "assert config.datamodule\n",
    "config.datamodule.setup(\"train\")\n",
    "config.datamodule.setup(\"val\")\n",
    "config.datamodule.setup(\"test\")"
   ]
  },
  {
   "cell_type": "code",
   "execution_count": 5,
   "id": "e2d03d9a-cb33-4ace-9e4a-e2d4b0dbe94f",
   "metadata": {},
   "outputs": [],
   "source": [
    "train_loader = config.datamodule.train_dataloader()\n",
    "val_loader = config.datamodule.val_dataloader()\n",
    "test_loader = config.datamodule.test_dataloader()"
   ]
  },
  {
   "cell_type": "code",
   "execution_count": 16,
   "id": "5ef2017e-b03e-4a5e-ab7a-08108ad0a70d",
   "metadata": {},
   "outputs": [
    {
     "name": "stderr",
     "output_type": "stream",
     "text": [
      "  0%|          | 0/763 [00:00<?, ?it/s]"
     ]
    },
    {
     "name": "stdout",
     "output_type": "stream",
     "text": [
      "torch.Size([64, 60, 60, 1]) torch.Size([64])\n"
     ]
    },
    {
     "name": "stderr",
     "output_type": "stream",
     "text": [
      "\n"
     ]
    }
   ],
   "source": [
    "from models.common import edl_probs\n",
    "from tqdm import tqdm\n",
    "\n",
    "# accuracy.reset()\n",
    "# classifier_loss = \"edl\"\n",
    "for batch_idx, batch in enumerate(tqdm(test_loader)):\n",
    "    x, y = batch\n",
    "    print(x.size(), y.size())\n",
    "    break"
   ]
  },
  {
   "cell_type": "code",
   "execution_count": null,
   "id": "ec766110-7e55-4d34-b8f9-6956b7f64865",
   "metadata": {},
   "outputs": [],
   "source": []
  }
 ],
 "metadata": {
  "kernelspec": {
   "display_name": "Python [conda env:.conda-qpm-amrb]",
   "language": "python",
   "name": "conda-env-.conda-qpm-amrb-py"
  },
  "language_info": {
   "codemirror_mode": {
    "name": "ipython",
    "version": 3
   },
   "file_extension": ".py",
   "mimetype": "text/x-python",
   "name": "python",
   "nbconvert_exporter": "python",
   "pygments_lexer": "ipython3",
   "version": "3.10.12"
  },
  "toc-showtags": false
 },
 "nbformat": 4,
 "nbformat_minor": 5
}
